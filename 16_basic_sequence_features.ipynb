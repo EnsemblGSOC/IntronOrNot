{
 "cells": [
  {
   "cell_type": "code",
   "execution_count": 1,
   "metadata": {
    "collapsed": true
   },
   "outputs": [],
   "source": [
    "import pandas as pd"
   ]
  },
  {
   "cell_type": "code",
   "execution_count": 2,
   "outputs": [
    {
     "data": {
      "text/plain": "         chr     start       end strand  class  recount3_score  \\\n0       chr1     12227     12612      +      1           59151   \n1       chr1     12721     13220      +      1           61021   \n2       chr1     12057     12178      +      1               0   \n3       chr1     12697     12974      +      1              21   \n4       chr1     13052     13220      +      1             526   \n...      ...       ...       ...    ...    ...             ...   \n519029  chrY  25464577  25465486      +      0               0   \n519030  chrY  25513173  25513588      -      0           31374   \n519031  chrY  25513745  25516715      -      0              67   \n519032  chrY  25525288  25527646      -      0           18958   \n519033  chrY  57213357  57213855      -      0               0   \n\n        antisense_exon_start_ss  antisense_exon_end_ss  \\\n0                         False                  False   \n1                         False                  False   \n2                         False                  False   \n3                         False                  False   \n4                         False                  False   \n...                         ...                    ...   \n519029                    False                  False   \n519030                    False                  False   \n519031                    False                  False   \n519032                    False                  False   \n519033                    False                  False   \n\n                                      maxentscan_sequence start_ss  ...  \\\n0       ccaGTAAGTAGTGCTTGTGCTCATCTCCTTGGCTGTGATACGTGGC...       GT  ...   \n1       gagGTGAGAGGAGAGTAGACAGTGAGTGGGAGTGGCGTCGCCCCTA...       GT  ...   \n2       gagCACTGGAGTGGAGTTTTCCTGTGGAGAGGAGCCATGCCTAGAG...       CA  ...   \n3       cttGTGAGTGTCCCCAGTGTTGCAGAGGTGAGAGGAGAGTAGACAG...       GT  ...   \n4       tagGCAAGCCTGGCTGCCTCCAGCTGGGTCGACAGACAGGGGCTGG...       GC  ...   \n...                                                   ...      ...  ...   \n519029  cacGTTGAGGCGCCCAGTGGCGGCCTCACGGGGCAGGGCGAGGGCG...       GT  ...   \n519030  aggGTAAGATCAGTGCTATTGTCAGAGGAAAAACTCCTGGCCATCA...       GT  ...   \n519031  gctGTAAGTTCCACATTGATTATCATAGGCTAACCATGGGCCAGGC...       GT  ...   \n519032  tgtGTGTATAAATATCTGGACTTTTTGGTTAAGTAATTATAGTTAA...       GT  ...   \n519033  gagGTGAGAGGAGAGTAGACAGTGAGTGGGAGTGGCGTCGCCCCTA...       GT  ...   \n\n       repeat_features_end_site_Type I Transposons/SINE  \\\n0                                                     0   \n1                                                     0   \n2                                                     0   \n3                                                     0   \n4                                                     0   \n...                                                 ...   \n519029                                                0   \n519030                                                0   \n519031                                                0   \n519032                                                0   \n519033                                                0   \n\n        repeat_features_end_site_RNA repeats  \\\n0                                          0   \n1                                          0   \n2                                          0   \n3                                          0   \n4                                          0   \n...                                      ...   \n519029                                     0   \n519030                                     0   \n519031                                     0   \n519032                                     0   \n519033                                     0   \n\n        repeat_features_end_site_Unknown  \\\n0                                      0   \n1                                      0   \n2                                      0   \n3                                      0   \n4                                      0   \n...                                  ...   \n519029                                 0   \n519030                                 0   \n519031                                 0   \n519032                                 0   \n519033                                 0   \n\n       repeat_features_end_site_Low complexity regions  \\\n0                                                    0   \n1                                                    0   \n2                                                    0   \n3                                                    0   \n4                                                    0   \n...                                                ...   \n519029                                               0   \n519030                                               0   \n519031                                               0   \n519032                                               0   \n519033                                               0   \n\n       repeat_features_end_site_Type I Transposons/LINE  \\\n0                                                     0   \n1                                                     0   \n2                                                     0   \n3                                                     0   \n4                                                     0   \n...                                                 ...   \n519029                                                0   \n519030                                                0   \n519031                                                0   \n519032                                                0   \n519033                                                0   \n\n        repeat_features_end_site_Centromere  repeat_features_end_site_Dust  \\\n0                                         0                              0   \n1                                         0                              0   \n2                                         0                              0   \n3                                         0                              0   \n4                                         0                              0   \n...                                     ...                            ...   \n519029                                    0                              0   \n519030                                    0                              0   \n519031                                    0                              0   \n519032                                    0                              0   \n519033                                    0                              0   \n\n       repeat_features_end_site_Satellite repeats  \\\n0                                               0   \n1                                               0   \n2                                               0   \n3                                               0   \n4                                               0   \n...                                           ...   \n519029                                          0   \n519030                                          0   \n519031                                          0   \n519032                                          0   \n519033                                          0   \n\n        repeat_features_end_site_Tandem repeats  repeat_features_end_site_LTRs  \n0                                             0                              0  \n1                                             0                              0  \n2                                             0                              0  \n3                                             0                              0  \n4                                             0                              0  \n...                                         ...                            ...  \n519029                                        0                              0  \n519030                                        0                              0  \n519031                                        0                              0  \n519032                                        0                              0  \n519033                                        0                              0  \n\n[519034 rows x 57 columns]",
      "text/html": "<div>\n<style scoped>\n    .dataframe tbody tr th:only-of-type {\n        vertical-align: middle;\n    }\n\n    .dataframe tbody tr th {\n        vertical-align: top;\n    }\n\n    .dataframe thead th {\n        text-align: right;\n    }\n</style>\n<table border=\"1\" class=\"dataframe\">\n  <thead>\n    <tr style=\"text-align: right;\">\n      <th></th>\n      <th>chr</th>\n      <th>start</th>\n      <th>end</th>\n      <th>strand</th>\n      <th>class</th>\n      <th>recount3_score</th>\n      <th>antisense_exon_start_ss</th>\n      <th>antisense_exon_end_ss</th>\n      <th>maxentscan_sequence</th>\n      <th>start_ss</th>\n      <th>...</th>\n      <th>repeat_features_end_site_Type I Transposons/SINE</th>\n      <th>repeat_features_end_site_RNA repeats</th>\n      <th>repeat_features_end_site_Unknown</th>\n      <th>repeat_features_end_site_Low complexity regions</th>\n      <th>repeat_features_end_site_Type I Transposons/LINE</th>\n      <th>repeat_features_end_site_Centromere</th>\n      <th>repeat_features_end_site_Dust</th>\n      <th>repeat_features_end_site_Satellite repeats</th>\n      <th>repeat_features_end_site_Tandem repeats</th>\n      <th>repeat_features_end_site_LTRs</th>\n    </tr>\n  </thead>\n  <tbody>\n    <tr>\n      <th>0</th>\n      <td>chr1</td>\n      <td>12227</td>\n      <td>12612</td>\n      <td>+</td>\n      <td>1</td>\n      <td>59151</td>\n      <td>False</td>\n      <td>False</td>\n      <td>ccaGTAAGTAGTGCTTGTGCTCATCTCCTTGGCTGTGATACGTGGC...</td>\n      <td>GT</td>\n      <td>...</td>\n      <td>0</td>\n      <td>0</td>\n      <td>0</td>\n      <td>0</td>\n      <td>0</td>\n      <td>0</td>\n      <td>0</td>\n      <td>0</td>\n      <td>0</td>\n      <td>0</td>\n    </tr>\n    <tr>\n      <th>1</th>\n      <td>chr1</td>\n      <td>12721</td>\n      <td>13220</td>\n      <td>+</td>\n      <td>1</td>\n      <td>61021</td>\n      <td>False</td>\n      <td>False</td>\n      <td>gagGTGAGAGGAGAGTAGACAGTGAGTGGGAGTGGCGTCGCCCCTA...</td>\n      <td>GT</td>\n      <td>...</td>\n      <td>0</td>\n      <td>0</td>\n      <td>0</td>\n      <td>0</td>\n      <td>0</td>\n      <td>0</td>\n      <td>0</td>\n      <td>0</td>\n      <td>0</td>\n      <td>0</td>\n    </tr>\n    <tr>\n      <th>2</th>\n      <td>chr1</td>\n      <td>12057</td>\n      <td>12178</td>\n      <td>+</td>\n      <td>1</td>\n      <td>0</td>\n      <td>False</td>\n      <td>False</td>\n      <td>gagCACTGGAGTGGAGTTTTCCTGTGGAGAGGAGCCATGCCTAGAG...</td>\n      <td>CA</td>\n      <td>...</td>\n      <td>0</td>\n      <td>0</td>\n      <td>0</td>\n      <td>0</td>\n      <td>0</td>\n      <td>0</td>\n      <td>0</td>\n      <td>0</td>\n      <td>0</td>\n      <td>0</td>\n    </tr>\n    <tr>\n      <th>3</th>\n      <td>chr1</td>\n      <td>12697</td>\n      <td>12974</td>\n      <td>+</td>\n      <td>1</td>\n      <td>21</td>\n      <td>False</td>\n      <td>False</td>\n      <td>cttGTGAGTGTCCCCAGTGTTGCAGAGGTGAGAGGAGAGTAGACAG...</td>\n      <td>GT</td>\n      <td>...</td>\n      <td>0</td>\n      <td>0</td>\n      <td>0</td>\n      <td>0</td>\n      <td>0</td>\n      <td>0</td>\n      <td>0</td>\n      <td>0</td>\n      <td>0</td>\n      <td>0</td>\n    </tr>\n    <tr>\n      <th>4</th>\n      <td>chr1</td>\n      <td>13052</td>\n      <td>13220</td>\n      <td>+</td>\n      <td>1</td>\n      <td>526</td>\n      <td>False</td>\n      <td>False</td>\n      <td>tagGCAAGCCTGGCTGCCTCCAGCTGGGTCGACAGACAGGGGCTGG...</td>\n      <td>GC</td>\n      <td>...</td>\n      <td>0</td>\n      <td>0</td>\n      <td>0</td>\n      <td>0</td>\n      <td>0</td>\n      <td>0</td>\n      <td>0</td>\n      <td>0</td>\n      <td>0</td>\n      <td>0</td>\n    </tr>\n    <tr>\n      <th>...</th>\n      <td>...</td>\n      <td>...</td>\n      <td>...</td>\n      <td>...</td>\n      <td>...</td>\n      <td>...</td>\n      <td>...</td>\n      <td>...</td>\n      <td>...</td>\n      <td>...</td>\n      <td>...</td>\n      <td>...</td>\n      <td>...</td>\n      <td>...</td>\n      <td>...</td>\n      <td>...</td>\n      <td>...</td>\n      <td>...</td>\n      <td>...</td>\n      <td>...</td>\n      <td>...</td>\n    </tr>\n    <tr>\n      <th>519029</th>\n      <td>chrY</td>\n      <td>25464577</td>\n      <td>25465486</td>\n      <td>+</td>\n      <td>0</td>\n      <td>0</td>\n      <td>False</td>\n      <td>False</td>\n      <td>cacGTTGAGGCGCCCAGTGGCGGCCTCACGGGGCAGGGCGAGGGCG...</td>\n      <td>GT</td>\n      <td>...</td>\n      <td>0</td>\n      <td>0</td>\n      <td>0</td>\n      <td>0</td>\n      <td>0</td>\n      <td>0</td>\n      <td>0</td>\n      <td>0</td>\n      <td>0</td>\n      <td>0</td>\n    </tr>\n    <tr>\n      <th>519030</th>\n      <td>chrY</td>\n      <td>25513173</td>\n      <td>25513588</td>\n      <td>-</td>\n      <td>0</td>\n      <td>31374</td>\n      <td>False</td>\n      <td>False</td>\n      <td>aggGTAAGATCAGTGCTATTGTCAGAGGAAAAACTCCTGGCCATCA...</td>\n      <td>GT</td>\n      <td>...</td>\n      <td>0</td>\n      <td>0</td>\n      <td>0</td>\n      <td>0</td>\n      <td>0</td>\n      <td>0</td>\n      <td>0</td>\n      <td>0</td>\n      <td>0</td>\n      <td>0</td>\n    </tr>\n    <tr>\n      <th>519031</th>\n      <td>chrY</td>\n      <td>25513745</td>\n      <td>25516715</td>\n      <td>-</td>\n      <td>0</td>\n      <td>67</td>\n      <td>False</td>\n      <td>False</td>\n      <td>gctGTAAGTTCCACATTGATTATCATAGGCTAACCATGGGCCAGGC...</td>\n      <td>GT</td>\n      <td>...</td>\n      <td>0</td>\n      <td>0</td>\n      <td>0</td>\n      <td>0</td>\n      <td>0</td>\n      <td>0</td>\n      <td>0</td>\n      <td>0</td>\n      <td>0</td>\n      <td>0</td>\n    </tr>\n    <tr>\n      <th>519032</th>\n      <td>chrY</td>\n      <td>25525288</td>\n      <td>25527646</td>\n      <td>-</td>\n      <td>0</td>\n      <td>18958</td>\n      <td>False</td>\n      <td>False</td>\n      <td>tgtGTGTATAAATATCTGGACTTTTTGGTTAAGTAATTATAGTTAA...</td>\n      <td>GT</td>\n      <td>...</td>\n      <td>0</td>\n      <td>0</td>\n      <td>0</td>\n      <td>0</td>\n      <td>0</td>\n      <td>0</td>\n      <td>0</td>\n      <td>0</td>\n      <td>0</td>\n      <td>0</td>\n    </tr>\n    <tr>\n      <th>519033</th>\n      <td>chrY</td>\n      <td>57213357</td>\n      <td>57213855</td>\n      <td>-</td>\n      <td>0</td>\n      <td>0</td>\n      <td>False</td>\n      <td>False</td>\n      <td>gagGTGAGAGGAGAGTAGACAGTGAGTGGGAGTGGCGTCGCCCCTA...</td>\n      <td>GT</td>\n      <td>...</td>\n      <td>0</td>\n      <td>0</td>\n      <td>0</td>\n      <td>0</td>\n      <td>0</td>\n      <td>0</td>\n      <td>0</td>\n      <td>0</td>\n      <td>0</td>\n      <td>0</td>\n    </tr>\n  </tbody>\n</table>\n<p>519034 rows × 57 columns</p>\n</div>"
     },
     "execution_count": 2,
     "metadata": {},
     "output_type": "execute_result"
    }
   ],
   "source": [
    "df_merged = pd.read_csv(\"data/15_trainset_populated.tsv\", sep=\"\\t\")\n",
    "df_merged"
   ],
   "metadata": {
    "collapsed": false
   }
  },
  {
   "cell_type": "code",
   "execution_count": 3,
   "outputs": [],
   "source": [
    "df_merged[\"sequence\"] = df_merged.maxentscan_sequence.str[3:-3]"
   ],
   "metadata": {
    "collapsed": false
   }
  },
  {
   "cell_type": "code",
   "execution_count": 4,
   "outputs": [],
   "source": [
    "def calculate_gc_content(sequence):\n",
    "    return (sequence.count('G') + sequence.count('C')) / len(sequence)\n",
    "\n",
    "df_merged[\"GC_content\"] = df_merged[\"sequence\"].apply(calculate_gc_content)"
   ],
   "metadata": {
    "collapsed": false
   }
  },
  {
   "cell_type": "code",
   "execution_count": 5,
   "outputs": [],
   "source": [
    "def calculate_cpg_island(sequence):\n",
    "    c_count = sequence.count('C')\n",
    "    g_count = sequence.count('G')\n",
    "    cg_count = sequence.count('CG')\n",
    "    total_count = len(sequence)\n",
    "\n",
    "    try:\n",
    "        cpg_ratio = (cg_count * total_count) / (c_count * g_count)\n",
    "        gc_content = (c_count + g_count) / total_count\n",
    "    except ZeroDivisionError:\n",
    "        # handle sequences with no 'C' or 'G' nucleotides\n",
    "        cpg_ratio = 0\n",
    "        gc_content = 0\n",
    "\n",
    "    return cpg_ratio > 0.6 and gc_content > 0.5\n",
    "\n",
    "df_merged[\"CpG_island\"] = df_merged[\"sequence\"].apply(calculate_cpg_island)"
   ],
   "metadata": {
    "collapsed": false
   }
  },
  {
   "cell_type": "code",
   "execution_count": 6,
   "outputs": [],
   "source": [
    "def calculate_intron_length(row):\n",
    "    return row.end - row.start\n",
    "\n",
    "df_merged[\"intron_length\"] = df_merged.apply(calculate_intron_length, axis=1)"
   ],
   "metadata": {
    "collapsed": false
   }
  },
  {
   "cell_type": "code",
   "execution_count": 7,
   "outputs": [
    {
     "data": {
      "text/plain": "         chr     start       end strand  class  recount3_score  \\\n0       chr1     12227     12612      +      1           59151   \n1       chr1     12721     13220      +      1           61021   \n2       chr1     12057     12178      +      1               0   \n3       chr1     12697     12974      +      1              21   \n4       chr1     13052     13220      +      1             526   \n...      ...       ...       ...    ...    ...             ...   \n519029  chrY  25464577  25465486      +      0               0   \n519030  chrY  25513173  25513588      -      0           31374   \n519031  chrY  25513745  25516715      -      0              67   \n519032  chrY  25525288  25527646      -      0           18958   \n519033  chrY  57213357  57213855      -      0               0   \n\n        antisense_exon_start_ss  antisense_exon_end_ss  \\\n0                         False                  False   \n1                         False                  False   \n2                         False                  False   \n3                         False                  False   \n4                         False                  False   \n...                         ...                    ...   \n519029                    False                  False   \n519030                    False                  False   \n519031                    False                  False   \n519032                    False                  False   \n519033                    False                  False   \n\n                                      maxentscan_sequence start_ss  ...  \\\n0       ccaGTAAGTAGTGCTTGTGCTCATCTCCTTGGCTGTGATACGTGGC...       GT  ...   \n1       gagGTGAGAGGAGAGTAGACAGTGAGTGGGAGTGGCGTCGCCCCTA...       GT  ...   \n2       gagCACTGGAGTGGAGTTTTCCTGTGGAGAGGAGCCATGCCTAGAG...       CA  ...   \n3       cttGTGAGTGTCCCCAGTGTTGCAGAGGTGAGAGGAGAGTAGACAG...       GT  ...   \n4       tagGCAAGCCTGGCTGCCTCCAGCTGGGTCGACAGACAGGGGCTGG...       GC  ...   \n...                                                   ...      ...  ...   \n519029  cacGTTGAGGCGCCCAGTGGCGGCCTCACGGGGCAGGGCGAGGGCG...       GT  ...   \n519030  aggGTAAGATCAGTGCTATTGTCAGAGGAAAAACTCCTGGCCATCA...       GT  ...   \n519031  gctGTAAGTTCCACATTGATTATCATAGGCTAACCATGGGCCAGGC...       GT  ...   \n519032  tgtGTGTATAAATATCTGGACTTTTTGGTTAAGTAATTATAGTTAA...       GT  ...   \n519033  gagGTGAGAGGAGAGTAGACAGTGAGTGGGAGTGGCGTCGCCCCTA...       GT  ...   \n\n       repeat_features_end_site_Type I Transposons/LINE  \\\n0                                                     0   \n1                                                     0   \n2                                                     0   \n3                                                     0   \n4                                                     0   \n...                                                 ...   \n519029                                                0   \n519030                                                0   \n519031                                                0   \n519032                                                0   \n519033                                                0   \n\n        repeat_features_end_site_Centromere  repeat_features_end_site_Dust  \\\n0                                         0                              0   \n1                                         0                              0   \n2                                         0                              0   \n3                                         0                              0   \n4                                         0                              0   \n...                                     ...                            ...   \n519029                                    0                              0   \n519030                                    0                              0   \n519031                                    0                              0   \n519032                                    0                              0   \n519033                                    0                              0   \n\n       repeat_features_end_site_Satellite repeats  \\\n0                                               0   \n1                                               0   \n2                                               0   \n3                                               0   \n4                                               0   \n...                                           ...   \n519029                                          0   \n519030                                          0   \n519031                                          0   \n519032                                          0   \n519033                                          0   \n\n       repeat_features_end_site_Tandem repeats  repeat_features_end_site_LTRs  \\\n0                                            0                              0   \n1                                            0                              0   \n2                                            0                              0   \n3                                            0                              0   \n4                                            0                              0   \n...                                        ...                            ...   \n519029                                       0                              0   \n519030                                       0                              0   \n519031                                       0                              0   \n519032                                       0                              0   \n519033                                       0                              0   \n\n                                                 sequence GC_content  \\\n0       GTAAGTAGTGCTTGTGCTCATCTCCTTGGCTGTGATACGTGGCCGG...   0.638961   \n1       GTGAGAGGAGAGTAGACAGTGAGTGGGAGTGGCGTCGCCCCTAGGG...   0.597194   \n2       CACTGGAGTGGAGTTTTCCTGTGGAGAGGAGCCATGCCTAGAGTGG...   0.512397   \n3       GTGAGTGTCCCCAGTGTTGCAGAGGTGAGAGGAGAGTAGACAGTGA...   0.595668   \n4       GCAAGCCTGGCTGCCTCCAGCTGGGTCGACAGACAGGGGCTGGAGA...   0.595238   \n...                                                   ...        ...   \n519029  GTTGAGGCGCCCAGTGGCGGCCTCACGGGGCAGGGCGAGGGCGGAG...   0.628163   \n519030  GTAAGATCAGTGCTATTGTCAGAGGAAAAACTCCTGGCCATCACAG...   0.325301   \n519031  GTAAGTTCCACATTGATTATCATAGGCTAACCATGGGCCAGGCACG...   0.383165   \n519032  GTGTATAAATATCTGGACTTTTTGGTTAAGTAATTATAGTTAATAC...   0.384648   \n519033  GTGAGAGGAGAGTAGACAGTGAGTGGGAGTGGCGTCGCCCCTAGGG...   0.598394   \n\n        CpG_island  intron_length  \n0            False            385  \n1            False            499  \n2            False            121  \n3            False            277  \n4            False            168  \n...            ...            ...  \n519029        True            909  \n519030       False            415  \n519031       False           2970  \n519032       False           2358  \n519033       False            498  \n\n[519034 rows x 61 columns]",
      "text/html": "<div>\n<style scoped>\n    .dataframe tbody tr th:only-of-type {\n        vertical-align: middle;\n    }\n\n    .dataframe tbody tr th {\n        vertical-align: top;\n    }\n\n    .dataframe thead th {\n        text-align: right;\n    }\n</style>\n<table border=\"1\" class=\"dataframe\">\n  <thead>\n    <tr style=\"text-align: right;\">\n      <th></th>\n      <th>chr</th>\n      <th>start</th>\n      <th>end</th>\n      <th>strand</th>\n      <th>class</th>\n      <th>recount3_score</th>\n      <th>antisense_exon_start_ss</th>\n      <th>antisense_exon_end_ss</th>\n      <th>maxentscan_sequence</th>\n      <th>start_ss</th>\n      <th>...</th>\n      <th>repeat_features_end_site_Type I Transposons/LINE</th>\n      <th>repeat_features_end_site_Centromere</th>\n      <th>repeat_features_end_site_Dust</th>\n      <th>repeat_features_end_site_Satellite repeats</th>\n      <th>repeat_features_end_site_Tandem repeats</th>\n      <th>repeat_features_end_site_LTRs</th>\n      <th>sequence</th>\n      <th>GC_content</th>\n      <th>CpG_island</th>\n      <th>intron_length</th>\n    </tr>\n  </thead>\n  <tbody>\n    <tr>\n      <th>0</th>\n      <td>chr1</td>\n      <td>12227</td>\n      <td>12612</td>\n      <td>+</td>\n      <td>1</td>\n      <td>59151</td>\n      <td>False</td>\n      <td>False</td>\n      <td>ccaGTAAGTAGTGCTTGTGCTCATCTCCTTGGCTGTGATACGTGGC...</td>\n      <td>GT</td>\n      <td>...</td>\n      <td>0</td>\n      <td>0</td>\n      <td>0</td>\n      <td>0</td>\n      <td>0</td>\n      <td>0</td>\n      <td>GTAAGTAGTGCTTGTGCTCATCTCCTTGGCTGTGATACGTGGCCGG...</td>\n      <td>0.638961</td>\n      <td>False</td>\n      <td>385</td>\n    </tr>\n    <tr>\n      <th>1</th>\n      <td>chr1</td>\n      <td>12721</td>\n      <td>13220</td>\n      <td>+</td>\n      <td>1</td>\n      <td>61021</td>\n      <td>False</td>\n      <td>False</td>\n      <td>gagGTGAGAGGAGAGTAGACAGTGAGTGGGAGTGGCGTCGCCCCTA...</td>\n      <td>GT</td>\n      <td>...</td>\n      <td>0</td>\n      <td>0</td>\n      <td>0</td>\n      <td>0</td>\n      <td>0</td>\n      <td>0</td>\n      <td>GTGAGAGGAGAGTAGACAGTGAGTGGGAGTGGCGTCGCCCCTAGGG...</td>\n      <td>0.597194</td>\n      <td>False</td>\n      <td>499</td>\n    </tr>\n    <tr>\n      <th>2</th>\n      <td>chr1</td>\n      <td>12057</td>\n      <td>12178</td>\n      <td>+</td>\n      <td>1</td>\n      <td>0</td>\n      <td>False</td>\n      <td>False</td>\n      <td>gagCACTGGAGTGGAGTTTTCCTGTGGAGAGGAGCCATGCCTAGAG...</td>\n      <td>CA</td>\n      <td>...</td>\n      <td>0</td>\n      <td>0</td>\n      <td>0</td>\n      <td>0</td>\n      <td>0</td>\n      <td>0</td>\n      <td>CACTGGAGTGGAGTTTTCCTGTGGAGAGGAGCCATGCCTAGAGTGG...</td>\n      <td>0.512397</td>\n      <td>False</td>\n      <td>121</td>\n    </tr>\n    <tr>\n      <th>3</th>\n      <td>chr1</td>\n      <td>12697</td>\n      <td>12974</td>\n      <td>+</td>\n      <td>1</td>\n      <td>21</td>\n      <td>False</td>\n      <td>False</td>\n      <td>cttGTGAGTGTCCCCAGTGTTGCAGAGGTGAGAGGAGAGTAGACAG...</td>\n      <td>GT</td>\n      <td>...</td>\n      <td>0</td>\n      <td>0</td>\n      <td>0</td>\n      <td>0</td>\n      <td>0</td>\n      <td>0</td>\n      <td>GTGAGTGTCCCCAGTGTTGCAGAGGTGAGAGGAGAGTAGACAGTGA...</td>\n      <td>0.595668</td>\n      <td>False</td>\n      <td>277</td>\n    </tr>\n    <tr>\n      <th>4</th>\n      <td>chr1</td>\n      <td>13052</td>\n      <td>13220</td>\n      <td>+</td>\n      <td>1</td>\n      <td>526</td>\n      <td>False</td>\n      <td>False</td>\n      <td>tagGCAAGCCTGGCTGCCTCCAGCTGGGTCGACAGACAGGGGCTGG...</td>\n      <td>GC</td>\n      <td>...</td>\n      <td>0</td>\n      <td>0</td>\n      <td>0</td>\n      <td>0</td>\n      <td>0</td>\n      <td>0</td>\n      <td>GCAAGCCTGGCTGCCTCCAGCTGGGTCGACAGACAGGGGCTGGAGA...</td>\n      <td>0.595238</td>\n      <td>False</td>\n      <td>168</td>\n    </tr>\n    <tr>\n      <th>...</th>\n      <td>...</td>\n      <td>...</td>\n      <td>...</td>\n      <td>...</td>\n      <td>...</td>\n      <td>...</td>\n      <td>...</td>\n      <td>...</td>\n      <td>...</td>\n      <td>...</td>\n      <td>...</td>\n      <td>...</td>\n      <td>...</td>\n      <td>...</td>\n      <td>...</td>\n      <td>...</td>\n      <td>...</td>\n      <td>...</td>\n      <td>...</td>\n      <td>...</td>\n      <td>...</td>\n    </tr>\n    <tr>\n      <th>519029</th>\n      <td>chrY</td>\n      <td>25464577</td>\n      <td>25465486</td>\n      <td>+</td>\n      <td>0</td>\n      <td>0</td>\n      <td>False</td>\n      <td>False</td>\n      <td>cacGTTGAGGCGCCCAGTGGCGGCCTCACGGGGCAGGGCGAGGGCG...</td>\n      <td>GT</td>\n      <td>...</td>\n      <td>0</td>\n      <td>0</td>\n      <td>0</td>\n      <td>0</td>\n      <td>0</td>\n      <td>0</td>\n      <td>GTTGAGGCGCCCAGTGGCGGCCTCACGGGGCAGGGCGAGGGCGGAG...</td>\n      <td>0.628163</td>\n      <td>True</td>\n      <td>909</td>\n    </tr>\n    <tr>\n      <th>519030</th>\n      <td>chrY</td>\n      <td>25513173</td>\n      <td>25513588</td>\n      <td>-</td>\n      <td>0</td>\n      <td>31374</td>\n      <td>False</td>\n      <td>False</td>\n      <td>aggGTAAGATCAGTGCTATTGTCAGAGGAAAAACTCCTGGCCATCA...</td>\n      <td>GT</td>\n      <td>...</td>\n      <td>0</td>\n      <td>0</td>\n      <td>0</td>\n      <td>0</td>\n      <td>0</td>\n      <td>0</td>\n      <td>GTAAGATCAGTGCTATTGTCAGAGGAAAAACTCCTGGCCATCACAG...</td>\n      <td>0.325301</td>\n      <td>False</td>\n      <td>415</td>\n    </tr>\n    <tr>\n      <th>519031</th>\n      <td>chrY</td>\n      <td>25513745</td>\n      <td>25516715</td>\n      <td>-</td>\n      <td>0</td>\n      <td>67</td>\n      <td>False</td>\n      <td>False</td>\n      <td>gctGTAAGTTCCACATTGATTATCATAGGCTAACCATGGGCCAGGC...</td>\n      <td>GT</td>\n      <td>...</td>\n      <td>0</td>\n      <td>0</td>\n      <td>0</td>\n      <td>0</td>\n      <td>0</td>\n      <td>0</td>\n      <td>GTAAGTTCCACATTGATTATCATAGGCTAACCATGGGCCAGGCACG...</td>\n      <td>0.383165</td>\n      <td>False</td>\n      <td>2970</td>\n    </tr>\n    <tr>\n      <th>519032</th>\n      <td>chrY</td>\n      <td>25525288</td>\n      <td>25527646</td>\n      <td>-</td>\n      <td>0</td>\n      <td>18958</td>\n      <td>False</td>\n      <td>False</td>\n      <td>tgtGTGTATAAATATCTGGACTTTTTGGTTAAGTAATTATAGTTAA...</td>\n      <td>GT</td>\n      <td>...</td>\n      <td>0</td>\n      <td>0</td>\n      <td>0</td>\n      <td>0</td>\n      <td>0</td>\n      <td>0</td>\n      <td>GTGTATAAATATCTGGACTTTTTGGTTAAGTAATTATAGTTAATAC...</td>\n      <td>0.384648</td>\n      <td>False</td>\n      <td>2358</td>\n    </tr>\n    <tr>\n      <th>519033</th>\n      <td>chrY</td>\n      <td>57213357</td>\n      <td>57213855</td>\n      <td>-</td>\n      <td>0</td>\n      <td>0</td>\n      <td>False</td>\n      <td>False</td>\n      <td>gagGTGAGAGGAGAGTAGACAGTGAGTGGGAGTGGCGTCGCCCCTA...</td>\n      <td>GT</td>\n      <td>...</td>\n      <td>0</td>\n      <td>0</td>\n      <td>0</td>\n      <td>0</td>\n      <td>0</td>\n      <td>0</td>\n      <td>GTGAGAGGAGAGTAGACAGTGAGTGGGAGTGGCGTCGCCCCTAGGG...</td>\n      <td>0.598394</td>\n      <td>False</td>\n      <td>498</td>\n    </tr>\n  </tbody>\n</table>\n<p>519034 rows × 61 columns</p>\n</div>"
     },
     "execution_count": 7,
     "metadata": {},
     "output_type": "execute_result"
    }
   ],
   "source": [
    "df_merged"
   ],
   "metadata": {
    "collapsed": false
   }
  },
  {
   "cell_type": "code",
   "execution_count": 8,
   "outputs": [],
   "source": [
    "df_merged.to_csv(\"data/16_basic_features_added_trainset.tsv\", sep=\"\\t\", index=False)"
   ],
   "metadata": {
    "collapsed": false
   }
  },
  {
   "cell_type": "code",
   "execution_count": 9,
   "outputs": [
    {
     "name": "stdout",
     "output_type": "stream",
     "text": [
      "5e3b014194142188e8b4dca9263193b6  data/16_basic_features_added_trainset.tsv\r\n"
     ]
    }
   ],
   "source": [
    "!md5sum data/16_basic_features_added_trainset.tsv"
   ],
   "metadata": {
    "collapsed": false
   }
  }
 ],
 "metadata": {
  "kernelspec": {
   "display_name": "Python 3",
   "language": "python",
   "name": "python3"
  },
  "language_info": {
   "codemirror_mode": {
    "name": "ipython",
    "version": 2
   },
   "file_extension": ".py",
   "mimetype": "text/x-python",
   "name": "python",
   "nbconvert_exporter": "python",
   "pygments_lexer": "ipython2",
   "version": "2.7.6"
  }
 },
 "nbformat": 4,
 "nbformat_minor": 0
}
