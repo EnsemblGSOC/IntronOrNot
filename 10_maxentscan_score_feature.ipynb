{
 "cells": [
  {
   "cell_type": "code",
   "execution_count": 1,
   "metadata": {
    "collapsed": true,
    "ExecuteTime": {
     "end_time": "2023-08-04T13:27:04.075785Z",
     "start_time": "2023-08-04T13:26:56.110166Z"
    }
   },
   "outputs": [],
   "source": [
    "import pandas as pd\n",
    "import subprocess\n",
    "from pandarallel import pandarallel"
   ]
  },
  {
   "cell_type": "code",
   "execution_count": 2,
   "outputs": [],
   "source": [
    "sha512sum = !sha512sum data/08_trainset_with_seq.tsv\n",
    "assert(\"159da72ef546de9f15bfc662d51b70987134035499c64674f4240279ed9d120d34b0312bf98f1cda8c4d43222df7175f818c6d53c9dde2487ea7cf747b51ab05\" in sha512sum[0])"
   ],
   "metadata": {
    "collapsed": false,
    "ExecuteTime": {
     "end_time": "2023-08-04T13:27:55.040291Z",
     "start_time": "2023-08-04T13:27:04.076313Z"
    }
   }
  },
  {
   "cell_type": "code",
   "execution_count": 3,
   "outputs": [
    {
     "data": {
      "text/plain": "                                      maxentscan_sequence\n0       ccaGTAAGTAGTGCTTGTGCTCATCTCCTTGGCTGTGATACGTGGC...\n1       gagGTGAGAGGAGAGTAGACAGTGAGTGGGAGTGGCGTCGCCCCTA...\n2       gagCACTGGAGTGGAGTTTTCCTGTGGAGAGGAGCCATGCCTAGAG...\n3       cttGTGAGTGTCCCCAGTGTTGCAGAGGTGAGAGGAGAGTAGACAG...\n4       tagGCAAGCCTGGCTGCCTCCAGCTGGGTCGACAGACAGGGGCTGG...\n...                                                   ...\n519029  cacGTTGAGGCGCCCAGTGGCGGCCTCACGGGGCAGGGCGAGGGCG...\n519030  aggGTAAGATCAGTGCTATTGTCAGAGGAAAAACTCCTGGCCATCA...\n519031  gctGTAAGTTCCACATTGATTATCATAGGCTAACCATGGGCCAGGC...\n519032  tgtGTGTATAAATATCTGGACTTTTTGGTTAAGTAATTATAGTTAA...\n519033  gagGTGAGAGGAGAGTAGACAGTGAGTGGGAGTGGCGTCGCCCCTA...\n\n[519034 rows x 1 columns]",
      "text/html": "<div>\n<style scoped>\n    .dataframe tbody tr th:only-of-type {\n        vertical-align: middle;\n    }\n\n    .dataframe tbody tr th {\n        vertical-align: top;\n    }\n\n    .dataframe thead th {\n        text-align: right;\n    }\n</style>\n<table border=\"1\" class=\"dataframe\">\n  <thead>\n    <tr style=\"text-align: right;\">\n      <th></th>\n      <th>maxentscan_sequence</th>\n    </tr>\n  </thead>\n  <tbody>\n    <tr>\n      <th>0</th>\n      <td>ccaGTAAGTAGTGCTTGTGCTCATCTCCTTGGCTGTGATACGTGGC...</td>\n    </tr>\n    <tr>\n      <th>1</th>\n      <td>gagGTGAGAGGAGAGTAGACAGTGAGTGGGAGTGGCGTCGCCCCTA...</td>\n    </tr>\n    <tr>\n      <th>2</th>\n      <td>gagCACTGGAGTGGAGTTTTCCTGTGGAGAGGAGCCATGCCTAGAG...</td>\n    </tr>\n    <tr>\n      <th>3</th>\n      <td>cttGTGAGTGTCCCCAGTGTTGCAGAGGTGAGAGGAGAGTAGACAG...</td>\n    </tr>\n    <tr>\n      <th>4</th>\n      <td>tagGCAAGCCTGGCTGCCTCCAGCTGGGTCGACAGACAGGGGCTGG...</td>\n    </tr>\n    <tr>\n      <th>...</th>\n      <td>...</td>\n    </tr>\n    <tr>\n      <th>519029</th>\n      <td>cacGTTGAGGCGCCCAGTGGCGGCCTCACGGGGCAGGGCGAGGGCG...</td>\n    </tr>\n    <tr>\n      <th>519030</th>\n      <td>aggGTAAGATCAGTGCTATTGTCAGAGGAAAAACTCCTGGCCATCA...</td>\n    </tr>\n    <tr>\n      <th>519031</th>\n      <td>gctGTAAGTTCCACATTGATTATCATAGGCTAACCATGGGCCAGGC...</td>\n    </tr>\n    <tr>\n      <th>519032</th>\n      <td>tgtGTGTATAAATATCTGGACTTTTTGGTTAAGTAATTATAGTTAA...</td>\n    </tr>\n    <tr>\n      <th>519033</th>\n      <td>gagGTGAGAGGAGAGTAGACAGTGAGTGGGAGTGGCGTCGCCCCTA...</td>\n    </tr>\n  </tbody>\n</table>\n<p>519034 rows × 1 columns</p>\n</div>"
     },
     "execution_count": 3,
     "metadata": {},
     "output_type": "execute_result"
    }
   ],
   "source": [
    "df_train_set = pd.read_csv(\"data/08_trainset_with_seq.tsv\", sep=\"\\t\", usecols=[\"maxentscan_sequence\"])\n",
    "df_train_set"
   ],
   "metadata": {
    "collapsed": false
   }
  },
  {
   "cell_type": "code",
   "execution_count": 4,
   "outputs": [
    {
     "data": {
      "text/plain": "                                      maxentscan_sequence mes_start_ss_seq\n0       ccaGTAAGTAGTGCTTGTGCTCATCTCCTTGGCTGTGATACGTGGC...        ccaGTAAGT\n1       gagGTGAGAGGAGAGTAGACAGTGAGTGGGAGTGGCGTCGCCCCTA...        gagGTGAGA\n2       gagCACTGGAGTGGAGTTTTCCTGTGGAGAGGAGCCATGCCTAGAG...        gagCACTGG\n3       cttGTGAGTGTCCCCAGTGTTGCAGAGGTGAGAGGAGAGTAGACAG...        cttGTGAGT\n4       tagGCAAGCCTGGCTGCCTCCAGCTGGGTCGACAGACAGGGGCTGG...        tagGCAAGC\n...                                                   ...              ...\n519029  cacGTTGAGGCGCCCAGTGGCGGCCTCACGGGGCAGGGCGAGGGCG...        cacGTTGAG\n519030  aggGTAAGATCAGTGCTATTGTCAGAGGAAAAACTCCTGGCCATCA...        aggGTAAGA\n519031  gctGTAAGTTCCACATTGATTATCATAGGCTAACCATGGGCCAGGC...        gctGTAAGT\n519032  tgtGTGTATAAATATCTGGACTTTTTGGTTAAGTAATTATAGTTAA...        tgtGTGTAT\n519033  gagGTGAGAGGAGAGTAGACAGTGAGTGGGAGTGGCGTCGCCCCTA...        gagGTGAGA\n\n[519034 rows x 2 columns]",
      "text/html": "<div>\n<style scoped>\n    .dataframe tbody tr th:only-of-type {\n        vertical-align: middle;\n    }\n\n    .dataframe tbody tr th {\n        vertical-align: top;\n    }\n\n    .dataframe thead th {\n        text-align: right;\n    }\n</style>\n<table border=\"1\" class=\"dataframe\">\n  <thead>\n    <tr style=\"text-align: right;\">\n      <th></th>\n      <th>maxentscan_sequence</th>\n      <th>mes_start_ss_seq</th>\n    </tr>\n  </thead>\n  <tbody>\n    <tr>\n      <th>0</th>\n      <td>ccaGTAAGTAGTGCTTGTGCTCATCTCCTTGGCTGTGATACGTGGC...</td>\n      <td>ccaGTAAGT</td>\n    </tr>\n    <tr>\n      <th>1</th>\n      <td>gagGTGAGAGGAGAGTAGACAGTGAGTGGGAGTGGCGTCGCCCCTA...</td>\n      <td>gagGTGAGA</td>\n    </tr>\n    <tr>\n      <th>2</th>\n      <td>gagCACTGGAGTGGAGTTTTCCTGTGGAGAGGAGCCATGCCTAGAG...</td>\n      <td>gagCACTGG</td>\n    </tr>\n    <tr>\n      <th>3</th>\n      <td>cttGTGAGTGTCCCCAGTGTTGCAGAGGTGAGAGGAGAGTAGACAG...</td>\n      <td>cttGTGAGT</td>\n    </tr>\n    <tr>\n      <th>4</th>\n      <td>tagGCAAGCCTGGCTGCCTCCAGCTGGGTCGACAGACAGGGGCTGG...</td>\n      <td>tagGCAAGC</td>\n    </tr>\n    <tr>\n      <th>...</th>\n      <td>...</td>\n      <td>...</td>\n    </tr>\n    <tr>\n      <th>519029</th>\n      <td>cacGTTGAGGCGCCCAGTGGCGGCCTCACGGGGCAGGGCGAGGGCG...</td>\n      <td>cacGTTGAG</td>\n    </tr>\n    <tr>\n      <th>519030</th>\n      <td>aggGTAAGATCAGTGCTATTGTCAGAGGAAAAACTCCTGGCCATCA...</td>\n      <td>aggGTAAGA</td>\n    </tr>\n    <tr>\n      <th>519031</th>\n      <td>gctGTAAGTTCCACATTGATTATCATAGGCTAACCATGGGCCAGGC...</td>\n      <td>gctGTAAGT</td>\n    </tr>\n    <tr>\n      <th>519032</th>\n      <td>tgtGTGTATAAATATCTGGACTTTTTGGTTAAGTAATTATAGTTAA...</td>\n      <td>tgtGTGTAT</td>\n    </tr>\n    <tr>\n      <th>519033</th>\n      <td>gagGTGAGAGGAGAGTAGACAGTGAGTGGGAGTGGCGTCGCCCCTA...</td>\n      <td>gagGTGAGA</td>\n    </tr>\n  </tbody>\n</table>\n<p>519034 rows × 2 columns</p>\n</div>"
     },
     "execution_count": 4,
     "metadata": {},
     "output_type": "execute_result"
    }
   ],
   "source": [
    "df_train_set[\"mes_start_ss_seq\"] = df_train_set[\"maxentscan_sequence\"].apply(lambda x: x[:9])\n",
    "df_train_set"
   ],
   "metadata": {
    "collapsed": false,
    "ExecuteTime": {
     "end_time": "2023-08-04T13:27:55.249825Z",
     "start_time": "2023-08-04T13:27:55.038547Z"
    }
   }
  },
  {
   "cell_type": "code",
   "execution_count": 5,
   "outputs": [
    {
     "data": {
      "text/plain": "                                      maxentscan_sequence mes_start_ss_seq  \\\n0       ccaGTAAGTAGTGCTTGTGCTCATCTCCTTGGCTGTGATACGTGGC...        ccaGTAAGT   \n1       gagGTGAGAGGAGAGTAGACAGTGAGTGGGAGTGGCGTCGCCCCTA...        gagGTGAGA   \n2       gagCACTGGAGTGGAGTTTTCCTGTGGAGAGGAGCCATGCCTAGAG...        gagCACTGG   \n3       cttGTGAGTGTCCCCAGTGTTGCAGAGGTGAGAGGAGAGTAGACAG...        cttGTGAGT   \n4       tagGCAAGCCTGGCTGCCTCCAGCTGGGTCGACAGACAGGGGCTGG...        tagGCAAGC   \n...                                                   ...              ...   \n519029  cacGTTGAGGCGCCCAGTGGCGGCCTCACGGGGCAGGGCGAGGGCG...        cacGTTGAG   \n519030  aggGTAAGATCAGTGCTATTGTCAGAGGAAAAACTCCTGGCCATCA...        aggGTAAGA   \n519031  gctGTAAGTTCCACATTGATTATCATAGGCTAACCATGGGCCAGGC...        gctGTAAGT   \n519032  tgtGTGTATAAATATCTGGACTTTTTGGTTAAGTAATTATAGTTAA...        tgtGTGTAT   \n519033  gagGTGAGAGGAGAGTAGACAGTGAGTGGGAGTGGCGTCGCCCCTA...        gagGTGAGA   \n\n                 mes_end_ss_seq  \n0       AGGCTCCTGTCTCCCCCCAGgtg  \n1       TAGCCTCTGTTCCCACGAAGgca  \n2       AACCAGGCATAGGGGAAAGAttg  \n3       GTCATCCCCTTCACTCCCAGctc  \n4       TAGCCTCTGTTCCCACGAAGgca  \n...                         ...  \n519029  ATGCCTCGTTCTTCAGTCAGgtt  \n519030  TTTCCTTTTTTCTTTTTAAGgta  \n519031  GAGATTTGGTACATCCCCAGaag  \n519032  CAGCAGCTTTTGTGTTTCAGgct  \n519033  TAGCCTCTGTTCCCACGAAGgca  \n\n[519034 rows x 3 columns]",
      "text/html": "<div>\n<style scoped>\n    .dataframe tbody tr th:only-of-type {\n        vertical-align: middle;\n    }\n\n    .dataframe tbody tr th {\n        vertical-align: top;\n    }\n\n    .dataframe thead th {\n        text-align: right;\n    }\n</style>\n<table border=\"1\" class=\"dataframe\">\n  <thead>\n    <tr style=\"text-align: right;\">\n      <th></th>\n      <th>maxentscan_sequence</th>\n      <th>mes_start_ss_seq</th>\n      <th>mes_end_ss_seq</th>\n    </tr>\n  </thead>\n  <tbody>\n    <tr>\n      <th>0</th>\n      <td>ccaGTAAGTAGTGCTTGTGCTCATCTCCTTGGCTGTGATACGTGGC...</td>\n      <td>ccaGTAAGT</td>\n      <td>AGGCTCCTGTCTCCCCCCAGgtg</td>\n    </tr>\n    <tr>\n      <th>1</th>\n      <td>gagGTGAGAGGAGAGTAGACAGTGAGTGGGAGTGGCGTCGCCCCTA...</td>\n      <td>gagGTGAGA</td>\n      <td>TAGCCTCTGTTCCCACGAAGgca</td>\n    </tr>\n    <tr>\n      <th>2</th>\n      <td>gagCACTGGAGTGGAGTTTTCCTGTGGAGAGGAGCCATGCCTAGAG...</td>\n      <td>gagCACTGG</td>\n      <td>AACCAGGCATAGGGGAAAGAttg</td>\n    </tr>\n    <tr>\n      <th>3</th>\n      <td>cttGTGAGTGTCCCCAGTGTTGCAGAGGTGAGAGGAGAGTAGACAG...</td>\n      <td>cttGTGAGT</td>\n      <td>GTCATCCCCTTCACTCCCAGctc</td>\n    </tr>\n    <tr>\n      <th>4</th>\n      <td>tagGCAAGCCTGGCTGCCTCCAGCTGGGTCGACAGACAGGGGCTGG...</td>\n      <td>tagGCAAGC</td>\n      <td>TAGCCTCTGTTCCCACGAAGgca</td>\n    </tr>\n    <tr>\n      <th>...</th>\n      <td>...</td>\n      <td>...</td>\n      <td>...</td>\n    </tr>\n    <tr>\n      <th>519029</th>\n      <td>cacGTTGAGGCGCCCAGTGGCGGCCTCACGGGGCAGGGCGAGGGCG...</td>\n      <td>cacGTTGAG</td>\n      <td>ATGCCTCGTTCTTCAGTCAGgtt</td>\n    </tr>\n    <tr>\n      <th>519030</th>\n      <td>aggGTAAGATCAGTGCTATTGTCAGAGGAAAAACTCCTGGCCATCA...</td>\n      <td>aggGTAAGA</td>\n      <td>TTTCCTTTTTTCTTTTTAAGgta</td>\n    </tr>\n    <tr>\n      <th>519031</th>\n      <td>gctGTAAGTTCCACATTGATTATCATAGGCTAACCATGGGCCAGGC...</td>\n      <td>gctGTAAGT</td>\n      <td>GAGATTTGGTACATCCCCAGaag</td>\n    </tr>\n    <tr>\n      <th>519032</th>\n      <td>tgtGTGTATAAATATCTGGACTTTTTGGTTAAGTAATTATAGTTAA...</td>\n      <td>tgtGTGTAT</td>\n      <td>CAGCAGCTTTTGTGTTTCAGgct</td>\n    </tr>\n    <tr>\n      <th>519033</th>\n      <td>gagGTGAGAGGAGAGTAGACAGTGAGTGGGAGTGGCGTCGCCCCTA...</td>\n      <td>gagGTGAGA</td>\n      <td>TAGCCTCTGTTCCCACGAAGgca</td>\n    </tr>\n  </tbody>\n</table>\n<p>519034 rows × 3 columns</p>\n</div>"
     },
     "execution_count": 5,
     "metadata": {},
     "output_type": "execute_result"
    }
   ],
   "source": [
    "df_train_set[\"mes_end_ss_seq\"] = df_train_set[\"maxentscan_sequence\"].apply(lambda x: x[-23:])\n",
    "df_train_set"
   ],
   "metadata": {
    "collapsed": false,
    "ExecuteTime": {
     "end_time": "2023-08-04T13:27:55.610664Z",
     "start_time": "2023-08-04T13:27:55.209197Z"
    }
   }
  },
  {
   "cell_type": "code",
   "execution_count": 6,
   "outputs": [
    {
     "data": {
      "text/plain": "       mes_start_ss_seq           mes_end_ss_seq\n0             ccaGTAAGT  AGGCTCCTGTCTCCCCCCAGgtg\n1             gagGTGAGA  TAGCCTCTGTTCCCACGAAGgca\n2             gagCACTGG  AACCAGGCATAGGGGAAAGAttg\n3             cttGTGAGT  GTCATCCCCTTCACTCCCAGctc\n4             tagGCAAGC  TAGCCTCTGTTCCCACGAAGgca\n...                 ...                      ...\n519029        cacGTTGAG  ATGCCTCGTTCTTCAGTCAGgtt\n519030        aggGTAAGA  TTTCCTTTTTTCTTTTTAAGgta\n519031        gctGTAAGT  GAGATTTGGTACATCCCCAGaag\n519032        tgtGTGTAT  CAGCAGCTTTTGTGTTTCAGgct\n519033        gagGTGAGA  TAGCCTCTGTTCCCACGAAGgca\n\n[519034 rows x 2 columns]",
      "text/html": "<div>\n<style scoped>\n    .dataframe tbody tr th:only-of-type {\n        vertical-align: middle;\n    }\n\n    .dataframe tbody tr th {\n        vertical-align: top;\n    }\n\n    .dataframe thead th {\n        text-align: right;\n    }\n</style>\n<table border=\"1\" class=\"dataframe\">\n  <thead>\n    <tr style=\"text-align: right;\">\n      <th></th>\n      <th>mes_start_ss_seq</th>\n      <th>mes_end_ss_seq</th>\n    </tr>\n  </thead>\n  <tbody>\n    <tr>\n      <th>0</th>\n      <td>ccaGTAAGT</td>\n      <td>AGGCTCCTGTCTCCCCCCAGgtg</td>\n    </tr>\n    <tr>\n      <th>1</th>\n      <td>gagGTGAGA</td>\n      <td>TAGCCTCTGTTCCCACGAAGgca</td>\n    </tr>\n    <tr>\n      <th>2</th>\n      <td>gagCACTGG</td>\n      <td>AACCAGGCATAGGGGAAAGAttg</td>\n    </tr>\n    <tr>\n      <th>3</th>\n      <td>cttGTGAGT</td>\n      <td>GTCATCCCCTTCACTCCCAGctc</td>\n    </tr>\n    <tr>\n      <th>4</th>\n      <td>tagGCAAGC</td>\n      <td>TAGCCTCTGTTCCCACGAAGgca</td>\n    </tr>\n    <tr>\n      <th>...</th>\n      <td>...</td>\n      <td>...</td>\n    </tr>\n    <tr>\n      <th>519029</th>\n      <td>cacGTTGAG</td>\n      <td>ATGCCTCGTTCTTCAGTCAGgtt</td>\n    </tr>\n    <tr>\n      <th>519030</th>\n      <td>aggGTAAGA</td>\n      <td>TTTCCTTTTTTCTTTTTAAGgta</td>\n    </tr>\n    <tr>\n      <th>519031</th>\n      <td>gctGTAAGT</td>\n      <td>GAGATTTGGTACATCCCCAGaag</td>\n    </tr>\n    <tr>\n      <th>519032</th>\n      <td>tgtGTGTAT</td>\n      <td>CAGCAGCTTTTGTGTTTCAGgct</td>\n    </tr>\n    <tr>\n      <th>519033</th>\n      <td>gagGTGAGA</td>\n      <td>TAGCCTCTGTTCCCACGAAGgca</td>\n    </tr>\n  </tbody>\n</table>\n<p>519034 rows × 2 columns</p>\n</div>"
     },
     "execution_count": 6,
     "metadata": {},
     "output_type": "execute_result"
    }
   ],
   "source": [
    "df_train_set=df_train_set.drop(columns=[\"maxentscan_sequence\"], axis=1)\n",
    "df_train_set"
   ],
   "metadata": {
    "collapsed": false,
    "ExecuteTime": {
     "end_time": "2023-08-04T13:27:55.658392Z",
     "start_time": "2023-08-04T13:27:55.622293Z"
    }
   }
  },
  {
   "cell_type": "code",
   "execution_count": 7,
   "outputs": [
    {
     "name": "stdout",
     "output_type": "stream",
     "text": [
      "INFO: Pandarallel will run on 12 workers.\n",
      "INFO: Pandarallel will use Memory file system to transfer data between the main process and workers.\n"
     ]
    }
   ],
   "source": [
    "pandarallel.initialize()"
   ],
   "metadata": {
    "collapsed": false,
    "ExecuteTime": {
     "end_time": "2023-08-04T13:27:55.729374Z",
     "start_time": "2023-08-04T13:27:55.636078Z"
    }
   }
  },
  {
   "cell_type": "code",
   "execution_count": 8,
   "outputs": [],
   "source": [
    "def maxentscan_5(row):\n",
    "    \"\"\"\n",
    "    We call the tabix command, which look at the bed file to see if the row (which are entries in the intron that we extracted) overlaps with the repeat\n",
    "    regions detailed in the repeat_features.bed.gz, apart from the splice-site ({row.end-2}), we also look at the small-region that proceeds (2 nt in the exon; {row.end+2}) the splice-site.\n",
    "    \"\"\"\n",
    "    # score = !perl MaxEntScan/score5.pl {row.sequence[:9]} | cut -f2\n",
    "    # # score = score[-1:1]\n",
    "    # return score\n",
    "    target_sequence = row\n",
    "    if len(target_sequence) < 9:\n",
    "\t    return 0\n",
    "    result = subprocess.run(f\"perl MaxEntScan/score5.pl {target_sequence}\", shell=True, stdout=subprocess.PIPE, text=True)\n",
    "    try:\n",
    "    \tscore = result.stdout.strip().split(\"\\t\")[1]\n",
    "    except:\n",
    "        print(result)\n",
    "        return result\n",
    "    return score"
   ],
   "metadata": {
    "collapsed": false,
    "ExecuteTime": {
     "end_time": "2023-08-04T13:27:55.730200Z",
     "start_time": "2023-08-04T13:27:55.641365Z"
    }
   }
  },
  {
   "cell_type": "code",
   "execution_count": 9,
   "outputs": [],
   "source": [
    "# %%time\n",
    "# df_test = df_train_set.copy().head(10)\n",
    "# df_test[\"test\"] = df_test[\"maxentscan_start_ss\"].parallel_apply(maxentscan_5)\n",
    "# df_test"
   ],
   "metadata": {
    "collapsed": false,
    "ExecuteTime": {
     "end_time": "2023-08-04T13:28:57.387786Z",
     "start_time": "2023-08-04T13:27:55.652367Z"
    }
   }
  },
  {
   "cell_type": "code",
   "execution_count": 10,
   "outputs": [
    {
     "name": "stdout",
     "output_type": "stream",
     "text": [
      "CPU times: user 97.4 ms, sys: 299 ms, total: 397 ms\n",
      "Wall time: 20min 19s\n"
     ]
    }
   ],
   "source": [
    "%%time\n",
    "df_train_set[\"MaxEntScan_start_ss\"] = df_train_set[\"mes_start_ss_seq\"].parallel_apply(maxentscan_5)"
   ],
   "metadata": {
    "collapsed": false,
    "ExecuteTime": {
     "end_time": "2023-08-04T15:28:17.844080Z",
     "start_time": "2023-08-04T13:28:57.387182Z"
    }
   }
  },
  {
   "cell_type": "code",
   "execution_count": 13,
   "outputs": [
    {
     "data": {
      "text/plain": "Empty DataFrame\nColumns: [mes_start_ss_seq, mes_end_ss_seq, MaxEntScan_start_ss]\nIndex: []",
      "text/html": "<div>\n<style scoped>\n    .dataframe tbody tr th:only-of-type {\n        vertical-align: middle;\n    }\n\n    .dataframe tbody tr th {\n        vertical-align: top;\n    }\n\n    .dataframe thead th {\n        text-align: right;\n    }\n</style>\n<table border=\"1\" class=\"dataframe\">\n  <thead>\n    <tr style=\"text-align: right;\">\n      <th></th>\n      <th>mes_start_ss_seq</th>\n      <th>mes_end_ss_seq</th>\n      <th>MaxEntScan_start_ss</th>\n    </tr>\n  </thead>\n  <tbody>\n  </tbody>\n</table>\n</div>"
     },
     "execution_count": 13,
     "metadata": {},
     "output_type": "execute_result"
    }
   ],
   "source": [
    "df_train_set.loc[df_train_set[\"mes_start_ss_seq\"].str.contains(\"N\"), \"MaxEntScan_start_ss\"] = 0\n",
    "df_train_set[df_train_set[\"mes_start_ss_seq\"].str.contains(\"N\")]"
   ],
   "metadata": {
    "collapsed": false,
    "ExecuteTime": {
     "end_time": "2023-08-04T15:28:18.202178Z",
     "start_time": "2023-08-04T15:28:17.881364Z"
    }
   }
  },
  {
   "cell_type": "markdown",
   "source": [
    "# 3-prime end"
   ],
   "metadata": {
    "collapsed": false
   }
  },
  {
   "cell_type": "code",
   "execution_count": 14,
   "outputs": [],
   "source": [
    "def maxentscan_3(row):\n",
    "    \"\"\"\n",
    "    We call the tabix command, which look at the bed file to see if the row (which are entries in the intron that we extracted) overlaps with the repeat\n",
    "    regions detailed in the repeat_features.bed.gz, apart from the splice-site ({row.end-2}), we also look at the small-region that proceeds (2 nt in the exon; {row.end+2}) the splice-site.\n",
    "    \"\"\"\n",
    "    target_sequence = row\n",
    "    if len(target_sequence) < 23:\n",
    "\t    return 0\n",
    "    result = subprocess.run(f\"perl MaxEntScan/score3.pl {target_sequence}\", shell=True, stdout=subprocess.PIPE, text=True)\n",
    "    try:\n",
    "    \tscore = result.stdout.strip().split(\"\\t\")[1]\n",
    "    except:\n",
    "        return 0\n",
    "    return score"
   ],
   "metadata": {
    "collapsed": false,
    "ExecuteTime": {
     "end_time": "2023-08-04T15:28:18.207334Z",
     "start_time": "2023-08-04T15:28:18.204923Z"
    }
   }
  },
  {
   "cell_type": "code",
   "execution_count": 16,
   "outputs": [
    {
     "name": "stdout",
     "output_type": "stream",
     "text": [
      "CPU times: user 133 ms, sys: 350 ms, total: 482 ms\n",
      "Wall time: 28min 31s\n"
     ]
    }
   ],
   "source": [
    "%%time\n",
    "df_train_set[\"MaxEntScan_end_ss\"] = df_train_set[\"mes_end_ss_seq\"].parallel_apply(maxentscan_3)"
   ],
   "metadata": {
    "collapsed": false,
    "ExecuteTime": {
     "end_time": "2023-08-04T17:29:47.911012Z",
     "start_time": "2023-08-04T15:28:18.356421Z"
    }
   }
  },
  {
   "cell_type": "code",
   "execution_count": 17,
   "outputs": [
    {
     "data": {
      "text/plain": "Empty DataFrame\nColumns: [mes_start_ss_seq, mes_end_ss_seq, MaxEntScan_start_ss, MaxEntScan_end_ss]\nIndex: []",
      "text/html": "<div>\n<style scoped>\n    .dataframe tbody tr th:only-of-type {\n        vertical-align: middle;\n    }\n\n    .dataframe tbody tr th {\n        vertical-align: top;\n    }\n\n    .dataframe thead th {\n        text-align: right;\n    }\n</style>\n<table border=\"1\" class=\"dataframe\">\n  <thead>\n    <tr style=\"text-align: right;\">\n      <th></th>\n      <th>mes_start_ss_seq</th>\n      <th>mes_end_ss_seq</th>\n      <th>MaxEntScan_start_ss</th>\n      <th>MaxEntScan_end_ss</th>\n    </tr>\n  </thead>\n  <tbody>\n  </tbody>\n</table>\n</div>"
     },
     "execution_count": 17,
     "metadata": {},
     "output_type": "execute_result"
    }
   ],
   "source": [
    "df_train_set.loc[df_train_set[\"mes_end_ss_seq\"].str.contains(\"N\"), \"mes_end_ss_seq\"] = 0\n",
    "df_train_set[df_train_set[\"mes_end_ss_seq\"].str.contains(\"N\")]"
   ],
   "metadata": {
    "collapsed": false,
    "ExecuteTime": {
     "end_time": "2023-08-04T17:29:48.269182Z",
     "start_time": "2023-08-04T17:29:47.980522Z"
    }
   }
  },
  {
   "cell_type": "markdown",
   "source": [
    "# Output to .tsv"
   ],
   "metadata": {
    "collapsed": false
   }
  },
  {
   "cell_type": "code",
   "execution_count": 19,
   "outputs": [],
   "source": [
    "df_train_set.to_csv(\"data/10_trainset_MaxEntScan_feature.tsv\", sep=\"\\t\", index=False)"
   ],
   "metadata": {
    "collapsed": false,
    "ExecuteTime": {
     "end_time": "2023-08-04T17:29:49.594954Z",
     "start_time": "2023-08-04T17:29:48.267995Z"
    }
   }
  },
  {
   "cell_type": "code",
   "execution_count": 20,
   "outputs": [
    {
     "name": "stdout",
     "output_type": "stream",
     "text": [
      "8a54df6df02ce4182ef24376d474eca02f2db2e9b521abcf75ae75577832f9a3c9474ef6100667d4de90791f99c192a02ad88e90122a56025ad38fc0daf26f65  data/10_trainset_MaxEntScan_feature.tsv\r\n"
     ]
    }
   ],
   "source": [
    "!sha512sum data/10_trainset_MaxEntScan_feature.tsv"
   ],
   "metadata": {
    "collapsed": false
   }
  },
  {
   "cell_type": "code",
   "execution_count": null,
   "outputs": [],
   "source": [],
   "metadata": {
    "collapsed": false
   }
  }
 ],
 "metadata": {
  "kernelspec": {
   "display_name": "Python 3",
   "language": "python",
   "name": "python3"
  },
  "language_info": {
   "codemirror_mode": {
    "name": "ipython",
    "version": 2
   },
   "file_extension": ".py",
   "mimetype": "text/x-python",
   "name": "python",
   "nbconvert_exporter": "python",
   "pygments_lexer": "ipython2",
   "version": "2.7.6"
  }
 },
 "nbformat": 4,
 "nbformat_minor": 0
}
