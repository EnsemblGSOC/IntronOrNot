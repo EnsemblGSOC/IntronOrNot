{
 "cells": [
  {
   "cell_type": "code",
   "execution_count": 1,
   "metadata": {
    "collapsed": true,
    "ExecuteTime": {
     "end_time": "2023-08-04T13:27:04.075785Z",
     "start_time": "2023-08-04T13:26:56.110166Z"
    }
   },
   "outputs": [],
   "source": [
    "from sklearn.ensemble import RandomForestClassifier\n",
    "import pandas as pd\n",
    "import sklearn.ensemble\n",
    "from sklearn.metrics import accuracy_score, roc_auc_score, balanced_accuracy_score, precision_score, matthews_corrcoef, confusion_matrix, recall_score\n",
    "from sklearn.model_selection import StratifiedKFold\n",
    "from sklearn.model_selection import train_test_split\n",
    "from sklearn import preprocessing\n",
    "import statistics\n",
    "import numpy as np\n",
    "import subprocess\n",
    "from pandarallel import pandarallel"
   ]
  },
  {
   "cell_type": "code",
   "execution_count": 2,
   "outputs": [
    {
     "data": {
      "text/plain": "                                      sequence_maxentscan\n0       ccaGTAAGTAGTGCTTGTGCTCATCTCCTTGGCTGTGATACGTGGC...\n1       gagGTGAGAGGAGAGTAGACAGTGAGTGGGAGTGGCGTCGCCCCTA...\n2       gagCACTGGAGTGGAGTTTTCCTGTGGAGAGGAGCCATGCCTAGAG...\n3       cttGTGAGTGTCCCCAGTGTTGCAGAGGTGAGAGGAGAGTAGACAG...\n4       tagGCAAGCCTGGCTGCCTCCAGCTGGGTCGACAGACAGGGGCTGG...\n...                                                   ...\n499138  aatGTAAGAAGGAGTAAAATTATTTGCTTTCAGGTATTATTGAGGC...\n499139  cagGTAATGTAAGAAGGAGTAAAATTATTTGCTTTCAGGTATTATT...\n499140  gggATTATGTTTTCCTTGATGTTAAGTGAATTAGCCAAACATAGAC...\n499141  cgcCCTTGGTTTTCCTTACACCTTAGCCTTTGGCTCCTTTGACCAC...\n499142  cctGCTTATCCAAATTCACCATTTCAAGTCGCCACTGGATATCAGT...\n\n[499143 rows x 1 columns]",
      "text/html": "<div>\n<style scoped>\n    .dataframe tbody tr th:only-of-type {\n        vertical-align: middle;\n    }\n\n    .dataframe tbody tr th {\n        vertical-align: top;\n    }\n\n    .dataframe thead th {\n        text-align: right;\n    }\n</style>\n<table border=\"1\" class=\"dataframe\">\n  <thead>\n    <tr style=\"text-align: right;\">\n      <th></th>\n      <th>sequence_maxentscan</th>\n    </tr>\n  </thead>\n  <tbody>\n    <tr>\n      <th>0</th>\n      <td>ccaGTAAGTAGTGCTTGTGCTCATCTCCTTGGCTGTGATACGTGGC...</td>\n    </tr>\n    <tr>\n      <th>1</th>\n      <td>gagGTGAGAGGAGAGTAGACAGTGAGTGGGAGTGGCGTCGCCCCTA...</td>\n    </tr>\n    <tr>\n      <th>2</th>\n      <td>gagCACTGGAGTGGAGTTTTCCTGTGGAGAGGAGCCATGCCTAGAG...</td>\n    </tr>\n    <tr>\n      <th>3</th>\n      <td>cttGTGAGTGTCCCCAGTGTTGCAGAGGTGAGAGGAGAGTAGACAG...</td>\n    </tr>\n    <tr>\n      <th>4</th>\n      <td>tagGCAAGCCTGGCTGCCTCCAGCTGGGTCGACAGACAGGGGCTGG...</td>\n    </tr>\n    <tr>\n      <th>...</th>\n      <td>...</td>\n    </tr>\n    <tr>\n      <th>499138</th>\n      <td>aatGTAAGAAGGAGTAAAATTATTTGCTTTCAGGTATTATTGAGGC...</td>\n    </tr>\n    <tr>\n      <th>499139</th>\n      <td>cagGTAATGTAAGAAGGAGTAAAATTATTTGCTTTCAGGTATTATT...</td>\n    </tr>\n    <tr>\n      <th>499140</th>\n      <td>gggATTATGTTTTCCTTGATGTTAAGTGAATTAGCCAAACATAGAC...</td>\n    </tr>\n    <tr>\n      <th>499141</th>\n      <td>cgcCCTTGGTTTTCCTTACACCTTAGCCTTTGGCTCCTTTGACCAC...</td>\n    </tr>\n    <tr>\n      <th>499142</th>\n      <td>cctGCTTATCCAAATTCACCATTTCAAGTCGCCACTGGATATCAGT...</td>\n    </tr>\n  </tbody>\n</table>\n<p>499143 rows × 1 columns</p>\n</div>"
     },
     "execution_count": 2,
     "metadata": {},
     "output_type": "execute_result"
    }
   ],
   "source": [
    "df = pd.read_csv(\"data/4.2_hg38_paired_introns.tsv\", sep=\"\\t\", usecols = [\"sequence_maxentscan\"])\n",
    "df"
   ],
   "metadata": {
    "collapsed": false,
    "ExecuteTime": {
     "end_time": "2023-08-04T13:27:55.040291Z",
     "start_time": "2023-08-04T13:27:04.076313Z"
    }
   }
  },
  {
   "cell_type": "code",
   "execution_count": 3,
   "outputs": [
    {
     "data": {
      "text/plain": "                                      sequence_maxentscan  \\\n0       ccaGTAAGTAGTGCTTGTGCTCATCTCCTTGGCTGTGATACGTGGC...   \n1       gagGTGAGAGGAGAGTAGACAGTGAGTGGGAGTGGCGTCGCCCCTA...   \n2       gagCACTGGAGTGGAGTTTTCCTGTGGAGAGGAGCCATGCCTAGAG...   \n3       cttGTGAGTGTCCCCAGTGTTGCAGAGGTGAGAGGAGAGTAGACAG...   \n4       tagGCAAGCCTGGCTGCCTCCAGCTGGGTCGACAGACAGGGGCTGG...   \n...                                                   ...   \n499138  aatGTAAGAAGGAGTAAAATTATTTGCTTTCAGGTATTATTGAGGC...   \n499139  cagGTAATGTAAGAAGGAGTAAAATTATTTGCTTTCAGGTATTATT...   \n499140  gggATTATGTTTTCCTTGATGTTAAGTGAATTAGCCAAACATAGAC...   \n499141  cgcCCTTGGTTTTCCTTACACCTTAGCCTTTGGCTCCTTTGACCAC...   \n499142  cctGCTTATCCAAATTCACCATTTCAAGTCGCCACTGGATATCAGT...   \n\n       5_prime_site_maxent_seq  \n0                    ccaGTAAGT  \n1                    gagGTGAGA  \n2                    gagCACTGG  \n3                    cttGTGAGT  \n4                    tagGCAAGC  \n...                        ...  \n499138               aatGTAAGA  \n499139               cagGTAATG  \n499140               gggATTATG  \n499141               cgcCCTTGG  \n499142               cctGCTTAT  \n\n[499143 rows x 2 columns]",
      "text/html": "<div>\n<style scoped>\n    .dataframe tbody tr th:only-of-type {\n        vertical-align: middle;\n    }\n\n    .dataframe tbody tr th {\n        vertical-align: top;\n    }\n\n    .dataframe thead th {\n        text-align: right;\n    }\n</style>\n<table border=\"1\" class=\"dataframe\">\n  <thead>\n    <tr style=\"text-align: right;\">\n      <th></th>\n      <th>sequence_maxentscan</th>\n      <th>5_prime_site_maxent_seq</th>\n    </tr>\n  </thead>\n  <tbody>\n    <tr>\n      <th>0</th>\n      <td>ccaGTAAGTAGTGCTTGTGCTCATCTCCTTGGCTGTGATACGTGGC...</td>\n      <td>ccaGTAAGT</td>\n    </tr>\n    <tr>\n      <th>1</th>\n      <td>gagGTGAGAGGAGAGTAGACAGTGAGTGGGAGTGGCGTCGCCCCTA...</td>\n      <td>gagGTGAGA</td>\n    </tr>\n    <tr>\n      <th>2</th>\n      <td>gagCACTGGAGTGGAGTTTTCCTGTGGAGAGGAGCCATGCCTAGAG...</td>\n      <td>gagCACTGG</td>\n    </tr>\n    <tr>\n      <th>3</th>\n      <td>cttGTGAGTGTCCCCAGTGTTGCAGAGGTGAGAGGAGAGTAGACAG...</td>\n      <td>cttGTGAGT</td>\n    </tr>\n    <tr>\n      <th>4</th>\n      <td>tagGCAAGCCTGGCTGCCTCCAGCTGGGTCGACAGACAGGGGCTGG...</td>\n      <td>tagGCAAGC</td>\n    </tr>\n    <tr>\n      <th>...</th>\n      <td>...</td>\n      <td>...</td>\n    </tr>\n    <tr>\n      <th>499138</th>\n      <td>aatGTAAGAAGGAGTAAAATTATTTGCTTTCAGGTATTATTGAGGC...</td>\n      <td>aatGTAAGA</td>\n    </tr>\n    <tr>\n      <th>499139</th>\n      <td>cagGTAATGTAAGAAGGAGTAAAATTATTTGCTTTCAGGTATTATT...</td>\n      <td>cagGTAATG</td>\n    </tr>\n    <tr>\n      <th>499140</th>\n      <td>gggATTATGTTTTCCTTGATGTTAAGTGAATTAGCCAAACATAGAC...</td>\n      <td>gggATTATG</td>\n    </tr>\n    <tr>\n      <th>499141</th>\n      <td>cgcCCTTGGTTTTCCTTACACCTTAGCCTTTGGCTCCTTTGACCAC...</td>\n      <td>cgcCCTTGG</td>\n    </tr>\n    <tr>\n      <th>499142</th>\n      <td>cctGCTTATCCAAATTCACCATTTCAAGTCGCCACTGGATATCAGT...</td>\n      <td>cctGCTTAT</td>\n    </tr>\n  </tbody>\n</table>\n<p>499143 rows × 2 columns</p>\n</div>"
     },
     "execution_count": 3,
     "metadata": {},
     "output_type": "execute_result"
    }
   ],
   "source": [
    "df[\"5_prime_site_maxent_seq\"] = df[\"sequence_maxentscan\"].apply(lambda x: x[:9])\n",
    "df"
   ],
   "metadata": {
    "collapsed": false,
    "ExecuteTime": {
     "end_time": "2023-08-04T13:27:55.249825Z",
     "start_time": "2023-08-04T13:27:55.038547Z"
    }
   }
  },
  {
   "cell_type": "code",
   "execution_count": 4,
   "outputs": [
    {
     "data": {
      "text/plain": "                                      sequence_maxentscan  \\\n0       ccaGTAAGTAGTGCTTGTGCTCATCTCCTTGGCTGTGATACGTGGC...   \n1       gagGTGAGAGGAGAGTAGACAGTGAGTGGGAGTGGCGTCGCCCCTA...   \n2       gagCACTGGAGTGGAGTTTTCCTGTGGAGAGGAGCCATGCCTAGAG...   \n3       cttGTGAGTGTCCCCAGTGTTGCAGAGGTGAGAGGAGAGTAGACAG...   \n4       tagGCAAGCCTGGCTGCCTCCAGCTGGGTCGACAGACAGGGGCTGG...   \n...                                                   ...   \n499138  aatGTAAGAAGGAGTAAAATTATTTGCTTTCAGGTATTATTGAGGC...   \n499139  cagGTAATGTAAGAAGGAGTAAAATTATTTGCTTTCAGGTATTATT...   \n499140  gggATTATGTTTTCCTTGATGTTAAGTGAATTAGCCAAACATAGAC...   \n499141  cgcCCTTGGTTTTCCTTACACCTTAGCCTTTGGCTCCTTTGACCAC...   \n499142  cctGCTTATCCAAATTCACCATTTCAAGTCGCCACTGGATATCAGT...   \n\n       5_prime_site_maxent_seq  3_prime_site_maxent_seq  \n0                    ccaGTAAGT  AGGCTCCTGTCTCCCCCCAGgtg  \n1                    gagGTGAGA  TAGCCTCTGTTCCCACGAAGgca  \n2                    gagCACTGG  AACCAGGCATAGGGGAAAGAttg  \n3                    cttGTGAGT  GTCATCCCCTTCACTCCCAGctc  \n4                    tagGCAAGC  TAGCCTCTGTTCCCACGAAGgca  \n...                        ...                      ...  \n499138               aatGTAAGA  CCATATTCATTTTTTTCTGCcaa  \n499139               cagGTAATG  CTTTTTTTTTTTTTTTTAAGatg  \n499140               gggATTATG  TGAAAACTTCTGTGTTTCAGaaa  \n499141               cgcCCTTGG  GTCTACTTTCCAAATTACAGtct  \n499142               cctGCTTAT  TTTCTTTTCAGGCATTTCCTgct  \n\n[499143 rows x 3 columns]",
      "text/html": "<div>\n<style scoped>\n    .dataframe tbody tr th:only-of-type {\n        vertical-align: middle;\n    }\n\n    .dataframe tbody tr th {\n        vertical-align: top;\n    }\n\n    .dataframe thead th {\n        text-align: right;\n    }\n</style>\n<table border=\"1\" class=\"dataframe\">\n  <thead>\n    <tr style=\"text-align: right;\">\n      <th></th>\n      <th>sequence_maxentscan</th>\n      <th>5_prime_site_maxent_seq</th>\n      <th>3_prime_site_maxent_seq</th>\n    </tr>\n  </thead>\n  <tbody>\n    <tr>\n      <th>0</th>\n      <td>ccaGTAAGTAGTGCTTGTGCTCATCTCCTTGGCTGTGATACGTGGC...</td>\n      <td>ccaGTAAGT</td>\n      <td>AGGCTCCTGTCTCCCCCCAGgtg</td>\n    </tr>\n    <tr>\n      <th>1</th>\n      <td>gagGTGAGAGGAGAGTAGACAGTGAGTGGGAGTGGCGTCGCCCCTA...</td>\n      <td>gagGTGAGA</td>\n      <td>TAGCCTCTGTTCCCACGAAGgca</td>\n    </tr>\n    <tr>\n      <th>2</th>\n      <td>gagCACTGGAGTGGAGTTTTCCTGTGGAGAGGAGCCATGCCTAGAG...</td>\n      <td>gagCACTGG</td>\n      <td>AACCAGGCATAGGGGAAAGAttg</td>\n    </tr>\n    <tr>\n      <th>3</th>\n      <td>cttGTGAGTGTCCCCAGTGTTGCAGAGGTGAGAGGAGAGTAGACAG...</td>\n      <td>cttGTGAGT</td>\n      <td>GTCATCCCCTTCACTCCCAGctc</td>\n    </tr>\n    <tr>\n      <th>4</th>\n      <td>tagGCAAGCCTGGCTGCCTCCAGCTGGGTCGACAGACAGGGGCTGG...</td>\n      <td>tagGCAAGC</td>\n      <td>TAGCCTCTGTTCCCACGAAGgca</td>\n    </tr>\n    <tr>\n      <th>...</th>\n      <td>...</td>\n      <td>...</td>\n      <td>...</td>\n    </tr>\n    <tr>\n      <th>499138</th>\n      <td>aatGTAAGAAGGAGTAAAATTATTTGCTTTCAGGTATTATTGAGGC...</td>\n      <td>aatGTAAGA</td>\n      <td>CCATATTCATTTTTTTCTGCcaa</td>\n    </tr>\n    <tr>\n      <th>499139</th>\n      <td>cagGTAATGTAAGAAGGAGTAAAATTATTTGCTTTCAGGTATTATT...</td>\n      <td>cagGTAATG</td>\n      <td>CTTTTTTTTTTTTTTTTAAGatg</td>\n    </tr>\n    <tr>\n      <th>499140</th>\n      <td>gggATTATGTTTTCCTTGATGTTAAGTGAATTAGCCAAACATAGAC...</td>\n      <td>gggATTATG</td>\n      <td>TGAAAACTTCTGTGTTTCAGaaa</td>\n    </tr>\n    <tr>\n      <th>499141</th>\n      <td>cgcCCTTGGTTTTCCTTACACCTTAGCCTTTGGCTCCTTTGACCAC...</td>\n      <td>cgcCCTTGG</td>\n      <td>GTCTACTTTCCAAATTACAGtct</td>\n    </tr>\n    <tr>\n      <th>499142</th>\n      <td>cctGCTTATCCAAATTCACCATTTCAAGTCGCCACTGGATATCAGT...</td>\n      <td>cctGCTTAT</td>\n      <td>TTTCTTTTCAGGCATTTCCTgct</td>\n    </tr>\n  </tbody>\n</table>\n<p>499143 rows × 3 columns</p>\n</div>"
     },
     "execution_count": 4,
     "metadata": {},
     "output_type": "execute_result"
    }
   ],
   "source": [
    "df[\"3_prime_site_maxent_seq\"] = df[\"sequence_maxentscan\"].apply(lambda x: x[-23:])\n",
    "df"
   ],
   "metadata": {
    "collapsed": false,
    "ExecuteTime": {
     "end_time": "2023-08-04T13:27:55.610664Z",
     "start_time": "2023-08-04T13:27:55.209197Z"
    }
   }
  },
  {
   "cell_type": "code",
   "execution_count": 5,
   "outputs": [
    {
     "data": {
      "text/plain": "       5_prime_site_maxent_seq  3_prime_site_maxent_seq\n0                    ccaGTAAGT  AGGCTCCTGTCTCCCCCCAGgtg\n1                    gagGTGAGA  TAGCCTCTGTTCCCACGAAGgca\n2                    gagCACTGG  AACCAGGCATAGGGGAAAGAttg\n3                    cttGTGAGT  GTCATCCCCTTCACTCCCAGctc\n4                    tagGCAAGC  TAGCCTCTGTTCCCACGAAGgca\n...                        ...                      ...\n499138               aatGTAAGA  CCATATTCATTTTTTTCTGCcaa\n499139               cagGTAATG  CTTTTTTTTTTTTTTTTAAGatg\n499140               gggATTATG  TGAAAACTTCTGTGTTTCAGaaa\n499141               cgcCCTTGG  GTCTACTTTCCAAATTACAGtct\n499142               cctGCTTAT  TTTCTTTTCAGGCATTTCCTgct\n\n[499143 rows x 2 columns]",
      "text/html": "<div>\n<style scoped>\n    .dataframe tbody tr th:only-of-type {\n        vertical-align: middle;\n    }\n\n    .dataframe tbody tr th {\n        vertical-align: top;\n    }\n\n    .dataframe thead th {\n        text-align: right;\n    }\n</style>\n<table border=\"1\" class=\"dataframe\">\n  <thead>\n    <tr style=\"text-align: right;\">\n      <th></th>\n      <th>5_prime_site_maxent_seq</th>\n      <th>3_prime_site_maxent_seq</th>\n    </tr>\n  </thead>\n  <tbody>\n    <tr>\n      <th>0</th>\n      <td>ccaGTAAGT</td>\n      <td>AGGCTCCTGTCTCCCCCCAGgtg</td>\n    </tr>\n    <tr>\n      <th>1</th>\n      <td>gagGTGAGA</td>\n      <td>TAGCCTCTGTTCCCACGAAGgca</td>\n    </tr>\n    <tr>\n      <th>2</th>\n      <td>gagCACTGG</td>\n      <td>AACCAGGCATAGGGGAAAGAttg</td>\n    </tr>\n    <tr>\n      <th>3</th>\n      <td>cttGTGAGT</td>\n      <td>GTCATCCCCTTCACTCCCAGctc</td>\n    </tr>\n    <tr>\n      <th>4</th>\n      <td>tagGCAAGC</td>\n      <td>TAGCCTCTGTTCCCACGAAGgca</td>\n    </tr>\n    <tr>\n      <th>...</th>\n      <td>...</td>\n      <td>...</td>\n    </tr>\n    <tr>\n      <th>499138</th>\n      <td>aatGTAAGA</td>\n      <td>CCATATTCATTTTTTTCTGCcaa</td>\n    </tr>\n    <tr>\n      <th>499139</th>\n      <td>cagGTAATG</td>\n      <td>CTTTTTTTTTTTTTTTTAAGatg</td>\n    </tr>\n    <tr>\n      <th>499140</th>\n      <td>gggATTATG</td>\n      <td>TGAAAACTTCTGTGTTTCAGaaa</td>\n    </tr>\n    <tr>\n      <th>499141</th>\n      <td>cgcCCTTGG</td>\n      <td>GTCTACTTTCCAAATTACAGtct</td>\n    </tr>\n    <tr>\n      <th>499142</th>\n      <td>cctGCTTAT</td>\n      <td>TTTCTTTTCAGGCATTTCCTgct</td>\n    </tr>\n  </tbody>\n</table>\n<p>499143 rows × 2 columns</p>\n</div>"
     },
     "execution_count": 5,
     "metadata": {},
     "output_type": "execute_result"
    }
   ],
   "source": [
    "df=df.drop(columns=[\"sequence_maxentscan\"], axis=1)\n",
    "df"
   ],
   "metadata": {
    "collapsed": false,
    "ExecuteTime": {
     "end_time": "2023-08-04T13:27:55.658392Z",
     "start_time": "2023-08-04T13:27:55.622293Z"
    }
   }
  },
  {
   "cell_type": "code",
   "execution_count": 6,
   "outputs": [
    {
     "name": "stdout",
     "output_type": "stream",
     "text": [
      "INFO: Pandarallel will run on 8 workers.\n",
      "INFO: Pandarallel will use standard multiprocessing data transfer (pipe) to transfer data between the main process and workers.\n"
     ]
    }
   ],
   "source": [
    "pandarallel.initialize()"
   ],
   "metadata": {
    "collapsed": false,
    "ExecuteTime": {
     "end_time": "2023-08-04T13:27:55.729374Z",
     "start_time": "2023-08-04T13:27:55.636078Z"
    }
   }
  },
  {
   "cell_type": "code",
   "execution_count": 7,
   "outputs": [],
   "source": [
    "def maxentscan_5(row):\n",
    "    \"\"\"\n",
    "    We call the tabix command, which look at the bed file to see if the row (which are entries in the intron that we extracted) overlaps with the repeat\n",
    "    regions detailed in the repeat_features.bed.gz, apart from the splice-site ({row.end-2}), we also look at the small-region that proceeds (2 nt in the exon; {row.end+2}) the splice-site.\n",
    "    \"\"\"\n",
    "    # score = !perl MaxEntScan/score5.pl {row.sequence[:9]} | cut -f2\n",
    "    # # score = score[-1:1]\n",
    "    # return score\n",
    "    target_sequence = row\n",
    "    if len(target_sequence) < 9:\n",
    "\t    return 0\n",
    "    result = subprocess.run(f\"perl MaxEntScan/score5.pl {target_sequence}\", shell=True, stdout=subprocess.PIPE, text=True)\n",
    "    try:\n",
    "    \tscore = result.stdout.strip().split(\"\\t\")[1]\n",
    "    except:\n",
    "        print(result)\n",
    "        return result\n",
    "    return score"
   ],
   "metadata": {
    "collapsed": false,
    "ExecuteTime": {
     "end_time": "2023-08-04T13:27:55.730200Z",
     "start_time": "2023-08-04T13:27:55.641365Z"
    }
   }
  },
  {
   "cell_type": "code",
   "execution_count": 8,
   "outputs": [
    {
     "name": "stdout",
     "output_type": "stream",
     "text": [
      "CPU times: user 32.4 ms, sys: 219 ms, total: 252 ms\n",
      "Wall time: 1min\n"
     ]
    }
   ],
   "source": [
    "%%time\n",
    "df_test = df.head(5000)\n",
    "df_test[\"5_prime_site_maxent_seq\"].parallel_apply(maxentscan_5)\n",
    "del df_test"
   ],
   "metadata": {
    "collapsed": false,
    "ExecuteTime": {
     "end_time": "2023-08-04T13:28:57.387786Z",
     "start_time": "2023-08-04T13:27:55.652367Z"
    }
   }
  },
  {
   "cell_type": "code",
   "execution_count": 9,
   "outputs": [
    {
     "name": "stdout",
     "output_type": "stream",
     "text": [
      "CPU times: user 274 ms, sys: 276 ms, total: 549 ms\n",
      "Wall time: 1h 59min 21s\n"
     ]
    }
   ],
   "source": [
    "%%time\n",
    "df[\"5_MaxEntScan\"] = df[\"5_prime_site_maxent_seq\"].parallel_apply(maxentscan_5)"
   ],
   "metadata": {
    "collapsed": false,
    "ExecuteTime": {
     "end_time": "2023-08-04T15:28:17.844080Z",
     "start_time": "2023-08-04T13:28:57.387182Z"
    }
   }
  },
  {
   "cell_type": "code",
   "execution_count": 10,
   "outputs": [
    {
     "data": {
      "text/plain": "Empty DataFrame\nColumns: [5_prime_site_maxent_seq, 3_prime_site_maxent_seq, 5_MaxEntScan]\nIndex: []",
      "text/html": "<div>\n<style scoped>\n    .dataframe tbody tr th:only-of-type {\n        vertical-align: middle;\n    }\n\n    .dataframe tbody tr th {\n        vertical-align: top;\n    }\n\n    .dataframe thead th {\n        text-align: right;\n    }\n</style>\n<table border=\"1\" class=\"dataframe\">\n  <thead>\n    <tr style=\"text-align: right;\">\n      <th></th>\n      <th>5_prime_site_maxent_seq</th>\n      <th>3_prime_site_maxent_seq</th>\n      <th>5_MaxEntScan</th>\n    </tr>\n  </thead>\n  <tbody>\n  </tbody>\n</table>\n</div>"
     },
     "execution_count": 10,
     "metadata": {},
     "output_type": "execute_result"
    }
   ],
   "source": [
    "df.loc[df[\"5_prime_site_maxent_seq\"].str.contains(\"N\"), \"5_MaxEntScan\"] = 0\n",
    "df[df[\"5_prime_site_maxent_seq\"].str.contains(\"N\")]"
   ],
   "metadata": {
    "collapsed": false,
    "ExecuteTime": {
     "end_time": "2023-08-04T15:28:18.202178Z",
     "start_time": "2023-08-04T15:28:17.881364Z"
    }
   }
  },
  {
   "cell_type": "markdown",
   "source": [
    "# 3-prime end"
   ],
   "metadata": {
    "collapsed": false
   }
  },
  {
   "cell_type": "code",
   "execution_count": 11,
   "outputs": [],
   "source": [
    "def maxentscan_3(row):\n",
    "    \"\"\"\n",
    "    We call the tabix command, which look at the bed file to see if the row (which are entries in the intron that we extracted) overlaps with the repeat\n",
    "    regions detailed in the repeat_features.bed.gz, apart from the splice-site ({row.end-2}), we also look at the small-region that proceeds (2 nt in the exon; {row.end+2}) the splice-site.\n",
    "    \"\"\"\n",
    "    target_sequence = row\n",
    "    if len(target_sequence) < 23:\n",
    "\t    return 0\n",
    "    result = subprocess.run(f\"perl MaxEntScan/score3.pl {target_sequence}\", shell=True, stdout=subprocess.PIPE, text=True)\n",
    "    try:\n",
    "    \tscore = result.stdout.strip().split(\"\\t\")[1]\n",
    "    except:\n",
    "        return 0\n",
    "    return score"
   ],
   "metadata": {
    "collapsed": false,
    "ExecuteTime": {
     "end_time": "2023-08-04T15:28:18.207334Z",
     "start_time": "2023-08-04T15:28:18.204923Z"
    }
   }
  },
  {
   "cell_type": "code",
   "execution_count": 12,
   "outputs": [
    {
     "data": {
      "text/plain": "       5_prime_site_maxent_seq 3_prime_site_maxent_seq 5_MaxEntScan\n31                   gaaCTGAct              gaaCTGActa        -7.85\n9968                   cggGccc                 cggGccc            0\n10255                gctAAGCTA       gctAAGCTAATGCTaat       -30.86\n10257                cggCAGTGA       cggCAGTGATGGCAtgt       -13.67\n11250                cacCTGAGg             cacCTGAGgtc        -2.49\n...                        ...                     ...          ...\n392156               gggCCTGAC       gggCCTGACTCCCTcac       -26.47\n395121                tcgCCcaa                tcgCCcaa            0\n396609                cgaCTtcc                cgaCTtcc            0\n397719                ctaATttt                ctaATttt            0\n402253               gaaCTGAct              gaaCTGActa        -7.85\n\n[69 rows x 3 columns]",
      "text/html": "<div>\n<style scoped>\n    .dataframe tbody tr th:only-of-type {\n        vertical-align: middle;\n    }\n\n    .dataframe tbody tr th {\n        vertical-align: top;\n    }\n\n    .dataframe thead th {\n        text-align: right;\n    }\n</style>\n<table border=\"1\" class=\"dataframe\">\n  <thead>\n    <tr style=\"text-align: right;\">\n      <th></th>\n      <th>5_prime_site_maxent_seq</th>\n      <th>3_prime_site_maxent_seq</th>\n      <th>5_MaxEntScan</th>\n    </tr>\n  </thead>\n  <tbody>\n    <tr>\n      <th>31</th>\n      <td>gaaCTGAct</td>\n      <td>gaaCTGActa</td>\n      <td>-7.85</td>\n    </tr>\n    <tr>\n      <th>9968</th>\n      <td>cggGccc</td>\n      <td>cggGccc</td>\n      <td>0</td>\n    </tr>\n    <tr>\n      <th>10255</th>\n      <td>gctAAGCTA</td>\n      <td>gctAAGCTAATGCTaat</td>\n      <td>-30.86</td>\n    </tr>\n    <tr>\n      <th>10257</th>\n      <td>cggCAGTGA</td>\n      <td>cggCAGTGATGGCAtgt</td>\n      <td>-13.67</td>\n    </tr>\n    <tr>\n      <th>11250</th>\n      <td>cacCTGAGg</td>\n      <td>cacCTGAGgtc</td>\n      <td>-2.49</td>\n    </tr>\n    <tr>\n      <th>...</th>\n      <td>...</td>\n      <td>...</td>\n      <td>...</td>\n    </tr>\n    <tr>\n      <th>392156</th>\n      <td>gggCCTGAC</td>\n      <td>gggCCTGACTCCCTcac</td>\n      <td>-26.47</td>\n    </tr>\n    <tr>\n      <th>395121</th>\n      <td>tcgCCcaa</td>\n      <td>tcgCCcaa</td>\n      <td>0</td>\n    </tr>\n    <tr>\n      <th>396609</th>\n      <td>cgaCTtcc</td>\n      <td>cgaCTtcc</td>\n      <td>0</td>\n    </tr>\n    <tr>\n      <th>397719</th>\n      <td>ctaATttt</td>\n      <td>ctaATttt</td>\n      <td>0</td>\n    </tr>\n    <tr>\n      <th>402253</th>\n      <td>gaaCTGAct</td>\n      <td>gaaCTGActa</td>\n      <td>-7.85</td>\n    </tr>\n  </tbody>\n</table>\n<p>69 rows × 3 columns</p>\n</div>"
     },
     "execution_count": 12,
     "metadata": {},
     "output_type": "execute_result"
    }
   ],
   "source": [
    "df[df[\"3_prime_site_maxent_seq\"].str.len() < 23]"
   ],
   "metadata": {
    "collapsed": false,
    "ExecuteTime": {
     "end_time": "2023-08-04T15:28:18.358960Z",
     "start_time": "2023-08-04T15:28:18.208796Z"
    }
   }
  },
  {
   "cell_type": "code",
   "execution_count": 13,
   "outputs": [
    {
     "name": "stdout",
     "output_type": "stream",
     "text": [
      "CPU times: user 289 ms, sys: 363 ms, total: 652 ms\n",
      "Wall time: 2h 1min 29s\n"
     ]
    }
   ],
   "source": [
    "%%time\n",
    "df[\"3_MaxEntScan\"] = df[\"3_prime_site_maxent_seq\"].parallel_apply(maxentscan_3)"
   ],
   "metadata": {
    "collapsed": false,
    "ExecuteTime": {
     "end_time": "2023-08-04T17:29:47.911012Z",
     "start_time": "2023-08-04T15:28:18.356421Z"
    }
   }
  },
  {
   "cell_type": "code",
   "execution_count": 14,
   "outputs": [
    {
     "data": {
      "text/plain": "Empty DataFrame\nColumns: [5_prime_site_maxent_seq, 3_prime_site_maxent_seq, 5_MaxEntScan, 3_MaxEntScan]\nIndex: []",
      "text/html": "<div>\n<style scoped>\n    .dataframe tbody tr th:only-of-type {\n        vertical-align: middle;\n    }\n\n    .dataframe tbody tr th {\n        vertical-align: top;\n    }\n\n    .dataframe thead th {\n        text-align: right;\n    }\n</style>\n<table border=\"1\" class=\"dataframe\">\n  <thead>\n    <tr style=\"text-align: right;\">\n      <th></th>\n      <th>5_prime_site_maxent_seq</th>\n      <th>3_prime_site_maxent_seq</th>\n      <th>5_MaxEntScan</th>\n      <th>3_MaxEntScan</th>\n    </tr>\n  </thead>\n  <tbody>\n  </tbody>\n</table>\n</div>"
     },
     "execution_count": 14,
     "metadata": {},
     "output_type": "execute_result"
    }
   ],
   "source": [
    "df.loc[df[\"3_prime_site_maxent_seq\"].str.contains(\"N\"), \"3_MaxEntScan\"] = 0\n",
    "df[df[\"3_prime_site_maxent_seq\"].str.contains(\"N\")]"
   ],
   "metadata": {
    "collapsed": false,
    "ExecuteTime": {
     "end_time": "2023-08-04T17:29:48.269182Z",
     "start_time": "2023-08-04T17:29:47.980522Z"
    }
   }
  },
  {
   "cell_type": "markdown",
   "source": [
    "Output to .tsv"
   ],
   "metadata": {
    "collapsed": false
   }
  },
  {
   "cell_type": "code",
   "execution_count": 15,
   "outputs": [],
   "source": [
    "df.to_csv(\"data/4.3_maxentscan\", sep=\"\\t\", index=False)"
   ],
   "metadata": {
    "collapsed": false,
    "ExecuteTime": {
     "end_time": "2023-08-04T17:29:49.594954Z",
     "start_time": "2023-08-04T17:29:48.267995Z"
    }
   }
  },
  {
   "cell_type": "code",
   "execution_count": null,
   "outputs": [],
   "source": [],
   "metadata": {
    "collapsed": false
   }
  },
  {
   "cell_type": "code",
   "execution_count": null,
   "outputs": [],
   "source": [],
   "metadata": {
    "collapsed": false
   }
  },
  {
   "cell_type": "code",
   "execution_count": null,
   "outputs": [],
   "source": [],
   "metadata": {
    "collapsed": false
   }
  }
 ],
 "metadata": {
  "kernelspec": {
   "display_name": "Python 3",
   "language": "python",
   "name": "python3"
  },
  "language_info": {
   "codemirror_mode": {
    "name": "ipython",
    "version": 2
   },
   "file_extension": ".py",
   "mimetype": "text/x-python",
   "name": "python",
   "nbconvert_exporter": "python",
   "pygments_lexer": "ipython2",
   "version": "2.7.6"
  }
 },
 "nbformat": 4,
 "nbformat_minor": 0
}
