{
 "cells": [
  {
   "cell_type": "markdown",
   "source": [
    "# Summary\n",
    "This Notebook record the analysis of the gene annotation test dataset, we first perform some preprocessing of the dataset including doing label encoding and one-hot encoding of different features, we then splitted the dataset to a 9:1 train-val to test ratio.\n",
    "\n",
    "We evaluated the performance of the XGBoost classifier model with two set of features:\n",
    "(1) Original features with preprocessing\n",
    "(2) Same as above, and we matched the coords to the sequence and added four features representing the sequence's A,C,G,T content proportion %\n",
    "\n",
    "The result shows that this additional feature is not very effective, however since we have already matched the coordinates to the sequence, we can perform other feature engineering techniques on the data.\n"
   ],
   "metadata": {
    "collapsed": false
   }
  },
  {
   "cell_type": "code",
   "execution_count": 2,
   "outputs": [],
   "source": [
    "import pandas as pd\n",
    "from sklearn.model_selection import train_test_split\n",
    "from sklearn import preprocessing\n",
    "from sklearn.model_selection import StratifiedKFold\n",
    "from sklearn.metrics import accuracy_score, roc_auc_score, balanced_accuracy_score, precision_score, matthews_corrcoef, confusion_matrix\n",
    "from xgboost import XGBClassifier\n",
    "import numpy as np\n",
    "import statistics\n",
    "from Bio.Seq import Seq\n",
    "from tqdm import tqdm\n",
    "from pyfaidx import Fasta"
   ],
   "metadata": {
    "collapsed": false,
    "ExecuteTime": {
     "end_time": "2023-05-01T14:37:10.481784Z",
     "start_time": "2023-05-01T14:37:08.601458Z"
    }
   }
  },
  {
   "cell_type": "code",
   "execution_count": 3,
   "metadata": {
    "collapsed": false,
    "ExecuteTime": {
     "end_time": "2023-05-01T14:37:10.482217Z",
     "start_time": "2023-05-01T14:37:10.474858Z"
    }
   },
   "outputs": [],
   "source": [
    "np.random.seed(0)"
   ]
  },
  {
   "cell_type": "code",
   "execution_count": 4,
   "metadata": {
    "collapsed": false,
    "ExecuteTime": {
     "end_time": "2023-05-01T14:37:10.556183Z",
     "start_time": "2023-05-01T14:37:10.482466Z"
    }
   },
   "outputs": [],
   "source": [
    "df_source_annot_test = pd.read_csv(\"gene_annot_test.tsv\", sep=\"\\t\")"
   ]
  },
  {
   "cell_type": "code",
   "execution_count": 5,
   "metadata": {
    "collapsed": false,
    "ExecuteTime": {
     "end_time": "2023-05-01T14:37:10.570501Z",
     "start_time": "2023-05-01T14:37:10.557764Z"
    }
   },
   "outputs": [],
   "source": [
    "df_annot_test = df_source_annot_test.copy()"
   ]
  },
  {
   "cell_type": "markdown",
   "metadata": {
    "collapsed": false
   },
   "source": [
    "### We can notice that, apart from intron_sources, most of the features can be transformed to binary using Sklearn's LabelEncoder.\n",
    "We can see from the unique labels of intron_sources that there are only 3 types"
   ]
  },
  {
   "cell_type": "code",
   "execution_count": 6,
   "metadata": {
    "collapsed": false,
    "ExecuteTime": {
     "end_time": "2023-05-01T14:37:10.609583Z",
     "start_time": "2023-05-01T14:37:10.568970Z"
    }
   },
   "outputs": [
    {
     "data": {
      "text/plain": "array(['SLR,CLS', 'CLS', 'SLR', 'SLR,RAC', 'SLR,CLS,RAC', 'RAC',\n       'CLS,RAC'], dtype=object)"
     },
     "execution_count": 6,
     "metadata": {},
     "output_type": "execute_result"
    }
   ],
   "source": [
    "df_annot_test.intron_sources.unique()"
   ]
  },
  {
   "cell_type": "code",
   "execution_count": 7,
   "metadata": {
    "collapsed": false,
    "ExecuteTime": {
     "end_time": "2023-05-01T14:37:10.655057Z",
     "start_time": "2023-05-01T14:37:10.595106Z"
    }
   },
   "outputs": [
    {
     "data": {
      "text/plain": "                          coords   outcome   score  length prev_annot  \\\n0          chr1:261635-267302:-1  accepted     888    5668        yes   \n1          chr1:259026-261549:-1  accepted     650    2524        yes   \n2          chr1:732208-739802:-1  rejected       0    7595         no   \n3          chr1:720201-732016:-1  accepted       0   11816        yes   \n4          chr1:711923-720031:-1  accepted      27    8109        yes   \n...                          ...       ...     ...     ...        ...   \n11005   chrY:20582694-20584473:1  accepted  278936    1780        yes   \n11006   chrY:20584525-20588023:1  accepted  286043    3499        yes   \n11007   chrY:20588106-20589483:1  accepted  444721    1378        yes   \n11008   chrY:20589576-20592340:1  accepted  468983    2765        yes   \n11009  chrY:20726098-20734468:-1  accepted       9    8371         no   \n\n        transcript_source intron_sources splice_site  \\\n0                  SLRseq        SLR,CLS      GT..AG   \n1                  SLRseq        SLR,CLS      GT..AG   \n2      PacBio Capture-seq            CLS      GT..AG   \n3      PacBio Capture-seq            CLS      GT..AG   \n4      PacBio Capture-seq            CLS      GT..AG   \n...                   ...            ...         ...   \n11005  PacBio Capture-seq    SLR,CLS,RAC      GT..AG   \n11006  PacBio Capture-seq    SLR,CLS,RAC      GT..AG   \n11007  PacBio Capture-seq    SLR,CLS,RAC      GT..AG   \n11008  PacBio Capture-seq    SLR,CLS,RAC      GT..AG   \n11009  PacBio Capture-seq            CLS      GT..AG   \n\n                                        repeat_overlap ss_antisense  ...  \\\n0                              Type I Transposons/LINE           no  ...   \n1                              Type I Transposons/LINE           no  ...   \n2                              Type I Transposons/SINE           no  ...   \n3                                  Type II Transposons           no  ...   \n4                                           No overlap           no  ...   \n...                                                ...          ...  ...   \n11005                                       No overlap           no  ...   \n11006                                       No overlap           no  ...   \n11007                                       No overlap           no  ...   \n11008                                       No overlap           no  ...   \n11009  Type I Transposons/LINE,Type I Transposons/SINE           no  ...   \n\n      opp_strand false_ret_int       transcript_id  \\\n0             no            no  OTTHUMT00000499557   \n1             no            no  OTTHUMT00000499557   \n2             no            no  OTTHUMT00000500170   \n3             no            no  OTTHUMT00000500170   \n4             no            no  OTTHUMT00000500170   \n...          ...           ...                 ...   \n11005         no            no  OTTHUMT00000500440   \n11006         no            no  OTTHUMT00000500440   \n11007         no            no  OTTHUMT00000500440   \n11008         no            no  OTTHUMT00000500440   \n11009         no            no  OTTHUMT00000500305   \n\n                                  gtype    bbiotype rel_int_sup rel_int_sup_k  \\\n0      transcribed_processed_pseudogene  non-coding    0.311999      0.311999   \n1      transcribed_processed_pseudogene  non-coding   -0.311999     -0.311999   \n2      transcribed_processed_pseudogene  non-coding   -2.525729     -2.708050   \n3      transcribed_processed_pseudogene  non-coding   -2.525729     -2.931194   \n4      transcribed_processed_pseudogene  non-coding    1.216395      0.810930   \n...                                 ...         ...         ...           ...   \n11005                    protein_coding      coding   -0.141738     -0.364851   \n11006                    protein_coding      coding   -0.112146     -0.335259   \n11007                    protein_coding      coding    0.433606      0.210496   \n11008                    protein_coding      coding    0.503702      0.280593   \n11009                         comp_pipe       novel         NaN           NaN   \n\n      intron_sources_SLR  intron_sources_CLS  intron_sources_RAC  \n0                      1                   1                   0  \n1                      1                   1                   0  \n2                      0                   1                   0  \n3                      0                   1                   0  \n4                      0                   1                   0  \n...                  ...                 ...                 ...  \n11005                  1                   1                   1  \n11006                  1                   1                   1  \n11007                  1                   1                   1  \n11008                  1                   1                   1  \n11009                  0                   1                   0  \n\n[11010 rows x 23 columns]",
      "text/html": "<div>\n<style scoped>\n    .dataframe tbody tr th:only-of-type {\n        vertical-align: middle;\n    }\n\n    .dataframe tbody tr th {\n        vertical-align: top;\n    }\n\n    .dataframe thead th {\n        text-align: right;\n    }\n</style>\n<table border=\"1\" class=\"dataframe\">\n  <thead>\n    <tr style=\"text-align: right;\">\n      <th></th>\n      <th>coords</th>\n      <th>outcome</th>\n      <th>score</th>\n      <th>length</th>\n      <th>prev_annot</th>\n      <th>transcript_source</th>\n      <th>intron_sources</th>\n      <th>splice_site</th>\n      <th>repeat_overlap</th>\n      <th>ss_antisense</th>\n      <th>...</th>\n      <th>opp_strand</th>\n      <th>false_ret_int</th>\n      <th>transcript_id</th>\n      <th>gtype</th>\n      <th>bbiotype</th>\n      <th>rel_int_sup</th>\n      <th>rel_int_sup_k</th>\n      <th>intron_sources_SLR</th>\n      <th>intron_sources_CLS</th>\n      <th>intron_sources_RAC</th>\n    </tr>\n  </thead>\n  <tbody>\n    <tr>\n      <th>0</th>\n      <td>chr1:261635-267302:-1</td>\n      <td>accepted</td>\n      <td>888</td>\n      <td>5668</td>\n      <td>yes</td>\n      <td>SLRseq</td>\n      <td>SLR,CLS</td>\n      <td>GT..AG</td>\n      <td>Type I Transposons/LINE</td>\n      <td>no</td>\n      <td>...</td>\n      <td>no</td>\n      <td>no</td>\n      <td>OTTHUMT00000499557</td>\n      <td>transcribed_processed_pseudogene</td>\n      <td>non-coding</td>\n      <td>0.311999</td>\n      <td>0.311999</td>\n      <td>1</td>\n      <td>1</td>\n      <td>0</td>\n    </tr>\n    <tr>\n      <th>1</th>\n      <td>chr1:259026-261549:-1</td>\n      <td>accepted</td>\n      <td>650</td>\n      <td>2524</td>\n      <td>yes</td>\n      <td>SLRseq</td>\n      <td>SLR,CLS</td>\n      <td>GT..AG</td>\n      <td>Type I Transposons/LINE</td>\n      <td>no</td>\n      <td>...</td>\n      <td>no</td>\n      <td>no</td>\n      <td>OTTHUMT00000499557</td>\n      <td>transcribed_processed_pseudogene</td>\n      <td>non-coding</td>\n      <td>-0.311999</td>\n      <td>-0.311999</td>\n      <td>1</td>\n      <td>1</td>\n      <td>0</td>\n    </tr>\n    <tr>\n      <th>2</th>\n      <td>chr1:732208-739802:-1</td>\n      <td>rejected</td>\n      <td>0</td>\n      <td>7595</td>\n      <td>no</td>\n      <td>PacBio Capture-seq</td>\n      <td>CLS</td>\n      <td>GT..AG</td>\n      <td>Type I Transposons/SINE</td>\n      <td>no</td>\n      <td>...</td>\n      <td>no</td>\n      <td>no</td>\n      <td>OTTHUMT00000500170</td>\n      <td>transcribed_processed_pseudogene</td>\n      <td>non-coding</td>\n      <td>-2.525729</td>\n      <td>-2.708050</td>\n      <td>0</td>\n      <td>1</td>\n      <td>0</td>\n    </tr>\n    <tr>\n      <th>3</th>\n      <td>chr1:720201-732016:-1</td>\n      <td>accepted</td>\n      <td>0</td>\n      <td>11816</td>\n      <td>yes</td>\n      <td>PacBio Capture-seq</td>\n      <td>CLS</td>\n      <td>GT..AG</td>\n      <td>Type II Transposons</td>\n      <td>no</td>\n      <td>...</td>\n      <td>no</td>\n      <td>no</td>\n      <td>OTTHUMT00000500170</td>\n      <td>transcribed_processed_pseudogene</td>\n      <td>non-coding</td>\n      <td>-2.525729</td>\n      <td>-2.931194</td>\n      <td>0</td>\n      <td>1</td>\n      <td>0</td>\n    </tr>\n    <tr>\n      <th>4</th>\n      <td>chr1:711923-720031:-1</td>\n      <td>accepted</td>\n      <td>27</td>\n      <td>8109</td>\n      <td>yes</td>\n      <td>PacBio Capture-seq</td>\n      <td>CLS</td>\n      <td>GT..AG</td>\n      <td>No overlap</td>\n      <td>no</td>\n      <td>...</td>\n      <td>no</td>\n      <td>no</td>\n      <td>OTTHUMT00000500170</td>\n      <td>transcribed_processed_pseudogene</td>\n      <td>non-coding</td>\n      <td>1.216395</td>\n      <td>0.810930</td>\n      <td>0</td>\n      <td>1</td>\n      <td>0</td>\n    </tr>\n    <tr>\n      <th>...</th>\n      <td>...</td>\n      <td>...</td>\n      <td>...</td>\n      <td>...</td>\n      <td>...</td>\n      <td>...</td>\n      <td>...</td>\n      <td>...</td>\n      <td>...</td>\n      <td>...</td>\n      <td>...</td>\n      <td>...</td>\n      <td>...</td>\n      <td>...</td>\n      <td>...</td>\n      <td>...</td>\n      <td>...</td>\n      <td>...</td>\n      <td>...</td>\n      <td>...</td>\n      <td>...</td>\n    </tr>\n    <tr>\n      <th>11005</th>\n      <td>chrY:20582694-20584473:1</td>\n      <td>accepted</td>\n      <td>278936</td>\n      <td>1780</td>\n      <td>yes</td>\n      <td>PacBio Capture-seq</td>\n      <td>SLR,CLS,RAC</td>\n      <td>GT..AG</td>\n      <td>No overlap</td>\n      <td>no</td>\n      <td>...</td>\n      <td>no</td>\n      <td>no</td>\n      <td>OTTHUMT00000500440</td>\n      <td>protein_coding</td>\n      <td>coding</td>\n      <td>-0.141738</td>\n      <td>-0.364851</td>\n      <td>1</td>\n      <td>1</td>\n      <td>1</td>\n    </tr>\n    <tr>\n      <th>11006</th>\n      <td>chrY:20584525-20588023:1</td>\n      <td>accepted</td>\n      <td>286043</td>\n      <td>3499</td>\n      <td>yes</td>\n      <td>PacBio Capture-seq</td>\n      <td>SLR,CLS,RAC</td>\n      <td>GT..AG</td>\n      <td>No overlap</td>\n      <td>no</td>\n      <td>...</td>\n      <td>no</td>\n      <td>no</td>\n      <td>OTTHUMT00000500440</td>\n      <td>protein_coding</td>\n      <td>coding</td>\n      <td>-0.112146</td>\n      <td>-0.335259</td>\n      <td>1</td>\n      <td>1</td>\n      <td>1</td>\n    </tr>\n    <tr>\n      <th>11007</th>\n      <td>chrY:20588106-20589483:1</td>\n      <td>accepted</td>\n      <td>444721</td>\n      <td>1378</td>\n      <td>yes</td>\n      <td>PacBio Capture-seq</td>\n      <td>SLR,CLS,RAC</td>\n      <td>GT..AG</td>\n      <td>No overlap</td>\n      <td>no</td>\n      <td>...</td>\n      <td>no</td>\n      <td>no</td>\n      <td>OTTHUMT00000500440</td>\n      <td>protein_coding</td>\n      <td>coding</td>\n      <td>0.433606</td>\n      <td>0.210496</td>\n      <td>1</td>\n      <td>1</td>\n      <td>1</td>\n    </tr>\n    <tr>\n      <th>11008</th>\n      <td>chrY:20589576-20592340:1</td>\n      <td>accepted</td>\n      <td>468983</td>\n      <td>2765</td>\n      <td>yes</td>\n      <td>PacBio Capture-seq</td>\n      <td>SLR,CLS,RAC</td>\n      <td>GT..AG</td>\n      <td>No overlap</td>\n      <td>no</td>\n      <td>...</td>\n      <td>no</td>\n      <td>no</td>\n      <td>OTTHUMT00000500440</td>\n      <td>protein_coding</td>\n      <td>coding</td>\n      <td>0.503702</td>\n      <td>0.280593</td>\n      <td>1</td>\n      <td>1</td>\n      <td>1</td>\n    </tr>\n    <tr>\n      <th>11009</th>\n      <td>chrY:20726098-20734468:-1</td>\n      <td>accepted</td>\n      <td>9</td>\n      <td>8371</td>\n      <td>no</td>\n      <td>PacBio Capture-seq</td>\n      <td>CLS</td>\n      <td>GT..AG</td>\n      <td>Type I Transposons/LINE,Type I Transposons/SINE</td>\n      <td>no</td>\n      <td>...</td>\n      <td>no</td>\n      <td>no</td>\n      <td>OTTHUMT00000500305</td>\n      <td>comp_pipe</td>\n      <td>novel</td>\n      <td>NaN</td>\n      <td>NaN</td>\n      <td>0</td>\n      <td>1</td>\n      <td>0</td>\n    </tr>\n  </tbody>\n</table>\n<p>11010 rows × 23 columns</p>\n</div>"
     },
     "execution_count": 7,
     "metadata": {},
     "output_type": "execute_result"
    }
   ],
   "source": [
    "df_annot_test[\"intron_sources_SLR\"] = df_annot_test[\"intron_sources\"].str.contains(\"SLR\").astype(int)\n",
    "df_annot_test[\"intron_sources_CLS\"] = df_annot_test[\"intron_sources\"].str.contains(\"CLS\").astype(int)\n",
    "df_annot_test[\"intron_sources_RAC\"] = df_annot_test[\"intron_sources\"].str.contains(\"RAC\").astype(int)\n",
    "df_annot_test"
   ]
  },
  {
   "cell_type": "code",
   "execution_count": 8,
   "outputs": [
    {
     "data": {
      "text/plain": "array(['GT..AG', 'GC..AG', 'AT..AC', 'GT..GG'], dtype=object)"
     },
     "execution_count": 8,
     "metadata": {},
     "output_type": "execute_result"
    }
   ],
   "source": [
    "df_annot_test.splice_site.unique()"
   ],
   "metadata": {
    "collapsed": false,
    "ExecuteTime": {
     "end_time": "2023-05-01T14:37:10.655661Z",
     "start_time": "2023-05-01T14:37:10.646499Z"
    }
   }
  },
  {
   "cell_type": "code",
   "execution_count": 9,
   "outputs": [
    {
     "data": {
      "text/plain": "       GT..AG  GC..AG  AT..AC  GT..GG\n0           1       0       0       0\n1           1       0       0       0\n2           1       0       0       0\n3           1       0       0       0\n4           1       0       0       0\n...       ...     ...     ...     ...\n11005       1       0       0       0\n11006       1       0       0       0\n11007       1       0       0       0\n11008       1       0       0       0\n11009       1       0       0       0\n\n[11010 rows x 4 columns]",
      "text/html": "<div>\n<style scoped>\n    .dataframe tbody tr th:only-of-type {\n        vertical-align: middle;\n    }\n\n    .dataframe tbody tr th {\n        vertical-align: top;\n    }\n\n    .dataframe thead th {\n        text-align: right;\n    }\n</style>\n<table border=\"1\" class=\"dataframe\">\n  <thead>\n    <tr style=\"text-align: right;\">\n      <th></th>\n      <th>GT..AG</th>\n      <th>GC..AG</th>\n      <th>AT..AC</th>\n      <th>GT..GG</th>\n    </tr>\n  </thead>\n  <tbody>\n    <tr>\n      <th>0</th>\n      <td>1</td>\n      <td>0</td>\n      <td>0</td>\n      <td>0</td>\n    </tr>\n    <tr>\n      <th>1</th>\n      <td>1</td>\n      <td>0</td>\n      <td>0</td>\n      <td>0</td>\n    </tr>\n    <tr>\n      <th>2</th>\n      <td>1</td>\n      <td>0</td>\n      <td>0</td>\n      <td>0</td>\n    </tr>\n    <tr>\n      <th>3</th>\n      <td>1</td>\n      <td>0</td>\n      <td>0</td>\n      <td>0</td>\n    </tr>\n    <tr>\n      <th>4</th>\n      <td>1</td>\n      <td>0</td>\n      <td>0</td>\n      <td>0</td>\n    </tr>\n    <tr>\n      <th>...</th>\n      <td>...</td>\n      <td>...</td>\n      <td>...</td>\n      <td>...</td>\n    </tr>\n    <tr>\n      <th>11005</th>\n      <td>1</td>\n      <td>0</td>\n      <td>0</td>\n      <td>0</td>\n    </tr>\n    <tr>\n      <th>11006</th>\n      <td>1</td>\n      <td>0</td>\n      <td>0</td>\n      <td>0</td>\n    </tr>\n    <tr>\n      <th>11007</th>\n      <td>1</td>\n      <td>0</td>\n      <td>0</td>\n      <td>0</td>\n    </tr>\n    <tr>\n      <th>11008</th>\n      <td>1</td>\n      <td>0</td>\n      <td>0</td>\n      <td>0</td>\n    </tr>\n    <tr>\n      <th>11009</th>\n      <td>1</td>\n      <td>0</td>\n      <td>0</td>\n      <td>0</td>\n    </tr>\n  </tbody>\n</table>\n<p>11010 rows × 4 columns</p>\n</div>"
     },
     "execution_count": 9,
     "metadata": {},
     "output_type": "execute_result"
    }
   ],
   "source": [
    "for splice_site_value in df_annot_test.splice_site.unique():\n",
    "    df_annot_test[splice_site_value] = df_annot_test[\"splice_site\"].str.contains(str(splice_site_value)).astype(int)\n",
    "\n",
    "df_annot_test.iloc[:, -4:]"
   ],
   "metadata": {
    "collapsed": false,
    "ExecuteTime": {
     "end_time": "2023-05-01T14:37:10.727720Z",
     "start_time": "2023-05-01T14:37:10.689688Z"
    }
   }
  },
  {
   "cell_type": "markdown",
   "metadata": {
    "collapsed": false
   },
   "source": [
    "### We convert \"accepted\" and \"rejected\" to 1s and 0s, this facilitates the calculation of ROC curve"
   ]
  },
  {
   "cell_type": "code",
   "execution_count": 10,
   "metadata": {
    "collapsed": false,
    "ExecuteTime": {
     "end_time": "2023-05-01T14:37:10.899925Z",
     "start_time": "2023-05-01T14:37:10.707123Z"
    }
   },
   "outputs": [
    {
     "data": {
      "text/plain": "                          coords  outcome  score  length  prev_annot  \\\n0          chr1:261635-267302:-1        0    696    3524           1   \n1          chr1:259026-261549:-1        0    558    2130           1   \n2          chr1:732208-739802:-1        1      0    4005           0   \n3          chr1:720201-732016:-1        0      0    4609           1   \n4          chr1:711923-720031:-1        0     26    4092           1   \n...                          ...      ...    ...     ...         ...   \n11005   chrY:20582694-20584473:1        0   5548    1593           1   \n11006   chrY:20584525-20588023:1        0   5595    2703           1   \n11007   chrY:20588106-20589483:1        0   6348    1256           1   \n11008   chrY:20589576-20592340:1        0   6428    2279           1   \n11009  chrY:20726098-20734468:-1        0      8    4126           0   \n\n       transcript_source  intron_sources  splice_site  repeat_overlap  \\\n0                      3               4            2               9   \n1                      3               4            2               9   \n2                      1               0            2              20   \n3                      1               0            2              22   \n4                      1               0            2               2   \n...                  ...             ...          ...             ...   \n11005                  1               5            2               2   \n11006                  1               5            2               2   \n11007                  1               5            2               2   \n11008                  1               5            2               2   \n11009                  1               0            2              15   \n\n       ss_antisense  ...  bbiotype  rel_int_sup  rel_int_sup_k  \\\n0                 0  ...         1         7185           7199   \n1                 0  ...         1         3479           3283   \n2                 0  ...         1         1629           1496   \n3                 0  ...         1         1629           1399   \n4                 0  ...         1         9330           8260   \n...             ...  ...       ...          ...            ...   \n11005             0  ...         0         4092           3128   \n11006             0  ...         0         4275           3207   \n11007             0  ...         0         7867           6679   \n11008             0  ...         0         8162           7043   \n11009             0  ...         2         9921           8598   \n\n       intron_sources_SLR  intron_sources_CLS  intron_sources_RAC  GT..AG  \\\n0                       1                   1                   0       1   \n1                       1                   1                   0       1   \n2                       0                   1                   0       1   \n3                       0                   1                   0       1   \n4                       0                   1                   0       1   \n...                   ...                 ...                 ...     ...   \n11005                   1                   1                   1       1   \n11006                   1                   1                   1       1   \n11007                   1                   1                   1       1   \n11008                   1                   1                   1       1   \n11009                   0                   1                   0       1   \n\n       GC..AG  AT..AC  GT..GG  \n0           0       0       0  \n1           0       0       0  \n2           0       0       0  \n3           0       0       0  \n4           0       0       0  \n...       ...     ...     ...  \n11005       0       0       0  \n11006       0       0       0  \n11007       0       0       0  \n11008       0       0       0  \n11009       0       0       0  \n\n[11010 rows x 27 columns]",
      "text/html": "<div>\n<style scoped>\n    .dataframe tbody tr th:only-of-type {\n        vertical-align: middle;\n    }\n\n    .dataframe tbody tr th {\n        vertical-align: top;\n    }\n\n    .dataframe thead th {\n        text-align: right;\n    }\n</style>\n<table border=\"1\" class=\"dataframe\">\n  <thead>\n    <tr style=\"text-align: right;\">\n      <th></th>\n      <th>coords</th>\n      <th>outcome</th>\n      <th>score</th>\n      <th>length</th>\n      <th>prev_annot</th>\n      <th>transcript_source</th>\n      <th>intron_sources</th>\n      <th>splice_site</th>\n      <th>repeat_overlap</th>\n      <th>ss_antisense</th>\n      <th>...</th>\n      <th>bbiotype</th>\n      <th>rel_int_sup</th>\n      <th>rel_int_sup_k</th>\n      <th>intron_sources_SLR</th>\n      <th>intron_sources_CLS</th>\n      <th>intron_sources_RAC</th>\n      <th>GT..AG</th>\n      <th>GC..AG</th>\n      <th>AT..AC</th>\n      <th>GT..GG</th>\n    </tr>\n  </thead>\n  <tbody>\n    <tr>\n      <th>0</th>\n      <td>chr1:261635-267302:-1</td>\n      <td>0</td>\n      <td>696</td>\n      <td>3524</td>\n      <td>1</td>\n      <td>3</td>\n      <td>4</td>\n      <td>2</td>\n      <td>9</td>\n      <td>0</td>\n      <td>...</td>\n      <td>1</td>\n      <td>7185</td>\n      <td>7199</td>\n      <td>1</td>\n      <td>1</td>\n      <td>0</td>\n      <td>1</td>\n      <td>0</td>\n      <td>0</td>\n      <td>0</td>\n    </tr>\n    <tr>\n      <th>1</th>\n      <td>chr1:259026-261549:-1</td>\n      <td>0</td>\n      <td>558</td>\n      <td>2130</td>\n      <td>1</td>\n      <td>3</td>\n      <td>4</td>\n      <td>2</td>\n      <td>9</td>\n      <td>0</td>\n      <td>...</td>\n      <td>1</td>\n      <td>3479</td>\n      <td>3283</td>\n      <td>1</td>\n      <td>1</td>\n      <td>0</td>\n      <td>1</td>\n      <td>0</td>\n      <td>0</td>\n      <td>0</td>\n    </tr>\n    <tr>\n      <th>2</th>\n      <td>chr1:732208-739802:-1</td>\n      <td>1</td>\n      <td>0</td>\n      <td>4005</td>\n      <td>0</td>\n      <td>1</td>\n      <td>0</td>\n      <td>2</td>\n      <td>20</td>\n      <td>0</td>\n      <td>...</td>\n      <td>1</td>\n      <td>1629</td>\n      <td>1496</td>\n      <td>0</td>\n      <td>1</td>\n      <td>0</td>\n      <td>1</td>\n      <td>0</td>\n      <td>0</td>\n      <td>0</td>\n    </tr>\n    <tr>\n      <th>3</th>\n      <td>chr1:720201-732016:-1</td>\n      <td>0</td>\n      <td>0</td>\n      <td>4609</td>\n      <td>1</td>\n      <td>1</td>\n      <td>0</td>\n      <td>2</td>\n      <td>22</td>\n      <td>0</td>\n      <td>...</td>\n      <td>1</td>\n      <td>1629</td>\n      <td>1399</td>\n      <td>0</td>\n      <td>1</td>\n      <td>0</td>\n      <td>1</td>\n      <td>0</td>\n      <td>0</td>\n      <td>0</td>\n    </tr>\n    <tr>\n      <th>4</th>\n      <td>chr1:711923-720031:-1</td>\n      <td>0</td>\n      <td>26</td>\n      <td>4092</td>\n      <td>1</td>\n      <td>1</td>\n      <td>0</td>\n      <td>2</td>\n      <td>2</td>\n      <td>0</td>\n      <td>...</td>\n      <td>1</td>\n      <td>9330</td>\n      <td>8260</td>\n      <td>0</td>\n      <td>1</td>\n      <td>0</td>\n      <td>1</td>\n      <td>0</td>\n      <td>0</td>\n      <td>0</td>\n    </tr>\n    <tr>\n      <th>...</th>\n      <td>...</td>\n      <td>...</td>\n      <td>...</td>\n      <td>...</td>\n      <td>...</td>\n      <td>...</td>\n      <td>...</td>\n      <td>...</td>\n      <td>...</td>\n      <td>...</td>\n      <td>...</td>\n      <td>...</td>\n      <td>...</td>\n      <td>...</td>\n      <td>...</td>\n      <td>...</td>\n      <td>...</td>\n      <td>...</td>\n      <td>...</td>\n      <td>...</td>\n      <td>...</td>\n    </tr>\n    <tr>\n      <th>11005</th>\n      <td>chrY:20582694-20584473:1</td>\n      <td>0</td>\n      <td>5548</td>\n      <td>1593</td>\n      <td>1</td>\n      <td>1</td>\n      <td>5</td>\n      <td>2</td>\n      <td>2</td>\n      <td>0</td>\n      <td>...</td>\n      <td>0</td>\n      <td>4092</td>\n      <td>3128</td>\n      <td>1</td>\n      <td>1</td>\n      <td>1</td>\n      <td>1</td>\n      <td>0</td>\n      <td>0</td>\n      <td>0</td>\n    </tr>\n    <tr>\n      <th>11006</th>\n      <td>chrY:20584525-20588023:1</td>\n      <td>0</td>\n      <td>5595</td>\n      <td>2703</td>\n      <td>1</td>\n      <td>1</td>\n      <td>5</td>\n      <td>2</td>\n      <td>2</td>\n      <td>0</td>\n      <td>...</td>\n      <td>0</td>\n      <td>4275</td>\n      <td>3207</td>\n      <td>1</td>\n      <td>1</td>\n      <td>1</td>\n      <td>1</td>\n      <td>0</td>\n      <td>0</td>\n      <td>0</td>\n    </tr>\n    <tr>\n      <th>11007</th>\n      <td>chrY:20588106-20589483:1</td>\n      <td>0</td>\n      <td>6348</td>\n      <td>1256</td>\n      <td>1</td>\n      <td>1</td>\n      <td>5</td>\n      <td>2</td>\n      <td>2</td>\n      <td>0</td>\n      <td>...</td>\n      <td>0</td>\n      <td>7867</td>\n      <td>6679</td>\n      <td>1</td>\n      <td>1</td>\n      <td>1</td>\n      <td>1</td>\n      <td>0</td>\n      <td>0</td>\n      <td>0</td>\n    </tr>\n    <tr>\n      <th>11008</th>\n      <td>chrY:20589576-20592340:1</td>\n      <td>0</td>\n      <td>6428</td>\n      <td>2279</td>\n      <td>1</td>\n      <td>1</td>\n      <td>5</td>\n      <td>2</td>\n      <td>2</td>\n      <td>0</td>\n      <td>...</td>\n      <td>0</td>\n      <td>8162</td>\n      <td>7043</td>\n      <td>1</td>\n      <td>1</td>\n      <td>1</td>\n      <td>1</td>\n      <td>0</td>\n      <td>0</td>\n      <td>0</td>\n    </tr>\n    <tr>\n      <th>11009</th>\n      <td>chrY:20726098-20734468:-1</td>\n      <td>0</td>\n      <td>8</td>\n      <td>4126</td>\n      <td>0</td>\n      <td>1</td>\n      <td>0</td>\n      <td>2</td>\n      <td>15</td>\n      <td>0</td>\n      <td>...</td>\n      <td>2</td>\n      <td>9921</td>\n      <td>8598</td>\n      <td>0</td>\n      <td>1</td>\n      <td>0</td>\n      <td>1</td>\n      <td>0</td>\n      <td>0</td>\n      <td>0</td>\n    </tr>\n  </tbody>\n</table>\n<p>11010 rows × 27 columns</p>\n</div>"
     },
     "execution_count": 10,
     "metadata": {},
     "output_type": "execute_result"
    }
   ],
   "source": [
    "for col in df_annot_test.drop([\"coords\"], axis=1).columns:\n",
    "    le = preprocessing.LabelEncoder()\n",
    "    le.fit(df_annot_test[col])\n",
    "    df_annot_test[col] = le.transform(df_annot_test[col])\n",
    "\n",
    "df_annot_test"
   ]
  },
  {
   "cell_type": "markdown",
   "metadata": {
    "collapsed": false
   },
   "source": [
    "### We then select all the relevant column(s) for the input features and the label"
   ]
  },
  {
   "cell_type": "code",
   "execution_count": 11,
   "metadata": {
    "collapsed": false,
    "ExecuteTime": {
     "end_time": "2023-05-01T14:37:10.913098Z",
     "start_time": "2023-05-01T14:37:10.830726Z"
    }
   },
   "outputs": [
    {
     "data": {
      "text/plain": "       score  length  prev_annot  transcript_source  intron_sources  \\\n0        696    3524           1                  3               4   \n1        558    2130           1                  3               4   \n2          0    4005           0                  1               0   \n3          0    4609           1                  1               0   \n4         26    4092           1                  1               0   \n...      ...     ...         ...                ...             ...   \n11005   5548    1593           1                  1               5   \n11006   5595    2703           1                  1               5   \n11007   6348    1256           1                  1               5   \n11008   6428    2279           1                  1               5   \n11009      8    4126           0                  1               0   \n\n       repeat_overlap  ss_antisense  annot_match  incorrect_locus  opp_strand  \\\n0                   9             0            1                0           0   \n1                   9             0            1                0           0   \n2                  20             0            0                0           0   \n3                  22             0            0                0           0   \n4                   2             0            0                0           0   \n...               ...           ...          ...              ...         ...   \n11005               2             0            1                0           0   \n11006               2             0            1                0           0   \n11007               2             0            1                0           0   \n11008               2             0            1                0           0   \n11009              15             0            0                0           0   \n\n       ...  bbiotype  rel_int_sup  rel_int_sup_k  intron_sources_SLR  \\\n0      ...         1         7185           7199                   1   \n1      ...         1         3479           3283                   1   \n2      ...         1         1629           1496                   0   \n3      ...         1         1629           1399                   0   \n4      ...         1         9330           8260                   0   \n...    ...       ...          ...            ...                 ...   \n11005  ...         0         4092           3128                   1   \n11006  ...         0         4275           3207                   1   \n11007  ...         0         7867           6679                   1   \n11008  ...         0         8162           7043                   1   \n11009  ...         2         9921           8598                   0   \n\n       intron_sources_CLS  intron_sources_RAC  GT..AG  GC..AG  AT..AC  GT..GG  \n0                       1                   0       1       0       0       0  \n1                       1                   0       1       0       0       0  \n2                       1                   0       1       0       0       0  \n3                       1                   0       1       0       0       0  \n4                       1                   0       1       0       0       0  \n...                   ...                 ...     ...     ...     ...     ...  \n11005                   1                   1       1       0       0       0  \n11006                   1                   1       1       0       0       0  \n11007                   1                   1       1       0       0       0  \n11008                   1                   1       1       0       0       0  \n11009                   1                   0       1       0       0       0  \n\n[11010 rows x 21 columns]",
      "text/html": "<div>\n<style scoped>\n    .dataframe tbody tr th:only-of-type {\n        vertical-align: middle;\n    }\n\n    .dataframe tbody tr th {\n        vertical-align: top;\n    }\n\n    .dataframe thead th {\n        text-align: right;\n    }\n</style>\n<table border=\"1\" class=\"dataframe\">\n  <thead>\n    <tr style=\"text-align: right;\">\n      <th></th>\n      <th>score</th>\n      <th>length</th>\n      <th>prev_annot</th>\n      <th>transcript_source</th>\n      <th>intron_sources</th>\n      <th>repeat_overlap</th>\n      <th>ss_antisense</th>\n      <th>annot_match</th>\n      <th>incorrect_locus</th>\n      <th>opp_strand</th>\n      <th>...</th>\n      <th>bbiotype</th>\n      <th>rel_int_sup</th>\n      <th>rel_int_sup_k</th>\n      <th>intron_sources_SLR</th>\n      <th>intron_sources_CLS</th>\n      <th>intron_sources_RAC</th>\n      <th>GT..AG</th>\n      <th>GC..AG</th>\n      <th>AT..AC</th>\n      <th>GT..GG</th>\n    </tr>\n  </thead>\n  <tbody>\n    <tr>\n      <th>0</th>\n      <td>696</td>\n      <td>3524</td>\n      <td>1</td>\n      <td>3</td>\n      <td>4</td>\n      <td>9</td>\n      <td>0</td>\n      <td>1</td>\n      <td>0</td>\n      <td>0</td>\n      <td>...</td>\n      <td>1</td>\n      <td>7185</td>\n      <td>7199</td>\n      <td>1</td>\n      <td>1</td>\n      <td>0</td>\n      <td>1</td>\n      <td>0</td>\n      <td>0</td>\n      <td>0</td>\n    </tr>\n    <tr>\n      <th>1</th>\n      <td>558</td>\n      <td>2130</td>\n      <td>1</td>\n      <td>3</td>\n      <td>4</td>\n      <td>9</td>\n      <td>0</td>\n      <td>1</td>\n      <td>0</td>\n      <td>0</td>\n      <td>...</td>\n      <td>1</td>\n      <td>3479</td>\n      <td>3283</td>\n      <td>1</td>\n      <td>1</td>\n      <td>0</td>\n      <td>1</td>\n      <td>0</td>\n      <td>0</td>\n      <td>0</td>\n    </tr>\n    <tr>\n      <th>2</th>\n      <td>0</td>\n      <td>4005</td>\n      <td>0</td>\n      <td>1</td>\n      <td>0</td>\n      <td>20</td>\n      <td>0</td>\n      <td>0</td>\n      <td>0</td>\n      <td>0</td>\n      <td>...</td>\n      <td>1</td>\n      <td>1629</td>\n      <td>1496</td>\n      <td>0</td>\n      <td>1</td>\n      <td>0</td>\n      <td>1</td>\n      <td>0</td>\n      <td>0</td>\n      <td>0</td>\n    </tr>\n    <tr>\n      <th>3</th>\n      <td>0</td>\n      <td>4609</td>\n      <td>1</td>\n      <td>1</td>\n      <td>0</td>\n      <td>22</td>\n      <td>0</td>\n      <td>0</td>\n      <td>0</td>\n      <td>0</td>\n      <td>...</td>\n      <td>1</td>\n      <td>1629</td>\n      <td>1399</td>\n      <td>0</td>\n      <td>1</td>\n      <td>0</td>\n      <td>1</td>\n      <td>0</td>\n      <td>0</td>\n      <td>0</td>\n    </tr>\n    <tr>\n      <th>4</th>\n      <td>26</td>\n      <td>4092</td>\n      <td>1</td>\n      <td>1</td>\n      <td>0</td>\n      <td>2</td>\n      <td>0</td>\n      <td>0</td>\n      <td>0</td>\n      <td>0</td>\n      <td>...</td>\n      <td>1</td>\n      <td>9330</td>\n      <td>8260</td>\n      <td>0</td>\n      <td>1</td>\n      <td>0</td>\n      <td>1</td>\n      <td>0</td>\n      <td>0</td>\n      <td>0</td>\n    </tr>\n    <tr>\n      <th>...</th>\n      <td>...</td>\n      <td>...</td>\n      <td>...</td>\n      <td>...</td>\n      <td>...</td>\n      <td>...</td>\n      <td>...</td>\n      <td>...</td>\n      <td>...</td>\n      <td>...</td>\n      <td>...</td>\n      <td>...</td>\n      <td>...</td>\n      <td>...</td>\n      <td>...</td>\n      <td>...</td>\n      <td>...</td>\n      <td>...</td>\n      <td>...</td>\n      <td>...</td>\n      <td>...</td>\n    </tr>\n    <tr>\n      <th>11005</th>\n      <td>5548</td>\n      <td>1593</td>\n      <td>1</td>\n      <td>1</td>\n      <td>5</td>\n      <td>2</td>\n      <td>0</td>\n      <td>1</td>\n      <td>0</td>\n      <td>0</td>\n      <td>...</td>\n      <td>0</td>\n      <td>4092</td>\n      <td>3128</td>\n      <td>1</td>\n      <td>1</td>\n      <td>1</td>\n      <td>1</td>\n      <td>0</td>\n      <td>0</td>\n      <td>0</td>\n    </tr>\n    <tr>\n      <th>11006</th>\n      <td>5595</td>\n      <td>2703</td>\n      <td>1</td>\n      <td>1</td>\n      <td>5</td>\n      <td>2</td>\n      <td>0</td>\n      <td>1</td>\n      <td>0</td>\n      <td>0</td>\n      <td>...</td>\n      <td>0</td>\n      <td>4275</td>\n      <td>3207</td>\n      <td>1</td>\n      <td>1</td>\n      <td>1</td>\n      <td>1</td>\n      <td>0</td>\n      <td>0</td>\n      <td>0</td>\n    </tr>\n    <tr>\n      <th>11007</th>\n      <td>6348</td>\n      <td>1256</td>\n      <td>1</td>\n      <td>1</td>\n      <td>5</td>\n      <td>2</td>\n      <td>0</td>\n      <td>1</td>\n      <td>0</td>\n      <td>0</td>\n      <td>...</td>\n      <td>0</td>\n      <td>7867</td>\n      <td>6679</td>\n      <td>1</td>\n      <td>1</td>\n      <td>1</td>\n      <td>1</td>\n      <td>0</td>\n      <td>0</td>\n      <td>0</td>\n    </tr>\n    <tr>\n      <th>11008</th>\n      <td>6428</td>\n      <td>2279</td>\n      <td>1</td>\n      <td>1</td>\n      <td>5</td>\n      <td>2</td>\n      <td>0</td>\n      <td>1</td>\n      <td>0</td>\n      <td>0</td>\n      <td>...</td>\n      <td>0</td>\n      <td>8162</td>\n      <td>7043</td>\n      <td>1</td>\n      <td>1</td>\n      <td>1</td>\n      <td>1</td>\n      <td>0</td>\n      <td>0</td>\n      <td>0</td>\n    </tr>\n    <tr>\n      <th>11009</th>\n      <td>8</td>\n      <td>4126</td>\n      <td>0</td>\n      <td>1</td>\n      <td>0</td>\n      <td>15</td>\n      <td>0</td>\n      <td>0</td>\n      <td>0</td>\n      <td>0</td>\n      <td>...</td>\n      <td>2</td>\n      <td>9921</td>\n      <td>8598</td>\n      <td>0</td>\n      <td>1</td>\n      <td>0</td>\n      <td>1</td>\n      <td>0</td>\n      <td>0</td>\n      <td>0</td>\n    </tr>\n  </tbody>\n</table>\n<p>11010 rows × 21 columns</p>\n</div>"
     },
     "execution_count": 11,
     "metadata": {},
     "output_type": "execute_result"
    }
   ],
   "source": [
    "df_annot_test_y = df_annot_test[\"outcome\"]\n",
    "\n",
    "# Drop the columns that might not be available prior to manual gene annotation or irrelevant to ML\n",
    "df_annot_test_X_1 = df_annot_test.drop([\"coords\", \"splice_site\", \"outcome\", \"transcript_id\", \"gtype\", \"rej_reason\"], axis=1)\n",
    "df_annot_test_X_1"
   ]
  },
  {
   "cell_type": "markdown",
   "metadata": {
    "collapsed": false
   },
   "source": [
    "# 1. We first test the cross-validation performance of this dataset without any feature engineering"
   ]
  },
  {
   "cell_type": "code",
   "execution_count": 12,
   "metadata": {
    "collapsed": false,
    "ExecuteTime": {
     "end_time": "2023-05-01T14:37:12.591675Z",
     "start_time": "2023-05-01T14:37:10.862136Z"
    }
   },
   "outputs": [],
   "source": [
    "# Split the dataset to 9:1 Train/Val and Test set\n",
    "X_train_val, X_test, y_train_val, y_test = train_test_split(df_annot_test_X_1, df_annot_test_y, stratify=df_annot_test_y, test_size=0.1, shuffle=True)\n",
    "\n",
    "cv_acc_list = []\n",
    "cv_ba_acc_list = []\n",
    "cv_rocauc_list = []\n",
    "cv_precision_list = []\n",
    "cv_mcc_list = []\n",
    "cv_specificity_list = []\n",
    "cv_sensitivity_list = []\n",
    "model_dict = {}\n",
    "model_index = 0\n",
    "\n",
    "skf = StratifiedKFold(n_splits=5)\n",
    "skf.get_n_splits(X_train_val, y_train_val)\n",
    "\n",
    "for train_index, val_index in skf.split(X_train_val, y_train_val):\n",
    "    X_train, X_val = X_train_val.iloc[train_index], X_train_val.iloc[val_index]\n",
    "    y_train, y_val = y_train_val.iloc[train_index].to_numpy().flatten(), y_train_val.iloc[val_index].to_numpy().flatten()\n",
    "\n",
    "    model_dict[model_index] = XGBClassifier(seed=0)\n",
    "    model_dict[model_index].fit(X_train, y_train)\n",
    "\n",
    "    y_predict = model_dict[model_index].predict_proba(X_val)\n",
    "    y_predict = y_predict[:, 1]\n",
    "    y_predict_class = list(map(round, y_predict))\n",
    "\n",
    "    test_acc = accuracy_score(y_val, y_predict_class)\n",
    "    test_rocauc = roc_auc_score(y_val, y_predict)\n",
    "    test_bal_acc = balanced_accuracy_score(y_val, y_predict_class)\n",
    "    test_precision = precision_score(y_val, y_predict_class)  # tp/(tp+fp)\n",
    "    test_mcc = matthews_corrcoef(y_val, y_predict_class)\n",
    "    tn, fp, fn, tp = confusion_matrix(y_val, y_predict_class).ravel()\n",
    "\n",
    "    # Adding the metrics to their list\n",
    "    cv_acc_list.append(test_acc)\n",
    "    cv_ba_acc_list.append(test_bal_acc)\n",
    "    cv_rocauc_list.append(test_rocauc)\n",
    "    cv_precision_list.append(test_precision)\n",
    "    cv_mcc_list.append(test_mcc)\n",
    "    cv_specificity_list.append(tn / (tn + fp))\n",
    "    cv_sensitivity_list.append(tp / (fn + tp))\n"
   ]
  },
  {
   "cell_type": "code",
   "execution_count": 13,
   "metadata": {
    "collapsed": false,
    "ExecuteTime": {
     "end_time": "2023-05-01T14:37:12.603884Z",
     "start_time": "2023-05-01T14:37:12.596961Z"
    }
   },
   "outputs": [
    {
     "name": "stdout",
     "output_type": "stream",
     "text": [
      "------------------------------------------------------------------------------------------\n",
      "Stratified Cross-Validation Performance\n",
      "------------------------------------------------------------------------------------------\n",
      "Accuracy: 0.9788068385280753 \n",
      "AUCROC: 0.9853281790486288 \n",
      "MCC: 0.6954269179466457 \n",
      "Sensitivity: 0.6764531654942614 \n",
      "Specificity: 0.9904619846627417 \n",
      "Balanced Accuracy: 0.8334575750785016\n",
      "------------------------------------------------------------------------------------------\n",
      "Accuracy SD: 0.0034830954740468906 \n",
      "AUCROC SD: 0.0023925073885625965 \n",
      "MCC SD: 0.04368363112454355 \n",
      "Sensitivity SD: 0.03089937489620389 \n",
      "Specificity SD: 0.003530345148726263 \n",
      "Balanced Accuracy SD: 0.015419047530015247\n"
     ]
    }
   ],
   "source": [
    "print(\"------------------------------------------------------------------------------------------\")\n",
    "print(\"Stratified Cross-Validation Performance\")\n",
    "print(\"------------------------------------------------------------------------------------------\")\n",
    "print(\"Accuracy: %s \\nAUCROC: %s \\nMCC: %s \\nSensitivity: %s \\nSpecificity: %s \\nBalanced Accuracy: %s\" % (\n",
    "        statistics.mean(cv_acc_list), statistics.mean(cv_rocauc_list), statistics.mean(cv_mcc_list),\n",
    "        statistics.mean(cv_sensitivity_list), statistics.mean(cv_specificity_list), statistics.mean(cv_ba_acc_list)))\n",
    "\n",
    "print(\"------------------------------------------------------------------------------------------\")\n",
    "print(\"Accuracy SD: %s \\nAUCROC SD: %s \\nMCC SD: %s \\nSensitivity SD: %s \\nSpecificity SD: %s \\nBalanced Accuracy SD: %s\" % (\n",
    "        np.std(cv_acc_list), np.std(cv_rocauc_list), np.std(cv_mcc_list),\n",
    "        np.std(cv_sensitivity_list), np.std(cv_specificity_list), np.std(cv_ba_acc_list)))"
   ]
  },
  {
   "cell_type": "code",
   "execution_count": 14,
   "outputs": [
    {
     "name": "stdout",
     "output_type": "stream",
     "text": [
      "              Property  Average_importance\n",
      "2           prev_annot            0.333333\n",
      "17              GT..AG            0.165053\n",
      "9           opp_strand            0.118786\n",
      "12         rel_int_sup            0.080619\n",
      "16  intron_sources_RAC            0.048784\n",
      "6         ss_antisense            0.043987\n",
      "0                score            0.035042\n",
      "5       repeat_overlap            0.034310\n",
      "3    transcript_source            0.029294\n",
      "15  intron_sources_CLS            0.024114\n",
      "18              GC..AG            0.019744\n",
      "13       rel_int_sup_k            0.017865\n",
      "1               length            0.014713\n",
      "11            bbiotype            0.012199\n",
      "4       intron_sources            0.009443\n",
      "8      incorrect_locus            0.009213\n",
      "19              AT..AC            0.003502\n",
      "10       false_ret_int            0.000000\n",
      "14  intron_sources_SLR            0.000000\n",
      "7          annot_match            0.000000\n",
      "20              GT..GG            0.000000\n"
     ]
    }
   ],
   "source": [
    "# Next we will evaluate the feature importance of the XGBoost model.\n",
    "def evaluate_feature_importance(df_evaluate_feature_importance, md):\n",
    "    feature_importance_average = [np.mean(i) for i in zip(*[md.get(model).feature_importances_ for model in md])]\n",
    "    df_feature_importance = pd.DataFrame()\n",
    "    df_feature_importance[\"Property\"] = df_evaluate_feature_importance.columns\n",
    "    df_feature_importance[\"Average_importance\"] = feature_importance_average\n",
    "    print(df_feature_importance.sort_values(by=\"Average_importance\", ascending=False).head(50))\n",
    "\n",
    "evaluate_feature_importance(md=model_dict, df_evaluate_feature_importance=df_annot_test_X_1.copy())"
   ],
   "metadata": {
    "collapsed": false,
    "ExecuteTime": {
     "end_time": "2023-05-01T14:37:12.634018Z",
     "start_time": "2023-05-01T14:37:12.604811Z"
    }
   }
  },
  {
   "cell_type": "markdown",
   "source": [
    "As demonstrated above, the splice site sequence is one of the most important feature of the classification model"
   ],
   "metadata": {
    "collapsed": false
   }
  },
  {
   "cell_type": "markdown",
   "metadata": {
    "collapsed": false
   },
   "source": [
    "# 2. We then test the cross-validation performance of this dataset adding the % of A,C,G,T content"
   ]
  },
  {
   "cell_type": "code",
   "execution_count": 15,
   "outputs": [
    {
     "data": {
      "text/plain": "                          coords  score  length  prev_annot  \\\n0          chr1:261635-267302:-1    696    3524           1   \n1          chr1:259026-261549:-1    558    2130           1   \n2          chr1:732208-739802:-1      0    4005           0   \n3          chr1:720201-732016:-1      0    4609           1   \n4          chr1:711923-720031:-1     26    4092           1   \n...                          ...    ...     ...         ...   \n11005   chrY:20582694-20584473:1   5548    1593           1   \n11006   chrY:20584525-20588023:1   5595    2703           1   \n11007   chrY:20588106-20589483:1   6348    1256           1   \n11008   chrY:20589576-20592340:1   6428    2279           1   \n11009  chrY:20726098-20734468:-1      8    4126           0   \n\n       transcript_source  intron_sources  repeat_overlap  ss_antisense  \\\n0                      3               4               9             0   \n1                      3               4               9             0   \n2                      1               0              20             0   \n3                      1               0              22             0   \n4                      1               0               2             0   \n...                  ...             ...             ...           ...   \n11005                  1               5               2             0   \n11006                  1               5               2             0   \n11007                  1               5               2             0   \n11008                  1               5               2             0   \n11009                  1               0              15             0   \n\n       annot_match  incorrect_locus  ...  bbiotype  rel_int_sup  \\\n0                1                0  ...         1         7185   \n1                1                0  ...         1         3479   \n2                0                0  ...         1         1629   \n3                0                0  ...         1         1629   \n4                0                0  ...         1         9330   \n...            ...              ...  ...       ...          ...   \n11005            1                0  ...         0         4092   \n11006            1                0  ...         0         4275   \n11007            1                0  ...         0         7867   \n11008            1                0  ...         0         8162   \n11009            0                0  ...         2         9921   \n\n       rel_int_sup_k  intron_sources_SLR  intron_sources_CLS  \\\n0               7199                   1                   1   \n1               3283                   1                   1   \n2               1496                   0                   1   \n3               1399                   0                   1   \n4               8260                   0                   1   \n...              ...                 ...                 ...   \n11005           3128                   1                   1   \n11006           3207                   1                   1   \n11007           6679                   1                   1   \n11008           7043                   1                   1   \n11009           8598                   0                   1   \n\n       intron_sources_RAC  GT..AG  GC..AG  AT..AC  GT..GG  \n0                       0       1       0       0       0  \n1                       0       1       0       0       0  \n2                       0       1       0       0       0  \n3                       0       1       0       0       0  \n4                       0       1       0       0       0  \n...                   ...     ...     ...     ...     ...  \n11005                   1       1       0       0       0  \n11006                   1       1       0       0       0  \n11007                   1       1       0       0       0  \n11008                   1       1       0       0       0  \n11009                   0       1       0       0       0  \n\n[11010 rows x 22 columns]",
      "text/html": "<div>\n<style scoped>\n    .dataframe tbody tr th:only-of-type {\n        vertical-align: middle;\n    }\n\n    .dataframe tbody tr th {\n        vertical-align: top;\n    }\n\n    .dataframe thead th {\n        text-align: right;\n    }\n</style>\n<table border=\"1\" class=\"dataframe\">\n  <thead>\n    <tr style=\"text-align: right;\">\n      <th></th>\n      <th>coords</th>\n      <th>score</th>\n      <th>length</th>\n      <th>prev_annot</th>\n      <th>transcript_source</th>\n      <th>intron_sources</th>\n      <th>repeat_overlap</th>\n      <th>ss_antisense</th>\n      <th>annot_match</th>\n      <th>incorrect_locus</th>\n      <th>...</th>\n      <th>bbiotype</th>\n      <th>rel_int_sup</th>\n      <th>rel_int_sup_k</th>\n      <th>intron_sources_SLR</th>\n      <th>intron_sources_CLS</th>\n      <th>intron_sources_RAC</th>\n      <th>GT..AG</th>\n      <th>GC..AG</th>\n      <th>AT..AC</th>\n      <th>GT..GG</th>\n    </tr>\n  </thead>\n  <tbody>\n    <tr>\n      <th>0</th>\n      <td>chr1:261635-267302:-1</td>\n      <td>696</td>\n      <td>3524</td>\n      <td>1</td>\n      <td>3</td>\n      <td>4</td>\n      <td>9</td>\n      <td>0</td>\n      <td>1</td>\n      <td>0</td>\n      <td>...</td>\n      <td>1</td>\n      <td>7185</td>\n      <td>7199</td>\n      <td>1</td>\n      <td>1</td>\n      <td>0</td>\n      <td>1</td>\n      <td>0</td>\n      <td>0</td>\n      <td>0</td>\n    </tr>\n    <tr>\n      <th>1</th>\n      <td>chr1:259026-261549:-1</td>\n      <td>558</td>\n      <td>2130</td>\n      <td>1</td>\n      <td>3</td>\n      <td>4</td>\n      <td>9</td>\n      <td>0</td>\n      <td>1</td>\n      <td>0</td>\n      <td>...</td>\n      <td>1</td>\n      <td>3479</td>\n      <td>3283</td>\n      <td>1</td>\n      <td>1</td>\n      <td>0</td>\n      <td>1</td>\n      <td>0</td>\n      <td>0</td>\n      <td>0</td>\n    </tr>\n    <tr>\n      <th>2</th>\n      <td>chr1:732208-739802:-1</td>\n      <td>0</td>\n      <td>4005</td>\n      <td>0</td>\n      <td>1</td>\n      <td>0</td>\n      <td>20</td>\n      <td>0</td>\n      <td>0</td>\n      <td>0</td>\n      <td>...</td>\n      <td>1</td>\n      <td>1629</td>\n      <td>1496</td>\n      <td>0</td>\n      <td>1</td>\n      <td>0</td>\n      <td>1</td>\n      <td>0</td>\n      <td>0</td>\n      <td>0</td>\n    </tr>\n    <tr>\n      <th>3</th>\n      <td>chr1:720201-732016:-1</td>\n      <td>0</td>\n      <td>4609</td>\n      <td>1</td>\n      <td>1</td>\n      <td>0</td>\n      <td>22</td>\n      <td>0</td>\n      <td>0</td>\n      <td>0</td>\n      <td>...</td>\n      <td>1</td>\n      <td>1629</td>\n      <td>1399</td>\n      <td>0</td>\n      <td>1</td>\n      <td>0</td>\n      <td>1</td>\n      <td>0</td>\n      <td>0</td>\n      <td>0</td>\n    </tr>\n    <tr>\n      <th>4</th>\n      <td>chr1:711923-720031:-1</td>\n      <td>26</td>\n      <td>4092</td>\n      <td>1</td>\n      <td>1</td>\n      <td>0</td>\n      <td>2</td>\n      <td>0</td>\n      <td>0</td>\n      <td>0</td>\n      <td>...</td>\n      <td>1</td>\n      <td>9330</td>\n      <td>8260</td>\n      <td>0</td>\n      <td>1</td>\n      <td>0</td>\n      <td>1</td>\n      <td>0</td>\n      <td>0</td>\n      <td>0</td>\n    </tr>\n    <tr>\n      <th>...</th>\n      <td>...</td>\n      <td>...</td>\n      <td>...</td>\n      <td>...</td>\n      <td>...</td>\n      <td>...</td>\n      <td>...</td>\n      <td>...</td>\n      <td>...</td>\n      <td>...</td>\n      <td>...</td>\n      <td>...</td>\n      <td>...</td>\n      <td>...</td>\n      <td>...</td>\n      <td>...</td>\n      <td>...</td>\n      <td>...</td>\n      <td>...</td>\n      <td>...</td>\n      <td>...</td>\n    </tr>\n    <tr>\n      <th>11005</th>\n      <td>chrY:20582694-20584473:1</td>\n      <td>5548</td>\n      <td>1593</td>\n      <td>1</td>\n      <td>1</td>\n      <td>5</td>\n      <td>2</td>\n      <td>0</td>\n      <td>1</td>\n      <td>0</td>\n      <td>...</td>\n      <td>0</td>\n      <td>4092</td>\n      <td>3128</td>\n      <td>1</td>\n      <td>1</td>\n      <td>1</td>\n      <td>1</td>\n      <td>0</td>\n      <td>0</td>\n      <td>0</td>\n    </tr>\n    <tr>\n      <th>11006</th>\n      <td>chrY:20584525-20588023:1</td>\n      <td>5595</td>\n      <td>2703</td>\n      <td>1</td>\n      <td>1</td>\n      <td>5</td>\n      <td>2</td>\n      <td>0</td>\n      <td>1</td>\n      <td>0</td>\n      <td>...</td>\n      <td>0</td>\n      <td>4275</td>\n      <td>3207</td>\n      <td>1</td>\n      <td>1</td>\n      <td>1</td>\n      <td>1</td>\n      <td>0</td>\n      <td>0</td>\n      <td>0</td>\n    </tr>\n    <tr>\n      <th>11007</th>\n      <td>chrY:20588106-20589483:1</td>\n      <td>6348</td>\n      <td>1256</td>\n      <td>1</td>\n      <td>1</td>\n      <td>5</td>\n      <td>2</td>\n      <td>0</td>\n      <td>1</td>\n      <td>0</td>\n      <td>...</td>\n      <td>0</td>\n      <td>7867</td>\n      <td>6679</td>\n      <td>1</td>\n      <td>1</td>\n      <td>1</td>\n      <td>1</td>\n      <td>0</td>\n      <td>0</td>\n      <td>0</td>\n    </tr>\n    <tr>\n      <th>11008</th>\n      <td>chrY:20589576-20592340:1</td>\n      <td>6428</td>\n      <td>2279</td>\n      <td>1</td>\n      <td>1</td>\n      <td>5</td>\n      <td>2</td>\n      <td>0</td>\n      <td>1</td>\n      <td>0</td>\n      <td>...</td>\n      <td>0</td>\n      <td>8162</td>\n      <td>7043</td>\n      <td>1</td>\n      <td>1</td>\n      <td>1</td>\n      <td>1</td>\n      <td>0</td>\n      <td>0</td>\n      <td>0</td>\n    </tr>\n    <tr>\n      <th>11009</th>\n      <td>chrY:20726098-20734468:-1</td>\n      <td>8</td>\n      <td>4126</td>\n      <td>0</td>\n      <td>1</td>\n      <td>0</td>\n      <td>15</td>\n      <td>0</td>\n      <td>0</td>\n      <td>0</td>\n      <td>...</td>\n      <td>2</td>\n      <td>9921</td>\n      <td>8598</td>\n      <td>0</td>\n      <td>1</td>\n      <td>0</td>\n      <td>1</td>\n      <td>0</td>\n      <td>0</td>\n      <td>0</td>\n    </tr>\n  </tbody>\n</table>\n<p>11010 rows × 22 columns</p>\n</div>"
     },
     "execution_count": 15,
     "metadata": {},
     "output_type": "execute_result"
    }
   ],
   "source": [
    "df_annot_test_y = df_annot_test[\"outcome\"]\n",
    "\n",
    "# Drop the columns that might not be available prior to manual gene annotation or irrelevant to ML\n",
    "df_annot_test_X_2 = df_annot_test.drop([\"outcome\", \"splice_site\", \"transcript_id\", \"gtype\", \"rej_reason\"], axis=1)\n",
    "df_annot_test_X_2"
   ],
   "metadata": {
    "collapsed": false,
    "ExecuteTime": {
     "end_time": "2023-05-01T14:37:12.704730Z",
     "start_time": "2023-05-01T14:37:12.633524Z"
    }
   }
  },
  {
   "cell_type": "code",
   "execution_count": 16,
   "outputs": [],
   "source": [
    "# This is downloaded in https://hgdownload.soe.ucsc.edu/goldenPath/hg38/bigZips/\n",
    "genome = Fasta('./hg38.fa', sequence_always_upper=True)\n",
    "\n",
    "# A simple lambda function for matching the chromosome, start and end\n",
    "coords_to_dna = lambda start, end, chr: genome[chr][start-1:end]"
   ],
   "metadata": {
    "collapsed": false,
    "ExecuteTime": {
     "end_time": "2023-05-01T14:37:12.705295Z",
     "start_time": "2023-05-01T14:37:12.663281Z"
    }
   }
  },
  {
   "cell_type": "code",
   "execution_count": 17,
   "outputs": [
    {
     "name": "stderr",
     "output_type": "stream",
     "text": [
      "100%|██████████| 11010/11010 [00:01<00:00, 7735.71it/s]\n"
     ]
    }
   ],
   "source": [
    "seq_lst = []\n",
    "\n",
    "for coords in tqdm(df_annot_test_X_2[\"coords\"]):\n",
    "    coords_split = coords.split(\":\")\n",
    "    chromosome = coords_split[0]\n",
    "    start = coords_split[1].split(\"-\")[0]\n",
    "    stop = coords_split[1].split(\"-\")[1]\n",
    "    strand = coords_split[2]\n",
    "\n",
    "\n",
    "    # Send the API request and get the response\n",
    "    seq = str(coords_to_dna(int(start), int(stop), chromosome))\n",
    "\n",
    "    # If the response was successful (i.e. the status code is 200)\n",
    "\n",
    "    if strand == \"-1\": #strand\n",
    "        seq = Seq(seq)  # Encode the seqeunce into\n",
    "        seq = seq.reverse_complement()\n",
    "\n",
    "\n",
    "    seq_lst.append(str(seq))\n",
    "\n",
    "df_annot_test_X_2[\"Sequence\"] = seq_lst\n"
   ],
   "metadata": {
    "collapsed": false,
    "ExecuteTime": {
     "end_time": "2023-05-01T14:37:14.130421Z",
     "start_time": "2023-05-01T14:37:12.677474Z"
    }
   }
  },
  {
   "cell_type": "code",
   "execution_count": 18,
   "outputs": [
    {
     "data": {
      "text/plain": "0        GTGGGAACACAACATTAATCCAAGAGCAGATCCCTGATCCTATAAA...\n1        GTAAGTCATTGTTTTACTCCAGATACAGACACTGTGGTTTTACAAT...\n2        GTAAGTTCAGGTAGCTGGGACTGTAGGTATACATGACGATACTTGG...\n3        GTGAGTAAGCATGGATTTTGGTATATGCAGAGATGGGGGGCTGGAA...\n4        GTAAGAAGCAATAGTTTCTCTTACTATTCTGAGAGCCTTATCATTC...\n                               ...                        \n11005    GTAGGTGTGTAGGTTACTTTTCAATAAAAATTTGCCGCAAAAAATG...\n11006    GTAAAAATAACATTTAAAGTTGTGGTATGTCTGTGTTTAAGCAGTT...\n11007    GTAAGATCAAAATGATTTTATCTCCTCATTATTTGATATTAATGTT...\n11008    GTAAGTAAATAAACCTAACAGGTATTTTGTTTTATCTATGCATTAT...\n11009    GTGTGTGTCACCATGCCTTGCTCCCTCCCTTCCCCTCCCTTCCCCT...\nName: Sequence, Length: 11010, dtype: object"
     },
     "execution_count": 18,
     "metadata": {},
     "output_type": "execute_result"
    }
   ],
   "source": [
    "df_annot_test_X_3 = df_annot_test_X_2.copy()\n",
    "df_annot_test_X_2.Sequence"
   ],
   "metadata": {
    "collapsed": false,
    "ExecuteTime": {
     "end_time": "2023-05-01T14:37:14.166178Z",
     "start_time": "2023-05-01T14:37:14.129226Z"
    }
   }
  },
  {
   "cell_type": "code",
   "execution_count": 19,
   "outputs": [
    {
     "data": {
      "text/plain": "0        0.107902\n1        0.042688\n2        0.147048\n3        0.279201\n4        0.130245\n           ...   \n11005    0.029064\n11006    0.055858\n11007    0.021163\n11008    0.050045\n11009    0.165486\nName: G_content, Length: 11010, dtype: float64"
     },
     "execution_count": 19,
     "metadata": {},
     "output_type": "execute_result"
    }
   ],
   "source": [
    "df_annot_test_X_2[\"A_content\"] = (df_annot_test_X_2[\"Sequence\"].str.count(\"A\")) / len(df_annot_test_X_2[\"Sequence\"])\n",
    "df_annot_test_X_2[\"C_content\"] = (df_annot_test_X_2[\"Sequence\"].str.count(\"C\")) / len(df_annot_test_X_2[\"Sequence\"])\n",
    "df_annot_test_X_2[\"G_content\"] = (df_annot_test_X_2[\"Sequence\"].str.count(\"G\")) / len(df_annot_test_X_2[\"Sequence\"])\n",
    "df_annot_test_X_2[\"T_content\"] = (df_annot_test_X_2[\"Sequence\"].str.count(\"T\")) / len(df_annot_test_X_2[\"Sequence\"])\n",
    "\n",
    "\n",
    "df_annot_test_X_2.G_content"
   ],
   "metadata": {
    "collapsed": false,
    "ExecuteTime": {
     "end_time": "2023-05-01T14:37:17.798761Z",
     "start_time": "2023-05-01T14:37:14.159517Z"
    }
   }
  },
  {
   "cell_type": "code",
   "execution_count": 20,
   "outputs": [
    {
     "data": {
      "text/plain": "       score  length  prev_annot  transcript_source  intron_sources  \\\n0        696    3524           1                  3               4   \n1        558    2130           1                  3               4   \n2          0    4005           0                  1               0   \n3          0    4609           1                  1               0   \n4         26    4092           1                  1               0   \n...      ...     ...         ...                ...             ...   \n11005   5548    1593           1                  1               5   \n11006   5595    2703           1                  1               5   \n11007   6348    1256           1                  1               5   \n11008   6428    2279           1                  1               5   \n11009      8    4126           0                  1               0   \n\n       repeat_overlap  ss_antisense  annot_match  incorrect_locus  opp_strand  \\\n0                   9             0            1                0           0   \n1                   9             0            1                0           0   \n2                  20             0            0                0           0   \n3                  22             0            0                0           0   \n4                   2             0            0                0           0   \n...               ...           ...          ...              ...         ...   \n11005               2             0            1                0           0   \n11006               2             0            1                0           0   \n11007               2             0            1                0           0   \n11008               2             0            1                0           0   \n11009              15             0            0                0           0   \n\n       ...  intron_sources_CLS  intron_sources_RAC  GT..AG  GC..AG  AT..AC  \\\n0      ...                   1                   0       1       0       0   \n1      ...                   1                   0       1       0       0   \n2      ...                   1                   0       1       0       0   \n3      ...                   1                   0       1       0       0   \n4      ...                   1                   0       1       0       0   \n...    ...                 ...                 ...     ...     ...     ...   \n11005  ...                   1                   1       1       0       0   \n11006  ...                   1                   1       1       0       0   \n11007  ...                   1                   1       1       0       0   \n11008  ...                   1                   1       1       0       0   \n11009  ...                   1                   0       1       0       0   \n\n       GT..GG  A_content  C_content  G_content  T_content  \n0           0   0.151135   0.098274   0.107902   0.157493  \n1           0   0.065486   0.046412   0.042688   0.074659  \n2           0   0.176839   0.156131   0.147048   0.209809  \n3           0   0.216440   0.316440   0.279201   0.261126  \n4           0   0.234423   0.120073   0.130245   0.251771  \n...       ...        ...        ...        ...        ...  \n11005       0   0.048411   0.027975   0.029064   0.056222  \n11006       0   0.088919   0.051680   0.055858   0.121344  \n11007       0   0.038783   0.019800   0.021163   0.045413  \n11008       0   0.079927   0.041780   0.050045   0.079382  \n11009       0   0.221435   0.168211   0.165486   0.205177  \n\n[11010 rows x 25 columns]",
      "text/html": "<div>\n<style scoped>\n    .dataframe tbody tr th:only-of-type {\n        vertical-align: middle;\n    }\n\n    .dataframe tbody tr th {\n        vertical-align: top;\n    }\n\n    .dataframe thead th {\n        text-align: right;\n    }\n</style>\n<table border=\"1\" class=\"dataframe\">\n  <thead>\n    <tr style=\"text-align: right;\">\n      <th></th>\n      <th>score</th>\n      <th>length</th>\n      <th>prev_annot</th>\n      <th>transcript_source</th>\n      <th>intron_sources</th>\n      <th>repeat_overlap</th>\n      <th>ss_antisense</th>\n      <th>annot_match</th>\n      <th>incorrect_locus</th>\n      <th>opp_strand</th>\n      <th>...</th>\n      <th>intron_sources_CLS</th>\n      <th>intron_sources_RAC</th>\n      <th>GT..AG</th>\n      <th>GC..AG</th>\n      <th>AT..AC</th>\n      <th>GT..GG</th>\n      <th>A_content</th>\n      <th>C_content</th>\n      <th>G_content</th>\n      <th>T_content</th>\n    </tr>\n  </thead>\n  <tbody>\n    <tr>\n      <th>0</th>\n      <td>696</td>\n      <td>3524</td>\n      <td>1</td>\n      <td>3</td>\n      <td>4</td>\n      <td>9</td>\n      <td>0</td>\n      <td>1</td>\n      <td>0</td>\n      <td>0</td>\n      <td>...</td>\n      <td>1</td>\n      <td>0</td>\n      <td>1</td>\n      <td>0</td>\n      <td>0</td>\n      <td>0</td>\n      <td>0.151135</td>\n      <td>0.098274</td>\n      <td>0.107902</td>\n      <td>0.157493</td>\n    </tr>\n    <tr>\n      <th>1</th>\n      <td>558</td>\n      <td>2130</td>\n      <td>1</td>\n      <td>3</td>\n      <td>4</td>\n      <td>9</td>\n      <td>0</td>\n      <td>1</td>\n      <td>0</td>\n      <td>0</td>\n      <td>...</td>\n      <td>1</td>\n      <td>0</td>\n      <td>1</td>\n      <td>0</td>\n      <td>0</td>\n      <td>0</td>\n      <td>0.065486</td>\n      <td>0.046412</td>\n      <td>0.042688</td>\n      <td>0.074659</td>\n    </tr>\n    <tr>\n      <th>2</th>\n      <td>0</td>\n      <td>4005</td>\n      <td>0</td>\n      <td>1</td>\n      <td>0</td>\n      <td>20</td>\n      <td>0</td>\n      <td>0</td>\n      <td>0</td>\n      <td>0</td>\n      <td>...</td>\n      <td>1</td>\n      <td>0</td>\n      <td>1</td>\n      <td>0</td>\n      <td>0</td>\n      <td>0</td>\n      <td>0.176839</td>\n      <td>0.156131</td>\n      <td>0.147048</td>\n      <td>0.209809</td>\n    </tr>\n    <tr>\n      <th>3</th>\n      <td>0</td>\n      <td>4609</td>\n      <td>1</td>\n      <td>1</td>\n      <td>0</td>\n      <td>22</td>\n      <td>0</td>\n      <td>0</td>\n      <td>0</td>\n      <td>0</td>\n      <td>...</td>\n      <td>1</td>\n      <td>0</td>\n      <td>1</td>\n      <td>0</td>\n      <td>0</td>\n      <td>0</td>\n      <td>0.216440</td>\n      <td>0.316440</td>\n      <td>0.279201</td>\n      <td>0.261126</td>\n    </tr>\n    <tr>\n      <th>4</th>\n      <td>26</td>\n      <td>4092</td>\n      <td>1</td>\n      <td>1</td>\n      <td>0</td>\n      <td>2</td>\n      <td>0</td>\n      <td>0</td>\n      <td>0</td>\n      <td>0</td>\n      <td>...</td>\n      <td>1</td>\n      <td>0</td>\n      <td>1</td>\n      <td>0</td>\n      <td>0</td>\n      <td>0</td>\n      <td>0.234423</td>\n      <td>0.120073</td>\n      <td>0.130245</td>\n      <td>0.251771</td>\n    </tr>\n    <tr>\n      <th>...</th>\n      <td>...</td>\n      <td>...</td>\n      <td>...</td>\n      <td>...</td>\n      <td>...</td>\n      <td>...</td>\n      <td>...</td>\n      <td>...</td>\n      <td>...</td>\n      <td>...</td>\n      <td>...</td>\n      <td>...</td>\n      <td>...</td>\n      <td>...</td>\n      <td>...</td>\n      <td>...</td>\n      <td>...</td>\n      <td>...</td>\n      <td>...</td>\n      <td>...</td>\n      <td>...</td>\n    </tr>\n    <tr>\n      <th>11005</th>\n      <td>5548</td>\n      <td>1593</td>\n      <td>1</td>\n      <td>1</td>\n      <td>5</td>\n      <td>2</td>\n      <td>0</td>\n      <td>1</td>\n      <td>0</td>\n      <td>0</td>\n      <td>...</td>\n      <td>1</td>\n      <td>1</td>\n      <td>1</td>\n      <td>0</td>\n      <td>0</td>\n      <td>0</td>\n      <td>0.048411</td>\n      <td>0.027975</td>\n      <td>0.029064</td>\n      <td>0.056222</td>\n    </tr>\n    <tr>\n      <th>11006</th>\n      <td>5595</td>\n      <td>2703</td>\n      <td>1</td>\n      <td>1</td>\n      <td>5</td>\n      <td>2</td>\n      <td>0</td>\n      <td>1</td>\n      <td>0</td>\n      <td>0</td>\n      <td>...</td>\n      <td>1</td>\n      <td>1</td>\n      <td>1</td>\n      <td>0</td>\n      <td>0</td>\n      <td>0</td>\n      <td>0.088919</td>\n      <td>0.051680</td>\n      <td>0.055858</td>\n      <td>0.121344</td>\n    </tr>\n    <tr>\n      <th>11007</th>\n      <td>6348</td>\n      <td>1256</td>\n      <td>1</td>\n      <td>1</td>\n      <td>5</td>\n      <td>2</td>\n      <td>0</td>\n      <td>1</td>\n      <td>0</td>\n      <td>0</td>\n      <td>...</td>\n      <td>1</td>\n      <td>1</td>\n      <td>1</td>\n      <td>0</td>\n      <td>0</td>\n      <td>0</td>\n      <td>0.038783</td>\n      <td>0.019800</td>\n      <td>0.021163</td>\n      <td>0.045413</td>\n    </tr>\n    <tr>\n      <th>11008</th>\n      <td>6428</td>\n      <td>2279</td>\n      <td>1</td>\n      <td>1</td>\n      <td>5</td>\n      <td>2</td>\n      <td>0</td>\n      <td>1</td>\n      <td>0</td>\n      <td>0</td>\n      <td>...</td>\n      <td>1</td>\n      <td>1</td>\n      <td>1</td>\n      <td>0</td>\n      <td>0</td>\n      <td>0</td>\n      <td>0.079927</td>\n      <td>0.041780</td>\n      <td>0.050045</td>\n      <td>0.079382</td>\n    </tr>\n    <tr>\n      <th>11009</th>\n      <td>8</td>\n      <td>4126</td>\n      <td>0</td>\n      <td>1</td>\n      <td>0</td>\n      <td>15</td>\n      <td>0</td>\n      <td>0</td>\n      <td>0</td>\n      <td>0</td>\n      <td>...</td>\n      <td>1</td>\n      <td>0</td>\n      <td>1</td>\n      <td>0</td>\n      <td>0</td>\n      <td>0</td>\n      <td>0.221435</td>\n      <td>0.168211</td>\n      <td>0.165486</td>\n      <td>0.205177</td>\n    </tr>\n  </tbody>\n</table>\n<p>11010 rows × 25 columns</p>\n</div>"
     },
     "execution_count": 20,
     "metadata": {},
     "output_type": "execute_result"
    }
   ],
   "source": [
    "df_annot_test_X_2 = df_annot_test_X_2.drop([\"coords\", \"Sequence\"], axis=1)\n",
    "\n",
    "df_annot_test_X_2"
   ],
   "metadata": {
    "collapsed": false,
    "ExecuteTime": {
     "end_time": "2023-05-01T14:37:17.837787Z",
     "start_time": "2023-05-01T14:37:17.805407Z"
    }
   }
  },
  {
   "cell_type": "code",
   "execution_count": 21,
   "outputs": [],
   "source": [
    "# This part is the exact same (except using different train_df) as the code used before\n",
    "\n",
    "# Split the dataset to 9:1 Train/Val and Test set\n",
    "X_train_val, X_test, y_train_val, y_test = train_test_split(df_annot_test_X_2, df_annot_test_y, stratify=df_annot_test_y, test_size=0.1, shuffle=True)\n",
    "\n",
    "cv_acc_list = []\n",
    "cv_ba_acc_list = []\n",
    "cv_rocauc_list = []\n",
    "cv_precision_list = []\n",
    "cv_mcc_list = []\n",
    "cv_specificity_list = []\n",
    "cv_sensitivity_list = []\n",
    "model_dict = {}\n",
    "model_index = 0\n",
    "\n",
    "skf = StratifiedKFold(n_splits=5)\n",
    "skf.get_n_splits(X_train_val, y_train_val)\n",
    "\n",
    "for train_index, val_index in skf.split(X_train_val, y_train_val):\n",
    "    X_train, X_val = X_train_val.iloc[train_index], X_train_val.iloc[val_index]\n",
    "    y_train, y_val = y_train_val.iloc[train_index].to_numpy().flatten(), y_train_val.iloc[val_index].to_numpy().flatten()\n",
    "\n",
    "    model_dict[model_index] = XGBClassifier(seed=0)\n",
    "    model_dict[model_index].fit(X_train, y_train)\n",
    "\n",
    "    y_predict = model_dict[model_index].predict_proba(X_val)\n",
    "    y_predict = y_predict[:, 1]\n",
    "    y_predict_class = list(map(round, y_predict))\n",
    "\n",
    "    test_acc = accuracy_score(y_val, y_predict_class)\n",
    "    test_rocauc = roc_auc_score(y_val, y_predict)\n",
    "    test_bal_acc = balanced_accuracy_score(y_val, y_predict_class)\n",
    "    test_precision = precision_score(y_val, y_predict_class)  # tp/(tp+fp)\n",
    "    test_mcc = matthews_corrcoef(y_val, y_predict_class)\n",
    "    tn, fp, fn, tp = confusion_matrix(y_val, y_predict_class).ravel()\n",
    "\n",
    "    # Adding the metrics to their list\n",
    "    cv_acc_list.append(test_acc)\n",
    "    cv_ba_acc_list.append(test_bal_acc)\n",
    "    cv_rocauc_list.append(test_rocauc)\n",
    "    cv_precision_list.append(test_precision)\n",
    "    cv_mcc_list.append(test_mcc)\n",
    "    cv_specificity_list.append(tn / (tn + fp))\n",
    "    cv_sensitivity_list.append(tp / (fn + tp))\n"
   ],
   "metadata": {
    "collapsed": false,
    "ExecuteTime": {
     "end_time": "2023-05-01T14:37:20.046218Z",
     "start_time": "2023-05-01T14:37:17.836082Z"
    }
   }
  },
  {
   "cell_type": "code",
   "execution_count": 22,
   "outputs": [
    {
     "name": "stdout",
     "output_type": "stream",
     "text": [
      "------------------------------------------------------------------------------------------\n",
      "Stratified Cross-Validation Performance\n",
      "------------------------------------------------------------------------------------------\n",
      "Accuracy: 0.9794127460114275 \n",
      "AUCROC: 0.9861793416873176 \n",
      "MCC: 0.6936564251291136 \n",
      "Sensitivity: 0.6549796371714179 \n",
      "Specificity: 0.9919297095409255 \n",
      "Balanced Accuracy: 0.8234546733561717\n",
      "------------------------------------------------------------------------------------------\n",
      "Accuracy SD: 0.0012908643694495424 \n",
      "AUCROC SD: 0.004219446474463532 \n",
      "MCC SD: 0.030085841959887706 \n",
      "Sensitivity SD: 0.06382722390444089 \n",
      "Specificity SD: 0.0013495382790118756 \n",
      "Balanced Accuracy SD: 0.031288343637778465\n"
     ]
    }
   ],
   "source": [
    "print(\"------------------------------------------------------------------------------------------\")\n",
    "print(\"Stratified Cross-Validation Performance\")\n",
    "print(\"------------------------------------------------------------------------------------------\")\n",
    "print(\"Accuracy: %s \\nAUCROC: %s \\nMCC: %s \\nSensitivity: %s \\nSpecificity: %s \\nBalanced Accuracy: %s\" % (\n",
    "        statistics.mean(cv_acc_list), statistics.mean(cv_rocauc_list), statistics.mean(cv_mcc_list),\n",
    "        statistics.mean(cv_sensitivity_list), statistics.mean(cv_specificity_list), statistics.mean(cv_ba_acc_list)))\n",
    "\n",
    "print(\"------------------------------------------------------------------------------------------\")\n",
    "print(\"Accuracy SD: %s \\nAUCROC SD: %s \\nMCC SD: %s \\nSensitivity SD: %s \\nSpecificity SD: %s \\nBalanced Accuracy SD: %s\" % (\n",
    "        np.std(cv_acc_list), np.std(cv_rocauc_list), np.std(cv_mcc_list),\n",
    "        np.std(cv_sensitivity_list), np.std(cv_specificity_list), np.std(cv_ba_acc_list)))"
   ],
   "metadata": {
    "collapsed": false,
    "ExecuteTime": {
     "end_time": "2023-05-01T14:37:20.080623Z",
     "start_time": "2023-05-01T14:37:20.047771Z"
    }
   }
  },
  {
   "cell_type": "code",
   "execution_count": 23,
   "outputs": [
    {
     "name": "stdout",
     "output_type": "stream",
     "text": [
      "              Property  Average_importance\n",
      "2           prev_annot            0.290045\n",
      "17              GT..AG            0.217229\n",
      "12         rel_int_sup            0.100396\n",
      "9           opp_strand            0.059161\n",
      "3    transcript_source            0.043975\n",
      "6         ss_antisense            0.043145\n",
      "16  intron_sources_RAC            0.036725\n",
      "0                score            0.025843\n",
      "5       repeat_overlap            0.025381\n",
      "18              GC..AG            0.017314\n",
      "13       rel_int_sup_k            0.016479\n",
      "8      incorrect_locus            0.016199\n",
      "11            bbiotype            0.015847\n",
      "24           T_content            0.015350\n",
      "1               length            0.014990\n",
      "15  intron_sources_CLS            0.014969\n",
      "22           C_content            0.014412\n",
      "21           A_content            0.013081\n",
      "23           G_content            0.010738\n",
      "4       intron_sources            0.004777\n",
      "19              AT..AC            0.003947\n",
      "14  intron_sources_SLR            0.000000\n",
      "7          annot_match            0.000000\n",
      "10       false_ret_int            0.000000\n",
      "20              GT..GG            0.000000\n"
     ]
    }
   ],
   "source": [
    "evaluate_feature_importance(md=model_dict, df_evaluate_feature_importance=df_annot_test_X_2.copy())"
   ],
   "metadata": {
    "collapsed": false,
    "ExecuteTime": {
     "end_time": "2023-05-01T14:37:20.102385Z",
     "start_time": "2023-05-01T14:37:20.058972Z"
    }
   }
  },
  {
   "cell_type": "markdown",
   "source": [
    "We can see that the introduction of this feature is not useful (the performance gone worse, although insignificant amount of decrease) for the performance for this prediction task, which is also indicative in feature importance analysis. <br/>\n",
    "However, since we have already linked the coordinates to the original sequence, we can perform more analysis / feature engineering using the sequence."
   ],
   "metadata": {
    "collapsed": false
   }
  },
  {
   "cell_type": "markdown",
   "source": [
    "# 3. Test the cross-validation performance of this dataset adding feature\n",
    "# TODO: Generate features using repDNA, integrating it, and validating its performance"
   ],
   "metadata": {
    "collapsed": false
   }
  },
  {
   "cell_type": "code",
   "execution_count": 24,
   "outputs": [],
   "source": [
    "from repDNA.nac import RevcKmer\n",
    "from repDNA.ac import DAC"
   ],
   "metadata": {
    "collapsed": false,
    "ExecuteTime": {
     "end_time": "2023-05-01T14:37:21.900915Z",
     "start_time": "2023-05-01T14:37:21.874271Z"
    }
   }
  },
  {
   "cell_type": "code",
   "execution_count": 25,
   "outputs": [],
   "source": [
    "ac = DAC(lag=6)"
   ],
   "metadata": {
    "collapsed": false,
    "ExecuteTime": {
     "end_time": "2023-05-01T14:37:23.208825Z",
     "start_time": "2023-05-01T14:37:23.158556Z"
    }
   }
  },
  {
   "cell_type": "code",
   "execution_count": 44,
   "outputs": [],
   "source": [
    "seq_lst = [x.replace(\"N\", \"\") for x in list(df_annot_test_X_3.Sequence)]"
   ],
   "metadata": {
    "collapsed": false,
    "ExecuteTime": {
     "end_time": "2023-05-01T15:04:43.353640Z",
     "start_time": "2023-05-01T15:04:43.317154Z"
    }
   }
  },
  {
   "cell_type": "code",
   "execution_count": 33,
   "outputs": [],
   "source": [
    "#FIXME This has extremely long run time (>6 hs), Should find ways to parallel\n",
    "pos_vec = ac.make_dac_vec(seq_lst, all_property=True)"
   ],
   "metadata": {
    "collapsed": false,
    "ExecuteTime": {
     "end_time": "2023-05-01T14:43:43.599134Z",
     "start_time": "2023-05-01T14:42:45.973648Z"
    }
   }
  },
  {
   "cell_type": "code",
   "execution_count": 45,
   "outputs": [
    {
     "data": {
      "text/plain": "   pos_vec_0  pos_vec_1  pos_vec_2  pos_vec_3  pos_vec_4  pos_vec_5  \\\n0      0.023     -0.197     -0.079      0.416     -0.116      0.279   \n1      0.036     -0.184     -0.088      0.460     -0.107      0.322   \n2      0.001     -0.206     -0.112      0.429     -0.126      0.270   \n3     -0.039     -0.180     -0.155      0.416     -0.130      0.278   \n4      0.050     -0.184     -0.138      0.441     -0.082      0.283   \n\n   pos_vec_6  pos_vec_7  pos_vec_8  pos_vec_9  ...  pos_vec_218  pos_vec_219  \\\n0      0.270      0.106      0.024      0.351  ...        0.045        0.020   \n1      0.308      0.130      0.028      0.385  ...        0.057        0.033   \n2      0.287      0.128      0.020      0.362  ...        0.067        0.036   \n3      0.314      0.234      0.038      0.381  ...        0.075        0.055   \n4      0.285      0.092      0.049      0.347  ...        0.057        0.037   \n\n   pos_vec_220  pos_vec_221  pos_vec_222  pos_vec_223  pos_vec_224  \\\n0        0.009        0.072        0.023        0.032        0.040   \n1        0.023        0.093       -0.025       -0.014        0.033   \n2        0.021        0.101        0.006       -0.006        0.062   \n3        0.044        0.108        0.011        0.011        0.067   \n4        0.027        0.080        0.012        0.019        0.093   \n\n   pos_vec_225  pos_vec_226  pos_vec_227  \n0        0.036        0.040        0.015  \n1       -0.003       -0.012       -0.017  \n2        0.003        0.022        0.010  \n3        0.013        0.030        0.030  \n4        0.046        0.005        0.007  \n\n[5 rows x 228 columns]",
      "text/html": "<div>\n<style scoped>\n    .dataframe tbody tr th:only-of-type {\n        vertical-align: middle;\n    }\n\n    .dataframe tbody tr th {\n        vertical-align: top;\n    }\n\n    .dataframe thead th {\n        text-align: right;\n    }\n</style>\n<table border=\"1\" class=\"dataframe\">\n  <thead>\n    <tr style=\"text-align: right;\">\n      <th></th>\n      <th>pos_vec_0</th>\n      <th>pos_vec_1</th>\n      <th>pos_vec_2</th>\n      <th>pos_vec_3</th>\n      <th>pos_vec_4</th>\n      <th>pos_vec_5</th>\n      <th>pos_vec_6</th>\n      <th>pos_vec_7</th>\n      <th>pos_vec_8</th>\n      <th>pos_vec_9</th>\n      <th>...</th>\n      <th>pos_vec_218</th>\n      <th>pos_vec_219</th>\n      <th>pos_vec_220</th>\n      <th>pos_vec_221</th>\n      <th>pos_vec_222</th>\n      <th>pos_vec_223</th>\n      <th>pos_vec_224</th>\n      <th>pos_vec_225</th>\n      <th>pos_vec_226</th>\n      <th>pos_vec_227</th>\n    </tr>\n  </thead>\n  <tbody>\n    <tr>\n      <th>0</th>\n      <td>0.023</td>\n      <td>-0.197</td>\n      <td>-0.079</td>\n      <td>0.416</td>\n      <td>-0.116</td>\n      <td>0.279</td>\n      <td>0.270</td>\n      <td>0.106</td>\n      <td>0.024</td>\n      <td>0.351</td>\n      <td>...</td>\n      <td>0.045</td>\n      <td>0.020</td>\n      <td>0.009</td>\n      <td>0.072</td>\n      <td>0.023</td>\n      <td>0.032</td>\n      <td>0.040</td>\n      <td>0.036</td>\n      <td>0.040</td>\n      <td>0.015</td>\n    </tr>\n    <tr>\n      <th>1</th>\n      <td>0.036</td>\n      <td>-0.184</td>\n      <td>-0.088</td>\n      <td>0.460</td>\n      <td>-0.107</td>\n      <td>0.322</td>\n      <td>0.308</td>\n      <td>0.130</td>\n      <td>0.028</td>\n      <td>0.385</td>\n      <td>...</td>\n      <td>0.057</td>\n      <td>0.033</td>\n      <td>0.023</td>\n      <td>0.093</td>\n      <td>-0.025</td>\n      <td>-0.014</td>\n      <td>0.033</td>\n      <td>-0.003</td>\n      <td>-0.012</td>\n      <td>-0.017</td>\n    </tr>\n    <tr>\n      <th>2</th>\n      <td>0.001</td>\n      <td>-0.206</td>\n      <td>-0.112</td>\n      <td>0.429</td>\n      <td>-0.126</td>\n      <td>0.270</td>\n      <td>0.287</td>\n      <td>0.128</td>\n      <td>0.020</td>\n      <td>0.362</td>\n      <td>...</td>\n      <td>0.067</td>\n      <td>0.036</td>\n      <td>0.021</td>\n      <td>0.101</td>\n      <td>0.006</td>\n      <td>-0.006</td>\n      <td>0.062</td>\n      <td>0.003</td>\n      <td>0.022</td>\n      <td>0.010</td>\n    </tr>\n    <tr>\n      <th>3</th>\n      <td>-0.039</td>\n      <td>-0.180</td>\n      <td>-0.155</td>\n      <td>0.416</td>\n      <td>-0.130</td>\n      <td>0.278</td>\n      <td>0.314</td>\n      <td>0.234</td>\n      <td>0.038</td>\n      <td>0.381</td>\n      <td>...</td>\n      <td>0.075</td>\n      <td>0.055</td>\n      <td>0.044</td>\n      <td>0.108</td>\n      <td>0.011</td>\n      <td>0.011</td>\n      <td>0.067</td>\n      <td>0.013</td>\n      <td>0.030</td>\n      <td>0.030</td>\n    </tr>\n    <tr>\n      <th>4</th>\n      <td>0.050</td>\n      <td>-0.184</td>\n      <td>-0.138</td>\n      <td>0.441</td>\n      <td>-0.082</td>\n      <td>0.283</td>\n      <td>0.285</td>\n      <td>0.092</td>\n      <td>0.049</td>\n      <td>0.347</td>\n      <td>...</td>\n      <td>0.057</td>\n      <td>0.037</td>\n      <td>0.027</td>\n      <td>0.080</td>\n      <td>0.012</td>\n      <td>0.019</td>\n      <td>0.093</td>\n      <td>0.046</td>\n      <td>0.005</td>\n      <td>0.007</td>\n    </tr>\n  </tbody>\n</table>\n<p>5 rows × 228 columns</p>\n</div>"
     },
     "execution_count": 45,
     "metadata": {},
     "output_type": "execute_result"
    }
   ],
   "source": [
    "column_names = [\"pos_vec_\" + str(i) for i in range(len(pos_vec[1]))]\n",
    "\n",
    "# Create a separate dataframe that contains all info\n",
    "df_pos_vec = pd.DataFrame(data=pos_vec, columns=column_names)\n",
    "df_pos_vec.head(5)"
   ],
   "metadata": {
    "collapsed": false,
    "ExecuteTime": {
     "end_time": "2023-05-01T15:06:21.530996Z",
     "start_time": "2023-05-01T15:06:21.499816Z"
    }
   }
  },
  {
   "cell_type": "code",
   "execution_count": null,
   "outputs": [],
   "source": [
    "#TODO merge df_pos_vec to the main df (df with all the features)"
   ],
   "metadata": {
    "collapsed": false
   }
  }
 ],
 "metadata": {
  "kernelspec": {
   "display_name": "Python 3",
   "language": "python",
   "name": "python3"
  },
  "language_info": {
   "codemirror_mode": {
    "name": "ipython",
    "version": 2
   },
   "file_extension": ".py",
   "mimetype": "text/x-python",
   "name": "python",
   "nbconvert_exporter": "python",
   "pygments_lexer": "ipython2",
   "version": "2.7.6"
  }
 },
 "nbformat": 4,
 "nbformat_minor": 0
}
