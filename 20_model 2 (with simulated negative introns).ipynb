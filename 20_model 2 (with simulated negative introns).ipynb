{
 "cells": [
  {
   "cell_type": "code",
   "execution_count": 1,
   "metadata": {
    "ExecuteTime": {
     "end_time": "2023-08-08T01:47:19.597113Z",
     "start_time": "2023-08-08T01:47:16.917620Z"
    },
    "collapsed": true
   },
   "outputs": [],
   "source": [
    "from xgboost import XGBClassifier\n",
    "from sklearn.ensemble import RandomForestClassifier, ExtraTreesClassifier\n",
    "import pandas as pd\n",
    "import sklearn.ensemble\n",
    "from sklearn.metrics import accuracy_score, roc_auc_score, balanced_accuracy_score, precision_score, matthews_corrcoef, confusion_matrix, recall_score\n",
    "from sklearn.model_selection import StratifiedKFold\n",
    "from sklearn.model_selection import train_test_split\n",
    "from sklearn import preprocessing\n",
    "import statistics\n",
    "import numpy as np\n",
    "from sklearn import tree"
   ]
  },
  {
   "cell_type": "code",
   "execution_count": 2,
   "metadata": {},
   "outputs": [
    {
     "data": {
      "text/plain": "         chr strand  class  recount3_score  antisense_exon_start_ss  \\\n0       chr1      +      1           59151                    False   \n1       chr1      +      1           61021                    False   \n2       chr1      +      1              21                    False   \n3       chr1      +      1             526                    False   \n4       chr1      +      1               0                    False   \n...      ...    ...    ...             ...                      ...   \n484602  chrY      +      0               0                    False   \n484603  chrY      -      0           31374                    False   \n484604  chrY      -      0              67                    False   \n484605  chrY      -      0           18958                    False   \n484606  chrY      -      0               0                    False   \n\n        antisense_exon_end_ss  nearest_alt_start_ss_dist  \\\n0                       False                        170   \n1                       False                         24   \n2                       False                         24   \n3                       False                        322   \n4                       False                        322   \n...                       ...                        ...   \n484602                  False                        487   \n484603                  False                        777   \n484604                  False                        572   \n484605                  False                       1178   \n484606                  False                        232   \n\n        nearest_alt_end_ss_dist  MaxEntScan_start_ss  MaxEntScan_end_ss  ...  \\\n0                           362                 9.09              11.90  ...   \n1                           232                 7.66               3.89  ...   \n2                           246                 7.15               7.61  ...   \n3                           232                 1.14               3.89  ...   \n4                           232               -12.10               7.63  ...   \n...                         ...                  ...                ...  ...   \n484602                       25               -19.72               3.66  ...   \n484603                      464                 9.21              13.74  ...   \n484604                     2963                 8.56               2.38  ...   \n484605                        2               -12.64               5.91  ...   \n484606                       24                 7.66               3.89  ...   \n\n        repeat_features_end_site_Type I Transposons/LINE  \\\n0                                                      0   \n1                                                      0   \n2                                                      0   \n3                                                      0   \n4                                                      0   \n...                                                  ...   \n484602                                                 0   \n484603                                                 0   \n484604                                                 0   \n484605                                                 0   \n484606                                                 0   \n\n        repeat_features_end_site_Centromere  repeat_features_end_site_Dust  \\\n0                                         0                              0   \n1                                         0                              0   \n2                                         0                              0   \n3                                         0                              0   \n4                                         0                              0   \n...                                     ...                            ...   \n484602                                    0                              0   \n484603                                    0                              0   \n484604                                    0                              0   \n484605                                    0                              0   \n484606                                    0                              0   \n\n        repeat_features_end_site_Satellite repeats  \\\n0                                                0   \n1                                                0   \n2                                                0   \n3                                                0   \n4                                                0   \n...                                            ...   \n484602                                           0   \n484603                                           0   \n484604                                           0   \n484605                                           0   \n484606                                           0   \n\n        repeat_features_end_site_Tandem repeats  \\\n0                                             0   \n1                                             0   \n2                                             0   \n3                                             0   \n4                                             0   \n...                                         ...   \n484602                                        0   \n484603                                        0   \n484604                                        0   \n484605                                        0   \n484606                                        0   \n\n        repeat_features_end_site_LTRs GC_content  CpG_island  intron_length  \\\n0                                   0   0.638961       False            385   \n1                                   0   0.597194       False            499   \n2                                   0   0.595668       False            277   \n3                                   0   0.595238       False            168   \n4                                   0   0.538462       False             78   \n...                               ...        ...         ...            ...   \n484602                              0   0.628163        True            909   \n484603                              0   0.325301       False            415   \n484604                              0   0.383165       False           2970   \n484605                              0   0.384648       False           2358   \n484606                              0   0.598394       False            498   \n\n        splice_site  \n0             GT:AG  \n1             GT:AG  \n2             GT:AG  \n3             GC:AG  \n4             GT:AG  \n...             ...  \n484602        GT:AG  \n484603        GT:AG  \n484604        GT:AG  \n484605        GT:AG  \n484606        GT:AG  \n\n[484607 rows x 52 columns]",
      "text/html": "<div>\n<style scoped>\n    .dataframe tbody tr th:only-of-type {\n        vertical-align: middle;\n    }\n\n    .dataframe tbody tr th {\n        vertical-align: top;\n    }\n\n    .dataframe thead th {\n        text-align: right;\n    }\n</style>\n<table border=\"1\" class=\"dataframe\">\n  <thead>\n    <tr style=\"text-align: right;\">\n      <th></th>\n      <th>chr</th>\n      <th>strand</th>\n      <th>class</th>\n      <th>recount3_score</th>\n      <th>antisense_exon_start_ss</th>\n      <th>antisense_exon_end_ss</th>\n      <th>nearest_alt_start_ss_dist</th>\n      <th>nearest_alt_end_ss_dist</th>\n      <th>MaxEntScan_start_ss</th>\n      <th>MaxEntScan_end_ss</th>\n      <th>...</th>\n      <th>repeat_features_end_site_Type I Transposons/LINE</th>\n      <th>repeat_features_end_site_Centromere</th>\n      <th>repeat_features_end_site_Dust</th>\n      <th>repeat_features_end_site_Satellite repeats</th>\n      <th>repeat_features_end_site_Tandem repeats</th>\n      <th>repeat_features_end_site_LTRs</th>\n      <th>GC_content</th>\n      <th>CpG_island</th>\n      <th>intron_length</th>\n      <th>splice_site</th>\n    </tr>\n  </thead>\n  <tbody>\n    <tr>\n      <th>0</th>\n      <td>chr1</td>\n      <td>+</td>\n      <td>1</td>\n      <td>59151</td>\n      <td>False</td>\n      <td>False</td>\n      <td>170</td>\n      <td>362</td>\n      <td>9.09</td>\n      <td>11.90</td>\n      <td>...</td>\n      <td>0</td>\n      <td>0</td>\n      <td>0</td>\n      <td>0</td>\n      <td>0</td>\n      <td>0</td>\n      <td>0.638961</td>\n      <td>False</td>\n      <td>385</td>\n      <td>GT:AG</td>\n    </tr>\n    <tr>\n      <th>1</th>\n      <td>chr1</td>\n      <td>+</td>\n      <td>1</td>\n      <td>61021</td>\n      <td>False</td>\n      <td>False</td>\n      <td>24</td>\n      <td>232</td>\n      <td>7.66</td>\n      <td>3.89</td>\n      <td>...</td>\n      <td>0</td>\n      <td>0</td>\n      <td>0</td>\n      <td>0</td>\n      <td>0</td>\n      <td>0</td>\n      <td>0.597194</td>\n      <td>False</td>\n      <td>499</td>\n      <td>GT:AG</td>\n    </tr>\n    <tr>\n      <th>2</th>\n      <td>chr1</td>\n      <td>+</td>\n      <td>1</td>\n      <td>21</td>\n      <td>False</td>\n      <td>False</td>\n      <td>24</td>\n      <td>246</td>\n      <td>7.15</td>\n      <td>7.61</td>\n      <td>...</td>\n      <td>0</td>\n      <td>0</td>\n      <td>0</td>\n      <td>0</td>\n      <td>0</td>\n      <td>0</td>\n      <td>0.595668</td>\n      <td>False</td>\n      <td>277</td>\n      <td>GT:AG</td>\n    </tr>\n    <tr>\n      <th>3</th>\n      <td>chr1</td>\n      <td>+</td>\n      <td>1</td>\n      <td>526</td>\n      <td>False</td>\n      <td>False</td>\n      <td>322</td>\n      <td>232</td>\n      <td>1.14</td>\n      <td>3.89</td>\n      <td>...</td>\n      <td>0</td>\n      <td>0</td>\n      <td>0</td>\n      <td>0</td>\n      <td>0</td>\n      <td>0</td>\n      <td>0.595238</td>\n      <td>False</td>\n      <td>168</td>\n      <td>GC:AG</td>\n    </tr>\n    <tr>\n      <th>4</th>\n      <td>chr1</td>\n      <td>+</td>\n      <td>1</td>\n      <td>0</td>\n      <td>False</td>\n      <td>False</td>\n      <td>322</td>\n      <td>232</td>\n      <td>-12.10</td>\n      <td>7.63</td>\n      <td>...</td>\n      <td>0</td>\n      <td>0</td>\n      <td>0</td>\n      <td>0</td>\n      <td>0</td>\n      <td>0</td>\n      <td>0.538462</td>\n      <td>False</td>\n      <td>78</td>\n      <td>GT:AG</td>\n    </tr>\n    <tr>\n      <th>...</th>\n      <td>...</td>\n      <td>...</td>\n      <td>...</td>\n      <td>...</td>\n      <td>...</td>\n      <td>...</td>\n      <td>...</td>\n      <td>...</td>\n      <td>...</td>\n      <td>...</td>\n      <td>...</td>\n      <td>...</td>\n      <td>...</td>\n      <td>...</td>\n      <td>...</td>\n      <td>...</td>\n      <td>...</td>\n      <td>...</td>\n      <td>...</td>\n      <td>...</td>\n      <td>...</td>\n    </tr>\n    <tr>\n      <th>484602</th>\n      <td>chrY</td>\n      <td>+</td>\n      <td>0</td>\n      <td>0</td>\n      <td>False</td>\n      <td>False</td>\n      <td>487</td>\n      <td>25</td>\n      <td>-19.72</td>\n      <td>3.66</td>\n      <td>...</td>\n      <td>0</td>\n      <td>0</td>\n      <td>0</td>\n      <td>0</td>\n      <td>0</td>\n      <td>0</td>\n      <td>0.628163</td>\n      <td>True</td>\n      <td>909</td>\n      <td>GT:AG</td>\n    </tr>\n    <tr>\n      <th>484603</th>\n      <td>chrY</td>\n      <td>-</td>\n      <td>0</td>\n      <td>31374</td>\n      <td>False</td>\n      <td>False</td>\n      <td>777</td>\n      <td>464</td>\n      <td>9.21</td>\n      <td>13.74</td>\n      <td>...</td>\n      <td>0</td>\n      <td>0</td>\n      <td>0</td>\n      <td>0</td>\n      <td>0</td>\n      <td>0</td>\n      <td>0.325301</td>\n      <td>False</td>\n      <td>415</td>\n      <td>GT:AG</td>\n    </tr>\n    <tr>\n      <th>484604</th>\n      <td>chrY</td>\n      <td>-</td>\n      <td>0</td>\n      <td>67</td>\n      <td>False</td>\n      <td>False</td>\n      <td>572</td>\n      <td>2963</td>\n      <td>8.56</td>\n      <td>2.38</td>\n      <td>...</td>\n      <td>0</td>\n      <td>0</td>\n      <td>0</td>\n      <td>0</td>\n      <td>0</td>\n      <td>0</td>\n      <td>0.383165</td>\n      <td>False</td>\n      <td>2970</td>\n      <td>GT:AG</td>\n    </tr>\n    <tr>\n      <th>484605</th>\n      <td>chrY</td>\n      <td>-</td>\n      <td>0</td>\n      <td>18958</td>\n      <td>False</td>\n      <td>False</td>\n      <td>1178</td>\n      <td>2</td>\n      <td>-12.64</td>\n      <td>5.91</td>\n      <td>...</td>\n      <td>0</td>\n      <td>0</td>\n      <td>0</td>\n      <td>0</td>\n      <td>0</td>\n      <td>0</td>\n      <td>0.384648</td>\n      <td>False</td>\n      <td>2358</td>\n      <td>GT:AG</td>\n    </tr>\n    <tr>\n      <th>484606</th>\n      <td>chrY</td>\n      <td>-</td>\n      <td>0</td>\n      <td>0</td>\n      <td>False</td>\n      <td>False</td>\n      <td>232</td>\n      <td>24</td>\n      <td>7.66</td>\n      <td>3.89</td>\n      <td>...</td>\n      <td>0</td>\n      <td>0</td>\n      <td>0</td>\n      <td>0</td>\n      <td>0</td>\n      <td>0</td>\n      <td>0.598394</td>\n      <td>False</td>\n      <td>498</td>\n      <td>GT:AG</td>\n    </tr>\n  </tbody>\n</table>\n<p>484607 rows × 52 columns</p>\n</div>"
     },
     "execution_count": 2,
     "metadata": {},
     "output_type": "execute_result"
    }
   ],
   "source": [
    "df = pd.read_csv(\"data/17_trainset_featurised.tsv\", sep=\"\\t\")\n",
    "df"
   ]
  },
  {
   "cell_type": "code",
   "execution_count": 3,
   "metadata": {},
   "outputs": [],
   "source": [
    "df.replace({True: 1, False: 0}, inplace=True)"
   ]
  },
  {
   "cell_type": "code",
   "execution_count": 4,
   "metadata": {},
   "outputs": [],
   "source": [
    "le = preprocessing.LabelEncoder()\n",
    "le.fit(df[\"splice_site\"])\n",
    "df[\"splice_site\"] = le.transform(df[\"splice_site\"])"
   ]
  },
  {
   "cell_type": "code",
   "execution_count": 5,
   "metadata": {},
   "outputs": [],
   "source": [
    "le = preprocessing.LabelEncoder()\n",
    "le.fit(df[\"chr\"])\n",
    "df[\"chr\"] = le.transform(df[\"chr\"])"
   ]
  },
  {
   "cell_type": "code",
   "execution_count": 6,
   "metadata": {},
   "outputs": [],
   "source": [
    "le = preprocessing.LabelEncoder()\n",
    "le.fit(df[\"bps\"])\n",
    "df[\"bps\"] = le.transform(df[\"bps\"])"
   ]
  },
  {
   "cell_type": "code",
   "execution_count": 7,
   "metadata": {},
   "outputs": [
    {
     "data": {
      "text/plain": "0         1\n1         1\n2         1\n3         1\n4         1\n         ..\n484602    0\n484603    0\n484604    0\n484605    0\n484606    0\nName: class, Length: 484607, dtype: int64"
     },
     "execution_count": 7,
     "metadata": {},
     "output_type": "execute_result"
    }
   ],
   "source": [
    "df_annot_test_y = df.pop(\"class\")\n",
    "df_annot_test_y"
   ]
  },
  {
   "cell_type": "code",
   "execution_count": 8,
   "metadata": {},
   "outputs": [],
   "source": [
    "# df[\"RC3-Score-25\"] = df[\"RC3-Score\"] >= 25\n",
    "\n",
    "# Drop the columns that might not be available prior to manual gene annotation or irrelevant to ML\n",
    "df_annot_test_X_1 = df.drop([\"strand\"], axis=1)\n",
    "\n",
    "# FIXME\n",
    "# df_annot_test_X_1 = df_annot_test_X_1[(df_annot_test_X_1[\"hg38 - Acceptor splice site\"] == 13) & (df_annot_test_X_1[\"hg38 - Donor splice site\"] == 2)]\n"
   ]
  },
  {
   "cell_type": "code",
   "execution_count": 9,
   "metadata": {},
   "outputs": [
    {
     "data": {
      "text/plain": "0         1\n1         1\n2         1\n3         1\n4         1\n         ..\n484602    0\n484603    0\n484604    0\n484605    0\n484606    0\nName: class, Length: 484607, dtype: int64"
     },
     "execution_count": 9,
     "metadata": {},
     "output_type": "execute_result"
    }
   ],
   "source": [
    "df_annot_test_y"
   ]
  },
  {
   "cell_type": "code",
   "execution_count": 10,
   "metadata": {},
   "outputs": [
    {
     "data": {
      "text/plain": "chr                                                   False\nrecount3_score                                        False\nantisense_exon_start_ss                               False\nantisense_exon_end_ss                                 False\nnearest_alt_start_ss_dist                             False\nnearest_alt_end_ss_dist                               False\nMaxEntScan_start_ss                                   False\nMaxEntScan_end_ss                                     False\nsplam_donor_score                                     False\nsplam_acceptor_score                                  False\nphyloP_score                                          False\nphastCons_score                                       False\nrecount3_near_start_ss_with_better_score              False\nrecount3_near_end_ss_with_better_score                False\nbps                                                   False\nbp_pos                                                 True\nsc_bps                                                 True\nsc_ppt                                                 True\nsc                                                     True\nzsc_bps                                                True\nzsc_ppt                                                True\nzsc                                                    True\nrepeat_features_start_site_Simple repeats             False\nrepeat_features_start_site_Type II Transposons        False\nrepeat_features_start_site_Type I Transposons/SINE    False\nrepeat_features_start_site_RNA repeats                False\nrepeat_features_start_site_Unknown                    False\nrepeat_features_start_site_Low complexity regions     False\nrepeat_features_start_site_Type I Transposons/LINE    False\nrepeat_features_start_site_Centromere                 False\nrepeat_features_start_site_Dust                       False\nrepeat_features_start_site_Satellite repeats          False\nrepeat_features_start_site_Tandem repeats             False\nrepeat_features_start_site_LTRs                       False\nrepeat_features_end_site_Simple repeats               False\nrepeat_features_end_site_Type II Transposons          False\nrepeat_features_end_site_Type I Transposons/SINE      False\nrepeat_features_end_site_RNA repeats                  False\nrepeat_features_end_site_Unknown                      False\nrepeat_features_end_site_Low complexity regions       False\nrepeat_features_end_site_Type I Transposons/LINE      False\nrepeat_features_end_site_Centromere                   False\nrepeat_features_end_site_Dust                         False\nrepeat_features_end_site_Satellite repeats            False\nrepeat_features_end_site_Tandem repeats               False\nrepeat_features_end_site_LTRs                         False\nGC_content                                            False\nCpG_island                                            False\nintron_length                                         False\nsplice_site                                           False\ndtype: bool"
     },
     "execution_count": 10,
     "metadata": {},
     "output_type": "execute_result"
    }
   ],
   "source": [
    "df_annot_test_X_1.isna().any()"
   ]
  },
  {
   "cell_type": "code",
   "execution_count": 11,
   "metadata": {},
   "outputs": [],
   "source": [
    "df_annot_test_X_1 = df_annot_test_X_1.fillna(0)"
   ]
  },
  {
   "cell_type": "code",
   "execution_count": 12,
   "metadata": {},
   "outputs": [
    {
     "data": {
      "text/plain": "chr                                                   False\nrecount3_score                                        False\nantisense_exon_start_ss                               False\nantisense_exon_end_ss                                 False\nnearest_alt_start_ss_dist                             False\nnearest_alt_end_ss_dist                               False\nMaxEntScan_start_ss                                   False\nMaxEntScan_end_ss                                     False\nsplam_donor_score                                     False\nsplam_acceptor_score                                  False\nphyloP_score                                          False\nphastCons_score                                       False\nrecount3_near_start_ss_with_better_score              False\nrecount3_near_end_ss_with_better_score                False\nbps                                                   False\nbp_pos                                                False\nsc_bps                                                False\nsc_ppt                                                False\nsc                                                    False\nzsc_bps                                               False\nzsc_ppt                                               False\nzsc                                                   False\nrepeat_features_start_site_Simple repeats             False\nrepeat_features_start_site_Type II Transposons        False\nrepeat_features_start_site_Type I Transposons/SINE    False\nrepeat_features_start_site_RNA repeats                False\nrepeat_features_start_site_Unknown                    False\nrepeat_features_start_site_Low complexity regions     False\nrepeat_features_start_site_Type I Transposons/LINE    False\nrepeat_features_start_site_Centromere                 False\nrepeat_features_start_site_Dust                       False\nrepeat_features_start_site_Satellite repeats          False\nrepeat_features_start_site_Tandem repeats             False\nrepeat_features_start_site_LTRs                       False\nrepeat_features_end_site_Simple repeats               False\nrepeat_features_end_site_Type II Transposons          False\nrepeat_features_end_site_Type I Transposons/SINE      False\nrepeat_features_end_site_RNA repeats                  False\nrepeat_features_end_site_Unknown                      False\nrepeat_features_end_site_Low complexity regions       False\nrepeat_features_end_site_Type I Transposons/LINE      False\nrepeat_features_end_site_Centromere                   False\nrepeat_features_end_site_Dust                         False\nrepeat_features_end_site_Satellite repeats            False\nrepeat_features_end_site_Tandem repeats               False\nrepeat_features_end_site_LTRs                         False\nGC_content                                            False\nCpG_island                                            False\nintron_length                                         False\nsplice_site                                           False\ndtype: bool"
     },
     "execution_count": 12,
     "metadata": {},
     "output_type": "execute_result"
    }
   ],
   "source": [
    "df_annot_test_X_1.isna().any()"
   ]
  },
  {
   "cell_type": "code",
   "execution_count": 13,
   "metadata": {},
   "outputs": [],
   "source": [
    "X_train_val = df_annot_test_X_1.copy()\n",
    "y_train_val = df_annot_test_y.copy()\n",
    "del df_annot_test_X_1\n",
    "del df_annot_test_y"
   ]
  },
  {
   "cell_type": "code",
   "execution_count": 14,
   "metadata": {},
   "outputs": [],
   "source": [
    "X_train_val = X_train_val[['recount3_score',\n",
    " 'nearest_alt_start_ss_dist',\n",
    " 'nearest_alt_end_ss_dist',\n",
    " 'recount3_near_start_ss_with_better_score',\n",
    " 'MaxEntScan_end_ss',\n",
    " 'MaxEntScan_start_ss',\n",
    " 'repeat_features_start_site_Tandem repeats',\n",
    " 'splice_site',\n",
    " 'repeat_features_end_site_LTRs',\n",
    " 'repeat_features_start_site_LTRs',\n",
    " 'recount3_near_end_ss_with_better_score',\n",
    " 'repeat_features_end_site_Tandem repeats',\n",
    " 'repeat_features_end_site_Type I Transposons/SINE',\n",
    " # 'splam_donor_score',\n",
    " 'CpG_island',\n",
    " 'intron_length',\n",
    " 'antisense_exon_start_ss',\n",
    " 'chr',\n",
    " 'repeat_features_end_site_Type I Transposons/LINE',\n",
    " # 'splam_acceptor_score',\n",
    " 'repeat_features_end_site_Satellite repeats',\n",
    " 'repeat_features_start_site_Type II Transposons',\n",
    " 'repeat_features_start_site_Type I Transposons/SINE',\n",
    " 'repeat_features_start_site_Satellite repeats',\n",
    " 'phastCons_score',\n",
    " 'repeat_features_end_site_Type II Transposons',\n",
    " 'phyloP_score',]]\n"
   ]
  },
  {
   "cell_type": "code",
   "execution_count": 17,
   "metadata": {},
   "outputs": [],
   "source": [
    "from interpret.glassbox import ExplainableBoostingClassifier\n",
    "\n",
    "\n",
    "cv_acc_list = []\n",
    "cv_ba_acc_list = []\n",
    "cv_rocauc_list = []\n",
    "cv_precision_list = []\n",
    "cv_recall_list = []\n",
    "cv_mcc_list = []\n",
    "cv_specificity_list = []\n",
    "cv_sensitivity_list = []\n",
    "cv_fpr_list = []\n",
    "cv_fnr_list = []\n",
    "model_dict = {}\n",
    "model_index = 0\n",
    "cv_predicted_labels = []\n",
    "cv_true_labels = []\n",
    "matrix = []\n",
    "\n",
    "skf = StratifiedKFold(n_splits=5, shuffle=True, random_state=1)\n",
    "skf.get_n_splits(X_train_val, y_train_val)\n",
    "\n",
    "for train_index, val_index in skf.split(X_train_val, y_train_val):\n",
    "    X_train_resampled = X_train_val.iloc[train_index]\n",
    "    y_train_resampled = y_train_val.iloc[train_index].to_numpy().flatten()\n",
    "\n",
    "    X_train, X_val = X_train_resampled, X_train_val.iloc[val_index]\n",
    "    y_train, y_val = y_train_resampled, y_train_val.iloc[val_index].to_numpy().flatten()\n",
    "\n",
    "    model_dict[model_index] = XGBClassifier(random_state=2, scale_pos_weight=float((484607-397846)/484607))#tree.DecisionTreeClassifier(class_weight= {0: 4, 1: 1})#XGBClassifier(random_state=2, scale_pos_weight=float((484607-397846)/484607)) #tree.DecisionTreeClassifier() #ExplainableBoostingClassifier()\n",
    "    model_dict[model_index].fit(X_train, y_train)\n",
    "\n",
    "    y_predict = model_dict[model_index].predict_proba(X_val)\n",
    "    y_predict = y_predict[:, 1]\n",
    "    # y_predict_class = list(map(round, y_predict))\n",
    "    y_predict_class = [1 if pred >= .77 else 0 for pred in y_predict] #.9\n",
    "    # print(y_predict)\n",
    "    # print(ty(cv_predicted_labels))\n",
    "    cv_predicted_labels += list(y_predict)\n",
    "    cv_true_labels += list(y_val)\n",
    "\n",
    "\n",
    "    test_acc = accuracy_score(y_val, y_predict_class)\n",
    "    test_rocauc = roc_auc_score(y_val, y_predict)\n",
    "    test_bal_acc = balanced_accuracy_score(y_val, y_predict_class)\n",
    "    test_precision = precision_score(y_val, y_predict_class)  # tp/(tp+fp)\n",
    "    test_recall = recall_score(y_val, y_predict_class)\n",
    "    test_mcc = matthews_corrcoef(y_val, y_predict_class)\n",
    "    matrix.append(confusion_matrix(y_val, y_predict_class))\n",
    "    tn, fp, fn, tp = confusion_matrix(y_val, y_predict_class).ravel()\n",
    "\n",
    "    # Adding the metrics to their list\n",
    "    cv_acc_list.append(test_acc)\n",
    "    cv_ba_acc_list.append(test_bal_acc)\n",
    "    cv_rocauc_list.append(test_rocauc)\n",
    "    cv_precision_list.append(test_precision)\n",
    "    cv_mcc_list.append(test_mcc)\n",
    "    cv_recall_list.append(test_recall)\n",
    "    cv_specificity_list.append(tn / (tn + fp))\n",
    "    cv_sensitivity_list.append(tp / (fn + tp))\n",
    "    cv_fpr_list.append(fp/(fp+tn))\n",
    "    cv_fnr_list.append(fn/(fn+tp))\n",
    "\n",
    "    model_index += 1"
   ]
  },
  {
   "cell_type": "code",
   "execution_count": 18,
   "metadata": {},
   "outputs": [
    {
     "name": "stdout",
     "output_type": "stream",
     "text": [
      "------------------------------------------------------------------------------------------\n",
      "Stratified Cross-Validation Performance (* metrics of interest)\n",
      "------------------------------------------------------------------------------------------\n",
      "*Accuracy: 0.9106987681383962 \n",
      "AUCROC: 0.9857471065093301 \n",
      "*MCC: 0.7586266127611788 \n",
      "Sensitivity: 0.8991393621510906 \n",
      "Specificity: 0.9637048679765593 \n",
      "*Precision: 0.9912739947128885 \n",
      "Recall: 0.8991393621510906 \n",
      "*False Positive Rate: 0.03629513202344069 \n",
      "*False Negative Rate: 0.10086063784890943 \n",
      "Balanced Accuracy: 0.931422115063825\n",
      "------------------------------------------------------------------------------------------\n",
      "Accuracy SD: 0.0010874480165855376 \n",
      "AUCROC SD: 0.000607350333507955 \n",
      "MCC SD: 0.002383556691836148 \n",
      "Sensitivity SD: 0.0013076963720855632 \n",
      "Specificity SD: 0.0016039694312050376 \n",
      "Precision SD: 0.000381280299968577  \n",
      "Recall SD: 0.0013076963720855632 \n",
      "*False Positive Rate SD: 0.0016039694312050543 \n",
      "*False Negative Rate SD: 0.0013076963720855578 \n",
      "Balanced Accuracy SD: 0.0009904554111904004\n",
      "------------------------------------------------------------------------------------------\n"
     ]
    },
    {
     "data": {
      "text/plain": "array([[ 83612,   3149],\n       [ 40127, 357719]])"
     },
     "execution_count": 18,
     "metadata": {},
     "output_type": "execute_result"
    }
   ],
   "source": [
    "print(\"------------------------------------------------------------------------------------------\")\n",
    "print(\"Stratified Cross-Validation Performance (* metrics of interest)\")\n",
    "print(\"------------------------------------------------------------------------------------------\")\n",
    "print(\"*Accuracy: %s \\nAUCROC: %s \\n*MCC: %s \\nSensitivity: %s \\nSpecificity: %s \\n*Precision: %s \\nRecall: %s \\n*False Positive Rate: %s \\n*False Negative Rate: %s \\nBalanced Accuracy: %s\" % (\n",
    "        statistics.mean(cv_acc_list), statistics.mean(cv_rocauc_list), statistics.mean(cv_mcc_list),\n",
    "        statistics.mean(cv_sensitivity_list), statistics.mean(cv_specificity_list), statistics.mean(cv_precision_list), statistics.mean(cv_recall_list), statistics.mean(cv_fpr_list), statistics.mean(cv_fnr_list), statistics.mean(cv_ba_acc_list)))\n",
    "\n",
    "print(\"------------------------------------------------------------------------------------------\")\n",
    "print(\"Accuracy SD: %s \\nAUCROC SD: %s \\nMCC SD: %s \\nSensitivity SD: %s \\nSpecificity SD: %s \\nPrecision SD: %s  \\nRecall SD: %s \\n*False Positive Rate SD: %s \\n*False Negative Rate SD: %s \\nBalanced Accuracy SD: %s\" % (\n",
    "        np.std(cv_acc_list), np.std(cv_rocauc_list), np.std(cv_mcc_list),\n",
    "        np.std(cv_sensitivity_list), np.std(cv_specificity_list), np.std(cv_precision_list), np.std(cv_recall_list), np.std(cv_fpr_list), np.std(cv_fnr_list), np.std(cv_ba_acc_list)))\n",
    "\n",
    "\n",
    "print(\"------------------------------------------------------------------------------------------\")\n",
    "\n",
    "# Print the matrix\n",
    "sum(matrix)"
   ]
  },
  {
   "cell_type": "code",
   "execution_count": 39,
   "metadata": {},
   "outputs": [
    {
     "name": "stderr",
     "output_type": "stream",
     "text": [
      "No artists with labels found to put in legend.  Note that artists whose label start with an underscore are ignored when legend() is called with no argument.\n"
     ]
    },
    {
     "data": {
      "text/plain": "<Figure size 640x480 with 1 Axes>",
      "image/png": "[encoded data removed]"
     },
     "metadata": {},
     "output_type": "display_data"
    }
   ],
   "source": [
    "from sklearn.metrics import precision_recall_curve\n",
    "\n",
    "precision, recall, thresholds = precision_recall_curve(cv_true_labels, cv_predicted_labels)\n",
    "\n",
    "\n",
    "# method I: plt\n",
    "import matplotlib.pyplot as plt\n",
    "plt.title('precision recall curve')\n",
    "plt.plot(precision, recall, 'b')\n",
    "plt.legend(loc = 'lower right')\n",
    "plt.plot([0, 1], [1, 1],'r--')\n",
    "plt.plot([1, 1], [1, 0],'r--')\n",
    "plt.xlim([0, 1.1])\n",
    "plt.ylim([0, 1.1])\n",
    "plt.ylabel('Precision')\n",
    "plt.xlabel('Recall')\n",
    "plt.show()"
   ]
  },
  {
   "cell_type": "code",
   "execution_count": 40,
   "metadata": {},
   "outputs": [
    {
     "data": {
      "text/plain": "<Figure size 640x480 with 1 Axes>",
      "image/png": "[encoded data removed]"
     },
     "metadata": {},
     "output_type": "display_data"
    }
   ],
   "source": [
    "import sklearn.metrics as metrics\n",
    "# calculate the fpr and tpr for all thresholds of the classification\n",
    "# probs = model.predict_proba(X_test)\n",
    "# preds = probs[:,1]\n",
    "fpr, tpr, threshold = metrics.roc_curve(cv_true_labels, cv_predicted_labels)\n",
    "roc_auc = metrics.auc(fpr, tpr)\n",
    "\n",
    "# method I: plt\n",
    "import matplotlib.pyplot as plt\n",
    "plt.title('Receiver Operating Characteristic')\n",
    "plt.plot(fpr, tpr, 'b', label = 'AUC = %0.2f' % roc_auc)\n",
    "plt.legend(loc = 'lower right')\n",
    "plt.plot([0, 1], [0, 1],'r--')\n",
    "plt.xlim([0, 1])\n",
    "plt.ylim([0, 1])\n",
    "plt.ylabel('True Positive Rate')\n",
    "plt.xlabel('False Positive Rate')\n",
    "plt.show()"
   ]
  },
  {
   "cell_type": "code",
   "execution_count": 41,
   "metadata": {},
   "outputs": [
    {
     "name": "stdout",
     "output_type": "stream",
     "text": [
      "                                             Property  Average_importance\n",
      "0                                      recount3_score            0.407085\n",
      "3            recount3_near_start_ss_with_better_score            0.109644\n",
      "4                                   MaxEntScan_end_ss            0.080491\n",
      "2                             nearest_alt_end_ss_dist            0.047254\n",
      "1                           nearest_alt_start_ss_dist            0.043739\n",
      "5                                 MaxEntScan_start_ss            0.040836\n",
      "24                                    phastCons_score            0.035386\n",
      "6           repeat_features_start_site_Tandem repeats            0.027046\n",
      "11            repeat_features_end_site_Tandem repeats            0.026666\n",
      "17                                                chr            0.017694\n",
      "26                                       phyloP_score            0.016199\n",
      "10             recount3_near_end_ss_with_better_score            0.013855\n",
      "21     repeat_features_start_site_Type II Transposons            0.011902\n",
      "7                                         splice_site            0.011722\n",
      "15                                      intron_length            0.011643\n",
      "9                     repeat_features_start_site_LTRs            0.011121\n",
      "14                                         CpG_island            0.010839\n",
      "16                            antisense_exon_start_ss            0.009130\n",
      "20         repeat_features_end_site_Satellite repeats            0.008691\n",
      "13                                  splam_donor_score            0.008393\n",
      "23       repeat_features_start_site_Satellite repeats            0.008050\n",
      "12   repeat_features_end_site_Type I Transposons/SINE            0.007763\n",
      "8                       repeat_features_end_site_LTRs            0.007731\n",
      "25       repeat_features_end_site_Type II Transposons            0.007362\n",
      "19                               splam_acceptor_score            0.007178\n",
      "22  repeat_features_start_site_Type I Transposons/...            0.006612\n",
      "18   repeat_features_end_site_Type I Transposons/LINE            0.005968\n"
     ]
    }
   ],
   "source": [
    "# Next we will evaluate the feature importance of the XGBoost model.\n",
    "def evaluate_feature_importance(df_evaluate_feature_importance, md):\n",
    "    feature_importance_average = [np.mean(i) for i in zip(*[md.get(model).feature_importances_ for model in md])]\n",
    "    df_feature_importance = pd.DataFrame()\n",
    "    df_feature_importance[\"Property\"] = df_evaluate_feature_importance.columns\n",
    "    df_feature_importance[\"Average_importance\"] = feature_importance_average\n",
    "    print(df_feature_importance.sort_values(by=\"Average_importance\", ascending=False).head(50))\n",
    "\n",
    "evaluate_feature_importance(df_evaluate_feature_importance=X_train_val.copy(), md=model_dict)"
   ]
  },
  {
   "cell_type": "code",
   "execution_count": null,
   "outputs": [],
   "source": [
    "import pickle\n",
    "file_name = \"model/temp_model.pkl\"\n",
    "\n",
    "# save\n",
    "pickle.dump(model_dict[0], open(file_name, \"wb\")) # FIXME TEMPORARY THE FINAL ONE SHOULD TRAIN ON ALL DATA"
   ],
   "metadata": {
    "collapsed": false
   }
  },
  {
   "cell_type": "markdown",
   "source": [
    "# SHAP analysis"
   ],
   "metadata": {
    "collapsed": false
   }
  },
  {
   "cell_type": "code",
   "execution_count": null,
   "metadata": {},
   "outputs": [],
   "source": [
    "import shap\n",
    "\n",
    "X_train_sample = X_train.sample(frac=0.005, random_state=1)\n",
    "\n",
    "# explain the model's predictions using SHAP\n",
    "# (same syntax works for LightGBM, CatBoost, scikit-learn, transformers, Spark, etc.)\n",
    "explainer = shap.TreeExplainer(model_dict[0])\n",
    "shap_values = explainer.shap_values(X_train_sample)"
   ]
  },
  {
   "cell_type": "code",
   "execution_count": null,
   "outputs": [],
   "source": [
    "shap.plots.waterfall(explainer(X_train_sample)[0])"
   ],
   "metadata": {
    "collapsed": false
   }
  },
  {
   "cell_type": "code",
   "execution_count": null,
   "outputs": [],
   "source": [
    "shap.dependence_plot(1, shap_values, X_train_sample, show=False)\n",
    "\n",
    "ax = plt.gca()\n",
    "ax.set_xlim(0, 100000)\n",
    "plt.show()"
   ],
   "metadata": {
    "collapsed": false
   }
  },
  {
   "cell_type": "code",
   "execution_count": null,
   "metadata": {},
   "outputs": [],
   "source": [
    "shap.summary_plot(shap_values[:,:,1], X_train_sample)"
   ]
  },
  {
   "cell_type": "code",
   "execution_count": null,
   "outputs": [],
   "source": [
    "shap.summary_plot(shap_values[:,:,1], X_train_sample, plot_type=\"bar\")"
   ],
   "metadata": {
    "collapsed": false
   }
  },
  {
   "cell_type": "code",
   "execution_count": null,
   "metadata": {},
   "outputs": [],
   "source": [
    "shap.initjs()"
   ]
  },
  {
   "cell_type": "code",
   "execution_count": null,
   "outputs": [],
   "source": [
    "shap.force_plot(explainer.expected_value, shap_values[1,:], X_train_sample.iloc[1,:])"
   ],
   "metadata": {
    "collapsed": false
   }
  },
  {
   "cell_type": "code",
   "execution_count": null,
   "outputs": [],
   "source": [
    "shap.force_plot(explainer.expected_value, shap_values[:,:], X_train_sample.iloc[:,:])"
   ],
   "metadata": {
    "collapsed": false
   }
  },
  {
   "cell_type": "code",
   "execution_count": null,
   "metadata": {},
   "outputs": [],
   "source": [
    "# # PREVIOUS code - archived\n",
    "# shap.force_plot(shap_values[:,:,1].base_values, shap_values[5,:,1].values, X_train_sample.iloc[5,:], feature_names=X_train.columns) # single\n",
    "# shap.force_plot(shap_values[:,:,1].base_values, shap_values[:,:,1].values, X_train_sample.iloc[:,:], feature_names=X_train.columns) # all"
   ]
  },
  {
   "cell_type": "code",
   "execution_count": null,
   "outputs": [],
   "source": [],
   "metadata": {
    "collapsed": false
   }
  }
 ],
 "metadata": {
  "kernelspec": {
   "display_name": "Python 3 (ipykernel)",
   "language": "python",
   "name": "python3"
  },
  "language_info": {
   "codemirror_mode": {
    "name": "ipython",
    "version": 3
   },
   "file_extension": ".py",
   "mimetype": "text/x-python",
   "name": "python",
   "nbconvert_exporter": "python",
   "pygments_lexer": "ipython3",
   "version": "3.10.12"
  }
 },
 "nbformat": 4,
 "nbformat_minor": 1
}
