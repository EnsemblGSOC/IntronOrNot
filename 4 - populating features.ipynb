{
 "cells": [
  {
   "cell_type": "code",
   "execution_count": 17,
   "metadata": {
    "collapsed": true
   },
   "outputs": [],
   "source": [
    "import pandas as pd"
   ]
  },
  {
   "cell_type": "code",
   "execution_count": 18,
   "outputs": [
    {
     "data": {
      "text/plain": "       chrom  intron_start  intron_ends strand  Duplicate_Count  \\\n0       chr1         12227        12612      +                2   \n1       chr1         12721        13220      +                1   \n2       chr1         12057        12178      +                1   \n3       chr1         12697        12974      +                1   \n4       chr1         13052        13220      +                1   \n...      ...           ...          ...    ...              ...   \n517017  chrY         15955     57212183      -                1   \n517018  chrY      57213125     57213203      -                1   \n517019  chrY      57213357     57213525      -                1   \n517020  chrY      57213602     57213879      -                1   \n517021  chrY      57213964     57214349      -                1   \n\n                                                      RC3  \\\n0       ['GTExv2=1122:3199;TCGAv2=583:1460;SRAv3h=9374...   \n1       ['GTExv2=1791:3198;TCGAv2=783:1104;SRAv3h=1404...   \n2                                              [None, -1]   \n3         ['GTExv2=1:1;TCGAv2=1:1;SRAv3h=15:19;GT:AG' 21]   \n4       ['GTExv2=22:24;TCGAv2=17:18;SRAv3h=433:484;GC:...   \n...                                                   ...   \n517017                                         [None, -1]   \n517018                                         [None, -1]   \n517019                                         [None, -1]   \n517020                                         [None, -1]   \n517021                                         [None, -1]   \n\n                                          Repeat_overlaps  \n0                                                      []  \n1                                                      []  \n2                                                      []  \n3                                                      []  \n4                                                      []  \n...                                                   ...  \n517017  ['Centromere', 'Dust', 'Low complexity regions...  \n517018                                                 []  \n517019                                                 []  \n517020                                                 []  \n517021                                                 []  \n\n[517022 rows x 7 columns]",
      "text/html": "<div>\n<style scoped>\n    .dataframe tbody tr th:only-of-type {\n        vertical-align: middle;\n    }\n\n    .dataframe tbody tr th {\n        vertical-align: top;\n    }\n\n    .dataframe thead th {\n        text-align: right;\n    }\n</style>\n<table border=\"1\" class=\"dataframe\">\n  <thead>\n    <tr style=\"text-align: right;\">\n      <th></th>\n      <th>chrom</th>\n      <th>intron_start</th>\n      <th>intron_ends</th>\n      <th>strand</th>\n      <th>Duplicate_Count</th>\n      <th>RC3</th>\n      <th>Repeat_overlaps</th>\n    </tr>\n  </thead>\n  <tbody>\n    <tr>\n      <th>0</th>\n      <td>chr1</td>\n      <td>12227</td>\n      <td>12612</td>\n      <td>+</td>\n      <td>2</td>\n      <td>['GTExv2=1122:3199;TCGAv2=583:1460;SRAv3h=9374...</td>\n      <td>[]</td>\n    </tr>\n    <tr>\n      <th>1</th>\n      <td>chr1</td>\n      <td>12721</td>\n      <td>13220</td>\n      <td>+</td>\n      <td>1</td>\n      <td>['GTExv2=1791:3198;TCGAv2=783:1104;SRAv3h=1404...</td>\n      <td>[]</td>\n    </tr>\n    <tr>\n      <th>2</th>\n      <td>chr1</td>\n      <td>12057</td>\n      <td>12178</td>\n      <td>+</td>\n      <td>1</td>\n      <td>[None, -1]</td>\n      <td>[]</td>\n    </tr>\n    <tr>\n      <th>3</th>\n      <td>chr1</td>\n      <td>12697</td>\n      <td>12974</td>\n      <td>+</td>\n      <td>1</td>\n      <td>['GTExv2=1:1;TCGAv2=1:1;SRAv3h=15:19;GT:AG' 21]</td>\n      <td>[]</td>\n    </tr>\n    <tr>\n      <th>4</th>\n      <td>chr1</td>\n      <td>13052</td>\n      <td>13220</td>\n      <td>+</td>\n      <td>1</td>\n      <td>['GTExv2=22:24;TCGAv2=17:18;SRAv3h=433:484;GC:...</td>\n      <td>[]</td>\n    </tr>\n    <tr>\n      <th>...</th>\n      <td>...</td>\n      <td>...</td>\n      <td>...</td>\n      <td>...</td>\n      <td>...</td>\n      <td>...</td>\n      <td>...</td>\n    </tr>\n    <tr>\n      <th>517017</th>\n      <td>chrY</td>\n      <td>15955</td>\n      <td>57212183</td>\n      <td>-</td>\n      <td>1</td>\n      <td>[None, -1]</td>\n      <td>['Centromere', 'Dust', 'Low complexity regions...</td>\n    </tr>\n    <tr>\n      <th>517018</th>\n      <td>chrY</td>\n      <td>57213125</td>\n      <td>57213203</td>\n      <td>-</td>\n      <td>1</td>\n      <td>[None, -1]</td>\n      <td>[]</td>\n    </tr>\n    <tr>\n      <th>517019</th>\n      <td>chrY</td>\n      <td>57213357</td>\n      <td>57213525</td>\n      <td>-</td>\n      <td>1</td>\n      <td>[None, -1]</td>\n      <td>[]</td>\n    </tr>\n    <tr>\n      <th>517020</th>\n      <td>chrY</td>\n      <td>57213602</td>\n      <td>57213879</td>\n      <td>-</td>\n      <td>1</td>\n      <td>[None, -1]</td>\n      <td>[]</td>\n    </tr>\n    <tr>\n      <th>517021</th>\n      <td>chrY</td>\n      <td>57213964</td>\n      <td>57214349</td>\n      <td>-</td>\n      <td>1</td>\n      <td>[None, -1]</td>\n      <td>[]</td>\n    </tr>\n  </tbody>\n</table>\n<p>517022 rows × 7 columns</p>\n</div>"
     },
     "execution_count": 18,
     "metadata": {},
     "output_type": "execute_result"
    }
   ],
   "source": [
    "df = pd.read_csv(\"modded_repeat_features\")\n",
    "df.drop(columns=\"intron_id\", inplace=True)\n",
    "df"
   ],
   "metadata": {
    "collapsed": false
   }
  },
  {
   "cell_type": "code",
   "execution_count": 51,
   "outputs": [
    {
     "name": "stderr",
     "output_type": "stream",
     "text": [
      "/tmp/ipykernel_2096643/3269407476.py:2: FutureWarning: The default value of regex will change from True to False in a future version.\n",
      "  df['RC3'] = df['RC3'].str.replace('[\\[\\]]', '')\n"
     ]
    },
    {
     "data": {
      "text/plain": "       chrom  intron_start  intron_ends strand  Duplicate_Count  \\\n0       chr1         12227        12612      +                2   \n1       chr1         12721        13220      +                1   \n2       chr1         12057        12178      +                1   \n3       chr1         12697        12974      +                1   \n4       chr1         13052        13220      +                1   \n...      ...           ...          ...    ...              ...   \n517017  chrY         15955     57212183      -                1   \n517018  chrY      57213125     57213203      -                1   \n517019  chrY      57213357     57213525      -                1   \n517020  chrY      57213602     57213879      -                1   \n517021  chrY      57213964     57214349      -                1   \n\n                                                      RC3  \\\n0       'GTExv2=1122:3199;TCGAv2=583:1460;SRAv3h=9374:...   \n1       'GTExv2=1791:3198;TCGAv2=783:1104;SRAv3h=14048...   \n2                                                 None -1   \n3           'GTExv2=1:1;TCGAv2=1:1;SRAv3h=15:19;GT:AG' 21   \n4       'GTExv2=22:24;TCGAv2=17:18;SRAv3h=433:484;GC:A...   \n...                                                   ...   \n517017                                            None -1   \n517018                                            None -1   \n517019                                            None -1   \n517020                                            None -1   \n517021                                            None -1   \n\n                                          Repeat_overlaps     GTExv2  \\\n0                                                      []  1122:3199   \n1                                                      []  1791:3198   \n2                                                      []        NaN   \n3                                                      []        1:1   \n4                                                      []      22:24   \n...                                                   ...        ...   \n517017  ['Centromere', 'Dust', 'Low complexity regions...        NaN   \n517018                                                 []        NaN   \n517019                                                 []        NaN   \n517020                                                 []        NaN   \n517021                                                 []        NaN   \n\n          TCGAv2       SRAv3h RC3-Splice_site  \\\n0       583:1460   9374:54492           GT:AG   \n1       783:1104  14048:56719           GT:AG   \n2            NaN          NaN             NaN   \n3            1:1        15:19           GT:AG   \n4          17:18      433:484           GC:AG   \n...          ...          ...             ...   \n517017       NaN          NaN             NaN   \n517018       NaN          NaN             NaN   \n517019       NaN          NaN             NaN   \n517020       NaN          NaN             NaN   \n517021       NaN          NaN             NaN   \n\n                                                RC3-Score  \n0       'GTExv2=1791:3198;TCGAv2=783:1104;SRAv3h=14048...  \n1       'GTExv2=1791:3198;TCGAv2=783:1104;SRAv3h=14048...  \n2       'GTExv2=1791:3198;TCGAv2=783:1104;SRAv3h=14048...  \n3       'GTExv2=1791:3198;TCGAv2=783:1104;SRAv3h=14048...  \n4       'GTExv2=1791:3198;TCGAv2=783:1104;SRAv3h=14048...  \n...                                                   ...  \n517017  'GTExv2=1791:3198;TCGAv2=783:1104;SRAv3h=14048...  \n517018  'GTExv2=1791:3198;TCGAv2=783:1104;SRAv3h=14048...  \n517019  'GTExv2=1791:3198;TCGAv2=783:1104;SRAv3h=14048...  \n517020  'GTExv2=1791:3198;TCGAv2=783:1104;SRAv3h=14048...  \n517021  'GTExv2=1791:3198;TCGAv2=783:1104;SRAv3h=14048...  \n\n[517022 rows x 12 columns]",
      "text/html": "<div>\n<style scoped>\n    .dataframe tbody tr th:only-of-type {\n        vertical-align: middle;\n    }\n\n    .dataframe tbody tr th {\n        vertical-align: top;\n    }\n\n    .dataframe thead th {\n        text-align: right;\n    }\n</style>\n<table border=\"1\" class=\"dataframe\">\n  <thead>\n    <tr style=\"text-align: right;\">\n      <th></th>\n      <th>chrom</th>\n      <th>intron_start</th>\n      <th>intron_ends</th>\n      <th>strand</th>\n      <th>Duplicate_Count</th>\n      <th>RC3</th>\n      <th>Repeat_overlaps</th>\n      <th>GTExv2</th>\n      <th>TCGAv2</th>\n      <th>SRAv3h</th>\n      <th>RC3-Splice_site</th>\n      <th>RC3-Score</th>\n    </tr>\n  </thead>\n  <tbody>\n    <tr>\n      <th>0</th>\n      <td>chr1</td>\n      <td>12227</td>\n      <td>12612</td>\n      <td>+</td>\n      <td>2</td>\n      <td>'GTExv2=1122:3199;TCGAv2=583:1460;SRAv3h=9374:...</td>\n      <td>[]</td>\n      <td>1122:3199</td>\n      <td>583:1460</td>\n      <td>9374:54492</td>\n      <td>GT:AG</td>\n      <td>'GTExv2=1791:3198;TCGAv2=783:1104;SRAv3h=14048...</td>\n    </tr>\n    <tr>\n      <th>1</th>\n      <td>chr1</td>\n      <td>12721</td>\n      <td>13220</td>\n      <td>+</td>\n      <td>1</td>\n      <td>'GTExv2=1791:3198;TCGAv2=783:1104;SRAv3h=14048...</td>\n      <td>[]</td>\n      <td>1791:3198</td>\n      <td>783:1104</td>\n      <td>14048:56719</td>\n      <td>GT:AG</td>\n      <td>'GTExv2=1791:3198;TCGAv2=783:1104;SRAv3h=14048...</td>\n    </tr>\n    <tr>\n      <th>2</th>\n      <td>chr1</td>\n      <td>12057</td>\n      <td>12178</td>\n      <td>+</td>\n      <td>1</td>\n      <td>None -1</td>\n      <td>[]</td>\n      <td>NaN</td>\n      <td>NaN</td>\n      <td>NaN</td>\n      <td>NaN</td>\n      <td>'GTExv2=1791:3198;TCGAv2=783:1104;SRAv3h=14048...</td>\n    </tr>\n    <tr>\n      <th>3</th>\n      <td>chr1</td>\n      <td>12697</td>\n      <td>12974</td>\n      <td>+</td>\n      <td>1</td>\n      <td>'GTExv2=1:1;TCGAv2=1:1;SRAv3h=15:19;GT:AG' 21</td>\n      <td>[]</td>\n      <td>1:1</td>\n      <td>1:1</td>\n      <td>15:19</td>\n      <td>GT:AG</td>\n      <td>'GTExv2=1791:3198;TCGAv2=783:1104;SRAv3h=14048...</td>\n    </tr>\n    <tr>\n      <th>4</th>\n      <td>chr1</td>\n      <td>13052</td>\n      <td>13220</td>\n      <td>+</td>\n      <td>1</td>\n      <td>'GTExv2=22:24;TCGAv2=17:18;SRAv3h=433:484;GC:A...</td>\n      <td>[]</td>\n      <td>22:24</td>\n      <td>17:18</td>\n      <td>433:484</td>\n      <td>GC:AG</td>\n      <td>'GTExv2=1791:3198;TCGAv2=783:1104;SRAv3h=14048...</td>\n    </tr>\n    <tr>\n      <th>...</th>\n      <td>...</td>\n      <td>...</td>\n      <td>...</td>\n      <td>...</td>\n      <td>...</td>\n      <td>...</td>\n      <td>...</td>\n      <td>...</td>\n      <td>...</td>\n      <td>...</td>\n      <td>...</td>\n      <td>...</td>\n    </tr>\n    <tr>\n      <th>517017</th>\n      <td>chrY</td>\n      <td>15955</td>\n      <td>57212183</td>\n      <td>-</td>\n      <td>1</td>\n      <td>None -1</td>\n      <td>['Centromere', 'Dust', 'Low complexity regions...</td>\n      <td>NaN</td>\n      <td>NaN</td>\n      <td>NaN</td>\n      <td>NaN</td>\n      <td>'GTExv2=1791:3198;TCGAv2=783:1104;SRAv3h=14048...</td>\n    </tr>\n    <tr>\n      <th>517018</th>\n      <td>chrY</td>\n      <td>57213125</td>\n      <td>57213203</td>\n      <td>-</td>\n      <td>1</td>\n      <td>None -1</td>\n      <td>[]</td>\n      <td>NaN</td>\n      <td>NaN</td>\n      <td>NaN</td>\n      <td>NaN</td>\n      <td>'GTExv2=1791:3198;TCGAv2=783:1104;SRAv3h=14048...</td>\n    </tr>\n    <tr>\n      <th>517019</th>\n      <td>chrY</td>\n      <td>57213357</td>\n      <td>57213525</td>\n      <td>-</td>\n      <td>1</td>\n      <td>None -1</td>\n      <td>[]</td>\n      <td>NaN</td>\n      <td>NaN</td>\n      <td>NaN</td>\n      <td>NaN</td>\n      <td>'GTExv2=1791:3198;TCGAv2=783:1104;SRAv3h=14048...</td>\n    </tr>\n    <tr>\n      <th>517020</th>\n      <td>chrY</td>\n      <td>57213602</td>\n      <td>57213879</td>\n      <td>-</td>\n      <td>1</td>\n      <td>None -1</td>\n      <td>[]</td>\n      <td>NaN</td>\n      <td>NaN</td>\n      <td>NaN</td>\n      <td>NaN</td>\n      <td>'GTExv2=1791:3198;TCGAv2=783:1104;SRAv3h=14048...</td>\n    </tr>\n    <tr>\n      <th>517021</th>\n      <td>chrY</td>\n      <td>57213964</td>\n      <td>57214349</td>\n      <td>-</td>\n      <td>1</td>\n      <td>None -1</td>\n      <td>[]</td>\n      <td>NaN</td>\n      <td>NaN</td>\n      <td>NaN</td>\n      <td>NaN</td>\n      <td>'GTExv2=1791:3198;TCGAv2=783:1104;SRAv3h=14048...</td>\n    </tr>\n  </tbody>\n</table>\n<p>517022 rows × 12 columns</p>\n</div>"
     },
     "execution_count": 51,
     "metadata": {},
     "output_type": "execute_result"
    }
   ],
   "source": [
    "df['RC3'] = df['RC3'].replace(\"[None, -1]\", \"[None -1]\")\n",
    "df['RC3'] = df['RC3'].str.replace('[\\[\\]]', '')\n",
    "df['RC3'] = df['RC3'].str.replace('\\n', '')\n",
    "df"
   ],
   "metadata": {
    "collapsed": false
   }
  },
  {
   "cell_type": "code",
   "execution_count": 48,
   "outputs": [
    {
     "data": {
      "text/plain": "0         [GTExv2=1122:3199, TCGAv2=583:1460, SRAv3h=937...\n1         [GTExv2=1791:3198, TCGAv2=783:1104, SRAv3h=140...\n2                                                    [None]\n3             [GTExv2=1:1, TCGAv2=1:1, SRAv3h=15:19, GT:AG]\n4         [GTExv2=22:24, TCGAv2=17:18, SRAv3h=433:484, G...\n                                ...                        \n517017                                               [None]\n517018                                               [None]\n517019                                               [None]\n517020                                               [None]\n517021                                               [None]\nName: RC3, Length: 517022, dtype: object"
     },
     "execution_count": 48,
     "metadata": {},
     "output_type": "execute_result"
    }
   ],
   "source": [
    "df[\"RC3\"].str.split(\" \").str.get(0).str.replace(\"'\", \"\").str.split(\";\")"
   ],
   "metadata": {
    "collapsed": false
   }
  },
  {
   "cell_type": "code",
   "execution_count": 54,
   "outputs": [],
   "source": [
    "df_featuers_split = df[\"RC3\"].str.split(\" \").str.get(0).str.replace(\"'\", \"\").str.split(\";\")\n",
    "df[\"GTExv2\"] = df_featuers_split.str[0].str.split(\"=\").str[1]\n",
    "df[\"TCGAv2\"] = df_featuers_split.str[1].str.split(\"=\").str[1]\n",
    "df[\"SRAv3h\"] = df_featuers_split.str[2].str.split(\"=\").str[1]\n",
    "df[\"RC3-Splice_site\"] = df_featuers_split.str[3]\n",
    "df[\"RC3-Score\"] = df[\"RC3\"].str.split(\" \").str.get(1)"
   ],
   "metadata": {
    "collapsed": false
   }
  },
  {
   "cell_type": "code",
   "execution_count": 55,
   "outputs": [
    {
     "data": {
      "text/plain": "       chrom  intron_start  intron_ends strand  Duplicate_Count  \\\n0       chr1         12227        12612      +                2   \n1       chr1         12721        13220      +                1   \n2       chr1         12057        12178      +                1   \n3       chr1         12697        12974      +                1   \n4       chr1         13052        13220      +                1   \n...      ...           ...          ...    ...              ...   \n517017  chrY         15955     57212183      -                1   \n517018  chrY      57213125     57213203      -                1   \n517019  chrY      57213357     57213525      -                1   \n517020  chrY      57213602     57213879      -                1   \n517021  chrY      57213964     57214349      -                1   \n\n                                                      RC3  \\\n0       'GTExv2=1122:3199;TCGAv2=583:1460;SRAv3h=9374:...   \n1       'GTExv2=1791:3198;TCGAv2=783:1104;SRAv3h=14048...   \n2                                                 None -1   \n3           'GTExv2=1:1;TCGAv2=1:1;SRAv3h=15:19;GT:AG' 21   \n4       'GTExv2=22:24;TCGAv2=17:18;SRAv3h=433:484;GC:A...   \n...                                                   ...   \n517017                                            None -1   \n517018                                            None -1   \n517019                                            None -1   \n517020                                            None -1   \n517021                                            None -1   \n\n                                          Repeat_overlaps     GTExv2  \\\n0                                                      []  1122:3199   \n1                                                      []  1791:3198   \n2                                                      []        NaN   \n3                                                      []        1:1   \n4                                                      []      22:24   \n...                                                   ...        ...   \n517017  ['Centromere', 'Dust', 'Low complexity regions...        NaN   \n517018                                                 []        NaN   \n517019                                                 []        NaN   \n517020                                                 []        NaN   \n517021                                                 []        NaN   \n\n          TCGAv2       SRAv3h RC3-Splice_site RC3-Score  \n0       583:1460   9374:54492           GT:AG     59151  \n1       783:1104  14048:56719           GT:AG     61021  \n2            NaN          NaN             NaN        -1  \n3            1:1        15:19           GT:AG        21  \n4          17:18      433:484           GC:AG       526  \n...          ...          ...             ...       ...  \n517017       NaN          NaN             NaN        -1  \n517018       NaN          NaN             NaN        -1  \n517019       NaN          NaN             NaN        -1  \n517020       NaN          NaN             NaN        -1  \n517021       NaN          NaN             NaN        -1  \n\n[517022 rows x 12 columns]",
      "text/html": "<div>\n<style scoped>\n    .dataframe tbody tr th:only-of-type {\n        vertical-align: middle;\n    }\n\n    .dataframe tbody tr th {\n        vertical-align: top;\n    }\n\n    .dataframe thead th {\n        text-align: right;\n    }\n</style>\n<table border=\"1\" class=\"dataframe\">\n  <thead>\n    <tr style=\"text-align: right;\">\n      <th></th>\n      <th>chrom</th>\n      <th>intron_start</th>\n      <th>intron_ends</th>\n      <th>strand</th>\n      <th>Duplicate_Count</th>\n      <th>RC3</th>\n      <th>Repeat_overlaps</th>\n      <th>GTExv2</th>\n      <th>TCGAv2</th>\n      <th>SRAv3h</th>\n      <th>RC3-Splice_site</th>\n      <th>RC3-Score</th>\n    </tr>\n  </thead>\n  <tbody>\n    <tr>\n      <th>0</th>\n      <td>chr1</td>\n      <td>12227</td>\n      <td>12612</td>\n      <td>+</td>\n      <td>2</td>\n      <td>'GTExv2=1122:3199;TCGAv2=583:1460;SRAv3h=9374:...</td>\n      <td>[]</td>\n      <td>1122:3199</td>\n      <td>583:1460</td>\n      <td>9374:54492</td>\n      <td>GT:AG</td>\n      <td>59151</td>\n    </tr>\n    <tr>\n      <th>1</th>\n      <td>chr1</td>\n      <td>12721</td>\n      <td>13220</td>\n      <td>+</td>\n      <td>1</td>\n      <td>'GTExv2=1791:3198;TCGAv2=783:1104;SRAv3h=14048...</td>\n      <td>[]</td>\n      <td>1791:3198</td>\n      <td>783:1104</td>\n      <td>14048:56719</td>\n      <td>GT:AG</td>\n      <td>61021</td>\n    </tr>\n    <tr>\n      <th>2</th>\n      <td>chr1</td>\n      <td>12057</td>\n      <td>12178</td>\n      <td>+</td>\n      <td>1</td>\n      <td>None -1</td>\n      <td>[]</td>\n      <td>NaN</td>\n      <td>NaN</td>\n      <td>NaN</td>\n      <td>NaN</td>\n      <td>-1</td>\n    </tr>\n    <tr>\n      <th>3</th>\n      <td>chr1</td>\n      <td>12697</td>\n      <td>12974</td>\n      <td>+</td>\n      <td>1</td>\n      <td>'GTExv2=1:1;TCGAv2=1:1;SRAv3h=15:19;GT:AG' 21</td>\n      <td>[]</td>\n      <td>1:1</td>\n      <td>1:1</td>\n      <td>15:19</td>\n      <td>GT:AG</td>\n      <td>21</td>\n    </tr>\n    <tr>\n      <th>4</th>\n      <td>chr1</td>\n      <td>13052</td>\n      <td>13220</td>\n      <td>+</td>\n      <td>1</td>\n      <td>'GTExv2=22:24;TCGAv2=17:18;SRAv3h=433:484;GC:A...</td>\n      <td>[]</td>\n      <td>22:24</td>\n      <td>17:18</td>\n      <td>433:484</td>\n      <td>GC:AG</td>\n      <td>526</td>\n    </tr>\n    <tr>\n      <th>...</th>\n      <td>...</td>\n      <td>...</td>\n      <td>...</td>\n      <td>...</td>\n      <td>...</td>\n      <td>...</td>\n      <td>...</td>\n      <td>...</td>\n      <td>...</td>\n      <td>...</td>\n      <td>...</td>\n      <td>...</td>\n    </tr>\n    <tr>\n      <th>517017</th>\n      <td>chrY</td>\n      <td>15955</td>\n      <td>57212183</td>\n      <td>-</td>\n      <td>1</td>\n      <td>None -1</td>\n      <td>['Centromere', 'Dust', 'Low complexity regions...</td>\n      <td>NaN</td>\n      <td>NaN</td>\n      <td>NaN</td>\n      <td>NaN</td>\n      <td>-1</td>\n    </tr>\n    <tr>\n      <th>517018</th>\n      <td>chrY</td>\n      <td>57213125</td>\n      <td>57213203</td>\n      <td>-</td>\n      <td>1</td>\n      <td>None -1</td>\n      <td>[]</td>\n      <td>NaN</td>\n      <td>NaN</td>\n      <td>NaN</td>\n      <td>NaN</td>\n      <td>-1</td>\n    </tr>\n    <tr>\n      <th>517019</th>\n      <td>chrY</td>\n      <td>57213357</td>\n      <td>57213525</td>\n      <td>-</td>\n      <td>1</td>\n      <td>None -1</td>\n      <td>[]</td>\n      <td>NaN</td>\n      <td>NaN</td>\n      <td>NaN</td>\n      <td>NaN</td>\n      <td>-1</td>\n    </tr>\n    <tr>\n      <th>517020</th>\n      <td>chrY</td>\n      <td>57213602</td>\n      <td>57213879</td>\n      <td>-</td>\n      <td>1</td>\n      <td>None -1</td>\n      <td>[]</td>\n      <td>NaN</td>\n      <td>NaN</td>\n      <td>NaN</td>\n      <td>NaN</td>\n      <td>-1</td>\n    </tr>\n    <tr>\n      <th>517021</th>\n      <td>chrY</td>\n      <td>57213964</td>\n      <td>57214349</td>\n      <td>-</td>\n      <td>1</td>\n      <td>None -1</td>\n      <td>[]</td>\n      <td>NaN</td>\n      <td>NaN</td>\n      <td>NaN</td>\n      <td>NaN</td>\n      <td>-1</td>\n    </tr>\n  </tbody>\n</table>\n<p>517022 rows × 12 columns</p>\n</div>"
     },
     "execution_count": 55,
     "metadata": {},
     "output_type": "execute_result"
    }
   ],
   "source": [
    "df"
   ],
   "metadata": {
    "collapsed": false
   }
  },
  {
   "cell_type": "code",
   "execution_count": 56,
   "outputs": [
    {
     "data": {
      "text/plain": "       chrom  intron_start  intron_ends strand  Duplicate_Count  \\\n0       chr1         12227        12612      +                2   \n1       chr1         12721        13220      +                1   \n2       chr1         12057        12178      +                1   \n3       chr1         12697        12974      +                1   \n4       chr1         13052        13220      +                1   \n...      ...           ...          ...    ...              ...   \n517017  chrY         15955     57212183      -                1   \n517018  chrY      57213125     57213203      -                1   \n517019  chrY      57213357     57213525      -                1   \n517020  chrY      57213602     57213879      -                1   \n517021  chrY      57213964     57214349      -                1   \n\n                                          Repeat_overlaps     GTExv2  \\\n0                                                      []  1122:3199   \n1                                                      []  1791:3198   \n2                                                      []        NaN   \n3                                                      []        1:1   \n4                                                      []      22:24   \n...                                                   ...        ...   \n517017  ['Centromere', 'Dust', 'Low complexity regions...        NaN   \n517018                                                 []        NaN   \n517019                                                 []        NaN   \n517020                                                 []        NaN   \n517021                                                 []        NaN   \n\n          TCGAv2       SRAv3h RC3-Splice_site RC3-Score  \n0       583:1460   9374:54492           GT:AG     59151  \n1       783:1104  14048:56719           GT:AG     61021  \n2            NaN          NaN             NaN        -1  \n3            1:1        15:19           GT:AG        21  \n4          17:18      433:484           GC:AG       526  \n...          ...          ...             ...       ...  \n517017       NaN          NaN             NaN        -1  \n517018       NaN          NaN             NaN        -1  \n517019       NaN          NaN             NaN        -1  \n517020       NaN          NaN             NaN        -1  \n517021       NaN          NaN             NaN        -1  \n\n[517022 rows x 11 columns]",
      "text/html": "<div>\n<style scoped>\n    .dataframe tbody tr th:only-of-type {\n        vertical-align: middle;\n    }\n\n    .dataframe tbody tr th {\n        vertical-align: top;\n    }\n\n    .dataframe thead th {\n        text-align: right;\n    }\n</style>\n<table border=\"1\" class=\"dataframe\">\n  <thead>\n    <tr style=\"text-align: right;\">\n      <th></th>\n      <th>chrom</th>\n      <th>intron_start</th>\n      <th>intron_ends</th>\n      <th>strand</th>\n      <th>Duplicate_Count</th>\n      <th>Repeat_overlaps</th>\n      <th>GTExv2</th>\n      <th>TCGAv2</th>\n      <th>SRAv3h</th>\n      <th>RC3-Splice_site</th>\n      <th>RC3-Score</th>\n    </tr>\n  </thead>\n  <tbody>\n    <tr>\n      <th>0</th>\n      <td>chr1</td>\n      <td>12227</td>\n      <td>12612</td>\n      <td>+</td>\n      <td>2</td>\n      <td>[]</td>\n      <td>1122:3199</td>\n      <td>583:1460</td>\n      <td>9374:54492</td>\n      <td>GT:AG</td>\n      <td>59151</td>\n    </tr>\n    <tr>\n      <th>1</th>\n      <td>chr1</td>\n      <td>12721</td>\n      <td>13220</td>\n      <td>+</td>\n      <td>1</td>\n      <td>[]</td>\n      <td>1791:3198</td>\n      <td>783:1104</td>\n      <td>14048:56719</td>\n      <td>GT:AG</td>\n      <td>61021</td>\n    </tr>\n    <tr>\n      <th>2</th>\n      <td>chr1</td>\n      <td>12057</td>\n      <td>12178</td>\n      <td>+</td>\n      <td>1</td>\n      <td>[]</td>\n      <td>NaN</td>\n      <td>NaN</td>\n      <td>NaN</td>\n      <td>NaN</td>\n      <td>-1</td>\n    </tr>\n    <tr>\n      <th>3</th>\n      <td>chr1</td>\n      <td>12697</td>\n      <td>12974</td>\n      <td>+</td>\n      <td>1</td>\n      <td>[]</td>\n      <td>1:1</td>\n      <td>1:1</td>\n      <td>15:19</td>\n      <td>GT:AG</td>\n      <td>21</td>\n    </tr>\n    <tr>\n      <th>4</th>\n      <td>chr1</td>\n      <td>13052</td>\n      <td>13220</td>\n      <td>+</td>\n      <td>1</td>\n      <td>[]</td>\n      <td>22:24</td>\n      <td>17:18</td>\n      <td>433:484</td>\n      <td>GC:AG</td>\n      <td>526</td>\n    </tr>\n    <tr>\n      <th>...</th>\n      <td>...</td>\n      <td>...</td>\n      <td>...</td>\n      <td>...</td>\n      <td>...</td>\n      <td>...</td>\n      <td>...</td>\n      <td>...</td>\n      <td>...</td>\n      <td>...</td>\n      <td>...</td>\n    </tr>\n    <tr>\n      <th>517017</th>\n      <td>chrY</td>\n      <td>15955</td>\n      <td>57212183</td>\n      <td>-</td>\n      <td>1</td>\n      <td>['Centromere', 'Dust', 'Low complexity regions...</td>\n      <td>NaN</td>\n      <td>NaN</td>\n      <td>NaN</td>\n      <td>NaN</td>\n      <td>-1</td>\n    </tr>\n    <tr>\n      <th>517018</th>\n      <td>chrY</td>\n      <td>57213125</td>\n      <td>57213203</td>\n      <td>-</td>\n      <td>1</td>\n      <td>[]</td>\n      <td>NaN</td>\n      <td>NaN</td>\n      <td>NaN</td>\n      <td>NaN</td>\n      <td>-1</td>\n    </tr>\n    <tr>\n      <th>517019</th>\n      <td>chrY</td>\n      <td>57213357</td>\n      <td>57213525</td>\n      <td>-</td>\n      <td>1</td>\n      <td>[]</td>\n      <td>NaN</td>\n      <td>NaN</td>\n      <td>NaN</td>\n      <td>NaN</td>\n      <td>-1</td>\n    </tr>\n    <tr>\n      <th>517020</th>\n      <td>chrY</td>\n      <td>57213602</td>\n      <td>57213879</td>\n      <td>-</td>\n      <td>1</td>\n      <td>[]</td>\n      <td>NaN</td>\n      <td>NaN</td>\n      <td>NaN</td>\n      <td>NaN</td>\n      <td>-1</td>\n    </tr>\n    <tr>\n      <th>517021</th>\n      <td>chrY</td>\n      <td>57213964</td>\n      <td>57214349</td>\n      <td>-</td>\n      <td>1</td>\n      <td>[]</td>\n      <td>NaN</td>\n      <td>NaN</td>\n      <td>NaN</td>\n      <td>NaN</td>\n      <td>-1</td>\n    </tr>\n  </tbody>\n</table>\n<p>517022 rows × 11 columns</p>\n</div>"
     },
     "execution_count": 56,
     "metadata": {},
     "output_type": "execute_result"
    }
   ],
   "source": [
    "df.drop(columns=\"RC3\", inplace=True)\n",
    "df"
   ],
   "metadata": {
    "collapsed": false
   }
  },
  {
   "cell_type": "code",
   "execution_count": 57,
   "outputs": [],
   "source": [
    "df.to_csv(\"Featurized_gencode_introns\", index=False)"
   ],
   "metadata": {
    "collapsed": false
   }
  },
  {
   "cell_type": "code",
   "execution_count": null,
   "outputs": [],
   "source": [],
   "metadata": {
    "collapsed": false
   }
  }
 ],
 "metadata": {
  "kernelspec": {
   "display_name": "Python 3",
   "language": "python",
   "name": "python3"
  },
  "language_info": {
   "codemirror_mode": {
    "name": "ipython",
    "version": 2
   },
   "file_extension": ".py",
   "mimetype": "text/x-python",
   "name": "python",
   "nbconvert_exporter": "python",
   "pygments_lexer": "ipython2",
   "version": "2.7.6"
  }
 },
 "nbformat": 4,
 "nbformat_minor": 0
}
