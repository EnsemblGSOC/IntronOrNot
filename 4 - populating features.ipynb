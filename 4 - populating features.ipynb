{
 "cells": [
  {
   "cell_type": "code",
   "execution_count": 1,
   "metadata": {
    "collapsed": true,
    "ExecuteTime": {
     "end_time": "2023-07-02T07:46:50.172318Z",
     "start_time": "2023-07-02T07:46:49.700667Z"
    }
   },
   "outputs": [],
   "source": [
    "import pandas as pd"
   ]
  },
  {
   "cell_type": "code",
   "execution_count": 2,
   "outputs": [
    {
     "data": {
      "text/plain": "         chr      start        end strand  class  \\\n0       chr1      12227      12612      +      1   \n1       chr1      12721      13220      +      1   \n2       chr1      12057      12178      +      1   \n3       chr1      12697      12974      +      1   \n4       chr1      13052      13220      +      1   \n...      ...        ...        ...    ...    ...   \n517420  chrX  151403679  151404937      +      0   \n517421  chrX  151409210  151456968      +      0   \n517422  chrX  153906577  153906694      -      0   \n517423  chrX  153906409  153906520      -      0   \n517424  chrY   20579691   20582591      +      0   \n\n                                                      RC3  \\\n0       ['GTExv2=1122:3199;TCGAv2=583:1460;SRAv3h=9374...   \n1       ['GTExv2=1791:3198;TCGAv2=783:1104;SRAv3h=1404...   \n2                                              [None, -1]   \n3         ['GTExv2=1:1;TCGAv2=1:1;SRAv3h=15:19;GT:AG' 21]   \n4       ['GTExv2=22:24;TCGAv2=17:18;SRAv3h=433:484;GC:...   \n...                                                   ...   \n517420                                         [None, -1]   \n517421                                         [None, -1]   \n517422                                         [None, -1]   \n517423                                         [None, -1]   \n517424  ['GTExv2=222:238;TCGAv2=53:60;SRAv3h=961:1642;...   \n\n                                          repeat_features  \n0                                                      []  \n1                                                      []  \n2                                                      []  \n3                                                      []  \n4                                                      []  \n...                                                   ...  \n517420  ['Dust', 'Tandem repeats', 'Type I Transposons...  \n517421  ['Dust', 'Low complexity regions', 'LTRs', 'Si...  \n517422                                                 []  \n517423                                                 []  \n517424  ['Dust', 'Simple repeats', 'Tandem repeats', '...  \n\n[517425 rows x 7 columns]",
      "text/html": "<div>\n<style scoped>\n    .dataframe tbody tr th:only-of-type {\n        vertical-align: middle;\n    }\n\n    .dataframe tbody tr th {\n        vertical-align: top;\n    }\n\n    .dataframe thead th {\n        text-align: right;\n    }\n</style>\n<table border=\"1\" class=\"dataframe\">\n  <thead>\n    <tr style=\"text-align: right;\">\n      <th></th>\n      <th>chr</th>\n      <th>start</th>\n      <th>end</th>\n      <th>strand</th>\n      <th>class</th>\n      <th>RC3</th>\n      <th>repeat_features</th>\n    </tr>\n  </thead>\n  <tbody>\n    <tr>\n      <th>0</th>\n      <td>chr1</td>\n      <td>12227</td>\n      <td>12612</td>\n      <td>+</td>\n      <td>1</td>\n      <td>['GTExv2=1122:3199;TCGAv2=583:1460;SRAv3h=9374...</td>\n      <td>[]</td>\n    </tr>\n    <tr>\n      <th>1</th>\n      <td>chr1</td>\n      <td>12721</td>\n      <td>13220</td>\n      <td>+</td>\n      <td>1</td>\n      <td>['GTExv2=1791:3198;TCGAv2=783:1104;SRAv3h=1404...</td>\n      <td>[]</td>\n    </tr>\n    <tr>\n      <th>2</th>\n      <td>chr1</td>\n      <td>12057</td>\n      <td>12178</td>\n      <td>+</td>\n      <td>1</td>\n      <td>[None, -1]</td>\n      <td>[]</td>\n    </tr>\n    <tr>\n      <th>3</th>\n      <td>chr1</td>\n      <td>12697</td>\n      <td>12974</td>\n      <td>+</td>\n      <td>1</td>\n      <td>['GTExv2=1:1;TCGAv2=1:1;SRAv3h=15:19;GT:AG' 21]</td>\n      <td>[]</td>\n    </tr>\n    <tr>\n      <th>4</th>\n      <td>chr1</td>\n      <td>13052</td>\n      <td>13220</td>\n      <td>+</td>\n      <td>1</td>\n      <td>['GTExv2=22:24;TCGAv2=17:18;SRAv3h=433:484;GC:...</td>\n      <td>[]</td>\n    </tr>\n    <tr>\n      <th>...</th>\n      <td>...</td>\n      <td>...</td>\n      <td>...</td>\n      <td>...</td>\n      <td>...</td>\n      <td>...</td>\n      <td>...</td>\n    </tr>\n    <tr>\n      <th>517420</th>\n      <td>chrX</td>\n      <td>151403679</td>\n      <td>151404937</td>\n      <td>+</td>\n      <td>0</td>\n      <td>[None, -1]</td>\n      <td>['Dust', 'Tandem repeats', 'Type I Transposons...</td>\n    </tr>\n    <tr>\n      <th>517421</th>\n      <td>chrX</td>\n      <td>151409210</td>\n      <td>151456968</td>\n      <td>+</td>\n      <td>0</td>\n      <td>[None, -1]</td>\n      <td>['Dust', 'Low complexity regions', 'LTRs', 'Si...</td>\n    </tr>\n    <tr>\n      <th>517422</th>\n      <td>chrX</td>\n      <td>153906577</td>\n      <td>153906694</td>\n      <td>-</td>\n      <td>0</td>\n      <td>[None, -1]</td>\n      <td>[]</td>\n    </tr>\n    <tr>\n      <th>517423</th>\n      <td>chrX</td>\n      <td>153906409</td>\n      <td>153906520</td>\n      <td>-</td>\n      <td>0</td>\n      <td>[None, -1]</td>\n      <td>[]</td>\n    </tr>\n    <tr>\n      <th>517424</th>\n      <td>chrY</td>\n      <td>20579691</td>\n      <td>20582591</td>\n      <td>+</td>\n      <td>0</td>\n      <td>['GTExv2=222:238;TCGAv2=53:60;SRAv3h=961:1642;...</td>\n      <td>['Dust', 'Simple repeats', 'Tandem repeats', '...</td>\n    </tr>\n  </tbody>\n</table>\n<p>517425 rows × 7 columns</p>\n</div>"
     },
     "execution_count": 2,
     "metadata": {},
     "output_type": "execute_result"
    }
   ],
   "source": [
    "df = pd.read_csv(\"data/3-final-output.tsv\", sep=\"\\t\")\n",
    "# df.drop(columns=\"intron_id\", inplace=True)\n",
    "df"
   ],
   "metadata": {
    "collapsed": false,
    "ExecuteTime": {
     "end_time": "2023-07-02T07:43:22.621433Z",
     "start_time": "2023-07-02T07:43:21.825426Z"
    }
   }
  },
  {
   "cell_type": "code",
   "execution_count": 3,
   "outputs": [
    {
     "name": "stderr",
     "output_type": "stream",
     "text": [
      "/tmp/ipykernel_2155082/3269407476.py:2: FutureWarning: The default value of regex will change from True to False in a future version.\n",
      "  df['RC3'] = df['RC3'].str.replace('[\\[\\]]', '')\n"
     ]
    },
    {
     "data": {
      "text/plain": "         chr      start        end strand  class  \\\n0       chr1      12227      12612      +      1   \n1       chr1      12721      13220      +      1   \n2       chr1      12057      12178      +      1   \n3       chr1      12697      12974      +      1   \n4       chr1      13052      13220      +      1   \n...      ...        ...        ...    ...    ...   \n517420  chrX  151403679  151404937      +      0   \n517421  chrX  151409210  151456968      +      0   \n517422  chrX  153906577  153906694      -      0   \n517423  chrX  153906409  153906520      -      0   \n517424  chrY   20579691   20582591      +      0   \n\n                                                      RC3  \\\n0       'GTExv2=1122:3199;TCGAv2=583:1460;SRAv3h=9374:...   \n1       'GTExv2=1791:3198;TCGAv2=783:1104;SRAv3h=14048...   \n2                                                 None -1   \n3           'GTExv2=1:1;TCGAv2=1:1;SRAv3h=15:19;GT:AG' 21   \n4       'GTExv2=22:24;TCGAv2=17:18;SRAv3h=433:484;GC:A...   \n...                                                   ...   \n517420                                            None -1   \n517421                                            None -1   \n517422                                            None -1   \n517423                                            None -1   \n517424  'GTExv2=222:238;TCGAv2=53:60;SRAv3h=961:1642;G...   \n\n                                          repeat_features  \n0                                                      []  \n1                                                      []  \n2                                                      []  \n3                                                      []  \n4                                                      []  \n...                                                   ...  \n517420  ['Dust', 'Tandem repeats', 'Type I Transposons...  \n517421  ['Dust', 'Low complexity regions', 'LTRs', 'Si...  \n517422                                                 []  \n517423                                                 []  \n517424  ['Dust', 'Simple repeats', 'Tandem repeats', '...  \n\n[517425 rows x 7 columns]",
      "text/html": "<div>\n<style scoped>\n    .dataframe tbody tr th:only-of-type {\n        vertical-align: middle;\n    }\n\n    .dataframe tbody tr th {\n        vertical-align: top;\n    }\n\n    .dataframe thead th {\n        text-align: right;\n    }\n</style>\n<table border=\"1\" class=\"dataframe\">\n  <thead>\n    <tr style=\"text-align: right;\">\n      <th></th>\n      <th>chr</th>\n      <th>start</th>\n      <th>end</th>\n      <th>strand</th>\n      <th>class</th>\n      <th>RC3</th>\n      <th>repeat_features</th>\n    </tr>\n  </thead>\n  <tbody>\n    <tr>\n      <th>0</th>\n      <td>chr1</td>\n      <td>12227</td>\n      <td>12612</td>\n      <td>+</td>\n      <td>1</td>\n      <td>'GTExv2=1122:3199;TCGAv2=583:1460;SRAv3h=9374:...</td>\n      <td>[]</td>\n    </tr>\n    <tr>\n      <th>1</th>\n      <td>chr1</td>\n      <td>12721</td>\n      <td>13220</td>\n      <td>+</td>\n      <td>1</td>\n      <td>'GTExv2=1791:3198;TCGAv2=783:1104;SRAv3h=14048...</td>\n      <td>[]</td>\n    </tr>\n    <tr>\n      <th>2</th>\n      <td>chr1</td>\n      <td>12057</td>\n      <td>12178</td>\n      <td>+</td>\n      <td>1</td>\n      <td>None -1</td>\n      <td>[]</td>\n    </tr>\n    <tr>\n      <th>3</th>\n      <td>chr1</td>\n      <td>12697</td>\n      <td>12974</td>\n      <td>+</td>\n      <td>1</td>\n      <td>'GTExv2=1:1;TCGAv2=1:1;SRAv3h=15:19;GT:AG' 21</td>\n      <td>[]</td>\n    </tr>\n    <tr>\n      <th>4</th>\n      <td>chr1</td>\n      <td>13052</td>\n      <td>13220</td>\n      <td>+</td>\n      <td>1</td>\n      <td>'GTExv2=22:24;TCGAv2=17:18;SRAv3h=433:484;GC:A...</td>\n      <td>[]</td>\n    </tr>\n    <tr>\n      <th>...</th>\n      <td>...</td>\n      <td>...</td>\n      <td>...</td>\n      <td>...</td>\n      <td>...</td>\n      <td>...</td>\n      <td>...</td>\n    </tr>\n    <tr>\n      <th>517420</th>\n      <td>chrX</td>\n      <td>151403679</td>\n      <td>151404937</td>\n      <td>+</td>\n      <td>0</td>\n      <td>None -1</td>\n      <td>['Dust', 'Tandem repeats', 'Type I Transposons...</td>\n    </tr>\n    <tr>\n      <th>517421</th>\n      <td>chrX</td>\n      <td>151409210</td>\n      <td>151456968</td>\n      <td>+</td>\n      <td>0</td>\n      <td>None -1</td>\n      <td>['Dust', 'Low complexity regions', 'LTRs', 'Si...</td>\n    </tr>\n    <tr>\n      <th>517422</th>\n      <td>chrX</td>\n      <td>153906577</td>\n      <td>153906694</td>\n      <td>-</td>\n      <td>0</td>\n      <td>None -1</td>\n      <td>[]</td>\n    </tr>\n    <tr>\n      <th>517423</th>\n      <td>chrX</td>\n      <td>153906409</td>\n      <td>153906520</td>\n      <td>-</td>\n      <td>0</td>\n      <td>None -1</td>\n      <td>[]</td>\n    </tr>\n    <tr>\n      <th>517424</th>\n      <td>chrY</td>\n      <td>20579691</td>\n      <td>20582591</td>\n      <td>+</td>\n      <td>0</td>\n      <td>'GTExv2=222:238;TCGAv2=53:60;SRAv3h=961:1642;G...</td>\n      <td>['Dust', 'Simple repeats', 'Tandem repeats', '...</td>\n    </tr>\n  </tbody>\n</table>\n<p>517425 rows × 7 columns</p>\n</div>"
     },
     "execution_count": 3,
     "metadata": {},
     "output_type": "execute_result"
    }
   ],
   "source": [
    "df['RC3'] = df['RC3'].replace(\"[None, -1]\", \"[None -1]\")\n",
    "df['RC3'] = df['RC3'].str.replace('[\\[\\]]', '')\n",
    "df['RC3'] = df['RC3'].str.replace('\\n', '')\n",
    "df"
   ],
   "metadata": {
    "collapsed": false,
    "ExecuteTime": {
     "end_time": "2023-07-02T07:43:58.238371Z",
     "start_time": "2023-07-02T07:43:57.435296Z"
    }
   }
  },
  {
   "cell_type": "code",
   "execution_count": 4,
   "outputs": [
    {
     "data": {
      "text/plain": "0         [GTExv2=1122:3199, TCGAv2=583:1460, SRAv3h=937...\n1         [GTExv2=1791:3198, TCGAv2=783:1104, SRAv3h=140...\n2                                                    [None]\n3             [GTExv2=1:1, TCGAv2=1:1, SRAv3h=15:19, GT:AG]\n4         [GTExv2=22:24, TCGAv2=17:18, SRAv3h=433:484, G...\n                                ...                        \n517420                                               [None]\n517421                                               [None]\n517422                                               [None]\n517423                                               [None]\n517424    [GTExv2=222:238, TCGAv2=53:60, SRAv3h=961:1642...\nName: RC3, Length: 517425, dtype: object"
     },
     "execution_count": 4,
     "metadata": {},
     "output_type": "execute_result"
    }
   ],
   "source": [
    "df[\"RC3\"].str.split(\" \").str.get(0).str.replace(\"'\", \"\").str.split(\";\")"
   ],
   "metadata": {
    "collapsed": false,
    "ExecuteTime": {
     "end_time": "2023-07-02T07:44:34.684761Z",
     "start_time": "2023-07-02T07:44:32.937898Z"
    }
   }
  },
  {
   "cell_type": "code",
   "execution_count": 5,
   "outputs": [],
   "source": [
    "df_featuers_split = df[\"RC3\"].str.split(\" \").str.get(0).str.replace(\"'\", \"\").str.split(\";\")\n",
    "df[\"GTExv2\"] = df_featuers_split.str[0].str.split(\"=\").str[1]\n",
    "df[\"TCGAv2\"] = df_featuers_split.str[1].str.split(\"=\").str[1]\n",
    "df[\"SRAv3h\"] = df_featuers_split.str[2].str.split(\"=\").str[1]\n",
    "df[\"RC3-Splice_site\"] = df_featuers_split.str[3]\n",
    "df[\"RC3-Score\"] = df[\"RC3\"].str.split(\" \").str.get(1)"
   ],
   "metadata": {
    "collapsed": false,
    "ExecuteTime": {
     "end_time": "2023-07-02T07:44:49.422120Z",
     "start_time": "2023-07-02T07:44:43.907900Z"
    }
   }
  },
  {
   "cell_type": "code",
   "execution_count": 6,
   "outputs": [
    {
     "data": {
      "text/plain": "         chr      start        end strand  class  \\\n0       chr1      12227      12612      +      1   \n1       chr1      12721      13220      +      1   \n2       chr1      12057      12178      +      1   \n3       chr1      12697      12974      +      1   \n4       chr1      13052      13220      +      1   \n...      ...        ...        ...    ...    ...   \n517420  chrX  151403679  151404937      +      0   \n517421  chrX  151409210  151456968      +      0   \n517422  chrX  153906577  153906694      -      0   \n517423  chrX  153906409  153906520      -      0   \n517424  chrY   20579691   20582591      +      0   \n\n                                                      RC3  \\\n0       'GTExv2=1122:3199;TCGAv2=583:1460;SRAv3h=9374:...   \n1       'GTExv2=1791:3198;TCGAv2=783:1104;SRAv3h=14048...   \n2                                                 None -1   \n3           'GTExv2=1:1;TCGAv2=1:1;SRAv3h=15:19;GT:AG' 21   \n4       'GTExv2=22:24;TCGAv2=17:18;SRAv3h=433:484;GC:A...   \n...                                                   ...   \n517420                                            None -1   \n517421                                            None -1   \n517422                                            None -1   \n517423                                            None -1   \n517424  'GTExv2=222:238;TCGAv2=53:60;SRAv3h=961:1642;G...   \n\n                                          repeat_features     GTExv2  \\\n0                                                      []  1122:3199   \n1                                                      []  1791:3198   \n2                                                      []        NaN   \n3                                                      []        1:1   \n4                                                      []      22:24   \n...                                                   ...        ...   \n517420  ['Dust', 'Tandem repeats', 'Type I Transposons...        NaN   \n517421  ['Dust', 'Low complexity regions', 'LTRs', 'Si...        NaN   \n517422                                                 []        NaN   \n517423                                                 []        NaN   \n517424  ['Dust', 'Simple repeats', 'Tandem repeats', '...    222:238   \n\n          TCGAv2       SRAv3h RC3-Splice_site RC3-Score  \n0       583:1460   9374:54492           GT:AG     59151  \n1       783:1104  14048:56719           GT:AG     61021  \n2            NaN          NaN             NaN        -1  \n3            1:1        15:19           GT:AG        21  \n4          17:18      433:484           GC:AG       526  \n...          ...          ...             ...       ...  \n517420       NaN          NaN             NaN        -1  \n517421       NaN          NaN             NaN        -1  \n517422       NaN          NaN             NaN        -1  \n517423       NaN          NaN             NaN        -1  \n517424     53:60     961:1642           GT:AG      1940  \n\n[517425 rows x 12 columns]",
      "text/html": "<div>\n<style scoped>\n    .dataframe tbody tr th:only-of-type {\n        vertical-align: middle;\n    }\n\n    .dataframe tbody tr th {\n        vertical-align: top;\n    }\n\n    .dataframe thead th {\n        text-align: right;\n    }\n</style>\n<table border=\"1\" class=\"dataframe\">\n  <thead>\n    <tr style=\"text-align: right;\">\n      <th></th>\n      <th>chr</th>\n      <th>start</th>\n      <th>end</th>\n      <th>strand</th>\n      <th>class</th>\n      <th>RC3</th>\n      <th>repeat_features</th>\n      <th>GTExv2</th>\n      <th>TCGAv2</th>\n      <th>SRAv3h</th>\n      <th>RC3-Splice_site</th>\n      <th>RC3-Score</th>\n    </tr>\n  </thead>\n  <tbody>\n    <tr>\n      <th>0</th>\n      <td>chr1</td>\n      <td>12227</td>\n      <td>12612</td>\n      <td>+</td>\n      <td>1</td>\n      <td>'GTExv2=1122:3199;TCGAv2=583:1460;SRAv3h=9374:...</td>\n      <td>[]</td>\n      <td>1122:3199</td>\n      <td>583:1460</td>\n      <td>9374:54492</td>\n      <td>GT:AG</td>\n      <td>59151</td>\n    </tr>\n    <tr>\n      <th>1</th>\n      <td>chr1</td>\n      <td>12721</td>\n      <td>13220</td>\n      <td>+</td>\n      <td>1</td>\n      <td>'GTExv2=1791:3198;TCGAv2=783:1104;SRAv3h=14048...</td>\n      <td>[]</td>\n      <td>1791:3198</td>\n      <td>783:1104</td>\n      <td>14048:56719</td>\n      <td>GT:AG</td>\n      <td>61021</td>\n    </tr>\n    <tr>\n      <th>2</th>\n      <td>chr1</td>\n      <td>12057</td>\n      <td>12178</td>\n      <td>+</td>\n      <td>1</td>\n      <td>None -1</td>\n      <td>[]</td>\n      <td>NaN</td>\n      <td>NaN</td>\n      <td>NaN</td>\n      <td>NaN</td>\n      <td>-1</td>\n    </tr>\n    <tr>\n      <th>3</th>\n      <td>chr1</td>\n      <td>12697</td>\n      <td>12974</td>\n      <td>+</td>\n      <td>1</td>\n      <td>'GTExv2=1:1;TCGAv2=1:1;SRAv3h=15:19;GT:AG' 21</td>\n      <td>[]</td>\n      <td>1:1</td>\n      <td>1:1</td>\n      <td>15:19</td>\n      <td>GT:AG</td>\n      <td>21</td>\n    </tr>\n    <tr>\n      <th>4</th>\n      <td>chr1</td>\n      <td>13052</td>\n      <td>13220</td>\n      <td>+</td>\n      <td>1</td>\n      <td>'GTExv2=22:24;TCGAv2=17:18;SRAv3h=433:484;GC:A...</td>\n      <td>[]</td>\n      <td>22:24</td>\n      <td>17:18</td>\n      <td>433:484</td>\n      <td>GC:AG</td>\n      <td>526</td>\n    </tr>\n    <tr>\n      <th>...</th>\n      <td>...</td>\n      <td>...</td>\n      <td>...</td>\n      <td>...</td>\n      <td>...</td>\n      <td>...</td>\n      <td>...</td>\n      <td>...</td>\n      <td>...</td>\n      <td>...</td>\n      <td>...</td>\n      <td>...</td>\n    </tr>\n    <tr>\n      <th>517420</th>\n      <td>chrX</td>\n      <td>151403679</td>\n      <td>151404937</td>\n      <td>+</td>\n      <td>0</td>\n      <td>None -1</td>\n      <td>['Dust', 'Tandem repeats', 'Type I Transposons...</td>\n      <td>NaN</td>\n      <td>NaN</td>\n      <td>NaN</td>\n      <td>NaN</td>\n      <td>-1</td>\n    </tr>\n    <tr>\n      <th>517421</th>\n      <td>chrX</td>\n      <td>151409210</td>\n      <td>151456968</td>\n      <td>+</td>\n      <td>0</td>\n      <td>None -1</td>\n      <td>['Dust', 'Low complexity regions', 'LTRs', 'Si...</td>\n      <td>NaN</td>\n      <td>NaN</td>\n      <td>NaN</td>\n      <td>NaN</td>\n      <td>-1</td>\n    </tr>\n    <tr>\n      <th>517422</th>\n      <td>chrX</td>\n      <td>153906577</td>\n      <td>153906694</td>\n      <td>-</td>\n      <td>0</td>\n      <td>None -1</td>\n      <td>[]</td>\n      <td>NaN</td>\n      <td>NaN</td>\n      <td>NaN</td>\n      <td>NaN</td>\n      <td>-1</td>\n    </tr>\n    <tr>\n      <th>517423</th>\n      <td>chrX</td>\n      <td>153906409</td>\n      <td>153906520</td>\n      <td>-</td>\n      <td>0</td>\n      <td>None -1</td>\n      <td>[]</td>\n      <td>NaN</td>\n      <td>NaN</td>\n      <td>NaN</td>\n      <td>NaN</td>\n      <td>-1</td>\n    </tr>\n    <tr>\n      <th>517424</th>\n      <td>chrY</td>\n      <td>20579691</td>\n      <td>20582591</td>\n      <td>+</td>\n      <td>0</td>\n      <td>'GTExv2=222:238;TCGAv2=53:60;SRAv3h=961:1642;G...</td>\n      <td>['Dust', 'Simple repeats', 'Tandem repeats', '...</td>\n      <td>222:238</td>\n      <td>53:60</td>\n      <td>961:1642</td>\n      <td>GT:AG</td>\n      <td>1940</td>\n    </tr>\n  </tbody>\n</table>\n<p>517425 rows × 12 columns</p>\n</div>"
     },
     "execution_count": 6,
     "metadata": {},
     "output_type": "execute_result"
    }
   ],
   "source": [
    "df"
   ],
   "metadata": {
    "collapsed": false,
    "ExecuteTime": {
     "end_time": "2023-07-02T07:44:50.755847Z",
     "start_time": "2023-07-02T07:44:50.727480Z"
    }
   }
  },
  {
   "cell_type": "code",
   "execution_count": 7,
   "outputs": [
    {
     "data": {
      "text/plain": "         chr      start        end strand  class  \\\n0       chr1      12227      12612      +      1   \n1       chr1      12721      13220      +      1   \n2       chr1      12057      12178      +      1   \n3       chr1      12697      12974      +      1   \n4       chr1      13052      13220      +      1   \n...      ...        ...        ...    ...    ...   \n517420  chrX  151403679  151404937      +      0   \n517421  chrX  151409210  151456968      +      0   \n517422  chrX  153906577  153906694      -      0   \n517423  chrX  153906409  153906520      -      0   \n517424  chrY   20579691   20582591      +      0   \n\n                                          repeat_features     GTExv2  \\\n0                                                      []  1122:3199   \n1                                                      []  1791:3198   \n2                                                      []        NaN   \n3                                                      []        1:1   \n4                                                      []      22:24   \n...                                                   ...        ...   \n517420  ['Dust', 'Tandem repeats', 'Type I Transposons...        NaN   \n517421  ['Dust', 'Low complexity regions', 'LTRs', 'Si...        NaN   \n517422                                                 []        NaN   \n517423                                                 []        NaN   \n517424  ['Dust', 'Simple repeats', 'Tandem repeats', '...    222:238   \n\n          TCGAv2       SRAv3h RC3-Splice_site RC3-Score  \n0       583:1460   9374:54492           GT:AG     59151  \n1       783:1104  14048:56719           GT:AG     61021  \n2            NaN          NaN             NaN        -1  \n3            1:1        15:19           GT:AG        21  \n4          17:18      433:484           GC:AG       526  \n...          ...          ...             ...       ...  \n517420       NaN          NaN             NaN        -1  \n517421       NaN          NaN             NaN        -1  \n517422       NaN          NaN             NaN        -1  \n517423       NaN          NaN             NaN        -1  \n517424     53:60     961:1642           GT:AG      1940  \n\n[517425 rows x 11 columns]",
      "text/html": "<div>\n<style scoped>\n    .dataframe tbody tr th:only-of-type {\n        vertical-align: middle;\n    }\n\n    .dataframe tbody tr th {\n        vertical-align: top;\n    }\n\n    .dataframe thead th {\n        text-align: right;\n    }\n</style>\n<table border=\"1\" class=\"dataframe\">\n  <thead>\n    <tr style=\"text-align: right;\">\n      <th></th>\n      <th>chr</th>\n      <th>start</th>\n      <th>end</th>\n      <th>strand</th>\n      <th>class</th>\n      <th>repeat_features</th>\n      <th>GTExv2</th>\n      <th>TCGAv2</th>\n      <th>SRAv3h</th>\n      <th>RC3-Splice_site</th>\n      <th>RC3-Score</th>\n    </tr>\n  </thead>\n  <tbody>\n    <tr>\n      <th>0</th>\n      <td>chr1</td>\n      <td>12227</td>\n      <td>12612</td>\n      <td>+</td>\n      <td>1</td>\n      <td>[]</td>\n      <td>1122:3199</td>\n      <td>583:1460</td>\n      <td>9374:54492</td>\n      <td>GT:AG</td>\n      <td>59151</td>\n    </tr>\n    <tr>\n      <th>1</th>\n      <td>chr1</td>\n      <td>12721</td>\n      <td>13220</td>\n      <td>+</td>\n      <td>1</td>\n      <td>[]</td>\n      <td>1791:3198</td>\n      <td>783:1104</td>\n      <td>14048:56719</td>\n      <td>GT:AG</td>\n      <td>61021</td>\n    </tr>\n    <tr>\n      <th>2</th>\n      <td>chr1</td>\n      <td>12057</td>\n      <td>12178</td>\n      <td>+</td>\n      <td>1</td>\n      <td>[]</td>\n      <td>NaN</td>\n      <td>NaN</td>\n      <td>NaN</td>\n      <td>NaN</td>\n      <td>-1</td>\n    </tr>\n    <tr>\n      <th>3</th>\n      <td>chr1</td>\n      <td>12697</td>\n      <td>12974</td>\n      <td>+</td>\n      <td>1</td>\n      <td>[]</td>\n      <td>1:1</td>\n      <td>1:1</td>\n      <td>15:19</td>\n      <td>GT:AG</td>\n      <td>21</td>\n    </tr>\n    <tr>\n      <th>4</th>\n      <td>chr1</td>\n      <td>13052</td>\n      <td>13220</td>\n      <td>+</td>\n      <td>1</td>\n      <td>[]</td>\n      <td>22:24</td>\n      <td>17:18</td>\n      <td>433:484</td>\n      <td>GC:AG</td>\n      <td>526</td>\n    </tr>\n    <tr>\n      <th>...</th>\n      <td>...</td>\n      <td>...</td>\n      <td>...</td>\n      <td>...</td>\n      <td>...</td>\n      <td>...</td>\n      <td>...</td>\n      <td>...</td>\n      <td>...</td>\n      <td>...</td>\n      <td>...</td>\n    </tr>\n    <tr>\n      <th>517420</th>\n      <td>chrX</td>\n      <td>151403679</td>\n      <td>151404937</td>\n      <td>+</td>\n      <td>0</td>\n      <td>['Dust', 'Tandem repeats', 'Type I Transposons...</td>\n      <td>NaN</td>\n      <td>NaN</td>\n      <td>NaN</td>\n      <td>NaN</td>\n      <td>-1</td>\n    </tr>\n    <tr>\n      <th>517421</th>\n      <td>chrX</td>\n      <td>151409210</td>\n      <td>151456968</td>\n      <td>+</td>\n      <td>0</td>\n      <td>['Dust', 'Low complexity regions', 'LTRs', 'Si...</td>\n      <td>NaN</td>\n      <td>NaN</td>\n      <td>NaN</td>\n      <td>NaN</td>\n      <td>-1</td>\n    </tr>\n    <tr>\n      <th>517422</th>\n      <td>chrX</td>\n      <td>153906577</td>\n      <td>153906694</td>\n      <td>-</td>\n      <td>0</td>\n      <td>[]</td>\n      <td>NaN</td>\n      <td>NaN</td>\n      <td>NaN</td>\n      <td>NaN</td>\n      <td>-1</td>\n    </tr>\n    <tr>\n      <th>517423</th>\n      <td>chrX</td>\n      <td>153906409</td>\n      <td>153906520</td>\n      <td>-</td>\n      <td>0</td>\n      <td>[]</td>\n      <td>NaN</td>\n      <td>NaN</td>\n      <td>NaN</td>\n      <td>NaN</td>\n      <td>-1</td>\n    </tr>\n    <tr>\n      <th>517424</th>\n      <td>chrY</td>\n      <td>20579691</td>\n      <td>20582591</td>\n      <td>+</td>\n      <td>0</td>\n      <td>['Dust', 'Simple repeats', 'Tandem repeats', '...</td>\n      <td>222:238</td>\n      <td>53:60</td>\n      <td>961:1642</td>\n      <td>GT:AG</td>\n      <td>1940</td>\n    </tr>\n  </tbody>\n</table>\n<p>517425 rows × 11 columns</p>\n</div>"
     },
     "execution_count": 7,
     "metadata": {},
     "output_type": "execute_result"
    }
   ],
   "source": [
    "df = df.drop(columns=\"RC3\")\n",
    "df"
   ],
   "metadata": {
    "collapsed": false,
    "ExecuteTime": {
     "end_time": "2023-07-02T07:45:34.747312Z",
     "start_time": "2023-07-02T07:45:34.670717Z"
    }
   }
  },
  {
   "cell_type": "markdown",
   "source": [
    "# Populate the repeat_features into one-hots"
   ],
   "metadata": {
    "collapsed": false
   }
  },
  {
   "cell_type": "code",
   "execution_count": 8,
   "outputs": [],
   "source": [
    "import ast\n",
    "df['lst_repeat_features'] = df['repeat_features'].apply(lambda x: ast.literal_eval(x) if len(x) > 2 else [])"
   ],
   "metadata": {
    "collapsed": false,
    "ExecuteTime": {
     "end_time": "2023-07-02T07:58:43.301009Z",
     "start_time": "2023-07-02T07:58:37.261338Z"
    }
   }
  },
  {
   "cell_type": "code",
   "execution_count": 9,
   "outputs": [
    {
     "data": {
      "text/plain": "{'Centromere',\n 'Dust',\n 'LTRs',\n 'Low complexity regions',\n 'RNA repeats',\n 'Satellite repeats',\n 'Simple repeats',\n 'Tandem repeats',\n 'Type I Transposons/LINE',\n 'Type I Transposons/SINE',\n 'Type II Transposons',\n 'Unknown'}"
     },
     "execution_count": 9,
     "metadata": {},
     "output_type": "execute_result"
    }
   ],
   "source": [
    "unique_repeat_features_values = set()\n",
    "for idx, row in df.iterrows():\n",
    "    unique_repeat_features_values.update(row['lst_repeat_features'])\n",
    "\n",
    "unique_repeat_features_values"
   ],
   "metadata": {
    "collapsed": false,
    "ExecuteTime": {
     "end_time": "2023-07-02T08:01:59.876653Z",
     "start_time": "2023-07-02T08:01:41.295812Z"
    }
   }
  },
  {
   "cell_type": "code",
   "execution_count": 10,
   "outputs": [
    {
     "data": {
      "text/plain": "         chr      start        end strand  class  \\\n0       chr1      12227      12612      +      1   \n1       chr1      12721      13220      +      1   \n2       chr1      12057      12178      +      1   \n3       chr1      12697      12974      +      1   \n4       chr1      13052      13220      +      1   \n...      ...        ...        ...    ...    ...   \n517420  chrX  151403679  151404937      +      0   \n517421  chrX  151409210  151456968      +      0   \n517422  chrX  153906577  153906694      -      0   \n517423  chrX  153906409  153906520      -      0   \n517424  chrY   20579691   20582591      +      0   \n\n                                          repeat_features     GTExv2  \\\n0                                                      []  1122:3199   \n1                                                      []  1791:3198   \n2                                                      []        NaN   \n3                                                      []        1:1   \n4                                                      []      22:24   \n...                                                   ...        ...   \n517420  ['Dust', 'Tandem repeats', 'Type I Transposons...        NaN   \n517421  ['Dust', 'Low complexity regions', 'LTRs', 'Si...        NaN   \n517422                                                 []        NaN   \n517423                                                 []        NaN   \n517424  ['Dust', 'Simple repeats', 'Tandem repeats', '...    222:238   \n\n          TCGAv2       SRAv3h RC3-Splice_site  ...  \\\n0       583:1460   9374:54492           GT:AG  ...   \n1       783:1104  14048:56719           GT:AG  ...   \n2            NaN          NaN             NaN  ...   \n3            1:1        15:19           GT:AG  ...   \n4          17:18      433:484           GC:AG  ...   \n...          ...          ...             ...  ...   \n517420       NaN          NaN             NaN  ...   \n517421       NaN          NaN             NaN  ...   \n517422       NaN          NaN             NaN  ...   \n517423       NaN          NaN             NaN  ...   \n517424     53:60     961:1642           GT:AG  ...   \n\n       repeat_features:Type II Transposons repeat_features:Unknown  \\\n0                                        0                       0   \n1                                        0                       0   \n2                                        0                       0   \n3                                        0                       0   \n4                                        0                       0   \n...                                    ...                     ...   \n517420                                   0                       0   \n517421                                   1                       1   \n517422                                   0                       0   \n517423                                   0                       0   \n517424                                   0                       0   \n\n        repeat_features:Tandem repeats  repeat_features:Satellite repeats  \\\n0                                    0                                  0   \n1                                    0                                  0   \n2                                    0                                  0   \n3                                    0                                  0   \n4                                    0                                  0   \n...                                ...                                ...   \n517420                               1                                  0   \n517421                               1                                  0   \n517422                               0                                  0   \n517423                               0                                  0   \n517424                               1                                  0   \n\n        repeat_features:Type I Transposons/LINE  repeat_features:RNA repeats  \\\n0                                             0                            0   \n1                                             0                            0   \n2                                             0                            0   \n3                                             0                            0   \n4                                             0                            0   \n...                                         ...                          ...   \n517420                                        0                            0   \n517421                                        1                            0   \n517422                                        0                            0   \n517423                                        0                            0   \n517424                                        1                            0   \n\n        repeat_features:Low complexity regions  repeat_features:Centromere  \\\n0                                            0                           0   \n1                                            0                           0   \n2                                            0                           0   \n3                                            0                           0   \n4                                            0                           0   \n...                                        ...                         ...   \n517420                                       0                           0   \n517421                                       1                           0   \n517422                                       0                           0   \n517423                                       0                           0   \n517424                                       0                           0   \n\n        repeat_features:Dust  repeat_features:Type I Transposons/SINE  \n0                          0                                        0  \n1                          0                                        0  \n2                          0                                        0  \n3                          0                                        0  \n4                          0                                        0  \n...                      ...                                      ...  \n517420                     1                                        1  \n517421                     1                                        1  \n517422                     0                                        0  \n517423                     0                                        0  \n517424                     1                                        1  \n\n[517425 rows x 24 columns]",
      "text/html": "<div>\n<style scoped>\n    .dataframe tbody tr th:only-of-type {\n        vertical-align: middle;\n    }\n\n    .dataframe tbody tr th {\n        vertical-align: top;\n    }\n\n    .dataframe thead th {\n        text-align: right;\n    }\n</style>\n<table border=\"1\" class=\"dataframe\">\n  <thead>\n    <tr style=\"text-align: right;\">\n      <th></th>\n      <th>chr</th>\n      <th>start</th>\n      <th>end</th>\n      <th>strand</th>\n      <th>class</th>\n      <th>repeat_features</th>\n      <th>GTExv2</th>\n      <th>TCGAv2</th>\n      <th>SRAv3h</th>\n      <th>RC3-Splice_site</th>\n      <th>...</th>\n      <th>repeat_features:Type II Transposons</th>\n      <th>repeat_features:Unknown</th>\n      <th>repeat_features:Tandem repeats</th>\n      <th>repeat_features:Satellite repeats</th>\n      <th>repeat_features:Type I Transposons/LINE</th>\n      <th>repeat_features:RNA repeats</th>\n      <th>repeat_features:Low complexity regions</th>\n      <th>repeat_features:Centromere</th>\n      <th>repeat_features:Dust</th>\n      <th>repeat_features:Type I Transposons/SINE</th>\n    </tr>\n  </thead>\n  <tbody>\n    <tr>\n      <th>0</th>\n      <td>chr1</td>\n      <td>12227</td>\n      <td>12612</td>\n      <td>+</td>\n      <td>1</td>\n      <td>[]</td>\n      <td>1122:3199</td>\n      <td>583:1460</td>\n      <td>9374:54492</td>\n      <td>GT:AG</td>\n      <td>...</td>\n      <td>0</td>\n      <td>0</td>\n      <td>0</td>\n      <td>0</td>\n      <td>0</td>\n      <td>0</td>\n      <td>0</td>\n      <td>0</td>\n      <td>0</td>\n      <td>0</td>\n    </tr>\n    <tr>\n      <th>1</th>\n      <td>chr1</td>\n      <td>12721</td>\n      <td>13220</td>\n      <td>+</td>\n      <td>1</td>\n      <td>[]</td>\n      <td>1791:3198</td>\n      <td>783:1104</td>\n      <td>14048:56719</td>\n      <td>GT:AG</td>\n      <td>...</td>\n      <td>0</td>\n      <td>0</td>\n      <td>0</td>\n      <td>0</td>\n      <td>0</td>\n      <td>0</td>\n      <td>0</td>\n      <td>0</td>\n      <td>0</td>\n      <td>0</td>\n    </tr>\n    <tr>\n      <th>2</th>\n      <td>chr1</td>\n      <td>12057</td>\n      <td>12178</td>\n      <td>+</td>\n      <td>1</td>\n      <td>[]</td>\n      <td>NaN</td>\n      <td>NaN</td>\n      <td>NaN</td>\n      <td>NaN</td>\n      <td>...</td>\n      <td>0</td>\n      <td>0</td>\n      <td>0</td>\n      <td>0</td>\n      <td>0</td>\n      <td>0</td>\n      <td>0</td>\n      <td>0</td>\n      <td>0</td>\n      <td>0</td>\n    </tr>\n    <tr>\n      <th>3</th>\n      <td>chr1</td>\n      <td>12697</td>\n      <td>12974</td>\n      <td>+</td>\n      <td>1</td>\n      <td>[]</td>\n      <td>1:1</td>\n      <td>1:1</td>\n      <td>15:19</td>\n      <td>GT:AG</td>\n      <td>...</td>\n      <td>0</td>\n      <td>0</td>\n      <td>0</td>\n      <td>0</td>\n      <td>0</td>\n      <td>0</td>\n      <td>0</td>\n      <td>0</td>\n      <td>0</td>\n      <td>0</td>\n    </tr>\n    <tr>\n      <th>4</th>\n      <td>chr1</td>\n      <td>13052</td>\n      <td>13220</td>\n      <td>+</td>\n      <td>1</td>\n      <td>[]</td>\n      <td>22:24</td>\n      <td>17:18</td>\n      <td>433:484</td>\n      <td>GC:AG</td>\n      <td>...</td>\n      <td>0</td>\n      <td>0</td>\n      <td>0</td>\n      <td>0</td>\n      <td>0</td>\n      <td>0</td>\n      <td>0</td>\n      <td>0</td>\n      <td>0</td>\n      <td>0</td>\n    </tr>\n    <tr>\n      <th>...</th>\n      <td>...</td>\n      <td>...</td>\n      <td>...</td>\n      <td>...</td>\n      <td>...</td>\n      <td>...</td>\n      <td>...</td>\n      <td>...</td>\n      <td>...</td>\n      <td>...</td>\n      <td>...</td>\n      <td>...</td>\n      <td>...</td>\n      <td>...</td>\n      <td>...</td>\n      <td>...</td>\n      <td>...</td>\n      <td>...</td>\n      <td>...</td>\n      <td>...</td>\n      <td>...</td>\n    </tr>\n    <tr>\n      <th>517420</th>\n      <td>chrX</td>\n      <td>151403679</td>\n      <td>151404937</td>\n      <td>+</td>\n      <td>0</td>\n      <td>['Dust', 'Tandem repeats', 'Type I Transposons...</td>\n      <td>NaN</td>\n      <td>NaN</td>\n      <td>NaN</td>\n      <td>NaN</td>\n      <td>...</td>\n      <td>0</td>\n      <td>0</td>\n      <td>1</td>\n      <td>0</td>\n      <td>0</td>\n      <td>0</td>\n      <td>0</td>\n      <td>0</td>\n      <td>1</td>\n      <td>1</td>\n    </tr>\n    <tr>\n      <th>517421</th>\n      <td>chrX</td>\n      <td>151409210</td>\n      <td>151456968</td>\n      <td>+</td>\n      <td>0</td>\n      <td>['Dust', 'Low complexity regions', 'LTRs', 'Si...</td>\n      <td>NaN</td>\n      <td>NaN</td>\n      <td>NaN</td>\n      <td>NaN</td>\n      <td>...</td>\n      <td>1</td>\n      <td>1</td>\n      <td>1</td>\n      <td>0</td>\n      <td>1</td>\n      <td>0</td>\n      <td>1</td>\n      <td>0</td>\n      <td>1</td>\n      <td>1</td>\n    </tr>\n    <tr>\n      <th>517422</th>\n      <td>chrX</td>\n      <td>153906577</td>\n      <td>153906694</td>\n      <td>-</td>\n      <td>0</td>\n      <td>[]</td>\n      <td>NaN</td>\n      <td>NaN</td>\n      <td>NaN</td>\n      <td>NaN</td>\n      <td>...</td>\n      <td>0</td>\n      <td>0</td>\n      <td>0</td>\n      <td>0</td>\n      <td>0</td>\n      <td>0</td>\n      <td>0</td>\n      <td>0</td>\n      <td>0</td>\n      <td>0</td>\n    </tr>\n    <tr>\n      <th>517423</th>\n      <td>chrX</td>\n      <td>153906409</td>\n      <td>153906520</td>\n      <td>-</td>\n      <td>0</td>\n      <td>[]</td>\n      <td>NaN</td>\n      <td>NaN</td>\n      <td>NaN</td>\n      <td>NaN</td>\n      <td>...</td>\n      <td>0</td>\n      <td>0</td>\n      <td>0</td>\n      <td>0</td>\n      <td>0</td>\n      <td>0</td>\n      <td>0</td>\n      <td>0</td>\n      <td>0</td>\n      <td>0</td>\n    </tr>\n    <tr>\n      <th>517424</th>\n      <td>chrY</td>\n      <td>20579691</td>\n      <td>20582591</td>\n      <td>+</td>\n      <td>0</td>\n      <td>['Dust', 'Simple repeats', 'Tandem repeats', '...</td>\n      <td>222:238</td>\n      <td>53:60</td>\n      <td>961:1642</td>\n      <td>GT:AG</td>\n      <td>...</td>\n      <td>0</td>\n      <td>0</td>\n      <td>1</td>\n      <td>0</td>\n      <td>1</td>\n      <td>0</td>\n      <td>0</td>\n      <td>0</td>\n      <td>1</td>\n      <td>1</td>\n    </tr>\n  </tbody>\n</table>\n<p>517425 rows × 24 columns</p>\n</div>"
     },
     "execution_count": 10,
     "metadata": {},
     "output_type": "execute_result"
    }
   ],
   "source": [
    "for repeat_feature in unique_repeat_features_values:\n",
    "    df[\"repeat_features:\"+repeat_feature] = df[\"repeat_features\"].str.contains(\"'\"+repeat_feature+\"'\").astype(int)\n",
    "\n",
    "df"
   ],
   "metadata": {
    "collapsed": false,
    "ExecuteTime": {
     "end_time": "2023-07-02T08:03:55.749700Z",
     "start_time": "2023-07-02T08:03:53.340585Z"
    }
   }
  },
  {
   "cell_type": "markdown",
   "source": [
    "# Now we drop all redundant columns"
   ],
   "metadata": {
    "collapsed": false
   }
  },
  {
   "cell_type": "code",
   "execution_count": 11,
   "outputs": [
    {
     "data": {
      "text/plain": "         chr      start        end strand  class     GTExv2    TCGAv2  \\\n0       chr1      12227      12612      +      1  1122:3199  583:1460   \n1       chr1      12721      13220      +      1  1791:3198  783:1104   \n2       chr1      12057      12178      +      1        NaN       NaN   \n3       chr1      12697      12974      +      1        1:1       1:1   \n4       chr1      13052      13220      +      1      22:24     17:18   \n...      ...        ...        ...    ...    ...        ...       ...   \n517420  chrX  151403679  151404937      +      0        NaN       NaN   \n517421  chrX  151409210  151456968      +      0        NaN       NaN   \n517422  chrX  153906577  153906694      -      0        NaN       NaN   \n517423  chrX  153906409  153906520      -      0        NaN       NaN   \n517424  chrY   20579691   20582591      +      0    222:238     53:60   \n\n             SRAv3h RC3-Splice_site RC3-Score  ...  \\\n0        9374:54492           GT:AG     59151  ...   \n1       14048:56719           GT:AG     61021  ...   \n2               NaN             NaN        -1  ...   \n3             15:19           GT:AG        21  ...   \n4           433:484           GC:AG       526  ...   \n...             ...             ...       ...  ...   \n517420          NaN             NaN        -1  ...   \n517421          NaN             NaN        -1  ...   \n517422          NaN             NaN        -1  ...   \n517423          NaN             NaN        -1  ...   \n517424     961:1642           GT:AG      1940  ...   \n\n        repeat_features:Type II Transposons  repeat_features:Unknown  \\\n0                                         0                        0   \n1                                         0                        0   \n2                                         0                        0   \n3                                         0                        0   \n4                                         0                        0   \n...                                     ...                      ...   \n517420                                    0                        0   \n517421                                    1                        1   \n517422                                    0                        0   \n517423                                    0                        0   \n517424                                    0                        0   \n\n        repeat_features:Tandem repeats  repeat_features:Satellite repeats  \\\n0                                    0                                  0   \n1                                    0                                  0   \n2                                    0                                  0   \n3                                    0                                  0   \n4                                    0                                  0   \n...                                ...                                ...   \n517420                               1                                  0   \n517421                               1                                  0   \n517422                               0                                  0   \n517423                               0                                  0   \n517424                               1                                  0   \n\n        repeat_features:Type I Transposons/LINE  repeat_features:RNA repeats  \\\n0                                             0                            0   \n1                                             0                            0   \n2                                             0                            0   \n3                                             0                            0   \n4                                             0                            0   \n...                                         ...                          ...   \n517420                                        0                            0   \n517421                                        1                            0   \n517422                                        0                            0   \n517423                                        0                            0   \n517424                                        1                            0   \n\n        repeat_features:Low complexity regions  repeat_features:Centromere  \\\n0                                            0                           0   \n1                                            0                           0   \n2                                            0                           0   \n3                                            0                           0   \n4                                            0                           0   \n...                                        ...                         ...   \n517420                                       0                           0   \n517421                                       1                           0   \n517422                                       0                           0   \n517423                                       0                           0   \n517424                                       0                           0   \n\n        repeat_features:Dust  repeat_features:Type I Transposons/SINE  \n0                          0                                        0  \n1                          0                                        0  \n2                          0                                        0  \n3                          0                                        0  \n4                          0                                        0  \n...                      ...                                      ...  \n517420                     1                                        1  \n517421                     1                                        1  \n517422                     0                                        0  \n517423                     0                                        0  \n517424                     1                                        1  \n\n[517425 rows x 22 columns]",
      "text/html": "<div>\n<style scoped>\n    .dataframe tbody tr th:only-of-type {\n        vertical-align: middle;\n    }\n\n    .dataframe tbody tr th {\n        vertical-align: top;\n    }\n\n    .dataframe thead th {\n        text-align: right;\n    }\n</style>\n<table border=\"1\" class=\"dataframe\">\n  <thead>\n    <tr style=\"text-align: right;\">\n      <th></th>\n      <th>chr</th>\n      <th>start</th>\n      <th>end</th>\n      <th>strand</th>\n      <th>class</th>\n      <th>GTExv2</th>\n      <th>TCGAv2</th>\n      <th>SRAv3h</th>\n      <th>RC3-Splice_site</th>\n      <th>RC3-Score</th>\n      <th>...</th>\n      <th>repeat_features:Type II Transposons</th>\n      <th>repeat_features:Unknown</th>\n      <th>repeat_features:Tandem repeats</th>\n      <th>repeat_features:Satellite repeats</th>\n      <th>repeat_features:Type I Transposons/LINE</th>\n      <th>repeat_features:RNA repeats</th>\n      <th>repeat_features:Low complexity regions</th>\n      <th>repeat_features:Centromere</th>\n      <th>repeat_features:Dust</th>\n      <th>repeat_features:Type I Transposons/SINE</th>\n    </tr>\n  </thead>\n  <tbody>\n    <tr>\n      <th>0</th>\n      <td>chr1</td>\n      <td>12227</td>\n      <td>12612</td>\n      <td>+</td>\n      <td>1</td>\n      <td>1122:3199</td>\n      <td>583:1460</td>\n      <td>9374:54492</td>\n      <td>GT:AG</td>\n      <td>59151</td>\n      <td>...</td>\n      <td>0</td>\n      <td>0</td>\n      <td>0</td>\n      <td>0</td>\n      <td>0</td>\n      <td>0</td>\n      <td>0</td>\n      <td>0</td>\n      <td>0</td>\n      <td>0</td>\n    </tr>\n    <tr>\n      <th>1</th>\n      <td>chr1</td>\n      <td>12721</td>\n      <td>13220</td>\n      <td>+</td>\n      <td>1</td>\n      <td>1791:3198</td>\n      <td>783:1104</td>\n      <td>14048:56719</td>\n      <td>GT:AG</td>\n      <td>61021</td>\n      <td>...</td>\n      <td>0</td>\n      <td>0</td>\n      <td>0</td>\n      <td>0</td>\n      <td>0</td>\n      <td>0</td>\n      <td>0</td>\n      <td>0</td>\n      <td>0</td>\n      <td>0</td>\n    </tr>\n    <tr>\n      <th>2</th>\n      <td>chr1</td>\n      <td>12057</td>\n      <td>12178</td>\n      <td>+</td>\n      <td>1</td>\n      <td>NaN</td>\n      <td>NaN</td>\n      <td>NaN</td>\n      <td>NaN</td>\n      <td>-1</td>\n      <td>...</td>\n      <td>0</td>\n      <td>0</td>\n      <td>0</td>\n      <td>0</td>\n      <td>0</td>\n      <td>0</td>\n      <td>0</td>\n      <td>0</td>\n      <td>0</td>\n      <td>0</td>\n    </tr>\n    <tr>\n      <th>3</th>\n      <td>chr1</td>\n      <td>12697</td>\n      <td>12974</td>\n      <td>+</td>\n      <td>1</td>\n      <td>1:1</td>\n      <td>1:1</td>\n      <td>15:19</td>\n      <td>GT:AG</td>\n      <td>21</td>\n      <td>...</td>\n      <td>0</td>\n      <td>0</td>\n      <td>0</td>\n      <td>0</td>\n      <td>0</td>\n      <td>0</td>\n      <td>0</td>\n      <td>0</td>\n      <td>0</td>\n      <td>0</td>\n    </tr>\n    <tr>\n      <th>4</th>\n      <td>chr1</td>\n      <td>13052</td>\n      <td>13220</td>\n      <td>+</td>\n      <td>1</td>\n      <td>22:24</td>\n      <td>17:18</td>\n      <td>433:484</td>\n      <td>GC:AG</td>\n      <td>526</td>\n      <td>...</td>\n      <td>0</td>\n      <td>0</td>\n      <td>0</td>\n      <td>0</td>\n      <td>0</td>\n      <td>0</td>\n      <td>0</td>\n      <td>0</td>\n      <td>0</td>\n      <td>0</td>\n    </tr>\n    <tr>\n      <th>...</th>\n      <td>...</td>\n      <td>...</td>\n      <td>...</td>\n      <td>...</td>\n      <td>...</td>\n      <td>...</td>\n      <td>...</td>\n      <td>...</td>\n      <td>...</td>\n      <td>...</td>\n      <td>...</td>\n      <td>...</td>\n      <td>...</td>\n      <td>...</td>\n      <td>...</td>\n      <td>...</td>\n      <td>...</td>\n      <td>...</td>\n      <td>...</td>\n      <td>...</td>\n      <td>...</td>\n    </tr>\n    <tr>\n      <th>517420</th>\n      <td>chrX</td>\n      <td>151403679</td>\n      <td>151404937</td>\n      <td>+</td>\n      <td>0</td>\n      <td>NaN</td>\n      <td>NaN</td>\n      <td>NaN</td>\n      <td>NaN</td>\n      <td>-1</td>\n      <td>...</td>\n      <td>0</td>\n      <td>0</td>\n      <td>1</td>\n      <td>0</td>\n      <td>0</td>\n      <td>0</td>\n      <td>0</td>\n      <td>0</td>\n      <td>1</td>\n      <td>1</td>\n    </tr>\n    <tr>\n      <th>517421</th>\n      <td>chrX</td>\n      <td>151409210</td>\n      <td>151456968</td>\n      <td>+</td>\n      <td>0</td>\n      <td>NaN</td>\n      <td>NaN</td>\n      <td>NaN</td>\n      <td>NaN</td>\n      <td>-1</td>\n      <td>...</td>\n      <td>1</td>\n      <td>1</td>\n      <td>1</td>\n      <td>0</td>\n      <td>1</td>\n      <td>0</td>\n      <td>1</td>\n      <td>0</td>\n      <td>1</td>\n      <td>1</td>\n    </tr>\n    <tr>\n      <th>517422</th>\n      <td>chrX</td>\n      <td>153906577</td>\n      <td>153906694</td>\n      <td>-</td>\n      <td>0</td>\n      <td>NaN</td>\n      <td>NaN</td>\n      <td>NaN</td>\n      <td>NaN</td>\n      <td>-1</td>\n      <td>...</td>\n      <td>0</td>\n      <td>0</td>\n      <td>0</td>\n      <td>0</td>\n      <td>0</td>\n      <td>0</td>\n      <td>0</td>\n      <td>0</td>\n      <td>0</td>\n      <td>0</td>\n    </tr>\n    <tr>\n      <th>517423</th>\n      <td>chrX</td>\n      <td>153906409</td>\n      <td>153906520</td>\n      <td>-</td>\n      <td>0</td>\n      <td>NaN</td>\n      <td>NaN</td>\n      <td>NaN</td>\n      <td>NaN</td>\n      <td>-1</td>\n      <td>...</td>\n      <td>0</td>\n      <td>0</td>\n      <td>0</td>\n      <td>0</td>\n      <td>0</td>\n      <td>0</td>\n      <td>0</td>\n      <td>0</td>\n      <td>0</td>\n      <td>0</td>\n    </tr>\n    <tr>\n      <th>517424</th>\n      <td>chrY</td>\n      <td>20579691</td>\n      <td>20582591</td>\n      <td>+</td>\n      <td>0</td>\n      <td>222:238</td>\n      <td>53:60</td>\n      <td>961:1642</td>\n      <td>GT:AG</td>\n      <td>1940</td>\n      <td>...</td>\n      <td>0</td>\n      <td>0</td>\n      <td>1</td>\n      <td>0</td>\n      <td>1</td>\n      <td>0</td>\n      <td>0</td>\n      <td>0</td>\n      <td>1</td>\n      <td>1</td>\n    </tr>\n  </tbody>\n</table>\n<p>517425 rows × 22 columns</p>\n</div>"
     },
     "execution_count": 11,
     "metadata": {},
     "output_type": "execute_result"
    }
   ],
   "source": [
    "df = df.drop(columns=[\"repeat_features\", \"lst_repeat_features\"])\n",
    "df"
   ],
   "metadata": {
    "collapsed": false,
    "ExecuteTime": {
     "end_time": "2023-07-02T08:06:24.687934Z",
     "start_time": "2023-07-02T08:06:24.231368Z"
    }
   }
  },
  {
   "cell_type": "code",
   "execution_count": 12,
   "outputs": [
    {
     "data": {
      "text/plain": "         chr      start        end strand  class        GTExv2        TCGAv2  \\\n517022  chr1     732207     739802      -      0  18978:968117  10476:171758   \n517023  chr1    6634784    6634990      -      0           1:1         41:47   \n517024  chr1    9036720    9088663      +      0           NaN           NaN   \n517025  chr1    9088686    9100902      +      0           NaN           NaN   \n517026  chr1   11277018   11277484      -      0           NaN           NaN   \n...      ...        ...        ...    ...    ...           ...           ...   \n517420  chrX  151403679  151404937      +      0           NaN           NaN   \n517421  chrX  151409210  151456968      +      0           NaN           NaN   \n517422  chrX  153906577  153906694      -      0           NaN           NaN   \n517423  chrX  153906409  153906520      -      0           NaN           NaN   \n517424  chrY   20579691   20582591      +      0       222:238         53:60   \n\n                SRAv3h RC3-Splice_site RC3-Score  ...  \\\n517022  144636:3092431           GT:AG   4232306  ...   \n517023           23:85           GT:AG       133  ...   \n517024             NaN             NaN        -1  ...   \n517025             NaN             NaN        -1  ...   \n517026             NaN             NaN        -1  ...   \n...                ...             ...       ...  ...   \n517420             NaN             NaN        -1  ...   \n517421             NaN             NaN        -1  ...   \n517422             NaN             NaN        -1  ...   \n517423             NaN             NaN        -1  ...   \n517424        961:1642           GT:AG      1940  ...   \n\n        repeat_features:Type II Transposons  repeat_features:Unknown  \\\n517022                                    1                        0   \n517023                                    0                        0   \n517024                                    1                        0   \n517025                                    1                        0   \n517026                                    0                        0   \n...                                     ...                      ...   \n517420                                    0                        0   \n517421                                    1                        1   \n517422                                    0                        0   \n517423                                    0                        0   \n517424                                    0                        0   \n\n        repeat_features:Tandem repeats  repeat_features:Satellite repeats  \\\n517022                               0                                  0   \n517023                               0                                  0   \n517024                               1                                  0   \n517025                               1                                  0   \n517026                               1                                  0   \n...                                ...                                ...   \n517420                               1                                  0   \n517421                               1                                  0   \n517422                               0                                  0   \n517423                               0                                  0   \n517424                               1                                  0   \n\n        repeat_features:Type I Transposons/LINE  repeat_features:RNA repeats  \\\n517022                                        1                            0   \n517023                                        0                            0   \n517024                                        1                            0   \n517025                                        0                            0   \n517026                                        0                            0   \n...                                         ...                          ...   \n517420                                        0                            0   \n517421                                        1                            0   \n517422                                        0                            0   \n517423                                        0                            0   \n517424                                        1                            0   \n\n        repeat_features:Low complexity regions  repeat_features:Centromere  \\\n517022                                       0                           0   \n517023                                       0                           0   \n517024                                       1                           0   \n517025                                       1                           0   \n517026                                       0                           0   \n...                                        ...                         ...   \n517420                                       0                           0   \n517421                                       1                           0   \n517422                                       0                           0   \n517423                                       0                           0   \n517424                                       0                           0   \n\n        repeat_features:Dust  repeat_features:Type I Transposons/SINE  \n517022                     1                                        1  \n517023                     0                                        0  \n517024                     1                                        1  \n517025                     1                                        1  \n517026                     1                                        1  \n...                      ...                                      ...  \n517420                     1                                        1  \n517421                     1                                        1  \n517422                     0                                        0  \n517423                     0                                        0  \n517424                     1                                        1  \n\n[403 rows x 22 columns]",
      "text/html": "<div>\n<style scoped>\n    .dataframe tbody tr th:only-of-type {\n        vertical-align: middle;\n    }\n\n    .dataframe tbody tr th {\n        vertical-align: top;\n    }\n\n    .dataframe thead th {\n        text-align: right;\n    }\n</style>\n<table border=\"1\" class=\"dataframe\">\n  <thead>\n    <tr style=\"text-align: right;\">\n      <th></th>\n      <th>chr</th>\n      <th>start</th>\n      <th>end</th>\n      <th>strand</th>\n      <th>class</th>\n      <th>GTExv2</th>\n      <th>TCGAv2</th>\n      <th>SRAv3h</th>\n      <th>RC3-Splice_site</th>\n      <th>RC3-Score</th>\n      <th>...</th>\n      <th>repeat_features:Type II Transposons</th>\n      <th>repeat_features:Unknown</th>\n      <th>repeat_features:Tandem repeats</th>\n      <th>repeat_features:Satellite repeats</th>\n      <th>repeat_features:Type I Transposons/LINE</th>\n      <th>repeat_features:RNA repeats</th>\n      <th>repeat_features:Low complexity regions</th>\n      <th>repeat_features:Centromere</th>\n      <th>repeat_features:Dust</th>\n      <th>repeat_features:Type I Transposons/SINE</th>\n    </tr>\n  </thead>\n  <tbody>\n    <tr>\n      <th>517022</th>\n      <td>chr1</td>\n      <td>732207</td>\n      <td>739802</td>\n      <td>-</td>\n      <td>0</td>\n      <td>18978:968117</td>\n      <td>10476:171758</td>\n      <td>144636:3092431</td>\n      <td>GT:AG</td>\n      <td>4232306</td>\n      <td>...</td>\n      <td>1</td>\n      <td>0</td>\n      <td>0</td>\n      <td>0</td>\n      <td>1</td>\n      <td>0</td>\n      <td>0</td>\n      <td>0</td>\n      <td>1</td>\n      <td>1</td>\n    </tr>\n    <tr>\n      <th>517023</th>\n      <td>chr1</td>\n      <td>6634784</td>\n      <td>6634990</td>\n      <td>-</td>\n      <td>0</td>\n      <td>1:1</td>\n      <td>41:47</td>\n      <td>23:85</td>\n      <td>GT:AG</td>\n      <td>133</td>\n      <td>...</td>\n      <td>0</td>\n      <td>0</td>\n      <td>0</td>\n      <td>0</td>\n      <td>0</td>\n      <td>0</td>\n      <td>0</td>\n      <td>0</td>\n      <td>0</td>\n      <td>0</td>\n    </tr>\n    <tr>\n      <th>517024</th>\n      <td>chr1</td>\n      <td>9036720</td>\n      <td>9088663</td>\n      <td>+</td>\n      <td>0</td>\n      <td>NaN</td>\n      <td>NaN</td>\n      <td>NaN</td>\n      <td>NaN</td>\n      <td>-1</td>\n      <td>...</td>\n      <td>1</td>\n      <td>0</td>\n      <td>1</td>\n      <td>0</td>\n      <td>1</td>\n      <td>0</td>\n      <td>1</td>\n      <td>0</td>\n      <td>1</td>\n      <td>1</td>\n    </tr>\n    <tr>\n      <th>517025</th>\n      <td>chr1</td>\n      <td>9088686</td>\n      <td>9100902</td>\n      <td>+</td>\n      <td>0</td>\n      <td>NaN</td>\n      <td>NaN</td>\n      <td>NaN</td>\n      <td>NaN</td>\n      <td>-1</td>\n      <td>...</td>\n      <td>1</td>\n      <td>0</td>\n      <td>1</td>\n      <td>0</td>\n      <td>0</td>\n      <td>0</td>\n      <td>1</td>\n      <td>0</td>\n      <td>1</td>\n      <td>1</td>\n    </tr>\n    <tr>\n      <th>517026</th>\n      <td>chr1</td>\n      <td>11277018</td>\n      <td>11277484</td>\n      <td>-</td>\n      <td>0</td>\n      <td>NaN</td>\n      <td>NaN</td>\n      <td>NaN</td>\n      <td>NaN</td>\n      <td>-1</td>\n      <td>...</td>\n      <td>0</td>\n      <td>0</td>\n      <td>1</td>\n      <td>0</td>\n      <td>0</td>\n      <td>0</td>\n      <td>0</td>\n      <td>0</td>\n      <td>1</td>\n      <td>1</td>\n    </tr>\n    <tr>\n      <th>...</th>\n      <td>...</td>\n      <td>...</td>\n      <td>...</td>\n      <td>...</td>\n      <td>...</td>\n      <td>...</td>\n      <td>...</td>\n      <td>...</td>\n      <td>...</td>\n      <td>...</td>\n      <td>...</td>\n      <td>...</td>\n      <td>...</td>\n      <td>...</td>\n      <td>...</td>\n      <td>...</td>\n      <td>...</td>\n      <td>...</td>\n      <td>...</td>\n      <td>...</td>\n      <td>...</td>\n    </tr>\n    <tr>\n      <th>517420</th>\n      <td>chrX</td>\n      <td>151403679</td>\n      <td>151404937</td>\n      <td>+</td>\n      <td>0</td>\n      <td>NaN</td>\n      <td>NaN</td>\n      <td>NaN</td>\n      <td>NaN</td>\n      <td>-1</td>\n      <td>...</td>\n      <td>0</td>\n      <td>0</td>\n      <td>1</td>\n      <td>0</td>\n      <td>0</td>\n      <td>0</td>\n      <td>0</td>\n      <td>0</td>\n      <td>1</td>\n      <td>1</td>\n    </tr>\n    <tr>\n      <th>517421</th>\n      <td>chrX</td>\n      <td>151409210</td>\n      <td>151456968</td>\n      <td>+</td>\n      <td>0</td>\n      <td>NaN</td>\n      <td>NaN</td>\n      <td>NaN</td>\n      <td>NaN</td>\n      <td>-1</td>\n      <td>...</td>\n      <td>1</td>\n      <td>1</td>\n      <td>1</td>\n      <td>0</td>\n      <td>1</td>\n      <td>0</td>\n      <td>1</td>\n      <td>0</td>\n      <td>1</td>\n      <td>1</td>\n    </tr>\n    <tr>\n      <th>517422</th>\n      <td>chrX</td>\n      <td>153906577</td>\n      <td>153906694</td>\n      <td>-</td>\n      <td>0</td>\n      <td>NaN</td>\n      <td>NaN</td>\n      <td>NaN</td>\n      <td>NaN</td>\n      <td>-1</td>\n      <td>...</td>\n      <td>0</td>\n      <td>0</td>\n      <td>0</td>\n      <td>0</td>\n      <td>0</td>\n      <td>0</td>\n      <td>0</td>\n      <td>0</td>\n      <td>0</td>\n      <td>0</td>\n    </tr>\n    <tr>\n      <th>517423</th>\n      <td>chrX</td>\n      <td>153906409</td>\n      <td>153906520</td>\n      <td>-</td>\n      <td>0</td>\n      <td>NaN</td>\n      <td>NaN</td>\n      <td>NaN</td>\n      <td>NaN</td>\n      <td>-1</td>\n      <td>...</td>\n      <td>0</td>\n      <td>0</td>\n      <td>0</td>\n      <td>0</td>\n      <td>0</td>\n      <td>0</td>\n      <td>0</td>\n      <td>0</td>\n      <td>0</td>\n      <td>0</td>\n    </tr>\n    <tr>\n      <th>517424</th>\n      <td>chrY</td>\n      <td>20579691</td>\n      <td>20582591</td>\n      <td>+</td>\n      <td>0</td>\n      <td>222:238</td>\n      <td>53:60</td>\n      <td>961:1642</td>\n      <td>GT:AG</td>\n      <td>1940</td>\n      <td>...</td>\n      <td>0</td>\n      <td>0</td>\n      <td>1</td>\n      <td>0</td>\n      <td>1</td>\n      <td>0</td>\n      <td>0</td>\n      <td>0</td>\n      <td>1</td>\n      <td>1</td>\n    </tr>\n  </tbody>\n</table>\n<p>403 rows × 22 columns</p>\n</div>"
     },
     "execution_count": 12,
     "metadata": {},
     "output_type": "execute_result"
    }
   ],
   "source": [
    "df[df[\"class\"] == 0]"
   ],
   "metadata": {
    "collapsed": false,
    "ExecuteTime": {
     "end_time": "2023-07-02T08:12:49.551691Z",
     "start_time": "2023-07-02T08:12:49.436674Z"
    }
   }
  },
  {
   "cell_type": "code",
   "execution_count": 13,
   "outputs": [],
   "source": [
    "df.to_csv(\"data/4-featurized_introns_data.tsv\", sep=\"\\t\", index=False)"
   ],
   "metadata": {
    "collapsed": false
   }
  },
  {
   "cell_type": "code",
   "execution_count": null,
   "outputs": [],
   "source": [],
   "metadata": {
    "collapsed": false
   }
  }
 ],
 "metadata": {
  "kernelspec": {
   "display_name": "Python 3",
   "language": "python",
   "name": "python3"
  },
  "language_info": {
   "codemirror_mode": {
    "name": "ipython",
    "version": 2
   },
   "file_extension": ".py",
   "mimetype": "text/x-python",
   "name": "python",
   "nbconvert_exporter": "python",
   "pygments_lexer": "ipython2",
   "version": "2.7.6"
  }
 },
 "nbformat": 4,
 "nbformat_minor": 0
}
