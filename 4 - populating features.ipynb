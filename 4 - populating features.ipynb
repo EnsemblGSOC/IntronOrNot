{
 "cells": [
  {
   "cell_type": "code",
   "execution_count": 1,
   "metadata": {
    "collapsed": true
   },
   "outputs": [],
   "source": [
    "import pandas as pd"
   ]
  },
  {
   "cell_type": "code",
   "execution_count": 2,
   "outputs": [
    {
     "data": {
      "text/plain": "         chr      start        end strand  class  \\\n0       chr1      12227      12612      +      1   \n1       chr1      12721      13220      +      1   \n2       chr1      12057      12178      +      1   \n3       chr1      12697      12974      +      1   \n4       chr1      13052      13220      +      1   \n...      ...        ...        ...    ...    ...   \n517420  chrX  151403680  151404937      +      0   \n517421  chrX  151409211  151456968      +      0   \n517422  chrX  153906578  153906694      -      0   \n517423  chrX  153906410  153906520      -      0   \n517424  chrY   20579692   20582591      +      0   \n\n                                                      RC3  \\\n0       ['GTExv2=1122:3199;TCGAv2=583:1460;SRAv3h=9374...   \n1       ['GTExv2=1791:3198;TCGAv2=783:1104;SRAv3h=1404...   \n2                                              [None, -1]   \n3         ['GTExv2=1:1;TCGAv2=1:1;SRAv3h=15:19;GT:AG' 21]   \n4       ['GTExv2=22:24;TCGAv2=17:18;SRAv3h=433:484;GC:...   \n...                                                   ...   \n517420                                         [None, -1]   \n517421                                         [None, -1]   \n517422                                         [None, -1]   \n517423                                         [None, -1]   \n517424                                         [None, -1]   \n\n                                          repeat_features  \n0       ['[tabix] the index file either does not exist...  \n1       ['[tabix] the index file either does not exist...  \n2       ['[tabix] the index file either does not exist...  \n3       ['[tabix] the index file either does not exist...  \n4       ['[tabix] the index file either does not exist...  \n...                                                   ...  \n517420  ['[tabix] the index file either does not exist...  \n517421  ['[tabix] the index file either does not exist...  \n517422  ['[tabix] the index file either does not exist...  \n517423  ['[tabix] the index file either does not exist...  \n517424  ['[tabix] the index file either does not exist...  \n\n[517425 rows x 7 columns]",
      "text/html": "<div>\n<style scoped>\n    .dataframe tbody tr th:only-of-type {\n        vertical-align: middle;\n    }\n\n    .dataframe tbody tr th {\n        vertical-align: top;\n    }\n\n    .dataframe thead th {\n        text-align: right;\n    }\n</style>\n<table border=\"1\" class=\"dataframe\">\n  <thead>\n    <tr style=\"text-align: right;\">\n      <th></th>\n      <th>chr</th>\n      <th>start</th>\n      <th>end</th>\n      <th>strand</th>\n      <th>class</th>\n      <th>RC3</th>\n      <th>repeat_features</th>\n    </tr>\n  </thead>\n  <tbody>\n    <tr>\n      <th>0</th>\n      <td>chr1</td>\n      <td>12227</td>\n      <td>12612</td>\n      <td>+</td>\n      <td>1</td>\n      <td>['GTExv2=1122:3199;TCGAv2=583:1460;SRAv3h=9374...</td>\n      <td>['[tabix] the index file either does not exist...</td>\n    </tr>\n    <tr>\n      <th>1</th>\n      <td>chr1</td>\n      <td>12721</td>\n      <td>13220</td>\n      <td>+</td>\n      <td>1</td>\n      <td>['GTExv2=1791:3198;TCGAv2=783:1104;SRAv3h=1404...</td>\n      <td>['[tabix] the index file either does not exist...</td>\n    </tr>\n    <tr>\n      <th>2</th>\n      <td>chr1</td>\n      <td>12057</td>\n      <td>12178</td>\n      <td>+</td>\n      <td>1</td>\n      <td>[None, -1]</td>\n      <td>['[tabix] the index file either does not exist...</td>\n    </tr>\n    <tr>\n      <th>3</th>\n      <td>chr1</td>\n      <td>12697</td>\n      <td>12974</td>\n      <td>+</td>\n      <td>1</td>\n      <td>['GTExv2=1:1;TCGAv2=1:1;SRAv3h=15:19;GT:AG' 21]</td>\n      <td>['[tabix] the index file either does not exist...</td>\n    </tr>\n    <tr>\n      <th>4</th>\n      <td>chr1</td>\n      <td>13052</td>\n      <td>13220</td>\n      <td>+</td>\n      <td>1</td>\n      <td>['GTExv2=22:24;TCGAv2=17:18;SRAv3h=433:484;GC:...</td>\n      <td>['[tabix] the index file either does not exist...</td>\n    </tr>\n    <tr>\n      <th>...</th>\n      <td>...</td>\n      <td>...</td>\n      <td>...</td>\n      <td>...</td>\n      <td>...</td>\n      <td>...</td>\n      <td>...</td>\n    </tr>\n    <tr>\n      <th>517420</th>\n      <td>chrX</td>\n      <td>151403680</td>\n      <td>151404937</td>\n      <td>+</td>\n      <td>0</td>\n      <td>[None, -1]</td>\n      <td>['[tabix] the index file either does not exist...</td>\n    </tr>\n    <tr>\n      <th>517421</th>\n      <td>chrX</td>\n      <td>151409211</td>\n      <td>151456968</td>\n      <td>+</td>\n      <td>0</td>\n      <td>[None, -1]</td>\n      <td>['[tabix] the index file either does not exist...</td>\n    </tr>\n    <tr>\n      <th>517422</th>\n      <td>chrX</td>\n      <td>153906578</td>\n      <td>153906694</td>\n      <td>-</td>\n      <td>0</td>\n      <td>[None, -1]</td>\n      <td>['[tabix] the index file either does not exist...</td>\n    </tr>\n    <tr>\n      <th>517423</th>\n      <td>chrX</td>\n      <td>153906410</td>\n      <td>153906520</td>\n      <td>-</td>\n      <td>0</td>\n      <td>[None, -1]</td>\n      <td>['[tabix] the index file either does not exist...</td>\n    </tr>\n    <tr>\n      <th>517424</th>\n      <td>chrY</td>\n      <td>20579692</td>\n      <td>20582591</td>\n      <td>+</td>\n      <td>0</td>\n      <td>[None, -1]</td>\n      <td>['[tabix] the index file either does not exist...</td>\n    </tr>\n  </tbody>\n</table>\n<p>517425 rows × 7 columns</p>\n</div>"
     },
     "execution_count": 2,
     "metadata": {},
     "output_type": "execute_result"
    }
   ],
   "source": [
    "df = pd.read_csv(\"data/3-output.tsv\", sep=\"\\t\")\n",
    "# df.drop(columns=\"intron_id\", inplace=True)\n",
    "df"
   ],
   "metadata": {
    "collapsed": false
   }
  },
  {
   "cell_type": "code",
   "execution_count": null,
   "outputs": [],
   "source": [
    "df['RC3'] = df['RC3'].replace(\"[None, -1]\", \"[None -1]\")\n",
    "df['RC3'] = df['RC3'].str.replace('[\\[\\]]', '')\n",
    "df['RC3'] = df['RC3'].str.replace('\\n', '')\n",
    "df"
   ],
   "metadata": {
    "collapsed": false
   }
  },
  {
   "cell_type": "code",
   "execution_count": null,
   "outputs": [],
   "source": [
    "df[\"RC3\"].str.split(\" \").str.get(0).str.replace(\"'\", \"\").str.split(\";\")"
   ],
   "metadata": {
    "collapsed": false
   }
  },
  {
   "cell_type": "code",
   "execution_count": null,
   "outputs": [],
   "source": [
    "df_featuers_split = df[\"RC3\"].str.split(\" \").str.get(0).str.replace(\"'\", \"\").str.split(\";\")\n",
    "df[\"GTExv2\"] = df_featuers_split.str[0].str.split(\"=\").str[1]\n",
    "df[\"TCGAv2\"] = df_featuers_split.str[1].str.split(\"=\").str[1]\n",
    "df[\"SRAv3h\"] = df_featuers_split.str[2].str.split(\"=\").str[1]\n",
    "df[\"RC3-Splice_site\"] = df_featuers_split.str[3]\n",
    "df[\"RC3-Score\"] = df[\"RC3\"].str.split(\" \").str.get(1)"
   ],
   "metadata": {
    "collapsed": false
   }
  },
  {
   "cell_type": "code",
   "execution_count": null,
   "outputs": [],
   "source": [
    "df"
   ],
   "metadata": {
    "collapsed": false
   }
  },
  {
   "cell_type": "code",
   "execution_count": null,
   "outputs": [],
   "source": [
    "df.drop(columns=\"RC3\", inplace=True)\n",
    "df"
   ],
   "metadata": {
    "collapsed": false
   }
  },
  {
   "cell_type": "code",
   "execution_count": null,
   "outputs": [],
   "source": [
    "df.to_csv(\"Featurized_gencode_introns\", index=False)"
   ],
   "metadata": {
    "collapsed": false
   }
  },
  {
   "cell_type": "code",
   "execution_count": null,
   "outputs": [],
   "source": [],
   "metadata": {
    "collapsed": false
   }
  }
 ],
 "metadata": {
  "kernelspec": {
   "display_name": "Python 3",
   "language": "python",
   "name": "python3"
  },
  "language_info": {
   "codemirror_mode": {
    "name": "ipython",
    "version": 2
   },
   "file_extension": ".py",
   "mimetype": "text/x-python",
   "name": "python",
   "nbconvert_exporter": "python",
   "pygments_lexer": "ipython2",
   "version": "2.7.6"
  }
 },
 "nbformat": 4,
 "nbformat_minor": 0
}
