{
 "cells": [
  {
   "cell_type": "code",
   "execution_count": 1,
   "metadata": {
    "collapsed": true
   },
   "outputs": [],
   "source": [
    "import pandas as pd"
   ]
  },
  {
   "cell_type": "code",
   "execution_count": 2,
   "outputs": [
    {
     "data": {
      "text/plain": "         chr     start       end strand  class  ss_antisense_start_site  \\\n0       chr1     12227     12612      +      1                    False   \n1       chr1     12721     13220      +      1                    False   \n2       chr1     12057     12178      +      1                    False   \n3       chr1     12697     12974      +      1                    False   \n4       chr1     13052     13220      +      1                    False   \n...      ...       ...       ...    ...    ...                      ...   \n527913  chrY  24883840  24886132      +      0                    False   \n527914  chrY  24888605  24889352      +      0                    False   \n527915  chrY  24889386  24901111      +      0                    False   \n527916  chrY  24833970  24840730      +      0                    False   \n527917  chrY  24871607  24895696      +      0                    False   \n\n        ss_antisense_end_site     GTExv2    TCGAv2       SRAv3h  ...  \\\n0                       False  1122:3199  583:1460   9374:54492  ...   \n1                       False  1791:3198  783:1104  14048:56719  ...   \n2                       False        NaN       NaN          NaN  ...   \n3                       False        1:1       1:1        15:19  ...   \n4                       False      22:24     17:18      433:484  ...   \n...                       ...        ...       ...          ...  ...   \n527913                  False        NaN       NaN          NaN  ...   \n527914                  False        NaN       NaN          NaN  ...   \n527915                  False        NaN       NaN          NaN  ...   \n527916                  False        NaN       NaN          NaN  ...   \n527917                  False        NaN       NaN          NaN  ...   \n\n       repeat_features_end_site:Dust  repeat_features_end_site:Unknown  \\\n0                                  0                                 0   \n1                                  0                                 0   \n2                                  0                                 0   \n3                                  0                                 0   \n4                                  0                                 0   \n...                              ...                               ...   \n527913                             0                                 0   \n527914                             0                                 0   \n527915                             0                                 0   \n527916                             0                                 0   \n527917                             0                                 0   \n\n        repeat_features_end_site:RNA repeats  \\\n0                                          0   \n1                                          0   \n2                                          0   \n3                                          0   \n4                                          0   \n...                                      ...   \n527913                                     0   \n527914                                     0   \n527915                                     0   \n527916                                     0   \n527917                                     0   \n\n        repeat_features_end_site:Satellite repeats  \\\n0                                                0   \n1                                                0   \n2                                                0   \n3                                                0   \n4                                                0   \n...                                            ...   \n527913                                           0   \n527914                                           0   \n527915                                           0   \n527916                                           0   \n527917                                           0   \n\n        repeat_features_end_site:Tandem repeats  \\\n0                                             0   \n1                                             0   \n2                                             0   \n3                                             0   \n4                                             0   \n...                                         ...   \n527913                                        0   \n527914                                        0   \n527915                                        0   \n527916                                        0   \n527917                                        0   \n\n        repeat_features_end_site:Low complexity regions  \\\n0                                                     0   \n1                                                     0   \n2                                                     0   \n3                                                     0   \n4                                                     0   \n...                                                 ...   \n527913                                                0   \n527914                                                0   \n527915                                                0   \n527916                                                0   \n527917                                                0   \n\n                                                 sequence  \\\n0       GTAAGTAGTGCTTGTGCTCATCTCCTTGGCTGTGATACGTGGCCGG...   \n1       GTGAGAGGAGAGTAGACAGTGAGTGGGAGTGGCGTCGCCCCTAGGG...   \n2       CACTGGAGTGGAGTTTTCCTGTGGAGAGGAGCCATGCCTAGAGTGG...   \n3       GTGAGTGTCCCCAGTGTTGCAGAGGTGAGAGGAGAGTAGACAGTGA...   \n4       GCAAGCCTGGCTGCCTCCAGCTGGGTCGACAGACAGGGGCTGGAGA...   \n...                                                   ...   \n527913  GTAAGAAGGAGTAAAATTATTTGCTTTCAGGTATTATTGAGGCCTT...   \n527914  GTAATGTAAGAAGGAGTAAAATTATTTGCTTTCAGGTATTATTGAG...   \n527915  ATTATGTTTTCCTTGATGTTAAGTGAATTAGCCAAACATAGACTTC...   \n527916  CCTTGGTTTTCCTTACACCTTAGCCTTTGGCTCCTTTGACCACTCG...   \n527917  GCTTATCCAAATTCACCATTTCAAGTCGCCACTGGATATCAGTTCC...   \n\n                                      sequence_maxentscan  \\\n0       ccaGTAAGTAGTGCTTGTGCTCATCTCCTTGGCTGTGATACGTGGC...   \n1       gagGTGAGAGGAGAGTAGACAGTGAGTGGGAGTGGCGTCGCCCCTA...   \n2       gagCACTGGAGTGGAGTTTTCCTGTGGAGAGGAGCCATGCCTAGAG...   \n3       cttGTGAGTGTCCCCAGTGTTGCAGAGGTGAGAGGAGAGTAGACAG...   \n4       tagGCAAGCCTGGCTGCCTCCAGCTGGGTCGACAGACAGGGGCTGG...   \n...                                                   ...   \n527913  aatGTAAGAAGGAGTAAAATTATTTGCTTTCAGGTATTATTGAGGC...   \n527914  cagGTAATGTAAGAAGGAGTAAAATTATTTGCTTTCAGGTATTATT...   \n527915  gggATTATGTTTTCCTTGATGTTAAGTGAATTAGCCAAACATAGAC...   \n527916  cgcCCTTGGTTTTCCTTACACCTTAGCCTTTGGCTCCTTTGACCAC...   \n527917  cctGCTTATCCAAATTCACCATTTCAAGTCGCCACTGGATATCAGT...   \n\n        hg38 - Acceptor splice site  hg38 - Donor splice site  \n0                                GT                        AG  \n1                                GT                        AG  \n2                                CA                        GA  \n3                                GT                        AG  \n4                                GC                        AG  \n...                             ...                       ...  \n527913                           GT                        GC  \n527914                           GT                        AG  \n527915                           AT                        AG  \n527916                           CC                        AG  \n527917                           GC                        CT  \n\n[527918 rows x 40 columns]",
      "text/html": "<div>\n<style scoped>\n    .dataframe tbody tr th:only-of-type {\n        vertical-align: middle;\n    }\n\n    .dataframe tbody tr th {\n        vertical-align: top;\n    }\n\n    .dataframe thead th {\n        text-align: right;\n    }\n</style>\n<table border=\"1\" class=\"dataframe\">\n  <thead>\n    <tr style=\"text-align: right;\">\n      <th></th>\n      <th>chr</th>\n      <th>start</th>\n      <th>end</th>\n      <th>strand</th>\n      <th>class</th>\n      <th>ss_antisense_start_site</th>\n      <th>ss_antisense_end_site</th>\n      <th>GTExv2</th>\n      <th>TCGAv2</th>\n      <th>SRAv3h</th>\n      <th>...</th>\n      <th>repeat_features_end_site:Dust</th>\n      <th>repeat_features_end_site:Unknown</th>\n      <th>repeat_features_end_site:RNA repeats</th>\n      <th>repeat_features_end_site:Satellite repeats</th>\n      <th>repeat_features_end_site:Tandem repeats</th>\n      <th>repeat_features_end_site:Low complexity regions</th>\n      <th>sequence</th>\n      <th>sequence_maxentscan</th>\n      <th>hg38 - Acceptor splice site</th>\n      <th>hg38 - Donor splice site</th>\n    </tr>\n  </thead>\n  <tbody>\n    <tr>\n      <th>0</th>\n      <td>chr1</td>\n      <td>12227</td>\n      <td>12612</td>\n      <td>+</td>\n      <td>1</td>\n      <td>False</td>\n      <td>False</td>\n      <td>1122:3199</td>\n      <td>583:1460</td>\n      <td>9374:54492</td>\n      <td>...</td>\n      <td>0</td>\n      <td>0</td>\n      <td>0</td>\n      <td>0</td>\n      <td>0</td>\n      <td>0</td>\n      <td>GTAAGTAGTGCTTGTGCTCATCTCCTTGGCTGTGATACGTGGCCGG...</td>\n      <td>ccaGTAAGTAGTGCTTGTGCTCATCTCCTTGGCTGTGATACGTGGC...</td>\n      <td>GT</td>\n      <td>AG</td>\n    </tr>\n    <tr>\n      <th>1</th>\n      <td>chr1</td>\n      <td>12721</td>\n      <td>13220</td>\n      <td>+</td>\n      <td>1</td>\n      <td>False</td>\n      <td>False</td>\n      <td>1791:3198</td>\n      <td>783:1104</td>\n      <td>14048:56719</td>\n      <td>...</td>\n      <td>0</td>\n      <td>0</td>\n      <td>0</td>\n      <td>0</td>\n      <td>0</td>\n      <td>0</td>\n      <td>GTGAGAGGAGAGTAGACAGTGAGTGGGAGTGGCGTCGCCCCTAGGG...</td>\n      <td>gagGTGAGAGGAGAGTAGACAGTGAGTGGGAGTGGCGTCGCCCCTA...</td>\n      <td>GT</td>\n      <td>AG</td>\n    </tr>\n    <tr>\n      <th>2</th>\n      <td>chr1</td>\n      <td>12057</td>\n      <td>12178</td>\n      <td>+</td>\n      <td>1</td>\n      <td>False</td>\n      <td>False</td>\n      <td>NaN</td>\n      <td>NaN</td>\n      <td>NaN</td>\n      <td>...</td>\n      <td>0</td>\n      <td>0</td>\n      <td>0</td>\n      <td>0</td>\n      <td>0</td>\n      <td>0</td>\n      <td>CACTGGAGTGGAGTTTTCCTGTGGAGAGGAGCCATGCCTAGAGTGG...</td>\n      <td>gagCACTGGAGTGGAGTTTTCCTGTGGAGAGGAGCCATGCCTAGAG...</td>\n      <td>CA</td>\n      <td>GA</td>\n    </tr>\n    <tr>\n      <th>3</th>\n      <td>chr1</td>\n      <td>12697</td>\n      <td>12974</td>\n      <td>+</td>\n      <td>1</td>\n      <td>False</td>\n      <td>False</td>\n      <td>1:1</td>\n      <td>1:1</td>\n      <td>15:19</td>\n      <td>...</td>\n      <td>0</td>\n      <td>0</td>\n      <td>0</td>\n      <td>0</td>\n      <td>0</td>\n      <td>0</td>\n      <td>GTGAGTGTCCCCAGTGTTGCAGAGGTGAGAGGAGAGTAGACAGTGA...</td>\n      <td>cttGTGAGTGTCCCCAGTGTTGCAGAGGTGAGAGGAGAGTAGACAG...</td>\n      <td>GT</td>\n      <td>AG</td>\n    </tr>\n    <tr>\n      <th>4</th>\n      <td>chr1</td>\n      <td>13052</td>\n      <td>13220</td>\n      <td>+</td>\n      <td>1</td>\n      <td>False</td>\n      <td>False</td>\n      <td>22:24</td>\n      <td>17:18</td>\n      <td>433:484</td>\n      <td>...</td>\n      <td>0</td>\n      <td>0</td>\n      <td>0</td>\n      <td>0</td>\n      <td>0</td>\n      <td>0</td>\n      <td>GCAAGCCTGGCTGCCTCCAGCTGGGTCGACAGACAGGGGCTGGAGA...</td>\n      <td>tagGCAAGCCTGGCTGCCTCCAGCTGGGTCGACAGACAGGGGCTGG...</td>\n      <td>GC</td>\n      <td>AG</td>\n    </tr>\n    <tr>\n      <th>...</th>\n      <td>...</td>\n      <td>...</td>\n      <td>...</td>\n      <td>...</td>\n      <td>...</td>\n      <td>...</td>\n      <td>...</td>\n      <td>...</td>\n      <td>...</td>\n      <td>...</td>\n      <td>...</td>\n      <td>...</td>\n      <td>...</td>\n      <td>...</td>\n      <td>...</td>\n      <td>...</td>\n      <td>...</td>\n      <td>...</td>\n      <td>...</td>\n      <td>...</td>\n      <td>...</td>\n    </tr>\n    <tr>\n      <th>527913</th>\n      <td>chrY</td>\n      <td>24883840</td>\n      <td>24886132</td>\n      <td>+</td>\n      <td>0</td>\n      <td>False</td>\n      <td>False</td>\n      <td>NaN</td>\n      <td>NaN</td>\n      <td>NaN</td>\n      <td>...</td>\n      <td>0</td>\n      <td>0</td>\n      <td>0</td>\n      <td>0</td>\n      <td>0</td>\n      <td>0</td>\n      <td>GTAAGAAGGAGTAAAATTATTTGCTTTCAGGTATTATTGAGGCCTT...</td>\n      <td>aatGTAAGAAGGAGTAAAATTATTTGCTTTCAGGTATTATTGAGGC...</td>\n      <td>GT</td>\n      <td>GC</td>\n    </tr>\n    <tr>\n      <th>527914</th>\n      <td>chrY</td>\n      <td>24888605</td>\n      <td>24889352</td>\n      <td>+</td>\n      <td>0</td>\n      <td>False</td>\n      <td>False</td>\n      <td>NaN</td>\n      <td>NaN</td>\n      <td>NaN</td>\n      <td>...</td>\n      <td>0</td>\n      <td>0</td>\n      <td>0</td>\n      <td>0</td>\n      <td>0</td>\n      <td>0</td>\n      <td>GTAATGTAAGAAGGAGTAAAATTATTTGCTTTCAGGTATTATTGAG...</td>\n      <td>cagGTAATGTAAGAAGGAGTAAAATTATTTGCTTTCAGGTATTATT...</td>\n      <td>GT</td>\n      <td>AG</td>\n    </tr>\n    <tr>\n      <th>527915</th>\n      <td>chrY</td>\n      <td>24889386</td>\n      <td>24901111</td>\n      <td>+</td>\n      <td>0</td>\n      <td>False</td>\n      <td>False</td>\n      <td>NaN</td>\n      <td>NaN</td>\n      <td>NaN</td>\n      <td>...</td>\n      <td>0</td>\n      <td>0</td>\n      <td>0</td>\n      <td>0</td>\n      <td>0</td>\n      <td>0</td>\n      <td>ATTATGTTTTCCTTGATGTTAAGTGAATTAGCCAAACATAGACTTC...</td>\n      <td>gggATTATGTTTTCCTTGATGTTAAGTGAATTAGCCAAACATAGAC...</td>\n      <td>AT</td>\n      <td>AG</td>\n    </tr>\n    <tr>\n      <th>527916</th>\n      <td>chrY</td>\n      <td>24833970</td>\n      <td>24840730</td>\n      <td>+</td>\n      <td>0</td>\n      <td>False</td>\n      <td>False</td>\n      <td>NaN</td>\n      <td>NaN</td>\n      <td>NaN</td>\n      <td>...</td>\n      <td>0</td>\n      <td>0</td>\n      <td>0</td>\n      <td>0</td>\n      <td>0</td>\n      <td>0</td>\n      <td>CCTTGGTTTTCCTTACACCTTAGCCTTTGGCTCCTTTGACCACTCG...</td>\n      <td>cgcCCTTGGTTTTCCTTACACCTTAGCCTTTGGCTCCTTTGACCAC...</td>\n      <td>CC</td>\n      <td>AG</td>\n    </tr>\n    <tr>\n      <th>527917</th>\n      <td>chrY</td>\n      <td>24871607</td>\n      <td>24895696</td>\n      <td>+</td>\n      <td>0</td>\n      <td>False</td>\n      <td>False</td>\n      <td>NaN</td>\n      <td>NaN</td>\n      <td>NaN</td>\n      <td>...</td>\n      <td>0</td>\n      <td>0</td>\n      <td>0</td>\n      <td>0</td>\n      <td>0</td>\n      <td>0</td>\n      <td>GCTTATCCAAATTCACCATTTCAAGTCGCCACTGGATATCAGTTCC...</td>\n      <td>cctGCTTATCCAAATTCACCATTTCAAGTCGCCACTGGATATCAGT...</td>\n      <td>GC</td>\n      <td>CT</td>\n    </tr>\n  </tbody>\n</table>\n<p>527918 rows × 40 columns</p>\n</div>"
     },
     "execution_count": 2,
     "metadata": {},
     "output_type": "execute_result"
    }
   ],
   "source": [
    "df = pd.read_csv(\"data/4.2_hg38_paired_introns.tsv\", sep=\"\\t\")\n",
    "df"
   ],
   "metadata": {
    "collapsed": false
   }
  },
  {
   "cell_type": "code",
   "execution_count": 3,
   "outputs": [],
   "source": [
    "# First we set all prediction to 1 (True/Accepted)\n",
    "df[\"prediction\"] = 1"
   ],
   "metadata": {
    "collapsed": false
   }
  },
  {
   "cell_type": "markdown",
   "source": [
    "using an minimum intron length threshold of 50 nt"
   ],
   "metadata": {
    "collapsed": false
   }
  },
  {
   "cell_type": "code",
   "execution_count": 4,
   "outputs": [],
   "source": [
    "df[\"intron_length\"] = df[\"sequence\"].apply(len)\n",
    "df.loc[df[\"intron_length\"] < 50, \"prediction\"] = 0"
   ],
   "metadata": {
    "collapsed": false
   }
  },
  {
   "cell_type": "markdown",
   "source": [
    "using a very limited definition of canonical splicing"
   ],
   "metadata": {
    "collapsed": false
   }
  },
  {
   "cell_type": "code",
   "execution_count": 5,
   "outputs": [],
   "source": [
    "#Acceptor and donor got mislabelled but not affecting the result\n",
    "df.loc[(df[\"hg38 - Acceptor splice site\"] == \"GT\") & df[\"hg38 - Donor splice site\"] == \"AG\"] = 0\n",
    "df.loc[(df[\"hg38 - Acceptor splice site\"] == \"GC\") & df[\"hg38 - Donor splice site\"] == \"AG\"] = 0\n",
    "df.loc[(df[\"hg38 - Acceptor splice site\"] == \"AT\") & df[\"hg38 - Donor splice site\"] == \"AC\"] = 0"
   ],
   "metadata": {
    "collapsed": false
   }
  },
  {
   "cell_type": "markdown",
   "source": [
    "Recount3 Score not 0"
   ],
   "metadata": {
    "collapsed": false
   }
  },
  {
   "cell_type": "code",
   "execution_count": 6,
   "outputs": [],
   "source": [
    "df.loc[df[\"RC3-Score\"] <= 0, \"prediction\"] = 0"
   ],
   "metadata": {
    "collapsed": false
   }
  },
  {
   "cell_type": "markdown",
   "source": [
    "using overlaps of splice sites with repeat elements - Transposable elements and tandem repeats"
   ],
   "metadata": {
    "collapsed": false
   }
  },
  {
   "cell_type": "code",
   "execution_count": 7,
   "outputs": [],
   "source": [
    "df.loc[df[\"repeat_features_end_site:Tandem repeats\"] != 0, \"prediction\"] = 0\n",
    "df.loc[df[\"repeat_features_start_site:Tandem repeats\"] != 0, \"prediction\"] = 0\n",
    "df.loc[df[\"repeat_features_start_site:Type I Transposons/SINE\"] != 0, \"prediction\"] = 0\n",
    "df.loc[df[\"repeat_features_end_site:Type I Transposons/SINE\"] != 0, \"prediction\"] = 0\n",
    "df.loc[df[\"repeat_features_start_site:Type I Transposons/LINE\"] != 0, \"prediction\"] = 0\n",
    "df.loc[df[\"repeat_features_end_site:Type I Transposons/LINE\"] != 0, \"prediction\"] = 0"
   ],
   "metadata": {
    "collapsed": false
   }
  },
  {
   "cell_type": "markdown",
   "source": [
    "using overlap on the opposite strand with annotated transcripts"
   ],
   "metadata": {
    "collapsed": false
   }
  },
  {
   "cell_type": "code",
   "execution_count": 8,
   "outputs": [],
   "source": [
    "df.loc[df[\"ss_antisense_end_site\"] == True, \"prediction\"] = 0\n",
    "df.loc[df[\"ss_antisense_start_site\"] == True, \"prediction\"] = 0"
   ],
   "metadata": {
    "collapsed": false
   }
  },
  {
   "cell_type": "markdown",
   "source": [
    "False positive under this filter:"
   ],
   "metadata": {
    "collapsed": false
   }
  },
  {
   "cell_type": "code",
   "execution_count": 11,
   "outputs": [
    {
     "data": {
      "text/plain": "          chr      start        end strand  class ss_antisense_start_site  \\\n402492  chr10  120598210  120598626      +      0                   False   \n402493  chr10  130525340  130525712      +      0                   False   \n402498  chr11    5249367    5254291      -      0                   False   \n402523  chr15   21154963   21160305      +      0                   False   \n402524  chr15   21165778   21167181      +      0                   False   \n...       ...        ...        ...    ...    ...                     ...   \n527827   chrY    9358328    9379213      +      0                   False   \n527847   chrY   19739662   19741320      -      0                   False   \n527863   chrY   19735744   19739527      -      0                   False   \n527882   chrY   23168943   23169385      -      0                   False   \n527903   chrY   24774421   24784124      -      0                   False   \n\n       ss_antisense_end_site     GTExv2    TCGAv2      SRAv3h  ...  \\\n402492                 False        0:0       0:0        1:17  ...   \n402493                 False        4:4       1:1        5:15  ...   \n402498                 False        0:0       0:0     159:876  ...   \n402523                 False  1034:2932   269:417  5490:10573  ...   \n402524                 False   595:1807  862:1099   3219:6325  ...   \n...                      ...        ...       ...         ...  ...   \n527827                 False    150:245    61:322     102:359  ...   \n527847                 False    119:136     19:20     614:829  ...   \n527863                 False        1:1       0:0       18:23  ...   \n527882                 False        0:0       0:0       36:60  ...   \n527903                 False        1:1       1:3       15:33  ...   \n\n       repeat_features_end_site:RNA repeats  \\\n402492                                    0   \n402493                                    0   \n402498                                    0   \n402523                                    0   \n402524                                    0   \n...                                     ...   \n527827                                    0   \n527847                                    0   \n527863                                    0   \n527882                                    0   \n527903                                    0   \n\n        repeat_features_end_site:Satellite repeats  \\\n402492                                           0   \n402493                                           0   \n402498                                           0   \n402523                                           0   \n402524                                           0   \n...                                            ...   \n527827                                           0   \n527847                                           0   \n527863                                           0   \n527882                                           0   \n527903                                           0   \n\n        repeat_features_end_site:Tandem repeats  \\\n402492                                        0   \n402493                                        0   \n402498                                        0   \n402523                                        0   \n402524                                        0   \n...                                         ...   \n527827                                        0   \n527847                                        0   \n527863                                        0   \n527882                                        0   \n527903                                        0   \n\n        repeat_features_end_site:Low complexity regions  \\\n402492                                                0   \n402493                                                0   \n402498                                                0   \n402523                                                0   \n402524                                                0   \n...                                                 ...   \n527827                                                0   \n527847                                                0   \n527863                                                0   \n527882                                                0   \n527903                                                0   \n\n                                                 sequence  \\\n402492  GTGGTGTAGCTTTGCTGTCTCCTGTGTCAATGTCAGGAGGACAGGC...   \n402493  GTAAGTGAAGGCTCGGGCTCCGGGAGGAGGTGCCGCCTTAGCATTG...   \n402498  GTGAGTCCAGGAGATGTTTCAGCACTGTTGCCTTTAGTCTCGAGGC...   \n402523  GTAAGAACTGAGGGTGGCTGAGACTCGGGGTTGTTCAGGGCGGGGT...   \n402524  GTCTGTATATCTATATATTCTCATATTTATAAATCTCCATATTGTT...   \n...                                                   ...   \n527827  GTATCCTTCTCAGTGTTTCTTCGGCCTTTCTAGTGGAGAGGTGCTC...   \n527847  GTGGTGAGGGCCCTTAAACTGGTTTGTGGCCTGATGTGATTTTGTT...   \n527863  GTGAGTGACTGTTACTCCTGTTATTCTTCCTATAGCTGAGAAGGTT...   \n527882  GTAAGTAATCTAATAGAAAAATCTCTTATTTATCTTATTGCTACAA...   \n527903  GTAGTAAAATGGTTTGCTTTCAGGTATTATTGAGGCCTTTAACTTG...   \n\n                                      sequence_maxentscan  \\\n402492  tctGTGGTGTAGCTTTGCTGTCTCCTGTGTCAATGTCAGGAGGACA...   \n402493  aagGTAAGTGAAGGCTCGGGCTCCGGGAGGAGGTGCCGCCTTAGCA...   \n402498  aagGTGAGTCCAGGAGATGTTTCAGCACTGTTGCCTTTAGTCTCGA...   \n402523  aggGTAAGAACTGAGGGTGGCTGAGACTCGGGGTTGTTCAGGGCGG...   \n402524  aagGTCTGTATATCTATATATTCTCATATTTATAAATCTCCATATT...   \n...                                                   ...   \n527827  gttGTATCCTTCTCAGTGTTTCTTCGGCCTTTCTAGTGGAGAGGTG...   \n527847  catGTGGTGAGGGCCCTTAAACTGGTTTGTGGCCTGATGTGATTTT...   \n527863  gatGTGAGTGACTGTTACTCCTGTTATTCTTCCTATAGCTGAGAAG...   \n527882  ggaGTAAGTAATCTAATAGAAAAATCTCTTATTTATCTTATTGCTA...   \n527903  gagGTAGTAAAATGGTTTGCTTTCAGGTATTATTGAGGCCTTTAAC...   \n\n        hg38 - Acceptor splice site  hg38 - Donor splice site  prediction  \\\n402492                           GT                        AG           1   \n402493                           GT                        AG           1   \n402498                           GT                        AG           1   \n402523                           GT                        AG           1   \n402524                           GT                        AG           1   \n...                             ...                       ...         ...   \n527827                           GT                        AG           1   \n527847                           GT                        AG           1   \n527863                           GT                        AG           1   \n527882                           GT                        AG           1   \n527903                           GT                        AG           1   \n\n        intron_length  \n402492            416  \n402493            372  \n402498           4924  \n402523           5342  \n402524           1403  \n...               ...  \n527827          20885  \n527847           1658  \n527863           3783  \n527882            442  \n527903           9703  \n\n[28407 rows x 42 columns]",
      "text/html": "<div>\n<style scoped>\n    .dataframe tbody tr th:only-of-type {\n        vertical-align: middle;\n    }\n\n    .dataframe tbody tr th {\n        vertical-align: top;\n    }\n\n    .dataframe thead th {\n        text-align: right;\n    }\n</style>\n<table border=\"1\" class=\"dataframe\">\n  <thead>\n    <tr style=\"text-align: right;\">\n      <th></th>\n      <th>chr</th>\n      <th>start</th>\n      <th>end</th>\n      <th>strand</th>\n      <th>class</th>\n      <th>ss_antisense_start_site</th>\n      <th>ss_antisense_end_site</th>\n      <th>GTExv2</th>\n      <th>TCGAv2</th>\n      <th>SRAv3h</th>\n      <th>...</th>\n      <th>repeat_features_end_site:RNA repeats</th>\n      <th>repeat_features_end_site:Satellite repeats</th>\n      <th>repeat_features_end_site:Tandem repeats</th>\n      <th>repeat_features_end_site:Low complexity regions</th>\n      <th>sequence</th>\n      <th>sequence_maxentscan</th>\n      <th>hg38 - Acceptor splice site</th>\n      <th>hg38 - Donor splice site</th>\n      <th>prediction</th>\n      <th>intron_length</th>\n    </tr>\n  </thead>\n  <tbody>\n    <tr>\n      <th>402492</th>\n      <td>chr10</td>\n      <td>120598210</td>\n      <td>120598626</td>\n      <td>+</td>\n      <td>0</td>\n      <td>False</td>\n      <td>False</td>\n      <td>0:0</td>\n      <td>0:0</td>\n      <td>1:17</td>\n      <td>...</td>\n      <td>0</td>\n      <td>0</td>\n      <td>0</td>\n      <td>0</td>\n      <td>GTGGTGTAGCTTTGCTGTCTCCTGTGTCAATGTCAGGAGGACAGGC...</td>\n      <td>tctGTGGTGTAGCTTTGCTGTCTCCTGTGTCAATGTCAGGAGGACA...</td>\n      <td>GT</td>\n      <td>AG</td>\n      <td>1</td>\n      <td>416</td>\n    </tr>\n    <tr>\n      <th>402493</th>\n      <td>chr10</td>\n      <td>130525340</td>\n      <td>130525712</td>\n      <td>+</td>\n      <td>0</td>\n      <td>False</td>\n      <td>False</td>\n      <td>4:4</td>\n      <td>1:1</td>\n      <td>5:15</td>\n      <td>...</td>\n      <td>0</td>\n      <td>0</td>\n      <td>0</td>\n      <td>0</td>\n      <td>GTAAGTGAAGGCTCGGGCTCCGGGAGGAGGTGCCGCCTTAGCATTG...</td>\n      <td>aagGTAAGTGAAGGCTCGGGCTCCGGGAGGAGGTGCCGCCTTAGCA...</td>\n      <td>GT</td>\n      <td>AG</td>\n      <td>1</td>\n      <td>372</td>\n    </tr>\n    <tr>\n      <th>402498</th>\n      <td>chr11</td>\n      <td>5249367</td>\n      <td>5254291</td>\n      <td>-</td>\n      <td>0</td>\n      <td>False</td>\n      <td>False</td>\n      <td>0:0</td>\n      <td>0:0</td>\n      <td>159:876</td>\n      <td>...</td>\n      <td>0</td>\n      <td>0</td>\n      <td>0</td>\n      <td>0</td>\n      <td>GTGAGTCCAGGAGATGTTTCAGCACTGTTGCCTTTAGTCTCGAGGC...</td>\n      <td>aagGTGAGTCCAGGAGATGTTTCAGCACTGTTGCCTTTAGTCTCGA...</td>\n      <td>GT</td>\n      <td>AG</td>\n      <td>1</td>\n      <td>4924</td>\n    </tr>\n    <tr>\n      <th>402523</th>\n      <td>chr15</td>\n      <td>21154963</td>\n      <td>21160305</td>\n      <td>+</td>\n      <td>0</td>\n      <td>False</td>\n      <td>False</td>\n      <td>1034:2932</td>\n      <td>269:417</td>\n      <td>5490:10573</td>\n      <td>...</td>\n      <td>0</td>\n      <td>0</td>\n      <td>0</td>\n      <td>0</td>\n      <td>GTAAGAACTGAGGGTGGCTGAGACTCGGGGTTGTTCAGGGCGGGGT...</td>\n      <td>aggGTAAGAACTGAGGGTGGCTGAGACTCGGGGTTGTTCAGGGCGG...</td>\n      <td>GT</td>\n      <td>AG</td>\n      <td>1</td>\n      <td>5342</td>\n    </tr>\n    <tr>\n      <th>402524</th>\n      <td>chr15</td>\n      <td>21165778</td>\n      <td>21167181</td>\n      <td>+</td>\n      <td>0</td>\n      <td>False</td>\n      <td>False</td>\n      <td>595:1807</td>\n      <td>862:1099</td>\n      <td>3219:6325</td>\n      <td>...</td>\n      <td>0</td>\n      <td>0</td>\n      <td>0</td>\n      <td>0</td>\n      <td>GTCTGTATATCTATATATTCTCATATTTATAAATCTCCATATTGTT...</td>\n      <td>aagGTCTGTATATCTATATATTCTCATATTTATAAATCTCCATATT...</td>\n      <td>GT</td>\n      <td>AG</td>\n      <td>1</td>\n      <td>1403</td>\n    </tr>\n    <tr>\n      <th>...</th>\n      <td>...</td>\n      <td>...</td>\n      <td>...</td>\n      <td>...</td>\n      <td>...</td>\n      <td>...</td>\n      <td>...</td>\n      <td>...</td>\n      <td>...</td>\n      <td>...</td>\n      <td>...</td>\n      <td>...</td>\n      <td>...</td>\n      <td>...</td>\n      <td>...</td>\n      <td>...</td>\n      <td>...</td>\n      <td>...</td>\n      <td>...</td>\n      <td>...</td>\n      <td>...</td>\n    </tr>\n    <tr>\n      <th>527827</th>\n      <td>chrY</td>\n      <td>9358328</td>\n      <td>9379213</td>\n      <td>+</td>\n      <td>0</td>\n      <td>False</td>\n      <td>False</td>\n      <td>150:245</td>\n      <td>61:322</td>\n      <td>102:359</td>\n      <td>...</td>\n      <td>0</td>\n      <td>0</td>\n      <td>0</td>\n      <td>0</td>\n      <td>GTATCCTTCTCAGTGTTTCTTCGGCCTTTCTAGTGGAGAGGTGCTC...</td>\n      <td>gttGTATCCTTCTCAGTGTTTCTTCGGCCTTTCTAGTGGAGAGGTG...</td>\n      <td>GT</td>\n      <td>AG</td>\n      <td>1</td>\n      <td>20885</td>\n    </tr>\n    <tr>\n      <th>527847</th>\n      <td>chrY</td>\n      <td>19739662</td>\n      <td>19741320</td>\n      <td>-</td>\n      <td>0</td>\n      <td>False</td>\n      <td>False</td>\n      <td>119:136</td>\n      <td>19:20</td>\n      <td>614:829</td>\n      <td>...</td>\n      <td>0</td>\n      <td>0</td>\n      <td>0</td>\n      <td>0</td>\n      <td>GTGGTGAGGGCCCTTAAACTGGTTTGTGGCCTGATGTGATTTTGTT...</td>\n      <td>catGTGGTGAGGGCCCTTAAACTGGTTTGTGGCCTGATGTGATTTT...</td>\n      <td>GT</td>\n      <td>AG</td>\n      <td>1</td>\n      <td>1658</td>\n    </tr>\n    <tr>\n      <th>527863</th>\n      <td>chrY</td>\n      <td>19735744</td>\n      <td>19739527</td>\n      <td>-</td>\n      <td>0</td>\n      <td>False</td>\n      <td>False</td>\n      <td>1:1</td>\n      <td>0:0</td>\n      <td>18:23</td>\n      <td>...</td>\n      <td>0</td>\n      <td>0</td>\n      <td>0</td>\n      <td>0</td>\n      <td>GTGAGTGACTGTTACTCCTGTTATTCTTCCTATAGCTGAGAAGGTT...</td>\n      <td>gatGTGAGTGACTGTTACTCCTGTTATTCTTCCTATAGCTGAGAAG...</td>\n      <td>GT</td>\n      <td>AG</td>\n      <td>1</td>\n      <td>3783</td>\n    </tr>\n    <tr>\n      <th>527882</th>\n      <td>chrY</td>\n      <td>23168943</td>\n      <td>23169385</td>\n      <td>-</td>\n      <td>0</td>\n      <td>False</td>\n      <td>False</td>\n      <td>0:0</td>\n      <td>0:0</td>\n      <td>36:60</td>\n      <td>...</td>\n      <td>0</td>\n      <td>0</td>\n      <td>0</td>\n      <td>0</td>\n      <td>GTAAGTAATCTAATAGAAAAATCTCTTATTTATCTTATTGCTACAA...</td>\n      <td>ggaGTAAGTAATCTAATAGAAAAATCTCTTATTTATCTTATTGCTA...</td>\n      <td>GT</td>\n      <td>AG</td>\n      <td>1</td>\n      <td>442</td>\n    </tr>\n    <tr>\n      <th>527903</th>\n      <td>chrY</td>\n      <td>24774421</td>\n      <td>24784124</td>\n      <td>-</td>\n      <td>0</td>\n      <td>False</td>\n      <td>False</td>\n      <td>1:1</td>\n      <td>1:3</td>\n      <td>15:33</td>\n      <td>...</td>\n      <td>0</td>\n      <td>0</td>\n      <td>0</td>\n      <td>0</td>\n      <td>GTAGTAAAATGGTTTGCTTTCAGGTATTATTGAGGCCTTTAACTTG...</td>\n      <td>gagGTAGTAAAATGGTTTGCTTTCAGGTATTATTGAGGCCTTTAAC...</td>\n      <td>GT</td>\n      <td>AG</td>\n      <td>1</td>\n      <td>9703</td>\n    </tr>\n  </tbody>\n</table>\n<p>28407 rows × 42 columns</p>\n</div>"
     },
     "execution_count": 11,
     "metadata": {},
     "output_type": "execute_result"
    }
   ],
   "source": [
    "df[(df[\"class\"] != df[\"prediction\"]) & (df.prediction == 1)]"
   ],
   "metadata": {
    "collapsed": false
   }
  },
  {
   "cell_type": "markdown",
   "source": [
    "## 28407 False positive out of 125464 false introns"
   ],
   "metadata": {
    "collapsed": false
   }
  },
  {
   "cell_type": "code",
   "execution_count": null,
   "outputs": [],
   "source": [],
   "metadata": {
    "collapsed": false
   }
  }
 ],
 "metadata": {
  "kernelspec": {
   "display_name": "Python 3",
   "language": "python",
   "name": "python3"
  },
  "language_info": {
   "codemirror_mode": {
    "name": "ipython",
    "version": 2
   },
   "file_extension": ".py",
   "mimetype": "text/x-python",
   "name": "python",
   "nbconvert_exporter": "python",
   "pygments_lexer": "ipython2",
   "version": "2.7.6"
  }
 },
 "nbformat": 4,
 "nbformat_minor": 0
}
