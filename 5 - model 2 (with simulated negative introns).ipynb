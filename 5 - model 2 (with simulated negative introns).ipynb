{
 "cells": [
  {
   "cell_type": "code",
   "execution_count": 1,
   "metadata": {
    "collapsed": true
   },
   "outputs": [],
   "source": [
    "from xgboost import XGBClassifier\n",
    "from sklearn.ensemble import RandomForestClassifier, ExtraTreesClassifier\n",
    "import pandas as pd\n",
    "import sklearn.ensemble\n",
    "from sklearn.metrics import accuracy_score, roc_auc_score, balanced_accuracy_score, precision_score, matthews_corrcoef, confusion_matrix, recall_score\n",
    "from sklearn.model_selection import StratifiedKFold\n",
    "from sklearn.model_selection import train_test_split\n",
    "from sklearn import preprocessing\n",
    "import statistics\n",
    "import numpy as np\n",
    "from sklearn import tree"
   ]
  },
  {
   "cell_type": "code",
   "execution_count": 2,
   "outputs": [
    {
     "data": {
      "text/plain": "         chr     start       end strand  class  ss_antisense_start_site  \\\n0       chr1     12227     12612      +      1                    False   \n1       chr1     12721     13220      +      1                    False   \n2       chr1     12057     12178      +      1                    False   \n3       chr1     12697     12974      +      1                    False   \n4       chr1     13052     13220      +      1                    False   \n...      ...       ...       ...    ...    ...                      ...   \n527913  chrY  24883840  24886132      +      0                    False   \n527914  chrY  24888605  24889352      +      0                    False   \n527915  chrY  24889386  24901111      +      0                    False   \n527916  chrY  24833970  24840730      +      0                    False   \n527917  chrY  24871607  24895696      +      0                    False   \n\n        ss_antisense_end_site     GTExv2    TCGAv2       SRAv3h  ...  \\\n0                       False  1122:3199  583:1460   9374:54492  ...   \n1                       False  1791:3198  783:1104  14048:56719  ...   \n2                       False        NaN       NaN          NaN  ...   \n3                       False        1:1       1:1        15:19  ...   \n4                       False      22:24     17:18      433:484  ...   \n...                       ...        ...       ...          ...  ...   \n527913                  False        NaN       NaN          NaN  ...   \n527914                  False        NaN       NaN          NaN  ...   \n527915                  False        NaN       NaN          NaN  ...   \n527916                  False        NaN       NaN          NaN  ...   \n527917                  False        NaN       NaN          NaN  ...   \n\n       repeat_features_end_site:Dust  repeat_features_end_site:Unknown  \\\n0                                  0                                 0   \n1                                  0                                 0   \n2                                  0                                 0   \n3                                  0                                 0   \n4                                  0                                 0   \n...                              ...                               ...   \n527913                             0                                 0   \n527914                             0                                 0   \n527915                             0                                 0   \n527916                             0                                 0   \n527917                             0                                 0   \n\n        repeat_features_end_site:RNA repeats  \\\n0                                          0   \n1                                          0   \n2                                          0   \n3                                          0   \n4                                          0   \n...                                      ...   \n527913                                     0   \n527914                                     0   \n527915                                     0   \n527916                                     0   \n527917                                     0   \n\n        repeat_features_end_site:Satellite repeats  \\\n0                                                0   \n1                                                0   \n2                                                0   \n3                                                0   \n4                                                0   \n...                                            ...   \n527913                                           0   \n527914                                           0   \n527915                                           0   \n527916                                           0   \n527917                                           0   \n\n        repeat_features_end_site:Tandem repeats  \\\n0                                             0   \n1                                             0   \n2                                             0   \n3                                             0   \n4                                             0   \n...                                         ...   \n527913                                        0   \n527914                                        0   \n527915                                        0   \n527916                                        0   \n527917                                        0   \n\n        repeat_features_end_site:Low complexity regions  \\\n0                                                     0   \n1                                                     0   \n2                                                     0   \n3                                                     0   \n4                                                     0   \n...                                                 ...   \n527913                                                0   \n527914                                                0   \n527915                                                0   \n527916                                                0   \n527917                                                0   \n\n                                                 sequence  \\\n0       GTAAGTAGTGCTTGTGCTCATCTCCTTGGCTGTGATACGTGGCCGG...   \n1       GTGAGAGGAGAGTAGACAGTGAGTGGGAGTGGCGTCGCCCCTAGGG...   \n2       CACTGGAGTGGAGTTTTCCTGTGGAGAGGAGCCATGCCTAGAGTGG...   \n3       GTGAGTGTCCCCAGTGTTGCAGAGGTGAGAGGAGAGTAGACAGTGA...   \n4       GCAAGCCTGGCTGCCTCCAGCTGGGTCGACAGACAGGGGCTGGAGA...   \n...                                                   ...   \n527913  GTAAGAAGGAGTAAAATTATTTGCTTTCAGGTATTATTGAGGCCTT...   \n527914  GTAATGTAAGAAGGAGTAAAATTATTTGCTTTCAGGTATTATTGAG...   \n527915  ATTATGTTTTCCTTGATGTTAAGTGAATTAGCCAAACATAGACTTC...   \n527916  CCTTGGTTTTCCTTACACCTTAGCCTTTGGCTCCTTTGACCACTCG...   \n527917  GCTTATCCAAATTCACCATTTCAAGTCGCCACTGGATATCAGTTCC...   \n\n                                      sequence_maxentscan  \\\n0       ccaGTAAGTAGTGCTTGTGCTCATCTCCTTGGCTGTGATACGTGGC...   \n1       gagGTGAGAGGAGAGTAGACAGTGAGTGGGAGTGGCGTCGCCCCTA...   \n2       gagCACTGGAGTGGAGTTTTCCTGTGGAGAGGAGCCATGCCTAGAG...   \n3       cttGTGAGTGTCCCCAGTGTTGCAGAGGTGAGAGGAGAGTAGACAG...   \n4       tagGCAAGCCTGGCTGCCTCCAGCTGGGTCGACAGACAGGGGCTGG...   \n...                                                   ...   \n527913  aatGTAAGAAGGAGTAAAATTATTTGCTTTCAGGTATTATTGAGGC...   \n527914  cagGTAATGTAAGAAGGAGTAAAATTATTTGCTTTCAGGTATTATT...   \n527915  gggATTATGTTTTCCTTGATGTTAAGTGAATTAGCCAAACATAGAC...   \n527916  cgcCCTTGGTTTTCCTTACACCTTAGCCTTTGGCTCCTTTGACCAC...   \n527917  cctGCTTATCCAAATTCACCATTTCAAGTCGCCACTGGATATCAGT...   \n\n        hg38 - Acceptor splice site  hg38 - Donor splice site  \n0                                GT                        AG  \n1                                GT                        AG  \n2                                CA                        GA  \n3                                GT                        AG  \n4                                GC                        AG  \n...                             ...                       ...  \n527913                           GT                        GC  \n527914                           GT                        AG  \n527915                           AT                        AG  \n527916                           CC                        AG  \n527917                           GC                        CT  \n\n[527918 rows x 40 columns]",
      "text/html": "<div>\n<style scoped>\n    .dataframe tbody tr th:only-of-type {\n        vertical-align: middle;\n    }\n\n    .dataframe tbody tr th {\n        vertical-align: top;\n    }\n\n    .dataframe thead th {\n        text-align: right;\n    }\n</style>\n<table border=\"1\" class=\"dataframe\">\n  <thead>\n    <tr style=\"text-align: right;\">\n      <th></th>\n      <th>chr</th>\n      <th>start</th>\n      <th>end</th>\n      <th>strand</th>\n      <th>class</th>\n      <th>ss_antisense_start_site</th>\n      <th>ss_antisense_end_site</th>\n      <th>GTExv2</th>\n      <th>TCGAv2</th>\n      <th>SRAv3h</th>\n      <th>...</th>\n      <th>repeat_features_end_site:Dust</th>\n      <th>repeat_features_end_site:Unknown</th>\n      <th>repeat_features_end_site:RNA repeats</th>\n      <th>repeat_features_end_site:Satellite repeats</th>\n      <th>repeat_features_end_site:Tandem repeats</th>\n      <th>repeat_features_end_site:Low complexity regions</th>\n      <th>sequence</th>\n      <th>sequence_maxentscan</th>\n      <th>hg38 - Acceptor splice site</th>\n      <th>hg38 - Donor splice site</th>\n    </tr>\n  </thead>\n  <tbody>\n    <tr>\n      <th>0</th>\n      <td>chr1</td>\n      <td>12227</td>\n      <td>12612</td>\n      <td>+</td>\n      <td>1</td>\n      <td>False</td>\n      <td>False</td>\n      <td>1122:3199</td>\n      <td>583:1460</td>\n      <td>9374:54492</td>\n      <td>...</td>\n      <td>0</td>\n      <td>0</td>\n      <td>0</td>\n      <td>0</td>\n      <td>0</td>\n      <td>0</td>\n      <td>GTAAGTAGTGCTTGTGCTCATCTCCTTGGCTGTGATACGTGGCCGG...</td>\n      <td>ccaGTAAGTAGTGCTTGTGCTCATCTCCTTGGCTGTGATACGTGGC...</td>\n      <td>GT</td>\n      <td>AG</td>\n    </tr>\n    <tr>\n      <th>1</th>\n      <td>chr1</td>\n      <td>12721</td>\n      <td>13220</td>\n      <td>+</td>\n      <td>1</td>\n      <td>False</td>\n      <td>False</td>\n      <td>1791:3198</td>\n      <td>783:1104</td>\n      <td>14048:56719</td>\n      <td>...</td>\n      <td>0</td>\n      <td>0</td>\n      <td>0</td>\n      <td>0</td>\n      <td>0</td>\n      <td>0</td>\n      <td>GTGAGAGGAGAGTAGACAGTGAGTGGGAGTGGCGTCGCCCCTAGGG...</td>\n      <td>gagGTGAGAGGAGAGTAGACAGTGAGTGGGAGTGGCGTCGCCCCTA...</td>\n      <td>GT</td>\n      <td>AG</td>\n    </tr>\n    <tr>\n      <th>2</th>\n      <td>chr1</td>\n      <td>12057</td>\n      <td>12178</td>\n      <td>+</td>\n      <td>1</td>\n      <td>False</td>\n      <td>False</td>\n      <td>NaN</td>\n      <td>NaN</td>\n      <td>NaN</td>\n      <td>...</td>\n      <td>0</td>\n      <td>0</td>\n      <td>0</td>\n      <td>0</td>\n      <td>0</td>\n      <td>0</td>\n      <td>CACTGGAGTGGAGTTTTCCTGTGGAGAGGAGCCATGCCTAGAGTGG...</td>\n      <td>gagCACTGGAGTGGAGTTTTCCTGTGGAGAGGAGCCATGCCTAGAG...</td>\n      <td>CA</td>\n      <td>GA</td>\n    </tr>\n    <tr>\n      <th>3</th>\n      <td>chr1</td>\n      <td>12697</td>\n      <td>12974</td>\n      <td>+</td>\n      <td>1</td>\n      <td>False</td>\n      <td>False</td>\n      <td>1:1</td>\n      <td>1:1</td>\n      <td>15:19</td>\n      <td>...</td>\n      <td>0</td>\n      <td>0</td>\n      <td>0</td>\n      <td>0</td>\n      <td>0</td>\n      <td>0</td>\n      <td>GTGAGTGTCCCCAGTGTTGCAGAGGTGAGAGGAGAGTAGACAGTGA...</td>\n      <td>cttGTGAGTGTCCCCAGTGTTGCAGAGGTGAGAGGAGAGTAGACAG...</td>\n      <td>GT</td>\n      <td>AG</td>\n    </tr>\n    <tr>\n      <th>4</th>\n      <td>chr1</td>\n      <td>13052</td>\n      <td>13220</td>\n      <td>+</td>\n      <td>1</td>\n      <td>False</td>\n      <td>False</td>\n      <td>22:24</td>\n      <td>17:18</td>\n      <td>433:484</td>\n      <td>...</td>\n      <td>0</td>\n      <td>0</td>\n      <td>0</td>\n      <td>0</td>\n      <td>0</td>\n      <td>0</td>\n      <td>GCAAGCCTGGCTGCCTCCAGCTGGGTCGACAGACAGGGGCTGGAGA...</td>\n      <td>tagGCAAGCCTGGCTGCCTCCAGCTGGGTCGACAGACAGGGGCTGG...</td>\n      <td>GC</td>\n      <td>AG</td>\n    </tr>\n    <tr>\n      <th>...</th>\n      <td>...</td>\n      <td>...</td>\n      <td>...</td>\n      <td>...</td>\n      <td>...</td>\n      <td>...</td>\n      <td>...</td>\n      <td>...</td>\n      <td>...</td>\n      <td>...</td>\n      <td>...</td>\n      <td>...</td>\n      <td>...</td>\n      <td>...</td>\n      <td>...</td>\n      <td>...</td>\n      <td>...</td>\n      <td>...</td>\n      <td>...</td>\n      <td>...</td>\n      <td>...</td>\n    </tr>\n    <tr>\n      <th>527913</th>\n      <td>chrY</td>\n      <td>24883840</td>\n      <td>24886132</td>\n      <td>+</td>\n      <td>0</td>\n      <td>False</td>\n      <td>False</td>\n      <td>NaN</td>\n      <td>NaN</td>\n      <td>NaN</td>\n      <td>...</td>\n      <td>0</td>\n      <td>0</td>\n      <td>0</td>\n      <td>0</td>\n      <td>0</td>\n      <td>0</td>\n      <td>GTAAGAAGGAGTAAAATTATTTGCTTTCAGGTATTATTGAGGCCTT...</td>\n      <td>aatGTAAGAAGGAGTAAAATTATTTGCTTTCAGGTATTATTGAGGC...</td>\n      <td>GT</td>\n      <td>GC</td>\n    </tr>\n    <tr>\n      <th>527914</th>\n      <td>chrY</td>\n      <td>24888605</td>\n      <td>24889352</td>\n      <td>+</td>\n      <td>0</td>\n      <td>False</td>\n      <td>False</td>\n      <td>NaN</td>\n      <td>NaN</td>\n      <td>NaN</td>\n      <td>...</td>\n      <td>0</td>\n      <td>0</td>\n      <td>0</td>\n      <td>0</td>\n      <td>0</td>\n      <td>0</td>\n      <td>GTAATGTAAGAAGGAGTAAAATTATTTGCTTTCAGGTATTATTGAG...</td>\n      <td>cagGTAATGTAAGAAGGAGTAAAATTATTTGCTTTCAGGTATTATT...</td>\n      <td>GT</td>\n      <td>AG</td>\n    </tr>\n    <tr>\n      <th>527915</th>\n      <td>chrY</td>\n      <td>24889386</td>\n      <td>24901111</td>\n      <td>+</td>\n      <td>0</td>\n      <td>False</td>\n      <td>False</td>\n      <td>NaN</td>\n      <td>NaN</td>\n      <td>NaN</td>\n      <td>...</td>\n      <td>0</td>\n      <td>0</td>\n      <td>0</td>\n      <td>0</td>\n      <td>0</td>\n      <td>0</td>\n      <td>ATTATGTTTTCCTTGATGTTAAGTGAATTAGCCAAACATAGACTTC...</td>\n      <td>gggATTATGTTTTCCTTGATGTTAAGTGAATTAGCCAAACATAGAC...</td>\n      <td>AT</td>\n      <td>AG</td>\n    </tr>\n    <tr>\n      <th>527916</th>\n      <td>chrY</td>\n      <td>24833970</td>\n      <td>24840730</td>\n      <td>+</td>\n      <td>0</td>\n      <td>False</td>\n      <td>False</td>\n      <td>NaN</td>\n      <td>NaN</td>\n      <td>NaN</td>\n      <td>...</td>\n      <td>0</td>\n      <td>0</td>\n      <td>0</td>\n      <td>0</td>\n      <td>0</td>\n      <td>0</td>\n      <td>CCTTGGTTTTCCTTACACCTTAGCCTTTGGCTCCTTTGACCACTCG...</td>\n      <td>cgcCCTTGGTTTTCCTTACACCTTAGCCTTTGGCTCCTTTGACCAC...</td>\n      <td>CC</td>\n      <td>AG</td>\n    </tr>\n    <tr>\n      <th>527917</th>\n      <td>chrY</td>\n      <td>24871607</td>\n      <td>24895696</td>\n      <td>+</td>\n      <td>0</td>\n      <td>False</td>\n      <td>False</td>\n      <td>NaN</td>\n      <td>NaN</td>\n      <td>NaN</td>\n      <td>...</td>\n      <td>0</td>\n      <td>0</td>\n      <td>0</td>\n      <td>0</td>\n      <td>0</td>\n      <td>0</td>\n      <td>GCTTATCCAAATTCACCATTTCAAGTCGCCACTGGATATCAGTTCC...</td>\n      <td>cctGCTTATCCAAATTCACCATTTCAAGTCGCCACTGGATATCAGT...</td>\n      <td>GC</td>\n      <td>CT</td>\n    </tr>\n  </tbody>\n</table>\n<p>527918 rows × 40 columns</p>\n</div>"
     },
     "execution_count": 2,
     "metadata": {},
     "output_type": "execute_result"
    }
   ],
   "source": [
    "df = pd.read_csv(\"data/4.2_hg38_paired_introns.tsv\", sep=\"\\t\")\n",
    "df"
   ],
   "metadata": {
    "collapsed": false
   }
  },
  {
   "cell_type": "code",
   "execution_count": 3,
   "outputs": [
    {
     "data": {
      "text/plain": "       5_prime_site_maxent_seq  3_prime_site_maxent_seq  5_MaxEntScan  \\\n0                    ccaGTAAGT  AGGCTCCTGTCTCCCCCCAGgtg          9.09   \n1                    gagGTGAGA  TAGCCTCTGTTCCCACGAAGgca          7.66   \n2                    gagCACTGG  AACCAGGCATAGGGGAAAGAttg        -13.87   \n3                    cttGTGAGT  GTCATCCCCTTCACTCCCAGctc          7.15   \n4                    tagGCAAGC  TAGCCTCTGTTCCCACGAAGgca          1.14   \n...                        ...                      ...           ...   \n527913               aatGTAAGA  CCATATTCATTTTTTTCTGCcaa          5.55   \n527914               cagGTAATG  CTTTTTTTTTTTTTTTTAAGatg          9.43   \n527915               gggATTATG  TGAAAACTTCTGTGTTTCAGaaa        -14.46   \n527916               cgcCCTTGG  GTCTACTTTCCAAATTACAGtct        -27.63   \n527917               cctGCTTAT  TTTCTTTTCAGGCATTTCCTgct        -25.04   \n\n        3_MaxEntScan  \n0              11.90  \n1               3.89  \n2             -31.99  \n3               7.61  \n4               3.89  \n...              ...  \n527913         -9.69  \n527914         10.01  \n527915          7.85  \n527916          4.64  \n527917        -15.60  \n\n[527918 rows x 4 columns]",
      "text/html": "<div>\n<style scoped>\n    .dataframe tbody tr th:only-of-type {\n        vertical-align: middle;\n    }\n\n    .dataframe tbody tr th {\n        vertical-align: top;\n    }\n\n    .dataframe thead th {\n        text-align: right;\n    }\n</style>\n<table border=\"1\" class=\"dataframe\">\n  <thead>\n    <tr style=\"text-align: right;\">\n      <th></th>\n      <th>5_prime_site_maxent_seq</th>\n      <th>3_prime_site_maxent_seq</th>\n      <th>5_MaxEntScan</th>\n      <th>3_MaxEntScan</th>\n    </tr>\n  </thead>\n  <tbody>\n    <tr>\n      <th>0</th>\n      <td>ccaGTAAGT</td>\n      <td>AGGCTCCTGTCTCCCCCCAGgtg</td>\n      <td>9.09</td>\n      <td>11.90</td>\n    </tr>\n    <tr>\n      <th>1</th>\n      <td>gagGTGAGA</td>\n      <td>TAGCCTCTGTTCCCACGAAGgca</td>\n      <td>7.66</td>\n      <td>3.89</td>\n    </tr>\n    <tr>\n      <th>2</th>\n      <td>gagCACTGG</td>\n      <td>AACCAGGCATAGGGGAAAGAttg</td>\n      <td>-13.87</td>\n      <td>-31.99</td>\n    </tr>\n    <tr>\n      <th>3</th>\n      <td>cttGTGAGT</td>\n      <td>GTCATCCCCTTCACTCCCAGctc</td>\n      <td>7.15</td>\n      <td>7.61</td>\n    </tr>\n    <tr>\n      <th>4</th>\n      <td>tagGCAAGC</td>\n      <td>TAGCCTCTGTTCCCACGAAGgca</td>\n      <td>1.14</td>\n      <td>3.89</td>\n    </tr>\n    <tr>\n      <th>...</th>\n      <td>...</td>\n      <td>...</td>\n      <td>...</td>\n      <td>...</td>\n    </tr>\n    <tr>\n      <th>527913</th>\n      <td>aatGTAAGA</td>\n      <td>CCATATTCATTTTTTTCTGCcaa</td>\n      <td>5.55</td>\n      <td>-9.69</td>\n    </tr>\n    <tr>\n      <th>527914</th>\n      <td>cagGTAATG</td>\n      <td>CTTTTTTTTTTTTTTTTAAGatg</td>\n      <td>9.43</td>\n      <td>10.01</td>\n    </tr>\n    <tr>\n      <th>527915</th>\n      <td>gggATTATG</td>\n      <td>TGAAAACTTCTGTGTTTCAGaaa</td>\n      <td>-14.46</td>\n      <td>7.85</td>\n    </tr>\n    <tr>\n      <th>527916</th>\n      <td>cgcCCTTGG</td>\n      <td>GTCTACTTTCCAAATTACAGtct</td>\n      <td>-27.63</td>\n      <td>4.64</td>\n    </tr>\n    <tr>\n      <th>527917</th>\n      <td>cctGCTTAT</td>\n      <td>TTTCTTTTCAGGCATTTCCTgct</td>\n      <td>-25.04</td>\n      <td>-15.60</td>\n    </tr>\n  </tbody>\n</table>\n<p>527918 rows × 4 columns</p>\n</div>"
     },
     "execution_count": 3,
     "metadata": {},
     "output_type": "execute_result"
    }
   ],
   "source": [
    "df_maxentscan_score = pd.read_csv(\"data/4.3_maxentscan\", sep=\"\\t\")\n",
    "df_maxentscan_score"
   ],
   "metadata": {
    "collapsed": false
   }
  },
  {
   "cell_type": "code",
   "execution_count": 4,
   "outputs": [
    {
     "data": {
      "text/plain": "         chr     start       end strand  class  ss_antisense_start_site  \\\n0       chr1     12227     12612      +      1                    False   \n1       chr1     12721     13220      +      1                    False   \n2       chr1     12057     12178      +      1                    False   \n3       chr1     12697     12974      +      1                    False   \n4       chr1     13052     13220      +      1                    False   \n...      ...       ...       ...    ...    ...                      ...   \n527913  chrY  24883840  24886132      +      0                    False   \n527914  chrY  24888605  24889352      +      0                    False   \n527915  chrY  24889386  24901111      +      0                    False   \n527916  chrY  24833970  24840730      +      0                    False   \n527917  chrY  24871607  24895696      +      0                    False   \n\n        ss_antisense_end_site     GTExv2    TCGAv2       SRAv3h  ...  \\\n0                       False  1122:3199  583:1460   9374:54492  ...   \n1                       False  1791:3198  783:1104  14048:56719  ...   \n2                       False        NaN       NaN          NaN  ...   \n3                       False        1:1       1:1        15:19  ...   \n4                       False      22:24     17:18      433:484  ...   \n...                       ...        ...       ...          ...  ...   \n527913                  False        NaN       NaN          NaN  ...   \n527914                  False        NaN       NaN          NaN  ...   \n527915                  False        NaN       NaN          NaN  ...   \n527916                  False        NaN       NaN          NaN  ...   \n527917                  False        NaN       NaN          NaN  ...   \n\n       repeat_features_end_site:RNA repeats  \\\n0                                         0   \n1                                         0   \n2                                         0   \n3                                         0   \n4                                         0   \n...                                     ...   \n527913                                    0   \n527914                                    0   \n527915                                    0   \n527916                                    0   \n527917                                    0   \n\n        repeat_features_end_site:Satellite repeats  \\\n0                                                0   \n1                                                0   \n2                                                0   \n3                                                0   \n4                                                0   \n...                                            ...   \n527913                                           0   \n527914                                           0   \n527915                                           0   \n527916                                           0   \n527917                                           0   \n\n        repeat_features_end_site:Tandem repeats  \\\n0                                             0   \n1                                             0   \n2                                             0   \n3                                             0   \n4                                             0   \n...                                         ...   \n527913                                        0   \n527914                                        0   \n527915                                        0   \n527916                                        0   \n527917                                        0   \n\n        repeat_features_end_site:Low complexity regions  \\\n0                                                     0   \n1                                                     0   \n2                                                     0   \n3                                                     0   \n4                                                     0   \n...                                                 ...   \n527913                                                0   \n527914                                                0   \n527915                                                0   \n527916                                                0   \n527917                                                0   \n\n                                                 sequence  \\\n0       GTAAGTAGTGCTTGTGCTCATCTCCTTGGCTGTGATACGTGGCCGG...   \n1       GTGAGAGGAGAGTAGACAGTGAGTGGGAGTGGCGTCGCCCCTAGGG...   \n2       CACTGGAGTGGAGTTTTCCTGTGGAGAGGAGCCATGCCTAGAGTGG...   \n3       GTGAGTGTCCCCAGTGTTGCAGAGGTGAGAGGAGAGTAGACAGTGA...   \n4       GCAAGCCTGGCTGCCTCCAGCTGGGTCGACAGACAGGGGCTGGAGA...   \n...                                                   ...   \n527913  GTAAGAAGGAGTAAAATTATTTGCTTTCAGGTATTATTGAGGCCTT...   \n527914  GTAATGTAAGAAGGAGTAAAATTATTTGCTTTCAGGTATTATTGAG...   \n527915  ATTATGTTTTCCTTGATGTTAAGTGAATTAGCCAAACATAGACTTC...   \n527916  CCTTGGTTTTCCTTACACCTTAGCCTTTGGCTCCTTTGACCACTCG...   \n527917  GCTTATCCAAATTCACCATTTCAAGTCGCCACTGGATATCAGTTCC...   \n\n                                      sequence_maxentscan  \\\n0       ccaGTAAGTAGTGCTTGTGCTCATCTCCTTGGCTGTGATACGTGGC...   \n1       gagGTGAGAGGAGAGTAGACAGTGAGTGGGAGTGGCGTCGCCCCTA...   \n2       gagCACTGGAGTGGAGTTTTCCTGTGGAGAGGAGCCATGCCTAGAG...   \n3       cttGTGAGTGTCCCCAGTGTTGCAGAGGTGAGAGGAGAGTAGACAG...   \n4       tagGCAAGCCTGGCTGCCTCCAGCTGGGTCGACAGACAGGGGCTGG...   \n...                                                   ...   \n527913  aatGTAAGAAGGAGTAAAATTATTTGCTTTCAGGTATTATTGAGGC...   \n527914  cagGTAATGTAAGAAGGAGTAAAATTATTTGCTTTCAGGTATTATT...   \n527915  gggATTATGTTTTCCTTGATGTTAAGTGAATTAGCCAAACATAGAC...   \n527916  cgcCCTTGGTTTTCCTTACACCTTAGCCTTTGGCTCCTTTGACCAC...   \n527917  cctGCTTATCCAAATTCACCATTTCAAGTCGCCACTGGATATCAGT...   \n\n        hg38 - Acceptor splice site  hg38 - Donor splice site  5_MaxEntScan  \\\n0                                GT                        AG          9.09   \n1                                GT                        AG          7.66   \n2                                CA                        GA        -13.87   \n3                                GT                        AG          7.15   \n4                                GC                        AG          1.14   \n...                             ...                       ...           ...   \n527913                           GT                        GC          5.55   \n527914                           GT                        AG          9.43   \n527915                           AT                        AG        -14.46   \n527916                           CC                        AG        -27.63   \n527917                           GC                        CT        -25.04   \n\n        3_MaxEntScan  \n0              11.90  \n1               3.89  \n2             -31.99  \n3               7.61  \n4               3.89  \n...              ...  \n527913         -9.69  \n527914         10.01  \n527915          7.85  \n527916          4.64  \n527917        -15.60  \n\n[527918 rows x 42 columns]",
      "text/html": "<div>\n<style scoped>\n    .dataframe tbody tr th:only-of-type {\n        vertical-align: middle;\n    }\n\n    .dataframe tbody tr th {\n        vertical-align: top;\n    }\n\n    .dataframe thead th {\n        text-align: right;\n    }\n</style>\n<table border=\"1\" class=\"dataframe\">\n  <thead>\n    <tr style=\"text-align: right;\">\n      <th></th>\n      <th>chr</th>\n      <th>start</th>\n      <th>end</th>\n      <th>strand</th>\n      <th>class</th>\n      <th>ss_antisense_start_site</th>\n      <th>ss_antisense_end_site</th>\n      <th>GTExv2</th>\n      <th>TCGAv2</th>\n      <th>SRAv3h</th>\n      <th>...</th>\n      <th>repeat_features_end_site:RNA repeats</th>\n      <th>repeat_features_end_site:Satellite repeats</th>\n      <th>repeat_features_end_site:Tandem repeats</th>\n      <th>repeat_features_end_site:Low complexity regions</th>\n      <th>sequence</th>\n      <th>sequence_maxentscan</th>\n      <th>hg38 - Acceptor splice site</th>\n      <th>hg38 - Donor splice site</th>\n      <th>5_MaxEntScan</th>\n      <th>3_MaxEntScan</th>\n    </tr>\n  </thead>\n  <tbody>\n    <tr>\n      <th>0</th>\n      <td>chr1</td>\n      <td>12227</td>\n      <td>12612</td>\n      <td>+</td>\n      <td>1</td>\n      <td>False</td>\n      <td>False</td>\n      <td>1122:3199</td>\n      <td>583:1460</td>\n      <td>9374:54492</td>\n      <td>...</td>\n      <td>0</td>\n      <td>0</td>\n      <td>0</td>\n      <td>0</td>\n      <td>GTAAGTAGTGCTTGTGCTCATCTCCTTGGCTGTGATACGTGGCCGG...</td>\n      <td>ccaGTAAGTAGTGCTTGTGCTCATCTCCTTGGCTGTGATACGTGGC...</td>\n      <td>GT</td>\n      <td>AG</td>\n      <td>9.09</td>\n      <td>11.90</td>\n    </tr>\n    <tr>\n      <th>1</th>\n      <td>chr1</td>\n      <td>12721</td>\n      <td>13220</td>\n      <td>+</td>\n      <td>1</td>\n      <td>False</td>\n      <td>False</td>\n      <td>1791:3198</td>\n      <td>783:1104</td>\n      <td>14048:56719</td>\n      <td>...</td>\n      <td>0</td>\n      <td>0</td>\n      <td>0</td>\n      <td>0</td>\n      <td>GTGAGAGGAGAGTAGACAGTGAGTGGGAGTGGCGTCGCCCCTAGGG...</td>\n      <td>gagGTGAGAGGAGAGTAGACAGTGAGTGGGAGTGGCGTCGCCCCTA...</td>\n      <td>GT</td>\n      <td>AG</td>\n      <td>7.66</td>\n      <td>3.89</td>\n    </tr>\n    <tr>\n      <th>2</th>\n      <td>chr1</td>\n      <td>12057</td>\n      <td>12178</td>\n      <td>+</td>\n      <td>1</td>\n      <td>False</td>\n      <td>False</td>\n      <td>NaN</td>\n      <td>NaN</td>\n      <td>NaN</td>\n      <td>...</td>\n      <td>0</td>\n      <td>0</td>\n      <td>0</td>\n      <td>0</td>\n      <td>CACTGGAGTGGAGTTTTCCTGTGGAGAGGAGCCATGCCTAGAGTGG...</td>\n      <td>gagCACTGGAGTGGAGTTTTCCTGTGGAGAGGAGCCATGCCTAGAG...</td>\n      <td>CA</td>\n      <td>GA</td>\n      <td>-13.87</td>\n      <td>-31.99</td>\n    </tr>\n    <tr>\n      <th>3</th>\n      <td>chr1</td>\n      <td>12697</td>\n      <td>12974</td>\n      <td>+</td>\n      <td>1</td>\n      <td>False</td>\n      <td>False</td>\n      <td>1:1</td>\n      <td>1:1</td>\n      <td>15:19</td>\n      <td>...</td>\n      <td>0</td>\n      <td>0</td>\n      <td>0</td>\n      <td>0</td>\n      <td>GTGAGTGTCCCCAGTGTTGCAGAGGTGAGAGGAGAGTAGACAGTGA...</td>\n      <td>cttGTGAGTGTCCCCAGTGTTGCAGAGGTGAGAGGAGAGTAGACAG...</td>\n      <td>GT</td>\n      <td>AG</td>\n      <td>7.15</td>\n      <td>7.61</td>\n    </tr>\n    <tr>\n      <th>4</th>\n      <td>chr1</td>\n      <td>13052</td>\n      <td>13220</td>\n      <td>+</td>\n      <td>1</td>\n      <td>False</td>\n      <td>False</td>\n      <td>22:24</td>\n      <td>17:18</td>\n      <td>433:484</td>\n      <td>...</td>\n      <td>0</td>\n      <td>0</td>\n      <td>0</td>\n      <td>0</td>\n      <td>GCAAGCCTGGCTGCCTCCAGCTGGGTCGACAGACAGGGGCTGGAGA...</td>\n      <td>tagGCAAGCCTGGCTGCCTCCAGCTGGGTCGACAGACAGGGGCTGG...</td>\n      <td>GC</td>\n      <td>AG</td>\n      <td>1.14</td>\n      <td>3.89</td>\n    </tr>\n    <tr>\n      <th>...</th>\n      <td>...</td>\n      <td>...</td>\n      <td>...</td>\n      <td>...</td>\n      <td>...</td>\n      <td>...</td>\n      <td>...</td>\n      <td>...</td>\n      <td>...</td>\n      <td>...</td>\n      <td>...</td>\n      <td>...</td>\n      <td>...</td>\n      <td>...</td>\n      <td>...</td>\n      <td>...</td>\n      <td>...</td>\n      <td>...</td>\n      <td>...</td>\n      <td>...</td>\n      <td>...</td>\n    </tr>\n    <tr>\n      <th>527913</th>\n      <td>chrY</td>\n      <td>24883840</td>\n      <td>24886132</td>\n      <td>+</td>\n      <td>0</td>\n      <td>False</td>\n      <td>False</td>\n      <td>NaN</td>\n      <td>NaN</td>\n      <td>NaN</td>\n      <td>...</td>\n      <td>0</td>\n      <td>0</td>\n      <td>0</td>\n      <td>0</td>\n      <td>GTAAGAAGGAGTAAAATTATTTGCTTTCAGGTATTATTGAGGCCTT...</td>\n      <td>aatGTAAGAAGGAGTAAAATTATTTGCTTTCAGGTATTATTGAGGC...</td>\n      <td>GT</td>\n      <td>GC</td>\n      <td>5.55</td>\n      <td>-9.69</td>\n    </tr>\n    <tr>\n      <th>527914</th>\n      <td>chrY</td>\n      <td>24888605</td>\n      <td>24889352</td>\n      <td>+</td>\n      <td>0</td>\n      <td>False</td>\n      <td>False</td>\n      <td>NaN</td>\n      <td>NaN</td>\n      <td>NaN</td>\n      <td>...</td>\n      <td>0</td>\n      <td>0</td>\n      <td>0</td>\n      <td>0</td>\n      <td>GTAATGTAAGAAGGAGTAAAATTATTTGCTTTCAGGTATTATTGAG...</td>\n      <td>cagGTAATGTAAGAAGGAGTAAAATTATTTGCTTTCAGGTATTATT...</td>\n      <td>GT</td>\n      <td>AG</td>\n      <td>9.43</td>\n      <td>10.01</td>\n    </tr>\n    <tr>\n      <th>527915</th>\n      <td>chrY</td>\n      <td>24889386</td>\n      <td>24901111</td>\n      <td>+</td>\n      <td>0</td>\n      <td>False</td>\n      <td>False</td>\n      <td>NaN</td>\n      <td>NaN</td>\n      <td>NaN</td>\n      <td>...</td>\n      <td>0</td>\n      <td>0</td>\n      <td>0</td>\n      <td>0</td>\n      <td>ATTATGTTTTCCTTGATGTTAAGTGAATTAGCCAAACATAGACTTC...</td>\n      <td>gggATTATGTTTTCCTTGATGTTAAGTGAATTAGCCAAACATAGAC...</td>\n      <td>AT</td>\n      <td>AG</td>\n      <td>-14.46</td>\n      <td>7.85</td>\n    </tr>\n    <tr>\n      <th>527916</th>\n      <td>chrY</td>\n      <td>24833970</td>\n      <td>24840730</td>\n      <td>+</td>\n      <td>0</td>\n      <td>False</td>\n      <td>False</td>\n      <td>NaN</td>\n      <td>NaN</td>\n      <td>NaN</td>\n      <td>...</td>\n      <td>0</td>\n      <td>0</td>\n      <td>0</td>\n      <td>0</td>\n      <td>CCTTGGTTTTCCTTACACCTTAGCCTTTGGCTCCTTTGACCACTCG...</td>\n      <td>cgcCCTTGGTTTTCCTTACACCTTAGCCTTTGGCTCCTTTGACCAC...</td>\n      <td>CC</td>\n      <td>AG</td>\n      <td>-27.63</td>\n      <td>4.64</td>\n    </tr>\n    <tr>\n      <th>527917</th>\n      <td>chrY</td>\n      <td>24871607</td>\n      <td>24895696</td>\n      <td>+</td>\n      <td>0</td>\n      <td>False</td>\n      <td>False</td>\n      <td>NaN</td>\n      <td>NaN</td>\n      <td>NaN</td>\n      <td>...</td>\n      <td>0</td>\n      <td>0</td>\n      <td>0</td>\n      <td>0</td>\n      <td>GCTTATCCAAATTCACCATTTCAAGTCGCCACTGGATATCAGTTCC...</td>\n      <td>cctGCTTATCCAAATTCACCATTTCAAGTCGCCACTGGATATCAGT...</td>\n      <td>GC</td>\n      <td>CT</td>\n      <td>-25.04</td>\n      <td>-15.60</td>\n    </tr>\n  </tbody>\n</table>\n<p>527918 rows × 42 columns</p>\n</div>"
     },
     "execution_count": 4,
     "metadata": {},
     "output_type": "execute_result"
    }
   ],
   "source": [
    "df[\"5_MaxEntScan\"] = df_maxentscan_score[\"5_MaxEntScan\"]\n",
    "df[\"3_MaxEntScan\"] = df_maxentscan_score[\"3_MaxEntScan\"]\n",
    "df"
   ],
   "metadata": {
    "collapsed": false
   }
  },
  {
   "cell_type": "code",
   "execution_count": 5,
   "outputs": [],
   "source": [
    "del df_maxentscan_score"
   ],
   "metadata": {
    "collapsed": false
   }
  },
  {
   "cell_type": "code",
   "execution_count": 6,
   "outputs": [
    {
     "data": {
      "text/plain": "         chr     start       end strand  class  ss_antisense_start_site  \\\n0       chr1     12227     12612      +      1                    False   \n1       chr1     12721     13220      +      1                    False   \n2       chr1     12057     12178      +      1                    False   \n3       chr1     12697     12974      +      1                    False   \n4       chr1     13052     13220      +      1                    False   \n...      ...       ...       ...    ...    ...                      ...   \n527913  chrY  24883840  24886132      +      0                    False   \n527914  chrY  24888605  24889352      +      0                    False   \n527915  chrY  24889386  24901111      +      0                    False   \n527916  chrY  24833970  24840730      +      0                    False   \n527917  chrY  24871607  24895696      +      0                    False   \n\n        ss_antisense_end_site RC3-Splice_site  RC3-Score  \\\n0                       False           GT:AG      59151   \n1                       False           GT:AG      61021   \n2                       False             NaN         -1   \n3                       False           GT:AG         21   \n4                       False           GC:AG        526   \n...                       ...             ...        ...   \n527913                  False             NaN         -1   \n527914                  False             NaN         -1   \n527915                  False             NaN         -1   \n527916                  False             NaN         -1   \n527917                  False             NaN         -1   \n\n        repeat_features_start_site:Centromere  ...  \\\n0                                           0  ...   \n1                                           0  ...   \n2                                           0  ...   \n3                                           0  ...   \n4                                           0  ...   \n...                                       ...  ...   \n527913                                      0  ...   \n527914                                      0  ...   \n527915                                      0  ...   \n527916                                      0  ...   \n527917                                      0  ...   \n\n        repeat_features_end_site:RNA repeats  \\\n0                                          0   \n1                                          0   \n2                                          0   \n3                                          0   \n4                                          0   \n...                                      ...   \n527913                                     0   \n527914                                     0   \n527915                                     0   \n527916                                     0   \n527917                                     0   \n\n        repeat_features_end_site:Satellite repeats  \\\n0                                                0   \n1                                                0   \n2                                                0   \n3                                                0   \n4                                                0   \n...                                            ...   \n527913                                           0   \n527914                                           0   \n527915                                           0   \n527916                                           0   \n527917                                           0   \n\n        repeat_features_end_site:Tandem repeats  \\\n0                                             0   \n1                                             0   \n2                                             0   \n3                                             0   \n4                                             0   \n...                                         ...   \n527913                                        0   \n527914                                        0   \n527915                                        0   \n527916                                        0   \n527917                                        0   \n\n        repeat_features_end_site:Low complexity regions  \\\n0                                                     0   \n1                                                     0   \n2                                                     0   \n3                                                     0   \n4                                                     0   \n...                                                 ...   \n527913                                                0   \n527914                                                0   \n527915                                                0   \n527916                                                0   \n527917                                                0   \n\n                                                 sequence  \\\n0       GTAAGTAGTGCTTGTGCTCATCTCCTTGGCTGTGATACGTGGCCGG...   \n1       GTGAGAGGAGAGTAGACAGTGAGTGGGAGTGGCGTCGCCCCTAGGG...   \n2       CACTGGAGTGGAGTTTTCCTGTGGAGAGGAGCCATGCCTAGAGTGG...   \n3       GTGAGTGTCCCCAGTGTTGCAGAGGTGAGAGGAGAGTAGACAGTGA...   \n4       GCAAGCCTGGCTGCCTCCAGCTGGGTCGACAGACAGGGGCTGGAGA...   \n...                                                   ...   \n527913  GTAAGAAGGAGTAAAATTATTTGCTTTCAGGTATTATTGAGGCCTT...   \n527914  GTAATGTAAGAAGGAGTAAAATTATTTGCTTTCAGGTATTATTGAG...   \n527915  ATTATGTTTTCCTTGATGTTAAGTGAATTAGCCAAACATAGACTTC...   \n527916  CCTTGGTTTTCCTTACACCTTAGCCTTTGGCTCCTTTGACCACTCG...   \n527917  GCTTATCCAAATTCACCATTTCAAGTCGCCACTGGATATCAGTTCC...   \n\n                                      sequence_maxentscan  \\\n0       ccaGTAAGTAGTGCTTGTGCTCATCTCCTTGGCTGTGATACGTGGC...   \n1       gagGTGAGAGGAGAGTAGACAGTGAGTGGGAGTGGCGTCGCCCCTA...   \n2       gagCACTGGAGTGGAGTTTTCCTGTGGAGAGGAGCCATGCCTAGAG...   \n3       cttGTGAGTGTCCCCAGTGTTGCAGAGGTGAGAGGAGAGTAGACAG...   \n4       tagGCAAGCCTGGCTGCCTCCAGCTGGGTCGACAGACAGGGGCTGG...   \n...                                                   ...   \n527913  aatGTAAGAAGGAGTAAAATTATTTGCTTTCAGGTATTATTGAGGC...   \n527914  cagGTAATGTAAGAAGGAGTAAAATTATTTGCTTTCAGGTATTATT...   \n527915  gggATTATGTTTTCCTTGATGTTAAGTGAATTAGCCAAACATAGAC...   \n527916  cgcCCTTGGTTTTCCTTACACCTTAGCCTTTGGCTCCTTTGACCAC...   \n527917  cctGCTTATCCAAATTCACCATTTCAAGTCGCCACTGGATATCAGT...   \n\n        hg38 - Acceptor splice site  hg38 - Donor splice site  5_MaxEntScan  \\\n0                                GT                        AG          9.09   \n1                                GT                        AG          7.66   \n2                                CA                        GA        -13.87   \n3                                GT                        AG          7.15   \n4                                GC                        AG          1.14   \n...                             ...                       ...           ...   \n527913                           GT                        GC          5.55   \n527914                           GT                        AG          9.43   \n527915                           AT                        AG        -14.46   \n527916                           CC                        AG        -27.63   \n527917                           GC                        CT        -25.04   \n\n        3_MaxEntScan  \n0              11.90  \n1               3.89  \n2             -31.99  \n3               7.61  \n4               3.89  \n...              ...  \n527913         -9.69  \n527914         10.01  \n527915          7.85  \n527916          4.64  \n527917        -15.60  \n\n[527918 rows x 39 columns]",
      "text/html": "<div>\n<style scoped>\n    .dataframe tbody tr th:only-of-type {\n        vertical-align: middle;\n    }\n\n    .dataframe tbody tr th {\n        vertical-align: top;\n    }\n\n    .dataframe thead th {\n        text-align: right;\n    }\n</style>\n<table border=\"1\" class=\"dataframe\">\n  <thead>\n    <tr style=\"text-align: right;\">\n      <th></th>\n      <th>chr</th>\n      <th>start</th>\n      <th>end</th>\n      <th>strand</th>\n      <th>class</th>\n      <th>ss_antisense_start_site</th>\n      <th>ss_antisense_end_site</th>\n      <th>RC3-Splice_site</th>\n      <th>RC3-Score</th>\n      <th>repeat_features_start_site:Centromere</th>\n      <th>...</th>\n      <th>repeat_features_end_site:RNA repeats</th>\n      <th>repeat_features_end_site:Satellite repeats</th>\n      <th>repeat_features_end_site:Tandem repeats</th>\n      <th>repeat_features_end_site:Low complexity regions</th>\n      <th>sequence</th>\n      <th>sequence_maxentscan</th>\n      <th>hg38 - Acceptor splice site</th>\n      <th>hg38 - Donor splice site</th>\n      <th>5_MaxEntScan</th>\n      <th>3_MaxEntScan</th>\n    </tr>\n  </thead>\n  <tbody>\n    <tr>\n      <th>0</th>\n      <td>chr1</td>\n      <td>12227</td>\n      <td>12612</td>\n      <td>+</td>\n      <td>1</td>\n      <td>False</td>\n      <td>False</td>\n      <td>GT:AG</td>\n      <td>59151</td>\n      <td>0</td>\n      <td>...</td>\n      <td>0</td>\n      <td>0</td>\n      <td>0</td>\n      <td>0</td>\n      <td>GTAAGTAGTGCTTGTGCTCATCTCCTTGGCTGTGATACGTGGCCGG...</td>\n      <td>ccaGTAAGTAGTGCTTGTGCTCATCTCCTTGGCTGTGATACGTGGC...</td>\n      <td>GT</td>\n      <td>AG</td>\n      <td>9.09</td>\n      <td>11.90</td>\n    </tr>\n    <tr>\n      <th>1</th>\n      <td>chr1</td>\n      <td>12721</td>\n      <td>13220</td>\n      <td>+</td>\n      <td>1</td>\n      <td>False</td>\n      <td>False</td>\n      <td>GT:AG</td>\n      <td>61021</td>\n      <td>0</td>\n      <td>...</td>\n      <td>0</td>\n      <td>0</td>\n      <td>0</td>\n      <td>0</td>\n      <td>GTGAGAGGAGAGTAGACAGTGAGTGGGAGTGGCGTCGCCCCTAGGG...</td>\n      <td>gagGTGAGAGGAGAGTAGACAGTGAGTGGGAGTGGCGTCGCCCCTA...</td>\n      <td>GT</td>\n      <td>AG</td>\n      <td>7.66</td>\n      <td>3.89</td>\n    </tr>\n    <tr>\n      <th>2</th>\n      <td>chr1</td>\n      <td>12057</td>\n      <td>12178</td>\n      <td>+</td>\n      <td>1</td>\n      <td>False</td>\n      <td>False</td>\n      <td>NaN</td>\n      <td>-1</td>\n      <td>0</td>\n      <td>...</td>\n      <td>0</td>\n      <td>0</td>\n      <td>0</td>\n      <td>0</td>\n      <td>CACTGGAGTGGAGTTTTCCTGTGGAGAGGAGCCATGCCTAGAGTGG...</td>\n      <td>gagCACTGGAGTGGAGTTTTCCTGTGGAGAGGAGCCATGCCTAGAG...</td>\n      <td>CA</td>\n      <td>GA</td>\n      <td>-13.87</td>\n      <td>-31.99</td>\n    </tr>\n    <tr>\n      <th>3</th>\n      <td>chr1</td>\n      <td>12697</td>\n      <td>12974</td>\n      <td>+</td>\n      <td>1</td>\n      <td>False</td>\n      <td>False</td>\n      <td>GT:AG</td>\n      <td>21</td>\n      <td>0</td>\n      <td>...</td>\n      <td>0</td>\n      <td>0</td>\n      <td>0</td>\n      <td>0</td>\n      <td>GTGAGTGTCCCCAGTGTTGCAGAGGTGAGAGGAGAGTAGACAGTGA...</td>\n      <td>cttGTGAGTGTCCCCAGTGTTGCAGAGGTGAGAGGAGAGTAGACAG...</td>\n      <td>GT</td>\n      <td>AG</td>\n      <td>7.15</td>\n      <td>7.61</td>\n    </tr>\n    <tr>\n      <th>4</th>\n      <td>chr1</td>\n      <td>13052</td>\n      <td>13220</td>\n      <td>+</td>\n      <td>1</td>\n      <td>False</td>\n      <td>False</td>\n      <td>GC:AG</td>\n      <td>526</td>\n      <td>0</td>\n      <td>...</td>\n      <td>0</td>\n      <td>0</td>\n      <td>0</td>\n      <td>0</td>\n      <td>GCAAGCCTGGCTGCCTCCAGCTGGGTCGACAGACAGGGGCTGGAGA...</td>\n      <td>tagGCAAGCCTGGCTGCCTCCAGCTGGGTCGACAGACAGGGGCTGG...</td>\n      <td>GC</td>\n      <td>AG</td>\n      <td>1.14</td>\n      <td>3.89</td>\n    </tr>\n    <tr>\n      <th>...</th>\n      <td>...</td>\n      <td>...</td>\n      <td>...</td>\n      <td>...</td>\n      <td>...</td>\n      <td>...</td>\n      <td>...</td>\n      <td>...</td>\n      <td>...</td>\n      <td>...</td>\n      <td>...</td>\n      <td>...</td>\n      <td>...</td>\n      <td>...</td>\n      <td>...</td>\n      <td>...</td>\n      <td>...</td>\n      <td>...</td>\n      <td>...</td>\n      <td>...</td>\n      <td>...</td>\n    </tr>\n    <tr>\n      <th>527913</th>\n      <td>chrY</td>\n      <td>24883840</td>\n      <td>24886132</td>\n      <td>+</td>\n      <td>0</td>\n      <td>False</td>\n      <td>False</td>\n      <td>NaN</td>\n      <td>-1</td>\n      <td>0</td>\n      <td>...</td>\n      <td>0</td>\n      <td>0</td>\n      <td>0</td>\n      <td>0</td>\n      <td>GTAAGAAGGAGTAAAATTATTTGCTTTCAGGTATTATTGAGGCCTT...</td>\n      <td>aatGTAAGAAGGAGTAAAATTATTTGCTTTCAGGTATTATTGAGGC...</td>\n      <td>GT</td>\n      <td>GC</td>\n      <td>5.55</td>\n      <td>-9.69</td>\n    </tr>\n    <tr>\n      <th>527914</th>\n      <td>chrY</td>\n      <td>24888605</td>\n      <td>24889352</td>\n      <td>+</td>\n      <td>0</td>\n      <td>False</td>\n      <td>False</td>\n      <td>NaN</td>\n      <td>-1</td>\n      <td>0</td>\n      <td>...</td>\n      <td>0</td>\n      <td>0</td>\n      <td>0</td>\n      <td>0</td>\n      <td>GTAATGTAAGAAGGAGTAAAATTATTTGCTTTCAGGTATTATTGAG...</td>\n      <td>cagGTAATGTAAGAAGGAGTAAAATTATTTGCTTTCAGGTATTATT...</td>\n      <td>GT</td>\n      <td>AG</td>\n      <td>9.43</td>\n      <td>10.01</td>\n    </tr>\n    <tr>\n      <th>527915</th>\n      <td>chrY</td>\n      <td>24889386</td>\n      <td>24901111</td>\n      <td>+</td>\n      <td>0</td>\n      <td>False</td>\n      <td>False</td>\n      <td>NaN</td>\n      <td>-1</td>\n      <td>0</td>\n      <td>...</td>\n      <td>0</td>\n      <td>0</td>\n      <td>0</td>\n      <td>0</td>\n      <td>ATTATGTTTTCCTTGATGTTAAGTGAATTAGCCAAACATAGACTTC...</td>\n      <td>gggATTATGTTTTCCTTGATGTTAAGTGAATTAGCCAAACATAGAC...</td>\n      <td>AT</td>\n      <td>AG</td>\n      <td>-14.46</td>\n      <td>7.85</td>\n    </tr>\n    <tr>\n      <th>527916</th>\n      <td>chrY</td>\n      <td>24833970</td>\n      <td>24840730</td>\n      <td>+</td>\n      <td>0</td>\n      <td>False</td>\n      <td>False</td>\n      <td>NaN</td>\n      <td>-1</td>\n      <td>0</td>\n      <td>...</td>\n      <td>0</td>\n      <td>0</td>\n      <td>0</td>\n      <td>0</td>\n      <td>CCTTGGTTTTCCTTACACCTTAGCCTTTGGCTCCTTTGACCACTCG...</td>\n      <td>cgcCCTTGGTTTTCCTTACACCTTAGCCTTTGGCTCCTTTGACCAC...</td>\n      <td>CC</td>\n      <td>AG</td>\n      <td>-27.63</td>\n      <td>4.64</td>\n    </tr>\n    <tr>\n      <th>527917</th>\n      <td>chrY</td>\n      <td>24871607</td>\n      <td>24895696</td>\n      <td>+</td>\n      <td>0</td>\n      <td>False</td>\n      <td>False</td>\n      <td>NaN</td>\n      <td>-1</td>\n      <td>0</td>\n      <td>...</td>\n      <td>0</td>\n      <td>0</td>\n      <td>0</td>\n      <td>0</td>\n      <td>GCTTATCCAAATTCACCATTTCAAGTCGCCACTGGATATCAGTTCC...</td>\n      <td>cctGCTTATCCAAATTCACCATTTCAAGTCGCCACTGGATATCAGT...</td>\n      <td>GC</td>\n      <td>CT</td>\n      <td>-25.04</td>\n      <td>-15.60</td>\n    </tr>\n  </tbody>\n</table>\n<p>527918 rows × 39 columns</p>\n</div>"
     },
     "execution_count": 6,
     "metadata": {},
     "output_type": "execute_result"
    }
   ],
   "source": [
    "df = df.drop(columns=[\"GTExv2\", \"TCGAv2\", \"SRAv3h\",], axis=1)\n",
    "df"
   ],
   "metadata": {
    "collapsed": false
   }
  },
  {
   "cell_type": "code",
   "execution_count": 7,
   "outputs": [
    {
     "data": {
      "text/plain": "       chr     start       end strand  class  ss_antisense_start_site  \\\n2850  chr1  11022177  11023155      +      1                     True   \n\n      ss_antisense_end_site RC3-Splice_site  RC3-Score  \\\n2850                  False           AT:AC      25831   \n\n      repeat_features_start_site:Centromere  ...  \\\n2850                                      0  ...   \n\n      repeat_features_end_site:RNA repeats  \\\n2850                                     0   \n\n      repeat_features_end_site:Satellite repeats  \\\n2850                                           0   \n\n      repeat_features_end_site:Tandem repeats  \\\n2850                                        0   \n\n      repeat_features_end_site:Low complexity regions  \\\n2850                                                0   \n\n                                               sequence  \\\n2850  ATATCCAATGCCGAACCTAAGCACAATAGCAATAGACAGTTAGAAA...   \n\n                                    sequence_maxentscan  \\\n2850  catATATCCAATGCCGAACCTAAGCACAATAGCAATAGACAGTTAG...   \n\n      hg38 - Acceptor splice site  hg38 - Donor splice site  5_MaxEntScan  \\\n2850                           AT                        AC         -6.81   \n\n      3_MaxEntScan  \n2850           0.7  \n\n[1 rows x 39 columns]",
      "text/html": "<div>\n<style scoped>\n    .dataframe tbody tr th:only-of-type {\n        vertical-align: middle;\n    }\n\n    .dataframe tbody tr th {\n        vertical-align: top;\n    }\n\n    .dataframe thead th {\n        text-align: right;\n    }\n</style>\n<table border=\"1\" class=\"dataframe\">\n  <thead>\n    <tr style=\"text-align: right;\">\n      <th></th>\n      <th>chr</th>\n      <th>start</th>\n      <th>end</th>\n      <th>strand</th>\n      <th>class</th>\n      <th>ss_antisense_start_site</th>\n      <th>ss_antisense_end_site</th>\n      <th>RC3-Splice_site</th>\n      <th>RC3-Score</th>\n      <th>repeat_features_start_site:Centromere</th>\n      <th>...</th>\n      <th>repeat_features_end_site:RNA repeats</th>\n      <th>repeat_features_end_site:Satellite repeats</th>\n      <th>repeat_features_end_site:Tandem repeats</th>\n      <th>repeat_features_end_site:Low complexity regions</th>\n      <th>sequence</th>\n      <th>sequence_maxentscan</th>\n      <th>hg38 - Acceptor splice site</th>\n      <th>hg38 - Donor splice site</th>\n      <th>5_MaxEntScan</th>\n      <th>3_MaxEntScan</th>\n    </tr>\n  </thead>\n  <tbody>\n    <tr>\n      <th>2850</th>\n      <td>chr1</td>\n      <td>11022177</td>\n      <td>11023155</td>\n      <td>+</td>\n      <td>1</td>\n      <td>True</td>\n      <td>False</td>\n      <td>AT:AC</td>\n      <td>25831</td>\n      <td>0</td>\n      <td>...</td>\n      <td>0</td>\n      <td>0</td>\n      <td>0</td>\n      <td>0</td>\n      <td>ATATCCAATGCCGAACCTAAGCACAATAGCAATAGACAGTTAGAAA...</td>\n      <td>catATATCCAATGCCGAACCTAAGCACAATAGCAATAGACAGTTAG...</td>\n      <td>AT</td>\n      <td>AC</td>\n      <td>-6.81</td>\n      <td>0.7</td>\n    </tr>\n  </tbody>\n</table>\n<p>1 rows × 39 columns</p>\n</div>"
     },
     "execution_count": 7,
     "metadata": {},
     "output_type": "execute_result"
    }
   ],
   "source": [
    "df[(df[\"hg38 - Acceptor splice site\"] == \"AT\") & (df[\"hg38 - Donor splice site\"] == \"AC\")].head(1)"
   ],
   "metadata": {
    "collapsed": false
   }
  },
  {
   "cell_type": "code",
   "execution_count": 8,
   "outputs": [],
   "source": [
    "df[\"splice-site\"] = df[\"hg38 - Acceptor splice site\"] + \":\" + df[\"hg38 - Donor splice site\"]\n",
    "\n",
    "\n",
    "le = preprocessing.LabelEncoder()\n",
    "le.fit(df[\"splice-site\"])\n",
    "df[\"splice-site\"] = le.transform(df[\"splice-site\"])\n"
   ],
   "metadata": {
    "collapsed": false
   }
  },
  {
   "cell_type": "code",
   "execution_count": 9,
   "outputs": [],
   "source": [
    "# df = df[(df[\"splice-site\"] == 182) | (df[\"splice-site\"] == 148) | (df[\"splice-site\"] == 49)]\n",
    "# df"
   ],
   "metadata": {
    "collapsed": false
   }
  },
  {
   "cell_type": "code",
   "execution_count": 10,
   "outputs": [],
   "source": [
    "# Extra feature engineering\n",
    "# TODO should be integrated back into the previous steps\n",
    "df[\"intron_length\"] = df[\"sequence\"].apply(len)"
   ],
   "metadata": {
    "collapsed": false
   }
  },
  {
   "cell_type": "code",
   "execution_count": 11,
   "outputs": [
    {
     "data": {
      "text/plain": "         chr     start       end strand  class  ss_antisense_start_site  \\\n0       chr1     12227     12612      +      1                        0   \n1       chr1     12721     13220      +      1                        0   \n2       chr1     12057     12178      +      1                        0   \n3       chr1     12697     12974      +      1                        0   \n4       chr1     13052     13220      +      1                        0   \n...      ...       ...       ...    ...    ...                      ...   \n527913  chrY  24883840  24886132      +      0                        0   \n527914  chrY  24888605  24889352      +      0                        0   \n527915  chrY  24889386  24901111      +      0                        0   \n527916  chrY  24833970  24840730      +      0                        0   \n527917  chrY  24871607  24895696      +      0                        0   \n\n        ss_antisense_end_site RC3-Splice_site  RC3-Score  \\\n0                           0           GT:AG      59151   \n1                           0           GT:AG      61021   \n2                           0             NaN         -1   \n3                           0           GT:AG         21   \n4                           0           GC:AG        526   \n...                       ...             ...        ...   \n527913                      0             NaN         -1   \n527914                      0             NaN         -1   \n527915                      0             NaN         -1   \n527916                      0             NaN         -1   \n527917                      0             NaN         -1   \n\n        repeat_features_start_site:Centromere  ...  \\\n0                                           0  ...   \n1                                           0  ...   \n2                                           0  ...   \n3                                           0  ...   \n4                                           0  ...   \n...                                       ...  ...   \n527913                                      0  ...   \n527914                                      0  ...   \n527915                                      0  ...   \n527916                                      0  ...   \n527917                                      0  ...   \n\n        repeat_features_end_site:Tandem repeats  \\\n0                                             0   \n1                                             0   \n2                                             0   \n3                                             0   \n4                                             0   \n...                                         ...   \n527913                                        0   \n527914                                        0   \n527915                                        0   \n527916                                        0   \n527917                                        0   \n\n        repeat_features_end_site:Low complexity regions  \\\n0                                                     0   \n1                                                     0   \n2                                                     0   \n3                                                     0   \n4                                                     0   \n...                                                 ...   \n527913                                                0   \n527914                                                0   \n527915                                                0   \n527916                                                0   \n527917                                                0   \n\n                                                 sequence  \\\n0       GTAAGTAGTGCTTGTGCTCATCTCCTTGGCTGTGATACGTGGCCGG...   \n1       GTGAGAGGAGAGTAGACAGTGAGTGGGAGTGGCGTCGCCCCTAGGG...   \n2       CACTGGAGTGGAGTTTTCCTGTGGAGAGGAGCCATGCCTAGAGTGG...   \n3       GTGAGTGTCCCCAGTGTTGCAGAGGTGAGAGGAGAGTAGACAGTGA...   \n4       GCAAGCCTGGCTGCCTCCAGCTGGGTCGACAGACAGGGGCTGGAGA...   \n...                                                   ...   \n527913  GTAAGAAGGAGTAAAATTATTTGCTTTCAGGTATTATTGAGGCCTT...   \n527914  GTAATGTAAGAAGGAGTAAAATTATTTGCTTTCAGGTATTATTGAG...   \n527915  ATTATGTTTTCCTTGATGTTAAGTGAATTAGCCAAACATAGACTTC...   \n527916  CCTTGGTTTTCCTTACACCTTAGCCTTTGGCTCCTTTGACCACTCG...   \n527917  GCTTATCCAAATTCACCATTTCAAGTCGCCACTGGATATCAGTTCC...   \n\n                                      sequence_maxentscan  \\\n0       ccaGTAAGTAGTGCTTGTGCTCATCTCCTTGGCTGTGATACGTGGC...   \n1       gagGTGAGAGGAGAGTAGACAGTGAGTGGGAGTGGCGTCGCCCCTA...   \n2       gagCACTGGAGTGGAGTTTTCCTGTGGAGAGGAGCCATGCCTAGAG...   \n3       cttGTGAGTGTCCCCAGTGTTGCAGAGGTGAGAGGAGAGTAGACAG...   \n4       tagGCAAGCCTGGCTGCCTCCAGCTGGGTCGACAGACAGGGGCTGG...   \n...                                                   ...   \n527913  aatGTAAGAAGGAGTAAAATTATTTGCTTTCAGGTATTATTGAGGC...   \n527914  cagGTAATGTAAGAAGGAGTAAAATTATTTGCTTTCAGGTATTATT...   \n527915  gggATTATGTTTTCCTTGATGTTAAGTGAATTAGCCAAACATAGAC...   \n527916  cgcCCTTGGTTTTCCTTACACCTTAGCCTTTGGCTCCTTTGACCAC...   \n527917  cctGCTTATCCAAATTCACCATTTCAAGTCGCCACTGGATATCAGT...   \n\n        hg38 - Acceptor splice site  hg38 - Donor splice site  5_MaxEntScan  \\\n0                                GT                        AG          9.09   \n1                                GT                        AG          7.66   \n2                                CA                        GA        -13.87   \n3                                GT                        AG          7.15   \n4                                GC                        AG          1.14   \n...                             ...                       ...           ...   \n527913                           GT                        GC          5.55   \n527914                           GT                        AG          9.43   \n527915                           AT                        AG        -14.46   \n527916                           CC                        AG        -27.63   \n527917                           GC                        CT        -25.04   \n\n        3_MaxEntScan  splice-site  intron_length  \n0              11.90          182            385  \n1               3.89          182            499  \n2             -31.99           73            121  \n3               7.61          182            277  \n4               3.89          148            168  \n...              ...          ...            ...  \n527913         -9.69          189           2292  \n527914         10.01          182            747  \n527915          7.85           50          11725  \n527916          4.64           83           6760  \n527917        -15.60          153          24089  \n\n[527918 rows x 41 columns]",
      "text/html": "<div>\n<style scoped>\n    .dataframe tbody tr th:only-of-type {\n        vertical-align: middle;\n    }\n\n    .dataframe tbody tr th {\n        vertical-align: top;\n    }\n\n    .dataframe thead th {\n        text-align: right;\n    }\n</style>\n<table border=\"1\" class=\"dataframe\">\n  <thead>\n    <tr style=\"text-align: right;\">\n      <th></th>\n      <th>chr</th>\n      <th>start</th>\n      <th>end</th>\n      <th>strand</th>\n      <th>class</th>\n      <th>ss_antisense_start_site</th>\n      <th>ss_antisense_end_site</th>\n      <th>RC3-Splice_site</th>\n      <th>RC3-Score</th>\n      <th>repeat_features_start_site:Centromere</th>\n      <th>...</th>\n      <th>repeat_features_end_site:Tandem repeats</th>\n      <th>repeat_features_end_site:Low complexity regions</th>\n      <th>sequence</th>\n      <th>sequence_maxentscan</th>\n      <th>hg38 - Acceptor splice site</th>\n      <th>hg38 - Donor splice site</th>\n      <th>5_MaxEntScan</th>\n      <th>3_MaxEntScan</th>\n      <th>splice-site</th>\n      <th>intron_length</th>\n    </tr>\n  </thead>\n  <tbody>\n    <tr>\n      <th>0</th>\n      <td>chr1</td>\n      <td>12227</td>\n      <td>12612</td>\n      <td>+</td>\n      <td>1</td>\n      <td>0</td>\n      <td>0</td>\n      <td>GT:AG</td>\n      <td>59151</td>\n      <td>0</td>\n      <td>...</td>\n      <td>0</td>\n      <td>0</td>\n      <td>GTAAGTAGTGCTTGTGCTCATCTCCTTGGCTGTGATACGTGGCCGG...</td>\n      <td>ccaGTAAGTAGTGCTTGTGCTCATCTCCTTGGCTGTGATACGTGGC...</td>\n      <td>GT</td>\n      <td>AG</td>\n      <td>9.09</td>\n      <td>11.90</td>\n      <td>182</td>\n      <td>385</td>\n    </tr>\n    <tr>\n      <th>1</th>\n      <td>chr1</td>\n      <td>12721</td>\n      <td>13220</td>\n      <td>+</td>\n      <td>1</td>\n      <td>0</td>\n      <td>0</td>\n      <td>GT:AG</td>\n      <td>61021</td>\n      <td>0</td>\n      <td>...</td>\n      <td>0</td>\n      <td>0</td>\n      <td>GTGAGAGGAGAGTAGACAGTGAGTGGGAGTGGCGTCGCCCCTAGGG...</td>\n      <td>gagGTGAGAGGAGAGTAGACAGTGAGTGGGAGTGGCGTCGCCCCTA...</td>\n      <td>GT</td>\n      <td>AG</td>\n      <td>7.66</td>\n      <td>3.89</td>\n      <td>182</td>\n      <td>499</td>\n    </tr>\n    <tr>\n      <th>2</th>\n      <td>chr1</td>\n      <td>12057</td>\n      <td>12178</td>\n      <td>+</td>\n      <td>1</td>\n      <td>0</td>\n      <td>0</td>\n      <td>NaN</td>\n      <td>-1</td>\n      <td>0</td>\n      <td>...</td>\n      <td>0</td>\n      <td>0</td>\n      <td>CACTGGAGTGGAGTTTTCCTGTGGAGAGGAGCCATGCCTAGAGTGG...</td>\n      <td>gagCACTGGAGTGGAGTTTTCCTGTGGAGAGGAGCCATGCCTAGAG...</td>\n      <td>CA</td>\n      <td>GA</td>\n      <td>-13.87</td>\n      <td>-31.99</td>\n      <td>73</td>\n      <td>121</td>\n    </tr>\n    <tr>\n      <th>3</th>\n      <td>chr1</td>\n      <td>12697</td>\n      <td>12974</td>\n      <td>+</td>\n      <td>1</td>\n      <td>0</td>\n      <td>0</td>\n      <td>GT:AG</td>\n      <td>21</td>\n      <td>0</td>\n      <td>...</td>\n      <td>0</td>\n      <td>0</td>\n      <td>GTGAGTGTCCCCAGTGTTGCAGAGGTGAGAGGAGAGTAGACAGTGA...</td>\n      <td>cttGTGAGTGTCCCCAGTGTTGCAGAGGTGAGAGGAGAGTAGACAG...</td>\n      <td>GT</td>\n      <td>AG</td>\n      <td>7.15</td>\n      <td>7.61</td>\n      <td>182</td>\n      <td>277</td>\n    </tr>\n    <tr>\n      <th>4</th>\n      <td>chr1</td>\n      <td>13052</td>\n      <td>13220</td>\n      <td>+</td>\n      <td>1</td>\n      <td>0</td>\n      <td>0</td>\n      <td>GC:AG</td>\n      <td>526</td>\n      <td>0</td>\n      <td>...</td>\n      <td>0</td>\n      <td>0</td>\n      <td>GCAAGCCTGGCTGCCTCCAGCTGGGTCGACAGACAGGGGCTGGAGA...</td>\n      <td>tagGCAAGCCTGGCTGCCTCCAGCTGGGTCGACAGACAGGGGCTGG...</td>\n      <td>GC</td>\n      <td>AG</td>\n      <td>1.14</td>\n      <td>3.89</td>\n      <td>148</td>\n      <td>168</td>\n    </tr>\n    <tr>\n      <th>...</th>\n      <td>...</td>\n      <td>...</td>\n      <td>...</td>\n      <td>...</td>\n      <td>...</td>\n      <td>...</td>\n      <td>...</td>\n      <td>...</td>\n      <td>...</td>\n      <td>...</td>\n      <td>...</td>\n      <td>...</td>\n      <td>...</td>\n      <td>...</td>\n      <td>...</td>\n      <td>...</td>\n      <td>...</td>\n      <td>...</td>\n      <td>...</td>\n      <td>...</td>\n      <td>...</td>\n    </tr>\n    <tr>\n      <th>527913</th>\n      <td>chrY</td>\n      <td>24883840</td>\n      <td>24886132</td>\n      <td>+</td>\n      <td>0</td>\n      <td>0</td>\n      <td>0</td>\n      <td>NaN</td>\n      <td>-1</td>\n      <td>0</td>\n      <td>...</td>\n      <td>0</td>\n      <td>0</td>\n      <td>GTAAGAAGGAGTAAAATTATTTGCTTTCAGGTATTATTGAGGCCTT...</td>\n      <td>aatGTAAGAAGGAGTAAAATTATTTGCTTTCAGGTATTATTGAGGC...</td>\n      <td>GT</td>\n      <td>GC</td>\n      <td>5.55</td>\n      <td>-9.69</td>\n      <td>189</td>\n      <td>2292</td>\n    </tr>\n    <tr>\n      <th>527914</th>\n      <td>chrY</td>\n      <td>24888605</td>\n      <td>24889352</td>\n      <td>+</td>\n      <td>0</td>\n      <td>0</td>\n      <td>0</td>\n      <td>NaN</td>\n      <td>-1</td>\n      <td>0</td>\n      <td>...</td>\n      <td>0</td>\n      <td>0</td>\n      <td>GTAATGTAAGAAGGAGTAAAATTATTTGCTTTCAGGTATTATTGAG...</td>\n      <td>cagGTAATGTAAGAAGGAGTAAAATTATTTGCTTTCAGGTATTATT...</td>\n      <td>GT</td>\n      <td>AG</td>\n      <td>9.43</td>\n      <td>10.01</td>\n      <td>182</td>\n      <td>747</td>\n    </tr>\n    <tr>\n      <th>527915</th>\n      <td>chrY</td>\n      <td>24889386</td>\n      <td>24901111</td>\n      <td>+</td>\n      <td>0</td>\n      <td>0</td>\n      <td>0</td>\n      <td>NaN</td>\n      <td>-1</td>\n      <td>0</td>\n      <td>...</td>\n      <td>0</td>\n      <td>0</td>\n      <td>ATTATGTTTTCCTTGATGTTAAGTGAATTAGCCAAACATAGACTTC...</td>\n      <td>gggATTATGTTTTCCTTGATGTTAAGTGAATTAGCCAAACATAGAC...</td>\n      <td>AT</td>\n      <td>AG</td>\n      <td>-14.46</td>\n      <td>7.85</td>\n      <td>50</td>\n      <td>11725</td>\n    </tr>\n    <tr>\n      <th>527916</th>\n      <td>chrY</td>\n      <td>24833970</td>\n      <td>24840730</td>\n      <td>+</td>\n      <td>0</td>\n      <td>0</td>\n      <td>0</td>\n      <td>NaN</td>\n      <td>-1</td>\n      <td>0</td>\n      <td>...</td>\n      <td>0</td>\n      <td>0</td>\n      <td>CCTTGGTTTTCCTTACACCTTAGCCTTTGGCTCCTTTGACCACTCG...</td>\n      <td>cgcCCTTGGTTTTCCTTACACCTTAGCCTTTGGCTCCTTTGACCAC...</td>\n      <td>CC</td>\n      <td>AG</td>\n      <td>-27.63</td>\n      <td>4.64</td>\n      <td>83</td>\n      <td>6760</td>\n    </tr>\n    <tr>\n      <th>527917</th>\n      <td>chrY</td>\n      <td>24871607</td>\n      <td>24895696</td>\n      <td>+</td>\n      <td>0</td>\n      <td>0</td>\n      <td>0</td>\n      <td>NaN</td>\n      <td>-1</td>\n      <td>0</td>\n      <td>...</td>\n      <td>0</td>\n      <td>0</td>\n      <td>GCTTATCCAAATTCACCATTTCAAGTCGCCACTGGATATCAGTTCC...</td>\n      <td>cctGCTTATCCAAATTCACCATTTCAAGTCGCCACTGGATATCAGT...</td>\n      <td>GC</td>\n      <td>CT</td>\n      <td>-25.04</td>\n      <td>-15.60</td>\n      <td>153</td>\n      <td>24089</td>\n    </tr>\n  </tbody>\n</table>\n<p>527918 rows × 41 columns</p>\n</div>"
     },
     "execution_count": 11,
     "metadata": {},
     "output_type": "execute_result"
    }
   ],
   "source": [
    "# le = preprocessing.LabelEncoder()\n",
    "# le.fit(df[\"hg38 - Acceptor splice site\"])\n",
    "# df[\"hg38 - Acceptor splice site\"] = le.transform(df[\"hg38 - Acceptor splice site\"])\n",
    "#\n",
    "# le = preprocessing.LabelEncoder()\n",
    "# le.fit(df[\"hg38 - Donor splice site\"])\n",
    "# df[\"hg38 - Donor splice site\"] = le.transform(df[\"hg38 - Donor splice site\"])\n",
    "\n",
    "# le = preprocessing.LabelEncoder()\n",
    "# le.fit(df[\"splice-site\"])\n",
    "# df[\"splice-site\"] = le.transform(df[\"splice-site\"])\n",
    "\n",
    "le = preprocessing.LabelEncoder()\n",
    "le.fit(df[\"ss_antisense_start_site\"])\n",
    "df[\"ss_antisense_start_site\"] = le.transform(df[\"ss_antisense_start_site\"])\n",
    "\n",
    "le = preprocessing.LabelEncoder()\n",
    "le.fit(df[\"ss_antisense_end_site\"])\n",
    "df[\"ss_antisense_end_site\"] = le.transform(df[\"ss_antisense_end_site\"])\n",
    "\n",
    "df"
   ],
   "metadata": {
    "collapsed": false
   }
  },
  {
   "cell_type": "code",
   "execution_count": 12,
   "outputs": [
    {
     "data": {
      "text/plain": "0         1\n1         1\n2         1\n3         1\n4         1\n         ..\n527913    0\n527914    0\n527915    0\n527916    0\n527917    0\nName: class, Length: 527918, dtype: int64"
     },
     "execution_count": 12,
     "metadata": {},
     "output_type": "execute_result"
    }
   ],
   "source": [
    "df_annot_test_y = df.pop(\"class\")\n",
    "df_annot_test_y"
   ],
   "metadata": {
    "collapsed": false
   }
  },
  {
   "cell_type": "code",
   "execution_count": 13,
   "outputs": [],
   "source": [
    "# df[\"RC3-Score-25\"] = df[\"RC3-Score\"] >= 25\n",
    "\n",
    "# Drop the columns that might not be available prior to manual gene annotation or irrelevant to ML\n",
    "df_annot_test_X_1 = df.drop([\"chr\", \"start\", \"end\", \"strand\", \"RC3-Splice_site\", \"sequence\", \"hg38 - Donor splice site\", \"hg38 - Acceptor splice site\", \"sequence_maxentscan\",\n",
    "                             \"repeat_features_end_site:Unknown\", \"repeat_features_start_site:Dust\", \"repeat_features_end_site:Dust\", \"repeat_features_start_site:RNA repeats\",\n",
    "                             \"repeat_features_end_site:RNA repeats\", \"repeat_features_end_site:Centromere\", \"repeat_features_start_site:Centromere\", \"repeat_features_start_site:Unknown\",\n",
    "                             \"repeat_features_start_site:Low complexity regions\", \"repeat_features_end_site:Low complexity regions\", \"splice-site\"], axis=1)\n",
    "\n",
    "# FIXME\n",
    "# df_annot_test_X_1 = df_annot_test_X_1[(df_annot_test_X_1[\"hg38 - Acceptor splice site\"] == 13) & (df_annot_test_X_1[\"hg38 - Donor splice site\"] == 2)]\n"
   ],
   "metadata": {
    "collapsed": false
   }
  },
  {
   "cell_type": "code",
   "execution_count": 14,
   "outputs": [
    {
     "data": {
      "text/plain": "0         1\n1         1\n2         1\n3         1\n4         1\n         ..\n527913    0\n527914    0\n527915    0\n527916    0\n527917    0\nName: class, Length: 527918, dtype: int64"
     },
     "execution_count": 14,
     "metadata": {},
     "output_type": "execute_result"
    }
   ],
   "source": [
    "df_annot_test_y"
   ],
   "metadata": {
    "collapsed": false
   }
  },
  {
   "cell_type": "code",
   "execution_count": 15,
   "outputs": [
    {
     "data": {
      "text/plain": "        ss_antisense_start_site  ss_antisense_end_site  RC3-Score  \\\n0                             0                      0      59151   \n1                             0                      0      61021   \n2                             0                      0         -1   \n3                             0                      0         21   \n4                             0                      0        526   \n...                         ...                    ...        ...   \n527913                        0                      0         -1   \n527914                        0                      0         -1   \n527915                        0                      0         -1   \n527916                        0                      0         -1   \n527917                        0                      0         -1   \n\n        repeat_features_start_site:Type II Transposons  \\\n0                                                    0   \n1                                                    0   \n2                                                    0   \n3                                                    0   \n4                                                    0   \n...                                                ...   \n527913                                               0   \n527914                                               0   \n527915                                               0   \n527916                                               0   \n527917                                               0   \n\n        repeat_features_start_site:Type I Transposons/SINE  \\\n0                                                       0    \n1                                                       0    \n2                                                       0    \n3                                                       0    \n4                                                       0    \n...                                                   ...    \n527913                                                  0    \n527914                                                  0    \n527915                                                  0    \n527916                                                  0    \n527917                                                  0    \n\n        repeat_features_start_site:Simple repeats  \\\n0                                               0   \n1                                               0   \n2                                               0   \n3                                               0   \n4                                               0   \n...                                           ...   \n527913                                          0   \n527914                                          0   \n527915                                          0   \n527916                                          0   \n527917                                          0   \n\n        repeat_features_start_site:Type I Transposons/LINE  \\\n0                                                       0    \n1                                                       0    \n2                                                       0    \n3                                                       0    \n4                                                       0    \n...                                                   ...    \n527913                                                  0    \n527914                                                  0    \n527915                                                  0    \n527916                                                  0    \n527917                                                  0    \n\n        repeat_features_start_site:LTRs  \\\n0                                     0   \n1                                     0   \n2                                     0   \n3                                     0   \n4                                     0   \n...                                 ...   \n527913                                0   \n527914                                0   \n527915                                0   \n527916                                0   \n527917                                0   \n\n        repeat_features_start_site:Satellite repeats  \\\n0                                                  0   \n1                                                  0   \n2                                                  0   \n3                                                  0   \n4                                                  0   \n...                                              ...   \n527913                                             0   \n527914                                             0   \n527915                                             0   \n527916                                             0   \n527917                                             0   \n\n        repeat_features_start_site:Tandem repeats  \\\n0                                               0   \n1                                               0   \n2                                               0   \n3                                               0   \n4                                               0   \n...                                           ...   \n527913                                          0   \n527914                                          0   \n527915                                          0   \n527916                                          0   \n527917                                          0   \n\n        repeat_features_end_site:Type II Transposons  \\\n0                                                  0   \n1                                                  0   \n2                                                  0   \n3                                                  0   \n4                                                  0   \n...                                              ...   \n527913                                             0   \n527914                                             0   \n527915                                             0   \n527916                                             0   \n527917                                             0   \n\n        repeat_features_end_site:Type I Transposons/SINE  \\\n0                                                      0   \n1                                                      0   \n2                                                      0   \n3                                                      0   \n4                                                      0   \n...                                                  ...   \n527913                                                 0   \n527914                                                 0   \n527915                                                 0   \n527916                                                 0   \n527917                                                 0   \n\n        repeat_features_end_site:Simple repeats  \\\n0                                             0   \n1                                             0   \n2                                             0   \n3                                             0   \n4                                             0   \n...                                         ...   \n527913                                        0   \n527914                                        0   \n527915                                        0   \n527916                                        0   \n527917                                        0   \n\n        repeat_features_end_site:Type I Transposons/LINE  \\\n0                                                      0   \n1                                                      0   \n2                                                      0   \n3                                                      0   \n4                                                      0   \n...                                                  ...   \n527913                                                 0   \n527914                                                 0   \n527915                                                 0   \n527916                                                 0   \n527917                                                 0   \n\n        repeat_features_end_site:LTRs  \\\n0                                   0   \n1                                   0   \n2                                   0   \n3                                   0   \n4                                   0   \n...                               ...   \n527913                              0   \n527914                              0   \n527915                              0   \n527916                              0   \n527917                              0   \n\n        repeat_features_end_site:Satellite repeats  \\\n0                                                0   \n1                                                0   \n2                                                0   \n3                                                0   \n4                                                0   \n...                                            ...   \n527913                                           0   \n527914                                           0   \n527915                                           0   \n527916                                           0   \n527917                                           0   \n\n        repeat_features_end_site:Tandem repeats  5_MaxEntScan  3_MaxEntScan  \\\n0                                             0          9.09         11.90   \n1                                             0          7.66          3.89   \n2                                             0        -13.87        -31.99   \n3                                             0          7.15          7.61   \n4                                             0          1.14          3.89   \n...                                         ...           ...           ...   \n527913                                        0          5.55         -9.69   \n527914                                        0          9.43         10.01   \n527915                                        0        -14.46          7.85   \n527916                                        0        -27.63          4.64   \n527917                                        0        -25.04        -15.60   \n\n        intron_length  \n0                 385  \n1                 499  \n2                 121  \n3                 277  \n4                 168  \n...               ...  \n527913           2292  \n527914            747  \n527915          11725  \n527916           6760  \n527917          24089  \n\n[527918 rows x 20 columns]",
      "text/html": "<div>\n<style scoped>\n    .dataframe tbody tr th:only-of-type {\n        vertical-align: middle;\n    }\n\n    .dataframe tbody tr th {\n        vertical-align: top;\n    }\n\n    .dataframe thead th {\n        text-align: right;\n    }\n</style>\n<table border=\"1\" class=\"dataframe\">\n  <thead>\n    <tr style=\"text-align: right;\">\n      <th></th>\n      <th>ss_antisense_start_site</th>\n      <th>ss_antisense_end_site</th>\n      <th>RC3-Score</th>\n      <th>repeat_features_start_site:Type II Transposons</th>\n      <th>repeat_features_start_site:Type I Transposons/SINE</th>\n      <th>repeat_features_start_site:Simple repeats</th>\n      <th>repeat_features_start_site:Type I Transposons/LINE</th>\n      <th>repeat_features_start_site:LTRs</th>\n      <th>repeat_features_start_site:Satellite repeats</th>\n      <th>repeat_features_start_site:Tandem repeats</th>\n      <th>repeat_features_end_site:Type II Transposons</th>\n      <th>repeat_features_end_site:Type I Transposons/SINE</th>\n      <th>repeat_features_end_site:Simple repeats</th>\n      <th>repeat_features_end_site:Type I Transposons/LINE</th>\n      <th>repeat_features_end_site:LTRs</th>\n      <th>repeat_features_end_site:Satellite repeats</th>\n      <th>repeat_features_end_site:Tandem repeats</th>\n      <th>5_MaxEntScan</th>\n      <th>3_MaxEntScan</th>\n      <th>intron_length</th>\n    </tr>\n  </thead>\n  <tbody>\n    <tr>\n      <th>0</th>\n      <td>0</td>\n      <td>0</td>\n      <td>59151</td>\n      <td>0</td>\n      <td>0</td>\n      <td>0</td>\n      <td>0</td>\n      <td>0</td>\n      <td>0</td>\n      <td>0</td>\n      <td>0</td>\n      <td>0</td>\n      <td>0</td>\n      <td>0</td>\n      <td>0</td>\n      <td>0</td>\n      <td>0</td>\n      <td>9.09</td>\n      <td>11.90</td>\n      <td>385</td>\n    </tr>\n    <tr>\n      <th>1</th>\n      <td>0</td>\n      <td>0</td>\n      <td>61021</td>\n      <td>0</td>\n      <td>0</td>\n      <td>0</td>\n      <td>0</td>\n      <td>0</td>\n      <td>0</td>\n      <td>0</td>\n      <td>0</td>\n      <td>0</td>\n      <td>0</td>\n      <td>0</td>\n      <td>0</td>\n      <td>0</td>\n      <td>0</td>\n      <td>7.66</td>\n      <td>3.89</td>\n      <td>499</td>\n    </tr>\n    <tr>\n      <th>2</th>\n      <td>0</td>\n      <td>0</td>\n      <td>-1</td>\n      <td>0</td>\n      <td>0</td>\n      <td>0</td>\n      <td>0</td>\n      <td>0</td>\n      <td>0</td>\n      <td>0</td>\n      <td>0</td>\n      <td>0</td>\n      <td>0</td>\n      <td>0</td>\n      <td>0</td>\n      <td>0</td>\n      <td>0</td>\n      <td>-13.87</td>\n      <td>-31.99</td>\n      <td>121</td>\n    </tr>\n    <tr>\n      <th>3</th>\n      <td>0</td>\n      <td>0</td>\n      <td>21</td>\n      <td>0</td>\n      <td>0</td>\n      <td>0</td>\n      <td>0</td>\n      <td>0</td>\n      <td>0</td>\n      <td>0</td>\n      <td>0</td>\n      <td>0</td>\n      <td>0</td>\n      <td>0</td>\n      <td>0</td>\n      <td>0</td>\n      <td>0</td>\n      <td>7.15</td>\n      <td>7.61</td>\n      <td>277</td>\n    </tr>\n    <tr>\n      <th>4</th>\n      <td>0</td>\n      <td>0</td>\n      <td>526</td>\n      <td>0</td>\n      <td>0</td>\n      <td>0</td>\n      <td>0</td>\n      <td>0</td>\n      <td>0</td>\n      <td>0</td>\n      <td>0</td>\n      <td>0</td>\n      <td>0</td>\n      <td>0</td>\n      <td>0</td>\n      <td>0</td>\n      <td>0</td>\n      <td>1.14</td>\n      <td>3.89</td>\n      <td>168</td>\n    </tr>\n    <tr>\n      <th>...</th>\n      <td>...</td>\n      <td>...</td>\n      <td>...</td>\n      <td>...</td>\n      <td>...</td>\n      <td>...</td>\n      <td>...</td>\n      <td>...</td>\n      <td>...</td>\n      <td>...</td>\n      <td>...</td>\n      <td>...</td>\n      <td>...</td>\n      <td>...</td>\n      <td>...</td>\n      <td>...</td>\n      <td>...</td>\n      <td>...</td>\n      <td>...</td>\n      <td>...</td>\n    </tr>\n    <tr>\n      <th>527913</th>\n      <td>0</td>\n      <td>0</td>\n      <td>-1</td>\n      <td>0</td>\n      <td>0</td>\n      <td>0</td>\n      <td>0</td>\n      <td>0</td>\n      <td>0</td>\n      <td>0</td>\n      <td>0</td>\n      <td>0</td>\n      <td>0</td>\n      <td>0</td>\n      <td>0</td>\n      <td>0</td>\n      <td>0</td>\n      <td>5.55</td>\n      <td>-9.69</td>\n      <td>2292</td>\n    </tr>\n    <tr>\n      <th>527914</th>\n      <td>0</td>\n      <td>0</td>\n      <td>-1</td>\n      <td>0</td>\n      <td>0</td>\n      <td>0</td>\n      <td>0</td>\n      <td>0</td>\n      <td>0</td>\n      <td>0</td>\n      <td>0</td>\n      <td>0</td>\n      <td>0</td>\n      <td>0</td>\n      <td>0</td>\n      <td>0</td>\n      <td>0</td>\n      <td>9.43</td>\n      <td>10.01</td>\n      <td>747</td>\n    </tr>\n    <tr>\n      <th>527915</th>\n      <td>0</td>\n      <td>0</td>\n      <td>-1</td>\n      <td>0</td>\n      <td>0</td>\n      <td>0</td>\n      <td>0</td>\n      <td>0</td>\n      <td>0</td>\n      <td>0</td>\n      <td>0</td>\n      <td>0</td>\n      <td>0</td>\n      <td>0</td>\n      <td>0</td>\n      <td>0</td>\n      <td>0</td>\n      <td>-14.46</td>\n      <td>7.85</td>\n      <td>11725</td>\n    </tr>\n    <tr>\n      <th>527916</th>\n      <td>0</td>\n      <td>0</td>\n      <td>-1</td>\n      <td>0</td>\n      <td>0</td>\n      <td>0</td>\n      <td>0</td>\n      <td>0</td>\n      <td>0</td>\n      <td>0</td>\n      <td>0</td>\n      <td>0</td>\n      <td>0</td>\n      <td>0</td>\n      <td>0</td>\n      <td>0</td>\n      <td>0</td>\n      <td>-27.63</td>\n      <td>4.64</td>\n      <td>6760</td>\n    </tr>\n    <tr>\n      <th>527917</th>\n      <td>0</td>\n      <td>0</td>\n      <td>-1</td>\n      <td>0</td>\n      <td>0</td>\n      <td>0</td>\n      <td>0</td>\n      <td>0</td>\n      <td>0</td>\n      <td>0</td>\n      <td>0</td>\n      <td>0</td>\n      <td>0</td>\n      <td>0</td>\n      <td>0</td>\n      <td>0</td>\n      <td>0</td>\n      <td>-25.04</td>\n      <td>-15.60</td>\n      <td>24089</td>\n    </tr>\n  </tbody>\n</table>\n<p>527918 rows × 20 columns</p>\n</div>"
     },
     "execution_count": 15,
     "metadata": {},
     "output_type": "execute_result"
    }
   ],
   "source": [
    "df_annot_test_X_1"
   ],
   "metadata": {
    "collapsed": false
   }
  },
  {
   "cell_type": "code",
   "execution_count": 16,
   "outputs": [],
   "source": [
    "X_train_val = df_annot_test_X_1.copy()\n",
    "y_train_val = df_annot_test_y.copy()\n",
    "del df_annot_test_X_1\n",
    "del df_annot_test_y"
   ],
   "metadata": {
    "collapsed": false
   }
  },
  {
   "cell_type": "code",
   "execution_count": 17,
   "outputs": [
    {
     "data": {
      "text/plain": "DecisionTreeClassifier()",
      "text/html": "<style>#sk-container-id-1 {color: black;background-color: white;}#sk-container-id-1 pre{padding: 0;}#sk-container-id-1 div.sk-toggleable {background-color: white;}#sk-container-id-1 label.sk-toggleable__label {cursor: pointer;display: block;width: 100%;margin-bottom: 0;padding: 0.3em;box-sizing: border-box;text-align: center;}#sk-container-id-1 label.sk-toggleable__label-arrow:before {content: \"▸\";float: left;margin-right: 0.25em;color: #696969;}#sk-container-id-1 label.sk-toggleable__label-arrow:hover:before {color: black;}#sk-container-id-1 div.sk-estimator:hover label.sk-toggleable__label-arrow:before {color: black;}#sk-container-id-1 div.sk-toggleable__content {max-height: 0;max-width: 0;overflow: hidden;text-align: left;background-color: #f0f8ff;}#sk-container-id-1 div.sk-toggleable__content pre {margin: 0.2em;color: black;border-radius: 0.25em;background-color: #f0f8ff;}#sk-container-id-1 input.sk-toggleable__control:checked~div.sk-toggleable__content {max-height: 200px;max-width: 100%;overflow: auto;}#sk-container-id-1 input.sk-toggleable__control:checked~label.sk-toggleable__label-arrow:before {content: \"▾\";}#sk-container-id-1 div.sk-estimator input.sk-toggleable__control:checked~label.sk-toggleable__label {background-color: #d4ebff;}#sk-container-id-1 div.sk-label input.sk-toggleable__control:checked~label.sk-toggleable__label {background-color: #d4ebff;}#sk-container-id-1 input.sk-hidden--visually {border: 0;clip: rect(1px 1px 1px 1px);clip: rect(1px, 1px, 1px, 1px);height: 1px;margin: -1px;overflow: hidden;padding: 0;position: absolute;width: 1px;}#sk-container-id-1 div.sk-estimator {font-family: monospace;background-color: #f0f8ff;border: 1px dotted black;border-radius: 0.25em;box-sizing: border-box;margin-bottom: 0.5em;}#sk-container-id-1 div.sk-estimator:hover {background-color: #d4ebff;}#sk-container-id-1 div.sk-parallel-item::after {content: \"\";width: 100%;border-bottom: 1px solid gray;flex-grow: 1;}#sk-container-id-1 div.sk-label:hover label.sk-toggleable__label {background-color: #d4ebff;}#sk-container-id-1 div.sk-serial::before {content: \"\";position: absolute;border-left: 1px solid gray;box-sizing: border-box;top: 0;bottom: 0;left: 50%;z-index: 0;}#sk-container-id-1 div.sk-serial {display: flex;flex-direction: column;align-items: center;background-color: white;padding-right: 0.2em;padding-left: 0.2em;position: relative;}#sk-container-id-1 div.sk-item {position: relative;z-index: 1;}#sk-container-id-1 div.sk-parallel {display: flex;align-items: stretch;justify-content: center;background-color: white;position: relative;}#sk-container-id-1 div.sk-item::before, #sk-container-id-1 div.sk-parallel-item::before {content: \"\";position: absolute;border-left: 1px solid gray;box-sizing: border-box;top: 0;bottom: 0;left: 50%;z-index: -1;}#sk-container-id-1 div.sk-parallel-item {display: flex;flex-direction: column;z-index: 1;position: relative;background-color: white;}#sk-container-id-1 div.sk-parallel-item:first-child::after {align-self: flex-end;width: 50%;}#sk-container-id-1 div.sk-parallel-item:last-child::after {align-self: flex-start;width: 50%;}#sk-container-id-1 div.sk-parallel-item:only-child::after {width: 0;}#sk-container-id-1 div.sk-dashed-wrapped {border: 1px dashed gray;margin: 0 0.4em 0.5em 0.4em;box-sizing: border-box;padding-bottom: 0.4em;background-color: white;}#sk-container-id-1 div.sk-label label {font-family: monospace;font-weight: bold;display: inline-block;line-height: 1.2em;}#sk-container-id-1 div.sk-label-container {text-align: center;}#sk-container-id-1 div.sk-container {/* jupyter's `normalize.less` sets `[hidden] { display: none; }` but bootstrap.min.css set `[hidden] { display: none !important; }` so we also need the `!important` here to be able to override the default hidden behavior on the sphinx rendered scikit-learn.org. See: https://github.com/scikit-learn/scikit-learn/issues/21755 */display: inline-block !important;position: relative;}#sk-container-id-1 div.sk-text-repr-fallback {display: none;}</style><div id=\"sk-container-id-1\" class=\"sk-top-container\"><div class=\"sk-text-repr-fallback\"><pre>DecisionTreeClassifier()</pre><b>In a Jupyter environment, please rerun this cell to show the HTML representation or trust the notebook. <br />On GitHub, the HTML representation is unable to render, please try loading this page with nbviewer.org.</b></div><div class=\"sk-container\" hidden><div class=\"sk-item\"><div class=\"sk-estimator sk-toggleable\"><input class=\"sk-toggleable__control sk-hidden--visually\" id=\"sk-estimator-id-1\" type=\"checkbox\" checked><label for=\"sk-estimator-id-1\" class=\"sk-toggleable__label sk-toggleable__label-arrow\">DecisionTreeClassifier</label><div class=\"sk-toggleable__content\"><pre>DecisionTreeClassifier()</pre></div></div></div></div></div>"
     },
     "execution_count": 17,
     "metadata": {},
     "output_type": "execute_result"
    }
   ],
   "source": [
    "model_sigular = tree.DecisionTreeClassifier()#XGBClassifier(random_state=0)\n",
    "model_sigular.fit(X_train_val, y_train_val)"
   ],
   "metadata": {
    "collapsed": false
   }
  },
  {
   "cell_type": "code",
   "execution_count": null,
   "outputs": [],
   "source": [
    "cv_acc_list = []\n",
    "cv_ba_acc_list = []\n",
    "cv_rocauc_list = []\n",
    "cv_precision_list = []\n",
    "cv_recall_list = []\n",
    "cv_mcc_list = []\n",
    "cv_specificity_list = []\n",
    "cv_sensitivity_list = []\n",
    "cv_fpr_list = []\n",
    "cv_fnr_list = []\n",
    "model_dict = {}\n",
    "model_index = 0\n",
    "matrix = []\n",
    "\n",
    "skf = StratifiedKFold(n_splits=5, shuffle=True, random_state=7)\n",
    "skf.get_n_splits(X_train_val, y_train_val)\n",
    "\n",
    "for train_index, val_index in skf.split(X_train_val, y_train_val):\n",
    "    X_train_resampled = X_train_val.iloc[train_index]\n",
    "    y_train_resampled = y_train_val.iloc[train_index].to_numpy().flatten()\n",
    "\n",
    "    X_train, X_val = X_train_resampled, X_train_val.iloc[val_index]\n",
    "    y_train, y_val = y_train_resampled, y_train_val.iloc[val_index].to_numpy().flatten()\n",
    "\n",
    "    model_dict[model_index] = tree.DecisionTreeClassifier()#XGBClassifier(random_state=0)\n",
    "    model_dict[model_index].fit(X_train, y_train)\n",
    "\n",
    "    y_predict = model_dict[model_index].predict_proba(X_val)\n",
    "    y_predict = y_predict[:, 1]\n",
    "    # y_predict_class = list(map(round, y_predict))\n",
    "    y_predict_class = [1 if pred >= 0.5 else 0 for pred in y_predict] #0.77\n",
    "\n",
    "    test_acc = accuracy_score(y_val, y_predict_class)\n",
    "    test_rocauc = roc_auc_score(y_val, y_predict)\n",
    "    test_bal_acc = balanced_accuracy_score(y_val, y_predict_class)\n",
    "    test_precision = precision_score(y_val, y_predict_class)  # tp/(tp+fp)\n",
    "    test_recall = recall_score(y_val, y_predict_class)\n",
    "    test_mcc = matthews_corrcoef(y_val, y_predict_class)\n",
    "    matrix.append(confusion_matrix(y_val, y_predict_class))\n",
    "    tn, fp, fn, tp = confusion_matrix(y_val, y_predict_class).ravel()\n",
    "\n",
    "    # Adding the metrics to their list\n",
    "    cv_acc_list.append(test_acc)\n",
    "    cv_ba_acc_list.append(test_bal_acc)\n",
    "    cv_rocauc_list.append(test_rocauc)\n",
    "    cv_precision_list.append(test_precision)\n",
    "    cv_mcc_list.append(test_mcc)\n",
    "    cv_recall_list.append(test_recall)\n",
    "    cv_specificity_list.append(tn / (tn + fp))\n",
    "    cv_sensitivity_list.append(tp / (fn + tp))\n",
    "    cv_fpr_list.append(fp/(fp+tn))\n",
    "    cv_fnr_list.append(fn/(fn+tp))"
   ],
   "metadata": {
    "collapsed": false
   }
  },
  {
   "cell_type": "code",
   "execution_count": null,
   "outputs": [],
   "source": [
    "print(\"------------------------------------------------------------------------------------------\")\n",
    "print(\"Stratified Cross-Validation Performance (* metrics of interest)\")\n",
    "print(\"------------------------------------------------------------------------------------------\")\n",
    "print(\"*Accuracy: %s \\nAUCROC: %s \\n*MCC: %s \\nSensitivity: %s \\nSpecificity: %s \\n*Precision: %s \\nRecall: %s \\n*False Positive Rate: %s \\n*False Negative Rate: %s \\nBalanced Accuracy: %s\" % (\n",
    "        statistics.mean(cv_acc_list), statistics.mean(cv_rocauc_list), statistics.mean(cv_mcc_list),\n",
    "        statistics.mean(cv_sensitivity_list), statistics.mean(cv_specificity_list), statistics.mean(cv_precision_list), statistics.mean(cv_recall_list), statistics.mean(cv_fpr_list), statistics.mean(cv_fnr_list), statistics.mean(cv_ba_acc_list)))\n",
    "\n",
    "print(\"------------------------------------------------------------------------------------------\")\n",
    "print(\"Accuracy SD: %s \\nAUCROC SD: %s \\nMCC SD: %s \\nSensitivity SD: %s \\nSpecificity SD: %s \\nPrecision SD: %s  \\nRecall SD: %s \\n*False Positive Rate SD: %s \\n*False Negative Rate SD: %s \\nBalanced Accuracy SD: %s\" % (\n",
    "        np.std(cv_acc_list), np.std(cv_rocauc_list), np.std(cv_mcc_list),\n",
    "        np.std(cv_sensitivity_list), np.std(cv_specificity_list), np.std(cv_precision_list), np.std(cv_recall_list), np.std(cv_fpr_list), np.std(cv_fnr_list), np.std(cv_ba_acc_list)))\n",
    "\n",
    "\n",
    "print(\"------------------------------------------------------------------------------------------\")\n",
    "\n",
    "# Print the matrix\n",
    "sum(matrix)"
   ],
   "metadata": {
    "collapsed": false
   }
  },
  {
   "cell_type": "code",
   "execution_count": 21,
   "outputs": [],
   "source": [
    "from sklearn.tree import export_graphviz\n",
    "export_graphviz(model_sigular, out_file='tree_limited.dot',\n",
    "                rounded = True, proportion = False, precision = 2, filled = True)\n",
    "# export_graphviz(model_sigular, out_file='tree_nonlimited.dot', feature_names = iris.feature_names,\n",
    "#                 class_names = iris.target_names,\n",
    "#                 rounded = True, proportion = False, precision = 2, filled = True)"
   ],
   "metadata": {
    "collapsed": false
   }
  },
  {
   "cell_type": "code",
   "execution_count": 22,
   "outputs": [],
   "source": [
    "!dot -Tpng tree_limited.dot -o tree_limited.png -Gdpi=600"
   ],
   "metadata": {
    "collapsed": false
   }
  },
  {
   "cell_type": "code",
   "execution_count": null,
   "outputs": [],
   "source": [
    "\n",
    "from IPython.display import Image\n",
    "Image(filename = 'tree_limited.png')"
   ],
   "metadata": {
    "collapsed": false
   }
  },
  {
   "cell_type": "markdown",
   "source": [
    "# Previous model:"
   ],
   "metadata": {
    "collapsed": false
   }
  },
  {
   "cell_type": "markdown",
   "source": [
    "| Metric               | Value                    | Standard Deviation       |\n",
    "|----------------------|--------------------------|--------------------------|\n",
    "| Accuracy             | 0.7983640800390435       | 0.007369779726815882     |\n",
    "| AUCROC               | 0.868038309019828        | 0.011973584999514585     |\n",
    "| MCC                  | 0.040672051294380555     | 0.0018166924023484236    |\n",
    "| Sensitivity          | 0.7983729490685108       | 0.0073908204378677214    |\n",
    "| Specificity          | 0.7869620253164558       | 0.03261376499333584      |\n",
    "| Precision            | 0.9997921983516019       | 3.094276128538986e-05    |\n",
    "| Recall               | 0.7983729490685108       |                          |\n",
    "| False Positive Rate  | 0.21303797468354432      |                          |\n",
    "| Balanced Accuracy    | 0.7926674871924831       | 0.014386556944333703     |\n",
    "\n",
    "\n",
    "<br/>\n",
    "\n",
    "|                     | Predicted Negative | Predicted Positive |\n",
    "|---------------------|--------------------|--------------------|\n",
    "| Actual Negative     | 314                | 85                 |\n",
    "| Actual Positive     | 103203             | 408648             |\n",
    "\n"
   ],
   "metadata": {
    "collapsed": false
   }
  },
  {
   "cell_type": "markdown",
   "source": [
    "|                     | Model 1 | Model 2 (with simulated reads)| Model 2 + Antisense feature + more false introns |\n",
    "|---------------------|---------|-------------------------------|-------------------------------------------------|\n",
    "| Accuracy            | 0.798   | 0.955                         | 0.923                                           |\n",
    "| MCC                 | 0.040   | 0.745                         | 0.786                                           |\n",
    "| Precision           | 0.999   | 0.967                         | 0.942                                           |\n",
    "| False Positive Rate | 0.213   | 0.291                         | 0.188                                           |\n",
    "<br/>\n",
    "\n",
    "|                     | Predicted Negative | Predicted Positive |\n",
    "|---------------------|--------------------|--------------------|\n",
    "| Actual Negative     | 101786             | 23678              |\n",
    "| Actual Positive     | 16487              | 385967              |\n",
    "\n",
    "The increase in MCC and Accuracy is significant, we have to account for the class imbalance in model 1 and that guarentees to have high precision rate and false positive rate, as now we have much more negatively-lablled data, the decrease in precision and increase false positive rate is still relatively low.\n",
    "Overall we can conclude that generating the false-set helps the model greatly."
   ],
   "metadata": {
    "collapsed": false
   }
  },
  {
   "cell_type": "code",
   "execution_count": null,
   "outputs": [],
   "source": [
    "# Next we will evaluate the feature importance of the XGBoost model.\n",
    "def evaluate_feature_importance(df_evaluate_feature_importance, md):\n",
    "    feature_importance_average = [np.mean(i) for i in zip(*[md.get(model).feature_importances_ for model in md])]\n",
    "    df_feature_importance = pd.DataFrame()\n",
    "    df_feature_importance[\"Property\"] = df_evaluate_feature_importance.columns\n",
    "    df_feature_importance[\"Average_importance\"] = feature_importance_average\n",
    "    print(df_feature_importance.sort_values(by=\"Average_importance\", ascending=False).head(50))\n",
    "\n",
    "evaluate_feature_importance(df_evaluate_feature_importance=X_train_val.copy(), md=model_dict)"
   ],
   "metadata": {
    "collapsed": false
   }
  },
  {
   "cell_type": "code",
   "execution_count": null,
   "outputs": [],
   "source": [
    "df[\"prediction\"] = y_predict_class"
   ],
   "metadata": {
    "collapsed": false
   }
  },
  {
   "cell_type": "code",
   "execution_count": null,
   "outputs": [],
   "source": [
    "X_train_val.to_csv(\"data/5-pred_result\", sep=\"\\t\", index=False)"
   ],
   "metadata": {
    "collapsed": false
   }
  },
  {
   "cell_type": "markdown",
   "source": [
    " # Improvements\n",
    "\n",
    "We can see that Centromere, RNA repeats region, Unknown, and Dust region has the lowest importance, which is consistent with our hypothesis, we should be removing them from the features."
   ],
   "metadata": {
    "collapsed": false
   }
  },
  {
   "cell_type": "code",
   "execution_count": null,
   "outputs": [],
   "source": [
    "X_train_val[\"class\"] = y_train_val"
   ],
   "metadata": {
    "collapsed": false
   }
  },
  {
   "cell_type": "code",
   "execution_count": null,
   "outputs": [],
   "source": [
    "X_train_val[(X_train_val[\"class\"] == 0)][\"intron_length\"].median()"
   ],
   "metadata": {
    "collapsed": false
   }
  },
  {
   "cell_type": "code",
   "execution_count": null,
   "outputs": [],
   "source": [
    "df[(df[\"class\"] == 1) & (df[\"splice-site\"] != 182)]"
   ],
   "metadata": {
    "collapsed": false
   }
  },
  {
   "cell_type": "code",
   "execution_count": null,
   "outputs": [],
   "source": [],
   "metadata": {
    "collapsed": false
   }
  }
 ],
 "metadata": {
  "kernelspec": {
   "display_name": "Python 3",
   "language": "python",
   "name": "python3"
  },
  "language_info": {
   "codemirror_mode": {
    "name": "ipython",
    "version": 2
   },
   "file_extension": ".py",
   "mimetype": "text/x-python",
   "name": "python",
   "nbconvert_exporter": "python",
   "pygments_lexer": "ipython2",
   "version": "2.7.6"
  }
 },
 "nbformat": 4,
 "nbformat_minor": 0
}
