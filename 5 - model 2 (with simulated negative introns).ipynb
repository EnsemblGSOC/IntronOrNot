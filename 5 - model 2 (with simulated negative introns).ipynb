{
 "cells": [
  {
   "cell_type": "code",
   "execution_count": 3,
   "metadata": {
    "collapsed": true
   },
   "outputs": [],
   "source": [
    "from xgboost import XGBClassifier\n",
    "import pandas as pd\n",
    "import sklearn.ensemble\n",
    "from sklearn.metrics import accuracy_score, roc_auc_score, balanced_accuracy_score, precision_score, matthews_corrcoef, confusion_matrix, recall_score\n",
    "from sklearn.model_selection import StratifiedKFold\n",
    "from sklearn.model_selection import train_test_split\n",
    "from sklearn import preprocessing\n",
    "import statistics\n",
    "import numpy as np"
   ]
  },
  {
   "cell_type": "code",
   "execution_count": 11,
   "outputs": [
    {
     "data": {
      "text/plain": "         chr     start       end strand  class  ss_antisense_start_site  \\\n0       chr1     12227     12612      +      1                    False   \n1       chr1     12721     13220      +      1                    False   \n2       chr1     12057     12178      +      1                    False   \n3       chr1     12697     12974      +      1                    False   \n4       chr1     13052     13220      +      1                    False   \n...      ...       ...       ...    ...    ...                      ...   \n527913  chrY  24883840  24886132      +      0                    False   \n527914  chrY  24888605  24889352      +      0                    False   \n527915  chrY  24889386  24901111      +      0                    False   \n527916  chrY  24833970  24840730      +      0                    False   \n527917  chrY  24871607  24895696      +      0                    False   \n\n        ss_antisense_end_site     GTExv2    TCGAv2       SRAv3h  ...  \\\n0                       False  1122:3199  583:1460   9374:54492  ...   \n1                       False  1791:3198  783:1104  14048:56719  ...   \n2                       False        NaN       NaN          NaN  ...   \n3                       False        1:1       1:1        15:19  ...   \n4                       False      22:24     17:18      433:484  ...   \n...                       ...        ...       ...          ...  ...   \n527913                  False        NaN       NaN          NaN  ...   \n527914                  False        NaN       NaN          NaN  ...   \n527915                  False        NaN       NaN          NaN  ...   \n527916                  False        NaN       NaN          NaN  ...   \n527917                  False        NaN       NaN          NaN  ...   \n\n       repeat_features_end_site:LTRs  repeat_features_end_site:Dust  \\\n0                                  0                              0   \n1                                  0                              0   \n2                                  0                              0   \n3                                  0                              0   \n4                                  0                              0   \n...                              ...                            ...   \n527913                             0                              0   \n527914                             0                              0   \n527915                             0                              0   \n527916                             0                              0   \n527917                             0                              0   \n\n        repeat_features_end_site:Unknown  \\\n0                                      0   \n1                                      0   \n2                                      0   \n3                                      0   \n4                                      0   \n...                                  ...   \n527913                                 0   \n527914                                 0   \n527915                                 0   \n527916                                 0   \n527917                                 0   \n\n        repeat_features_end_site:RNA repeats  \\\n0                                          0   \n1                                          0   \n2                                          0   \n3                                          0   \n4                                          0   \n...                                      ...   \n527913                                     0   \n527914                                     0   \n527915                                     0   \n527916                                     0   \n527917                                     0   \n\n        repeat_features_end_site:Satellite repeats  \\\n0                                                0   \n1                                                0   \n2                                                0   \n3                                                0   \n4                                                0   \n...                                            ...   \n527913                                           0   \n527914                                           0   \n527915                                           0   \n527916                                           0   \n527917                                           0   \n\n        repeat_features_end_site:Tandem repeats  \\\n0                                             0   \n1                                             0   \n2                                             0   \n3                                             0   \n4                                             0   \n...                                         ...   \n527913                                        0   \n527914                                        0   \n527915                                        0   \n527916                                        0   \n527917                                        0   \n\n        repeat_features_end_site:Low complexity regions  \\\n0                                                     0   \n1                                                     0   \n2                                                     0   \n3                                                     0   \n4                                                     0   \n...                                                 ...   \n527913                                                0   \n527914                                                0   \n527915                                                0   \n527916                                                0   \n527917                                                0   \n\n                                                 sequence  \\\n0       GTAAGTAGTGCTTGTGCTCATCTCCTTGGCTGTGATACGTGGCCGG...   \n1       GTGAGAGGAGAGTAGACAGTGAGTGGGAGTGGCGTCGCCCCTAGGG...   \n2       CACTGGAGTGGAGTTTTCCTGTGGAGAGGAGCCATGCCTAGAGTGG...   \n3       GTGAGTGTCCCCAGTGTTGCAGAGGTGAGAGGAGAGTAGACAGTGA...   \n4       GCAAGCCTGGCTGCCTCCAGCTGGGTCGACAGACAGGGGCTGGAGA...   \n...                                                   ...   \n527913  GTAAGAAGGAGTAAAATTATTTGCTTTCAGGTATTATTGAGGCCTT...   \n527914  GTAATGTAAGAAGGAGTAAAATTATTTGCTTTCAGGTATTATTGAG...   \n527915  ATTATGTTTTCCTTGATGTTAAGTGAATTAGCCAAACATAGACTTC...   \n527916  CCTTGGTTTTCCTTACACCTTAGCCTTTGGCTCCTTTGACCACTCG...   \n527917  GCTTATCCAAATTCACCATTTCAAGTCGCCACTGGATATCAGTTCC...   \n\n        hg38 - Acceptor splice site  hg38 - Donor splice site  \n0                                GT                        AG  \n1                                GT                        AG  \n2                                CA                        GA  \n3                                GT                        AG  \n4                                GC                        AG  \n...                             ...                       ...  \n527913                           GT                        GC  \n527914                           GT                        AG  \n527915                           AT                        AG  \n527916                           CC                        AG  \n527917                           GC                        CT  \n\n[527918 rows x 39 columns]",
      "text/html": "<div>\n<style scoped>\n    .dataframe tbody tr th:only-of-type {\n        vertical-align: middle;\n    }\n\n    .dataframe tbody tr th {\n        vertical-align: top;\n    }\n\n    .dataframe thead th {\n        text-align: right;\n    }\n</style>\n<table border=\"1\" class=\"dataframe\">\n  <thead>\n    <tr style=\"text-align: right;\">\n      <th></th>\n      <th>chr</th>\n      <th>start</th>\n      <th>end</th>\n      <th>strand</th>\n      <th>class</th>\n      <th>ss_antisense_start_site</th>\n      <th>ss_antisense_end_site</th>\n      <th>GTExv2</th>\n      <th>TCGAv2</th>\n      <th>SRAv3h</th>\n      <th>...</th>\n      <th>repeat_features_end_site:LTRs</th>\n      <th>repeat_features_end_site:Dust</th>\n      <th>repeat_features_end_site:Unknown</th>\n      <th>repeat_features_end_site:RNA repeats</th>\n      <th>repeat_features_end_site:Satellite repeats</th>\n      <th>repeat_features_end_site:Tandem repeats</th>\n      <th>repeat_features_end_site:Low complexity regions</th>\n      <th>sequence</th>\n      <th>hg38 - Acceptor splice site</th>\n      <th>hg38 - Donor splice site</th>\n    </tr>\n  </thead>\n  <tbody>\n    <tr>\n      <th>0</th>\n      <td>chr1</td>\n      <td>12227</td>\n      <td>12612</td>\n      <td>+</td>\n      <td>1</td>\n      <td>False</td>\n      <td>False</td>\n      <td>1122:3199</td>\n      <td>583:1460</td>\n      <td>9374:54492</td>\n      <td>...</td>\n      <td>0</td>\n      <td>0</td>\n      <td>0</td>\n      <td>0</td>\n      <td>0</td>\n      <td>0</td>\n      <td>0</td>\n      <td>GTAAGTAGTGCTTGTGCTCATCTCCTTGGCTGTGATACGTGGCCGG...</td>\n      <td>GT</td>\n      <td>AG</td>\n    </tr>\n    <tr>\n      <th>1</th>\n      <td>chr1</td>\n      <td>12721</td>\n      <td>13220</td>\n      <td>+</td>\n      <td>1</td>\n      <td>False</td>\n      <td>False</td>\n      <td>1791:3198</td>\n      <td>783:1104</td>\n      <td>14048:56719</td>\n      <td>...</td>\n      <td>0</td>\n      <td>0</td>\n      <td>0</td>\n      <td>0</td>\n      <td>0</td>\n      <td>0</td>\n      <td>0</td>\n      <td>GTGAGAGGAGAGTAGACAGTGAGTGGGAGTGGCGTCGCCCCTAGGG...</td>\n      <td>GT</td>\n      <td>AG</td>\n    </tr>\n    <tr>\n      <th>2</th>\n      <td>chr1</td>\n      <td>12057</td>\n      <td>12178</td>\n      <td>+</td>\n      <td>1</td>\n      <td>False</td>\n      <td>False</td>\n      <td>NaN</td>\n      <td>NaN</td>\n      <td>NaN</td>\n      <td>...</td>\n      <td>0</td>\n      <td>0</td>\n      <td>0</td>\n      <td>0</td>\n      <td>0</td>\n      <td>0</td>\n      <td>0</td>\n      <td>CACTGGAGTGGAGTTTTCCTGTGGAGAGGAGCCATGCCTAGAGTGG...</td>\n      <td>CA</td>\n      <td>GA</td>\n    </tr>\n    <tr>\n      <th>3</th>\n      <td>chr1</td>\n      <td>12697</td>\n      <td>12974</td>\n      <td>+</td>\n      <td>1</td>\n      <td>False</td>\n      <td>False</td>\n      <td>1:1</td>\n      <td>1:1</td>\n      <td>15:19</td>\n      <td>...</td>\n      <td>0</td>\n      <td>0</td>\n      <td>0</td>\n      <td>0</td>\n      <td>0</td>\n      <td>0</td>\n      <td>0</td>\n      <td>GTGAGTGTCCCCAGTGTTGCAGAGGTGAGAGGAGAGTAGACAGTGA...</td>\n      <td>GT</td>\n      <td>AG</td>\n    </tr>\n    <tr>\n      <th>4</th>\n      <td>chr1</td>\n      <td>13052</td>\n      <td>13220</td>\n      <td>+</td>\n      <td>1</td>\n      <td>False</td>\n      <td>False</td>\n      <td>22:24</td>\n      <td>17:18</td>\n      <td>433:484</td>\n      <td>...</td>\n      <td>0</td>\n      <td>0</td>\n      <td>0</td>\n      <td>0</td>\n      <td>0</td>\n      <td>0</td>\n      <td>0</td>\n      <td>GCAAGCCTGGCTGCCTCCAGCTGGGTCGACAGACAGGGGCTGGAGA...</td>\n      <td>GC</td>\n      <td>AG</td>\n    </tr>\n    <tr>\n      <th>...</th>\n      <td>...</td>\n      <td>...</td>\n      <td>...</td>\n      <td>...</td>\n      <td>...</td>\n      <td>...</td>\n      <td>...</td>\n      <td>...</td>\n      <td>...</td>\n      <td>...</td>\n      <td>...</td>\n      <td>...</td>\n      <td>...</td>\n      <td>...</td>\n      <td>...</td>\n      <td>...</td>\n      <td>...</td>\n      <td>...</td>\n      <td>...</td>\n      <td>...</td>\n      <td>...</td>\n    </tr>\n    <tr>\n      <th>527913</th>\n      <td>chrY</td>\n      <td>24883840</td>\n      <td>24886132</td>\n      <td>+</td>\n      <td>0</td>\n      <td>False</td>\n      <td>False</td>\n      <td>NaN</td>\n      <td>NaN</td>\n      <td>NaN</td>\n      <td>...</td>\n      <td>0</td>\n      <td>0</td>\n      <td>0</td>\n      <td>0</td>\n      <td>0</td>\n      <td>0</td>\n      <td>0</td>\n      <td>GTAAGAAGGAGTAAAATTATTTGCTTTCAGGTATTATTGAGGCCTT...</td>\n      <td>GT</td>\n      <td>GC</td>\n    </tr>\n    <tr>\n      <th>527914</th>\n      <td>chrY</td>\n      <td>24888605</td>\n      <td>24889352</td>\n      <td>+</td>\n      <td>0</td>\n      <td>False</td>\n      <td>False</td>\n      <td>NaN</td>\n      <td>NaN</td>\n      <td>NaN</td>\n      <td>...</td>\n      <td>0</td>\n      <td>0</td>\n      <td>0</td>\n      <td>0</td>\n      <td>0</td>\n      <td>0</td>\n      <td>0</td>\n      <td>GTAATGTAAGAAGGAGTAAAATTATTTGCTTTCAGGTATTATTGAG...</td>\n      <td>GT</td>\n      <td>AG</td>\n    </tr>\n    <tr>\n      <th>527915</th>\n      <td>chrY</td>\n      <td>24889386</td>\n      <td>24901111</td>\n      <td>+</td>\n      <td>0</td>\n      <td>False</td>\n      <td>False</td>\n      <td>NaN</td>\n      <td>NaN</td>\n      <td>NaN</td>\n      <td>...</td>\n      <td>0</td>\n      <td>0</td>\n      <td>0</td>\n      <td>0</td>\n      <td>0</td>\n      <td>0</td>\n      <td>0</td>\n      <td>ATTATGTTTTCCTTGATGTTAAGTGAATTAGCCAAACATAGACTTC...</td>\n      <td>AT</td>\n      <td>AG</td>\n    </tr>\n    <tr>\n      <th>527916</th>\n      <td>chrY</td>\n      <td>24833970</td>\n      <td>24840730</td>\n      <td>+</td>\n      <td>0</td>\n      <td>False</td>\n      <td>False</td>\n      <td>NaN</td>\n      <td>NaN</td>\n      <td>NaN</td>\n      <td>...</td>\n      <td>0</td>\n      <td>0</td>\n      <td>0</td>\n      <td>0</td>\n      <td>0</td>\n      <td>0</td>\n      <td>0</td>\n      <td>CCTTGGTTTTCCTTACACCTTAGCCTTTGGCTCCTTTGACCACTCG...</td>\n      <td>CC</td>\n      <td>AG</td>\n    </tr>\n    <tr>\n      <th>527917</th>\n      <td>chrY</td>\n      <td>24871607</td>\n      <td>24895696</td>\n      <td>+</td>\n      <td>0</td>\n      <td>False</td>\n      <td>False</td>\n      <td>NaN</td>\n      <td>NaN</td>\n      <td>NaN</td>\n      <td>...</td>\n      <td>0</td>\n      <td>0</td>\n      <td>0</td>\n      <td>0</td>\n      <td>0</td>\n      <td>0</td>\n      <td>0</td>\n      <td>GCTTATCCAAATTCACCATTTCAAGTCGCCACTGGATATCAGTTCC...</td>\n      <td>GC</td>\n      <td>CT</td>\n    </tr>\n  </tbody>\n</table>\n<p>527918 rows × 39 columns</p>\n</div>"
     },
     "execution_count": 11,
     "metadata": {},
     "output_type": "execute_result"
    }
   ],
   "source": [
    "df = pd.read_csv(\"data/4.2_hg38_paired_introns.tsv\", sep=\"\\t\")\n",
    "df"
   ],
   "metadata": {
    "collapsed": false
   }
  },
  {
   "cell_type": "code",
   "execution_count": 12,
   "outputs": [
    {
     "data": {
      "text/plain": "         chr     start       end strand  class  ss_antisense_start_site  \\\n0       chr1     12227     12612      +      1                    False   \n1       chr1     12721     13220      +      1                    False   \n2       chr1     12057     12178      +      1                    False   \n3       chr1     12697     12974      +      1                    False   \n4       chr1     13052     13220      +      1                    False   \n...      ...       ...       ...    ...    ...                      ...   \n527913  chrY  24883840  24886132      +      0                    False   \n527914  chrY  24888605  24889352      +      0                    False   \n527915  chrY  24889386  24901111      +      0                    False   \n527916  chrY  24833970  24840730      +      0                    False   \n527917  chrY  24871607  24895696      +      0                    False   \n\n        ss_antisense_end_site RC3-Splice_site  RC3-Score  \\\n0                       False           GT:AG      59151   \n1                       False           GT:AG      61021   \n2                       False             NaN         -1   \n3                       False           GT:AG         21   \n4                       False           GC:AG        526   \n...                       ...             ...        ...   \n527913                  False             NaN         -1   \n527914                  False             NaN         -1   \n527915                  False             NaN         -1   \n527916                  False             NaN         -1   \n527917                  False             NaN         -1   \n\n        repeat_features_start_site:Centromere  ...  \\\n0                                           0  ...   \n1                                           0  ...   \n2                                           0  ...   \n3                                           0  ...   \n4                                           0  ...   \n...                                       ...  ...   \n527913                                      0  ...   \n527914                                      0  ...   \n527915                                      0  ...   \n527916                                      0  ...   \n527917                                      0  ...   \n\n        repeat_features_end_site:LTRs  repeat_features_end_site:Dust  \\\n0                                   0                              0   \n1                                   0                              0   \n2                                   0                              0   \n3                                   0                              0   \n4                                   0                              0   \n...                               ...                            ...   \n527913                              0                              0   \n527914                              0                              0   \n527915                              0                              0   \n527916                              0                              0   \n527917                              0                              0   \n\n        repeat_features_end_site:Unknown  \\\n0                                      0   \n1                                      0   \n2                                      0   \n3                                      0   \n4                                      0   \n...                                  ...   \n527913                                 0   \n527914                                 0   \n527915                                 0   \n527916                                 0   \n527917                                 0   \n\n        repeat_features_end_site:RNA repeats  \\\n0                                          0   \n1                                          0   \n2                                          0   \n3                                          0   \n4                                          0   \n...                                      ...   \n527913                                     0   \n527914                                     0   \n527915                                     0   \n527916                                     0   \n527917                                     0   \n\n        repeat_features_end_site:Satellite repeats  \\\n0                                                0   \n1                                                0   \n2                                                0   \n3                                                0   \n4                                                0   \n...                                            ...   \n527913                                           0   \n527914                                           0   \n527915                                           0   \n527916                                           0   \n527917                                           0   \n\n        repeat_features_end_site:Tandem repeats  \\\n0                                             0   \n1                                             0   \n2                                             0   \n3                                             0   \n4                                             0   \n...                                         ...   \n527913                                        0   \n527914                                        0   \n527915                                        0   \n527916                                        0   \n527917                                        0   \n\n        repeat_features_end_site:Low complexity regions  \\\n0                                                     0   \n1                                                     0   \n2                                                     0   \n3                                                     0   \n4                                                     0   \n...                                                 ...   \n527913                                                0   \n527914                                                0   \n527915                                                0   \n527916                                                0   \n527917                                                0   \n\n                                                 sequence  \\\n0       GTAAGTAGTGCTTGTGCTCATCTCCTTGGCTGTGATACGTGGCCGG...   \n1       GTGAGAGGAGAGTAGACAGTGAGTGGGAGTGGCGTCGCCCCTAGGG...   \n2       CACTGGAGTGGAGTTTTCCTGTGGAGAGGAGCCATGCCTAGAGTGG...   \n3       GTGAGTGTCCCCAGTGTTGCAGAGGTGAGAGGAGAGTAGACAGTGA...   \n4       GCAAGCCTGGCTGCCTCCAGCTGGGTCGACAGACAGGGGCTGGAGA...   \n...                                                   ...   \n527913  GTAAGAAGGAGTAAAATTATTTGCTTTCAGGTATTATTGAGGCCTT...   \n527914  GTAATGTAAGAAGGAGTAAAATTATTTGCTTTCAGGTATTATTGAG...   \n527915  ATTATGTTTTCCTTGATGTTAAGTGAATTAGCCAAACATAGACTTC...   \n527916  CCTTGGTTTTCCTTACACCTTAGCCTTTGGCTCCTTTGACCACTCG...   \n527917  GCTTATCCAAATTCACCATTTCAAGTCGCCACTGGATATCAGTTCC...   \n\n        hg38 - Acceptor splice site  hg38 - Donor splice site  \n0                                GT                        AG  \n1                                GT                        AG  \n2                                CA                        GA  \n3                                GT                        AG  \n4                                GC                        AG  \n...                             ...                       ...  \n527913                           GT                        GC  \n527914                           GT                        AG  \n527915                           AT                        AG  \n527916                           CC                        AG  \n527917                           GC                        CT  \n\n[527918 rows x 36 columns]",
      "text/html": "<div>\n<style scoped>\n    .dataframe tbody tr th:only-of-type {\n        vertical-align: middle;\n    }\n\n    .dataframe tbody tr th {\n        vertical-align: top;\n    }\n\n    .dataframe thead th {\n        text-align: right;\n    }\n</style>\n<table border=\"1\" class=\"dataframe\">\n  <thead>\n    <tr style=\"text-align: right;\">\n      <th></th>\n      <th>chr</th>\n      <th>start</th>\n      <th>end</th>\n      <th>strand</th>\n      <th>class</th>\n      <th>ss_antisense_start_site</th>\n      <th>ss_antisense_end_site</th>\n      <th>RC3-Splice_site</th>\n      <th>RC3-Score</th>\n      <th>repeat_features_start_site:Centromere</th>\n      <th>...</th>\n      <th>repeat_features_end_site:LTRs</th>\n      <th>repeat_features_end_site:Dust</th>\n      <th>repeat_features_end_site:Unknown</th>\n      <th>repeat_features_end_site:RNA repeats</th>\n      <th>repeat_features_end_site:Satellite repeats</th>\n      <th>repeat_features_end_site:Tandem repeats</th>\n      <th>repeat_features_end_site:Low complexity regions</th>\n      <th>sequence</th>\n      <th>hg38 - Acceptor splice site</th>\n      <th>hg38 - Donor splice site</th>\n    </tr>\n  </thead>\n  <tbody>\n    <tr>\n      <th>0</th>\n      <td>chr1</td>\n      <td>12227</td>\n      <td>12612</td>\n      <td>+</td>\n      <td>1</td>\n      <td>False</td>\n      <td>False</td>\n      <td>GT:AG</td>\n      <td>59151</td>\n      <td>0</td>\n      <td>...</td>\n      <td>0</td>\n      <td>0</td>\n      <td>0</td>\n      <td>0</td>\n      <td>0</td>\n      <td>0</td>\n      <td>0</td>\n      <td>GTAAGTAGTGCTTGTGCTCATCTCCTTGGCTGTGATACGTGGCCGG...</td>\n      <td>GT</td>\n      <td>AG</td>\n    </tr>\n    <tr>\n      <th>1</th>\n      <td>chr1</td>\n      <td>12721</td>\n      <td>13220</td>\n      <td>+</td>\n      <td>1</td>\n      <td>False</td>\n      <td>False</td>\n      <td>GT:AG</td>\n      <td>61021</td>\n      <td>0</td>\n      <td>...</td>\n      <td>0</td>\n      <td>0</td>\n      <td>0</td>\n      <td>0</td>\n      <td>0</td>\n      <td>0</td>\n      <td>0</td>\n      <td>GTGAGAGGAGAGTAGACAGTGAGTGGGAGTGGCGTCGCCCCTAGGG...</td>\n      <td>GT</td>\n      <td>AG</td>\n    </tr>\n    <tr>\n      <th>2</th>\n      <td>chr1</td>\n      <td>12057</td>\n      <td>12178</td>\n      <td>+</td>\n      <td>1</td>\n      <td>False</td>\n      <td>False</td>\n      <td>NaN</td>\n      <td>-1</td>\n      <td>0</td>\n      <td>...</td>\n      <td>0</td>\n      <td>0</td>\n      <td>0</td>\n      <td>0</td>\n      <td>0</td>\n      <td>0</td>\n      <td>0</td>\n      <td>CACTGGAGTGGAGTTTTCCTGTGGAGAGGAGCCATGCCTAGAGTGG...</td>\n      <td>CA</td>\n      <td>GA</td>\n    </tr>\n    <tr>\n      <th>3</th>\n      <td>chr1</td>\n      <td>12697</td>\n      <td>12974</td>\n      <td>+</td>\n      <td>1</td>\n      <td>False</td>\n      <td>False</td>\n      <td>GT:AG</td>\n      <td>21</td>\n      <td>0</td>\n      <td>...</td>\n      <td>0</td>\n      <td>0</td>\n      <td>0</td>\n      <td>0</td>\n      <td>0</td>\n      <td>0</td>\n      <td>0</td>\n      <td>GTGAGTGTCCCCAGTGTTGCAGAGGTGAGAGGAGAGTAGACAGTGA...</td>\n      <td>GT</td>\n      <td>AG</td>\n    </tr>\n    <tr>\n      <th>4</th>\n      <td>chr1</td>\n      <td>13052</td>\n      <td>13220</td>\n      <td>+</td>\n      <td>1</td>\n      <td>False</td>\n      <td>False</td>\n      <td>GC:AG</td>\n      <td>526</td>\n      <td>0</td>\n      <td>...</td>\n      <td>0</td>\n      <td>0</td>\n      <td>0</td>\n      <td>0</td>\n      <td>0</td>\n      <td>0</td>\n      <td>0</td>\n      <td>GCAAGCCTGGCTGCCTCCAGCTGGGTCGACAGACAGGGGCTGGAGA...</td>\n      <td>GC</td>\n      <td>AG</td>\n    </tr>\n    <tr>\n      <th>...</th>\n      <td>...</td>\n      <td>...</td>\n      <td>...</td>\n      <td>...</td>\n      <td>...</td>\n      <td>...</td>\n      <td>...</td>\n      <td>...</td>\n      <td>...</td>\n      <td>...</td>\n      <td>...</td>\n      <td>...</td>\n      <td>...</td>\n      <td>...</td>\n      <td>...</td>\n      <td>...</td>\n      <td>...</td>\n      <td>...</td>\n      <td>...</td>\n      <td>...</td>\n      <td>...</td>\n    </tr>\n    <tr>\n      <th>527913</th>\n      <td>chrY</td>\n      <td>24883840</td>\n      <td>24886132</td>\n      <td>+</td>\n      <td>0</td>\n      <td>False</td>\n      <td>False</td>\n      <td>NaN</td>\n      <td>-1</td>\n      <td>0</td>\n      <td>...</td>\n      <td>0</td>\n      <td>0</td>\n      <td>0</td>\n      <td>0</td>\n      <td>0</td>\n      <td>0</td>\n      <td>0</td>\n      <td>GTAAGAAGGAGTAAAATTATTTGCTTTCAGGTATTATTGAGGCCTT...</td>\n      <td>GT</td>\n      <td>GC</td>\n    </tr>\n    <tr>\n      <th>527914</th>\n      <td>chrY</td>\n      <td>24888605</td>\n      <td>24889352</td>\n      <td>+</td>\n      <td>0</td>\n      <td>False</td>\n      <td>False</td>\n      <td>NaN</td>\n      <td>-1</td>\n      <td>0</td>\n      <td>...</td>\n      <td>0</td>\n      <td>0</td>\n      <td>0</td>\n      <td>0</td>\n      <td>0</td>\n      <td>0</td>\n      <td>0</td>\n      <td>GTAATGTAAGAAGGAGTAAAATTATTTGCTTTCAGGTATTATTGAG...</td>\n      <td>GT</td>\n      <td>AG</td>\n    </tr>\n    <tr>\n      <th>527915</th>\n      <td>chrY</td>\n      <td>24889386</td>\n      <td>24901111</td>\n      <td>+</td>\n      <td>0</td>\n      <td>False</td>\n      <td>False</td>\n      <td>NaN</td>\n      <td>-1</td>\n      <td>0</td>\n      <td>...</td>\n      <td>0</td>\n      <td>0</td>\n      <td>0</td>\n      <td>0</td>\n      <td>0</td>\n      <td>0</td>\n      <td>0</td>\n      <td>ATTATGTTTTCCTTGATGTTAAGTGAATTAGCCAAACATAGACTTC...</td>\n      <td>AT</td>\n      <td>AG</td>\n    </tr>\n    <tr>\n      <th>527916</th>\n      <td>chrY</td>\n      <td>24833970</td>\n      <td>24840730</td>\n      <td>+</td>\n      <td>0</td>\n      <td>False</td>\n      <td>False</td>\n      <td>NaN</td>\n      <td>-1</td>\n      <td>0</td>\n      <td>...</td>\n      <td>0</td>\n      <td>0</td>\n      <td>0</td>\n      <td>0</td>\n      <td>0</td>\n      <td>0</td>\n      <td>0</td>\n      <td>CCTTGGTTTTCCTTACACCTTAGCCTTTGGCTCCTTTGACCACTCG...</td>\n      <td>CC</td>\n      <td>AG</td>\n    </tr>\n    <tr>\n      <th>527917</th>\n      <td>chrY</td>\n      <td>24871607</td>\n      <td>24895696</td>\n      <td>+</td>\n      <td>0</td>\n      <td>False</td>\n      <td>False</td>\n      <td>NaN</td>\n      <td>-1</td>\n      <td>0</td>\n      <td>...</td>\n      <td>0</td>\n      <td>0</td>\n      <td>0</td>\n      <td>0</td>\n      <td>0</td>\n      <td>0</td>\n      <td>0</td>\n      <td>GCTTATCCAAATTCACCATTTCAAGTCGCCACTGGATATCAGTTCC...</td>\n      <td>GC</td>\n      <td>CT</td>\n    </tr>\n  </tbody>\n</table>\n<p>527918 rows × 36 columns</p>\n</div>"
     },
     "execution_count": 12,
     "metadata": {},
     "output_type": "execute_result"
    }
   ],
   "source": [
    "df = df.drop(columns=[\"GTExv2\", \"TCGAv2\", \"SRAv3h\"])\n",
    "df"
   ],
   "metadata": {
    "collapsed": false
   }
  },
  {
   "cell_type": "code",
   "execution_count": 13,
   "outputs": [
    {
     "data": {
      "text/plain": "         chr     start       end strand  class  ss_antisense_start_site  \\\n0       chr1     12227     12612      +      1                    False   \n1       chr1     12721     13220      +      1                    False   \n2       chr1     12057     12178      +      1                    False   \n3       chr1     12697     12974      +      1                    False   \n4       chr1     13052     13220      +      1                    False   \n...      ...       ...       ...    ...    ...                      ...   \n527913  chrY  24883840  24886132      +      0                    False   \n527914  chrY  24888605  24889352      +      0                    False   \n527915  chrY  24889386  24901111      +      0                    False   \n527916  chrY  24833970  24840730      +      0                    False   \n527917  chrY  24871607  24895696      +      0                    False   \n\n        ss_antisense_end_site  RC3-Splice_site  RC3-Score  \\\n0                       False                4      59151   \n1                       False                4      61021   \n2                       False                6         -1   \n3                       False                4         21   \n4                       False                3        526   \n...                       ...              ...        ...   \n527913                  False                6         -1   \n527914                  False                6         -1   \n527915                  False                6         -1   \n527916                  False                6         -1   \n527917                  False                6         -1   \n\n        repeat_features_start_site:Centromere  ...  \\\n0                                           0  ...   \n1                                           0  ...   \n2                                           0  ...   \n3                                           0  ...   \n4                                           0  ...   \n...                                       ...  ...   \n527913                                      0  ...   \n527914                                      0  ...   \n527915                                      0  ...   \n527916                                      0  ...   \n527917                                      0  ...   \n\n        repeat_features_end_site:LTRs  repeat_features_end_site:Dust  \\\n0                                   0                              0   \n1                                   0                              0   \n2                                   0                              0   \n3                                   0                              0   \n4                                   0                              0   \n...                               ...                            ...   \n527913                              0                              0   \n527914                              0                              0   \n527915                              0                              0   \n527916                              0                              0   \n527917                              0                              0   \n\n        repeat_features_end_site:Unknown  \\\n0                                      0   \n1                                      0   \n2                                      0   \n3                                      0   \n4                                      0   \n...                                  ...   \n527913                                 0   \n527914                                 0   \n527915                                 0   \n527916                                 0   \n527917                                 0   \n\n        repeat_features_end_site:RNA repeats  \\\n0                                          0   \n1                                          0   \n2                                          0   \n3                                          0   \n4                                          0   \n...                                      ...   \n527913                                     0   \n527914                                     0   \n527915                                     0   \n527916                                     0   \n527917                                     0   \n\n        repeat_features_end_site:Satellite repeats  \\\n0                                                0   \n1                                                0   \n2                                                0   \n3                                                0   \n4                                                0   \n...                                            ...   \n527913                                           0   \n527914                                           0   \n527915                                           0   \n527916                                           0   \n527917                                           0   \n\n        repeat_features_end_site:Tandem repeats  \\\n0                                             0   \n1                                             0   \n2                                             0   \n3                                             0   \n4                                             0   \n...                                         ...   \n527913                                        0   \n527914                                        0   \n527915                                        0   \n527916                                        0   \n527917                                        0   \n\n        repeat_features_end_site:Low complexity regions  \\\n0                                                     0   \n1                                                     0   \n2                                                     0   \n3                                                     0   \n4                                                     0   \n...                                                 ...   \n527913                                                0   \n527914                                                0   \n527915                                                0   \n527916                                                0   \n527917                                                0   \n\n                                                 sequence  \\\n0       GTAAGTAGTGCTTGTGCTCATCTCCTTGGCTGTGATACGTGGCCGG...   \n1       GTGAGAGGAGAGTAGACAGTGAGTGGGAGTGGCGTCGCCCCTAGGG...   \n2       CACTGGAGTGGAGTTTTCCTGTGGAGAGGAGCCATGCCTAGAGTGG...   \n3       GTGAGTGTCCCCAGTGTTGCAGAGGTGAGAGGAGAGTAGACAGTGA...   \n4       GCAAGCCTGGCTGCCTCCAGCTGGGTCGACAGACAGGGGCTGGAGA...   \n...                                                   ...   \n527913  GTAAGAAGGAGTAAAATTATTTGCTTTCAGGTATTATTGAGGCCTT...   \n527914  GTAATGTAAGAAGGAGTAAAATTATTTGCTTTCAGGTATTATTGAG...   \n527915  ATTATGTTTTCCTTGATGTTAAGTGAATTAGCCAAACATAGACTTC...   \n527916  CCTTGGTTTTCCTTACACCTTAGCCTTTGGCTCCTTTGACCACTCG...   \n527917  GCTTATCCAAATTCACCATTTCAAGTCGCCACTGGATATCAGTTCC...   \n\n        hg38 - Acceptor splice site  hg38 - Donor splice site  \n0                                GT                        AG  \n1                                GT                        AG  \n2                                CA                        GA  \n3                                GT                        AG  \n4                                GC                        AG  \n...                             ...                       ...  \n527913                           GT                        GC  \n527914                           GT                        AG  \n527915                           AT                        AG  \n527916                           CC                        AG  \n527917                           GC                        CT  \n\n[527918 rows x 36 columns]",
      "text/html": "<div>\n<style scoped>\n    .dataframe tbody tr th:only-of-type {\n        vertical-align: middle;\n    }\n\n    .dataframe tbody tr th {\n        vertical-align: top;\n    }\n\n    .dataframe thead th {\n        text-align: right;\n    }\n</style>\n<table border=\"1\" class=\"dataframe\">\n  <thead>\n    <tr style=\"text-align: right;\">\n      <th></th>\n      <th>chr</th>\n      <th>start</th>\n      <th>end</th>\n      <th>strand</th>\n      <th>class</th>\n      <th>ss_antisense_start_site</th>\n      <th>ss_antisense_end_site</th>\n      <th>RC3-Splice_site</th>\n      <th>RC3-Score</th>\n      <th>repeat_features_start_site:Centromere</th>\n      <th>...</th>\n      <th>repeat_features_end_site:LTRs</th>\n      <th>repeat_features_end_site:Dust</th>\n      <th>repeat_features_end_site:Unknown</th>\n      <th>repeat_features_end_site:RNA repeats</th>\n      <th>repeat_features_end_site:Satellite repeats</th>\n      <th>repeat_features_end_site:Tandem repeats</th>\n      <th>repeat_features_end_site:Low complexity regions</th>\n      <th>sequence</th>\n      <th>hg38 - Acceptor splice site</th>\n      <th>hg38 - Donor splice site</th>\n    </tr>\n  </thead>\n  <tbody>\n    <tr>\n      <th>0</th>\n      <td>chr1</td>\n      <td>12227</td>\n      <td>12612</td>\n      <td>+</td>\n      <td>1</td>\n      <td>False</td>\n      <td>False</td>\n      <td>4</td>\n      <td>59151</td>\n      <td>0</td>\n      <td>...</td>\n      <td>0</td>\n      <td>0</td>\n      <td>0</td>\n      <td>0</td>\n      <td>0</td>\n      <td>0</td>\n      <td>0</td>\n      <td>GTAAGTAGTGCTTGTGCTCATCTCCTTGGCTGTGATACGTGGCCGG...</td>\n      <td>GT</td>\n      <td>AG</td>\n    </tr>\n    <tr>\n      <th>1</th>\n      <td>chr1</td>\n      <td>12721</td>\n      <td>13220</td>\n      <td>+</td>\n      <td>1</td>\n      <td>False</td>\n      <td>False</td>\n      <td>4</td>\n      <td>61021</td>\n      <td>0</td>\n      <td>...</td>\n      <td>0</td>\n      <td>0</td>\n      <td>0</td>\n      <td>0</td>\n      <td>0</td>\n      <td>0</td>\n      <td>0</td>\n      <td>GTGAGAGGAGAGTAGACAGTGAGTGGGAGTGGCGTCGCCCCTAGGG...</td>\n      <td>GT</td>\n      <td>AG</td>\n    </tr>\n    <tr>\n      <th>2</th>\n      <td>chr1</td>\n      <td>12057</td>\n      <td>12178</td>\n      <td>+</td>\n      <td>1</td>\n      <td>False</td>\n      <td>False</td>\n      <td>6</td>\n      <td>-1</td>\n      <td>0</td>\n      <td>...</td>\n      <td>0</td>\n      <td>0</td>\n      <td>0</td>\n      <td>0</td>\n      <td>0</td>\n      <td>0</td>\n      <td>0</td>\n      <td>CACTGGAGTGGAGTTTTCCTGTGGAGAGGAGCCATGCCTAGAGTGG...</td>\n      <td>CA</td>\n      <td>GA</td>\n    </tr>\n    <tr>\n      <th>3</th>\n      <td>chr1</td>\n      <td>12697</td>\n      <td>12974</td>\n      <td>+</td>\n      <td>1</td>\n      <td>False</td>\n      <td>False</td>\n      <td>4</td>\n      <td>21</td>\n      <td>0</td>\n      <td>...</td>\n      <td>0</td>\n      <td>0</td>\n      <td>0</td>\n      <td>0</td>\n      <td>0</td>\n      <td>0</td>\n      <td>0</td>\n      <td>GTGAGTGTCCCCAGTGTTGCAGAGGTGAGAGGAGAGTAGACAGTGA...</td>\n      <td>GT</td>\n      <td>AG</td>\n    </tr>\n    <tr>\n      <th>4</th>\n      <td>chr1</td>\n      <td>13052</td>\n      <td>13220</td>\n      <td>+</td>\n      <td>1</td>\n      <td>False</td>\n      <td>False</td>\n      <td>3</td>\n      <td>526</td>\n      <td>0</td>\n      <td>...</td>\n      <td>0</td>\n      <td>0</td>\n      <td>0</td>\n      <td>0</td>\n      <td>0</td>\n      <td>0</td>\n      <td>0</td>\n      <td>GCAAGCCTGGCTGCCTCCAGCTGGGTCGACAGACAGGGGCTGGAGA...</td>\n      <td>GC</td>\n      <td>AG</td>\n    </tr>\n    <tr>\n      <th>...</th>\n      <td>...</td>\n      <td>...</td>\n      <td>...</td>\n      <td>...</td>\n      <td>...</td>\n      <td>...</td>\n      <td>...</td>\n      <td>...</td>\n      <td>...</td>\n      <td>...</td>\n      <td>...</td>\n      <td>...</td>\n      <td>...</td>\n      <td>...</td>\n      <td>...</td>\n      <td>...</td>\n      <td>...</td>\n      <td>...</td>\n      <td>...</td>\n      <td>...</td>\n      <td>...</td>\n    </tr>\n    <tr>\n      <th>527913</th>\n      <td>chrY</td>\n      <td>24883840</td>\n      <td>24886132</td>\n      <td>+</td>\n      <td>0</td>\n      <td>False</td>\n      <td>False</td>\n      <td>6</td>\n      <td>-1</td>\n      <td>0</td>\n      <td>...</td>\n      <td>0</td>\n      <td>0</td>\n      <td>0</td>\n      <td>0</td>\n      <td>0</td>\n      <td>0</td>\n      <td>0</td>\n      <td>GTAAGAAGGAGTAAAATTATTTGCTTTCAGGTATTATTGAGGCCTT...</td>\n      <td>GT</td>\n      <td>GC</td>\n    </tr>\n    <tr>\n      <th>527914</th>\n      <td>chrY</td>\n      <td>24888605</td>\n      <td>24889352</td>\n      <td>+</td>\n      <td>0</td>\n      <td>False</td>\n      <td>False</td>\n      <td>6</td>\n      <td>-1</td>\n      <td>0</td>\n      <td>...</td>\n      <td>0</td>\n      <td>0</td>\n      <td>0</td>\n      <td>0</td>\n      <td>0</td>\n      <td>0</td>\n      <td>0</td>\n      <td>GTAATGTAAGAAGGAGTAAAATTATTTGCTTTCAGGTATTATTGAG...</td>\n      <td>GT</td>\n      <td>AG</td>\n    </tr>\n    <tr>\n      <th>527915</th>\n      <td>chrY</td>\n      <td>24889386</td>\n      <td>24901111</td>\n      <td>+</td>\n      <td>0</td>\n      <td>False</td>\n      <td>False</td>\n      <td>6</td>\n      <td>-1</td>\n      <td>0</td>\n      <td>...</td>\n      <td>0</td>\n      <td>0</td>\n      <td>0</td>\n      <td>0</td>\n      <td>0</td>\n      <td>0</td>\n      <td>0</td>\n      <td>ATTATGTTTTCCTTGATGTTAAGTGAATTAGCCAAACATAGACTTC...</td>\n      <td>AT</td>\n      <td>AG</td>\n    </tr>\n    <tr>\n      <th>527916</th>\n      <td>chrY</td>\n      <td>24833970</td>\n      <td>24840730</td>\n      <td>+</td>\n      <td>0</td>\n      <td>False</td>\n      <td>False</td>\n      <td>6</td>\n      <td>-1</td>\n      <td>0</td>\n      <td>...</td>\n      <td>0</td>\n      <td>0</td>\n      <td>0</td>\n      <td>0</td>\n      <td>0</td>\n      <td>0</td>\n      <td>0</td>\n      <td>CCTTGGTTTTCCTTACACCTTAGCCTTTGGCTCCTTTGACCACTCG...</td>\n      <td>CC</td>\n      <td>AG</td>\n    </tr>\n    <tr>\n      <th>527917</th>\n      <td>chrY</td>\n      <td>24871607</td>\n      <td>24895696</td>\n      <td>+</td>\n      <td>0</td>\n      <td>False</td>\n      <td>False</td>\n      <td>6</td>\n      <td>-1</td>\n      <td>0</td>\n      <td>...</td>\n      <td>0</td>\n      <td>0</td>\n      <td>0</td>\n      <td>0</td>\n      <td>0</td>\n      <td>0</td>\n      <td>0</td>\n      <td>GCTTATCCAAATTCACCATTTCAAGTCGCCACTGGATATCAGTTCC...</td>\n      <td>GC</td>\n      <td>CT</td>\n    </tr>\n  </tbody>\n</table>\n<p>527918 rows × 36 columns</p>\n</div>"
     },
     "execution_count": 13,
     "metadata": {},
     "output_type": "execute_result"
    }
   ],
   "source": [
    "le = preprocessing.LabelEncoder()\n",
    "le.fit(df[\"RC3-Splice_site\"])\n",
    "df[\"RC3-Splice_site\"] = le.transform(df[\"RC3-Splice_site\"])\n",
    "\n",
    "df"
   ],
   "metadata": {
    "collapsed": false
   }
  },
  {
   "cell_type": "code",
   "execution_count": 14,
   "outputs": [
    {
     "data": {
      "text/plain": "         chr     start       end strand  class  ss_antisense_start_site  \\\n0       chr1     12227     12612      +      1                        0   \n1       chr1     12721     13220      +      1                        0   \n2       chr1     12057     12178      +      1                        0   \n3       chr1     12697     12974      +      1                        0   \n4       chr1     13052     13220      +      1                        0   \n...      ...       ...       ...    ...    ...                      ...   \n527913  chrY  24883840  24886132      +      0                        0   \n527914  chrY  24888605  24889352      +      0                        0   \n527915  chrY  24889386  24901111      +      0                        0   \n527916  chrY  24833970  24840730      +      0                        0   \n527917  chrY  24871607  24895696      +      0                        0   \n\n        ss_antisense_end_site  RC3-Splice_site  RC3-Score  \\\n0                           0                4      59151   \n1                           0                4      61021   \n2                           0                6         -1   \n3                           0                4         21   \n4                           0                3        526   \n...                       ...              ...        ...   \n527913                      0                6         -1   \n527914                      0                6         -1   \n527915                      0                6         -1   \n527916                      0                6         -1   \n527917                      0                6         -1   \n\n        repeat_features_start_site:Centromere  ...  \\\n0                                           0  ...   \n1                                           0  ...   \n2                                           0  ...   \n3                                           0  ...   \n4                                           0  ...   \n...                                       ...  ...   \n527913                                      0  ...   \n527914                                      0  ...   \n527915                                      0  ...   \n527916                                      0  ...   \n527917                                      0  ...   \n\n        repeat_features_end_site:LTRs  repeat_features_end_site:Dust  \\\n0                                   0                              0   \n1                                   0                              0   \n2                                   0                              0   \n3                                   0                              0   \n4                                   0                              0   \n...                               ...                            ...   \n527913                              0                              0   \n527914                              0                              0   \n527915                              0                              0   \n527916                              0                              0   \n527917                              0                              0   \n\n        repeat_features_end_site:Unknown  \\\n0                                      0   \n1                                      0   \n2                                      0   \n3                                      0   \n4                                      0   \n...                                  ...   \n527913                                 0   \n527914                                 0   \n527915                                 0   \n527916                                 0   \n527917                                 0   \n\n        repeat_features_end_site:RNA repeats  \\\n0                                          0   \n1                                          0   \n2                                          0   \n3                                          0   \n4                                          0   \n...                                      ...   \n527913                                     0   \n527914                                     0   \n527915                                     0   \n527916                                     0   \n527917                                     0   \n\n        repeat_features_end_site:Satellite repeats  \\\n0                                                0   \n1                                                0   \n2                                                0   \n3                                                0   \n4                                                0   \n...                                            ...   \n527913                                           0   \n527914                                           0   \n527915                                           0   \n527916                                           0   \n527917                                           0   \n\n        repeat_features_end_site:Tandem repeats  \\\n0                                             0   \n1                                             0   \n2                                             0   \n3                                             0   \n4                                             0   \n...                                         ...   \n527913                                        0   \n527914                                        0   \n527915                                        0   \n527916                                        0   \n527917                                        0   \n\n        repeat_features_end_site:Low complexity regions  \\\n0                                                     0   \n1                                                     0   \n2                                                     0   \n3                                                     0   \n4                                                     0   \n...                                                 ...   \n527913                                                0   \n527914                                                0   \n527915                                                0   \n527916                                                0   \n527917                                                0   \n\n                                                 sequence  \\\n0       GTAAGTAGTGCTTGTGCTCATCTCCTTGGCTGTGATACGTGGCCGG...   \n1       GTGAGAGGAGAGTAGACAGTGAGTGGGAGTGGCGTCGCCCCTAGGG...   \n2       CACTGGAGTGGAGTTTTCCTGTGGAGAGGAGCCATGCCTAGAGTGG...   \n3       GTGAGTGTCCCCAGTGTTGCAGAGGTGAGAGGAGAGTAGACAGTGA...   \n4       GCAAGCCTGGCTGCCTCCAGCTGGGTCGACAGACAGGGGCTGGAGA...   \n...                                                   ...   \n527913  GTAAGAAGGAGTAAAATTATTTGCTTTCAGGTATTATTGAGGCCTT...   \n527914  GTAATGTAAGAAGGAGTAAAATTATTTGCTTTCAGGTATTATTGAG...   \n527915  ATTATGTTTTCCTTGATGTTAAGTGAATTAGCCAAACATAGACTTC...   \n527916  CCTTGGTTTTCCTTACACCTTAGCCTTTGGCTCCTTTGACCACTCG...   \n527917  GCTTATCCAAATTCACCATTTCAAGTCGCCACTGGATATCAGTTCC...   \n\n        hg38 - Acceptor splice site  hg38 - Donor splice site  \n0                                13                         2  \n1                                13                         2  \n2                                 5                        10  \n3                                13                         2  \n4                                11                         2  \n...                             ...                       ...  \n527913                           13                        11  \n527914                           13                         2  \n527915                            3                         2  \n527916                            6                         2  \n527917                           11                         8  \n\n[527918 rows x 36 columns]",
      "text/html": "<div>\n<style scoped>\n    .dataframe tbody tr th:only-of-type {\n        vertical-align: middle;\n    }\n\n    .dataframe tbody tr th {\n        vertical-align: top;\n    }\n\n    .dataframe thead th {\n        text-align: right;\n    }\n</style>\n<table border=\"1\" class=\"dataframe\">\n  <thead>\n    <tr style=\"text-align: right;\">\n      <th></th>\n      <th>chr</th>\n      <th>start</th>\n      <th>end</th>\n      <th>strand</th>\n      <th>class</th>\n      <th>ss_antisense_start_site</th>\n      <th>ss_antisense_end_site</th>\n      <th>RC3-Splice_site</th>\n      <th>RC3-Score</th>\n      <th>repeat_features_start_site:Centromere</th>\n      <th>...</th>\n      <th>repeat_features_end_site:LTRs</th>\n      <th>repeat_features_end_site:Dust</th>\n      <th>repeat_features_end_site:Unknown</th>\n      <th>repeat_features_end_site:RNA repeats</th>\n      <th>repeat_features_end_site:Satellite repeats</th>\n      <th>repeat_features_end_site:Tandem repeats</th>\n      <th>repeat_features_end_site:Low complexity regions</th>\n      <th>sequence</th>\n      <th>hg38 - Acceptor splice site</th>\n      <th>hg38 - Donor splice site</th>\n    </tr>\n  </thead>\n  <tbody>\n    <tr>\n      <th>0</th>\n      <td>chr1</td>\n      <td>12227</td>\n      <td>12612</td>\n      <td>+</td>\n      <td>1</td>\n      <td>0</td>\n      <td>0</td>\n      <td>4</td>\n      <td>59151</td>\n      <td>0</td>\n      <td>...</td>\n      <td>0</td>\n      <td>0</td>\n      <td>0</td>\n      <td>0</td>\n      <td>0</td>\n      <td>0</td>\n      <td>0</td>\n      <td>GTAAGTAGTGCTTGTGCTCATCTCCTTGGCTGTGATACGTGGCCGG...</td>\n      <td>13</td>\n      <td>2</td>\n    </tr>\n    <tr>\n      <th>1</th>\n      <td>chr1</td>\n      <td>12721</td>\n      <td>13220</td>\n      <td>+</td>\n      <td>1</td>\n      <td>0</td>\n      <td>0</td>\n      <td>4</td>\n      <td>61021</td>\n      <td>0</td>\n      <td>...</td>\n      <td>0</td>\n      <td>0</td>\n      <td>0</td>\n      <td>0</td>\n      <td>0</td>\n      <td>0</td>\n      <td>0</td>\n      <td>GTGAGAGGAGAGTAGACAGTGAGTGGGAGTGGCGTCGCCCCTAGGG...</td>\n      <td>13</td>\n      <td>2</td>\n    </tr>\n    <tr>\n      <th>2</th>\n      <td>chr1</td>\n      <td>12057</td>\n      <td>12178</td>\n      <td>+</td>\n      <td>1</td>\n      <td>0</td>\n      <td>0</td>\n      <td>6</td>\n      <td>-1</td>\n      <td>0</td>\n      <td>...</td>\n      <td>0</td>\n      <td>0</td>\n      <td>0</td>\n      <td>0</td>\n      <td>0</td>\n      <td>0</td>\n      <td>0</td>\n      <td>CACTGGAGTGGAGTTTTCCTGTGGAGAGGAGCCATGCCTAGAGTGG...</td>\n      <td>5</td>\n      <td>10</td>\n    </tr>\n    <tr>\n      <th>3</th>\n      <td>chr1</td>\n      <td>12697</td>\n      <td>12974</td>\n      <td>+</td>\n      <td>1</td>\n      <td>0</td>\n      <td>0</td>\n      <td>4</td>\n      <td>21</td>\n      <td>0</td>\n      <td>...</td>\n      <td>0</td>\n      <td>0</td>\n      <td>0</td>\n      <td>0</td>\n      <td>0</td>\n      <td>0</td>\n      <td>0</td>\n      <td>GTGAGTGTCCCCAGTGTTGCAGAGGTGAGAGGAGAGTAGACAGTGA...</td>\n      <td>13</td>\n      <td>2</td>\n    </tr>\n    <tr>\n      <th>4</th>\n      <td>chr1</td>\n      <td>13052</td>\n      <td>13220</td>\n      <td>+</td>\n      <td>1</td>\n      <td>0</td>\n      <td>0</td>\n      <td>3</td>\n      <td>526</td>\n      <td>0</td>\n      <td>...</td>\n      <td>0</td>\n      <td>0</td>\n      <td>0</td>\n      <td>0</td>\n      <td>0</td>\n      <td>0</td>\n      <td>0</td>\n      <td>GCAAGCCTGGCTGCCTCCAGCTGGGTCGACAGACAGGGGCTGGAGA...</td>\n      <td>11</td>\n      <td>2</td>\n    </tr>\n    <tr>\n      <th>...</th>\n      <td>...</td>\n      <td>...</td>\n      <td>...</td>\n      <td>...</td>\n      <td>...</td>\n      <td>...</td>\n      <td>...</td>\n      <td>...</td>\n      <td>...</td>\n      <td>...</td>\n      <td>...</td>\n      <td>...</td>\n      <td>...</td>\n      <td>...</td>\n      <td>...</td>\n      <td>...</td>\n      <td>...</td>\n      <td>...</td>\n      <td>...</td>\n      <td>...</td>\n      <td>...</td>\n    </tr>\n    <tr>\n      <th>527913</th>\n      <td>chrY</td>\n      <td>24883840</td>\n      <td>24886132</td>\n      <td>+</td>\n      <td>0</td>\n      <td>0</td>\n      <td>0</td>\n      <td>6</td>\n      <td>-1</td>\n      <td>0</td>\n      <td>...</td>\n      <td>0</td>\n      <td>0</td>\n      <td>0</td>\n      <td>0</td>\n      <td>0</td>\n      <td>0</td>\n      <td>0</td>\n      <td>GTAAGAAGGAGTAAAATTATTTGCTTTCAGGTATTATTGAGGCCTT...</td>\n      <td>13</td>\n      <td>11</td>\n    </tr>\n    <tr>\n      <th>527914</th>\n      <td>chrY</td>\n      <td>24888605</td>\n      <td>24889352</td>\n      <td>+</td>\n      <td>0</td>\n      <td>0</td>\n      <td>0</td>\n      <td>6</td>\n      <td>-1</td>\n      <td>0</td>\n      <td>...</td>\n      <td>0</td>\n      <td>0</td>\n      <td>0</td>\n      <td>0</td>\n      <td>0</td>\n      <td>0</td>\n      <td>0</td>\n      <td>GTAATGTAAGAAGGAGTAAAATTATTTGCTTTCAGGTATTATTGAG...</td>\n      <td>13</td>\n      <td>2</td>\n    </tr>\n    <tr>\n      <th>527915</th>\n      <td>chrY</td>\n      <td>24889386</td>\n      <td>24901111</td>\n      <td>+</td>\n      <td>0</td>\n      <td>0</td>\n      <td>0</td>\n      <td>6</td>\n      <td>-1</td>\n      <td>0</td>\n      <td>...</td>\n      <td>0</td>\n      <td>0</td>\n      <td>0</td>\n      <td>0</td>\n      <td>0</td>\n      <td>0</td>\n      <td>0</td>\n      <td>ATTATGTTTTCCTTGATGTTAAGTGAATTAGCCAAACATAGACTTC...</td>\n      <td>3</td>\n      <td>2</td>\n    </tr>\n    <tr>\n      <th>527916</th>\n      <td>chrY</td>\n      <td>24833970</td>\n      <td>24840730</td>\n      <td>+</td>\n      <td>0</td>\n      <td>0</td>\n      <td>0</td>\n      <td>6</td>\n      <td>-1</td>\n      <td>0</td>\n      <td>...</td>\n      <td>0</td>\n      <td>0</td>\n      <td>0</td>\n      <td>0</td>\n      <td>0</td>\n      <td>0</td>\n      <td>0</td>\n      <td>CCTTGGTTTTCCTTACACCTTAGCCTTTGGCTCCTTTGACCACTCG...</td>\n      <td>6</td>\n      <td>2</td>\n    </tr>\n    <tr>\n      <th>527917</th>\n      <td>chrY</td>\n      <td>24871607</td>\n      <td>24895696</td>\n      <td>+</td>\n      <td>0</td>\n      <td>0</td>\n      <td>0</td>\n      <td>6</td>\n      <td>-1</td>\n      <td>0</td>\n      <td>...</td>\n      <td>0</td>\n      <td>0</td>\n      <td>0</td>\n      <td>0</td>\n      <td>0</td>\n      <td>0</td>\n      <td>0</td>\n      <td>GCTTATCCAAATTCACCATTTCAAGTCGCCACTGGATATCAGTTCC...</td>\n      <td>11</td>\n      <td>8</td>\n    </tr>\n  </tbody>\n</table>\n<p>527918 rows × 36 columns</p>\n</div>"
     },
     "execution_count": 14,
     "metadata": {},
     "output_type": "execute_result"
    }
   ],
   "source": [
    "le = preprocessing.LabelEncoder()\n",
    "le.fit(df[\"hg38 - Acceptor splice site\"])\n",
    "df[\"hg38 - Acceptor splice site\"] = le.transform(df[\"hg38 - Acceptor splice site\"])\n",
    "\n",
    "le = preprocessing.LabelEncoder()\n",
    "le.fit(df[\"hg38 - Donor splice site\"])\n",
    "df[\"hg38 - Donor splice site\"] = le.transform(df[\"hg38 - Donor splice site\"])\n",
    "\n",
    "le = preprocessing.LabelEncoder()\n",
    "le.fit(df[\"ss_antisense_start_site\"])\n",
    "df[\"ss_antisense_start_site\"] = le.transform(df[\"ss_antisense_start_site\"])\n",
    "\n",
    "le = preprocessing.LabelEncoder()\n",
    "le.fit(df[\"ss_antisense_end_site\"])\n",
    "df[\"ss_antisense_end_site\"] = le.transform(df[\"ss_antisense_end_site\"])\n",
    "\n",
    "df"
   ],
   "metadata": {
    "collapsed": false
   }
  },
  {
   "cell_type": "code",
   "execution_count": 15,
   "outputs": [
    {
     "data": {
      "text/plain": "0         1\n1         1\n2         1\n3         1\n4         1\n         ..\n527913    0\n527914    0\n527915    0\n527916    0\n527917    0\nName: class, Length: 527918, dtype: int64"
     },
     "execution_count": 15,
     "metadata": {},
     "output_type": "execute_result"
    }
   ],
   "source": [
    "df_annot_test_y = df.pop(\"class\")\n",
    "\n",
    "# Drop the columns that might not be available prior to manual gene annotation or irrelevant to ML\n",
    "df_annot_test_X_1 = df.drop([\"chr\", \"start\", \"end\", \"strand\", \"RC3-Splice_site\", \"sequence\"], axis=1)\n",
    "del df\n",
    "df_annot_test_y"
   ],
   "metadata": {
    "collapsed": false
   }
  },
  {
   "cell_type": "code",
   "execution_count": 16,
   "outputs": [
    {
     "data": {
      "text/plain": "        ss_antisense_start_site  ss_antisense_end_site  RC3-Score  \\\n0                             0                      0      59151   \n1                             0                      0      61021   \n2                             0                      0         -1   \n3                             0                      0         21   \n4                             0                      0        526   \n...                         ...                    ...        ...   \n527913                        0                      0         -1   \n527914                        0                      0         -1   \n527915                        0                      0         -1   \n527916                        0                      0         -1   \n527917                        0                      0         -1   \n\n        repeat_features_start_site:Centromere  \\\n0                                           0   \n1                                           0   \n2                                           0   \n3                                           0   \n4                                           0   \n...                                       ...   \n527913                                      0   \n527914                                      0   \n527915                                      0   \n527916                                      0   \n527917                                      0   \n\n        repeat_features_start_site:Type II Transposons  \\\n0                                                    0   \n1                                                    0   \n2                                                    0   \n3                                                    0   \n4                                                    0   \n...                                                ...   \n527913                                               0   \n527914                                               0   \n527915                                               0   \n527916                                               0   \n527917                                               0   \n\n        repeat_features_start_site:Type I Transposons/SINE  \\\n0                                                       0    \n1                                                       0    \n2                                                       0    \n3                                                       0    \n4                                                       0    \n...                                                   ...    \n527913                                                  0    \n527914                                                  0    \n527915                                                  0    \n527916                                                  0    \n527917                                                  0    \n\n        repeat_features_start_site:Simple repeats  \\\n0                                               0   \n1                                               0   \n2                                               0   \n3                                               0   \n4                                               0   \n...                                           ...   \n527913                                          0   \n527914                                          0   \n527915                                          0   \n527916                                          0   \n527917                                          0   \n\n        repeat_features_start_site:Type I Transposons/LINE  \\\n0                                                       0    \n1                                                       0    \n2                                                       0    \n3                                                       0    \n4                                                       0    \n...                                                   ...    \n527913                                                  0    \n527914                                                  0    \n527915                                                  0    \n527916                                                  0    \n527917                                                  0    \n\n        repeat_features_start_site:LTRs  repeat_features_start_site:Dust  ...  \\\n0                                     0                                0  ...   \n1                                     0                                0  ...   \n2                                     0                                0  ...   \n3                                     0                                0  ...   \n4                                     0                                0  ...   \n...                                 ...                              ...  ...   \n527913                                0                                0  ...   \n527914                                0                                0  ...   \n527915                                0                                0  ...   \n527916                                0                                0  ...   \n527917                                0                                0  ...   \n\n        repeat_features_end_site:Type I Transposons/LINE  \\\n0                                                      0   \n1                                                      0   \n2                                                      0   \n3                                                      0   \n4                                                      0   \n...                                                  ...   \n527913                                                 0   \n527914                                                 0   \n527915                                                 0   \n527916                                                 0   \n527917                                                 0   \n\n        repeat_features_end_site:LTRs  repeat_features_end_site:Dust  \\\n0                                   0                              0   \n1                                   0                              0   \n2                                   0                              0   \n3                                   0                              0   \n4                                   0                              0   \n...                               ...                            ...   \n527913                              0                              0   \n527914                              0                              0   \n527915                              0                              0   \n527916                              0                              0   \n527917                              0                              0   \n\n        repeat_features_end_site:Unknown  \\\n0                                      0   \n1                                      0   \n2                                      0   \n3                                      0   \n4                                      0   \n...                                  ...   \n527913                                 0   \n527914                                 0   \n527915                                 0   \n527916                                 0   \n527917                                 0   \n\n        repeat_features_end_site:RNA repeats  \\\n0                                          0   \n1                                          0   \n2                                          0   \n3                                          0   \n4                                          0   \n...                                      ...   \n527913                                     0   \n527914                                     0   \n527915                                     0   \n527916                                     0   \n527917                                     0   \n\n        repeat_features_end_site:Satellite repeats  \\\n0                                                0   \n1                                                0   \n2                                                0   \n3                                                0   \n4                                                0   \n...                                            ...   \n527913                                           0   \n527914                                           0   \n527915                                           0   \n527916                                           0   \n527917                                           0   \n\n        repeat_features_end_site:Tandem repeats  \\\n0                                             0   \n1                                             0   \n2                                             0   \n3                                             0   \n4                                             0   \n...                                         ...   \n527913                                        0   \n527914                                        0   \n527915                                        0   \n527916                                        0   \n527917                                        0   \n\n        repeat_features_end_site:Low complexity regions  \\\n0                                                     0   \n1                                                     0   \n2                                                     0   \n3                                                     0   \n4                                                     0   \n...                                                 ...   \n527913                                                0   \n527914                                                0   \n527915                                                0   \n527916                                                0   \n527917                                                0   \n\n        hg38 - Acceptor splice site  hg38 - Donor splice site  \n0                                13                         2  \n1                                13                         2  \n2                                 5                        10  \n3                                13                         2  \n4                                11                         2  \n...                             ...                       ...  \n527913                           13                        11  \n527914                           13                         2  \n527915                            3                         2  \n527916                            6                         2  \n527917                           11                         8  \n\n[527918 rows x 29 columns]",
      "text/html": "<div>\n<style scoped>\n    .dataframe tbody tr th:only-of-type {\n        vertical-align: middle;\n    }\n\n    .dataframe tbody tr th {\n        vertical-align: top;\n    }\n\n    .dataframe thead th {\n        text-align: right;\n    }\n</style>\n<table border=\"1\" class=\"dataframe\">\n  <thead>\n    <tr style=\"text-align: right;\">\n      <th></th>\n      <th>ss_antisense_start_site</th>\n      <th>ss_antisense_end_site</th>\n      <th>RC3-Score</th>\n      <th>repeat_features_start_site:Centromere</th>\n      <th>repeat_features_start_site:Type II Transposons</th>\n      <th>repeat_features_start_site:Type I Transposons/SINE</th>\n      <th>repeat_features_start_site:Simple repeats</th>\n      <th>repeat_features_start_site:Type I Transposons/LINE</th>\n      <th>repeat_features_start_site:LTRs</th>\n      <th>repeat_features_start_site:Dust</th>\n      <th>...</th>\n      <th>repeat_features_end_site:Type I Transposons/LINE</th>\n      <th>repeat_features_end_site:LTRs</th>\n      <th>repeat_features_end_site:Dust</th>\n      <th>repeat_features_end_site:Unknown</th>\n      <th>repeat_features_end_site:RNA repeats</th>\n      <th>repeat_features_end_site:Satellite repeats</th>\n      <th>repeat_features_end_site:Tandem repeats</th>\n      <th>repeat_features_end_site:Low complexity regions</th>\n      <th>hg38 - Acceptor splice site</th>\n      <th>hg38 - Donor splice site</th>\n    </tr>\n  </thead>\n  <tbody>\n    <tr>\n      <th>0</th>\n      <td>0</td>\n      <td>0</td>\n      <td>59151</td>\n      <td>0</td>\n      <td>0</td>\n      <td>0</td>\n      <td>0</td>\n      <td>0</td>\n      <td>0</td>\n      <td>0</td>\n      <td>...</td>\n      <td>0</td>\n      <td>0</td>\n      <td>0</td>\n      <td>0</td>\n      <td>0</td>\n      <td>0</td>\n      <td>0</td>\n      <td>0</td>\n      <td>13</td>\n      <td>2</td>\n    </tr>\n    <tr>\n      <th>1</th>\n      <td>0</td>\n      <td>0</td>\n      <td>61021</td>\n      <td>0</td>\n      <td>0</td>\n      <td>0</td>\n      <td>0</td>\n      <td>0</td>\n      <td>0</td>\n      <td>0</td>\n      <td>...</td>\n      <td>0</td>\n      <td>0</td>\n      <td>0</td>\n      <td>0</td>\n      <td>0</td>\n      <td>0</td>\n      <td>0</td>\n      <td>0</td>\n      <td>13</td>\n      <td>2</td>\n    </tr>\n    <tr>\n      <th>2</th>\n      <td>0</td>\n      <td>0</td>\n      <td>-1</td>\n      <td>0</td>\n      <td>0</td>\n      <td>0</td>\n      <td>0</td>\n      <td>0</td>\n      <td>0</td>\n      <td>0</td>\n      <td>...</td>\n      <td>0</td>\n      <td>0</td>\n      <td>0</td>\n      <td>0</td>\n      <td>0</td>\n      <td>0</td>\n      <td>0</td>\n      <td>0</td>\n      <td>5</td>\n      <td>10</td>\n    </tr>\n    <tr>\n      <th>3</th>\n      <td>0</td>\n      <td>0</td>\n      <td>21</td>\n      <td>0</td>\n      <td>0</td>\n      <td>0</td>\n      <td>0</td>\n      <td>0</td>\n      <td>0</td>\n      <td>0</td>\n      <td>...</td>\n      <td>0</td>\n      <td>0</td>\n      <td>0</td>\n      <td>0</td>\n      <td>0</td>\n      <td>0</td>\n      <td>0</td>\n      <td>0</td>\n      <td>13</td>\n      <td>2</td>\n    </tr>\n    <tr>\n      <th>4</th>\n      <td>0</td>\n      <td>0</td>\n      <td>526</td>\n      <td>0</td>\n      <td>0</td>\n      <td>0</td>\n      <td>0</td>\n      <td>0</td>\n      <td>0</td>\n      <td>0</td>\n      <td>...</td>\n      <td>0</td>\n      <td>0</td>\n      <td>0</td>\n      <td>0</td>\n      <td>0</td>\n      <td>0</td>\n      <td>0</td>\n      <td>0</td>\n      <td>11</td>\n      <td>2</td>\n    </tr>\n    <tr>\n      <th>...</th>\n      <td>...</td>\n      <td>...</td>\n      <td>...</td>\n      <td>...</td>\n      <td>...</td>\n      <td>...</td>\n      <td>...</td>\n      <td>...</td>\n      <td>...</td>\n      <td>...</td>\n      <td>...</td>\n      <td>...</td>\n      <td>...</td>\n      <td>...</td>\n      <td>...</td>\n      <td>...</td>\n      <td>...</td>\n      <td>...</td>\n      <td>...</td>\n      <td>...</td>\n      <td>...</td>\n    </tr>\n    <tr>\n      <th>527913</th>\n      <td>0</td>\n      <td>0</td>\n      <td>-1</td>\n      <td>0</td>\n      <td>0</td>\n      <td>0</td>\n      <td>0</td>\n      <td>0</td>\n      <td>0</td>\n      <td>0</td>\n      <td>...</td>\n      <td>0</td>\n      <td>0</td>\n      <td>0</td>\n      <td>0</td>\n      <td>0</td>\n      <td>0</td>\n      <td>0</td>\n      <td>0</td>\n      <td>13</td>\n      <td>11</td>\n    </tr>\n    <tr>\n      <th>527914</th>\n      <td>0</td>\n      <td>0</td>\n      <td>-1</td>\n      <td>0</td>\n      <td>0</td>\n      <td>0</td>\n      <td>0</td>\n      <td>0</td>\n      <td>0</td>\n      <td>0</td>\n      <td>...</td>\n      <td>0</td>\n      <td>0</td>\n      <td>0</td>\n      <td>0</td>\n      <td>0</td>\n      <td>0</td>\n      <td>0</td>\n      <td>0</td>\n      <td>13</td>\n      <td>2</td>\n    </tr>\n    <tr>\n      <th>527915</th>\n      <td>0</td>\n      <td>0</td>\n      <td>-1</td>\n      <td>0</td>\n      <td>0</td>\n      <td>0</td>\n      <td>0</td>\n      <td>0</td>\n      <td>0</td>\n      <td>0</td>\n      <td>...</td>\n      <td>0</td>\n      <td>0</td>\n      <td>0</td>\n      <td>0</td>\n      <td>0</td>\n      <td>0</td>\n      <td>0</td>\n      <td>0</td>\n      <td>3</td>\n      <td>2</td>\n    </tr>\n    <tr>\n      <th>527916</th>\n      <td>0</td>\n      <td>0</td>\n      <td>-1</td>\n      <td>0</td>\n      <td>0</td>\n      <td>0</td>\n      <td>0</td>\n      <td>0</td>\n      <td>0</td>\n      <td>0</td>\n      <td>...</td>\n      <td>0</td>\n      <td>0</td>\n      <td>0</td>\n      <td>0</td>\n      <td>0</td>\n      <td>0</td>\n      <td>0</td>\n      <td>0</td>\n      <td>6</td>\n      <td>2</td>\n    </tr>\n    <tr>\n      <th>527917</th>\n      <td>0</td>\n      <td>0</td>\n      <td>-1</td>\n      <td>0</td>\n      <td>0</td>\n      <td>0</td>\n      <td>0</td>\n      <td>0</td>\n      <td>0</td>\n      <td>0</td>\n      <td>...</td>\n      <td>0</td>\n      <td>0</td>\n      <td>0</td>\n      <td>0</td>\n      <td>0</td>\n      <td>0</td>\n      <td>0</td>\n      <td>0</td>\n      <td>11</td>\n      <td>8</td>\n    </tr>\n  </tbody>\n</table>\n<p>527918 rows × 29 columns</p>\n</div>"
     },
     "execution_count": 16,
     "metadata": {},
     "output_type": "execute_result"
    }
   ],
   "source": [
    "df_annot_test_X_1"
   ],
   "metadata": {
    "collapsed": false
   }
  },
  {
   "cell_type": "code",
   "execution_count": 17,
   "outputs": [],
   "source": [
    "X_train_val = df_annot_test_X_1.copy()\n",
    "y_train_val = df_annot_test_y.copy()\n",
    "del df_annot_test_X_1\n",
    "del df_annot_test_y"
   ],
   "metadata": {
    "collapsed": false
   }
  },
  {
   "cell_type": "code",
   "execution_count": 28,
   "outputs": [],
   "source": [
    "cv_acc_list = []\n",
    "cv_ba_acc_list = []\n",
    "cv_rocauc_list = []\n",
    "cv_precision_list = []\n",
    "cv_recall_list = []\n",
    "cv_mcc_list = []\n",
    "cv_specificity_list = []\n",
    "cv_sensitivity_list = []\n",
    "cv_fpr_list = []\n",
    "cv_fnr_list = []\n",
    "model_dict = {}\n",
    "model_index = 0\n",
    "matrix = []\n",
    "\n",
    "skf = StratifiedKFold(n_splits=5, shuffle=True, random_state=7)\n",
    "skf.get_n_splits(X_train_val, y_train_val)\n",
    "\n",
    "for train_index, val_index in skf.split(X_train_val, y_train_val):\n",
    "\tX_train_resampled = X_train_val.iloc[train_index]\n",
    "\ty_train_resampled = y_train_val.iloc[train_index].to_numpy().flatten()\n",
    "\n",
    "\tX_train, X_val = X_train_resampled, X_train_val.iloc[val_index]\n",
    "\ty_train, y_val = y_train_resampled, y_train_val.iloc[val_index].to_numpy().flatten()\n",
    "\n",
    "\tmodel_dict[model_index] = XGBClassifier(seed=0)\n",
    "\tmodel_dict[model_index].fit(X_train, y_train)\n",
    "\n",
    "\ty_predict = model_dict[model_index].predict_proba(X_val)\n",
    "\ty_predict = y_predict[:, 1]\n",
    "\ty_predict_class = list(map(round, y_predict))\n",
    "\n",
    "\ttest_acc = accuracy_score(y_val, y_predict_class)\n",
    "\ttest_rocauc = roc_auc_score(y_val, y_predict)\n",
    "\ttest_bal_acc = balanced_accuracy_score(y_val, y_predict_class)\n",
    "\ttest_precision = precision_score(y_val, y_predict_class)  # tp/(tp+fp)\n",
    "\ttest_recall = recall_score(y_val, y_predict_class)\n",
    "\ttest_mcc = matthews_corrcoef(y_val, y_predict_class)\n",
    "\tmatrix.append(confusion_matrix(y_val, y_predict_class))\n",
    "\ttn, fp, fn, tp = confusion_matrix(y_val, y_predict_class).ravel()\n",
    "\n",
    "\t# Adding the metrics to their list\n",
    "\tcv_acc_list.append(test_acc)\n",
    "\tcv_ba_acc_list.append(test_bal_acc)\n",
    "\tcv_rocauc_list.append(test_rocauc)\n",
    "\tcv_precision_list.append(test_precision)\n",
    "\tcv_mcc_list.append(test_mcc)\n",
    "\tcv_recall_list.append(test_recall)\n",
    "\tcv_specificity_list.append(tn / (tn + fp))\n",
    "\tcv_sensitivity_list.append(tp / (fn + tp))\n",
    "\tcv_fpr_list.append(fp/(fp+tn))\n",
    "\tcv_fnr_list.append(fn/(fn+tp))"
   ],
   "metadata": {
    "collapsed": false
   }
  },
  {
   "cell_type": "code",
   "execution_count": 31,
   "outputs": [
    {
     "name": "stdout",
     "output_type": "stream",
     "text": [
      "------------------------------------------------------------------------------------------\n",
      "Stratified Cross-Validation Performance (* metrics of interest)\n",
      "------------------------------------------------------------------------------------------\n",
      "*Accuracy: 0.923918107164877 \n",
      "AUCROC: 0.9647314948092031 \n",
      "*MCC: 0.7863888963473928 \n",
      "Sensitivity: 0.9590338270167629 \n",
      "Specificity: 0.8112765123973158 \n",
      "*Precision: 0.9421994623985742 \n",
      "Recall: 0.9590338270167629 \n",
      "*False Positive Rate: 0.18872348760268426 \n",
      "*False Negative Rate: 0.04096617298323711 \n",
      "Balanced Accuracy: 0.8851551697070393\n",
      "------------------------------------------------------------------------------------------\n",
      "Accuracy SD: 0.0006081233198110095 \n",
      "AUCROC SD: 0.0005960881952324975 \n",
      "MCC SD: 0.001810634761855386 \n",
      "Sensitivity SD: 0.000521986833002639 \n",
      "Specificity SD: 0.002633739225300021 \n",
      "Precision SD: 0.0007488998301044193  \n",
      "Recall SD: 0.000521986833002639 \n",
      "*False Positive Rate SD: 0.0026337392253000334 \n",
      "*False Negative Rate SD: 0.0005219868330026393 \n",
      "Balanced Accuracy SD: 0.0012465632205582936\n",
      "------------------------------------------------------------------------------------------\n"
     ]
    },
    {
     "data": {
      "text/plain": "array([[101786,  23678],\n       [ 16487, 385967]])"
     },
     "execution_count": 31,
     "metadata": {},
     "output_type": "execute_result"
    }
   ],
   "source": [
    "print(\"------------------------------------------------------------------------------------------\")\n",
    "print(\"Stratified Cross-Validation Performance (* metrics of interest)\")\n",
    "print(\"------------------------------------------------------------------------------------------\")\n",
    "print(\"*Accuracy: %s \\nAUCROC: %s \\n*MCC: %s \\nSensitivity: %s \\nSpecificity: %s \\n*Precision: %s \\nRecall: %s \\n*False Positive Rate: %s \\n*False Negative Rate: %s \\nBalanced Accuracy: %s\" % (\n",
    "        statistics.mean(cv_acc_list), statistics.mean(cv_rocauc_list), statistics.mean(cv_mcc_list),\n",
    "        statistics.mean(cv_sensitivity_list), statistics.mean(cv_specificity_list), statistics.mean(cv_precision_list), statistics.mean(cv_recall_list), statistics.mean(cv_fpr_list), statistics.mean(cv_fnr_list), statistics.mean(cv_ba_acc_list)))\n",
    "\n",
    "print(\"------------------------------------------------------------------------------------------\")\n",
    "print(\"Accuracy SD: %s \\nAUCROC SD: %s \\nMCC SD: %s \\nSensitivity SD: %s \\nSpecificity SD: %s \\nPrecision SD: %s  \\nRecall SD: %s \\n*False Positive Rate SD: %s \\n*False Negative Rate SD: %s \\nBalanced Accuracy SD: %s\" % (\n",
    "        np.std(cv_acc_list), np.std(cv_rocauc_list), np.std(cv_mcc_list),\n",
    "        np.std(cv_sensitivity_list), np.std(cv_specificity_list), np.std(cv_precision_list), np.std(cv_recall_list), np.std(cv_fpr_list), np.std(cv_fnr_list), np.std(cv_ba_acc_list)))\n",
    "\n",
    "\n",
    "print(\"------------------------------------------------------------------------------------------\")\n",
    "\n",
    "# Print the matrix\n",
    "(sum(matrix))"
   ],
   "metadata": {
    "collapsed": false
   }
  },
  {
   "cell_type": "markdown",
   "source": [
    "# Previous model:"
   ],
   "metadata": {
    "collapsed": false
   }
  },
  {
   "cell_type": "markdown",
   "source": [
    "| Metric               | Value                    | Standard Deviation       |\n",
    "|----------------------|--------------------------|--------------------------|\n",
    "| Accuracy             | 0.7983640800390435       | 0.007369779726815882     |\n",
    "| AUCROC               | 0.868038309019828        | 0.011973584999514585     |\n",
    "| MCC                  | 0.040672051294380555     | 0.0018166924023484236    |\n",
    "| Sensitivity          | 0.7983729490685108       | 0.0073908204378677214    |\n",
    "| Specificity          | 0.7869620253164558       | 0.03261376499333584      |\n",
    "| Precision            | 0.9997921983516019       | 3.094276128538986e-05    |\n",
    "| Recall               | 0.7983729490685108       |                          |\n",
    "| False Positive Rate  | 0.21303797468354432      |                          |\n",
    "| Balanced Accuracy    | 0.7926674871924831       | 0.014386556944333703     |\n",
    "\n",
    "\n",
    "<br/>\n",
    "\n",
    "|                     | Predicted Negative | Predicted Positive |\n",
    "|---------------------|--------------------|--------------------|\n",
    "| Actual Negative     | 314                | 85                 |\n",
    "| Actual Positive     | 103203             | 408648             |\n",
    "\n"
   ],
   "metadata": {
    "collapsed": false
   }
  },
  {
   "cell_type": "markdown",
   "source": [
    "|                     | Model 1 | Model 2 (with simulated reads)| Model 2 + Antisense feature + more false introns |\n",
    "|---------------------|---------|-------------------------------|-------------------------------------------------|\n",
    "| Accuracy            | 0.798   | 0.955                         | 0.923                                           |\n",
    "| MCC                 | 0.040   | 0.745                         | 0.786                                           |\n",
    "| Precision           | 0.999   | 0.967                         | 0.942                                           |\n",
    "| False Positive Rate | 0.213   | 0.291                         | 0.188                                           |\n",
    "<br/>\n",
    "\n",
    "|                     | Predicted Negative | Predicted Positive |\n",
    "|---------------------|--------------------|--------------------|\n",
    "| Actual Negative     | 101786             | 23678              |\n",
    "| Actual Positive     | 16487              | 385967              |\n",
    "\n",
    "The increase in MCC and Accuracy is significant, we have to account for the class imbalance in model 1 and that guarentees to have high precision rate and false positive rate, as now we have much more negatively-lablled data, the decrease in precision and increase false positive rate is still relatively low.\n",
    "Overall we can conclude that generating the false-set helps the model greatly."
   ],
   "metadata": {
    "collapsed": false
   }
  },
  {
   "cell_type": "code",
   "execution_count": 20,
   "outputs": [
    {
     "name": "stdout",
     "output_type": "stream",
     "text": [
      "                                             Property  Average_importance\n",
      "2                                           RC3-Score            0.359033\n",
      "20                      repeat_features_end_site:LTRs            0.094897\n",
      "7   repeat_features_start_site:Type I Transposons/...            0.082682\n",
      "8                     repeat_features_start_site:LTRs            0.066504\n",
      "19   repeat_features_end_site:Type I Transposons/LINE            0.066364\n",
      "17   repeat_features_end_site:Type I Transposons/SINE            0.065364\n",
      "16       repeat_features_end_site:Type II Transposons            0.054364\n",
      "4      repeat_features_start_site:Type II Transposons            0.048762\n",
      "5   repeat_features_start_site:Type I Transposons/...            0.038349\n",
      "0                             ss_antisense_start_site            0.018229\n",
      "27                        hg38 - Acceptor splice site            0.016348\n",
      "1                               ss_antisense_end_site            0.014549\n",
      "12       repeat_features_start_site:Satellite repeats            0.012266\n",
      "24         repeat_features_end_site:Satellite repeats            0.010279\n",
      "28                           hg38 - Donor splice site            0.008676\n",
      "22                   repeat_features_end_site:Unknown            0.005629\n",
      "13          repeat_features_start_site:Tandem repeats            0.004664\n",
      "25            repeat_features_end_site:Tandem repeats            0.004657\n",
      "6           repeat_features_start_site:Simple repeats            0.004422\n",
      "10                 repeat_features_start_site:Unknown            0.004120\n",
      "9                     repeat_features_start_site:Dust            0.004059\n",
      "18            repeat_features_end_site:Simple repeats            0.003222\n",
      "3               repeat_features_start_site:Centromere            0.002758\n",
      "21                      repeat_features_end_site:Dust            0.002749\n",
      "26    repeat_features_end_site:Low complexity regions            0.002623\n",
      "14  repeat_features_start_site:Low complexity regions            0.002440\n",
      "23               repeat_features_end_site:RNA repeats            0.001424\n",
      "11             repeat_features_start_site:RNA repeats            0.000568\n",
      "15                repeat_features_end_site:Centromere            0.000000\n"
     ]
    }
   ],
   "source": [
    "# Next we will evaluate the feature importance of the XGBoost model.\n",
    "def evaluate_feature_importance(df_evaluate_feature_importance, md):\n",
    "    feature_importance_average = [np.mean(i) for i in zip(*[md.get(model).feature_importances_ for model in md])]\n",
    "    df_feature_importance = pd.DataFrame()\n",
    "    df_feature_importance[\"Property\"] = df_evaluate_feature_importance.columns\n",
    "    df_feature_importance[\"Average_importance\"] = feature_importance_average\n",
    "    print(df_feature_importance.sort_values(by=\"Average_importance\", ascending=False).head(50))\n",
    "\n",
    "evaluate_feature_importance(df_evaluate_feature_importance=X_train_val.copy(), md=model_dict)"
   ],
   "metadata": {
    "collapsed": false
   }
  },
  {
   "cell_type": "markdown",
   "source": [
    "# Improvements\n",
    "\n",
    "We can see that Centromere, RNA repeats region, Unknown, and Dust region has the lowest importance, which is consistent with our hypothesis, we should be removing them from the features."
   ],
   "metadata": {
    "collapsed": false
   }
  },
  {
   "cell_type": "code",
   "execution_count": null,
   "outputs": [],
   "source": [],
   "metadata": {
    "collapsed": false
   }
  }
 ],
 "metadata": {
  "kernelspec": {
   "display_name": "Python 3",
   "language": "python",
   "name": "python3"
  },
  "language_info": {
   "codemirror_mode": {
    "name": "ipython",
    "version": 2
   },
   "file_extension": ".py",
   "mimetype": "text/x-python",
   "name": "python",
   "nbconvert_exporter": "python",
   "pygments_lexer": "ipython2",
   "version": "2.7.6"
  }
 },
 "nbformat": 4,
 "nbformat_minor": 0
}
