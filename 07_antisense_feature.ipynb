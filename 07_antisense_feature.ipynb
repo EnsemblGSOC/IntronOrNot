{
 "cells": [
  {
   "cell_type": "code",
   "execution_count": 1,
   "metadata": {
    "collapsed": true,
    "is_executing": true
   },
   "outputs": [],
   "source": [
    "import pandas as pd\n",
    "from pandarallel import pandarallel"
   ]
  },
  {
   "cell_type": "code",
   "execution_count": 2,
   "outputs": [
    {
     "data": {
      "text/plain": "         chr     start       end strand  class\n0       chr1     12227     12612      +      1\n1       chr1     12721     13220      +      1\n2       chr1     12057     12178      +      1\n3       chr1     12697     12974      +      1\n4       chr1     13052     13220      +      1\n...      ...       ...       ...    ...    ...\n519029  chrY  25464577  25465486      +      0\n519030  chrY  25513173  25513588      -      0\n519031  chrY  25513745  25516715      -      0\n519032  chrY  25525288  25527646      -      0\n519033  chrY  57213357  57213855      -      0\n\n[519034 rows x 5 columns]",
      "text/html": "<div>\n<style scoped>\n    .dataframe tbody tr th:only-of-type {\n        vertical-align: middle;\n    }\n\n    .dataframe tbody tr th {\n        vertical-align: top;\n    }\n\n    .dataframe thead th {\n        text-align: right;\n    }\n</style>\n<table border=\"1\" class=\"dataframe\">\n  <thead>\n    <tr style=\"text-align: right;\">\n      <th></th>\n      <th>chr</th>\n      <th>start</th>\n      <th>end</th>\n      <th>strand</th>\n      <th>class</th>\n    </tr>\n  </thead>\n  <tbody>\n    <tr>\n      <th>0</th>\n      <td>chr1</td>\n      <td>12227</td>\n      <td>12612</td>\n      <td>+</td>\n      <td>1</td>\n    </tr>\n    <tr>\n      <th>1</th>\n      <td>chr1</td>\n      <td>12721</td>\n      <td>13220</td>\n      <td>+</td>\n      <td>1</td>\n    </tr>\n    <tr>\n      <th>2</th>\n      <td>chr1</td>\n      <td>12057</td>\n      <td>12178</td>\n      <td>+</td>\n      <td>1</td>\n    </tr>\n    <tr>\n      <th>3</th>\n      <td>chr1</td>\n      <td>12697</td>\n      <td>12974</td>\n      <td>+</td>\n      <td>1</td>\n    </tr>\n    <tr>\n      <th>4</th>\n      <td>chr1</td>\n      <td>13052</td>\n      <td>13220</td>\n      <td>+</td>\n      <td>1</td>\n    </tr>\n    <tr>\n      <th>...</th>\n      <td>...</td>\n      <td>...</td>\n      <td>...</td>\n      <td>...</td>\n      <td>...</td>\n    </tr>\n    <tr>\n      <th>519029</th>\n      <td>chrY</td>\n      <td>25464577</td>\n      <td>25465486</td>\n      <td>+</td>\n      <td>0</td>\n    </tr>\n    <tr>\n      <th>519030</th>\n      <td>chrY</td>\n      <td>25513173</td>\n      <td>25513588</td>\n      <td>-</td>\n      <td>0</td>\n    </tr>\n    <tr>\n      <th>519031</th>\n      <td>chrY</td>\n      <td>25513745</td>\n      <td>25516715</td>\n      <td>-</td>\n      <td>0</td>\n    </tr>\n    <tr>\n      <th>519032</th>\n      <td>chrY</td>\n      <td>25525288</td>\n      <td>25527646</td>\n      <td>-</td>\n      <td>0</td>\n    </tr>\n    <tr>\n      <th>519033</th>\n      <td>chrY</td>\n      <td>57213357</td>\n      <td>57213855</td>\n      <td>-</td>\n      <td>0</td>\n    </tr>\n  </tbody>\n</table>\n<p>519034 rows × 5 columns</p>\n</div>"
     },
     "execution_count": 2,
     "metadata": {},
     "output_type": "execute_result"
    }
   ],
   "source": [
    "df_trainset = pd.read_csv(\"data/04_train_set.tsv\", sep=\"\\t\")\n",
    "df_trainset"
   ],
   "metadata": {
    "collapsed": false
   }
  },
  {
   "cell_type": "markdown",
   "source": [
    "# Generating splice-site antisense feature"
   ],
   "metadata": {
    "collapsed": false
   }
  },
  {
   "cell_type": "code",
   "execution_count": 3,
   "outputs": [
    {
     "data": {
      "text/plain": "          chr annotator  type  start    end x1 strand x2  \\\n2        chr1    HAVANA  exon  11869  12227  .      +  .   \n3        chr1    HAVANA  exon  12613  12721  .      +  .   \n4        chr1    HAVANA  exon  13221  14409  .      +  .   \n7        chr1    HAVANA  exon  12010  12057  .      +  .   \n8        chr1    HAVANA  exon  12179  12227  .      +  .   \n...       ...       ...   ...    ...    ... ..    ... ..   \n3424172  chrM   ENSEMBL  exon  14149  14673  .      -  .   \n3424177  chrM   ENSEMBL  exon  14674  14742  .      -  .   \n3424180  chrM   ENSEMBL  exon  14747  15887  .      +  .   \n3424185  chrM   ENSEMBL  exon  15888  15953  .      +  .   \n3424188  chrM   ENSEMBL  exon  15956  16023  .      -  .   \n\n                                                  features  \n2        gene_id \"ENSG00000290825.1\"; transcript_id \"EN...  \n3        gene_id \"ENSG00000290825.1\"; transcript_id \"EN...  \n4        gene_id \"ENSG00000290825.1\"; transcript_id \"EN...  \n7        gene_id \"ENSG00000223972.6\"; transcript_id \"EN...  \n8        gene_id \"ENSG00000223972.6\"; transcript_id \"EN...  \n...                                                    ...  \n3424172  gene_id \"ENSG00000198695.2\"; transcript_id \"EN...  \n3424177  gene_id \"ENSG00000210194.1\"; transcript_id \"EN...  \n3424180  gene_id \"ENSG00000198727.2\"; transcript_id \"EN...  \n3424185  gene_id \"ENSG00000210195.2\"; transcript_id \"EN...  \n3424188  gene_id \"ENSG00000210196.2\"; transcript_id \"EN...  \n\n[668308 rows x 9 columns]",
      "text/html": "<div>\n<style scoped>\n    .dataframe tbody tr th:only-of-type {\n        vertical-align: middle;\n    }\n\n    .dataframe tbody tr th {\n        vertical-align: top;\n    }\n\n    .dataframe thead th {\n        text-align: right;\n    }\n</style>\n<table border=\"1\" class=\"dataframe\">\n  <thead>\n    <tr style=\"text-align: right;\">\n      <th></th>\n      <th>chr</th>\n      <th>annotator</th>\n      <th>type</th>\n      <th>start</th>\n      <th>end</th>\n      <th>x1</th>\n      <th>strand</th>\n      <th>x2</th>\n      <th>features</th>\n    </tr>\n  </thead>\n  <tbody>\n    <tr>\n      <th>2</th>\n      <td>chr1</td>\n      <td>HAVANA</td>\n      <td>exon</td>\n      <td>11869</td>\n      <td>12227</td>\n      <td>.</td>\n      <td>+</td>\n      <td>.</td>\n      <td>gene_id \"ENSG00000290825.1\"; transcript_id \"EN...</td>\n    </tr>\n    <tr>\n      <th>3</th>\n      <td>chr1</td>\n      <td>HAVANA</td>\n      <td>exon</td>\n      <td>12613</td>\n      <td>12721</td>\n      <td>.</td>\n      <td>+</td>\n      <td>.</td>\n      <td>gene_id \"ENSG00000290825.1\"; transcript_id \"EN...</td>\n    </tr>\n    <tr>\n      <th>4</th>\n      <td>chr1</td>\n      <td>HAVANA</td>\n      <td>exon</td>\n      <td>13221</td>\n      <td>14409</td>\n      <td>.</td>\n      <td>+</td>\n      <td>.</td>\n      <td>gene_id \"ENSG00000290825.1\"; transcript_id \"EN...</td>\n    </tr>\n    <tr>\n      <th>7</th>\n      <td>chr1</td>\n      <td>HAVANA</td>\n      <td>exon</td>\n      <td>12010</td>\n      <td>12057</td>\n      <td>.</td>\n      <td>+</td>\n      <td>.</td>\n      <td>gene_id \"ENSG00000223972.6\"; transcript_id \"EN...</td>\n    </tr>\n    <tr>\n      <th>8</th>\n      <td>chr1</td>\n      <td>HAVANA</td>\n      <td>exon</td>\n      <td>12179</td>\n      <td>12227</td>\n      <td>.</td>\n      <td>+</td>\n      <td>.</td>\n      <td>gene_id \"ENSG00000223972.6\"; transcript_id \"EN...</td>\n    </tr>\n    <tr>\n      <th>...</th>\n      <td>...</td>\n      <td>...</td>\n      <td>...</td>\n      <td>...</td>\n      <td>...</td>\n      <td>...</td>\n      <td>...</td>\n      <td>...</td>\n      <td>...</td>\n    </tr>\n    <tr>\n      <th>3424172</th>\n      <td>chrM</td>\n      <td>ENSEMBL</td>\n      <td>exon</td>\n      <td>14149</td>\n      <td>14673</td>\n      <td>.</td>\n      <td>-</td>\n      <td>.</td>\n      <td>gene_id \"ENSG00000198695.2\"; transcript_id \"EN...</td>\n    </tr>\n    <tr>\n      <th>3424177</th>\n      <td>chrM</td>\n      <td>ENSEMBL</td>\n      <td>exon</td>\n      <td>14674</td>\n      <td>14742</td>\n      <td>.</td>\n      <td>-</td>\n      <td>.</td>\n      <td>gene_id \"ENSG00000210194.1\"; transcript_id \"EN...</td>\n    </tr>\n    <tr>\n      <th>3424180</th>\n      <td>chrM</td>\n      <td>ENSEMBL</td>\n      <td>exon</td>\n      <td>14747</td>\n      <td>15887</td>\n      <td>.</td>\n      <td>+</td>\n      <td>.</td>\n      <td>gene_id \"ENSG00000198727.2\"; transcript_id \"EN...</td>\n    </tr>\n    <tr>\n      <th>3424185</th>\n      <td>chrM</td>\n      <td>ENSEMBL</td>\n      <td>exon</td>\n      <td>15888</td>\n      <td>15953</td>\n      <td>.</td>\n      <td>+</td>\n      <td>.</td>\n      <td>gene_id \"ENSG00000210195.2\"; transcript_id \"EN...</td>\n    </tr>\n    <tr>\n      <th>3424188</th>\n      <td>chrM</td>\n      <td>ENSEMBL</td>\n      <td>exon</td>\n      <td>15956</td>\n      <td>16023</td>\n      <td>.</td>\n      <td>-</td>\n      <td>.</td>\n      <td>gene_id \"ENSG00000210196.2\"; transcript_id \"EN...</td>\n    </tr>\n  </tbody>\n</table>\n<p>668308 rows × 9 columns</p>\n</div>"
     },
     "execution_count": 3,
     "metadata": {},
     "output_type": "execute_result"
    }
   ],
   "source": [
    "df_exons = pd.read_csv(\"data/resources/gencode.v44.annotation.gtf\", sep=\"\\t\", comment=\"#\", header=None, names=[\"chr\", \"annotator\", \"type\", \"start\", \"end\", \"x1\", \"strand\", \"x2\", \"features\"])\n",
    "df_exons = df_exons[df_exons[\"type\"] == \"exon\"]\n",
    "df_exons = df_exons.drop_duplicates(subset=[\"chr\", \"start\", \"end\", \"strand\"])\n",
    "df_exons"
   ],
   "metadata": {
    "collapsed": false
   }
  },
  {
   "cell_type": "code",
   "execution_count": 4,
   "outputs": [],
   "source": [
    "def df_to_bed(df, bed_file):\n",
    "    with open(bed_file, 'w') as bed:\n",
    "        for index, row in df.iterrows():\n",
    "\n",
    "            chrom = row[0]\n",
    "            start = int(row[3]) - 1  # Convert 1-based to 0-based (BED format)\n",
    "            end = int(row[4])\n",
    "            strand = row[6]\n",
    "\n",
    "\n",
    "            bed_line = f\"{chrom}\\t{start-1}\\t{end}\\t.\\t.\\t{strand}\\n\"\n",
    "            bed.write(bed_line)\n",
    "\n",
    "# Convert the DataFrame to a BED file\n",
    "bed_file_path = 'data/gencode_exon.bed'\n",
    "df_to_bed(df_exons, bed_file_path)"
   ],
   "metadata": {
    "collapsed": false
   }
  },
  {
   "cell_type": "code",
   "execution_count": 5,
   "outputs": [],
   "source": [
    "!sort -k 1,1 -k2,2n data/gencode_exon.bed > data/gencode_exon_sorted.bed"
   ],
   "metadata": {
    "collapsed": false
   }
  },
  {
   "cell_type": "code",
   "execution_count": 6,
   "outputs": [],
   "source": [
    "!bgzip data/gencode_exon_sorted.bed"
   ],
   "metadata": {
    "collapsed": false
   }
  },
  {
   "cell_type": "code",
   "execution_count": 7,
   "outputs": [],
   "source": [
    "!tabix -p bed data/gencode_exon_sorted.bed.gz"
   ],
   "metadata": {
    "collapsed": false
   }
  },
  {
   "cell_type": "code",
   "execution_count": 8,
   "outputs": [
    {
     "name": "stdout",
     "output_type": "stream",
     "text": [
      "INFO: Pandarallel will run on 12 workers.\n",
      "INFO: Pandarallel will use Memory file system to transfer data between the main process and workers.\n"
     ]
    }
   ],
   "source": [
    "pandarallel.initialize(nb_workers=12)"
   ],
   "metadata": {
    "collapsed": false
   }
  },
  {
   "cell_type": "code",
   "execution_count": 9,
   "outputs": [],
   "source": [
    "def antisense_exon_start(row):\n",
    "    \"\"\"\n",
    "    We call the tabix command, which look at the bed file to see if the row (which are entries in the intron that we extracted) overlaps with the repeat\n",
    "    regions detailed in the repeat_features.bed.gz, apart from the splice-site ({row.start+2}), we also look at the small-region that precedes (2 nt in the exon; row.start-2) the splice-site.\n",
    "    \"\"\"\n",
    "\n",
    "    opposite_strand = \"+\" if row.strand == \"-\" else \"-\"\n",
    "    # print(opposite_strand)\n",
    "    matched_rows = !tabix sorted_exon.bed.gz {row.chr}:{row.start}-{row.start+2} | cut -f6\n",
    "    # if matched_rows != []:\n",
    "    #     print(matched_rows)\n",
    "    return opposite_strand in matched_rows\n",
    "\n",
    "def antisense_exon_stop(row):\n",
    "    \"\"\"\n",
    "    We call the tabix command, which look at the bed file to see if the row (which are entries in the intron that we extracted) overlaps with the repeat\n",
    "    regions detailed in the repeat_features.bed.gz, apart from the splice-site ({row.start+2}), we also look at the small-region that precedes (2 nt in the exon; row.start-2) the splice-site.\n",
    "    \"\"\"\n",
    "    opposite_strand = \"+\" if row.strand == \"-\" else \"-\"\n",
    "    # print(opposite_strand)\n",
    "    matched_rows = !tabix sorted_exon.bed.gz {row.chr}:{row.end-2}-{row.end} | cut -f6\n",
    "    # if matched_rows != []:\n",
    "    #     print(matched_rows)\n",
    "    return opposite_strand in matched_rows"
   ],
   "metadata": {
    "collapsed": false
   }
  },
  {
   "cell_type": "code",
   "execution_count": 10,
   "outputs": [],
   "source": [
    "# Test Cell\n",
    "# %%time\n",
    "# df_test = df_trainset.copy().head(100)\n",
    "# df_test[\"test_antisense\"] = df_test.apply(antisense_exon_start, axis=1)\n",
    "# df_test"
   ],
   "metadata": {
    "collapsed": false
   }
  },
  {
   "cell_type": "code",
   "execution_count": 11,
   "outputs": [
    {
     "name": "stdout",
     "output_type": "stream",
     "text": [
      "CPU times: user 67.7 ms, sys: 139 ms, total: 207 ms\n",
      "Wall time: 13min 28s\n"
     ]
    },
    {
     "data": {
      "text/plain": "         chr     start       end strand  class  antisense_exon_start_ss\n0       chr1     12227     12612      +      1                    False\n1       chr1     12721     13220      +      1                    False\n2       chr1     12057     12178      +      1                    False\n3       chr1     12697     12974      +      1                    False\n4       chr1     13052     13220      +      1                    False\n...      ...       ...       ...    ...    ...                      ...\n519029  chrY  25464577  25465486      +      0                    False\n519030  chrY  25513173  25513588      -      0                    False\n519031  chrY  25513745  25516715      -      0                    False\n519032  chrY  25525288  25527646      -      0                    False\n519033  chrY  57213357  57213855      -      0                    False\n\n[519034 rows x 6 columns]",
      "text/html": "<div>\n<style scoped>\n    .dataframe tbody tr th:only-of-type {\n        vertical-align: middle;\n    }\n\n    .dataframe tbody tr th {\n        vertical-align: top;\n    }\n\n    .dataframe thead th {\n        text-align: right;\n    }\n</style>\n<table border=\"1\" class=\"dataframe\">\n  <thead>\n    <tr style=\"text-align: right;\">\n      <th></th>\n      <th>chr</th>\n      <th>start</th>\n      <th>end</th>\n      <th>strand</th>\n      <th>class</th>\n      <th>antisense_exon_start_ss</th>\n    </tr>\n  </thead>\n  <tbody>\n    <tr>\n      <th>0</th>\n      <td>chr1</td>\n      <td>12227</td>\n      <td>12612</td>\n      <td>+</td>\n      <td>1</td>\n      <td>False</td>\n    </tr>\n    <tr>\n      <th>1</th>\n      <td>chr1</td>\n      <td>12721</td>\n      <td>13220</td>\n      <td>+</td>\n      <td>1</td>\n      <td>False</td>\n    </tr>\n    <tr>\n      <th>2</th>\n      <td>chr1</td>\n      <td>12057</td>\n      <td>12178</td>\n      <td>+</td>\n      <td>1</td>\n      <td>False</td>\n    </tr>\n    <tr>\n      <th>3</th>\n      <td>chr1</td>\n      <td>12697</td>\n      <td>12974</td>\n      <td>+</td>\n      <td>1</td>\n      <td>False</td>\n    </tr>\n    <tr>\n      <th>4</th>\n      <td>chr1</td>\n      <td>13052</td>\n      <td>13220</td>\n      <td>+</td>\n      <td>1</td>\n      <td>False</td>\n    </tr>\n    <tr>\n      <th>...</th>\n      <td>...</td>\n      <td>...</td>\n      <td>...</td>\n      <td>...</td>\n      <td>...</td>\n      <td>...</td>\n    </tr>\n    <tr>\n      <th>519029</th>\n      <td>chrY</td>\n      <td>25464577</td>\n      <td>25465486</td>\n      <td>+</td>\n      <td>0</td>\n      <td>False</td>\n    </tr>\n    <tr>\n      <th>519030</th>\n      <td>chrY</td>\n      <td>25513173</td>\n      <td>25513588</td>\n      <td>-</td>\n      <td>0</td>\n      <td>False</td>\n    </tr>\n    <tr>\n      <th>519031</th>\n      <td>chrY</td>\n      <td>25513745</td>\n      <td>25516715</td>\n      <td>-</td>\n      <td>0</td>\n      <td>False</td>\n    </tr>\n    <tr>\n      <th>519032</th>\n      <td>chrY</td>\n      <td>25525288</td>\n      <td>25527646</td>\n      <td>-</td>\n      <td>0</td>\n      <td>False</td>\n    </tr>\n    <tr>\n      <th>519033</th>\n      <td>chrY</td>\n      <td>57213357</td>\n      <td>57213855</td>\n      <td>-</td>\n      <td>0</td>\n      <td>False</td>\n    </tr>\n  </tbody>\n</table>\n<p>519034 rows × 6 columns</p>\n</div>"
     },
     "execution_count": 11,
     "metadata": {},
     "output_type": "execute_result"
    }
   ],
   "source": [
    "%%time\n",
    "df_trainset[\"antisense_exon_start_ss\"] = df_trainset.parallel_apply(antisense_exon_start, axis=1)\n",
    "df_trainset"
   ],
   "metadata": {
    "collapsed": false
   }
  },
  {
   "cell_type": "code",
   "execution_count": 12,
   "outputs": [
    {
     "name": "stdout",
     "output_type": "stream",
     "text": [
      "CPU times: user 44.6 ms, sys: 135 ms, total: 179 ms\n",
      "Wall time: 13min 22s\n"
     ]
    },
    {
     "data": {
      "text/plain": "         chr     start       end strand  class  antisense_exon_start_ss  \\\n0       chr1     12227     12612      +      1                    False   \n1       chr1     12721     13220      +      1                    False   \n2       chr1     12057     12178      +      1                    False   \n3       chr1     12697     12974      +      1                    False   \n4       chr1     13052     13220      +      1                    False   \n...      ...       ...       ...    ...    ...                      ...   \n519029  chrY  25464577  25465486      +      0                    False   \n519030  chrY  25513173  25513588      -      0                    False   \n519031  chrY  25513745  25516715      -      0                    False   \n519032  chrY  25525288  25527646      -      0                    False   \n519033  chrY  57213357  57213855      -      0                    False   \n\n        antisense_exon_end_ss  \n0                       False  \n1                       False  \n2                       False  \n3                       False  \n4                       False  \n...                       ...  \n519029                  False  \n519030                  False  \n519031                  False  \n519032                  False  \n519033                  False  \n\n[519034 rows x 7 columns]",
      "text/html": "<div>\n<style scoped>\n    .dataframe tbody tr th:only-of-type {\n        vertical-align: middle;\n    }\n\n    .dataframe tbody tr th {\n        vertical-align: top;\n    }\n\n    .dataframe thead th {\n        text-align: right;\n    }\n</style>\n<table border=\"1\" class=\"dataframe\">\n  <thead>\n    <tr style=\"text-align: right;\">\n      <th></th>\n      <th>chr</th>\n      <th>start</th>\n      <th>end</th>\n      <th>strand</th>\n      <th>class</th>\n      <th>antisense_exon_start_ss</th>\n      <th>antisense_exon_end_ss</th>\n    </tr>\n  </thead>\n  <tbody>\n    <tr>\n      <th>0</th>\n      <td>chr1</td>\n      <td>12227</td>\n      <td>12612</td>\n      <td>+</td>\n      <td>1</td>\n      <td>False</td>\n      <td>False</td>\n    </tr>\n    <tr>\n      <th>1</th>\n      <td>chr1</td>\n      <td>12721</td>\n      <td>13220</td>\n      <td>+</td>\n      <td>1</td>\n      <td>False</td>\n      <td>False</td>\n    </tr>\n    <tr>\n      <th>2</th>\n      <td>chr1</td>\n      <td>12057</td>\n      <td>12178</td>\n      <td>+</td>\n      <td>1</td>\n      <td>False</td>\n      <td>False</td>\n    </tr>\n    <tr>\n      <th>3</th>\n      <td>chr1</td>\n      <td>12697</td>\n      <td>12974</td>\n      <td>+</td>\n      <td>1</td>\n      <td>False</td>\n      <td>False</td>\n    </tr>\n    <tr>\n      <th>4</th>\n      <td>chr1</td>\n      <td>13052</td>\n      <td>13220</td>\n      <td>+</td>\n      <td>1</td>\n      <td>False</td>\n      <td>False</td>\n    </tr>\n    <tr>\n      <th>...</th>\n      <td>...</td>\n      <td>...</td>\n      <td>...</td>\n      <td>...</td>\n      <td>...</td>\n      <td>...</td>\n      <td>...</td>\n    </tr>\n    <tr>\n      <th>519029</th>\n      <td>chrY</td>\n      <td>25464577</td>\n      <td>25465486</td>\n      <td>+</td>\n      <td>0</td>\n      <td>False</td>\n      <td>False</td>\n    </tr>\n    <tr>\n      <th>519030</th>\n      <td>chrY</td>\n      <td>25513173</td>\n      <td>25513588</td>\n      <td>-</td>\n      <td>0</td>\n      <td>False</td>\n      <td>False</td>\n    </tr>\n    <tr>\n      <th>519031</th>\n      <td>chrY</td>\n      <td>25513745</td>\n      <td>25516715</td>\n      <td>-</td>\n      <td>0</td>\n      <td>False</td>\n      <td>False</td>\n    </tr>\n    <tr>\n      <th>519032</th>\n      <td>chrY</td>\n      <td>25525288</td>\n      <td>25527646</td>\n      <td>-</td>\n      <td>0</td>\n      <td>False</td>\n      <td>False</td>\n    </tr>\n    <tr>\n      <th>519033</th>\n      <td>chrY</td>\n      <td>57213357</td>\n      <td>57213855</td>\n      <td>-</td>\n      <td>0</td>\n      <td>False</td>\n      <td>False</td>\n    </tr>\n  </tbody>\n</table>\n<p>519034 rows × 7 columns</p>\n</div>"
     },
     "execution_count": 12,
     "metadata": {},
     "output_type": "execute_result"
    }
   ],
   "source": [
    "%%time\n",
    "df_trainset[\"antisense_exon_end_ss\"] = df_trainset.parallel_apply(antisense_exon_stop, axis=1)\n",
    "df_trainset"
   ],
   "metadata": {
    "collapsed": false
   }
  },
  {
   "cell_type": "code",
   "execution_count": 13,
   "outputs": [],
   "source": [
    "# Optional backup:\n",
    "df_trainset.to_csv(\"data/07_trainset_antisense_feature.tsv\", sep=\"\\t\", index=False)"
   ],
   "metadata": {
    "collapsed": false
   }
  },
  {
   "cell_type": "code",
   "execution_count": 14,
   "outputs": [
    {
     "name": "stdout",
     "output_type": "stream",
     "text": [
      "d4fc65e1a51d71c5983e667617640cdfb4c478fe768625d248059e68d469b61d672fa0a735c3e01832388a1f181957aaf422714e0022b614fc6b508c97a9cb33  data/07_trainset_antisense_feature.tsv\r\n"
     ]
    }
   ],
   "source": [
    "!sha512sum data/07_trainset_antisense_feature.tsv"
   ],
   "metadata": {
    "collapsed": false
   }
  },
  {
   "cell_type": "code",
   "execution_count": null,
   "outputs": [],
   "source": [],
   "metadata": {
    "collapsed": false
   }
  }
 ],
 "metadata": {
  "kernelspec": {
   "display_name": "Python 3",
   "language": "python",
   "name": "python3"
  },
  "language_info": {
   "codemirror_mode": {
    "name": "ipython",
    "version": 2
   },
   "file_extension": ".py",
   "mimetype": "text/x-python",
   "name": "python",
   "nbconvert_exporter": "python",
   "pygments_lexer": "ipython2",
   "version": "2.7.6"
  }
 },
 "nbformat": 4,
 "nbformat_minor": 0
}
