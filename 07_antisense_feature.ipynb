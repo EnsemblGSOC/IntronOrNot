{
 "cells": [
  {
   "cell_type": "code",
   "execution_count": null,
   "metadata": {
    "collapsed": true,
    "is_executing": true
   },
   "outputs": [],
   "source": [
    "import pandas as pd\n",
    "from pandarallel import pandarallel"
   ]
  },
  {
   "cell_type": "code",
   "execution_count": null,
   "outputs": [],
   "source": [
    "sha512sum = !sha512sum data/04_train_set.tsv\n",
    "assert(\"5006dfaea420edf91d4e86a72bc2428a57ad3b184a8e3b9cc55ec048d17e001247a36322b18b48fa19b24a784b8bd7fe33eb2cfa074d4625138f4728b56d3324\" in sha512sum[0])\n",
    "df_trainset = pd.read_csv(\"data/04_train_set.tsv\", sep=\"\\t\")\n",
    "df_trainset"
   ],
   "metadata": {
    "collapsed": false
   }
  },
  {
   "cell_type": "markdown",
   "source": [
    "# Generating splice-site antisense feature"
   ],
   "metadata": {
    "collapsed": false
   }
  },
  {
   "cell_type": "code",
   "execution_count": null,
   "outputs": [],
   "source": [
    "df_exons = pd.read_csv(\"data/resources/gencode.v44.annotation.gtf\", sep=\"\\t\", comment=\"#\", header=None, names=[\"chr\", \"annotator\", \"type\", \"start\", \"end\", \"x1\", \"strand\", \"x2\", \"features\"])\n",
    "df_exons = df_exons[df_exons[\"type\"] == \"exon\"]\n",
    "df_exons = df_exons.drop_duplicates(subset=[\"chr\", \"start\", \"end\", \"strand\"])\n",
    "df_exons"
   ],
   "metadata": {
    "collapsed": false
   }
  },
  {
   "cell_type": "code",
   "execution_count": null,
   "outputs": [],
   "source": [
    "def df_to_bed(df, bed_file):\n",
    "    with open(bed_file, 'w') as bed:\n",
    "        for index, row in df.iterrows():\n",
    "\n",
    "            chrom = row[0]\n",
    "            start = int(row[3]) - 1  # Convert 1-based to 0-based (BED format)\n",
    "            end = int(row[4])\n",
    "            strand = row[6]\n",
    "\n",
    "\n",
    "            bed_line = f\"{chrom}\\t{start-1}\\t{end}\\t.\\t.\\t{strand}\\n\"\n",
    "            bed.write(bed_line)\n",
    "\n",
    "# Convert the DataFrame to a BED file\n",
    "bed_file_path = 'data/gencode_exon.bed'\n",
    "df_to_bed(df_exons, bed_file_path)"
   ],
   "metadata": {
    "collapsed": false
   }
  },
  {
   "cell_type": "code",
   "execution_count": null,
   "outputs": [],
   "source": [
    "!sort -k 1,1 -k2,2n data/gencode_exon.bed > data/gencode_exon_sorted.bed"
   ],
   "metadata": {
    "collapsed": false
   }
  },
  {
   "cell_type": "code",
   "execution_count": null,
   "outputs": [],
   "source": [
    "!bgzip data/gencode_exon_sorted.bed"
   ],
   "metadata": {
    "collapsed": false
   }
  },
  {
   "cell_type": "code",
   "execution_count": null,
   "outputs": [],
   "source": [
    "!tabix -p bed data/gencode_exon_sorted.bed.gz"
   ],
   "metadata": {
    "collapsed": false
   }
  },
  {
   "cell_type": "code",
   "execution_count": null,
   "outputs": [],
   "source": [
    "pandarallel.initialize(nb_workers=12)"
   ],
   "metadata": {
    "collapsed": false
   }
  },
  {
   "cell_type": "code",
   "execution_count": null,
   "outputs": [],
   "source": [
    "def antisense_exon_start(row):\n",
    "    \"\"\"\n",
    "    We call the tabix command, which look at the bed file to see if the row (which are entries in the intron that we extracted) overlaps with the repeat\n",
    "    regions detailed in the repeat_features.bed.gz, apart from the splice-site ({row.start+2}), we also look at the small-region that precedes (2 nt in the exon; row.start-2) the splice-site.\n",
    "    \"\"\"\n",
    "\n",
    "    opposite_strand = \"+\" if row.strand == \"-\" else \"-\"\n",
    "    # print(opposite_strand)\n",
    "    matched_rows = !tabix sorted_exon.bed.gz {row.chr}:{row.start}-{row.start+2} | cut -f6\n",
    "    # if matched_rows != []:\n",
    "    #     print(matched_rows)\n",
    "    return opposite_strand in matched_rows\n",
    "\n",
    "def antisense_exon_stop(row):\n",
    "    \"\"\"\n",
    "    We call the tabix command, which look at the bed file to see if the row (which are entries in the intron that we extracted) overlaps with the repeat\n",
    "    regions detailed in the repeat_features.bed.gz, apart from the splice-site ({row.start+2}), we also look at the small-region that precedes (2 nt in the exon; row.start-2) the splice-site.\n",
    "    \"\"\"\n",
    "    opposite_strand = \"+\" if row.strand == \"-\" else \"-\"\n",
    "    # print(opposite_strand)\n",
    "    matched_rows = !tabix sorted_exon.bed.gz {row.chr}:{row.end-2}-{row.end} | cut -f6\n",
    "    # if matched_rows != []:\n",
    "    #     print(matched_rows)\n",
    "    return opposite_strand in matched_rows"
   ],
   "metadata": {
    "collapsed": false
   }
  },
  {
   "cell_type": "code",
   "execution_count": null,
   "outputs": [],
   "source": [
    "# Test Cell\n",
    "# %%time\n",
    "# df_test = df_trainset.copy().head(100)\n",
    "# df_test[\"test_antisense\"] = df_test.apply(antisense_exon_start, axis=1)\n",
    "# df_test"
   ],
   "metadata": {
    "collapsed": false
   }
  },
  {
   "cell_type": "code",
   "execution_count": null,
   "outputs": [],
   "source": [
    "%%time\n",
    "df_trainset[\"antisense_exon_start_ss\"] = df_trainset.parallel_apply(antisense_exon_start, axis=1)\n",
    "df_trainset"
   ],
   "metadata": {
    "collapsed": false
   }
  },
  {
   "cell_type": "code",
   "execution_count": null,
   "outputs": [],
   "source": [
    "%%time\n",
    "df_trainset[\"antisense_exon_end_ss\"] = df_trainset.parallel_apply(antisense_exon_stop, axis=1)\n",
    "df_trainset"
   ],
   "metadata": {
    "collapsed": false
   }
  },
  {
   "cell_type": "code",
   "execution_count": null,
   "outputs": [],
   "source": [
    "# Optional backup:\n",
    "df_trainset.to_csv(\"data/07_trainset_antisense_feature.tsv\", sep=\"\\t\", index=False)"
   ],
   "metadata": {
    "collapsed": false
   }
  },
  {
   "cell_type": "code",
   "execution_count": null,
   "outputs": [],
   "source": [
    "!sha512sum data/07_trainset_antisense_feature.tsv"
   ],
   "metadata": {
    "collapsed": false
   }
  },
  {
   "cell_type": "code",
   "execution_count": null,
   "outputs": [],
   "source": [],
   "metadata": {
    "collapsed": false
   }
  }
 ],
 "metadata": {
  "kernelspec": {
   "display_name": "Python 3",
   "language": "python",
   "name": "python3"
  },
  "language_info": {
   "codemirror_mode": {
    "name": "ipython",
    "version": 2
   },
   "file_extension": ".py",
   "mimetype": "text/x-python",
   "name": "python",
   "nbconvert_exporter": "python",
   "pygments_lexer": "ipython2",
   "version": "2.7.6"
  }
 },
 "nbformat": 4,
 "nbformat_minor": 0
}
