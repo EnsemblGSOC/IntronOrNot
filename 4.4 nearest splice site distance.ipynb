{
 "cells": [
  {
   "cell_type": "code",
   "execution_count": 2,
   "metadata": {
    "collapsed": true,
    "ExecuteTime": {
     "end_time": "2023-08-04T01:55:37.859531Z",
     "start_time": "2023-08-04T01:55:37.853136Z"
    }
   },
   "outputs": [],
   "source": [
    "import pandas as pd\n",
    "import numpy as np\n",
    "from pandarallel import pandarallel\n",
    "from tqdm import tqdm"
   ]
  },
  {
   "cell_type": "code",
   "execution_count": 1,
   "outputs": [],
   "source": [],
   "metadata": {
    "collapsed": false,
    "ExecuteTime": {
     "end_time": "2023-08-04T01:55:35.518563Z",
     "start_time": "2023-08-04T01:55:35.512666Z"
    }
   }
  },
  {
   "cell_type": "code",
   "execution_count": 3,
   "outputs": [
    {
     "name": "stderr",
     "output_type": "stream",
     "text": [
      "100%|██████████| 24/24 [00:00<00:00, 44.30it/s]\n"
     ]
    },
    {
     "data": {
      "text/plain": "{'chr18':                             chr\n strand start    end            \n +      11595    13151     chr18\n                 15616     chr18\n        13354    15616     chr18\n        45235    45282     chr18\n        45556    45640     chr18\n ...                         ...\n -      80160606 80202709  chr18\n        80183150 80201963  chr18\n                 80202709  chr18\n        80202018 80202709  chr18\n        80202932 80247276  chr18\n \n [7267 rows x 1 columns],\n 'chr3':                              chr\n strand start     end            \n +      11799     14770      chr3\n                  20556      chr3\n                  23760      chr3\n        12659     14770      chr3\n                  20890      chr3\n ...                          ...\n -      198121656 198122027  chr3\n        198122079 198122536  chr3\n        198122645 198122729  chr3\n        198122984 198123051  chr3\n        198224435 198224520  chr3\n \n [24732 rows x 1 columns],\n 'chr16':                             chr\n strand start    end            \n +      11908    12293     chr16\n        12378    12662     chr16\n        12402    12901     chr16\n        12733    12905     chr16\n        13076    13155     chr16\n ...                         ...\n -      90086870 90091606  chr16\n        90105146 90105952  chr16\n        90110808 90125969  chr16\n        90116562 90125969  chr16\n        90126088 90167990  chr16\n \n [17899 rows x 1 columns],\n 'chr1':                              chr\n strand start     end            \n +      12057     12178      chr1\n        12227     12612      chr1\n        12697     12974      chr1\n        12721     13220      chr1\n        13052     13220      chr1\n ...                          ...\n -      248858321 248858511  chr1\n                  248858917  chr1\n                  248859014  chr1\n        248858385 248858917  chr1\n        248858419 248858917  chr1\n \n [38367 rows x 1 columns],\n 'chr9':                              chr\n strand start     end            \n +      12190     12290      chr9\n        12340     12725      chr9\n        12834     13087      chr9\n        13157     13337      chr9\n        13487     13565      chr9\n ...                          ...\n -      138178147 138178520  chr9\n        138178615 138179043  chr9\n        138179171 138179260  chr9\n        138179513 138179564  chr9\n        138200282 138203137  chr9\n \n [15209 rows x 1 columns],\n 'chr12':                               chr\n strand start     end             \n +      12358     12739      chr12\n        12824     13101      chr12\n        13201     13369      chr12\n        67436     99145      chr12\n        77712     99145      chr12\n ...                           ...\n -      133226438 133226935  chr12\n        133227152 133227823  chr12\n        133227947 133231516  chr12\n        133231644 133234107  chr12\n        133234378 133235806  chr12\n \n [22222 rows x 1 columns],\n 'chr7':                              chr\n strand start     end            \n +      12822     26964      chr7\n        24365     26964      chr7\n        77353     80129      chr7\n        150132    151810     chr7\n                  152440     chr7\n ...                          ...\n -      159103854 159109811  chr7\n        159109919 159142445  chr7\n        159117406 159142445  chr7\n        159142545 159144297  chr7\n                  159144720  chr7\n \n [19607 rows x 1 columns],\n 'chr10':                               chr\n strand start     end             \n +      44901     44951      chr10\n        45204     45308      chr10\n        45405     45833      chr10\n        45882     46244      chr10\n        46359     46841      chr10\n ...                           ...\n -      133658501 133658629  chr10\n        133658722 133659364  chr10\n        133659457 133659705  chr10\n        133659808 133660321  chr10\n        133660466 133660562  chr10\n \n [15978 rows x 1 columns],\n 'chr4':                              chr\n strand start     end            \n +      53491     59429      chr4\n                  85730      chr4\n        59556     60057      chr4\n                  85730      chr4\n        60153     67839      chr4\n ...                          ...\n -      190060613 190060929  chr4\n        190060984 190061088  chr4\n        190061242 190061339  chr4\n        190061450 190061639  chr4\n        190061782 190062812  chr4\n \n [16571 rows x 1 columns],\n 'chr19':                             chr\n strand start    end            \n +      72274    72584     chr19\n        99229    100275    chr19\n                 104501    chr19\n        100432   104501    chr19\n        107157   107472    chr19\n ...                         ...\n -      58571429 58573054  chr19\n                 58573372  chr19\n        58572719 58573054  chr19\n        58594125 58597705  chr19\n        58597816 58599099  chr19\n \n [21573 rows x 1 columns],\n 'chr8':                              chr\n strand start     end            \n +      72673     78904      chr8\n        72701     78904      chr8\n        232267    240823     chr8\n        232415    240823     chr8\n        232624    240301     chr8\n ...                          ...\n -      144999769 145002792  chr8\n                  145002816  chr8\n        145000159 145002816  chr8\n        145000492 145002816  chr8\n        145000538 145002816  chr8\n \n [15493 rows x 1 columns],\n 'chr20':                             chr\n strand start    end            \n +      87359    96004     chr20\n        87767    96004     chr20\n        142686   145414    chr20\n        145488   145578    chr20\n        157593   158773    chr20\n ...                         ...\n -      64076954 64079872  chr20\n        64083494 64083582  chr20\n        64083705 64083817  chr20\n        64100815 64100995  chr20\n        64106922 64107363  chr20\n \n [9524 rows x 1 columns],\n 'chr5':                              chr\n strand start     end            \n +      92276     113250     chr5\n        113448    139482     chr5\n        140716    143046     chr5\n        143256    143379     chr5\n        143503    144826     chr5\n ...                          ...\n -      181256859 181260000  chr5\n        181257054 181260000  chr5\n        181257228 181260000  chr5\n        181257494 181260000  chr5\n        181259906 181260000  chr5\n \n [18451 rows x 1 columns],\n 'chr11':                               chr\n strand start     end             \n +      125100    125171     chr11\n        129513    171597     chr11\n        171716    185901     chr11\n        193154    193711     chr11\n        193911    194417     chr11\n ...                           ...\n -      134999009 135003720  chr11\n        135003862 135007512  chr11\n        135061947 135074113  chr11\n        135073576 135074113  chr11\n        135074371 135075610  chr11\n \n [21966 rows x 1 columns],\n 'chr17':                             chr\n strand start    end            \n +      137645   138202    chr17\n        138402   138909    chr17\n        321610   322261    chr17\n        321631   322261    chr17\n        331717   331799    chr17\n ...                         ...\n -      83048785 83049035  chr17\n                 83051736  chr17\n        83221408 83226409  chr17\n                 83227620  chr17\n                 83227648  chr17\n \n [22446 rows x 1 columns],\n 'chr6':                              chr\n strand start     end            \n +      184371    184505     chr6\n        203438    203962     chr6\n        204413    205486     chr6\n        291700    304627     chr6\n        292560    304627     chr6\n ...                          ...\n -      170583747 170584054  chr6\n                  170584298  chr6\n        170584392 170584491  chr6\n        170736394 170737500  chr6\n        170737551 170737611  chr6\n \n [19287 rows x 1 columns],\n 'chr2':                              chr\n strand start     end            \n +      198615    199743     chr2\n                  200163     chr2\n        199901    200163     chr2\n        200230    202915     chr2\n                  209484     chr2\n ...                          ...\n -      242048283 242060296  chr2\n        242058884 242059119  chr2\n                  242060296  chr2\n        242059193 242060296  chr2\n        242060519 242084095  chr2\n \n [31055 rows x 1 columns],\n 'chrX':                              chr\n strand start     end            \n +      253846    254936     chrX\n        276394    281481     chrX\n                  284166     chrX\n        281121    281481     chrX\n        281256    281481     chrX\n ...                          ...\n -      156015500 156016661  chrX\n        156026605 156026683  chrX\n        156026837 156027005  chrX\n        156027082 156027359  chrX\n        156027444 156027829  chrX\n \n [12713 rows x 1 columns],\n 'chrY':                            chr\n strand start    end           \n +      253846   254936    chrY\n        276394   281481    chrY\n                 284166    chrY\n        281121   281481    chrY\n        281256   281481    chrY\n ...                        ...\n -      57202020 57203181  chrY\n        57213125 57213203  chrY\n        57213357 57213525  chrY\n        57213602 57213879  chrY\n        57213964 57214349  chrY\n \n [2257 rows x 1 columns],\n 'chr21':                             chr\n strand start    end            \n +      5011874  5012547   chr21\n        5012687  5014385   chr21\n        5014471  5016934   chr21\n        5022693  5025008   chr21\n        5025049  5026279   chr21\n ...                         ...\n -      46448599 46458326  chr21\n        46599503 46600281  chr21\n                 46602277  chr21\n        46600375 46602277  chr21\n        46602416 46605012  chr21\n \n [4975 rows x 1 columns],\n 'chr22':                             chr\n strand start    end            \n +      11066515 11067984  chr22\n        11124379 11124507  chr22\n        11474904 11475145  chr22\n        11475238 11477177  chr22\n        11827658 11832760  chr22\n ...                         ...\n -      50782351 50783044  chr22\n                 50783500  chr22\n        50783045 50783500  chr22\n        50783286 50783390  chr22\n                 50783500  chr22\n \n [8468 rows x 1 columns],\n 'chr13':                               chr\n strand start     end             \n +      18195411  18218998   chr13\n        18212062  18215310   chr13\n        18215357  18218998   chr13\n        18219057  18219525   chr13\n        18219084  18222496   chr13\n ...                           ...\n -      114214288 114215655  chr13\n        114265359 114268270  chr13\n        114276400 114277196  chr13\n        114329845 114330665  chr13\n        114330778 114333834  chr13\n \n [7769 rows x 1 columns],\n 'chr14':                               chr\n strand start     end             \n +      18333896  18338242   chr14\n        18333900  18337972   chr14\n        18338078  18338242   chr14\n        18338416  18340613   chr14\n        18340726  18341693   chr14\n ...                           ...\n -      106810746 106810849  chr14\n        106823999 106824102  chr14\n        106867955 106868047  chr14\n        106873057 106873140  chr14\n        106874887 106874971  chr14\n \n [13288 rows x 1 columns],\n 'chr15':                               chr\n strand start     end             \n +      19878668  19878830   chr15\n        19879004  19881200   chr15\n        19881307  19882276   chr15\n        19882439  19884978   chr15\n        19885043  19887723   chr15\n ...                           ...\n -      101977746 101977922  chr15\n                  101978245  chr15\n        101977992 101978269  chr15\n        101978354 101978739  chr15\n        101978372 101978739  chr15\n \n [15337 rows x 1 columns]}"
     },
     "execution_count": 3,
     "metadata": {},
     "output_type": "execute_result"
    }
   ],
   "source": [
    "df_gencode = pd.read_csv(\"data/1-rmv_dup_introns_gencode_v44.tsv\", sep=\"\\t\")\n",
    "df_gencode = df_gencode.set_index(['strand', 'start', 'end'])\n",
    "df_gencode = df_gencode.sort_index()\n",
    "\n",
    "chrom_uniques = list(df_gencode[\"chr\"].unique())  # we get the list of unique chromosome names\n",
    "dict_chr = {}\n",
    "# Splitting the dataframe chromosome groups separately into key(chromosome)-value(rows) in a dictionary\n",
    "for chrom in tqdm(chrom_uniques):\n",
    "\tdict_chr[chrom] = df_gencode[df_gencode.chr == chrom]\n",
    "\n",
    "dict_chr"
   ],
   "metadata": {
    "collapsed": false,
    "ExecuteTime": {
     "end_time": "2023-08-04T01:55:41.663462Z",
     "start_time": "2023-08-04T01:55:40.544922Z"
    }
   }
  },
  {
   "cell_type": "code",
   "execution_count": 10,
   "outputs": [],
   "source": [
    "# Sample query: Find the nearest entry of chr1 with strand '+' and nearest to 13579\n",
    "# query_chr = 'chr1'\n",
    "# query_strand = '-'\n",
    "# query_position = 14499\n",
    "\n",
    "def find_nearest_match_start_ss(row, site):\n",
    "    # print(row)\n",
    "    query_chr = row[\"chr\"]\n",
    "    query_strand = row[\"strand\"]\n",
    "    query_position = row[site]\n",
    "\n",
    "    # Filter the DataFrame for the relevant entries\n",
    "    filtered_df = dict_chr[query_chr].loc[(query_strand)].copy()\n",
    "\n",
    "\n",
    "    # Calculate the distance to the specified position\n",
    "    filtered_df['distance'] = np.abs(filtered_df.index.get_level_values(site) - query_position)\n",
    "\n",
    "    # Exclude exact match from the DataFrame (if it exists)\n",
    "    filtered_df = filtered_df[filtered_df['distance'] != 0]\n",
    "\n",
    "    # Find the row with the minimum distance (i.e., the nearest entry after excluding exact matches)\n",
    "    nearest_entry = filtered_df.loc[filtered_df['distance'].idxmin()]\n",
    "\n",
    "    return nearest_entry.distance"
   ],
   "metadata": {
    "collapsed": false,
    "ExecuteTime": {
     "end_time": "2023-08-04T01:57:42.087807Z",
     "start_time": "2023-08-04T01:57:42.079675Z"
    }
   }
  },
  {
   "cell_type": "code",
   "execution_count": 11,
   "outputs": [
    {
     "data": {
      "text/plain": "         chr     start       end strand\n0       chr1     12227     12612      +\n1       chr1     12721     13220      +\n2       chr1     12057     12178      +\n3       chr1     12697     12974      +\n4       chr1     13052     13220      +\n...      ...       ...       ...    ...\n499138  chrY  24883840  24886132      +\n499139  chrY  24888605  24889352      +\n499140  chrY  24889386  24901111      +\n499141  chrY  24833970  24840730      +\n499142  chrY  24871607  24895696      +\n\n[499143 rows x 4 columns]",
      "text/html": "<div>\n<style scoped>\n    .dataframe tbody tr th:only-of-type {\n        vertical-align: middle;\n    }\n\n    .dataframe tbody tr th {\n        vertical-align: top;\n    }\n\n    .dataframe thead th {\n        text-align: right;\n    }\n</style>\n<table border=\"1\" class=\"dataframe\">\n  <thead>\n    <tr style=\"text-align: right;\">\n      <th></th>\n      <th>chr</th>\n      <th>start</th>\n      <th>end</th>\n      <th>strand</th>\n    </tr>\n  </thead>\n  <tbody>\n    <tr>\n      <th>0</th>\n      <td>chr1</td>\n      <td>12227</td>\n      <td>12612</td>\n      <td>+</td>\n    </tr>\n    <tr>\n      <th>1</th>\n      <td>chr1</td>\n      <td>12721</td>\n      <td>13220</td>\n      <td>+</td>\n    </tr>\n    <tr>\n      <th>2</th>\n      <td>chr1</td>\n      <td>12057</td>\n      <td>12178</td>\n      <td>+</td>\n    </tr>\n    <tr>\n      <th>3</th>\n      <td>chr1</td>\n      <td>12697</td>\n      <td>12974</td>\n      <td>+</td>\n    </tr>\n    <tr>\n      <th>4</th>\n      <td>chr1</td>\n      <td>13052</td>\n      <td>13220</td>\n      <td>+</td>\n    </tr>\n    <tr>\n      <th>...</th>\n      <td>...</td>\n      <td>...</td>\n      <td>...</td>\n      <td>...</td>\n    </tr>\n    <tr>\n      <th>499138</th>\n      <td>chrY</td>\n      <td>24883840</td>\n      <td>24886132</td>\n      <td>+</td>\n    </tr>\n    <tr>\n      <th>499139</th>\n      <td>chrY</td>\n      <td>24888605</td>\n      <td>24889352</td>\n      <td>+</td>\n    </tr>\n    <tr>\n      <th>499140</th>\n      <td>chrY</td>\n      <td>24889386</td>\n      <td>24901111</td>\n      <td>+</td>\n    </tr>\n    <tr>\n      <th>499141</th>\n      <td>chrY</td>\n      <td>24833970</td>\n      <td>24840730</td>\n      <td>+</td>\n    </tr>\n    <tr>\n      <th>499142</th>\n      <td>chrY</td>\n      <td>24871607</td>\n      <td>24895696</td>\n      <td>+</td>\n    </tr>\n  </tbody>\n</table>\n<p>499143 rows × 4 columns</p>\n</div>"
     },
     "execution_count": 11,
     "metadata": {},
     "output_type": "execute_result"
    }
   ],
   "source": [
    "df_training_data = pd.read_csv(\"data/4.2_hg38_paired_introns.tsv\", sep=\"\\t\", usecols=[\"chr\",\"start\",\"end\",\"strand\"])\n",
    "df_training_data"
   ],
   "metadata": {
    "collapsed": false,
    "ExecuteTime": {
     "end_time": "2023-08-04T01:58:24.096187Z",
     "start_time": "2023-08-04T01:57:48.316286Z"
    }
   }
  },
  {
   "cell_type": "code",
   "execution_count": 12,
   "outputs": [
    {
     "name": "stdout",
     "output_type": "stream",
     "text": [
      "INFO: Pandarallel will run on 8 workers.\n",
      "INFO: Pandarallel will use standard multiprocessing data transfer (pipe) to transfer data between the main process and workers.\n"
     ]
    }
   ],
   "source": [
    "pandarallel.initialize()"
   ],
   "metadata": {
    "collapsed": false,
    "ExecuteTime": {
     "end_time": "2023-08-04T01:58:24.104741Z",
     "start_time": "2023-08-04T01:58:24.098310Z"
    }
   }
  },
  {
   "cell_type": "code",
   "execution_count": 13,
   "outputs": [
    {
     "name": "stdout",
     "output_type": "stream",
     "text": [
      "CPU times: user 32.8 ms, sys: 46.4 ms, total: 79.2 ms\n",
      "Wall time: 5.66 s\n"
     ]
    },
    {
     "data": {
      "text/plain": "       chr     start       end strand  start_site_nearest\n0     chr1     12227     12612      +                 170\n1     chr1     12721     13220      +                  24\n2     chr1     12057     12178      +                 170\n3     chr1     12697     12974      +                  24\n4     chr1     13052     13220      +                 322\n...    ...       ...       ...    ...                 ...\n9995  chr1  41848445  41848870      -                 644\n9996  chr1  41849089  41918412      -                 644\n9997  chr1  41918524  42035806      -               52909\n9998  chr1  41849089  41864577      -                 644\n9999  chr1  41864648  41865547      -                 967\n\n[10000 rows x 5 columns]",
      "text/html": "<div>\n<style scoped>\n    .dataframe tbody tr th:only-of-type {\n        vertical-align: middle;\n    }\n\n    .dataframe tbody tr th {\n        vertical-align: top;\n    }\n\n    .dataframe thead th {\n        text-align: right;\n    }\n</style>\n<table border=\"1\" class=\"dataframe\">\n  <thead>\n    <tr style=\"text-align: right;\">\n      <th></th>\n      <th>chr</th>\n      <th>start</th>\n      <th>end</th>\n      <th>strand</th>\n      <th>start_site_nearest</th>\n    </tr>\n  </thead>\n  <tbody>\n    <tr>\n      <th>0</th>\n      <td>chr1</td>\n      <td>12227</td>\n      <td>12612</td>\n      <td>+</td>\n      <td>170</td>\n    </tr>\n    <tr>\n      <th>1</th>\n      <td>chr1</td>\n      <td>12721</td>\n      <td>13220</td>\n      <td>+</td>\n      <td>24</td>\n    </tr>\n    <tr>\n      <th>2</th>\n      <td>chr1</td>\n      <td>12057</td>\n      <td>12178</td>\n      <td>+</td>\n      <td>170</td>\n    </tr>\n    <tr>\n      <th>3</th>\n      <td>chr1</td>\n      <td>12697</td>\n      <td>12974</td>\n      <td>+</td>\n      <td>24</td>\n    </tr>\n    <tr>\n      <th>4</th>\n      <td>chr1</td>\n      <td>13052</td>\n      <td>13220</td>\n      <td>+</td>\n      <td>322</td>\n    </tr>\n    <tr>\n      <th>...</th>\n      <td>...</td>\n      <td>...</td>\n      <td>...</td>\n      <td>...</td>\n      <td>...</td>\n    </tr>\n    <tr>\n      <th>9995</th>\n      <td>chr1</td>\n      <td>41848445</td>\n      <td>41848870</td>\n      <td>-</td>\n      <td>644</td>\n    </tr>\n    <tr>\n      <th>9996</th>\n      <td>chr1</td>\n      <td>41849089</td>\n      <td>41918412</td>\n      <td>-</td>\n      <td>644</td>\n    </tr>\n    <tr>\n      <th>9997</th>\n      <td>chr1</td>\n      <td>41918524</td>\n      <td>42035806</td>\n      <td>-</td>\n      <td>52909</td>\n    </tr>\n    <tr>\n      <th>9998</th>\n      <td>chr1</td>\n      <td>41849089</td>\n      <td>41864577</td>\n      <td>-</td>\n      <td>644</td>\n    </tr>\n    <tr>\n      <th>9999</th>\n      <td>chr1</td>\n      <td>41864648</td>\n      <td>41865547</td>\n      <td>-</td>\n      <td>967</td>\n    </tr>\n  </tbody>\n</table>\n<p>10000 rows × 5 columns</p>\n</div>"
     },
     "execution_count": 13,
     "metadata": {},
     "output_type": "execute_result"
    }
   ],
   "source": [
    "%%time\n",
    "\n",
    "df_test = df_training_data.copy().head(10000)\n",
    "df_test[\"start_site_nearest\"] = df_test.parallel_apply(find_nearest_match_start_ss, args=(\"start\",), axis=1)\n",
    "df_test"
   ],
   "metadata": {
    "collapsed": false,
    "ExecuteTime": {
     "end_time": "2023-08-04T01:58:29.779975Z",
     "start_time": "2023-08-04T01:58:24.105028Z"
    }
   }
  },
  {
   "cell_type": "code",
   "execution_count": 14,
   "outputs": [
    {
     "name": "stdout",
     "output_type": "stream",
     "text": [
      "CPU times: user 95 ms, sys: 73 ms, total: 168 ms\n",
      "Wall time: 3min 36s\n"
     ]
    }
   ],
   "source": [
    "%%time\n",
    "df_training_data[\"nearest_start_ss_dist\"] = df_training_data.parallel_apply(find_nearest_match_start_ss, args=(\"start\",), axis=1)"
   ],
   "metadata": {
    "collapsed": false,
    "ExecuteTime": {
     "end_time": "2023-08-04T02:03:05.821991Z",
     "start_time": "2023-08-04T01:59:29.379306Z"
    }
   }
  },
  {
   "cell_type": "code",
   "execution_count": 15,
   "outputs": [
    {
     "data": {
      "text/plain": "         chr     start       end strand  nearest_start_ss_dist\n0       chr1     12227     12612      +                    170\n1       chr1     12721     13220      +                     24\n2       chr1     12057     12178      +                    170\n3       chr1     12697     12974      +                     24\n4       chr1     13052     13220      +                    322\n...      ...       ...       ...    ...                    ...\n499138  chrY  24883840  24886132      +                      5\n499139  chrY  24888605  24889352      +                   2384\n499140  chrY  24889386  24901111      +                    781\n499141  chrY  24833970  24840730      +                    159\n499142  chrY  24871607  24895696      +                     63\n\n[499143 rows x 5 columns]",
      "text/html": "<div>\n<style scoped>\n    .dataframe tbody tr th:only-of-type {\n        vertical-align: middle;\n    }\n\n    .dataframe tbody tr th {\n        vertical-align: top;\n    }\n\n    .dataframe thead th {\n        text-align: right;\n    }\n</style>\n<table border=\"1\" class=\"dataframe\">\n  <thead>\n    <tr style=\"text-align: right;\">\n      <th></th>\n      <th>chr</th>\n      <th>start</th>\n      <th>end</th>\n      <th>strand</th>\n      <th>nearest_start_ss_dist</th>\n    </tr>\n  </thead>\n  <tbody>\n    <tr>\n      <th>0</th>\n      <td>chr1</td>\n      <td>12227</td>\n      <td>12612</td>\n      <td>+</td>\n      <td>170</td>\n    </tr>\n    <tr>\n      <th>1</th>\n      <td>chr1</td>\n      <td>12721</td>\n      <td>13220</td>\n      <td>+</td>\n      <td>24</td>\n    </tr>\n    <tr>\n      <th>2</th>\n      <td>chr1</td>\n      <td>12057</td>\n      <td>12178</td>\n      <td>+</td>\n      <td>170</td>\n    </tr>\n    <tr>\n      <th>3</th>\n      <td>chr1</td>\n      <td>12697</td>\n      <td>12974</td>\n      <td>+</td>\n      <td>24</td>\n    </tr>\n    <tr>\n      <th>4</th>\n      <td>chr1</td>\n      <td>13052</td>\n      <td>13220</td>\n      <td>+</td>\n      <td>322</td>\n    </tr>\n    <tr>\n      <th>...</th>\n      <td>...</td>\n      <td>...</td>\n      <td>...</td>\n      <td>...</td>\n      <td>...</td>\n    </tr>\n    <tr>\n      <th>499138</th>\n      <td>chrY</td>\n      <td>24883840</td>\n      <td>24886132</td>\n      <td>+</td>\n      <td>5</td>\n    </tr>\n    <tr>\n      <th>499139</th>\n      <td>chrY</td>\n      <td>24888605</td>\n      <td>24889352</td>\n      <td>+</td>\n      <td>2384</td>\n    </tr>\n    <tr>\n      <th>499140</th>\n      <td>chrY</td>\n      <td>24889386</td>\n      <td>24901111</td>\n      <td>+</td>\n      <td>781</td>\n    </tr>\n    <tr>\n      <th>499141</th>\n      <td>chrY</td>\n      <td>24833970</td>\n      <td>24840730</td>\n      <td>+</td>\n      <td>159</td>\n    </tr>\n    <tr>\n      <th>499142</th>\n      <td>chrY</td>\n      <td>24871607</td>\n      <td>24895696</td>\n      <td>+</td>\n      <td>63</td>\n    </tr>\n  </tbody>\n</table>\n<p>499143 rows × 5 columns</p>\n</div>"
     },
     "execution_count": 15,
     "metadata": {},
     "output_type": "execute_result"
    }
   ],
   "source": [
    "df_training_data"
   ],
   "metadata": {
    "collapsed": false,
    "ExecuteTime": {
     "end_time": "2023-08-04T02:16:56.187871Z",
     "start_time": "2023-08-04T02:16:56.175481Z"
    }
   }
  },
  {
   "cell_type": "code",
   "execution_count": 16,
   "outputs": [
    {
     "name": "stdout",
     "output_type": "stream",
     "text": [
      "CPU times: user 102 ms, sys: 99.5 ms, total: 202 ms\n",
      "Wall time: 3min 26s\n"
     ]
    }
   ],
   "source": [
    "%%time\n",
    "df_training_data[\"nearest_end_ss_dist\"] = df_training_data.parallel_apply(find_nearest_match_start_ss, args=(\"end\",), axis=1)"
   ],
   "metadata": {
    "collapsed": false,
    "ExecuteTime": {
     "end_time": "2023-08-04T02:21:03.617066Z",
     "start_time": "2023-08-04T02:17:36.766637Z"
    }
   }
  },
  {
   "cell_type": "code",
   "execution_count": 17,
   "outputs": [
    {
     "data": {
      "text/plain": "         chr     start       end strand  nearest_start_ss_dist  \\\n0       chr1     12227     12612      +                    170   \n1       chr1     12721     13220      +                     24   \n2       chr1     12057     12178      +                    170   \n3       chr1     12697     12974      +                     24   \n4       chr1     13052     13220      +                    322   \n...      ...       ...       ...    ...                    ...   \n499138  chrY  24883840  24886132      +                      5   \n499139  chrY  24888605  24889352      +                   2384   \n499140  chrY  24889386  24901111      +                    781   \n499141  chrY  24833970  24840730      +                    159   \n499142  chrY  24871607  24895696      +                     63   \n\n        nearest_end_ss_dist  \n0                       362  \n1                       232  \n2                       434  \n3                       246  \n4                       232  \n...                     ...  \n499138                   16  \n499139                  819  \n499140                 4072  \n499141                  421  \n499142                    9  \n\n[499143 rows x 6 columns]",
      "text/html": "<div>\n<style scoped>\n    .dataframe tbody tr th:only-of-type {\n        vertical-align: middle;\n    }\n\n    .dataframe tbody tr th {\n        vertical-align: top;\n    }\n\n    .dataframe thead th {\n        text-align: right;\n    }\n</style>\n<table border=\"1\" class=\"dataframe\">\n  <thead>\n    <tr style=\"text-align: right;\">\n      <th></th>\n      <th>chr</th>\n      <th>start</th>\n      <th>end</th>\n      <th>strand</th>\n      <th>nearest_start_ss_dist</th>\n      <th>nearest_end_ss_dist</th>\n    </tr>\n  </thead>\n  <tbody>\n    <tr>\n      <th>0</th>\n      <td>chr1</td>\n      <td>12227</td>\n      <td>12612</td>\n      <td>+</td>\n      <td>170</td>\n      <td>362</td>\n    </tr>\n    <tr>\n      <th>1</th>\n      <td>chr1</td>\n      <td>12721</td>\n      <td>13220</td>\n      <td>+</td>\n      <td>24</td>\n      <td>232</td>\n    </tr>\n    <tr>\n      <th>2</th>\n      <td>chr1</td>\n      <td>12057</td>\n      <td>12178</td>\n      <td>+</td>\n      <td>170</td>\n      <td>434</td>\n    </tr>\n    <tr>\n      <th>3</th>\n      <td>chr1</td>\n      <td>12697</td>\n      <td>12974</td>\n      <td>+</td>\n      <td>24</td>\n      <td>246</td>\n    </tr>\n    <tr>\n      <th>4</th>\n      <td>chr1</td>\n      <td>13052</td>\n      <td>13220</td>\n      <td>+</td>\n      <td>322</td>\n      <td>232</td>\n    </tr>\n    <tr>\n      <th>...</th>\n      <td>...</td>\n      <td>...</td>\n      <td>...</td>\n      <td>...</td>\n      <td>...</td>\n      <td>...</td>\n    </tr>\n    <tr>\n      <th>499138</th>\n      <td>chrY</td>\n      <td>24883840</td>\n      <td>24886132</td>\n      <td>+</td>\n      <td>5</td>\n      <td>16</td>\n    </tr>\n    <tr>\n      <th>499139</th>\n      <td>chrY</td>\n      <td>24888605</td>\n      <td>24889352</td>\n      <td>+</td>\n      <td>2384</td>\n      <td>819</td>\n    </tr>\n    <tr>\n      <th>499140</th>\n      <td>chrY</td>\n      <td>24889386</td>\n      <td>24901111</td>\n      <td>+</td>\n      <td>781</td>\n      <td>4072</td>\n    </tr>\n    <tr>\n      <th>499141</th>\n      <td>chrY</td>\n      <td>24833970</td>\n      <td>24840730</td>\n      <td>+</td>\n      <td>159</td>\n      <td>421</td>\n    </tr>\n    <tr>\n      <th>499142</th>\n      <td>chrY</td>\n      <td>24871607</td>\n      <td>24895696</td>\n      <td>+</td>\n      <td>63</td>\n      <td>9</td>\n    </tr>\n  </tbody>\n</table>\n<p>499143 rows × 6 columns</p>\n</div>"
     },
     "execution_count": 17,
     "metadata": {},
     "output_type": "execute_result"
    }
   ],
   "source": [
    "df_training_data"
   ],
   "metadata": {
    "collapsed": false,
    "ExecuteTime": {
     "end_time": "2023-08-04T02:21:07.272975Z",
     "start_time": "2023-08-04T02:21:07.259404Z"
    }
   }
  },
  {
   "cell_type": "code",
   "execution_count": 18,
   "outputs": [],
   "source": [
    "df_training_data.to_csv(\"data/4.4-nearest_ss_distance.tsv\", sep=\"\\t\", index=False)"
   ],
   "metadata": {
    "collapsed": false,
    "ExecuteTime": {
     "end_time": "2023-08-04T02:22:06.019827Z",
     "start_time": "2023-08-04T02:22:04.997918Z"
    }
   }
  },
  {
   "cell_type": "code",
   "execution_count": null,
   "outputs": [],
   "source": [],
   "metadata": {
    "collapsed": false
   }
  }
 ],
 "metadata": {
  "kernelspec": {
   "display_name": "Python 3",
   "language": "python",
   "name": "python3"
  },
  "language_info": {
   "codemirror_mode": {
    "name": "ipython",
    "version": 2
   },
   "file_extension": ".py",
   "mimetype": "text/x-python",
   "name": "python",
   "nbconvert_exporter": "python",
   "pygments_lexer": "ipython2",
   "version": "2.7.6"
  }
 },
 "nbformat": 4,
 "nbformat_minor": 0
}
