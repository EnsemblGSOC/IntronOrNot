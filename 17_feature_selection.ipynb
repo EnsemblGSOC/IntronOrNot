{
 "cells": [
  {
   "cell_type": "code",
   "execution_count": 2,
   "metadata": {
    "collapsed": true
   },
   "outputs": [],
   "source": [
    "from sklearn.feature_selection import RFECV\n",
    "import pandas as pd\n",
    "from xgboost import XGBClassifier\n",
    "from sklearn import preprocessing"
   ]
  },
  {
   "cell_type": "code",
   "execution_count": 2,
   "outputs": [],
   "source": [
    "df_train_x = pd.read_csv(\"data/15_complete_trainset.tsv\", sep=\"\\t\")\n",
    "y = df_train_x.pop(\"class\")"
   ],
   "metadata": {
    "collapsed": false
   }
  },
  {
   "cell_type": "code",
   "execution_count": 3,
   "outputs": [],
   "source": [
    "le = preprocessing.LabelEncoder()\n",
    "le.fit(df_train_x[\"splice_site\"])\n",
    "df_train_x[\"splice_site\"] = le.transform(df_train_x[\"splice_site\"])\n",
    "\n",
    "le = preprocessing.LabelEncoder()\n",
    "le.fit(df_train_x[\"bps\"])\n",
    "df_train_x[\"bps\"] = le.transform(df_train_x[\"bps\"])\n",
    "\n",
    "df_train_x = df_train_x.drop([\"strand\", \"chr\"], axis=1)"
   ],
   "metadata": {
    "collapsed": false
   }
  },
  {
   "cell_type": "code",
   "execution_count": 4,
   "outputs": [],
   "source": [
    "df_train_x = df_train_x.fillna(0)"
   ],
   "metadata": {
    "collapsed": false
   }
  },
  {
   "cell_type": "code",
   "execution_count": 5,
   "outputs": [
    {
     "data": {
      "text/plain": "        recount3_score  antisense_exon_start_ss  antisense_exon_end_ss  \\\n0                59151                    False                  False   \n1                61021                    False                  False   \n2                   21                    False                  False   \n3                  526                    False                  False   \n4                    0                    False                  False   \n...                ...                      ...                    ...   \n484602               0                    False                  False   \n484603           31374                    False                  False   \n484604              67                    False                  False   \n484605           18958                    False                  False   \n484606               0                    False                  False   \n\n        nearest_alt_start_ss_dist  nearest_alt_end_ss_dist  \\\n0                             170                      362   \n1                              24                      232   \n2                              24                      246   \n3                             322                      232   \n4                             322                      232   \n...                           ...                      ...   \n484602                        487                       25   \n484603                        777                      464   \n484604                        572                     2963   \n484605                       1178                        2   \n484606                        232                       24   \n\n        MaxEntScan_start_ss  MaxEntScan_end_ss  GC_content  CpG_island  \\\n0                      9.09              11.90    0.638961       False   \n1                      7.66               3.89    0.597194       False   \n2                      7.15               7.61    0.595668       False   \n3                      1.14               3.89    0.595238       False   \n4                    -12.10               7.63    0.538462       False   \n...                     ...                ...         ...         ...   \n484602               -19.72               3.66    0.628163        True   \n484603                 9.21              13.74    0.325301       False   \n484604                 8.56               2.38    0.383165       False   \n484605               -12.64               5.91    0.384648       False   \n484606                 7.66               3.89    0.598394       False   \n\n        intron_length  ...  repeat_features_end_site_Type I Transposons/SINE  \\\n0                 385  ...                                                 0   \n1                 499  ...                                                 0   \n2                 277  ...                                                 0   \n3                 168  ...                                                 0   \n4                  78  ...                                                 0   \n...               ...  ...                                               ...   \n484602            909  ...                                                 0   \n484603            415  ...                                                 0   \n484604           2970  ...                                                 0   \n484605           2358  ...                                                 0   \n484606            498  ...                                                 0   \n\n        repeat_features_end_site_Simple repeats  \\\n0                                             0   \n1                                             0   \n2                                             0   \n3                                             0   \n4                                             0   \n...                                         ...   \n484602                                        0   \n484603                                        0   \n484604                                        0   \n484605                                        0   \n484606                                        0   \n\n        repeat_features_end_site_Satellite repeats  \\\n0                                                0   \n1                                                0   \n2                                                0   \n3                                                0   \n4                                                0   \n...                                            ...   \n484602                                           0   \n484603                                           0   \n484604                                           0   \n484605                                           0   \n484606                                           0   \n\n        repeat_features_end_site_RNA repeats  \\\n0                                          0   \n1                                          0   \n2                                          0   \n3                                          0   \n4                                          0   \n...                                      ...   \n484602                                     0   \n484603                                     0   \n484604                                     0   \n484605                                     0   \n484606                                     0   \n\n        repeat_features_end_site_Type I Transposons/LINE  \\\n0                                                      0   \n1                                                      0   \n2                                                      0   \n3                                                      0   \n4                                                      0   \n...                                                  ...   \n484602                                                 0   \n484603                                                 0   \n484604                                                 0   \n484605                                                 0   \n484606                                                 0   \n\n        repeat_features_end_site_Low complexity regions  \\\n0                                                     0   \n1                                                     0   \n2                                                     0   \n3                                                     0   \n4                                                     0   \n...                                                 ...   \n484602                                                0   \n484603                                                0   \n484604                                                0   \n484605                                                0   \n484606                                                0   \n\n        repeat_features_end_site_Unknown  repeat_features_end_site_Centromere  \\\n0                                      0                                    0   \n1                                      0                                    0   \n2                                      0                                    0   \n3                                      0                                    0   \n4                                      0                                    0   \n...                                  ...                                  ...   \n484602                                 0                                    0   \n484603                                 0                                    0   \n484604                                 0                                    0   \n484605                                 0                                    0   \n484606                                 0                                    0   \n\n        repeat_features_end_site_Type II Transposons  splice_site  \n0                                                  0            2  \n1                                                  0            2  \n2                                                  0            2  \n3                                                  0            1  \n4                                                  0            2  \n...                                              ...          ...  \n484602                                             0            2  \n484603                                             0            2  \n484604                                             0            2  \n484605                                             0            2  \n484606                                             0            2  \n\n[484607 rows x 47 columns]",
      "text/html": "<div>\n<style scoped>\n    .dataframe tbody tr th:only-of-type {\n        vertical-align: middle;\n    }\n\n    .dataframe tbody tr th {\n        vertical-align: top;\n    }\n\n    .dataframe thead th {\n        text-align: right;\n    }\n</style>\n<table border=\"1\" class=\"dataframe\">\n  <thead>\n    <tr style=\"text-align: right;\">\n      <th></th>\n      <th>recount3_score</th>\n      <th>antisense_exon_start_ss</th>\n      <th>antisense_exon_end_ss</th>\n      <th>nearest_alt_start_ss_dist</th>\n      <th>nearest_alt_end_ss_dist</th>\n      <th>MaxEntScan_start_ss</th>\n      <th>MaxEntScan_end_ss</th>\n      <th>GC_content</th>\n      <th>CpG_island</th>\n      <th>intron_length</th>\n      <th>...</th>\n      <th>repeat_features_end_site_Type I Transposons/SINE</th>\n      <th>repeat_features_end_site_Simple repeats</th>\n      <th>repeat_features_end_site_Satellite repeats</th>\n      <th>repeat_features_end_site_RNA repeats</th>\n      <th>repeat_features_end_site_Type I Transposons/LINE</th>\n      <th>repeat_features_end_site_Low complexity regions</th>\n      <th>repeat_features_end_site_Unknown</th>\n      <th>repeat_features_end_site_Centromere</th>\n      <th>repeat_features_end_site_Type II Transposons</th>\n      <th>splice_site</th>\n    </tr>\n  </thead>\n  <tbody>\n    <tr>\n      <th>0</th>\n      <td>59151</td>\n      <td>False</td>\n      <td>False</td>\n      <td>170</td>\n      <td>362</td>\n      <td>9.09</td>\n      <td>11.90</td>\n      <td>0.638961</td>\n      <td>False</td>\n      <td>385</td>\n      <td>...</td>\n      <td>0</td>\n      <td>0</td>\n      <td>0</td>\n      <td>0</td>\n      <td>0</td>\n      <td>0</td>\n      <td>0</td>\n      <td>0</td>\n      <td>0</td>\n      <td>2</td>\n    </tr>\n    <tr>\n      <th>1</th>\n      <td>61021</td>\n      <td>False</td>\n      <td>False</td>\n      <td>24</td>\n      <td>232</td>\n      <td>7.66</td>\n      <td>3.89</td>\n      <td>0.597194</td>\n      <td>False</td>\n      <td>499</td>\n      <td>...</td>\n      <td>0</td>\n      <td>0</td>\n      <td>0</td>\n      <td>0</td>\n      <td>0</td>\n      <td>0</td>\n      <td>0</td>\n      <td>0</td>\n      <td>0</td>\n      <td>2</td>\n    </tr>\n    <tr>\n      <th>2</th>\n      <td>21</td>\n      <td>False</td>\n      <td>False</td>\n      <td>24</td>\n      <td>246</td>\n      <td>7.15</td>\n      <td>7.61</td>\n      <td>0.595668</td>\n      <td>False</td>\n      <td>277</td>\n      <td>...</td>\n      <td>0</td>\n      <td>0</td>\n      <td>0</td>\n      <td>0</td>\n      <td>0</td>\n      <td>0</td>\n      <td>0</td>\n      <td>0</td>\n      <td>0</td>\n      <td>2</td>\n    </tr>\n    <tr>\n      <th>3</th>\n      <td>526</td>\n      <td>False</td>\n      <td>False</td>\n      <td>322</td>\n      <td>232</td>\n      <td>1.14</td>\n      <td>3.89</td>\n      <td>0.595238</td>\n      <td>False</td>\n      <td>168</td>\n      <td>...</td>\n      <td>0</td>\n      <td>0</td>\n      <td>0</td>\n      <td>0</td>\n      <td>0</td>\n      <td>0</td>\n      <td>0</td>\n      <td>0</td>\n      <td>0</td>\n      <td>1</td>\n    </tr>\n    <tr>\n      <th>4</th>\n      <td>0</td>\n      <td>False</td>\n      <td>False</td>\n      <td>322</td>\n      <td>232</td>\n      <td>-12.10</td>\n      <td>7.63</td>\n      <td>0.538462</td>\n      <td>False</td>\n      <td>78</td>\n      <td>...</td>\n      <td>0</td>\n      <td>0</td>\n      <td>0</td>\n      <td>0</td>\n      <td>0</td>\n      <td>0</td>\n      <td>0</td>\n      <td>0</td>\n      <td>0</td>\n      <td>2</td>\n    </tr>\n    <tr>\n      <th>...</th>\n      <td>...</td>\n      <td>...</td>\n      <td>...</td>\n      <td>...</td>\n      <td>...</td>\n      <td>...</td>\n      <td>...</td>\n      <td>...</td>\n      <td>...</td>\n      <td>...</td>\n      <td>...</td>\n      <td>...</td>\n      <td>...</td>\n      <td>...</td>\n      <td>...</td>\n      <td>...</td>\n      <td>...</td>\n      <td>...</td>\n      <td>...</td>\n      <td>...</td>\n      <td>...</td>\n    </tr>\n    <tr>\n      <th>484602</th>\n      <td>0</td>\n      <td>False</td>\n      <td>False</td>\n      <td>487</td>\n      <td>25</td>\n      <td>-19.72</td>\n      <td>3.66</td>\n      <td>0.628163</td>\n      <td>True</td>\n      <td>909</td>\n      <td>...</td>\n      <td>0</td>\n      <td>0</td>\n      <td>0</td>\n      <td>0</td>\n      <td>0</td>\n      <td>0</td>\n      <td>0</td>\n      <td>0</td>\n      <td>0</td>\n      <td>2</td>\n    </tr>\n    <tr>\n      <th>484603</th>\n      <td>31374</td>\n      <td>False</td>\n      <td>False</td>\n      <td>777</td>\n      <td>464</td>\n      <td>9.21</td>\n      <td>13.74</td>\n      <td>0.325301</td>\n      <td>False</td>\n      <td>415</td>\n      <td>...</td>\n      <td>0</td>\n      <td>0</td>\n      <td>0</td>\n      <td>0</td>\n      <td>0</td>\n      <td>0</td>\n      <td>0</td>\n      <td>0</td>\n      <td>0</td>\n      <td>2</td>\n    </tr>\n    <tr>\n      <th>484604</th>\n      <td>67</td>\n      <td>False</td>\n      <td>False</td>\n      <td>572</td>\n      <td>2963</td>\n      <td>8.56</td>\n      <td>2.38</td>\n      <td>0.383165</td>\n      <td>False</td>\n      <td>2970</td>\n      <td>...</td>\n      <td>0</td>\n      <td>0</td>\n      <td>0</td>\n      <td>0</td>\n      <td>0</td>\n      <td>0</td>\n      <td>0</td>\n      <td>0</td>\n      <td>0</td>\n      <td>2</td>\n    </tr>\n    <tr>\n      <th>484605</th>\n      <td>18958</td>\n      <td>False</td>\n      <td>False</td>\n      <td>1178</td>\n      <td>2</td>\n      <td>-12.64</td>\n      <td>5.91</td>\n      <td>0.384648</td>\n      <td>False</td>\n      <td>2358</td>\n      <td>...</td>\n      <td>0</td>\n      <td>0</td>\n      <td>0</td>\n      <td>0</td>\n      <td>0</td>\n      <td>0</td>\n      <td>0</td>\n      <td>0</td>\n      <td>0</td>\n      <td>2</td>\n    </tr>\n    <tr>\n      <th>484606</th>\n      <td>0</td>\n      <td>False</td>\n      <td>False</td>\n      <td>232</td>\n      <td>24</td>\n      <td>7.66</td>\n      <td>3.89</td>\n      <td>0.598394</td>\n      <td>False</td>\n      <td>498</td>\n      <td>...</td>\n      <td>0</td>\n      <td>0</td>\n      <td>0</td>\n      <td>0</td>\n      <td>0</td>\n      <td>0</td>\n      <td>0</td>\n      <td>0</td>\n      <td>0</td>\n      <td>2</td>\n    </tr>\n  </tbody>\n</table>\n<p>484607 rows × 47 columns</p>\n</div>"
     },
     "execution_count": 5,
     "metadata": {},
     "output_type": "execute_result"
    }
   ],
   "source": [
    "df_train_x"
   ],
   "metadata": {
    "collapsed": false
   }
  },
  {
   "cell_type": "code",
   "execution_count": 6,
   "outputs": [
    {
     "name": "stdout",
     "output_type": "stream",
     "text": [
      "Fitting estimator with 47 features.\n",
      "Fitting estimator with 46 features.\n",
      "Fitting estimator with 45 features.\n",
      "Fitting estimator with 44 features.\n",
      "Fitting estimator with 43 features.\n",
      "Fitting estimator with 42 features.\n",
      "Fitting estimator with 41 features.\n",
      "Fitting estimator with 40 features.\n",
      "Fitting estimator with 39 features.\n",
      "Fitting estimator with 38 features.\n",
      "Fitting estimator with 37 features.\n",
      "Fitting estimator with 36 features.\n",
      "Fitting estimator with 35 features.\n",
      "Fitting estimator with 34 features.\n",
      "Fitting estimator with 33 features.\n",
      "Fitting estimator with 32 features.\n",
      "Fitting estimator with 31 features.\n",
      "Fitting estimator with 30 features.\n",
      "Fitting estimator with 29 features.\n",
      "Fitting estimator with 28 features.\n",
      "Fitting estimator with 27 features.\n",
      "Fitting estimator with 26 features.\n",
      "Fitting estimator with 25 features.\n",
      "Fitting estimator with 24 features.\n",
      "Fitting estimator with 23 features.\n",
      "Fitting estimator with 22 features.\n",
      "Fitting estimator with 21 features.\n",
      "Fitting estimator with 20 features.\n",
      "Fitting estimator with 19 features.\n",
      "Fitting estimator with 18 features.\n",
      "Fitting estimator with 17 features.\n",
      "Fitting estimator with 16 features.\n",
      "Fitting estimator with 15 features.\n",
      "Fitting estimator with 14 features.\n",
      "Fitting estimator with 13 features.\n",
      "Fitting estimator with 12 features.\n",
      "Fitting estimator with 11 features.\n",
      "Fitting estimator with 47 features.\n",
      "Fitting estimator with 46 features.\n",
      "Fitting estimator with 45 features.\n",
      "Fitting estimator with 44 features.\n",
      "Fitting estimator with 43 features.\n",
      "Fitting estimator with 42 features.\n",
      "Fitting estimator with 41 features.\n",
      "Fitting estimator with 40 features.\n",
      "Fitting estimator with 39 features.\n",
      "Fitting estimator with 38 features.\n",
      "Fitting estimator with 37 features.\n",
      "Fitting estimator with 36 features.\n",
      "Fitting estimator with 35 features.\n",
      "Fitting estimator with 34 features.\n",
      "Fitting estimator with 33 features.\n",
      "Fitting estimator with 32 features.\n",
      "Fitting estimator with 31 features.\n",
      "Fitting estimator with 30 features.\n",
      "Fitting estimator with 29 features.\n",
      "Fitting estimator with 28 features.\n",
      "Fitting estimator with 27 features.\n",
      "Fitting estimator with 26 features.\n",
      "Fitting estimator with 25 features.\n",
      "Fitting estimator with 24 features.\n",
      "Fitting estimator with 23 features.\n",
      "Fitting estimator with 22 features.\n",
      "Fitting estimator with 21 features.\n",
      "Fitting estimator with 20 features.\n",
      "Fitting estimator with 19 features.\n",
      "Fitting estimator with 18 features.\n",
      "Fitting estimator with 17 features.\n",
      "Fitting estimator with 16 features.\n",
      "Fitting estimator with 15 features.\n",
      "Fitting estimator with 14 features.\n",
      "Fitting estimator with 13 features.\n",
      "Fitting estimator with 12 features.\n",
      "Fitting estimator with 11 features.\n",
      "Fitting estimator with 47 features.\n",
      "Fitting estimator with 46 features.\n",
      "Fitting estimator with 45 features.\n",
      "Fitting estimator with 44 features.\n",
      "Fitting estimator with 43 features.\n",
      "Fitting estimator with 42 features.\n",
      "Fitting estimator with 41 features.\n",
      "Fitting estimator with 40 features.\n",
      "Fitting estimator with 39 features.\n",
      "Fitting estimator with 38 features.\n",
      "Fitting estimator with 37 features.\n",
      "Fitting estimator with 36 features.\n",
      "Fitting estimator with 35 features.\n",
      "Fitting estimator with 34 features.\n",
      "Fitting estimator with 33 features.\n",
      "Fitting estimator with 32 features.\n",
      "Fitting estimator with 31 features.\n",
      "Fitting estimator with 30 features.\n",
      "Fitting estimator with 29 features.\n",
      "Fitting estimator with 28 features.\n",
      "Fitting estimator with 27 features.\n",
      "Fitting estimator with 26 features.\n",
      "Fitting estimator with 25 features.\n",
      "Fitting estimator with 24 features.\n",
      "Fitting estimator with 23 features.\n",
      "Fitting estimator with 22 features.\n",
      "Fitting estimator with 21 features.\n",
      "Fitting estimator with 20 features.\n",
      "Fitting estimator with 19 features.\n",
      "Fitting estimator with 18 features.\n",
      "Fitting estimator with 17 features.\n",
      "Fitting estimator with 16 features.\n",
      "Fitting estimator with 15 features.\n",
      "Fitting estimator with 14 features.\n",
      "Fitting estimator with 13 features.\n",
      "Fitting estimator with 12 features.\n",
      "Fitting estimator with 11 features.\n",
      "Fitting estimator with 47 features.\n",
      "Fitting estimator with 46 features.\n",
      "Fitting estimator with 45 features.\n",
      "Fitting estimator with 44 features.\n",
      "Fitting estimator with 43 features.\n",
      "Fitting estimator with 42 features.\n",
      "Fitting estimator with 41 features.\n",
      "Fitting estimator with 40 features.\n",
      "Fitting estimator with 39 features.\n",
      "Fitting estimator with 38 features.\n",
      "Fitting estimator with 37 features.\n",
      "Fitting estimator with 36 features.\n",
      "Fitting estimator with 35 features.\n",
      "Fitting estimator with 34 features.\n",
      "Fitting estimator with 33 features.\n",
      "Fitting estimator with 32 features.\n",
      "Fitting estimator with 31 features.\n",
      "Fitting estimator with 30 features.\n",
      "Fitting estimator with 29 features.\n",
      "Fitting estimator with 28 features.\n",
      "Fitting estimator with 27 features.\n",
      "Fitting estimator with 26 features.\n",
      "Fitting estimator with 25 features.\n",
      "Fitting estimator with 24 features.\n",
      "Fitting estimator with 23 features.\n",
      "Fitting estimator with 22 features.\n",
      "Fitting estimator with 21 features.\n",
      "Fitting estimator with 20 features.\n",
      "Fitting estimator with 19 features.\n",
      "Fitting estimator with 18 features.\n",
      "Fitting estimator with 17 features.\n",
      "Fitting estimator with 16 features.\n",
      "Fitting estimator with 15 features.\n",
      "Fitting estimator with 14 features.\n",
      "Fitting estimator with 13 features.\n",
      "Fitting estimator with 12 features.\n",
      "Fitting estimator with 11 features.\n",
      "Fitting estimator with 47 features.\n",
      "Fitting estimator with 46 features.\n",
      "Fitting estimator with 45 features.\n",
      "Fitting estimator with 44 features.\n",
      "Fitting estimator with 43 features.\n",
      "Fitting estimator with 42 features.\n",
      "Fitting estimator with 41 features.\n",
      "Fitting estimator with 40 features.\n",
      "Fitting estimator with 39 features.\n",
      "Fitting estimator with 38 features.\n",
      "Fitting estimator with 37 features.\n",
      "Fitting estimator with 36 features.\n",
      "Fitting estimator with 35 features.\n",
      "Fitting estimator with 34 features.\n",
      "Fitting estimator with 33 features.\n",
      "Fitting estimator with 32 features.\n",
      "Fitting estimator with 31 features.\n",
      "Fitting estimator with 30 features.\n",
      "Fitting estimator with 29 features.\n",
      "Fitting estimator with 28 features.\n",
      "Fitting estimator with 27 features.\n",
      "Fitting estimator with 26 features.\n",
      "Fitting estimator with 25 features.\n",
      "Fitting estimator with 24 features.\n",
      "Fitting estimator with 23 features.\n",
      "Fitting estimator with 22 features.\n",
      "Fitting estimator with 21 features.\n",
      "Fitting estimator with 20 features.\n",
      "Fitting estimator with 19 features.\n",
      "Fitting estimator with 18 features.\n",
      "Fitting estimator with 17 features.\n",
      "Fitting estimator with 16 features.\n",
      "Fitting estimator with 15 features.\n",
      "Fitting estimator with 14 features.\n",
      "Fitting estimator with 13 features.\n",
      "Fitting estimator with 12 features.\n",
      "Fitting estimator with 11 features.\n",
      "Fitting estimator with 47 features.\n",
      "Fitting estimator with 46 features.\n",
      "Fitting estimator with 45 features.\n",
      "Fitting estimator with 44 features.\n",
      "Fitting estimator with 43 features.\n",
      "Fitting estimator with 42 features.\n",
      "Fitting estimator with 41 features.\n",
      "Fitting estimator with 40 features.\n",
      "Fitting estimator with 39 features.\n",
      "Fitting estimator with 38 features.\n",
      "Fitting estimator with 37 features.\n",
      "Fitting estimator with 36 features.\n",
      "Fitting estimator with 35 features.\n",
      "Fitting estimator with 34 features.\n",
      "Fitting estimator with 33 features.\n",
      "Fitting estimator with 32 features.\n",
      "Fitting estimator with 31 features.\n",
      "Fitting estimator with 30 features.\n",
      "Fitting estimator with 29 features.\n",
      "Fitting estimator with 28 features.\n",
      "Fitting estimator with 27 features.\n",
      "Fitting estimator with 26 features.\n",
      "CPU times: user 7h 51min 53s, sys: 24.2 s, total: 7h 52min 17s\n",
      "Wall time: 25min 10s\n"
     ]
    }
   ],
   "source": [
    "%%time\n",
    "\n",
    "estimator = XGBClassifier(n_jobs=20)\n",
    "selector = RFECV(estimator, min_features_to_select=10, step=1, verbose=1, cv=5, scoring=\"matthews_corrcoef\")\n",
    "selector = selector.fit(df_train_x, y)"
   ],
   "metadata": {
    "collapsed": false
   }
  },
  {
   "cell_type": "code",
   "execution_count": 7,
   "outputs": [],
   "source": [
    "feature_lst = df_train_x.columns.tolist()"
   ],
   "metadata": {
    "collapsed": false
   }
  },
  {
   "cell_type": "code",
   "execution_count": 8,
   "outputs": [
    {
     "data": {
      "text/plain": "[('recount3_score', 1),\n ('antisense_exon_start_ss', 1),\n ('antisense_exon_end_ss', 1),\n ('nearest_alt_start_ss_dist', 1),\n ('nearest_alt_end_ss_dist', 1),\n ('MaxEntScan_start_ss', 1),\n ('MaxEntScan_end_ss', 1),\n ('GC_content', 3),\n ('CpG_island', 1),\n ('intron_length', 1),\n ('phyloP_score', 1),\n ('phastCons_score', 1),\n ('recount3_near_start_ss_with_better_score', 1),\n ('recount3_near_end_ss_with_better_score', 1),\n ('bps', 11),\n ('bp_pos', 15),\n ('sc_bps', 7),\n ('sc_ppt', 5),\n ('sc', 1),\n ('zsc_bps', 4),\n ('zsc_ppt', 8),\n ('zsc', 9),\n ('repeat_features_start_site_Dust', 17),\n ('repeat_features_start_site_Tandem repeats', 1),\n ('repeat_features_start_site_LTRs', 1),\n ('repeat_features_start_site_Type I Transposons/SINE', 2),\n ('repeat_features_start_site_Simple repeats', 12),\n ('repeat_features_start_site_Satellite repeats', 1),\n ('repeat_features_start_site_RNA repeats', 23),\n ('repeat_features_start_site_Type I Transposons/LINE', 14),\n ('repeat_features_start_site_Low complexity regions', 20),\n ('repeat_features_start_site_Unknown', 1),\n ('repeat_features_start_site_Centromere', 21),\n ('repeat_features_start_site_Type II Transposons', 1),\n ('repeat_features_end_site_Dust', 22),\n ('repeat_features_end_site_Tandem repeats', 1),\n ('repeat_features_end_site_LTRs', 1),\n ('repeat_features_end_site_Type I Transposons/SINE', 1),\n ('repeat_features_end_site_Simple repeats', 13),\n ('repeat_features_end_site_Satellite repeats', 1),\n ('repeat_features_end_site_RNA repeats', 18),\n ('repeat_features_end_site_Type I Transposons/LINE', 1),\n ('repeat_features_end_site_Low complexity regions', 10),\n ('repeat_features_end_site_Unknown', 16),\n ('repeat_features_end_site_Centromere', 19),\n ('repeat_features_end_site_Type II Transposons', 6),\n ('splice_site', 1)]"
     },
     "execution_count": 8,
     "metadata": {},
     "output_type": "execute_result"
    }
   ],
   "source": [
    "feature_rank_name_pairs = list(zip(feature_lst, selector.ranking_))\n",
    "feature_rank_name_pairs"
   ],
   "metadata": {
    "collapsed": false
   }
  },
  {
   "cell_type": "code",
   "execution_count": 9,
   "outputs": [
    {
     "data": {
      "text/plain": "[('recount3_score', 1),\n ('antisense_exon_start_ss', 1),\n ('antisense_exon_end_ss', 1),\n ('nearest_alt_start_ss_dist', 1),\n ('nearest_alt_end_ss_dist', 1),\n ('MaxEntScan_start_ss', 1),\n ('MaxEntScan_end_ss', 1),\n ('CpG_island', 1),\n ('intron_length', 1),\n ('phyloP_score', 1),\n ('phastCons_score', 1),\n ('recount3_near_start_ss_with_better_score', 1),\n ('recount3_near_end_ss_with_better_score', 1),\n ('sc', 1),\n ('repeat_features_start_site_Tandem repeats', 1),\n ('repeat_features_start_site_LTRs', 1),\n ('repeat_features_start_site_Satellite repeats', 1),\n ('repeat_features_start_site_Unknown', 1),\n ('repeat_features_start_site_Type II Transposons', 1),\n ('repeat_features_end_site_Tandem repeats', 1),\n ('repeat_features_end_site_LTRs', 1),\n ('repeat_features_end_site_Type I Transposons/SINE', 1),\n ('repeat_features_end_site_Satellite repeats', 1),\n ('repeat_features_end_site_Type I Transposons/LINE', 1),\n ('splice_site', 1),\n ('repeat_features_start_site_Type I Transposons/SINE', 2),\n ('GC_content', 3),\n ('zsc_bps', 4),\n ('sc_ppt', 5),\n ('repeat_features_end_site_Type II Transposons', 6),\n ('sc_bps', 7),\n ('zsc_ppt', 8),\n ('zsc', 9),\n ('repeat_features_end_site_Low complexity regions', 10),\n ('bps', 11),\n ('repeat_features_start_site_Simple repeats', 12),\n ('repeat_features_end_site_Simple repeats', 13),\n ('repeat_features_start_site_Type I Transposons/LINE', 14),\n ('bp_pos', 15),\n ('repeat_features_end_site_Unknown', 16),\n ('repeat_features_start_site_Dust', 17),\n ('repeat_features_end_site_RNA repeats', 18),\n ('repeat_features_end_site_Centromere', 19),\n ('repeat_features_start_site_Low complexity regions', 20),\n ('repeat_features_start_site_Centromere', 21),\n ('repeat_features_end_site_Dust', 22),\n ('repeat_features_start_site_RNA repeats', 23)]"
     },
     "execution_count": 9,
     "metadata": {},
     "output_type": "execute_result"
    }
   ],
   "source": [
    "feature_rank_name_pairs = sorted(feature_rank_name_pairs, key=lambda x: x[1])\n",
    "feature_rank_name_pairs"
   ],
   "metadata": {
    "collapsed": false
   }
  },
  {
   "cell_type": "code",
   "execution_count": 10,
   "outputs": [
    {
     "data": {
      "text/plain": "['recount3_score',\n 'antisense_exon_start_ss',\n 'antisense_exon_end_ss',\n 'nearest_alt_start_ss_dist',\n 'nearest_alt_end_ss_dist',\n 'MaxEntScan_start_ss',\n 'MaxEntScan_end_ss',\n 'CpG_island',\n 'intron_length',\n 'phyloP_score',\n 'phastCons_score',\n 'recount3_near_start_ss_with_better_score',\n 'recount3_near_end_ss_with_better_score',\n 'sc',\n 'repeat_features_start_site_Tandem repeats',\n 'repeat_features_start_site_LTRs',\n 'repeat_features_start_site_Satellite repeats',\n 'repeat_features_start_site_Unknown',\n 'repeat_features_start_site_Type II Transposons',\n 'repeat_features_end_site_Tandem repeats',\n 'repeat_features_end_site_LTRs',\n 'repeat_features_end_site_Type I Transposons/SINE',\n 'repeat_features_end_site_Satellite repeats',\n 'repeat_features_end_site_Type I Transposons/LINE',\n 'splice_site',\n 'repeat_features_start_site_Type I Transposons/SINE',\n 'GC_content',\n 'zsc_bps',\n 'sc_ppt',\n 'repeat_features_end_site_Type II Transposons',\n 'sc_bps',\n 'zsc_ppt',\n 'zsc',\n 'repeat_features_end_site_Low complexity regions',\n 'bps',\n 'repeat_features_start_site_Simple repeats',\n 'repeat_features_end_site_Simple repeats',\n 'repeat_features_start_site_Type I Transposons/LINE',\n 'bp_pos',\n 'repeat_features_end_site_Unknown',\n 'repeat_features_start_site_Dust',\n 'repeat_features_end_site_RNA repeats',\n 'repeat_features_end_site_Centromere',\n 'repeat_features_start_site_Low complexity regions',\n 'repeat_features_start_site_Centromere',\n 'repeat_features_end_site_Dust',\n 'repeat_features_start_site_RNA repeats']"
     },
     "execution_count": 10,
     "metadata": {},
     "output_type": "execute_result"
    }
   ],
   "source": [
    "[feature[0] for feature in feature_rank_name_pairs]"
   ],
   "metadata": {
    "collapsed": false
   }
  },
  {
   "cell_type": "markdown",
   "source": [
    "Based on the result above and consulting the annotation team for domain knowledge, we also manually pruned away some features."
   ],
   "metadata": {
    "collapsed": false
   }
  },
  {
   "cell_type": "code",
   "execution_count": 3,
   "outputs": [],
   "source": [
    "df_final = pd.read_csv(\"data/15_complete_trainset.tsv\", sep=\"\\t\")[['recount3_score',\n",
    " 'antisense_exon_start_ss',\n",
    " 'antisense_exon_end_ss',\n",
    " 'nearest_alt_start_ss_dist',\n",
    " 'nearest_alt_end_ss_dist',\n",
    " 'MaxEntScan_start_ss',\n",
    " 'MaxEntScan_end_ss',\n",
    " 'CpG_island',\n",
    " 'intron_length',\n",
    " 'phyloP_score',\n",
    " 'phastCons_score',\n",
    " 'recount3_near_start_ss_with_better_score',\n",
    " 'recount3_near_end_ss_with_better_score',\n",
    " # 'sc', # This is a feature out of the BPP (Branch Point Prediction tool). This is removed during the interval validation process due it requires the intron to have certain length, shorter intron might be immediately be disadvantaged because it has no predicted score (i.e. 0 or other value that we filled it to)\n",
    " 'repeat_features_start_site_Tandem repeats',\n",
    " 'repeat_features_start_site_LTRs',\n",
    " 'repeat_features_start_site_Satellite repeats',\n",
    " 'repeat_features_start_site_Type II Transposons',\n",
    " 'repeat_features_end_site_Tandem repeats',\n",
    " 'repeat_features_end_site_LTRs',\n",
    " 'repeat_features_end_site_Type I Transposons/SINE',\n",
    " 'repeat_features_end_site_Satellite repeats',\n",
    " 'repeat_features_end_site_Type I Transposons/LINE',\n",
    " 'splice_site',\n",
    " 'repeat_features_start_site_Type I Transposons/SINE', 'class']]"
   ],
   "metadata": {
    "collapsed": false
   }
  },
  {
   "cell_type": "code",
   "execution_count": 4,
   "outputs": [],
   "source": [
    "df_final.to_csv(\"data/17_selected_features_trainset.tsv\", sep=\"\\t\", index=False)"
   ],
   "metadata": {
    "collapsed": false
   }
  }
 ],
 "metadata": {
  "kernelspec": {
   "display_name": "Python 3",
   "language": "python",
   "name": "python3"
  },
  "language_info": {
   "codemirror_mode": {
    "name": "ipython",
    "version": 2
   },
   "file_extension": ".py",
   "mimetype": "text/x-python",
   "name": "python",
   "nbconvert_exporter": "python",
   "pygments_lexer": "ipython2",
   "version": "2.7.6"
  }
 },
 "nbformat": 4,
 "nbformat_minor": 0
}
