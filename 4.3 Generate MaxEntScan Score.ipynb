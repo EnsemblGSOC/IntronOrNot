{
 "cells": [
  {
   "cell_type": "code",
   "execution_count": 1,
   "metadata": {
    "collapsed": true
   },
   "outputs": [],
   "source": [
    "from xgboost import XGBClassifier\n",
    "from sklearn.ensemble import RandomForestClassifier\n",
    "import pandas as pd\n",
    "import sklearn.ensemble\n",
    "from sklearn.metrics import accuracy_score, roc_auc_score, balanced_accuracy_score, precision_score, matthews_corrcoef, confusion_matrix, recall_score\n",
    "from sklearn.model_selection import StratifiedKFold\n",
    "from sklearn.model_selection import train_test_split\n",
    "from sklearn import preprocessing\n",
    "import statistics\n",
    "import numpy as np\n",
    "import subprocess\n",
    "from pandarallel import pandarallel"
   ]
  },
  {
   "cell_type": "code",
   "execution_count": 2,
   "outputs": [
    {
     "data": {
      "text/plain": "                                      sequence_maxentscan\n0       ccaGTAAGTAGTGCTTGTGCTCATCTCCTTGGCTGTGATACGTGGC...\n1       gagGTGAGAGGAGAGTAGACAGTGAGTGGGAGTGGCGTCGCCCCTA...\n2       gagCACTGGAGTGGAGTTTTCCTGTGGAGAGGAGCCATGCCTAGAG...\n3       cttGTGAGTGTCCCCAGTGTTGCAGAGGTGAGAGGAGAGTAGACAG...\n4       tagGCAAGCCTGGCTGCCTCCAGCTGGGTCGACAGACAGGGGCTGG...\n...                                                   ...\n527913  aatGTAAGAAGGAGTAAAATTATTTGCTTTCAGGTATTATTGAGGC...\n527914  cagGTAATGTAAGAAGGAGTAAAATTATTTGCTTTCAGGTATTATT...\n527915  gggATTATGTTTTCCTTGATGTTAAGTGAATTAGCCAAACATAGAC...\n527916  cgcCCTTGGTTTTCCTTACACCTTAGCCTTTGGCTCCTTTGACCAC...\n527917  cctGCTTATCCAAATTCACCATTTCAAGTCGCCACTGGATATCAGT...\n\n[527918 rows x 1 columns]",
      "text/html": "<div>\n<style scoped>\n    .dataframe tbody tr th:only-of-type {\n        vertical-align: middle;\n    }\n\n    .dataframe tbody tr th {\n        vertical-align: top;\n    }\n\n    .dataframe thead th {\n        text-align: right;\n    }\n</style>\n<table border=\"1\" class=\"dataframe\">\n  <thead>\n    <tr style=\"text-align: right;\">\n      <th></th>\n      <th>sequence_maxentscan</th>\n    </tr>\n  </thead>\n  <tbody>\n    <tr>\n      <th>0</th>\n      <td>ccaGTAAGTAGTGCTTGTGCTCATCTCCTTGGCTGTGATACGTGGC...</td>\n    </tr>\n    <tr>\n      <th>1</th>\n      <td>gagGTGAGAGGAGAGTAGACAGTGAGTGGGAGTGGCGTCGCCCCTA...</td>\n    </tr>\n    <tr>\n      <th>2</th>\n      <td>gagCACTGGAGTGGAGTTTTCCTGTGGAGAGGAGCCATGCCTAGAG...</td>\n    </tr>\n    <tr>\n      <th>3</th>\n      <td>cttGTGAGTGTCCCCAGTGTTGCAGAGGTGAGAGGAGAGTAGACAG...</td>\n    </tr>\n    <tr>\n      <th>4</th>\n      <td>tagGCAAGCCTGGCTGCCTCCAGCTGGGTCGACAGACAGGGGCTGG...</td>\n    </tr>\n    <tr>\n      <th>...</th>\n      <td>...</td>\n    </tr>\n    <tr>\n      <th>527913</th>\n      <td>aatGTAAGAAGGAGTAAAATTATTTGCTTTCAGGTATTATTGAGGC...</td>\n    </tr>\n    <tr>\n      <th>527914</th>\n      <td>cagGTAATGTAAGAAGGAGTAAAATTATTTGCTTTCAGGTATTATT...</td>\n    </tr>\n    <tr>\n      <th>527915</th>\n      <td>gggATTATGTTTTCCTTGATGTTAAGTGAATTAGCCAAACATAGAC...</td>\n    </tr>\n    <tr>\n      <th>527916</th>\n      <td>cgcCCTTGGTTTTCCTTACACCTTAGCCTTTGGCTCCTTTGACCAC...</td>\n    </tr>\n    <tr>\n      <th>527917</th>\n      <td>cctGCTTATCCAAATTCACCATTTCAAGTCGCCACTGGATATCAGT...</td>\n    </tr>\n  </tbody>\n</table>\n<p>527918 rows × 1 columns</p>\n</div>"
     },
     "execution_count": 2,
     "metadata": {},
     "output_type": "execute_result"
    }
   ],
   "source": [
    "df = pd.read_csv(\"data/4.2_hg38_paired_introns.tsv\", sep=\"\\t\", usecols = [\"sequence_maxentscan\"])\n",
    "df"
   ],
   "metadata": {
    "collapsed": false
   }
  },
  {
   "cell_type": "code",
   "execution_count": 3,
   "outputs": [
    {
     "data": {
      "text/plain": "                                      sequence_maxentscan  \\\n0       ccaGTAAGTAGTGCTTGTGCTCATCTCCTTGGCTGTGATACGTGGC...   \n1       gagGTGAGAGGAGAGTAGACAGTGAGTGGGAGTGGCGTCGCCCCTA...   \n2       gagCACTGGAGTGGAGTTTTCCTGTGGAGAGGAGCCATGCCTAGAG...   \n3       cttGTGAGTGTCCCCAGTGTTGCAGAGGTGAGAGGAGAGTAGACAG...   \n4       tagGCAAGCCTGGCTGCCTCCAGCTGGGTCGACAGACAGGGGCTGG...   \n...                                                   ...   \n527913  aatGTAAGAAGGAGTAAAATTATTTGCTTTCAGGTATTATTGAGGC...   \n527914  cagGTAATGTAAGAAGGAGTAAAATTATTTGCTTTCAGGTATTATT...   \n527915  gggATTATGTTTTCCTTGATGTTAAGTGAATTAGCCAAACATAGAC...   \n527916  cgcCCTTGGTTTTCCTTACACCTTAGCCTTTGGCTCCTTTGACCAC...   \n527917  cctGCTTATCCAAATTCACCATTTCAAGTCGCCACTGGATATCAGT...   \n\n       5_prime_site_maxent_seq  \n0                    ccaGTAAGT  \n1                    gagGTGAGA  \n2                    gagCACTGG  \n3                    cttGTGAGT  \n4                    tagGCAAGC  \n...                        ...  \n527913               aatGTAAGA  \n527914               cagGTAATG  \n527915               gggATTATG  \n527916               cgcCCTTGG  \n527917               cctGCTTAT  \n\n[527918 rows x 2 columns]",
      "text/html": "<div>\n<style scoped>\n    .dataframe tbody tr th:only-of-type {\n        vertical-align: middle;\n    }\n\n    .dataframe tbody tr th {\n        vertical-align: top;\n    }\n\n    .dataframe thead th {\n        text-align: right;\n    }\n</style>\n<table border=\"1\" class=\"dataframe\">\n  <thead>\n    <tr style=\"text-align: right;\">\n      <th></th>\n      <th>sequence_maxentscan</th>\n      <th>5_prime_site_maxent_seq</th>\n    </tr>\n  </thead>\n  <tbody>\n    <tr>\n      <th>0</th>\n      <td>ccaGTAAGTAGTGCTTGTGCTCATCTCCTTGGCTGTGATACGTGGC...</td>\n      <td>ccaGTAAGT</td>\n    </tr>\n    <tr>\n      <th>1</th>\n      <td>gagGTGAGAGGAGAGTAGACAGTGAGTGGGAGTGGCGTCGCCCCTA...</td>\n      <td>gagGTGAGA</td>\n    </tr>\n    <tr>\n      <th>2</th>\n      <td>gagCACTGGAGTGGAGTTTTCCTGTGGAGAGGAGCCATGCCTAGAG...</td>\n      <td>gagCACTGG</td>\n    </tr>\n    <tr>\n      <th>3</th>\n      <td>cttGTGAGTGTCCCCAGTGTTGCAGAGGTGAGAGGAGAGTAGACAG...</td>\n      <td>cttGTGAGT</td>\n    </tr>\n    <tr>\n      <th>4</th>\n      <td>tagGCAAGCCTGGCTGCCTCCAGCTGGGTCGACAGACAGGGGCTGG...</td>\n      <td>tagGCAAGC</td>\n    </tr>\n    <tr>\n      <th>...</th>\n      <td>...</td>\n      <td>...</td>\n    </tr>\n    <tr>\n      <th>527913</th>\n      <td>aatGTAAGAAGGAGTAAAATTATTTGCTTTCAGGTATTATTGAGGC...</td>\n      <td>aatGTAAGA</td>\n    </tr>\n    <tr>\n      <th>527914</th>\n      <td>cagGTAATGTAAGAAGGAGTAAAATTATTTGCTTTCAGGTATTATT...</td>\n      <td>cagGTAATG</td>\n    </tr>\n    <tr>\n      <th>527915</th>\n      <td>gggATTATGTTTTCCTTGATGTTAAGTGAATTAGCCAAACATAGAC...</td>\n      <td>gggATTATG</td>\n    </tr>\n    <tr>\n      <th>527916</th>\n      <td>cgcCCTTGGTTTTCCTTACACCTTAGCCTTTGGCTCCTTTGACCAC...</td>\n      <td>cgcCCTTGG</td>\n    </tr>\n    <tr>\n      <th>527917</th>\n      <td>cctGCTTATCCAAATTCACCATTTCAAGTCGCCACTGGATATCAGT...</td>\n      <td>cctGCTTAT</td>\n    </tr>\n  </tbody>\n</table>\n<p>527918 rows × 2 columns</p>\n</div>"
     },
     "execution_count": 3,
     "metadata": {},
     "output_type": "execute_result"
    }
   ],
   "source": [
    "df[\"5_prime_site_maxent_seq\"] = df[\"sequence_maxentscan\"].apply(lambda x: x[:9])\n",
    "df"
   ],
   "metadata": {
    "collapsed": false
   }
  },
  {
   "cell_type": "code",
   "execution_count": 4,
   "outputs": [
    {
     "data": {
      "text/plain": "                                      sequence_maxentscan  \\\n0       ccaGTAAGTAGTGCTTGTGCTCATCTCCTTGGCTGTGATACGTGGC...   \n1       gagGTGAGAGGAGAGTAGACAGTGAGTGGGAGTGGCGTCGCCCCTA...   \n2       gagCACTGGAGTGGAGTTTTCCTGTGGAGAGGAGCCATGCCTAGAG...   \n3       cttGTGAGTGTCCCCAGTGTTGCAGAGGTGAGAGGAGAGTAGACAG...   \n4       tagGCAAGCCTGGCTGCCTCCAGCTGGGTCGACAGACAGGGGCTGG...   \n...                                                   ...   \n527913  aatGTAAGAAGGAGTAAAATTATTTGCTTTCAGGTATTATTGAGGC...   \n527914  cagGTAATGTAAGAAGGAGTAAAATTATTTGCTTTCAGGTATTATT...   \n527915  gggATTATGTTTTCCTTGATGTTAAGTGAATTAGCCAAACATAGAC...   \n527916  cgcCCTTGGTTTTCCTTACACCTTAGCCTTTGGCTCCTTTGACCAC...   \n527917  cctGCTTATCCAAATTCACCATTTCAAGTCGCCACTGGATATCAGT...   \n\n       5_prime_site_maxent_seq  3_prime_site_maxent_seq  \n0                    ccaGTAAGT  AGGCTCCTGTCTCCCCCCAGgtg  \n1                    gagGTGAGA  TAGCCTCTGTTCCCACGAAGgca  \n2                    gagCACTGG  AACCAGGCATAGGGGAAAGAttg  \n3                    cttGTGAGT  GTCATCCCCTTCACTCCCAGctc  \n4                    tagGCAAGC  TAGCCTCTGTTCCCACGAAGgca  \n...                        ...                      ...  \n527913               aatGTAAGA  CCATATTCATTTTTTTCTGCcaa  \n527914               cagGTAATG  CTTTTTTTTTTTTTTTTAAGatg  \n527915               gggATTATG  TGAAAACTTCTGTGTTTCAGaaa  \n527916               cgcCCTTGG  GTCTACTTTCCAAATTACAGtct  \n527917               cctGCTTAT  TTTCTTTTCAGGCATTTCCTgct  \n\n[527918 rows x 3 columns]",
      "text/html": "<div>\n<style scoped>\n    .dataframe tbody tr th:only-of-type {\n        vertical-align: middle;\n    }\n\n    .dataframe tbody tr th {\n        vertical-align: top;\n    }\n\n    .dataframe thead th {\n        text-align: right;\n    }\n</style>\n<table border=\"1\" class=\"dataframe\">\n  <thead>\n    <tr style=\"text-align: right;\">\n      <th></th>\n      <th>sequence_maxentscan</th>\n      <th>5_prime_site_maxent_seq</th>\n      <th>3_prime_site_maxent_seq</th>\n    </tr>\n  </thead>\n  <tbody>\n    <tr>\n      <th>0</th>\n      <td>ccaGTAAGTAGTGCTTGTGCTCATCTCCTTGGCTGTGATACGTGGC...</td>\n      <td>ccaGTAAGT</td>\n      <td>AGGCTCCTGTCTCCCCCCAGgtg</td>\n    </tr>\n    <tr>\n      <th>1</th>\n      <td>gagGTGAGAGGAGAGTAGACAGTGAGTGGGAGTGGCGTCGCCCCTA...</td>\n      <td>gagGTGAGA</td>\n      <td>TAGCCTCTGTTCCCACGAAGgca</td>\n    </tr>\n    <tr>\n      <th>2</th>\n      <td>gagCACTGGAGTGGAGTTTTCCTGTGGAGAGGAGCCATGCCTAGAG...</td>\n      <td>gagCACTGG</td>\n      <td>AACCAGGCATAGGGGAAAGAttg</td>\n    </tr>\n    <tr>\n      <th>3</th>\n      <td>cttGTGAGTGTCCCCAGTGTTGCAGAGGTGAGAGGAGAGTAGACAG...</td>\n      <td>cttGTGAGT</td>\n      <td>GTCATCCCCTTCACTCCCAGctc</td>\n    </tr>\n    <tr>\n      <th>4</th>\n      <td>tagGCAAGCCTGGCTGCCTCCAGCTGGGTCGACAGACAGGGGCTGG...</td>\n      <td>tagGCAAGC</td>\n      <td>TAGCCTCTGTTCCCACGAAGgca</td>\n    </tr>\n    <tr>\n      <th>...</th>\n      <td>...</td>\n      <td>...</td>\n      <td>...</td>\n    </tr>\n    <tr>\n      <th>527913</th>\n      <td>aatGTAAGAAGGAGTAAAATTATTTGCTTTCAGGTATTATTGAGGC...</td>\n      <td>aatGTAAGA</td>\n      <td>CCATATTCATTTTTTTCTGCcaa</td>\n    </tr>\n    <tr>\n      <th>527914</th>\n      <td>cagGTAATGTAAGAAGGAGTAAAATTATTTGCTTTCAGGTATTATT...</td>\n      <td>cagGTAATG</td>\n      <td>CTTTTTTTTTTTTTTTTAAGatg</td>\n    </tr>\n    <tr>\n      <th>527915</th>\n      <td>gggATTATGTTTTCCTTGATGTTAAGTGAATTAGCCAAACATAGAC...</td>\n      <td>gggATTATG</td>\n      <td>TGAAAACTTCTGTGTTTCAGaaa</td>\n    </tr>\n    <tr>\n      <th>527916</th>\n      <td>cgcCCTTGGTTTTCCTTACACCTTAGCCTTTGGCTCCTTTGACCAC...</td>\n      <td>cgcCCTTGG</td>\n      <td>GTCTACTTTCCAAATTACAGtct</td>\n    </tr>\n    <tr>\n      <th>527917</th>\n      <td>cctGCTTATCCAAATTCACCATTTCAAGTCGCCACTGGATATCAGT...</td>\n      <td>cctGCTTAT</td>\n      <td>TTTCTTTTCAGGCATTTCCTgct</td>\n    </tr>\n  </tbody>\n</table>\n<p>527918 rows × 3 columns</p>\n</div>"
     },
     "execution_count": 4,
     "metadata": {},
     "output_type": "execute_result"
    }
   ],
   "source": [
    "df[\"3_prime_site_maxent_seq\"] = df[\"sequence_maxentscan\"].apply(lambda x: x[-23:])\n",
    "df"
   ],
   "metadata": {
    "collapsed": false
   }
  },
  {
   "cell_type": "code",
   "execution_count": 7,
   "outputs": [
    {
     "data": {
      "text/plain": "       5_prime_site_maxent_seq  3_prime_site_maxent_seq\n0                    ccaGTAAGT  AGGCTCCTGTCTCCCCCCAGgtg\n1                    gagGTGAGA  TAGCCTCTGTTCCCACGAAGgca\n2                    gagCACTGG  AACCAGGCATAGGGGAAAGAttg\n3                    cttGTGAGT  GTCATCCCCTTCACTCCCAGctc\n4                    tagGCAAGC  TAGCCTCTGTTCCCACGAAGgca\n...                        ...                      ...\n527913               aatGTAAGA  CCATATTCATTTTTTTCTGCcaa\n527914               cagGTAATG  CTTTTTTTTTTTTTTTTAAGatg\n527915               gggATTATG  TGAAAACTTCTGTGTTTCAGaaa\n527916               cgcCCTTGG  GTCTACTTTCCAAATTACAGtct\n527917               cctGCTTAT  TTTCTTTTCAGGCATTTCCTgct\n\n[527918 rows x 2 columns]",
      "text/html": "<div>\n<style scoped>\n    .dataframe tbody tr th:only-of-type {\n        vertical-align: middle;\n    }\n\n    .dataframe tbody tr th {\n        vertical-align: top;\n    }\n\n    .dataframe thead th {\n        text-align: right;\n    }\n</style>\n<table border=\"1\" class=\"dataframe\">\n  <thead>\n    <tr style=\"text-align: right;\">\n      <th></th>\n      <th>5_prime_site_maxent_seq</th>\n      <th>3_prime_site_maxent_seq</th>\n    </tr>\n  </thead>\n  <tbody>\n    <tr>\n      <th>0</th>\n      <td>ccaGTAAGT</td>\n      <td>AGGCTCCTGTCTCCCCCCAGgtg</td>\n    </tr>\n    <tr>\n      <th>1</th>\n      <td>gagGTGAGA</td>\n      <td>TAGCCTCTGTTCCCACGAAGgca</td>\n    </tr>\n    <tr>\n      <th>2</th>\n      <td>gagCACTGG</td>\n      <td>AACCAGGCATAGGGGAAAGAttg</td>\n    </tr>\n    <tr>\n      <th>3</th>\n      <td>cttGTGAGT</td>\n      <td>GTCATCCCCTTCACTCCCAGctc</td>\n    </tr>\n    <tr>\n      <th>4</th>\n      <td>tagGCAAGC</td>\n      <td>TAGCCTCTGTTCCCACGAAGgca</td>\n    </tr>\n    <tr>\n      <th>...</th>\n      <td>...</td>\n      <td>...</td>\n    </tr>\n    <tr>\n      <th>527913</th>\n      <td>aatGTAAGA</td>\n      <td>CCATATTCATTTTTTTCTGCcaa</td>\n    </tr>\n    <tr>\n      <th>527914</th>\n      <td>cagGTAATG</td>\n      <td>CTTTTTTTTTTTTTTTTAAGatg</td>\n    </tr>\n    <tr>\n      <th>527915</th>\n      <td>gggATTATG</td>\n      <td>TGAAAACTTCTGTGTTTCAGaaa</td>\n    </tr>\n    <tr>\n      <th>527916</th>\n      <td>cgcCCTTGG</td>\n      <td>GTCTACTTTCCAAATTACAGtct</td>\n    </tr>\n    <tr>\n      <th>527917</th>\n      <td>cctGCTTAT</td>\n      <td>TTTCTTTTCAGGCATTTCCTgct</td>\n    </tr>\n  </tbody>\n</table>\n<p>527918 rows × 2 columns</p>\n</div>"
     },
     "execution_count": 7,
     "metadata": {},
     "output_type": "execute_result"
    }
   ],
   "source": [
    "df=df.drop(columns=[\"sequence_maxentscan\"], axis=1)\n",
    "df"
   ],
   "metadata": {
    "collapsed": false
   }
  },
  {
   "cell_type": "code",
   "execution_count": 8,
   "outputs": [
    {
     "name": "stdout",
     "output_type": "stream",
     "text": [
      "INFO: Pandarallel will run on 12 workers.\n",
      "INFO: Pandarallel will use Memory file system to transfer data between the main process and workers.\n"
     ]
    }
   ],
   "source": [
    "pandarallel.initialize(nb_workers=12)"
   ],
   "metadata": {
    "collapsed": false
   }
  },
  {
   "cell_type": "code",
   "execution_count": 14,
   "outputs": [],
   "source": [
    "def maxentscan_5(row):\n",
    "    \"\"\"\n",
    "    We call the tabix command, which look at the bed file to see if the row (which are entries in the intron that we extracted) overlaps with the repeat\n",
    "    regions detailed in the repeat_features.bed.gz, apart from the splice-site ({row.end-2}), we also look at the small-region that proceeds (2 nt in the exon; {row.end+2}) the splice-site.\n",
    "    \"\"\"\n",
    "    # score = !perl MaxEntScan/score5.pl {row.sequence[:9]} | cut -f2\n",
    "    # # score = score[-1:1]\n",
    "    # return score\n",
    "    target_sequence = row\n",
    "    if len(target_sequence) < 9:\n",
    "\t    return 0\n",
    "    result = subprocess.run(f\"perl MaxEntScan/score5.pl {target_sequence}\", shell=True, stdout=subprocess.PIPE, text=True)\n",
    "    try:\n",
    "    \tscore = result.stdout.strip().split(\"\\t\")[1]\n",
    "    except:\n",
    "        print(result)\n",
    "        return result\n",
    "    return score"
   ],
   "metadata": {
    "collapsed": false
   }
  },
  {
   "cell_type": "code",
   "execution_count": 15,
   "outputs": [
    {
     "name": "stdout",
     "output_type": "stream",
     "text": [
      "CompletedProcess(args='perl MaxEntScan/score5.pl gccNNNNNN', returncode=0, stdout='Input string contains invalid characters. Exiting.\\n')\n",
      "CompletedProcess(args='perl MaxEntScan/score5.pl ctgGCCNNN', returncode=0, stdout='Input string contains invalid characters. Exiting.\\n')\n",
      "CompletedProcess(args='perl MaxEntScan/score5.pl ctgGCCNNN', returncode=0, stdout='Input string contains invalid characters. Exiting.\\n')\n",
      "CompletedProcess(args='perl MaxEntScan/score5.pl ctgGCCNNN', returncode=0, stdout='Input string contains invalid characters. Exiting.\\n')\n",
      "CompletedProcess(args='perl MaxEntScan/score5.pl ctgGCCNNN', returncode=0, stdout='Input string contains invalid characters. Exiting.\\n')\n",
      "CompletedProcess(args='perl MaxEntScan/score5.pl cnnNNNNNN', returncode=0, stdout='Input string contains invalid characters. Exiting.\\n')\n",
      "CompletedProcess(args='perl MaxEntScan/score5.pl nnnNNNNNN', returncode=0, stdout='Input string contains invalid characters. Exiting.\\n')\n",
      "CompletedProcess(args='perl MaxEntScan/score5.pl nnnNNNNNN', returncode=0, stdout='Input string contains invalid characters. Exiting.\\n')\n",
      "CompletedProcess(args='perl MaxEntScan/score5.pl ctgGCCNNN', returncode=0, stdout='Input string contains invalid characters. Exiting.\\n')\n",
      "CompletedProcess(args='perl MaxEntScan/score5.pl nnnNNNNNN', returncode=0, stdout='Input string contains invalid characters. Exiting.\\n')\n",
      "CompletedProcess(args='perl MaxEntScan/score5.pl nnnNNNNNN', returncode=0, stdout='Input string contains invalid characters. Exiting.\\n')\n",
      "CompletedProcess(args='perl MaxEntScan/score5.pl nnnNNNNNN', returncode=0, stdout='Input string contains invalid characters. Exiting.\\n')\n",
      "CompletedProcess(args='perl MaxEntScan/score5.pl nnnNNNNNN', returncode=0, stdout='Input string contains invalid characters. Exiting.\\n')\n",
      "CompletedProcess(args='perl MaxEntScan/score5.pl nnnNNNNNN', returncode=0, stdout='Input string contains invalid characters. Exiting.\\n')\n",
      "CompletedProcess(args='perl MaxEntScan/score5.pl nnnNNNNNN', returncode=0, stdout='Input string contains invalid characters. Exiting.\\n')\n",
      "CompletedProcess(args='perl MaxEntScan/score5.pl nnnNNNNNN', returncode=0, stdout='Input string contains invalid characters. Exiting.\\n')\n",
      "CPU times: user 113 ms, sys: 421 ms, total: 534 ms\n",
      "Wall time: 20min 39s\n"
     ]
    }
   ],
   "source": [
    "%%time\n",
    "df[\"5_MaxEntScan\"] = df[\"5_prime_site_maxent_seq\"].parallel_apply(maxentscan_5)"
   ],
   "metadata": {
    "collapsed": false
   }
  },
  {
   "cell_type": "code",
   "execution_count": 39,
   "outputs": [
    {
     "data": {
      "text/plain": "       5_prime_site_maxent_seq  3_prime_site_maxent_seq 5_MaxEntScan\n478902               nnnNNNNNN  GCTCTTCACCTCTGACTCAGagc            0\n478904               nnnNNNNNN  TTTTATATCCCACTCTGGAGctc            0\n478905               nnnNNNNNN  GCTCTTCACCTCTGACTCAGagc            0\n486373               gccNNNNNN  NNNNNNNNNNNGGCCAATAGaaa            0\n486385               ctgGCCNNN  NNNNNNNNNNNNNNNNNNNGgcc            0\n486387               ctgGCCNNN  NNNNNNNNNNNNNNNNNNNNggc            0\n486390               ctgGCCNNN  NNNNNNNNNNNGGCCAATAGaaa            0\n486394               ctgGCCNNN  NNNNNNNNNNNNNNNNNGGCcaa            0\n486396               cnnNNNNNN  NNNNNNNNNNNGGCCAATAGaaa            0\n499248               nnnNNNNNN  TTTTATATCCCACTCTGGAGctc            0\n499249               nnnNNNNNN  TTTTATATCCCACTCTGGAGctc            0\n499659               ctgGCCNNN  NNNNNNNNNNNNNNNNNNGGcca            0\n526180               nnnNNNNNN  GCTCTTCACCTCTGACTCAGagc            0\n526181               nnnNNNNNN  GCTCTTCACCTCTGACTCAGagc            0\n526182               nnnNNNNNN  GCTCTTCACCTCTGACTCAGagc            0\n526721               nnnNNNNNN  NNNNNNNNNNNGGCCAATAGaaa            0",
      "text/html": "<div>\n<style scoped>\n    .dataframe tbody tr th:only-of-type {\n        vertical-align: middle;\n    }\n\n    .dataframe tbody tr th {\n        vertical-align: top;\n    }\n\n    .dataframe thead th {\n        text-align: right;\n    }\n</style>\n<table border=\"1\" class=\"dataframe\">\n  <thead>\n    <tr style=\"text-align: right;\">\n      <th></th>\n      <th>5_prime_site_maxent_seq</th>\n      <th>3_prime_site_maxent_seq</th>\n      <th>5_MaxEntScan</th>\n    </tr>\n  </thead>\n  <tbody>\n    <tr>\n      <th>478902</th>\n      <td>nnnNNNNNN</td>\n      <td>GCTCTTCACCTCTGACTCAGagc</td>\n      <td>0</td>\n    </tr>\n    <tr>\n      <th>478904</th>\n      <td>nnnNNNNNN</td>\n      <td>TTTTATATCCCACTCTGGAGctc</td>\n      <td>0</td>\n    </tr>\n    <tr>\n      <th>478905</th>\n      <td>nnnNNNNNN</td>\n      <td>GCTCTTCACCTCTGACTCAGagc</td>\n      <td>0</td>\n    </tr>\n    <tr>\n      <th>486373</th>\n      <td>gccNNNNNN</td>\n      <td>NNNNNNNNNNNGGCCAATAGaaa</td>\n      <td>0</td>\n    </tr>\n    <tr>\n      <th>486385</th>\n      <td>ctgGCCNNN</td>\n      <td>NNNNNNNNNNNNNNNNNNNGgcc</td>\n      <td>0</td>\n    </tr>\n    <tr>\n      <th>486387</th>\n      <td>ctgGCCNNN</td>\n      <td>NNNNNNNNNNNNNNNNNNNNggc</td>\n      <td>0</td>\n    </tr>\n    <tr>\n      <th>486390</th>\n      <td>ctgGCCNNN</td>\n      <td>NNNNNNNNNNNGGCCAATAGaaa</td>\n      <td>0</td>\n    </tr>\n    <tr>\n      <th>486394</th>\n      <td>ctgGCCNNN</td>\n      <td>NNNNNNNNNNNNNNNNNGGCcaa</td>\n      <td>0</td>\n    </tr>\n    <tr>\n      <th>486396</th>\n      <td>cnnNNNNNN</td>\n      <td>NNNNNNNNNNNGGCCAATAGaaa</td>\n      <td>0</td>\n    </tr>\n    <tr>\n      <th>499248</th>\n      <td>nnnNNNNNN</td>\n      <td>TTTTATATCCCACTCTGGAGctc</td>\n      <td>0</td>\n    </tr>\n    <tr>\n      <th>499249</th>\n      <td>nnnNNNNNN</td>\n      <td>TTTTATATCCCACTCTGGAGctc</td>\n      <td>0</td>\n    </tr>\n    <tr>\n      <th>499659</th>\n      <td>ctgGCCNNN</td>\n      <td>NNNNNNNNNNNNNNNNNNGGcca</td>\n      <td>0</td>\n    </tr>\n    <tr>\n      <th>526180</th>\n      <td>nnnNNNNNN</td>\n      <td>GCTCTTCACCTCTGACTCAGagc</td>\n      <td>0</td>\n    </tr>\n    <tr>\n      <th>526181</th>\n      <td>nnnNNNNNN</td>\n      <td>GCTCTTCACCTCTGACTCAGagc</td>\n      <td>0</td>\n    </tr>\n    <tr>\n      <th>526182</th>\n      <td>nnnNNNNNN</td>\n      <td>GCTCTTCACCTCTGACTCAGagc</td>\n      <td>0</td>\n    </tr>\n    <tr>\n      <th>526721</th>\n      <td>nnnNNNNNN</td>\n      <td>NNNNNNNNNNNGGCCAATAGaaa</td>\n      <td>0</td>\n    </tr>\n  </tbody>\n</table>\n</div>"
     },
     "execution_count": 39,
     "metadata": {},
     "output_type": "execute_result"
    }
   ],
   "source": [
    "df.loc[df[\"5_prime_site_maxent_seq\"].str.contains(\"N\"), \"5_MaxEntScan\"] = 0\n",
    "df[df[\"5_prime_site_maxent_seq\"].str.contains(\"N\")]"
   ],
   "metadata": {
    "collapsed": false
   }
  },
  {
   "cell_type": "markdown",
   "source": [
    "# 3-prime end"
   ],
   "metadata": {
    "collapsed": false
   }
  },
  {
   "cell_type": "code",
   "execution_count": 45,
   "outputs": [],
   "source": [
    "def maxentscan_3(row):\n",
    "    \"\"\"\n",
    "    We call the tabix command, which look at the bed file to see if the row (which are entries in the intron that we extracted) overlaps with the repeat\n",
    "    regions detailed in the repeat_features.bed.gz, apart from the splice-site ({row.end-2}), we also look at the small-region that proceeds (2 nt in the exon; {row.end+2}) the splice-site.\n",
    "    \"\"\"\n",
    "    target_sequence = row\n",
    "    if len(target_sequence) < 23:\n",
    "\t    return 0\n",
    "    result = subprocess.run(f\"perl MaxEntScan/score3.pl {target_sequence}\", shell=True, stdout=subprocess.PIPE, text=True)\n",
    "    try:\n",
    "    \tscore = result.stdout.strip().split(\"\\t\")[1]\n",
    "    except:\n",
    "        return 0\n",
    "    return score"
   ],
   "metadata": {
    "collapsed": false
   }
  },
  {
   "cell_type": "code",
   "execution_count": 44,
   "outputs": [
    {
     "data": {
      "text/plain": "       5_prime_site_maxent_seq 3_prime_site_maxent_seq 5_MaxEntScan\n31                   gaaCTGAct              gaaCTGActa        -7.85\n9968                   cggGccc                 cggGccc            0\n10255                gctAAGCTA       gctAAGCTAATGCTaat       -30.86\n10257                cggCAGTGA       cggCAGTGATGGCAtgt       -13.67\n11250                cacCTGAGg             cacCTGAGgtc        -2.49\n...                        ...                     ...          ...\n392156               gggCCTGAC       gggCCTGACTCCCTcac       -26.47\n395121                tcgCCcaa                tcgCCcaa            0\n396609                cgaCTtcc                cgaCTtcc            0\n397719                ctaATttt                ctaATttt            0\n402253               gaaCTGAct              gaaCTGActa        -7.85\n\n[69 rows x 3 columns]",
      "text/html": "<div>\n<style scoped>\n    .dataframe tbody tr th:only-of-type {\n        vertical-align: middle;\n    }\n\n    .dataframe tbody tr th {\n        vertical-align: top;\n    }\n\n    .dataframe thead th {\n        text-align: right;\n    }\n</style>\n<table border=\"1\" class=\"dataframe\">\n  <thead>\n    <tr style=\"text-align: right;\">\n      <th></th>\n      <th>5_prime_site_maxent_seq</th>\n      <th>3_prime_site_maxent_seq</th>\n      <th>5_MaxEntScan</th>\n    </tr>\n  </thead>\n  <tbody>\n    <tr>\n      <th>31</th>\n      <td>gaaCTGAct</td>\n      <td>gaaCTGActa</td>\n      <td>-7.85</td>\n    </tr>\n    <tr>\n      <th>9968</th>\n      <td>cggGccc</td>\n      <td>cggGccc</td>\n      <td>0</td>\n    </tr>\n    <tr>\n      <th>10255</th>\n      <td>gctAAGCTA</td>\n      <td>gctAAGCTAATGCTaat</td>\n      <td>-30.86</td>\n    </tr>\n    <tr>\n      <th>10257</th>\n      <td>cggCAGTGA</td>\n      <td>cggCAGTGATGGCAtgt</td>\n      <td>-13.67</td>\n    </tr>\n    <tr>\n      <th>11250</th>\n      <td>cacCTGAGg</td>\n      <td>cacCTGAGgtc</td>\n      <td>-2.49</td>\n    </tr>\n    <tr>\n      <th>...</th>\n      <td>...</td>\n      <td>...</td>\n      <td>...</td>\n    </tr>\n    <tr>\n      <th>392156</th>\n      <td>gggCCTGAC</td>\n      <td>gggCCTGACTCCCTcac</td>\n      <td>-26.47</td>\n    </tr>\n    <tr>\n      <th>395121</th>\n      <td>tcgCCcaa</td>\n      <td>tcgCCcaa</td>\n      <td>0</td>\n    </tr>\n    <tr>\n      <th>396609</th>\n      <td>cgaCTtcc</td>\n      <td>cgaCTtcc</td>\n      <td>0</td>\n    </tr>\n    <tr>\n      <th>397719</th>\n      <td>ctaATttt</td>\n      <td>ctaATttt</td>\n      <td>0</td>\n    </tr>\n    <tr>\n      <th>402253</th>\n      <td>gaaCTGAct</td>\n      <td>gaaCTGActa</td>\n      <td>-7.85</td>\n    </tr>\n  </tbody>\n</table>\n<p>69 rows × 3 columns</p>\n</div>"
     },
     "execution_count": 44,
     "metadata": {},
     "output_type": "execute_result"
    }
   ],
   "source": [
    "df[df[\"3_prime_site_maxent_seq\"].str.len() < 23]"
   ],
   "metadata": {
    "collapsed": false
   }
  },
  {
   "cell_type": "code",
   "execution_count": 46,
   "outputs": [
    {
     "name": "stdout",
     "output_type": "stream",
     "text": [
      "CPU times: user 146 ms, sys: 463 ms, total: 609 ms\n",
      "Wall time: 29min 15s\n"
     ]
    }
   ],
   "source": [
    "%%time\n",
    "df[\"3_MaxEntScan\"] = df[\"3_prime_site_maxent_seq\"].parallel_apply(maxentscan_3)"
   ],
   "metadata": {
    "collapsed": false
   }
  },
  {
   "cell_type": "code",
   "execution_count": 48,
   "outputs": [
    {
     "data": {
      "text/plain": "       5_prime_site_maxent_seq  3_prime_site_maxent_seq 5_MaxEntScan  \\\n0                    ccaGTAAGT  AGGCTCCTGTCTCCCCCCAGgtg         9.09   \n1                    gagGTGAGA  TAGCCTCTGTTCCCACGAAGgca         7.66   \n2                    gagCACTGG  AACCAGGCATAGGGGAAAGAttg       -13.87   \n3                    cttGTGAGT  GTCATCCCCTTCACTCCCAGctc         7.15   \n4                    tagGCAAGC  TAGCCTCTGTTCCCACGAAGgca         1.14   \n...                        ...                      ...          ...   \n527913               aatGTAAGA  CCATATTCATTTTTTTCTGCcaa         5.55   \n527914               cagGTAATG  CTTTTTTTTTTTTTTTTAAGatg         9.43   \n527915               gggATTATG  TGAAAACTTCTGTGTTTCAGaaa       -14.46   \n527916               cgcCCTTGG  GTCTACTTTCCAAATTACAGtct       -27.63   \n527917               cctGCTTAT  TTTCTTTTCAGGCATTTCCTgct       -25.04   \n\n       3_MaxEntScan  \n0             11.90  \n1              3.89  \n2            -31.99  \n3              7.61  \n4              3.89  \n...             ...  \n527913        -9.69  \n527914        10.01  \n527915         7.85  \n527916         4.64  \n527917       -15.60  \n\n[527918 rows x 4 columns]",
      "text/html": "<div>\n<style scoped>\n    .dataframe tbody tr th:only-of-type {\n        vertical-align: middle;\n    }\n\n    .dataframe tbody tr th {\n        vertical-align: top;\n    }\n\n    .dataframe thead th {\n        text-align: right;\n    }\n</style>\n<table border=\"1\" class=\"dataframe\">\n  <thead>\n    <tr style=\"text-align: right;\">\n      <th></th>\n      <th>5_prime_site_maxent_seq</th>\n      <th>3_prime_site_maxent_seq</th>\n      <th>5_MaxEntScan</th>\n      <th>3_MaxEntScan</th>\n    </tr>\n  </thead>\n  <tbody>\n    <tr>\n      <th>0</th>\n      <td>ccaGTAAGT</td>\n      <td>AGGCTCCTGTCTCCCCCCAGgtg</td>\n      <td>9.09</td>\n      <td>11.90</td>\n    </tr>\n    <tr>\n      <th>1</th>\n      <td>gagGTGAGA</td>\n      <td>TAGCCTCTGTTCCCACGAAGgca</td>\n      <td>7.66</td>\n      <td>3.89</td>\n    </tr>\n    <tr>\n      <th>2</th>\n      <td>gagCACTGG</td>\n      <td>AACCAGGCATAGGGGAAAGAttg</td>\n      <td>-13.87</td>\n      <td>-31.99</td>\n    </tr>\n    <tr>\n      <th>3</th>\n      <td>cttGTGAGT</td>\n      <td>GTCATCCCCTTCACTCCCAGctc</td>\n      <td>7.15</td>\n      <td>7.61</td>\n    </tr>\n    <tr>\n      <th>4</th>\n      <td>tagGCAAGC</td>\n      <td>TAGCCTCTGTTCCCACGAAGgca</td>\n      <td>1.14</td>\n      <td>3.89</td>\n    </tr>\n    <tr>\n      <th>...</th>\n      <td>...</td>\n      <td>...</td>\n      <td>...</td>\n      <td>...</td>\n    </tr>\n    <tr>\n      <th>527913</th>\n      <td>aatGTAAGA</td>\n      <td>CCATATTCATTTTTTTCTGCcaa</td>\n      <td>5.55</td>\n      <td>-9.69</td>\n    </tr>\n    <tr>\n      <th>527914</th>\n      <td>cagGTAATG</td>\n      <td>CTTTTTTTTTTTTTTTTAAGatg</td>\n      <td>9.43</td>\n      <td>10.01</td>\n    </tr>\n    <tr>\n      <th>527915</th>\n      <td>gggATTATG</td>\n      <td>TGAAAACTTCTGTGTTTCAGaaa</td>\n      <td>-14.46</td>\n      <td>7.85</td>\n    </tr>\n    <tr>\n      <th>527916</th>\n      <td>cgcCCTTGG</td>\n      <td>GTCTACTTTCCAAATTACAGtct</td>\n      <td>-27.63</td>\n      <td>4.64</td>\n    </tr>\n    <tr>\n      <th>527917</th>\n      <td>cctGCTTAT</td>\n      <td>TTTCTTTTCAGGCATTTCCTgct</td>\n      <td>-25.04</td>\n      <td>-15.60</td>\n    </tr>\n  </tbody>\n</table>\n<p>527918 rows × 4 columns</p>\n</div>"
     },
     "execution_count": 48,
     "metadata": {},
     "output_type": "execute_result"
    }
   ],
   "source": [
    "df"
   ],
   "metadata": {
    "collapsed": false
   }
  },
  {
   "cell_type": "code",
   "execution_count": 49,
   "outputs": [],
   "source": [
    "df.to_csv(\"data/4.3_maxentscan\", sep=\"\\t\", index=False)"
   ],
   "metadata": {
    "collapsed": false
   }
  },
  {
   "cell_type": "code",
   "execution_count": null,
   "outputs": [],
   "source": [],
   "metadata": {
    "collapsed": false
   }
  }
 ],
 "metadata": {
  "kernelspec": {
   "display_name": "Python 3",
   "language": "python",
   "name": "python3"
  },
  "language_info": {
   "codemirror_mode": {
    "name": "ipython",
    "version": 2
   },
   "file_extension": ".py",
   "mimetype": "text/x-python",
   "name": "python",
   "nbconvert_exporter": "python",
   "pygments_lexer": "ipython2",
   "version": "2.7.6"
  }
 },
 "nbformat": 4,
 "nbformat_minor": 0
}
