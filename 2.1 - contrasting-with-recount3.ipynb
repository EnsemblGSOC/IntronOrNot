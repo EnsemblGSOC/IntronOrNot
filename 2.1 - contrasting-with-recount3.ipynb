{
 "cells": [
  {
   "cell_type": "code",
   "execution_count": 1,
   "metadata": {
    "collapsed": true,
    "ExecuteTime": {
     "end_time": "2023-06-29T02:54:45.152243Z",
     "start_time": "2023-06-29T02:54:44.499938Z"
    }
   },
   "outputs": [],
   "source": [
    "import pandas as pd\n",
    "from tqdm import tqdm\n",
    "from pandarallel import pandarallel\n",
    "# import pyranges as pr"
   ]
  },
  {
   "cell_type": "markdown",
   "source": [
    "# We try to match them"
   ],
   "metadata": {
    "collapsed": false
   }
  },
  {
   "cell_type": "code",
   "execution_count": null,
   "outputs": [],
   "source": [
    "df_gencode_introns = pd.read_csv(\"gencode_v44_introns_modded\")\n",
    "df_gencode_introns"
   ],
   "metadata": {
    "collapsed": false
   }
  },
  {
   "cell_type": "code",
   "execution_count": null,
   "outputs": [],
   "source": [
    "df_recount3_test = df_recount3.copy()\n",
    "df_recount3_test"
   ],
   "metadata": {
    "collapsed": false
   }
  },
  {
   "cell_type": "code",
   "execution_count": null,
   "outputs": [],
   "source": [
    "df_recount3_test.set_index([\"Strand\", \"Start\", \"End\"], inplace=True)"
   ],
   "metadata": {
    "collapsed": false
   }
  },
  {
   "cell_type": "code",
   "execution_count": null,
   "outputs": [],
   "source": [
    "df_recount3_test.sort_index(inplace=True)\n",
    "df_recount3_test"
   ],
   "metadata": {
    "collapsed": false
   }
  },
  {
   "cell_type": "code",
   "execution_count": null,
   "outputs": [],
   "source": [
    "def match_recount(row):\n",
    "    # print(row)\n",
    "    # print(row.chrom)\n",
    "    # try:\n",
    "        # score = df_recount3_test.loc[(row.strand, row.intron_start, row.intron_ends), [\"Features\", \"Score\"]].values\n",
    "    # !echo 'tabix ftp-data/recount3.bed.gz {row.chrom}:{row.intron_start}-{row.intron_ends}'\n",
    "    matched_rows = !tabix ftp-data/recount3.bed.gz {row.chrom}:{row.intron_start}-{row.intron_ends} | \\\n",
    "        awk -v start={row.intron_start} -v stop={row.intron_ends} '$2 == start && $3 == stop'\n",
    "    # score = !tabix ftp-data/recount3.bed.gz chr1:12227-12612 | awk -v start=12227 -v stop=12612 '$2 == start && $3 == stop'\n",
    "\n",
    "        #\"Chrom\", \"Score\", \"GTExv2\", \"TCGAv2\", \"SRAv3h\", \"Splice_site\"\n",
    "    # except:\n",
    "    #     score = [None, -1]\n",
    "    #     score = \"Unmatched\"\n",
    "    # print(df_matched)\n",
    "    # print(matched_rows)\n",
    "    # print(type(score))\n",
    "    return matched_rows"
   ],
   "metadata": {
    "collapsed": false
   }
  },
  {
   "cell_type": "code",
   "execution_count": null,
   "outputs": [],
   "source": [
    "pandarallel.initialize(progress_bar=True)"
   ],
   "metadata": {
    "collapsed": false
   }
  },
  {
   "cell_type": "code",
   "execution_count": null,
   "outputs": [],
   "source": [
    "df_gencode_introns[\"RC3_matches\"] = df_gencode_introns.parallel_apply(match_recount, axis=1)\n",
    "df_gencode_introns"
   ],
   "metadata": {
    "collapsed": false
   }
  },
  {
   "cell_type": "code",
   "execution_count": null,
   "outputs": [],
   "source": [
    "df_gencode_introns.to_csv(\"gencode_v44_introns_with_recount3_score.csv\", index=False)"
   ],
   "metadata": {
    "collapsed": false
   }
  },
  {
   "cell_type": "code",
   "execution_count": null,
   "outputs": [],
   "source": [
    "!tabix ftp-data/recount3.bed.gz chr1:12227-12612 | awk -v start=12227 -v stop=12612 '$2 == start && $3 == stop'"
   ],
   "metadata": {
    "collapsed": false
   }
  },
  {
   "cell_type": "code",
   "execution_count": null,
   "outputs": [],
   "source": [
    "df_test = df_gencode_introns.copy().head(500)\n",
    "df_test[\"RC3\"] = df_test.apply(match_recount, axis=1)\n",
    "df_test"
   ],
   "metadata": {
    "collapsed": false
   }
  },
  {
   "cell_type": "code",
   "execution_count": null,
   "outputs": [],
   "source": [
    "!tabix ftp-data/recount3.bed.gz chr1:12697-12974 | head -n 1"
   ],
   "metadata": {
    "collapsed": false
   }
  },
  {
   "cell_type": "code",
   "execution_count": null,
   "outputs": [],
   "source": [
    "!tabix ftp-data/recount3.bed.gz chr1:12057-12178"
   ],
   "metadata": {
    "collapsed": false
   }
  },
  {
   "cell_type": "code",
   "execution_count": null,
   "outputs": [],
   "source": [
    "df_recount3 = pd.read_csv(\"ftp-data/recount3.bed\", sep=\"\\t\",\n",
    "                          names=[\"Chrom\", \"Start\", \"End\", \"Features\", \"Score\", \"Strand\"])\n",
    "df_gencode_introns = pd.read_csv(\"gencode_v44_introns.csv\")\n",
    "df_recount3\n",
    "df_featuers_split = df_recount3[\"Features\"].str.split(\";\")\n",
    "df_featuers_split\n",
    "df_recount3[\"GTExv2\"] = df_featuers_split.str[0].str.split(\"=\").str[1]\n",
    "df_recount3[\"TCGAv2\"] = df_featuers_split.str[1].str.split(\"=\").str[1]\n",
    "df_recount3[\"SRAv3h\"] = df_featuers_split.str[2].str.split(\"=\").str[1]\n",
    "df_recount3[\"Splice_site\"] = df_featuers_split.str[3]\n",
    "df_recount3\n",
    "\n",
    "\n",
    "def split_features(row):\n",
    "    # Split the \"Features\" column by semicolon\n",
    "    # print(\"OK\")\n",
    "    # print(row)\n",
    "    features_split = row.split(\";\")\n",
    "    # print(features_split)\n",
    "    # Extract the desired values from the split columns and assign them to new columns\n",
    "    GTExv2 = features_split[0].split(\"=\")[1]\n",
    "    TCGAv2 = features_split[1].split(\"=\")[1]\n",
    "    SRAv3h = features_split[2].split(\"=\")[1]\n",
    "    Splice_site = features_split[3]\n",
    "    return pd.Series([GTExv2, TCGAv2, SRAv3h, Splice_site])"
   ],
   "metadata": {
    "collapsed": false
   }
  },
  {
   "cell_type": "code",
   "execution_count": null,
   "outputs": [],
   "source": [
    "df_recount3 = pd.read_csv(\"ftp-data/recount3.bed\", sep=\"\\t\",\n",
    "                          names=[\"Chrom\", \"Start\", \"End\", \"Features\", \"Score\", \"Strand\"])"
   ],
   "metadata": {
    "collapsed": false
   }
  },
  {
   "cell_type": "code",
   "execution_count": null,
   "outputs": [],
   "source": [
    "df_recount3.set_index([\"Strand\", \"Start\", \"End\"], inplace=True)"
   ],
   "metadata": {
    "collapsed": false
   }
  },
  {
   "cell_type": "code",
   "execution_count": null,
   "outputs": [],
   "source": [
    "df_recount3.sort_index(inplace=True)"
   ],
   "metadata": {
    "collapsed": false
   }
  },
  {
   "cell_type": "code",
   "execution_count": null,
   "outputs": [],
   "source": [
    "df_recount3"
   ],
   "metadata": {
    "collapsed": false
   }
  },
  {
   "cell_type": "code",
   "execution_count": null,
   "outputs": [],
   "source": [
    "chrom_uniques = list(df_recount3.Chrom.unique())\n",
    "df_chrom = {}"
   ],
   "metadata": {
    "collapsed": false
   }
  },
  {
   "cell_type": "code",
   "execution_count": null,
   "outputs": [],
   "source": [
    "# Splitting the dataframe rows separately\n",
    "for chrom in tqdm(chrom_uniques):\n",
    "    df_chrom[chrom] = df_recount3[df_recount3.Chrom == chrom]\n",
    "\n",
    "df_chrom"
   ],
   "metadata": {
    "collapsed": false
   }
  },
  {
   "cell_type": "code",
   "execution_count": null,
   "outputs": [],
   "source": [
    "df_chrom[\"chr1\"]"
   ],
   "metadata": {
    "collapsed": false
   }
  },
  {
   "cell_type": "code",
   "execution_count": null,
   "outputs": [],
   "source": [
    "# df_chr1 = df_chrom[\"chr1\"]\n",
    "def match_recount(row):\n",
    "    # print(row)\n",
    "    # print(row.chrom)\n",
    "    try:\n",
    "        score = df_chrom[row.chrom].loc[(row.strand, row.intron_start, row.intron_ends), [\"Features\", \"Score\"]].values\n",
    "    # !echo 'tabix ftp-data/recount3.bed.gz {row.chrom}:{row.intron_start}-{row.intron_ends}'\n",
    "\n",
    "    # score = !tabix ftp-data/recount3.bed.gz chr1:12227-12612 | awk -v start=12227 -v stop=12612 '$2 == start && $3 == stop'\n",
    "\n",
    "        #\"Chrom\", \"Score\", \"GTExv2\", \"TCGAv2\", \"SRAv3h\", \"Splice_site\"\n",
    "    except:\n",
    "        score = [None, -1]\n",
    "    #     score = \"Unmatched\"\n",
    "    # print(df_matched)\n",
    "    # print(matched_rows)\n",
    "    # print(type(score))\n",
    "    # print(score)\n",
    "    return score"
   ],
   "metadata": {
    "collapsed": false
   }
  },
  {
   "cell_type": "code",
   "execution_count": null,
   "outputs": [],
   "source": [
    "pandarallel.initialize(progress_bar=True)"
   ],
   "metadata": {
    "collapsed": false
   }
  },
  {
   "cell_type": "code",
   "execution_count": null,
   "outputs": [],
   "source": [
    "df_test = df_gencode_introns.copy().head(50)\n",
    "df_test[\"RC3\"] = df_test.apply(match_recount, args=(), axis=1)\n",
    "df_test"
   ],
   "metadata": {
    "collapsed": false
   }
  },
  {
   "cell_type": "code",
   "execution_count": null,
   "outputs": [],
   "source": [
    "df_gencode_introns = pd.read_csv(\"gencode_v44_introns.csv\")\n"
   ],
   "metadata": {
    "collapsed": false
   }
  },
  {
   "cell_type": "code",
   "execution_count": null,
   "outputs": [],
   "source": [
    "df_chr1_gencode = df_gencode_introns[df_gencode_introns.chrom == \"chr1\"]\n",
    "df_chr1_gencode"
   ],
   "metadata": {
    "collapsed": false
   }
  },
  {
   "cell_type": "code",
   "execution_count": null,
   "outputs": [],
   "source": [
    "df_test = df_chr1_gencode.copy().head(50)\n",
    "\n",
    "df_test.apply(match_recount, axis=1)"
   ],
   "metadata": {
    "collapsed": false
   }
  },
  {
   "cell_type": "code",
   "execution_count": null,
   "outputs": [],
   "source": [
    "df_chr1.progress_apply(match_recount, axis=1)"
   ],
   "metadata": {
    "collapsed": false
   }
  },
  {
   "cell_type": "code",
   "execution_count": null,
   "outputs": [],
   "source": [],
   "metadata": {
    "collapsed": false
   }
  }
 ],
 "metadata": {
  "kernelspec": {
   "display_name": "Python 3",
   "language": "python",
   "name": "python3"
  },
  "language_info": {
   "codemirror_mode": {
    "name": "ipython",
    "version": 2
   },
   "file_extension": ".py",
   "mimetype": "text/x-python",
   "name": "python",
   "nbconvert_exporter": "python",
   "pygments_lexer": "ipython2",
   "version": "2.7.6"
  }
 },
 "nbformat": 4,
 "nbformat_minor": 0
}
