{
 "cells": [
  {
   "cell_type": "code",
   "execution_count": 1,
   "metadata": {
    "collapsed": true
   },
   "outputs": [],
   "source": [
    "import pandas as pd\n",
    "from pyfaidx import Fasta\n",
    "from Bio.Seq import Seq\n",
    "from pandarallel import pandarallel"
   ]
  },
  {
   "cell_type": "code",
   "execution_count": 2,
   "outputs": [
    {
     "data": {
      "text/plain": "         chr     start       end strand  class  ss_antisense_start_site  \\\n0       chr1     12227     12612      +      1                    False   \n1       chr1     12721     13220      +      1                    False   \n2       chr1     12057     12178      +      1                    False   \n3       chr1     12697     12974      +      1                    False   \n4       chr1     13052     13220      +      1                    False   \n...      ...       ...       ...    ...    ...                      ...   \n527913  chrY  24883840  24886132      +      0                    False   \n527914  chrY  24888605  24889352      +      0                    False   \n527915  chrY  24889386  24901111      +      0                    False   \n527916  chrY  24833970  24840730      +      0                    False   \n527917  chrY  24871607  24895696      +      0                    False   \n\n        ss_antisense_end_site     GTExv2    TCGAv2       SRAv3h  ...  \\\n0                       False  1122:3199  583:1460   9374:54492  ...   \n1                       False  1791:3198  783:1104  14048:56719  ...   \n2                       False        NaN       NaN          NaN  ...   \n3                       False        1:1       1:1        15:19  ...   \n4                       False      22:24     17:18      433:484  ...   \n...                       ...        ...       ...          ...  ...   \n527913                  False        NaN       NaN          NaN  ...   \n527914                  False        NaN       NaN          NaN  ...   \n527915                  False        NaN       NaN          NaN  ...   \n527916                  False        NaN       NaN          NaN  ...   \n527917                  False        NaN       NaN          NaN  ...   \n\n       repeat_features_end_site:Type I Transposons/LINE  \\\n0                                                     0   \n1                                                     0   \n2                                                     0   \n3                                                     0   \n4                                                     0   \n...                                                 ...   \n527913                                                0   \n527914                                                0   \n527915                                                0   \n527916                                                0   \n527917                                                0   \n\n        repeat_features_end_site:LTRs  repeat_features_end_site:Dust  \\\n0                                   0                              0   \n1                                   0                              0   \n2                                   0                              0   \n3                                   0                              0   \n4                                   0                              0   \n...                               ...                            ...   \n527913                              0                              0   \n527914                              0                              0   \n527915                              0                              0   \n527916                              0                              0   \n527917                              0                              0   \n\n        repeat_features_end_site:Unknown  \\\n0                                      0   \n1                                      0   \n2                                      0   \n3                                      0   \n4                                      0   \n...                                  ...   \n527913                                 0   \n527914                                 0   \n527915                                 0   \n527916                                 0   \n527917                                 0   \n\n        repeat_features_end_site:RNA repeats  \\\n0                                          0   \n1                                          0   \n2                                          0   \n3                                          0   \n4                                          0   \n...                                      ...   \n527913                                     0   \n527914                                     0   \n527915                                     0   \n527916                                     0   \n527917                                     0   \n\n        repeat_features_end_site:Satellite repeats  \\\n0                                                0   \n1                                                0   \n2                                                0   \n3                                                0   \n4                                                0   \n...                                            ...   \n527913                                           0   \n527914                                           0   \n527915                                           0   \n527916                                           0   \n527917                                           0   \n\n        repeat_features_end_site:Tandem repeats  \\\n0                                             0   \n1                                             0   \n2                                             0   \n3                                             0   \n4                                             0   \n...                                         ...   \n527913                                        0   \n527914                                        0   \n527915                                        0   \n527916                                        0   \n527917                                        0   \n\n        repeat_features_end_site:Low complexity regions  \\\n0                                                     0   \n1                                                     0   \n2                                                     0   \n3                                                     0   \n4                                                     0   \n...                                                 ...   \n527913                                                0   \n527914                                                0   \n527915                                                0   \n527916                                                0   \n527917                                                0   \n\n        RC3 - Acceptor splice site  RC3 - Donor splice site  \n0                               GT                       AG  \n1                               GT                       AG  \n2                              NaN                      NaN  \n3                               GT                       AG  \n4                               GC                       AG  \n...                            ...                      ...  \n527913                         NaN                      NaN  \n527914                         NaN                      NaN  \n527915                         NaN                      NaN  \n527916                         NaN                      NaN  \n527917                         NaN                      NaN  \n\n[527918 rows x 38 columns]",
      "text/html": "<div>\n<style scoped>\n    .dataframe tbody tr th:only-of-type {\n        vertical-align: middle;\n    }\n\n    .dataframe tbody tr th {\n        vertical-align: top;\n    }\n\n    .dataframe thead th {\n        text-align: right;\n    }\n</style>\n<table border=\"1\" class=\"dataframe\">\n  <thead>\n    <tr style=\"text-align: right;\">\n      <th></th>\n      <th>chr</th>\n      <th>start</th>\n      <th>end</th>\n      <th>strand</th>\n      <th>class</th>\n      <th>ss_antisense_start_site</th>\n      <th>ss_antisense_end_site</th>\n      <th>GTExv2</th>\n      <th>TCGAv2</th>\n      <th>SRAv3h</th>\n      <th>...</th>\n      <th>repeat_features_end_site:Type I Transposons/LINE</th>\n      <th>repeat_features_end_site:LTRs</th>\n      <th>repeat_features_end_site:Dust</th>\n      <th>repeat_features_end_site:Unknown</th>\n      <th>repeat_features_end_site:RNA repeats</th>\n      <th>repeat_features_end_site:Satellite repeats</th>\n      <th>repeat_features_end_site:Tandem repeats</th>\n      <th>repeat_features_end_site:Low complexity regions</th>\n      <th>RC3 - Acceptor splice site</th>\n      <th>RC3 - Donor splice site</th>\n    </tr>\n  </thead>\n  <tbody>\n    <tr>\n      <th>0</th>\n      <td>chr1</td>\n      <td>12227</td>\n      <td>12612</td>\n      <td>+</td>\n      <td>1</td>\n      <td>False</td>\n      <td>False</td>\n      <td>1122:3199</td>\n      <td>583:1460</td>\n      <td>9374:54492</td>\n      <td>...</td>\n      <td>0</td>\n      <td>0</td>\n      <td>0</td>\n      <td>0</td>\n      <td>0</td>\n      <td>0</td>\n      <td>0</td>\n      <td>0</td>\n      <td>GT</td>\n      <td>AG</td>\n    </tr>\n    <tr>\n      <th>1</th>\n      <td>chr1</td>\n      <td>12721</td>\n      <td>13220</td>\n      <td>+</td>\n      <td>1</td>\n      <td>False</td>\n      <td>False</td>\n      <td>1791:3198</td>\n      <td>783:1104</td>\n      <td>14048:56719</td>\n      <td>...</td>\n      <td>0</td>\n      <td>0</td>\n      <td>0</td>\n      <td>0</td>\n      <td>0</td>\n      <td>0</td>\n      <td>0</td>\n      <td>0</td>\n      <td>GT</td>\n      <td>AG</td>\n    </tr>\n    <tr>\n      <th>2</th>\n      <td>chr1</td>\n      <td>12057</td>\n      <td>12178</td>\n      <td>+</td>\n      <td>1</td>\n      <td>False</td>\n      <td>False</td>\n      <td>NaN</td>\n      <td>NaN</td>\n      <td>NaN</td>\n      <td>...</td>\n      <td>0</td>\n      <td>0</td>\n      <td>0</td>\n      <td>0</td>\n      <td>0</td>\n      <td>0</td>\n      <td>0</td>\n      <td>0</td>\n      <td>NaN</td>\n      <td>NaN</td>\n    </tr>\n    <tr>\n      <th>3</th>\n      <td>chr1</td>\n      <td>12697</td>\n      <td>12974</td>\n      <td>+</td>\n      <td>1</td>\n      <td>False</td>\n      <td>False</td>\n      <td>1:1</td>\n      <td>1:1</td>\n      <td>15:19</td>\n      <td>...</td>\n      <td>0</td>\n      <td>0</td>\n      <td>0</td>\n      <td>0</td>\n      <td>0</td>\n      <td>0</td>\n      <td>0</td>\n      <td>0</td>\n      <td>GT</td>\n      <td>AG</td>\n    </tr>\n    <tr>\n      <th>4</th>\n      <td>chr1</td>\n      <td>13052</td>\n      <td>13220</td>\n      <td>+</td>\n      <td>1</td>\n      <td>False</td>\n      <td>False</td>\n      <td>22:24</td>\n      <td>17:18</td>\n      <td>433:484</td>\n      <td>...</td>\n      <td>0</td>\n      <td>0</td>\n      <td>0</td>\n      <td>0</td>\n      <td>0</td>\n      <td>0</td>\n      <td>0</td>\n      <td>0</td>\n      <td>GC</td>\n      <td>AG</td>\n    </tr>\n    <tr>\n      <th>...</th>\n      <td>...</td>\n      <td>...</td>\n      <td>...</td>\n      <td>...</td>\n      <td>...</td>\n      <td>...</td>\n      <td>...</td>\n      <td>...</td>\n      <td>...</td>\n      <td>...</td>\n      <td>...</td>\n      <td>...</td>\n      <td>...</td>\n      <td>...</td>\n      <td>...</td>\n      <td>...</td>\n      <td>...</td>\n      <td>...</td>\n      <td>...</td>\n      <td>...</td>\n      <td>...</td>\n    </tr>\n    <tr>\n      <th>527913</th>\n      <td>chrY</td>\n      <td>24883840</td>\n      <td>24886132</td>\n      <td>+</td>\n      <td>0</td>\n      <td>False</td>\n      <td>False</td>\n      <td>NaN</td>\n      <td>NaN</td>\n      <td>NaN</td>\n      <td>...</td>\n      <td>0</td>\n      <td>0</td>\n      <td>0</td>\n      <td>0</td>\n      <td>0</td>\n      <td>0</td>\n      <td>0</td>\n      <td>0</td>\n      <td>NaN</td>\n      <td>NaN</td>\n    </tr>\n    <tr>\n      <th>527914</th>\n      <td>chrY</td>\n      <td>24888605</td>\n      <td>24889352</td>\n      <td>+</td>\n      <td>0</td>\n      <td>False</td>\n      <td>False</td>\n      <td>NaN</td>\n      <td>NaN</td>\n      <td>NaN</td>\n      <td>...</td>\n      <td>0</td>\n      <td>0</td>\n      <td>0</td>\n      <td>0</td>\n      <td>0</td>\n      <td>0</td>\n      <td>0</td>\n      <td>0</td>\n      <td>NaN</td>\n      <td>NaN</td>\n    </tr>\n    <tr>\n      <th>527915</th>\n      <td>chrY</td>\n      <td>24889386</td>\n      <td>24901111</td>\n      <td>+</td>\n      <td>0</td>\n      <td>False</td>\n      <td>False</td>\n      <td>NaN</td>\n      <td>NaN</td>\n      <td>NaN</td>\n      <td>...</td>\n      <td>0</td>\n      <td>0</td>\n      <td>0</td>\n      <td>0</td>\n      <td>0</td>\n      <td>0</td>\n      <td>0</td>\n      <td>0</td>\n      <td>NaN</td>\n      <td>NaN</td>\n    </tr>\n    <tr>\n      <th>527916</th>\n      <td>chrY</td>\n      <td>24833970</td>\n      <td>24840730</td>\n      <td>+</td>\n      <td>0</td>\n      <td>False</td>\n      <td>False</td>\n      <td>NaN</td>\n      <td>NaN</td>\n      <td>NaN</td>\n      <td>...</td>\n      <td>0</td>\n      <td>0</td>\n      <td>0</td>\n      <td>0</td>\n      <td>0</td>\n      <td>0</td>\n      <td>0</td>\n      <td>0</td>\n      <td>NaN</td>\n      <td>NaN</td>\n    </tr>\n    <tr>\n      <th>527917</th>\n      <td>chrY</td>\n      <td>24871607</td>\n      <td>24895696</td>\n      <td>+</td>\n      <td>0</td>\n      <td>False</td>\n      <td>False</td>\n      <td>NaN</td>\n      <td>NaN</td>\n      <td>NaN</td>\n      <td>...</td>\n      <td>0</td>\n      <td>0</td>\n      <td>0</td>\n      <td>0</td>\n      <td>0</td>\n      <td>0</td>\n      <td>0</td>\n      <td>0</td>\n      <td>NaN</td>\n      <td>NaN</td>\n    </tr>\n  </tbody>\n</table>\n<p>527918 rows × 38 columns</p>\n</div>"
     },
     "execution_count": 2,
     "metadata": {},
     "output_type": "execute_result"
    }
   ],
   "source": [
    "df = pd.read_csv(\"data/4.1_populated_features.tsv\", sep=\"\\t\")\n",
    "df"
   ],
   "metadata": {
    "collapsed": false
   }
  },
  {
   "cell_type": "code",
   "execution_count": 3,
   "outputs": [],
   "source": [
    "# This is downloaded in https://hgdownload.soe.ucsc.edu/goldenPath/hg38/bigZips/\n",
    "genome = Fasta('release-109-hg38/hg38.fa', sequence_always_upper=True)\n",
    "\n",
    "# A simple lambda function for matching the chromosome, start and end\n",
    "coords_to_dna = lambda start_c, end_c, chr_c: genome[chr_c][start_c-1:end_c]\n"
   ],
   "metadata": {
    "collapsed": false
   }
  },
  {
   "cell_type": "code",
   "execution_count": 4,
   "outputs": [],
   "source": [
    "def find_sequence(row):\n",
    "    chromosome = row[\"chr\"]\n",
    "    start = row[\"start\"]\n",
    "    stop = row[\"end\"]\n",
    "    strand = row[\"strand\"]\n",
    "\n",
    "    seq_find_sequence = str(coords_to_dna(int(start)+1, int(stop), chromosome))\n",
    "\n",
    "    if strand == \"-\": #strand\n",
    "        seq_find_sequence = Seq(seq_find_sequence)  # Encode the seqeunce into\n",
    "        seq_find_sequence = seq_find_sequence.reverse_complement()\n",
    "\n",
    "\n",
    "    return str(seq_find_sequence)\n",
    "\n",
    "def find_sequence_maxentscan(row):\n",
    "    chromosome = row[\"chr\"]\n",
    "    start = row[\"start\"]\n",
    "    stop = row[\"end\"]\n",
    "    strand = row[\"strand\"]\n",
    "\n",
    "    seq_find_sequence = str(coords_to_dna(int(start)+1-3, int(stop)+3, chromosome))\n",
    "\n",
    "    if strand == \"-\": #strand\n",
    "        seq_find_sequence = Seq(seq_find_sequence)  # Encode the seqeunce into\n",
    "        seq_find_sequence = seq_find_sequence.reverse_complement()\n",
    "\n",
    "    seq_find_sequence = str(seq_find_sequence)\n",
    "    first_three = seq_find_sequence[:3].lower()\n",
    "    last_three = seq_find_sequence[-3:].lower()\n",
    "    middle_part = seq_find_sequence[3:-3]\n",
    "\n",
    "    return first_three + middle_part + last_three"
   ],
   "metadata": {
    "collapsed": false
   }
  },
  {
   "cell_type": "code",
   "execution_count": null,
   "outputs": [],
   "source": [
    "# df_temp = df.copy().head(5000)\n",
    "# df_temp[\"sequence\"] = df_temp.apply(find_sequence, axis=1)\n",
    "# df_temp[\"sequence_maxentscan\"] = df_temp.apply(find_sequence_maxentscan, axis=1)\n",
    "# df_temp"
   ],
   "metadata": {
    "collapsed": false
   }
  },
  {
   "cell_type": "code",
   "execution_count": 5,
   "outputs": [],
   "source": [
    "df[\"sequence\"] = df.apply(find_sequence, axis=1)"
   ],
   "metadata": {
    "collapsed": false
   }
  },
  {
   "cell_type": "code",
   "execution_count": 6,
   "outputs": [],
   "source": [
    "df[\"sequence_maxentscan\"] = df.apply(find_sequence_maxentscan, axis=1)"
   ],
   "metadata": {
    "collapsed": false
   }
  },
  {
   "cell_type": "code",
   "execution_count": 7,
   "outputs": [
    {
     "data": {
      "text/plain": "         chr     start       end strand  class  ss_antisense_start_site  \\\n0       chr1     12227     12612      +      1                    False   \n1       chr1     12721     13220      +      1                    False   \n2       chr1     12057     12178      +      1                    False   \n3       chr1     12697     12974      +      1                    False   \n4       chr1     13052     13220      +      1                    False   \n...      ...       ...       ...    ...    ...                      ...   \n527913  chrY  24883840  24886132      +      0                    False   \n527914  chrY  24888605  24889352      +      0                    False   \n527915  chrY  24889386  24901111      +      0                    False   \n527916  chrY  24833970  24840730      +      0                    False   \n527917  chrY  24871607  24895696      +      0                    False   \n\n        ss_antisense_end_site     GTExv2    TCGAv2       SRAv3h  ...  \\\n0                       False  1122:3199  583:1460   9374:54492  ...   \n1                       False  1791:3198  783:1104  14048:56719  ...   \n2                       False        NaN       NaN          NaN  ...   \n3                       False        1:1       1:1        15:19  ...   \n4                       False      22:24     17:18      433:484  ...   \n...                       ...        ...       ...          ...  ...   \n527913                  False        NaN       NaN          NaN  ...   \n527914                  False        NaN       NaN          NaN  ...   \n527915                  False        NaN       NaN          NaN  ...   \n527916                  False        NaN       NaN          NaN  ...   \n527917                  False        NaN       NaN          NaN  ...   \n\n       repeat_features_end_site:RNA repeats  \\\n0                                         0   \n1                                         0   \n2                                         0   \n3                                         0   \n4                                         0   \n...                                     ...   \n527913                                    0   \n527914                                    0   \n527915                                    0   \n527916                                    0   \n527917                                    0   \n\n        repeat_features_end_site:Satellite repeats  \\\n0                                                0   \n1                                                0   \n2                                                0   \n3                                                0   \n4                                                0   \n...                                            ...   \n527913                                           0   \n527914                                           0   \n527915                                           0   \n527916                                           0   \n527917                                           0   \n\n        repeat_features_end_site:Tandem repeats  \\\n0                                             0   \n1                                             0   \n2                                             0   \n3                                             0   \n4                                             0   \n...                                         ...   \n527913                                        0   \n527914                                        0   \n527915                                        0   \n527916                                        0   \n527917                                        0   \n\n        repeat_features_end_site:Low complexity regions  \\\n0                                                     0   \n1                                                     0   \n2                                                     0   \n3                                                     0   \n4                                                     0   \n...                                                 ...   \n527913                                                0   \n527914                                                0   \n527915                                                0   \n527916                                                0   \n527917                                                0   \n\n        RC3 - Acceptor splice site  RC3 - Donor splice site  \\\n0                               GT                       AG   \n1                               GT                       AG   \n2                              NaN                      NaN   \n3                               GT                       AG   \n4                               GC                       AG   \n...                            ...                      ...   \n527913                         NaN                      NaN   \n527914                         NaN                      NaN   \n527915                         NaN                      NaN   \n527916                         NaN                      NaN   \n527917                         NaN                      NaN   \n\n                                                 sequence  \\\n0       GTAAGTAGTGCTTGTGCTCATCTCCTTGGCTGTGATACGTGGCCGG...   \n1       GTGAGAGGAGAGTAGACAGTGAGTGGGAGTGGCGTCGCCCCTAGGG...   \n2       CACTGGAGTGGAGTTTTCCTGTGGAGAGGAGCCATGCCTAGAGTGG...   \n3       GTGAGTGTCCCCAGTGTTGCAGAGGTGAGAGGAGAGTAGACAGTGA...   \n4       GCAAGCCTGGCTGCCTCCAGCTGGGTCGACAGACAGGGGCTGGAGA...   \n...                                                   ...   \n527913  GTAAGAAGGAGTAAAATTATTTGCTTTCAGGTATTATTGAGGCCTT...   \n527914  GTAATGTAAGAAGGAGTAAAATTATTTGCTTTCAGGTATTATTGAG...   \n527915  ATTATGTTTTCCTTGATGTTAAGTGAATTAGCCAAACATAGACTTC...   \n527916  CCTTGGTTTTCCTTACACCTTAGCCTTTGGCTCCTTTGACCACTCG...   \n527917  GCTTATCCAAATTCACCATTTCAAGTCGCCACTGGATATCAGTTCC...   \n\n                                      sequence_maxentscan  \\\n0       ccaGTAAGTAGTGCTTGTGCTCATCTCCTTGGCTGTGATACGTGGC...   \n1       gagGTGAGAGGAGAGTAGACAGTGAGTGGGAGTGGCGTCGCCCCTA...   \n2       gagCACTGGAGTGGAGTTTTCCTGTGGAGAGGAGCCATGCCTAGAG...   \n3       cttGTGAGTGTCCCCAGTGTTGCAGAGGTGAGAGGAGAGTAGACAG...   \n4       tagGCAAGCCTGGCTGCCTCCAGCTGGGTCGACAGACAGGGGCTGG...   \n...                                                   ...   \n527913  aatGTAAGAAGGAGTAAAATTATTTGCTTTCAGGTATTATTGAGGC...   \n527914  cagGTAATGTAAGAAGGAGTAAAATTATTTGCTTTCAGGTATTATT...   \n527915  gggATTATGTTTTCCTTGATGTTAAGTGAATTAGCCAAACATAGAC...   \n527916  cgcCCTTGGTTTTCCTTACACCTTAGCCTTTGGCTCCTTTGACCAC...   \n527917  cctGCTTATCCAAATTCACCATTTCAAGTCGCCACTGGATATCAGT...   \n\n        hg38 - Acceptor splice site  hg38 - Donor splice site  \n0                                GT                        AG  \n1                                GT                        AG  \n2                                CA                        GA  \n3                                GT                        AG  \n4                                GC                        AG  \n...                             ...                       ...  \n527913                           GT                        GC  \n527914                           GT                        AG  \n527915                           AT                        AG  \n527916                           CC                        AG  \n527917                           GC                        CT  \n\n[527918 rows x 42 columns]",
      "text/html": "<div>\n<style scoped>\n    .dataframe tbody tr th:only-of-type {\n        vertical-align: middle;\n    }\n\n    .dataframe tbody tr th {\n        vertical-align: top;\n    }\n\n    .dataframe thead th {\n        text-align: right;\n    }\n</style>\n<table border=\"1\" class=\"dataframe\">\n  <thead>\n    <tr style=\"text-align: right;\">\n      <th></th>\n      <th>chr</th>\n      <th>start</th>\n      <th>end</th>\n      <th>strand</th>\n      <th>class</th>\n      <th>ss_antisense_start_site</th>\n      <th>ss_antisense_end_site</th>\n      <th>GTExv2</th>\n      <th>TCGAv2</th>\n      <th>SRAv3h</th>\n      <th>...</th>\n      <th>repeat_features_end_site:RNA repeats</th>\n      <th>repeat_features_end_site:Satellite repeats</th>\n      <th>repeat_features_end_site:Tandem repeats</th>\n      <th>repeat_features_end_site:Low complexity regions</th>\n      <th>RC3 - Acceptor splice site</th>\n      <th>RC3 - Donor splice site</th>\n      <th>sequence</th>\n      <th>sequence_maxentscan</th>\n      <th>hg38 - Acceptor splice site</th>\n      <th>hg38 - Donor splice site</th>\n    </tr>\n  </thead>\n  <tbody>\n    <tr>\n      <th>0</th>\n      <td>chr1</td>\n      <td>12227</td>\n      <td>12612</td>\n      <td>+</td>\n      <td>1</td>\n      <td>False</td>\n      <td>False</td>\n      <td>1122:3199</td>\n      <td>583:1460</td>\n      <td>9374:54492</td>\n      <td>...</td>\n      <td>0</td>\n      <td>0</td>\n      <td>0</td>\n      <td>0</td>\n      <td>GT</td>\n      <td>AG</td>\n      <td>GTAAGTAGTGCTTGTGCTCATCTCCTTGGCTGTGATACGTGGCCGG...</td>\n      <td>ccaGTAAGTAGTGCTTGTGCTCATCTCCTTGGCTGTGATACGTGGC...</td>\n      <td>GT</td>\n      <td>AG</td>\n    </tr>\n    <tr>\n      <th>1</th>\n      <td>chr1</td>\n      <td>12721</td>\n      <td>13220</td>\n      <td>+</td>\n      <td>1</td>\n      <td>False</td>\n      <td>False</td>\n      <td>1791:3198</td>\n      <td>783:1104</td>\n      <td>14048:56719</td>\n      <td>...</td>\n      <td>0</td>\n      <td>0</td>\n      <td>0</td>\n      <td>0</td>\n      <td>GT</td>\n      <td>AG</td>\n      <td>GTGAGAGGAGAGTAGACAGTGAGTGGGAGTGGCGTCGCCCCTAGGG...</td>\n      <td>gagGTGAGAGGAGAGTAGACAGTGAGTGGGAGTGGCGTCGCCCCTA...</td>\n      <td>GT</td>\n      <td>AG</td>\n    </tr>\n    <tr>\n      <th>2</th>\n      <td>chr1</td>\n      <td>12057</td>\n      <td>12178</td>\n      <td>+</td>\n      <td>1</td>\n      <td>False</td>\n      <td>False</td>\n      <td>NaN</td>\n      <td>NaN</td>\n      <td>NaN</td>\n      <td>...</td>\n      <td>0</td>\n      <td>0</td>\n      <td>0</td>\n      <td>0</td>\n      <td>NaN</td>\n      <td>NaN</td>\n      <td>CACTGGAGTGGAGTTTTCCTGTGGAGAGGAGCCATGCCTAGAGTGG...</td>\n      <td>gagCACTGGAGTGGAGTTTTCCTGTGGAGAGGAGCCATGCCTAGAG...</td>\n      <td>CA</td>\n      <td>GA</td>\n    </tr>\n    <tr>\n      <th>3</th>\n      <td>chr1</td>\n      <td>12697</td>\n      <td>12974</td>\n      <td>+</td>\n      <td>1</td>\n      <td>False</td>\n      <td>False</td>\n      <td>1:1</td>\n      <td>1:1</td>\n      <td>15:19</td>\n      <td>...</td>\n      <td>0</td>\n      <td>0</td>\n      <td>0</td>\n      <td>0</td>\n      <td>GT</td>\n      <td>AG</td>\n      <td>GTGAGTGTCCCCAGTGTTGCAGAGGTGAGAGGAGAGTAGACAGTGA...</td>\n      <td>cttGTGAGTGTCCCCAGTGTTGCAGAGGTGAGAGGAGAGTAGACAG...</td>\n      <td>GT</td>\n      <td>AG</td>\n    </tr>\n    <tr>\n      <th>4</th>\n      <td>chr1</td>\n      <td>13052</td>\n      <td>13220</td>\n      <td>+</td>\n      <td>1</td>\n      <td>False</td>\n      <td>False</td>\n      <td>22:24</td>\n      <td>17:18</td>\n      <td>433:484</td>\n      <td>...</td>\n      <td>0</td>\n      <td>0</td>\n      <td>0</td>\n      <td>0</td>\n      <td>GC</td>\n      <td>AG</td>\n      <td>GCAAGCCTGGCTGCCTCCAGCTGGGTCGACAGACAGGGGCTGGAGA...</td>\n      <td>tagGCAAGCCTGGCTGCCTCCAGCTGGGTCGACAGACAGGGGCTGG...</td>\n      <td>GC</td>\n      <td>AG</td>\n    </tr>\n    <tr>\n      <th>...</th>\n      <td>...</td>\n      <td>...</td>\n      <td>...</td>\n      <td>...</td>\n      <td>...</td>\n      <td>...</td>\n      <td>...</td>\n      <td>...</td>\n      <td>...</td>\n      <td>...</td>\n      <td>...</td>\n      <td>...</td>\n      <td>...</td>\n      <td>...</td>\n      <td>...</td>\n      <td>...</td>\n      <td>...</td>\n      <td>...</td>\n      <td>...</td>\n      <td>...</td>\n      <td>...</td>\n    </tr>\n    <tr>\n      <th>527913</th>\n      <td>chrY</td>\n      <td>24883840</td>\n      <td>24886132</td>\n      <td>+</td>\n      <td>0</td>\n      <td>False</td>\n      <td>False</td>\n      <td>NaN</td>\n      <td>NaN</td>\n      <td>NaN</td>\n      <td>...</td>\n      <td>0</td>\n      <td>0</td>\n      <td>0</td>\n      <td>0</td>\n      <td>NaN</td>\n      <td>NaN</td>\n      <td>GTAAGAAGGAGTAAAATTATTTGCTTTCAGGTATTATTGAGGCCTT...</td>\n      <td>aatGTAAGAAGGAGTAAAATTATTTGCTTTCAGGTATTATTGAGGC...</td>\n      <td>GT</td>\n      <td>GC</td>\n    </tr>\n    <tr>\n      <th>527914</th>\n      <td>chrY</td>\n      <td>24888605</td>\n      <td>24889352</td>\n      <td>+</td>\n      <td>0</td>\n      <td>False</td>\n      <td>False</td>\n      <td>NaN</td>\n      <td>NaN</td>\n      <td>NaN</td>\n      <td>...</td>\n      <td>0</td>\n      <td>0</td>\n      <td>0</td>\n      <td>0</td>\n      <td>NaN</td>\n      <td>NaN</td>\n      <td>GTAATGTAAGAAGGAGTAAAATTATTTGCTTTCAGGTATTATTGAG...</td>\n      <td>cagGTAATGTAAGAAGGAGTAAAATTATTTGCTTTCAGGTATTATT...</td>\n      <td>GT</td>\n      <td>AG</td>\n    </tr>\n    <tr>\n      <th>527915</th>\n      <td>chrY</td>\n      <td>24889386</td>\n      <td>24901111</td>\n      <td>+</td>\n      <td>0</td>\n      <td>False</td>\n      <td>False</td>\n      <td>NaN</td>\n      <td>NaN</td>\n      <td>NaN</td>\n      <td>...</td>\n      <td>0</td>\n      <td>0</td>\n      <td>0</td>\n      <td>0</td>\n      <td>NaN</td>\n      <td>NaN</td>\n      <td>ATTATGTTTTCCTTGATGTTAAGTGAATTAGCCAAACATAGACTTC...</td>\n      <td>gggATTATGTTTTCCTTGATGTTAAGTGAATTAGCCAAACATAGAC...</td>\n      <td>AT</td>\n      <td>AG</td>\n    </tr>\n    <tr>\n      <th>527916</th>\n      <td>chrY</td>\n      <td>24833970</td>\n      <td>24840730</td>\n      <td>+</td>\n      <td>0</td>\n      <td>False</td>\n      <td>False</td>\n      <td>NaN</td>\n      <td>NaN</td>\n      <td>NaN</td>\n      <td>...</td>\n      <td>0</td>\n      <td>0</td>\n      <td>0</td>\n      <td>0</td>\n      <td>NaN</td>\n      <td>NaN</td>\n      <td>CCTTGGTTTTCCTTACACCTTAGCCTTTGGCTCCTTTGACCACTCG...</td>\n      <td>cgcCCTTGGTTTTCCTTACACCTTAGCCTTTGGCTCCTTTGACCAC...</td>\n      <td>CC</td>\n      <td>AG</td>\n    </tr>\n    <tr>\n      <th>527917</th>\n      <td>chrY</td>\n      <td>24871607</td>\n      <td>24895696</td>\n      <td>+</td>\n      <td>0</td>\n      <td>False</td>\n      <td>False</td>\n      <td>NaN</td>\n      <td>NaN</td>\n      <td>NaN</td>\n      <td>...</td>\n      <td>0</td>\n      <td>0</td>\n      <td>0</td>\n      <td>0</td>\n      <td>NaN</td>\n      <td>NaN</td>\n      <td>GCTTATCCAAATTCACCATTTCAAGTCGCCACTGGATATCAGTTCC...</td>\n      <td>cctGCTTATCCAAATTCACCATTTCAAGTCGCCACTGGATATCAGT...</td>\n      <td>GC</td>\n      <td>CT</td>\n    </tr>\n  </tbody>\n</table>\n<p>527918 rows × 42 columns</p>\n</div>"
     },
     "execution_count": 7,
     "metadata": {},
     "output_type": "execute_result"
    }
   ],
   "source": [
    "df[\"hg38 - Acceptor splice site\"] = df[\"sequence\"].str[:2]\n",
    "df[\"hg38 - Donor splice site\"] = df[\"sequence\"].str[-2::]\n",
    "df"
   ],
   "metadata": {
    "collapsed": false
   }
  },
  {
   "cell_type": "code",
   "execution_count": 8,
   "outputs": [],
   "source": [
    "df = df.drop(columns=[\"RC3 - Acceptor splice site\", \"RC3 - Donor splice site\"])"
   ],
   "metadata": {
    "collapsed": false
   }
  },
  {
   "cell_type": "code",
   "execution_count": 9,
   "outputs": [],
   "source": [
    "df.to_csv(\"data/4.2_hg38_paired_introns.tsv\", sep=\"\\t\", index=False)"
   ],
   "metadata": {
    "collapsed": false
   }
  },
  {
   "cell_type": "markdown",
   "source": [
    " # Experimental Test (Please ignore)"
   ],
   "metadata": {
    "collapsed": false
   }
  },
  {
   "cell_type": "code",
   "execution_count": null,
   "outputs": [],
   "source": [
    "seq = str(coords_to_dna(int(150677660)+1, int(150677813), \"chr7\"))  # rev strand\n",
    "seq = Seq(seq)  # Encode the seqeunce into\n",
    "seq = seq.reverse_complement()\n",
    "seq"
   ],
   "metadata": {
    "collapsed": false
   }
  },
  {
   "cell_type": "code",
   "execution_count": null,
   "outputs": [],
   "source": [
    "seq = str(coords_to_dna(14829+1, 14969, \"chr1\"))  # rev strand\n",
    "seq = Seq(seq)  # Encode the seqeunce into\n",
    "seq = seq.reverse_complement()\n",
    "seq"
   ],
   "metadata": {
    "collapsed": false
   }
  },
  {
   "cell_type": "code",
   "execution_count": null,
   "outputs": [],
   "source": [
    "# Pandarelle is not suitable to use with pyfaidx because it wrongly matches the sequence\n",
    "#pandarallel.initialize(progress_bar=False, nb_workers=8)\n",
    "# df[\"sequence-parallel\"] = df.parallel_apply(find_sequence, axis=1)"
   ],
   "metadata": {
    "collapsed": false
   }
  },
  {
   "cell_type": "code",
   "execution_count": null,
   "outputs": [],
   "source": [
    "seq = str(coords_to_dna(20016325+1, 20024950, \"chrX\"))  # rev strand\n",
    "seq = Seq(seq)  # Encode the seqeunce into\n",
    "seq = seq.reverse_complement()\n",
    "seq"
   ],
   "metadata": {
    "collapsed": false
   }
  },
  {
   "cell_type": "code",
   "execution_count": null,
   "outputs": [],
   "source": [
    "str(seq)"
   ],
   "metadata": {
    "collapsed": false
   }
  },
  {
   "cell_type": "code",
   "execution_count": null,
   "outputs": [],
   "source": [],
   "metadata": {
    "collapsed": false
   }
  }
 ],
 "metadata": {
  "kernelspec": {
   "display_name": "Python 3",
   "language": "python",
   "name": "python3"
  },
  "language_info": {
   "codemirror_mode": {
    "name": "ipython",
    "version": 2
   },
   "file_extension": ".py",
   "mimetype": "text/x-python",
   "name": "python",
   "nbconvert_exporter": "python",
   "pygments_lexer": "ipython2",
   "version": "2.7.6"
  }
 },
 "nbformat": 4,
 "nbformat_minor": 0
}
