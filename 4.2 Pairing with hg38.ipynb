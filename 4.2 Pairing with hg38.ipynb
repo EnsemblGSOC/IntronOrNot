{
 "cells": [
  {
   "cell_type": "code",
   "execution_count": 1,
   "metadata": {
    "collapsed": true
   },
   "outputs": [],
   "source": [
    "import pandas as pd\n",
    "from pyfaidx import Fasta\n",
    "from Bio.Seq import Seq\n",
    "from pandarallel import pandarallel"
   ]
  },
  {
   "cell_type": "code",
   "execution_count": 2,
   "outputs": [
    {
     "data": {
      "text/plain": "         chr      start        end strand  class     GTExv2    TCGAv2  \\\n0       chr1      12227      12612      +      1  1122:3199  583:1460   \n1       chr1      12721      13220      +      1  1791:3198  783:1104   \n2       chr1      12057      12178      +      1        NaN       NaN   \n3       chr1      12697      12974      +      1        1:1       1:1   \n4       chr1      13052      13220      +      1      22:24     17:18   \n...      ...        ...        ...    ...    ...        ...       ...   \n402852  chrX  151403679  151404937      +      0        NaN       NaN   \n402853  chrX  151409210  151456968      +      0        NaN       NaN   \n402854  chrX  153906577  153906694      -      0        NaN       NaN   \n402855  chrX  153906409  153906520      -      0        NaN       NaN   \n402856  chrY   20579691   20582591      +      0    222:238     53:60   \n\n             SRAv3h RC3-Splice_site  RC3-Score  ...  \\\n0        9374:54492           GT:AG      59151  ...   \n1       14048:56719           GT:AG      61021  ...   \n2               NaN             NaN         -1  ...   \n3             15:19           GT:AG         21  ...   \n4           433:484           GC:AG        526  ...   \n...             ...             ...        ...  ...   \n402852          NaN             NaN         -1  ...   \n402853          NaN             NaN         -1  ...   \n402854          NaN             NaN         -1  ...   \n402855          NaN             NaN         -1  ...   \n402856     961:1642           GT:AG       1940  ...   \n\n        repeat_features_end_site:LTRs  repeat_features_end_site:Unknown  \\\n0                                   0                                 0   \n1                                   0                                 0   \n2                                   0                                 0   \n3                                   0                                 0   \n4                                   0                                 0   \n...                               ...                               ...   \n402852                              0                                 0   \n402853                              0                                 0   \n402854                              0                                 0   \n402855                              0                                 0   \n402856                              0                                 0   \n\n        repeat_features_end_site:Centromere  \\\n0                                         0   \n1                                         0   \n2                                         0   \n3                                         0   \n4                                         0   \n...                                     ...   \n402852                                    0   \n402853                                    0   \n402854                                    0   \n402855                                    0   \n402856                                    0   \n\n        repeat_features_end_site:Satellite repeats  \\\n0                                                0   \n1                                                0   \n2                                                0   \n3                                                0   \n4                                                0   \n...                                            ...   \n402852                                           0   \n402853                                           0   \n402854                                           0   \n402855                                           0   \n402856                                           0   \n\n        repeat_features_end_site:Dust  \\\n0                                   0   \n1                                   0   \n2                                   0   \n3                                   0   \n4                                   0   \n...                               ...   \n402852                              0   \n402853                              0   \n402854                              0   \n402855                              0   \n402856                              0   \n\n        repeat_features_end_site:Tandem repeats  \\\n0                                             0   \n1                                             0   \n2                                             0   \n3                                             0   \n4                                             0   \n...                                         ...   \n402852                                        0   \n402853                                        1   \n402854                                        0   \n402855                                        0   \n402856                                        0   \n\n        repeat_features_end_site:Type I Transposons/LINE  \\\n0                                                      0   \n1                                                      0   \n2                                                      0   \n3                                                      0   \n4                                                      0   \n...                                                  ...   \n402852                                                 0   \n402853                                                 0   \n402854                                                 0   \n402855                                                 0   \n402856                                                 0   \n\n        repeat_features_end_site:Simple repeats  RC3 - Acceptor splice site  \\\n0                                             0                          GT   \n1                                             0                          GT   \n2                                             0                         NaN   \n3                                             0                          GT   \n4                                             0                          GC   \n...                                         ...                         ...   \n402852                                        0                         NaN   \n402853                                        0                         NaN   \n402854                                        0                         NaN   \n402855                                        0                         NaN   \n402856                                        0                          GT   \n\n        RC3 - Donor splice site  \n0                            AG  \n1                            AG  \n2                           NaN  \n3                            AG  \n4                            AG  \n...                         ...  \n402852                      NaN  \n402853                      NaN  \n402854                      NaN  \n402855                      NaN  \n402856                       AG  \n\n[402857 rows x 36 columns]",
      "text/html": "<div>\n<style scoped>\n    .dataframe tbody tr th:only-of-type {\n        vertical-align: middle;\n    }\n\n    .dataframe tbody tr th {\n        vertical-align: top;\n    }\n\n    .dataframe thead th {\n        text-align: right;\n    }\n</style>\n<table border=\"1\" class=\"dataframe\">\n  <thead>\n    <tr style=\"text-align: right;\">\n      <th></th>\n      <th>chr</th>\n      <th>start</th>\n      <th>end</th>\n      <th>strand</th>\n      <th>class</th>\n      <th>GTExv2</th>\n      <th>TCGAv2</th>\n      <th>SRAv3h</th>\n      <th>RC3-Splice_site</th>\n      <th>RC3-Score</th>\n      <th>...</th>\n      <th>repeat_features_end_site:LTRs</th>\n      <th>repeat_features_end_site:Unknown</th>\n      <th>repeat_features_end_site:Centromere</th>\n      <th>repeat_features_end_site:Satellite repeats</th>\n      <th>repeat_features_end_site:Dust</th>\n      <th>repeat_features_end_site:Tandem repeats</th>\n      <th>repeat_features_end_site:Type I Transposons/LINE</th>\n      <th>repeat_features_end_site:Simple repeats</th>\n      <th>RC3 - Acceptor splice site</th>\n      <th>RC3 - Donor splice site</th>\n    </tr>\n  </thead>\n  <tbody>\n    <tr>\n      <th>0</th>\n      <td>chr1</td>\n      <td>12227</td>\n      <td>12612</td>\n      <td>+</td>\n      <td>1</td>\n      <td>1122:3199</td>\n      <td>583:1460</td>\n      <td>9374:54492</td>\n      <td>GT:AG</td>\n      <td>59151</td>\n      <td>...</td>\n      <td>0</td>\n      <td>0</td>\n      <td>0</td>\n      <td>0</td>\n      <td>0</td>\n      <td>0</td>\n      <td>0</td>\n      <td>0</td>\n      <td>GT</td>\n      <td>AG</td>\n    </tr>\n    <tr>\n      <th>1</th>\n      <td>chr1</td>\n      <td>12721</td>\n      <td>13220</td>\n      <td>+</td>\n      <td>1</td>\n      <td>1791:3198</td>\n      <td>783:1104</td>\n      <td>14048:56719</td>\n      <td>GT:AG</td>\n      <td>61021</td>\n      <td>...</td>\n      <td>0</td>\n      <td>0</td>\n      <td>0</td>\n      <td>0</td>\n      <td>0</td>\n      <td>0</td>\n      <td>0</td>\n      <td>0</td>\n      <td>GT</td>\n      <td>AG</td>\n    </tr>\n    <tr>\n      <th>2</th>\n      <td>chr1</td>\n      <td>12057</td>\n      <td>12178</td>\n      <td>+</td>\n      <td>1</td>\n      <td>NaN</td>\n      <td>NaN</td>\n      <td>NaN</td>\n      <td>NaN</td>\n      <td>-1</td>\n      <td>...</td>\n      <td>0</td>\n      <td>0</td>\n      <td>0</td>\n      <td>0</td>\n      <td>0</td>\n      <td>0</td>\n      <td>0</td>\n      <td>0</td>\n      <td>NaN</td>\n      <td>NaN</td>\n    </tr>\n    <tr>\n      <th>3</th>\n      <td>chr1</td>\n      <td>12697</td>\n      <td>12974</td>\n      <td>+</td>\n      <td>1</td>\n      <td>1:1</td>\n      <td>1:1</td>\n      <td>15:19</td>\n      <td>GT:AG</td>\n      <td>21</td>\n      <td>...</td>\n      <td>0</td>\n      <td>0</td>\n      <td>0</td>\n      <td>0</td>\n      <td>0</td>\n      <td>0</td>\n      <td>0</td>\n      <td>0</td>\n      <td>GT</td>\n      <td>AG</td>\n    </tr>\n    <tr>\n      <th>4</th>\n      <td>chr1</td>\n      <td>13052</td>\n      <td>13220</td>\n      <td>+</td>\n      <td>1</td>\n      <td>22:24</td>\n      <td>17:18</td>\n      <td>433:484</td>\n      <td>GC:AG</td>\n      <td>526</td>\n      <td>...</td>\n      <td>0</td>\n      <td>0</td>\n      <td>0</td>\n      <td>0</td>\n      <td>0</td>\n      <td>0</td>\n      <td>0</td>\n      <td>0</td>\n      <td>GC</td>\n      <td>AG</td>\n    </tr>\n    <tr>\n      <th>...</th>\n      <td>...</td>\n      <td>...</td>\n      <td>...</td>\n      <td>...</td>\n      <td>...</td>\n      <td>...</td>\n      <td>...</td>\n      <td>...</td>\n      <td>...</td>\n      <td>...</td>\n      <td>...</td>\n      <td>...</td>\n      <td>...</td>\n      <td>...</td>\n      <td>...</td>\n      <td>...</td>\n      <td>...</td>\n      <td>...</td>\n      <td>...</td>\n      <td>...</td>\n      <td>...</td>\n    </tr>\n    <tr>\n      <th>402852</th>\n      <td>chrX</td>\n      <td>151403679</td>\n      <td>151404937</td>\n      <td>+</td>\n      <td>0</td>\n      <td>NaN</td>\n      <td>NaN</td>\n      <td>NaN</td>\n      <td>NaN</td>\n      <td>-1</td>\n      <td>...</td>\n      <td>0</td>\n      <td>0</td>\n      <td>0</td>\n      <td>0</td>\n      <td>0</td>\n      <td>0</td>\n      <td>0</td>\n      <td>0</td>\n      <td>NaN</td>\n      <td>NaN</td>\n    </tr>\n    <tr>\n      <th>402853</th>\n      <td>chrX</td>\n      <td>151409210</td>\n      <td>151456968</td>\n      <td>+</td>\n      <td>0</td>\n      <td>NaN</td>\n      <td>NaN</td>\n      <td>NaN</td>\n      <td>NaN</td>\n      <td>-1</td>\n      <td>...</td>\n      <td>0</td>\n      <td>0</td>\n      <td>0</td>\n      <td>0</td>\n      <td>0</td>\n      <td>1</td>\n      <td>0</td>\n      <td>0</td>\n      <td>NaN</td>\n      <td>NaN</td>\n    </tr>\n    <tr>\n      <th>402854</th>\n      <td>chrX</td>\n      <td>153906577</td>\n      <td>153906694</td>\n      <td>-</td>\n      <td>0</td>\n      <td>NaN</td>\n      <td>NaN</td>\n      <td>NaN</td>\n      <td>NaN</td>\n      <td>-1</td>\n      <td>...</td>\n      <td>0</td>\n      <td>0</td>\n      <td>0</td>\n      <td>0</td>\n      <td>0</td>\n      <td>0</td>\n      <td>0</td>\n      <td>0</td>\n      <td>NaN</td>\n      <td>NaN</td>\n    </tr>\n    <tr>\n      <th>402855</th>\n      <td>chrX</td>\n      <td>153906409</td>\n      <td>153906520</td>\n      <td>-</td>\n      <td>0</td>\n      <td>NaN</td>\n      <td>NaN</td>\n      <td>NaN</td>\n      <td>NaN</td>\n      <td>-1</td>\n      <td>...</td>\n      <td>0</td>\n      <td>0</td>\n      <td>0</td>\n      <td>0</td>\n      <td>0</td>\n      <td>0</td>\n      <td>0</td>\n      <td>0</td>\n      <td>NaN</td>\n      <td>NaN</td>\n    </tr>\n    <tr>\n      <th>402856</th>\n      <td>chrY</td>\n      <td>20579691</td>\n      <td>20582591</td>\n      <td>+</td>\n      <td>0</td>\n      <td>222:238</td>\n      <td>53:60</td>\n      <td>961:1642</td>\n      <td>GT:AG</td>\n      <td>1940</td>\n      <td>...</td>\n      <td>0</td>\n      <td>0</td>\n      <td>0</td>\n      <td>0</td>\n      <td>0</td>\n      <td>0</td>\n      <td>0</td>\n      <td>0</td>\n      <td>GT</td>\n      <td>AG</td>\n    </tr>\n  </tbody>\n</table>\n<p>402857 rows × 36 columns</p>\n</div>"
     },
     "execution_count": 2,
     "metadata": {},
     "output_type": "execute_result"
    }
   ],
   "source": [
    "df = pd.read_csv(\"data/4-featurized_introns_data.tsv\", sep=\"\\t\")\n",
    "df"
   ],
   "metadata": {
    "collapsed": false
   }
  },
  {
   "cell_type": "code",
   "execution_count": 3,
   "outputs": [],
   "source": [
    "# This is downloaded in https://hgdownload.soe.ucsc.edu/goldenPath/hg38/bigZips/\n",
    "genome = Fasta('release-109-hg38/hg38.fa', sequence_always_upper=True)\n",
    "\n",
    "# A simple lambda function for matching the chromosome, start and end\n",
    "coords_to_dna = lambda start_c, end_c, chr_c: genome[chr_c][start_c-1:end_c]"
   ],
   "metadata": {
    "collapsed": false
   }
  },
  {
   "cell_type": "code",
   "execution_count": 4,
   "outputs": [],
   "source": [
    "seq_lst = []\n",
    "\n",
    "def find_sequence(row):\n",
    "    chromosome = row[\"chr\"]\n",
    "    start = row[\"start\"]\n",
    "    stop = row[\"end\"]\n",
    "    strand = row[\"strand\"]\n",
    "\n",
    "\n",
    "    # Send the API request and get the response\n",
    "    seq = str(coords_to_dna(int(start)+1, int(stop), chromosome))\n",
    "\n",
    "    if strand == \"-\": #strand\n",
    "        seq = Seq(seq)  # Encode the seqeunce into\n",
    "        seq = seq.reverse_complement()\n",
    "\n",
    "\n",
    "    return str(seq)"
   ],
   "metadata": {
    "collapsed": false
   }
  },
  {
   "cell_type": "code",
   "execution_count": 5,
   "outputs": [],
   "source": [
    "# df_temp = df.copy().head(5000)\n",
    "# df_temp[\"sequence\"] = df_temp.apply(find_sequence, axis=1)\n",
    "# df_temp"
   ],
   "metadata": {
    "collapsed": false
   }
  },
  {
   "cell_type": "code",
   "execution_count": 6,
   "outputs": [
    {
     "name": "stdout",
     "output_type": "stream",
     "text": [
      "INFO: Pandarallel will run on 8 workers.\n",
      "INFO: Pandarallel will use Memory file system to transfer data between the main process and workers.\n"
     ]
    }
   ],
   "source": [
    "pandarallel.initialize(progress_bar=False, nb_workers=8)"
   ],
   "metadata": {
    "collapsed": false
   }
  },
  {
   "cell_type": "code",
   "execution_count": 7,
   "outputs": [],
   "source": [
    "df[\"sequence\"] = df.apply(find_sequence, axis=1)"
   ],
   "metadata": {
    "collapsed": false
   }
  },
  {
   "cell_type": "code",
   "execution_count": 8,
   "outputs": [],
   "source": [
    "df[\"sequence-parallel\"] = df.parallel_apply(find_sequence, axis=1)"
   ],
   "metadata": {
    "collapsed": false
   }
  },
  {
   "cell_type": "code",
   "execution_count": 9,
   "outputs": [
    {
     "data": {
      "text/plain": "                                                 sequence  \\\n0       GTAAGTAGTGCTTGTGCTCATCTCCTTGGCTGTGATACGTGGCCGG...   \n1       GTGAGAGGAGAGTAGACAGTGAGTGGGAGTGGCGTCGCCCCTAGGG...   \n2       CACTGGAGTGGAGTTTTCCTGTGGAGAGGAGCCATGCCTAGAGTGG...   \n3       GTGAGTGTCCCCAGTGTTGCAGAGGTGAGAGGAGAGTAGACAGTGA...   \n4       GCAAGCCTGGCTGCCTCCAGCTGGGTCGACAGACAGGGGCTGGAGA...   \n...                                                   ...   \n402852  GCTTTAATGATCACTGTTCCTATTGGGTTATATTTCACAACTAAAT...   \n402853  GCTTGAGTTCTTTAGCTACTTGAATCCGATTTACTTCTGTTAAGTG...   \n402854  GCGGTGGTGCAGGACTCATCTTGGGGACCCAGGCTGGGTGGGGTGC...   \n402855  GTGGAGGTGGAGGATCTAGGTTGGGTTCAGGATGGCTGGTGGGGCA...   \n402856  GTAAGACTTTTCAACTTAGGCTTCTTTCATTAATATGTTTTGTTGT...   \n\n                                        sequence-parallel  \n0       GTAAGTAGTGCTTGTGCTCATCTCCTTGGCTGTGATACGTGGCCGG...  \n1       GTGAGAGGAGAGTAGACAGTGAGTGGGAGTGGCGTCGCCCCTAGGG...  \n2       CACTGGAGTGGAGTTTTCCTGTGGAGAGGAGCCATGCCTAGAGTGG...  \n3       GTGAGTGTCCCCAGTGTTGCAGAGGTGAGAGGAGAGTAGACAGTGA...  \n4       GCAAGCCTGGCTGCCTCCAGCTGGGTCGACAGACAGGGGCTGGAGA...  \n...                                                   ...  \n402852  GTGAGTCTGGAACTAAATTTTGATAGCTTTTCCAATAGCACAGAAG...  \n402853  TCATTTCTTCTAGATTTTCTAGTTTATTTGCATAGAGGTGTTTACA...  \n402854  GCGGTGGTGCAGGACTCATCTTGGGGACCCAGGCTGGGTGGGGTGC...  \n402855  GTGGAGGTGGAGGATCTAGGTTGGGTTCAGGATGGCTGGTGGGGCA...  \n402856  GTAAGACTTTTCAACTTAGGCTTCTTTCATTAATATGTTTTGTTGT...  \n\n[402857 rows x 2 columns]",
      "text/html": "<div>\n<style scoped>\n    .dataframe tbody tr th:only-of-type {\n        vertical-align: middle;\n    }\n\n    .dataframe tbody tr th {\n        vertical-align: top;\n    }\n\n    .dataframe thead th {\n        text-align: right;\n    }\n</style>\n<table border=\"1\" class=\"dataframe\">\n  <thead>\n    <tr style=\"text-align: right;\">\n      <th></th>\n      <th>sequence</th>\n      <th>sequence-parallel</th>\n    </tr>\n  </thead>\n  <tbody>\n    <tr>\n      <th>0</th>\n      <td>GTAAGTAGTGCTTGTGCTCATCTCCTTGGCTGTGATACGTGGCCGG...</td>\n      <td>GTAAGTAGTGCTTGTGCTCATCTCCTTGGCTGTGATACGTGGCCGG...</td>\n    </tr>\n    <tr>\n      <th>1</th>\n      <td>GTGAGAGGAGAGTAGACAGTGAGTGGGAGTGGCGTCGCCCCTAGGG...</td>\n      <td>GTGAGAGGAGAGTAGACAGTGAGTGGGAGTGGCGTCGCCCCTAGGG...</td>\n    </tr>\n    <tr>\n      <th>2</th>\n      <td>CACTGGAGTGGAGTTTTCCTGTGGAGAGGAGCCATGCCTAGAGTGG...</td>\n      <td>CACTGGAGTGGAGTTTTCCTGTGGAGAGGAGCCATGCCTAGAGTGG...</td>\n    </tr>\n    <tr>\n      <th>3</th>\n      <td>GTGAGTGTCCCCAGTGTTGCAGAGGTGAGAGGAGAGTAGACAGTGA...</td>\n      <td>GTGAGTGTCCCCAGTGTTGCAGAGGTGAGAGGAGAGTAGACAGTGA...</td>\n    </tr>\n    <tr>\n      <th>4</th>\n      <td>GCAAGCCTGGCTGCCTCCAGCTGGGTCGACAGACAGGGGCTGGAGA...</td>\n      <td>GCAAGCCTGGCTGCCTCCAGCTGGGTCGACAGACAGGGGCTGGAGA...</td>\n    </tr>\n    <tr>\n      <th>...</th>\n      <td>...</td>\n      <td>...</td>\n    </tr>\n    <tr>\n      <th>402852</th>\n      <td>GCTTTAATGATCACTGTTCCTATTGGGTTATATTTCACAACTAAAT...</td>\n      <td>GTGAGTCTGGAACTAAATTTTGATAGCTTTTCCAATAGCACAGAAG...</td>\n    </tr>\n    <tr>\n      <th>402853</th>\n      <td>GCTTGAGTTCTTTAGCTACTTGAATCCGATTTACTTCTGTTAAGTG...</td>\n      <td>TCATTTCTTCTAGATTTTCTAGTTTATTTGCATAGAGGTGTTTACA...</td>\n    </tr>\n    <tr>\n      <th>402854</th>\n      <td>GCGGTGGTGCAGGACTCATCTTGGGGACCCAGGCTGGGTGGGGTGC...</td>\n      <td>GCGGTGGTGCAGGACTCATCTTGGGGACCCAGGCTGGGTGGGGTGC...</td>\n    </tr>\n    <tr>\n      <th>402855</th>\n      <td>GTGGAGGTGGAGGATCTAGGTTGGGTTCAGGATGGCTGGTGGGGCA...</td>\n      <td>GTGGAGGTGGAGGATCTAGGTTGGGTTCAGGATGGCTGGTGGGGCA...</td>\n    </tr>\n    <tr>\n      <th>402856</th>\n      <td>GTAAGACTTTTCAACTTAGGCTTCTTTCATTAATATGTTTTGTTGT...</td>\n      <td>GTAAGACTTTTCAACTTAGGCTTCTTTCATTAATATGTTTTGTTGT...</td>\n    </tr>\n  </tbody>\n</table>\n<p>402857 rows × 2 columns</p>\n</div>"
     },
     "execution_count": 9,
     "metadata": {},
     "output_type": "execute_result"
    }
   ],
   "source": [
    "df[[\"sequence\", \"sequence-parallel\"]]"
   ],
   "metadata": {
    "collapsed": false
   }
  },
  {
   "cell_type": "markdown",
   "source": [
    "We can see that pandarelle is not suitable because it wrongly matches the sequence"
   ],
   "metadata": {
    "collapsed": false
   }
  },
  {
   "cell_type": "code",
   "execution_count": 15,
   "outputs": [
    {
     "data": {
      "text/plain": "         chr      start        end strand  class     GTExv2    TCGAv2  \\\n0       chr1      12227      12612      +      1  1122:3199  583:1460   \n1       chr1      12721      13220      +      1  1791:3198  783:1104   \n2       chr1      12057      12178      +      1        NaN       NaN   \n3       chr1      12697      12974      +      1        1:1       1:1   \n4       chr1      13052      13220      +      1      22:24     17:18   \n...      ...        ...        ...    ...    ...        ...       ...   \n402852  chrX  151403679  151404937      +      0        NaN       NaN   \n402853  chrX  151409210  151456968      +      0        NaN       NaN   \n402854  chrX  153906577  153906694      -      0        NaN       NaN   \n402855  chrX  153906409  153906520      -      0        NaN       NaN   \n402856  chrY   20579691   20582591      +      0    222:238     53:60   \n\n             SRAv3h RC3-Splice_site  RC3-Score  ...  \\\n0        9374:54492           GT:AG      59151  ...   \n1       14048:56719           GT:AG      61021  ...   \n2               NaN             NaN         -1  ...   \n3             15:19           GT:AG         21  ...   \n4           433:484           GC:AG        526  ...   \n...             ...             ...        ...  ...   \n402852          NaN             NaN         -1  ...   \n402853          NaN             NaN         -1  ...   \n402854          NaN             NaN         -1  ...   \n402855          NaN             NaN         -1  ...   \n402856     961:1642           GT:AG       1940  ...   \n\n        repeat_features_end_site:Satellite repeats  \\\n0                                                0   \n1                                                0   \n2                                                0   \n3                                                0   \n4                                                0   \n...                                            ...   \n402852                                           0   \n402853                                           0   \n402854                                           0   \n402855                                           0   \n402856                                           0   \n\n        repeat_features_end_site:Dust  \\\n0                                   0   \n1                                   0   \n2                                   0   \n3                                   0   \n4                                   0   \n...                               ...   \n402852                              0   \n402853                              0   \n402854                              0   \n402855                              0   \n402856                              0   \n\n        repeat_features_end_site:Tandem repeats  \\\n0                                             0   \n1                                             0   \n2                                             0   \n3                                             0   \n4                                             0   \n...                                         ...   \n402852                                        0   \n402853                                        1   \n402854                                        0   \n402855                                        0   \n402856                                        0   \n\n        repeat_features_end_site:Type I Transposons/LINE  \\\n0                                                      0   \n1                                                      0   \n2                                                      0   \n3                                                      0   \n4                                                      0   \n...                                                  ...   \n402852                                                 0   \n402853                                                 0   \n402854                                                 0   \n402855                                                 0   \n402856                                                 0   \n\n        repeat_features_end_site:Simple repeats  RC3 - Acceptor splice site  \\\n0                                             0                          GT   \n1                                             0                          GT   \n2                                             0                         NaN   \n3                                             0                          GT   \n4                                             0                          GC   \n...                                         ...                         ...   \n402852                                        0                         NaN   \n402853                                        0                         NaN   \n402854                                        0                         NaN   \n402855                                        0                         NaN   \n402856                                        0                          GT   \n\n        RC3 - Donor splice site  \\\n0                            AG   \n1                            AG   \n2                           NaN   \n3                            AG   \n4                            AG   \n...                         ...   \n402852                      NaN   \n402853                      NaN   \n402854                      NaN   \n402855                      NaN   \n402856                       AG   \n\n                                                 sequence  \\\n0       GTAAGTAGTGCTTGTGCTCATCTCCTTGGCTGTGATACGTGGCCGG...   \n1       GTGAGAGGAGAGTAGACAGTGAGTGGGAGTGGCGTCGCCCCTAGGG...   \n2       CACTGGAGTGGAGTTTTCCTGTGGAGAGGAGCCATGCCTAGAGTGG...   \n3       GTGAGTGTCCCCAGTGTTGCAGAGGTGAGAGGAGAGTAGACAGTGA...   \n4       GCAAGCCTGGCTGCCTCCAGCTGGGTCGACAGACAGGGGCTGGAGA...   \n...                                                   ...   \n402852  GCTTTAATGATCACTGTTCCTATTGGGTTATATTTCACAACTAAAT...   \n402853  GCTTGAGTTCTTTAGCTACTTGAATCCGATTTACTTCTGTTAAGTG...   \n402854  GCGGTGGTGCAGGACTCATCTTGGGGACCCAGGCTGGGTGGGGTGC...   \n402855  GTGGAGGTGGAGGATCTAGGTTGGGTTCAGGATGGCTGGTGGGGCA...   \n402856  GTAAGACTTTTCAACTTAGGCTTCTTTCATTAATATGTTTTGTTGT...   \n\n        hg38 - Acceptor splice site  hg38 - Donor splice site  \n0                                GT                        AG  \n1                                GT                        AG  \n2                                CA                        GA  \n3                                GT                        AG  \n4                                GC                        AG  \n...                             ...                       ...  \n402852                           GC                        AG  \n402853                           GC                        AG  \n402854                           GC                        AG  \n402855                           GT                        AG  \n402856                           GT                        AG  \n\n[402857 rows x 39 columns]",
      "text/html": "<div>\n<style scoped>\n    .dataframe tbody tr th:only-of-type {\n        vertical-align: middle;\n    }\n\n    .dataframe tbody tr th {\n        vertical-align: top;\n    }\n\n    .dataframe thead th {\n        text-align: right;\n    }\n</style>\n<table border=\"1\" class=\"dataframe\">\n  <thead>\n    <tr style=\"text-align: right;\">\n      <th></th>\n      <th>chr</th>\n      <th>start</th>\n      <th>end</th>\n      <th>strand</th>\n      <th>class</th>\n      <th>GTExv2</th>\n      <th>TCGAv2</th>\n      <th>SRAv3h</th>\n      <th>RC3-Splice_site</th>\n      <th>RC3-Score</th>\n      <th>...</th>\n      <th>repeat_features_end_site:Satellite repeats</th>\n      <th>repeat_features_end_site:Dust</th>\n      <th>repeat_features_end_site:Tandem repeats</th>\n      <th>repeat_features_end_site:Type I Transposons/LINE</th>\n      <th>repeat_features_end_site:Simple repeats</th>\n      <th>RC3 - Acceptor splice site</th>\n      <th>RC3 - Donor splice site</th>\n      <th>sequence</th>\n      <th>hg38 - Acceptor splice site</th>\n      <th>hg38 - Donor splice site</th>\n    </tr>\n  </thead>\n  <tbody>\n    <tr>\n      <th>0</th>\n      <td>chr1</td>\n      <td>12227</td>\n      <td>12612</td>\n      <td>+</td>\n      <td>1</td>\n      <td>1122:3199</td>\n      <td>583:1460</td>\n      <td>9374:54492</td>\n      <td>GT:AG</td>\n      <td>59151</td>\n      <td>...</td>\n      <td>0</td>\n      <td>0</td>\n      <td>0</td>\n      <td>0</td>\n      <td>0</td>\n      <td>GT</td>\n      <td>AG</td>\n      <td>GTAAGTAGTGCTTGTGCTCATCTCCTTGGCTGTGATACGTGGCCGG...</td>\n      <td>GT</td>\n      <td>AG</td>\n    </tr>\n    <tr>\n      <th>1</th>\n      <td>chr1</td>\n      <td>12721</td>\n      <td>13220</td>\n      <td>+</td>\n      <td>1</td>\n      <td>1791:3198</td>\n      <td>783:1104</td>\n      <td>14048:56719</td>\n      <td>GT:AG</td>\n      <td>61021</td>\n      <td>...</td>\n      <td>0</td>\n      <td>0</td>\n      <td>0</td>\n      <td>0</td>\n      <td>0</td>\n      <td>GT</td>\n      <td>AG</td>\n      <td>GTGAGAGGAGAGTAGACAGTGAGTGGGAGTGGCGTCGCCCCTAGGG...</td>\n      <td>GT</td>\n      <td>AG</td>\n    </tr>\n    <tr>\n      <th>2</th>\n      <td>chr1</td>\n      <td>12057</td>\n      <td>12178</td>\n      <td>+</td>\n      <td>1</td>\n      <td>NaN</td>\n      <td>NaN</td>\n      <td>NaN</td>\n      <td>NaN</td>\n      <td>-1</td>\n      <td>...</td>\n      <td>0</td>\n      <td>0</td>\n      <td>0</td>\n      <td>0</td>\n      <td>0</td>\n      <td>NaN</td>\n      <td>NaN</td>\n      <td>CACTGGAGTGGAGTTTTCCTGTGGAGAGGAGCCATGCCTAGAGTGG...</td>\n      <td>CA</td>\n      <td>GA</td>\n    </tr>\n    <tr>\n      <th>3</th>\n      <td>chr1</td>\n      <td>12697</td>\n      <td>12974</td>\n      <td>+</td>\n      <td>1</td>\n      <td>1:1</td>\n      <td>1:1</td>\n      <td>15:19</td>\n      <td>GT:AG</td>\n      <td>21</td>\n      <td>...</td>\n      <td>0</td>\n      <td>0</td>\n      <td>0</td>\n      <td>0</td>\n      <td>0</td>\n      <td>GT</td>\n      <td>AG</td>\n      <td>GTGAGTGTCCCCAGTGTTGCAGAGGTGAGAGGAGAGTAGACAGTGA...</td>\n      <td>GT</td>\n      <td>AG</td>\n    </tr>\n    <tr>\n      <th>4</th>\n      <td>chr1</td>\n      <td>13052</td>\n      <td>13220</td>\n      <td>+</td>\n      <td>1</td>\n      <td>22:24</td>\n      <td>17:18</td>\n      <td>433:484</td>\n      <td>GC:AG</td>\n      <td>526</td>\n      <td>...</td>\n      <td>0</td>\n      <td>0</td>\n      <td>0</td>\n      <td>0</td>\n      <td>0</td>\n      <td>GC</td>\n      <td>AG</td>\n      <td>GCAAGCCTGGCTGCCTCCAGCTGGGTCGACAGACAGGGGCTGGAGA...</td>\n      <td>GC</td>\n      <td>AG</td>\n    </tr>\n    <tr>\n      <th>...</th>\n      <td>...</td>\n      <td>...</td>\n      <td>...</td>\n      <td>...</td>\n      <td>...</td>\n      <td>...</td>\n      <td>...</td>\n      <td>...</td>\n      <td>...</td>\n      <td>...</td>\n      <td>...</td>\n      <td>...</td>\n      <td>...</td>\n      <td>...</td>\n      <td>...</td>\n      <td>...</td>\n      <td>...</td>\n      <td>...</td>\n      <td>...</td>\n      <td>...</td>\n      <td>...</td>\n    </tr>\n    <tr>\n      <th>402852</th>\n      <td>chrX</td>\n      <td>151403679</td>\n      <td>151404937</td>\n      <td>+</td>\n      <td>0</td>\n      <td>NaN</td>\n      <td>NaN</td>\n      <td>NaN</td>\n      <td>NaN</td>\n      <td>-1</td>\n      <td>...</td>\n      <td>0</td>\n      <td>0</td>\n      <td>0</td>\n      <td>0</td>\n      <td>0</td>\n      <td>NaN</td>\n      <td>NaN</td>\n      <td>GCTTTAATGATCACTGTTCCTATTGGGTTATATTTCACAACTAAAT...</td>\n      <td>GC</td>\n      <td>AG</td>\n    </tr>\n    <tr>\n      <th>402853</th>\n      <td>chrX</td>\n      <td>151409210</td>\n      <td>151456968</td>\n      <td>+</td>\n      <td>0</td>\n      <td>NaN</td>\n      <td>NaN</td>\n      <td>NaN</td>\n      <td>NaN</td>\n      <td>-1</td>\n      <td>...</td>\n      <td>0</td>\n      <td>0</td>\n      <td>1</td>\n      <td>0</td>\n      <td>0</td>\n      <td>NaN</td>\n      <td>NaN</td>\n      <td>GCTTGAGTTCTTTAGCTACTTGAATCCGATTTACTTCTGTTAAGTG...</td>\n      <td>GC</td>\n      <td>AG</td>\n    </tr>\n    <tr>\n      <th>402854</th>\n      <td>chrX</td>\n      <td>153906577</td>\n      <td>153906694</td>\n      <td>-</td>\n      <td>0</td>\n      <td>NaN</td>\n      <td>NaN</td>\n      <td>NaN</td>\n      <td>NaN</td>\n      <td>-1</td>\n      <td>...</td>\n      <td>0</td>\n      <td>0</td>\n      <td>0</td>\n      <td>0</td>\n      <td>0</td>\n      <td>NaN</td>\n      <td>NaN</td>\n      <td>GCGGTGGTGCAGGACTCATCTTGGGGACCCAGGCTGGGTGGGGTGC...</td>\n      <td>GC</td>\n      <td>AG</td>\n    </tr>\n    <tr>\n      <th>402855</th>\n      <td>chrX</td>\n      <td>153906409</td>\n      <td>153906520</td>\n      <td>-</td>\n      <td>0</td>\n      <td>NaN</td>\n      <td>NaN</td>\n      <td>NaN</td>\n      <td>NaN</td>\n      <td>-1</td>\n      <td>...</td>\n      <td>0</td>\n      <td>0</td>\n      <td>0</td>\n      <td>0</td>\n      <td>0</td>\n      <td>NaN</td>\n      <td>NaN</td>\n      <td>GTGGAGGTGGAGGATCTAGGTTGGGTTCAGGATGGCTGGTGGGGCA...</td>\n      <td>GT</td>\n      <td>AG</td>\n    </tr>\n    <tr>\n      <th>402856</th>\n      <td>chrY</td>\n      <td>20579691</td>\n      <td>20582591</td>\n      <td>+</td>\n      <td>0</td>\n      <td>222:238</td>\n      <td>53:60</td>\n      <td>961:1642</td>\n      <td>GT:AG</td>\n      <td>1940</td>\n      <td>...</td>\n      <td>0</td>\n      <td>0</td>\n      <td>0</td>\n      <td>0</td>\n      <td>0</td>\n      <td>GT</td>\n      <td>AG</td>\n      <td>GTAAGACTTTTCAACTTAGGCTTCTTTCATTAATATGTTTTGTTGT...</td>\n      <td>GT</td>\n      <td>AG</td>\n    </tr>\n  </tbody>\n</table>\n<p>402857 rows × 39 columns</p>\n</div>"
     },
     "execution_count": 15,
     "metadata": {},
     "output_type": "execute_result"
    }
   ],
   "source": [
    "df[\"hg38 - Acceptor splice site\"] = df[\"sequence\"].str[:2]\n",
    "df[\"hg38 - Donor splice site\"] = df[\"sequence\"].str[-2::]\n",
    "df"
   ],
   "metadata": {
    "collapsed": false
   }
  },
  {
   "cell_type": "code",
   "execution_count": 17,
   "outputs": [],
   "source": [
    "df = df.drop(columns=[\"sequence-parallel\", \"RC3 - Acceptor splice site\", \"RC3 - Donor splice site\"])"
   ],
   "metadata": {
    "collapsed": false
   }
  },
  {
   "cell_type": "code",
   "execution_count": 18,
   "outputs": [],
   "source": [
    "df.to_csv(\"data/4.2-hg38-paired-introns.tsv\", sep=\"\\t\", index=False)"
   ],
   "metadata": {
    "collapsed": false
   }
  },
  {
   "cell_type": "markdown",
   "source": [
    "# Experimental Test (Ignore)"
   ],
   "metadata": {
    "collapsed": false
   }
  },
  {
   "cell_type": "code",
   "execution_count": null,
   "outputs": [],
   "source": [
    "# seq = str(coords_to_dna(int(150677660)+1, int(150677813), \"chr7\"))  # rev strand\n",
    "# seq = Seq(seq)  # Encode the seqeunce into\n",
    "# seq = seq.reverse_complement()\n",
    "# seq"
   ],
   "metadata": {
    "collapsed": false
   }
  },
  {
   "cell_type": "code",
   "execution_count": null,
   "outputs": [],
   "source": [],
   "metadata": {
    "collapsed": false
   }
  },
  {
   "cell_type": "code",
   "execution_count": null,
   "outputs": [],
   "source": [],
   "metadata": {
    "collapsed": false
   }
  }
 ],
 "metadata": {
  "kernelspec": {
   "display_name": "Python 3",
   "language": "python",
   "name": "python3"
  },
  "language_info": {
   "codemirror_mode": {
    "name": "ipython",
    "version": 2
   },
   "file_extension": ".py",
   "mimetype": "text/x-python",
   "name": "python",
   "nbconvert_exporter": "python",
   "pygments_lexer": "ipython2",
   "version": "2.7.6"
  }
 },
 "nbformat": 4,
 "nbformat_minor": 0
}
