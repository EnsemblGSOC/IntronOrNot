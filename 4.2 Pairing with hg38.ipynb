{
 "cells": [
  {
   "cell_type": "code",
   "execution_count": 1,
   "metadata": {
    "collapsed": true
   },
   "outputs": [],
   "source": [
    "import pandas as pd\n",
    "from pyfaidx import Fasta\n",
    "from Bio.Seq import Seq\n",
    "from pandarallel import pandarallel"
   ]
  },
  {
   "cell_type": "code",
   "execution_count": 2,
   "outputs": [
    {
     "data": {
      "text/plain": "         chr     start       end strand  class     GTExv2    TCGAv2  \\\n0       chr1     12227     12612      +      1  1122:3199  583:1460   \n1       chr1     12721     13220      +      1  1791:3198  783:1104   \n2       chr1     12057     12178      +      1        NaN       NaN   \n3       chr1     12697     12974      +      1        1:1       1:1   \n4       chr1     13052     13220      +      1      22:24     17:18   \n...      ...       ...       ...    ...    ...        ...       ...   \n449562  chrY  25986748  25987810      +      0    297:602    93:135   \n449563  chrY  26335719  26337372      -      0        NaN       NaN   \n449564  chrY  26337521  26354287      -      0        2:3       0:0   \n449565  chrY  56954656  56960285      +      0        NaN       NaN   \n449566  chrY  57210792  57211557      +      0        NaN       NaN   \n\n             SRAv3h RC3-Splice_site  RC3-Score  ...  \\\n0        9374:54492           GT:AG      59151  ...   \n1       14048:56719           GT:AG      61021  ...   \n2               NaN             NaN         -1  ...   \n3             15:19           GT:AG         21  ...   \n4           433:484           GC:AG        526  ...   \n...             ...             ...        ...  ...   \n449562     708:1741           GT:AG       2478  ...   \n449563          NaN             NaN         -1  ...   \n449564        64:89           GT:AG         92  ...   \n449565          NaN             NaN         -1  ...   \n449566          NaN             NaN         -1  ...   \n\n        repeat_features_end_site:Centromere  \\\n0                                         0   \n1                                         0   \n2                                         0   \n3                                         0   \n4                                         0   \n...                                     ...   \n449562                                    0   \n449563                                    0   \n449564                                    0   \n449565                                    0   \n449566                                    0   \n\n        repeat_features_end_site:RNA repeats  \\\n0                                          0   \n1                                          0   \n2                                          0   \n3                                          0   \n4                                          0   \n...                                      ...   \n449562                                     0   \n449563                                     0   \n449564                                     0   \n449565                                     0   \n449566                                     0   \n\n        repeat_features_end_site:Unknown  \\\n0                                      0   \n1                                      0   \n2                                      0   \n3                                      0   \n4                                      0   \n...                                  ...   \n449562                                 0   \n449563                                 0   \n449564                                 0   \n449565                                 0   \n449566                                 0   \n\n        repeat_features_end_site:Type I Transposons/LINE  \\\n0                                                      0   \n1                                                      0   \n2                                                      0   \n3                                                      0   \n4                                                      0   \n...                                                  ...   \n449562                                                 0   \n449563                                                 0   \n449564                                                 0   \n449565                                                 0   \n449566                                                 0   \n\n        repeat_features_end_site:Type II Transposons  \\\n0                                                  0   \n1                                                  0   \n2                                                  0   \n3                                                  0   \n4                                                  0   \n...                                              ...   \n449562                                             0   \n449563                                             0   \n449564                                             0   \n449565                                             0   \n449566                                             0   \n\n        repeat_features_end_site:Low complexity regions  \\\n0                                                     0   \n1                                                     0   \n2                                                     0   \n3                                                     0   \n4                                                     0   \n...                                                 ...   \n449562                                                0   \n449563                                                0   \n449564                                                0   \n449565                                                0   \n449566                                                0   \n\n        repeat_features_end_site:LTRs  \\\n0                                   0   \n1                                   0   \n2                                   0   \n3                                   0   \n4                                   0   \n...                               ...   \n449562                              0   \n449563                              0   \n449564                              0   \n449565                              0   \n449566                              0   \n\n        repeat_features_end_site:Type I Transposons/SINE  \\\n0                                                      0   \n1                                                      0   \n2                                                      0   \n3                                                      0   \n4                                                      0   \n...                                                  ...   \n449562                                                 0   \n449563                                                 0   \n449564                                                 0   \n449565                                                 0   \n449566                                                 0   \n\n        RC3 - Acceptor splice site  RC3 - Donor splice site  \n0                               GT                       AG  \n1                               GT                       AG  \n2                              NaN                      NaN  \n3                               GT                       AG  \n4                               GC                       AG  \n...                            ...                      ...  \n449562                          GT                       AG  \n449563                         NaN                      NaN  \n449564                          GT                       AG  \n449565                         NaN                      NaN  \n449566                         NaN                      NaN  \n\n[449567 rows x 36 columns]",
      "text/html": "<div>\n<style scoped>\n    .dataframe tbody tr th:only-of-type {\n        vertical-align: middle;\n    }\n\n    .dataframe tbody tr th {\n        vertical-align: top;\n    }\n\n    .dataframe thead th {\n        text-align: right;\n    }\n</style>\n<table border=\"1\" class=\"dataframe\">\n  <thead>\n    <tr style=\"text-align: right;\">\n      <th></th>\n      <th>chr</th>\n      <th>start</th>\n      <th>end</th>\n      <th>strand</th>\n      <th>class</th>\n      <th>GTExv2</th>\n      <th>TCGAv2</th>\n      <th>SRAv3h</th>\n      <th>RC3-Splice_site</th>\n      <th>RC3-Score</th>\n      <th>...</th>\n      <th>repeat_features_end_site:Centromere</th>\n      <th>repeat_features_end_site:RNA repeats</th>\n      <th>repeat_features_end_site:Unknown</th>\n      <th>repeat_features_end_site:Type I Transposons/LINE</th>\n      <th>repeat_features_end_site:Type II Transposons</th>\n      <th>repeat_features_end_site:Low complexity regions</th>\n      <th>repeat_features_end_site:LTRs</th>\n      <th>repeat_features_end_site:Type I Transposons/SINE</th>\n      <th>RC3 - Acceptor splice site</th>\n      <th>RC3 - Donor splice site</th>\n    </tr>\n  </thead>\n  <tbody>\n    <tr>\n      <th>0</th>\n      <td>chr1</td>\n      <td>12227</td>\n      <td>12612</td>\n      <td>+</td>\n      <td>1</td>\n      <td>1122:3199</td>\n      <td>583:1460</td>\n      <td>9374:54492</td>\n      <td>GT:AG</td>\n      <td>59151</td>\n      <td>...</td>\n      <td>0</td>\n      <td>0</td>\n      <td>0</td>\n      <td>0</td>\n      <td>0</td>\n      <td>0</td>\n      <td>0</td>\n      <td>0</td>\n      <td>GT</td>\n      <td>AG</td>\n    </tr>\n    <tr>\n      <th>1</th>\n      <td>chr1</td>\n      <td>12721</td>\n      <td>13220</td>\n      <td>+</td>\n      <td>1</td>\n      <td>1791:3198</td>\n      <td>783:1104</td>\n      <td>14048:56719</td>\n      <td>GT:AG</td>\n      <td>61021</td>\n      <td>...</td>\n      <td>0</td>\n      <td>0</td>\n      <td>0</td>\n      <td>0</td>\n      <td>0</td>\n      <td>0</td>\n      <td>0</td>\n      <td>0</td>\n      <td>GT</td>\n      <td>AG</td>\n    </tr>\n    <tr>\n      <th>2</th>\n      <td>chr1</td>\n      <td>12057</td>\n      <td>12178</td>\n      <td>+</td>\n      <td>1</td>\n      <td>NaN</td>\n      <td>NaN</td>\n      <td>NaN</td>\n      <td>NaN</td>\n      <td>-1</td>\n      <td>...</td>\n      <td>0</td>\n      <td>0</td>\n      <td>0</td>\n      <td>0</td>\n      <td>0</td>\n      <td>0</td>\n      <td>0</td>\n      <td>0</td>\n      <td>NaN</td>\n      <td>NaN</td>\n    </tr>\n    <tr>\n      <th>3</th>\n      <td>chr1</td>\n      <td>12697</td>\n      <td>12974</td>\n      <td>+</td>\n      <td>1</td>\n      <td>1:1</td>\n      <td>1:1</td>\n      <td>15:19</td>\n      <td>GT:AG</td>\n      <td>21</td>\n      <td>...</td>\n      <td>0</td>\n      <td>0</td>\n      <td>0</td>\n      <td>0</td>\n      <td>0</td>\n      <td>0</td>\n      <td>0</td>\n      <td>0</td>\n      <td>GT</td>\n      <td>AG</td>\n    </tr>\n    <tr>\n      <th>4</th>\n      <td>chr1</td>\n      <td>13052</td>\n      <td>13220</td>\n      <td>+</td>\n      <td>1</td>\n      <td>22:24</td>\n      <td>17:18</td>\n      <td>433:484</td>\n      <td>GC:AG</td>\n      <td>526</td>\n      <td>...</td>\n      <td>0</td>\n      <td>0</td>\n      <td>0</td>\n      <td>0</td>\n      <td>0</td>\n      <td>0</td>\n      <td>0</td>\n      <td>0</td>\n      <td>GC</td>\n      <td>AG</td>\n    </tr>\n    <tr>\n      <th>...</th>\n      <td>...</td>\n      <td>...</td>\n      <td>...</td>\n      <td>...</td>\n      <td>...</td>\n      <td>...</td>\n      <td>...</td>\n      <td>...</td>\n      <td>...</td>\n      <td>...</td>\n      <td>...</td>\n      <td>...</td>\n      <td>...</td>\n      <td>...</td>\n      <td>...</td>\n      <td>...</td>\n      <td>...</td>\n      <td>...</td>\n      <td>...</td>\n      <td>...</td>\n      <td>...</td>\n    </tr>\n    <tr>\n      <th>449562</th>\n      <td>chrY</td>\n      <td>25986748</td>\n      <td>25987810</td>\n      <td>+</td>\n      <td>0</td>\n      <td>297:602</td>\n      <td>93:135</td>\n      <td>708:1741</td>\n      <td>GT:AG</td>\n      <td>2478</td>\n      <td>...</td>\n      <td>0</td>\n      <td>0</td>\n      <td>0</td>\n      <td>0</td>\n      <td>0</td>\n      <td>0</td>\n      <td>0</td>\n      <td>0</td>\n      <td>GT</td>\n      <td>AG</td>\n    </tr>\n    <tr>\n      <th>449563</th>\n      <td>chrY</td>\n      <td>26335719</td>\n      <td>26337372</td>\n      <td>-</td>\n      <td>0</td>\n      <td>NaN</td>\n      <td>NaN</td>\n      <td>NaN</td>\n      <td>NaN</td>\n      <td>-1</td>\n      <td>...</td>\n      <td>0</td>\n      <td>0</td>\n      <td>0</td>\n      <td>0</td>\n      <td>0</td>\n      <td>0</td>\n      <td>0</td>\n      <td>0</td>\n      <td>NaN</td>\n      <td>NaN</td>\n    </tr>\n    <tr>\n      <th>449564</th>\n      <td>chrY</td>\n      <td>26337521</td>\n      <td>26354287</td>\n      <td>-</td>\n      <td>0</td>\n      <td>2:3</td>\n      <td>0:0</td>\n      <td>64:89</td>\n      <td>GT:AG</td>\n      <td>92</td>\n      <td>...</td>\n      <td>0</td>\n      <td>0</td>\n      <td>0</td>\n      <td>0</td>\n      <td>0</td>\n      <td>0</td>\n      <td>0</td>\n      <td>0</td>\n      <td>GT</td>\n      <td>AG</td>\n    </tr>\n    <tr>\n      <th>449565</th>\n      <td>chrY</td>\n      <td>56954656</td>\n      <td>56960285</td>\n      <td>+</td>\n      <td>0</td>\n      <td>NaN</td>\n      <td>NaN</td>\n      <td>NaN</td>\n      <td>NaN</td>\n      <td>-1</td>\n      <td>...</td>\n      <td>0</td>\n      <td>0</td>\n      <td>0</td>\n      <td>0</td>\n      <td>0</td>\n      <td>0</td>\n      <td>0</td>\n      <td>0</td>\n      <td>NaN</td>\n      <td>NaN</td>\n    </tr>\n    <tr>\n      <th>449566</th>\n      <td>chrY</td>\n      <td>57210792</td>\n      <td>57211557</td>\n      <td>+</td>\n      <td>0</td>\n      <td>NaN</td>\n      <td>NaN</td>\n      <td>NaN</td>\n      <td>NaN</td>\n      <td>-1</td>\n      <td>...</td>\n      <td>0</td>\n      <td>0</td>\n      <td>0</td>\n      <td>0</td>\n      <td>0</td>\n      <td>0</td>\n      <td>0</td>\n      <td>0</td>\n      <td>NaN</td>\n      <td>NaN</td>\n    </tr>\n  </tbody>\n</table>\n<p>449567 rows × 36 columns</p>\n</div>"
     },
     "execution_count": 2,
     "metadata": {},
     "output_type": "execute_result"
    }
   ],
   "source": [
    "df = pd.read_csv(\"data/4-featurized_introns_data.tsv\", sep=\"\\t\")\n",
    "df"
   ],
   "metadata": {
    "collapsed": false
   }
  },
  {
   "cell_type": "code",
   "execution_count": 3,
   "outputs": [],
   "source": [
    "# This is downloaded in https://hgdownload.soe.ucsc.edu/goldenPath/hg38/bigZips/\n",
    "genome = Fasta('release-109-hg38/hg38.fa', sequence_always_upper=True)\n",
    "\n",
    "# A simple lambda function for matching the chromosome, start and end\n",
    "coords_to_dna = lambda start_c, end_c, chr_c: genome[chr_c][start_c-1:end_c]"
   ],
   "metadata": {
    "collapsed": false
   }
  },
  {
   "cell_type": "code",
   "execution_count": 4,
   "outputs": [],
   "source": [
    "seq_lst = []\n",
    "\n",
    "def find_sequence(row):\n",
    "    chromosome = row[\"chr\"]\n",
    "    start = row[\"start\"]\n",
    "    stop = row[\"end\"]\n",
    "    strand = row[\"strand\"]\n",
    "\n",
    "\n",
    "    # Send the API request and get the response\n",
    "    seq = str(coords_to_dna(int(start)+1, int(stop), chromosome))\n",
    "\n",
    "    if strand == \"-\": #strand\n",
    "        seq = Seq(seq)  # Encode the seqeunce into\n",
    "        seq = seq.reverse_complement()\n",
    "\n",
    "\n",
    "    return str(seq)"
   ],
   "metadata": {
    "collapsed": false
   }
  },
  {
   "cell_type": "code",
   "execution_count": null,
   "outputs": [],
   "source": [
    "# df_temp = df.copy().head(5000)\n",
    "# df_temp[\"sequence\"] = df_temp.apply(find_sequence, axis=1)\n",
    "# df_temp"
   ],
   "metadata": {
    "collapsed": false
   }
  },
  {
   "cell_type": "code",
   "execution_count": 5,
   "outputs": [],
   "source": [
    "df[\"sequence\"] = df.apply(find_sequence, axis=1)"
   ],
   "metadata": {
    "collapsed": false
   }
  },
  {
   "cell_type": "code",
   "execution_count": 6,
   "outputs": [
    {
     "data": {
      "text/plain": "0         GTAAGTAGTGCTTGTGCTCATCTCCTTGGCTGTGATACGTGGCCGG...\n1         GTGAGAGGAGAGTAGACAGTGAGTGGGAGTGGCGTCGCCCCTAGGG...\n2         CACTGGAGTGGAGTTTTCCTGTGGAGAGGAGCCATGCCTAGAGTGG...\n3         GTGAGTGTCCCCAGTGTTGCAGAGGTGAGAGGAGAGTAGACAGTGA...\n4         GCAAGCCTGGCTGCCTCCAGCTGGGTCGACAGACAGGGGCTGGAGA...\n                                ...                        \n449562    GTAACAGAGTGTTTTACAGAGTAGACATTTCAACTTTCAATAAAGT...\n449563    GTGAGCCTGAACCTCTAAAAGAACAACGAGATTGGTGGCTGGGTCT...\n449564    GTGAGTGAGTCTCTGTGTGTGTAGCTTTGCAGTATTTGTAGGAATG...\n449565    GTAAGCCATAGAAATTAGCTCTTTAAAAACCCAGAATTCTTTCTAT...\n449566    GTGAGCGGGCCCTGGAGCCTGCGGTCGGAGGGCCTTGGGCAAGATC...\nName: sequence, Length: 449567, dtype: object"
     },
     "execution_count": 6,
     "metadata": {},
     "output_type": "execute_result"
    }
   ],
   "source": [
    "df[\"sequence\"]"
   ],
   "metadata": {
    "collapsed": false
   }
  },
  {
   "cell_type": "markdown",
   "source": [],
   "metadata": {
    "collapsed": false
   }
  },
  {
   "cell_type": "code",
   "execution_count": 7,
   "outputs": [
    {
     "data": {
      "text/plain": "         chr     start       end strand  class     GTExv2    TCGAv2  \\\n0       chr1     12227     12612      +      1  1122:3199  583:1460   \n1       chr1     12721     13220      +      1  1791:3198  783:1104   \n2       chr1     12057     12178      +      1        NaN       NaN   \n3       chr1     12697     12974      +      1        1:1       1:1   \n4       chr1     13052     13220      +      1      22:24     17:18   \n...      ...       ...       ...    ...    ...        ...       ...   \n449562  chrY  25986748  25987810      +      0    297:602    93:135   \n449563  chrY  26335719  26337372      -      0        NaN       NaN   \n449564  chrY  26337521  26354287      -      0        2:3       0:0   \n449565  chrY  56954656  56960285      +      0        NaN       NaN   \n449566  chrY  57210792  57211557      +      0        NaN       NaN   \n\n             SRAv3h RC3-Splice_site  RC3-Score  ...  \\\n0        9374:54492           GT:AG      59151  ...   \n1       14048:56719           GT:AG      61021  ...   \n2               NaN             NaN         -1  ...   \n3             15:19           GT:AG         21  ...   \n4           433:484           GC:AG        526  ...   \n...             ...             ...        ...  ...   \n449562     708:1741           GT:AG       2478  ...   \n449563          NaN             NaN         -1  ...   \n449564        64:89           GT:AG         92  ...   \n449565          NaN             NaN         -1  ...   \n449566          NaN             NaN         -1  ...   \n\n        repeat_features_end_site:Type I Transposons/LINE  \\\n0                                                      0   \n1                                                      0   \n2                                                      0   \n3                                                      0   \n4                                                      0   \n...                                                  ...   \n449562                                                 0   \n449563                                                 0   \n449564                                                 0   \n449565                                                 0   \n449566                                                 0   \n\n        repeat_features_end_site:Type II Transposons  \\\n0                                                  0   \n1                                                  0   \n2                                                  0   \n3                                                  0   \n4                                                  0   \n...                                              ...   \n449562                                             0   \n449563                                             0   \n449564                                             0   \n449565                                             0   \n449566                                             0   \n\n        repeat_features_end_site:Low complexity regions  \\\n0                                                     0   \n1                                                     0   \n2                                                     0   \n3                                                     0   \n4                                                     0   \n...                                                 ...   \n449562                                                0   \n449563                                                0   \n449564                                                0   \n449565                                                0   \n449566                                                0   \n\n        repeat_features_end_site:LTRs  \\\n0                                   0   \n1                                   0   \n2                                   0   \n3                                   0   \n4                                   0   \n...                               ...   \n449562                              0   \n449563                              0   \n449564                              0   \n449565                              0   \n449566                              0   \n\n        repeat_features_end_site:Type I Transposons/SINE  \\\n0                                                      0   \n1                                                      0   \n2                                                      0   \n3                                                      0   \n4                                                      0   \n...                                                  ...   \n449562                                                 0   \n449563                                                 0   \n449564                                                 0   \n449565                                                 0   \n449566                                                 0   \n\n        RC3 - Acceptor splice site  RC3 - Donor splice site  \\\n0                               GT                       AG   \n1                               GT                       AG   \n2                              NaN                      NaN   \n3                               GT                       AG   \n4                               GC                       AG   \n...                            ...                      ...   \n449562                          GT                       AG   \n449563                         NaN                      NaN   \n449564                          GT                       AG   \n449565                         NaN                      NaN   \n449566                         NaN                      NaN   \n\n                                                 sequence  \\\n0       GTAAGTAGTGCTTGTGCTCATCTCCTTGGCTGTGATACGTGGCCGG...   \n1       GTGAGAGGAGAGTAGACAGTGAGTGGGAGTGGCGTCGCCCCTAGGG...   \n2       CACTGGAGTGGAGTTTTCCTGTGGAGAGGAGCCATGCCTAGAGTGG...   \n3       GTGAGTGTCCCCAGTGTTGCAGAGGTGAGAGGAGAGTAGACAGTGA...   \n4       GCAAGCCTGGCTGCCTCCAGCTGGGTCGACAGACAGGGGCTGGAGA...   \n...                                                   ...   \n449562  GTAACAGAGTGTTTTACAGAGTAGACATTTCAACTTTCAATAAAGT...   \n449563  GTGAGCCTGAACCTCTAAAAGAACAACGAGATTGGTGGCTGGGTCT...   \n449564  GTGAGTGAGTCTCTGTGTGTGTAGCTTTGCAGTATTTGTAGGAATG...   \n449565  GTAAGCCATAGAAATTAGCTCTTTAAAAACCCAGAATTCTTTCTAT...   \n449566  GTGAGCGGGCCCTGGAGCCTGCGGTCGGAGGGCCTTGGGCAAGATC...   \n\n        hg38 - Acceptor splice site  hg38 - Donor splice site  \n0                                GT                        AG  \n1                                GT                        AG  \n2                                CA                        GA  \n3                                GT                        AG  \n4                                GC                        AG  \n...                             ...                       ...  \n449562                           GT                        AG  \n449563                           GT                        AG  \n449564                           GT                        AG  \n449565                           GT                        AG  \n449566                           GT                        AG  \n\n[449567 rows x 39 columns]",
      "text/html": "<div>\n<style scoped>\n    .dataframe tbody tr th:only-of-type {\n        vertical-align: middle;\n    }\n\n    .dataframe tbody tr th {\n        vertical-align: top;\n    }\n\n    .dataframe thead th {\n        text-align: right;\n    }\n</style>\n<table border=\"1\" class=\"dataframe\">\n  <thead>\n    <tr style=\"text-align: right;\">\n      <th></th>\n      <th>chr</th>\n      <th>start</th>\n      <th>end</th>\n      <th>strand</th>\n      <th>class</th>\n      <th>GTExv2</th>\n      <th>TCGAv2</th>\n      <th>SRAv3h</th>\n      <th>RC3-Splice_site</th>\n      <th>RC3-Score</th>\n      <th>...</th>\n      <th>repeat_features_end_site:Type I Transposons/LINE</th>\n      <th>repeat_features_end_site:Type II Transposons</th>\n      <th>repeat_features_end_site:Low complexity regions</th>\n      <th>repeat_features_end_site:LTRs</th>\n      <th>repeat_features_end_site:Type I Transposons/SINE</th>\n      <th>RC3 - Acceptor splice site</th>\n      <th>RC3 - Donor splice site</th>\n      <th>sequence</th>\n      <th>hg38 - Acceptor splice site</th>\n      <th>hg38 - Donor splice site</th>\n    </tr>\n  </thead>\n  <tbody>\n    <tr>\n      <th>0</th>\n      <td>chr1</td>\n      <td>12227</td>\n      <td>12612</td>\n      <td>+</td>\n      <td>1</td>\n      <td>1122:3199</td>\n      <td>583:1460</td>\n      <td>9374:54492</td>\n      <td>GT:AG</td>\n      <td>59151</td>\n      <td>...</td>\n      <td>0</td>\n      <td>0</td>\n      <td>0</td>\n      <td>0</td>\n      <td>0</td>\n      <td>GT</td>\n      <td>AG</td>\n      <td>GTAAGTAGTGCTTGTGCTCATCTCCTTGGCTGTGATACGTGGCCGG...</td>\n      <td>GT</td>\n      <td>AG</td>\n    </tr>\n    <tr>\n      <th>1</th>\n      <td>chr1</td>\n      <td>12721</td>\n      <td>13220</td>\n      <td>+</td>\n      <td>1</td>\n      <td>1791:3198</td>\n      <td>783:1104</td>\n      <td>14048:56719</td>\n      <td>GT:AG</td>\n      <td>61021</td>\n      <td>...</td>\n      <td>0</td>\n      <td>0</td>\n      <td>0</td>\n      <td>0</td>\n      <td>0</td>\n      <td>GT</td>\n      <td>AG</td>\n      <td>GTGAGAGGAGAGTAGACAGTGAGTGGGAGTGGCGTCGCCCCTAGGG...</td>\n      <td>GT</td>\n      <td>AG</td>\n    </tr>\n    <tr>\n      <th>2</th>\n      <td>chr1</td>\n      <td>12057</td>\n      <td>12178</td>\n      <td>+</td>\n      <td>1</td>\n      <td>NaN</td>\n      <td>NaN</td>\n      <td>NaN</td>\n      <td>NaN</td>\n      <td>-1</td>\n      <td>...</td>\n      <td>0</td>\n      <td>0</td>\n      <td>0</td>\n      <td>0</td>\n      <td>0</td>\n      <td>NaN</td>\n      <td>NaN</td>\n      <td>CACTGGAGTGGAGTTTTCCTGTGGAGAGGAGCCATGCCTAGAGTGG...</td>\n      <td>CA</td>\n      <td>GA</td>\n    </tr>\n    <tr>\n      <th>3</th>\n      <td>chr1</td>\n      <td>12697</td>\n      <td>12974</td>\n      <td>+</td>\n      <td>1</td>\n      <td>1:1</td>\n      <td>1:1</td>\n      <td>15:19</td>\n      <td>GT:AG</td>\n      <td>21</td>\n      <td>...</td>\n      <td>0</td>\n      <td>0</td>\n      <td>0</td>\n      <td>0</td>\n      <td>0</td>\n      <td>GT</td>\n      <td>AG</td>\n      <td>GTGAGTGTCCCCAGTGTTGCAGAGGTGAGAGGAGAGTAGACAGTGA...</td>\n      <td>GT</td>\n      <td>AG</td>\n    </tr>\n    <tr>\n      <th>4</th>\n      <td>chr1</td>\n      <td>13052</td>\n      <td>13220</td>\n      <td>+</td>\n      <td>1</td>\n      <td>22:24</td>\n      <td>17:18</td>\n      <td>433:484</td>\n      <td>GC:AG</td>\n      <td>526</td>\n      <td>...</td>\n      <td>0</td>\n      <td>0</td>\n      <td>0</td>\n      <td>0</td>\n      <td>0</td>\n      <td>GC</td>\n      <td>AG</td>\n      <td>GCAAGCCTGGCTGCCTCCAGCTGGGTCGACAGACAGGGGCTGGAGA...</td>\n      <td>GC</td>\n      <td>AG</td>\n    </tr>\n    <tr>\n      <th>...</th>\n      <td>...</td>\n      <td>...</td>\n      <td>...</td>\n      <td>...</td>\n      <td>...</td>\n      <td>...</td>\n      <td>...</td>\n      <td>...</td>\n      <td>...</td>\n      <td>...</td>\n      <td>...</td>\n      <td>...</td>\n      <td>...</td>\n      <td>...</td>\n      <td>...</td>\n      <td>...</td>\n      <td>...</td>\n      <td>...</td>\n      <td>...</td>\n      <td>...</td>\n      <td>...</td>\n    </tr>\n    <tr>\n      <th>449562</th>\n      <td>chrY</td>\n      <td>25986748</td>\n      <td>25987810</td>\n      <td>+</td>\n      <td>0</td>\n      <td>297:602</td>\n      <td>93:135</td>\n      <td>708:1741</td>\n      <td>GT:AG</td>\n      <td>2478</td>\n      <td>...</td>\n      <td>0</td>\n      <td>0</td>\n      <td>0</td>\n      <td>0</td>\n      <td>0</td>\n      <td>GT</td>\n      <td>AG</td>\n      <td>GTAACAGAGTGTTTTACAGAGTAGACATTTCAACTTTCAATAAAGT...</td>\n      <td>GT</td>\n      <td>AG</td>\n    </tr>\n    <tr>\n      <th>449563</th>\n      <td>chrY</td>\n      <td>26335719</td>\n      <td>26337372</td>\n      <td>-</td>\n      <td>0</td>\n      <td>NaN</td>\n      <td>NaN</td>\n      <td>NaN</td>\n      <td>NaN</td>\n      <td>-1</td>\n      <td>...</td>\n      <td>0</td>\n      <td>0</td>\n      <td>0</td>\n      <td>0</td>\n      <td>0</td>\n      <td>NaN</td>\n      <td>NaN</td>\n      <td>GTGAGCCTGAACCTCTAAAAGAACAACGAGATTGGTGGCTGGGTCT...</td>\n      <td>GT</td>\n      <td>AG</td>\n    </tr>\n    <tr>\n      <th>449564</th>\n      <td>chrY</td>\n      <td>26337521</td>\n      <td>26354287</td>\n      <td>-</td>\n      <td>0</td>\n      <td>2:3</td>\n      <td>0:0</td>\n      <td>64:89</td>\n      <td>GT:AG</td>\n      <td>92</td>\n      <td>...</td>\n      <td>0</td>\n      <td>0</td>\n      <td>0</td>\n      <td>0</td>\n      <td>0</td>\n      <td>GT</td>\n      <td>AG</td>\n      <td>GTGAGTGAGTCTCTGTGTGTGTAGCTTTGCAGTATTTGTAGGAATG...</td>\n      <td>GT</td>\n      <td>AG</td>\n    </tr>\n    <tr>\n      <th>449565</th>\n      <td>chrY</td>\n      <td>56954656</td>\n      <td>56960285</td>\n      <td>+</td>\n      <td>0</td>\n      <td>NaN</td>\n      <td>NaN</td>\n      <td>NaN</td>\n      <td>NaN</td>\n      <td>-1</td>\n      <td>...</td>\n      <td>0</td>\n      <td>0</td>\n      <td>0</td>\n      <td>0</td>\n      <td>0</td>\n      <td>NaN</td>\n      <td>NaN</td>\n      <td>GTAAGCCATAGAAATTAGCTCTTTAAAAACCCAGAATTCTTTCTAT...</td>\n      <td>GT</td>\n      <td>AG</td>\n    </tr>\n    <tr>\n      <th>449566</th>\n      <td>chrY</td>\n      <td>57210792</td>\n      <td>57211557</td>\n      <td>+</td>\n      <td>0</td>\n      <td>NaN</td>\n      <td>NaN</td>\n      <td>NaN</td>\n      <td>NaN</td>\n      <td>-1</td>\n      <td>...</td>\n      <td>0</td>\n      <td>0</td>\n      <td>0</td>\n      <td>0</td>\n      <td>0</td>\n      <td>NaN</td>\n      <td>NaN</td>\n      <td>GTGAGCGGGCCCTGGAGCCTGCGGTCGGAGGGCCTTGGGCAAGATC...</td>\n      <td>GT</td>\n      <td>AG</td>\n    </tr>\n  </tbody>\n</table>\n<p>449567 rows × 39 columns</p>\n</div>"
     },
     "execution_count": 7,
     "metadata": {},
     "output_type": "execute_result"
    }
   ],
   "source": [
    "df[\"hg38 - Acceptor splice site\"] = df[\"sequence\"].str[:2]\n",
    "df[\"hg38 - Donor splice site\"] = df[\"sequence\"].str[-2::]\n",
    "df"
   ],
   "metadata": {
    "collapsed": false
   }
  },
  {
   "cell_type": "code",
   "execution_count": 9,
   "outputs": [],
   "source": [
    "df = df.drop(columns=[\"RC3 - Acceptor splice site\", \"RC3 - Donor splice site\"])"
   ],
   "metadata": {
    "collapsed": false
   }
  },
  {
   "cell_type": "code",
   "execution_count": 10,
   "outputs": [],
   "source": [
    "df.to_csv(\"data/4.2-hg38-paired-introns.tsv\", sep=\"\\t\", index=False)"
   ],
   "metadata": {
    "collapsed": false
   }
  },
  {
   "cell_type": "markdown",
   "source": [
    " # Experimental Test (Ignore)"
   ],
   "metadata": {
    "collapsed": false
   }
  },
  {
   "cell_type": "code",
   "execution_count": null,
   "outputs": [],
   "source": [
    "seq = str(coords_to_dna(int(150677660)+1, int(150677813), \"chr7\"))  # rev strand\n",
    "seq = Seq(seq)  # Encode the seqeunce into\n",
    "seq = seq.reverse_complement()\n",
    "seq"
   ],
   "metadata": {
    "collapsed": false
   }
  },
  {
   "cell_type": "code",
   "execution_count": null,
   "outputs": [],
   "source": [
    "seq = str(coords_to_dna(14829+1, 14969, \"chr1\"))  # rev strand\n",
    "seq = Seq(seq)  # Encode the seqeunce into\n",
    "seq = seq.reverse_complement()\n",
    "seq"
   ],
   "metadata": {
    "collapsed": false
   }
  },
  {
   "cell_type": "code",
   "execution_count": null,
   "outputs": [],
   "source": [
    "# Pandarelle is not suitable to use with pyfaidx because it wrongly matches the sequence\n",
    "#pandarallel.initialize(progress_bar=False, nb_workers=8)\n",
    "# df[\"sequence-parallel\"] = df.parallel_apply(find_sequence, axis=1)"
   ],
   "metadata": {
    "collapsed": false
   }
  },
  {
   "cell_type": "code",
   "execution_count": null,
   "outputs": [],
   "source": [],
   "metadata": {
    "collapsed": false
   }
  }
 ],
 "metadata": {
  "kernelspec": {
   "display_name": "Python 3",
   "language": "python",
   "name": "python3"
  },
  "language_info": {
   "codemirror_mode": {
    "name": "ipython",
    "version": 2
   },
   "file_extension": ".py",
   "mimetype": "text/x-python",
   "name": "python",
   "nbconvert_exporter": "python",
   "pygments_lexer": "ipython2",
   "version": "2.7.6"
  }
 },
 "nbformat": 4,
 "nbformat_minor": 0
}
