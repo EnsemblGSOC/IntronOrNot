{
 "cells": [
  {
   "cell_type": "code",
   "execution_count": 1,
   "metadata": {
    "collapsed": true
   },
   "outputs": [],
   "source": [
    "import pandas as pd"
   ]
  },
  {
   "cell_type": "code",
   "execution_count": null,
   "metadata": {},
   "outputs": [],
   "source": [
    "df_accepted = pd.read_csv(\"data/1-rmv_dup_introns_gencode_v44.tsv\", sep=\"\\t\")\n",
    "df_accepted[\"class\"] = 1\n",
    "df_accepted"
   ]
  },
  {
   "cell_type": "code",
   "execution_count": null,
   "metadata": {},
   "outputs": [],
   "source": [
    "df_rejected = pd.read_csv(\"data/1.2_original_rejected_introns\", sep=\"\\t\")\n",
    "df_rejected = df_rejected.drop(columns=\"Duplicate_Count\")\n",
    "df_rejected[\"class\"] = 0\n",
    "df_rejected"
   ]
  },
  {
   "cell_type": "code",
   "execution_count": null,
   "metadata": {},
   "outputs": [],
   "source": [
    "df_merged = pd.concat([df_accepted, df_rejected])\n",
    "df_merged"
   ]
  },
  {
   "cell_type": "markdown",
   "metadata": {},
   "source": [
    "# Simulating false introns - Workflow"
   ],
   "outputs": []
  },
  {
   "cell_type": "markdown",
   "source": [
    "<pre>\n",
    "The set of simulated false introns is generated using:\n",
    "1. Simulate false read using pbsim3\n",
    "a*. ONT single pass - protein coding genes `pbsim --seed 1 --strategy templ --method qshmm --qshmm ./data/pbsim_models/QSHMM-ONT.model --template ./data/gencode/gencode.v44.pc_transcripts.fa --prefix pbsim_rna_a --difference-ratio 39:24:36`\n",
    "b*. ONT multi-pass - protein coding genes `pbsim --seed 2 --strategy templ --method qshmm --qshmm ./data/pbsim_models/QSHMM-ONT.model --template ./data/gencode/gencode.v44.pc_transcripts.fa --prefix pbsim_rna_b --difference-ratio 39:24:36 --pass-num 3`\n",
    "c*. PacBio - Iso-seq - protein coding genes `pbsim --seed 3 --strategy templ --method qshmm --qshmm ./data/pbsim_models/QSHMM-RSII.model --template ./data/gencode/gencode.v44.pc_transcripts.fa --prefix pbsim_rna_c --difference-ratio 22:45:33 --accuracy-mean 0.99 --pass-num 3`\n",
    "d*. ONT single pass - lcnRNA `pbsim --seed 4 --strategy templ --method qshmm --qshmm ./data/pbsim_models/QSHMM-ONT.model --template ./data/gencode/gencode.v44.lncRNA_transcripts.fa --prefix pbsim_rna_d --difference-ratio 39:24:36`\n",
    "\n",
    "2. Read-alignment using Minimap2\n",
    "a*. `minimap2 -ax splice -t 6 -u f --seed 1 -k 14 ./data/human_ref_hg38_109/GRCh38.primary_assembly.genome.fa pbsim_rna_a.fastq > aln_a.sam`\n",
    "b*. `samtools fastq ./pbsim_rna_b.sam > simulated_b.fq`  then\n",
    "    `minimap2 -ax splice -t 6 -u f --seed 2 -k 14 ./data/human_ref_hg38_109/GRCh38.primary_assembly.genome.fa ./simulated_b.fq > aln_b.sam`\n",
    "c*. `samtools fastq ./pbsim_rna_c.sam > simulated_c.fq` then\n",
    "    `minimap2 -ax splice:hq -u f --seed 3 ./data/human_ref_hg38_109/GRCh38.primary_assembly.genome.fa ./simulated_c.fq > aln_c.sam`\n",
    "d*. `minimap2 -ax splice -t 6 -u f --seed 4 -k 14 ./data/human_ref_hg38_109/GRCh38.primary_assembly.genome.fa ./pbsim_rna_d > aln_d.sam`\n",
    "\n",
    "Repeat for * equals to [a,b,c,d]:\n",
    "    3. Sorted and convert to BAM\n",
    "    `samtools sort ./aln_*.sam > aln_*_sorted.bam`\n",
    "\n",
    "    4. Indexing\n",
    "    `samtools index aln_*_sorted.bam`\n",
    "\n"
   ],
   "metadata": {
    "collapsed": false
   }
  },
  {
   "cell_type": "markdown",
   "metadata": {},
   "source": [
    "## Simulation a"
   ]
  },
  {
   "cell_type": "markdown",
   "metadata": {},
   "source": [
    "<pre>\n",
    ":::: Simulation parameters :::\n",
    "\n",
    "strategy : templ\n",
    "method : qshmm\n",
    "qshmm : ./data/pbsim_models/QSHMM-ONT.model\n",
    "template : ./data/gencode/gencode.v44.pc_transcripts.fa\n",
    "prefix : pbsim_rna_a\n",
    "id-prefix : S\n",
    "difference-ratio : 39:24:36\n",
    "seed : 1\n",
    "accuracy-mean : 0.850000\n",
    "pass_num : 1\n",
    "hp-del-bias : 1.000000\n",
    "\n",
    ":::: Template stats ::::\n",
    "\n",
    "file name : ./data/gencode/gencode.v44.pc_transcripts.fa\n",
    "template num. : 110962\n",
    "template total length : 265796693\n",
    "\n",
    ":::: Simulation stats ::::\n",
    "\n",
    "read num. : 110962\n",
    "read length mean (SD) : 2353.105090 (2313.062189)\n",
    "read length min : 8\n",
    "read length max : 107547\n",
    "read accuracy mean (SD) : 0.849757 (0.045486)\n",
    "substitution rate. : 0.058598\n",
    "insertion rate. : 0.036047\n",
    "deletion rate. : 0.054015\n",
    "\n",
    ":::: System utilization ::::\n",
    "\n",
    "CPU time(s) : 9\n",
    "Elapsed time(s) : 10\n",
    "</pre>"
   ]
  },
  {
   "cell_type": "markdown",
   "metadata": {},
   "source": [
    "<pre>\n",
    "[M::mm_idx_gen::30.213*1.67] collected minimizers\n",
    "[M::mm_idx_gen::37.292*2.48] sorted minimizers\n",
    "[M::main::37.292*2.48] loaded/built the index for 194 target sequence(s)\n",
    "[M::mm_mapopt_update::38.088*2.45] mid_occ = 2053\n",
    "[M::mm_idx_stat] kmer size: 14; skip: 5; is_hpc: 0; #seq: 194\n",
    "[M::mm_idx_stat::38.533*2.44] distinct minimizers: 65621209 (23.06% are singletons); average occurrences: 15.289; average spacing: 3.090; total length: 3099750718\n",
    "[M::worker_pipeline::171.215*5.14] mapped 110962 sequences\n",
    "[M::main] Version: 2.26-r1175\n",
    "[M::main] CMD: minimap2 -ax splice -t 6 -u f --seed 1 -k 14 ./data/human_ref_hg38_109/GRCh38.primary_assembly.genome.fa pbsim_rna_a.fastq\n",
    "[M::main] Real time: 171.384 sec; CPU: 880.425 sec; Peak RSS: 18.422 GB`\n",
    "</pre>"
   ]
  },
  {
   "cell_type": "markdown",
   "source": [
    "<pre>\n",
    "Command:\n",
    "samtools sort ./aln_a.sam > aln_a_sorted.bam\n",
    "\n",
    "Output:\n",
    "</pre>"
   ],
   "metadata": {
    "collapsed": false
   }
  },
  {
   "cell_type": "markdown",
   "source": [
    "<pre>\n",
    "Command:\n",
    "samtools index aln_a_sorted.bam\n",
    "\n",
    "Output:\n",
    "</pre>"
   ],
   "metadata": {
    "collapsed": false
   }
  },
  {
   "cell_type": "markdown",
   "source": [
    "## Simulation b"
   ],
   "metadata": {
    "collapsed": false
   }
  },
  {
   "cell_type": "markdown",
   "source": [
    "<pre>\n",
    "Command:\n",
    "pbsim --seed 2 --strategy templ --method qshmm --qshmm ./data/pbsim_models/QSHMM-ONT.model --template ./data/gencode/gencode.v44.pc_transcripts.fa --prefix pbsim_rna_b --difference-ratio 39:24:36 --pass-num 3\n",
    "\n",
    "Output:\n",
    ":::: Simulation parameters :::\n",
    "\n",
    "strategy : templ\n",
    "method : qshmm\n",
    "qshmm : ./data/pbsim_models/QSHMM-ONT.model\n",
    "template : ./data/gencode/gencode.v44.pc_transcripts.fa\n",
    "prefix : pbsim_rna_b\n",
    "id-prefix : S\n",
    "difference-ratio : 39:24:36\n",
    "seed : 2\n",
    "accuracy-mean : 0.850000\n",
    "pass_num : 3\n",
    "hp-del-bias : 1.000000\n",
    "\n",
    ":::: Template stats ::::\n",
    "\n",
    "file name : ./data/gencode/gencode.v44.pc_transcripts.fa\n",
    "template num. : 110962\n",
    "template total length : 265796693\n",
    "\n",
    ":::: Simulation stats ::::\n",
    "\n",
    "read num. : 110962\n",
    "read length mean (SD) : 2353.024185 (2313.031686)\n",
    "read length min : 7\n",
    "read length max : 107697\n",
    "read accuracy mean (SD) : 0.849485 (0.045554)\n",
    "substitution rate. : 0.058784\n",
    "insertion rate. : 0.036170\n",
    "deletion rate. : 0.054173\n",
    "\n",
    ":::: System utilization ::::\n",
    "\n",
    "CPU time(s) : 36\n",
    "Elapsed time(s) : 40\n",
    "</pre>"
   ],
   "metadata": {
    "collapsed": false
   }
  },
  {
   "cell_type": "markdown",
   "source": [
    "<pre>\n",
    "Command:\n",
    "samtools fastq ./pbsim_rna_b.sam > simulated_b.fq\n",
    "\n",
    "Output:\n",
    "[M::bam2fq_mainloop] processed 332886 reads\n",
    "</pre>"
   ],
   "metadata": {
    "collapsed": false
   }
  },
  {
   "cell_type": "markdown",
   "source": [
    "<pre>\n",
    "Command:\n",
    "minimap2 -ax splice -t 6 -u f --seed 2 -k 14 ./data/human_ref_hg38_109/GRCh38.primary_assembly.genome.fa ./simulated_b.fq > aln_b.sam\n",
    "\n",
    "Output:\n",
    "[M::mm_idx_gen::30.944*1.65] collected minimizers\n",
    "[M::mm_idx_gen::38.007*2.45] sorted minimizers\n",
    "[M::main::38.007*2.45] loaded/built the index for 194 target sequence(s)\n",
    "[M::mm_mapopt_update::38.795*2.42] mid_occ = 2053\n",
    "[M::mm_idx_stat] kmer size: 14; skip: 5; is_hpc: 0; #seq: 194\n",
    "[M::mm_idx_stat::39.234*2.40] distinct minimizers: 65621209 (23.06% are singletons); average occurrences: 15.289; average spacing: 3.090; total length: 3099750718\n",
    "[M::worker_pipeline::308.814*5.53] mapped 202494 sequences\n",
    "[M::worker_pipeline::432.635*5.65] mapped 130392 sequences\n",
    "[M::main] Version: 2.26-r1175\n",
    "[M::main] CMD: minimap2 -ax splice -t 6 -u f --seed 2 -k 14 ./data/human_ref_hg38_109/GRCh38.primary_assembly.genome.fa ./simulated_b.fq\n",
    "[M::main] Real time: 432.756 sec; CPU: 2442.688 sec; Peak RSS: 18.422 GB\n",
    "</pre>\n"
   ],
   "metadata": {
    "collapsed": false
   }
  },
  {
   "cell_type": "markdown",
   "source": [
    "<pre>\n",
    "Command:\n",
    "samtools sort ./aln_b.sam > aln_b_sorted.bam\n",
    "\n",
    "Output:\n",
    "[bam_sort_core] merging from 4 files...\n",
    "</pre>\n"
   ],
   "metadata": {
    "collapsed": false
   }
  },
  {
   "cell_type": "markdown",
   "source": [
    "<pre>\n",
    "Command:\n",
    "samtools index aln_b_sorted.bam\n",
    "\n",
    "Output:\n",
    "</pre>"
   ],
   "metadata": {
    "collapsed": false
   }
  },
  {
   "cell_type": "markdown",
   "source": [
    "# Simulation c"
   ],
   "metadata": {
    "collapsed": false
   }
  },
  {
   "cell_type": "markdown",
   "source": [
    "<pre>\n",
    "Command:\n",
    "pbsim --seed 3 --strategy templ --method qshmm --qshmm ./data/pbsim_models/QSHMM-RSII.model --template ./data/gencode/gencode.v44.pc_transcripts.fa --prefix pbsim_rna_c --difference-ratio 22:45:33 --accuracy-mean 0.999 --pass-num 3\n",
    "\n",
    "Output:\n",
    ":::: Simulation parameters :::\n",
    "\n",
    "strategy : templ\n",
    "method : qshmm\n",
    "qshmm : ./data/pbsim_models/QSHMM-RSII.model\n",
    "template : ./data/gencode/gencode.v44.pc_transcripts.fa\n",
    "prefix : pbsim_rna_c\n",
    "id-prefix : S\n",
    "difference-ratio : 22:45:33\n",
    "seed : 3\n",
    "accuracy-mean : 0.990000\n",
    "pass_num : 3\n",
    "hp-del-bias : 1.000000\n",
    "\n",
    ":::: Template stats ::::\n",
    "\n",
    "file name : ./data/gencode/gencode.v44.pc_transcripts.fa\n",
    "template num. : 110962\n",
    "template total length : 265796693\n",
    "\n",
    ":::: Simulation stats ::::\n",
    "\n",
    "read num. : 110962\n",
    "read length mean (SD) : 2406.880397 (2365.994069)\n",
    "read length min : 7\n",
    "read length max : 109900\n",
    "read accuracy mean (SD) : 0.959701 (0.043944)\n",
    "substitution rate. : 0.008867\n",
    "insertion rate. : 0.018072\n",
    "deletion rate. : 0.013296\n",
    "\n",
    ":::: System utilization ::::\n",
    "\n",
    "CPU time(s) : 30\n",
    "Elapsed time(s) : 33\n",
    "</pre>"
   ],
   "metadata": {
    "collapsed": false
   }
  },
  {
   "cell_type": "markdown",
   "source": [
    "<pre>\n",
    "Command:\n",
    "samtools fastq ./pbsim_rna_c.sam > simulated_c.fq\n",
    "\n",
    "Output:\n",
    "[M::bam2fq_mainloop] processed 332886 reads\n",
    "</pre>"
   ],
   "metadata": {
    "collapsed": false
   }
  },
  {
   "cell_type": "markdown",
   "source": [
    "<pre>\n",
    "Command:\n",
    "samtools fastq ./pbsim_rna_c.sam > simulated_c.fq\n",
    "\n",
    "Output:\n",
    "[M::bam2fq_mainloop] processed 332886 reads\n",
    "</pre>"
   ],
   "metadata": {
    "collapsed": false
   }
  },
  {
   "cell_type": "markdown",
   "source": [
    "<pre>\n",
    "Command:\n",
    "minimap2 -ax splice:hq -u f --seed 3 ./data/human_ref_hg38_109/GRCh38.primary_assembly.genome.fa ./simulated_c.fq > aln_c.sam\n",
    "\n",
    "Output:\n",
    "[M::mm_idx_gen::30.883*1.67] collected minimizers\n",
    "[M::mm_idx_gen::42.766*2.04] sorted minimizers\n",
    "[M::main::42.766*2.04] loaded/built the index for 194 target sequence(s)\n",
    "[M::mm_mapopt_update::44.277*2.00] mid_occ = 767\n",
    "[M::mm_idx_stat] kmer size: 15; skip: 5; is_hpc: 0; #seq: 194\n",
    "[M::mm_idx_stat::45.281*1.98] distinct minimizers: 167225302 (35.42% are singletons); average occurrences: 6.036; average spacing: 3.071; total length: 3099750718\n",
    "[M::worker_pipeline::432.555*2.89] mapped 197380 sequences\n",
    "[M::worker_pipeline::624.978*2.92] mapped 135506 sequences\n",
    "[M::main] Version: 2.26-r1175\n",
    "[M::main] CMD: minimap2 -ax splice:hq -u f --seed 3 ./data/human_ref_hg38_109/GRCh38.primary_assembly.genome.fa ./simulated_c.fq\n",
    "[M::main] Real time: 625.177 sec; CPU: 1826.355 sec; Peak RSS: 19.006 GB\n",
    "</pre>"
   ],
   "metadata": {
    "collapsed": false
   }
  },
  {
   "cell_type": "markdown",
   "source": [
    "<pre>\n",
    "Command:\n",
    "samtools sort ./aln_c.sam > aln_c_sorted.bam\n",
    "\n",
    "Output:\n",
    "[bam_sort_core] merging from 3 files...\n",
    "\n",
    "</pre>"
   ],
   "metadata": {
    "collapsed": false
   }
  },
  {
   "cell_type": "markdown",
   "source": [
    "<pre>\n",
    "Command:\n",
    "samtools index aln_c_sorted.bam\n",
    "\n",
    "Output:\n",
    "\n",
    "</pre>"
   ],
   "metadata": {
    "collapsed": false
   }
  },
  {
   "cell_type": "markdown",
   "source": [
    "# Simulation d"
   ],
   "metadata": {
    "collapsed": false
   }
  },
  {
   "cell_type": "markdown",
   "source": [
    "<pre>\n",
    "Command:\n",
    "pbsim --seed 4 --strategy templ --method qshmm --qshmm ./data/pbsim_models/QSHMM-ONT.model --template ./data/gencode/gencode.v44.lncRNA_transcripts.fa --prefix pbsim_rna_d --difference-ratio 39:24:36\n",
    "\n",
    "Output:\n",
    ":::: Simulation parameters :::\n",
    "\n",
    "strategy : templ\n",
    "method : qshmm\n",
    "qshmm : ./data/pbsim_models/QSHMM-ONT.model\n",
    "template : ./data/gencode/gencode.v44.lncRNA_transcripts.fa\n",
    "prefix : pbsim_rna_d\n",
    "id-prefix : S\n",
    "difference-ratio : 39:24:36\n",
    "seed : 4\n",
    "accuracy-mean : 0.850000\n",
    "pass_num : 1\n",
    "hp-del-bias : 1.000000\n",
    "\n",
    ":::: Template stats ::::\n",
    "\n",
    "file name : ./data/gencode/gencode.v44.lncRNA_transcripts.fa\n",
    "template num. : 58246\n",
    "template total length : 77004945\n",
    "\n",
    ":::: Simulation stats ::::\n",
    "\n",
    "read num. : 58246\n",
    "read length mean (SD) : 1298.703568 (2040.613450)\n",
    "read length min : 32\n",
    "read length max : 341038\n",
    "read accuracy mean (SD) : 0.849009 (0.046553)\n",
    "substitution rate. : 0.058943\n",
    "insertion rate. : 0.036240\n",
    "deletion rate. : 0.054227\n",
    "\n",
    ":::: System utilization ::::\n",
    "\n",
    "CPU time(s) : 2\n",
    "Elapsed time(s) : 2\n",
    "</pre>"
   ],
   "metadata": {
    "collapsed": false
   }
  },
  {
   "cell_type": "markdown",
   "source": [
    "<pre>\n",
    "Command:\n",
    "minimap2 -ax splice -t 6 -u f --seed 4 -k 14 ./data/human_ref_hg38_109/GRCh38.primary_assembly.genome.fa ./pbsim_rna_d.fastq > aln_d.sam\n",
    "\n",
    "Output:\n",
    "[M::mm_idx_gen::30.336*1.66] collected minimizers\n",
    "[M::mm_idx_gen::37.372*2.47] sorted minimizers\n",
    "[M::main::37.372*2.47] loaded/built the index for 194 target sequence(s)\n",
    "[M::mm_mapopt_update::38.128*2.44] mid_occ = 2053\n",
    "[M::mm_idx_stat] kmer size: 14; skip: 5; is_hpc: 0; #seq: 194\n",
    "[M::mm_idx_stat::38.572*2.42] distinct minimizers: 65621209 (23.06% are singletons); average occurrences: 15.289; average spacing: 3.090; total length: 3099750718\n",
    "[M::worker_pipeline::91.712*4.12] mapped 58246 sequences\n",
    "[M::main] Version: 2.26-r1175\n",
    "[M::main] CMD: minimap2 -ax splice -t 6 -u f --seed 4 -k 14 ./data/human_ref_hg38_109/GRCh38.primary_assembly.genome.fa ./pbsim_rna_d.fastq\n",
    "[M::main] Real time: 91.868 sec; CPU: 377.793 sec; Peak RSS: 18.422 GB\n",
    "</pre>"
   ],
   "metadata": {
    "collapsed": false
   }
  },
  {
   "cell_type": "markdown",
   "source": [
    "<pre>\n",
    "Command:\n",
    "samtools sort ./aln_d.sam > aln_d_sorted.bam\n",
    "\n",
    "Output:\n",
    "\n",
    "</pre>"
   ],
   "metadata": {
    "collapsed": false
   }
  },
  {
   "cell_type": "markdown",
   "source": [
    "<pre>\n",
    "Command:\n",
    "samtools index aln_d_sorted.bam\n",
    "\n",
    "Output:\n",
    "\n",
    "</pre>"
   ],
   "metadata": {
    "collapsed": false
   }
  },
  {
   "cell_type": "markdown",
   "source": [
    "# Extracting introns from the sorted (and indexed) BAM file"
   ],
   "metadata": {
    "collapsed": false
   }
  },
  {
   "cell_type": "code",
   "execution_count": 1,
   "outputs": [],
   "source": [
    "import pysam\n",
    "\n",
    "def get_introns_from_bam(infile, outfile):\n",
    "    # Modified from a script generated by ChatGPT v3.5\n",
    "\n",
    "    # Open the SAM file\n",
    "    samfile = pysam.AlignmentFile(infile, 'r')\n",
    "\n",
    "    # Open output file for intron coordinates\n",
    "    output_file = open(outfile, 'w')\n",
    "\n",
    "    # Iterate over each read in the SAM file\n",
    "    for read in samfile.fetch():\n",
    "        # Skip unmapped reads\n",
    "        if read.is_unmapped:\n",
    "            continue\n",
    "\n",
    "        # Parse the CIGAR string to extract intron regions\n",
    "        cigar_tuples = read.cigartuples\n",
    "        introns = []\n",
    "        current_position = read.reference_start\n",
    "        for cigar in cigar_tuples:\n",
    "            cigar_type, cigar_length = cigar\n",
    "            if cigar_type == 3:  # 3 represents the CIGAR operation 'N' for intron\n",
    "                intron_start = current_position\n",
    "                intron_end = current_position + cigar_length\n",
    "                introns.append((intron_start, intron_end))\n",
    "            if cigar_type in [0, 2, 3, 7, 8]:  # Operations that consume reference positions\n",
    "                current_position += cigar_length\n",
    "\n",
    "        # Get the strand information from the SAM flag\n",
    "        if read.is_reverse:\n",
    "            strand = '-'\n",
    "        else:\n",
    "            strand = '+'\n",
    "\n",
    "        # Write intron coordinates with strand to the output file\n",
    "        for intron_start, intron_end in introns:\n",
    "            output_file.write(f\"{read.reference_name}\\t{intron_start}\\t{intron_end}\\t.\\t.\\t{strand}\\n\")\n",
    "\n",
    "    # Close the files\n",
    "    samfile.close()\n",
    "    output_file.close()"
   ],
   "metadata": {
    "collapsed": false
   }
  },
  {
   "cell_type": "code",
   "execution_count": 3,
   "metadata": {},
   "outputs": [],
   "source": [
    "# Extracting the introns from all the BAM files and outputting them as a .BED file\n",
    "get_introns_from_bam(infile=\"aln_a_sorted.bam\", outfile=\"./data/false_introns_simulated/simulation_a_introns.bed\")\n",
    "get_introns_from_bam(infile=\"aln_b_sorted.bam\", outfile=\"./data/false_introns_simulated/simulation_b_introns.bed\")\n",
    "get_introns_from_bam(infile=\"aln_c_sorted.bam\", outfile=\"./data/false_introns_simulated/simulation_c_introns.bed\")\n",
    "get_introns_from_bam(infile=\"aln_d_sorted.bam\", outfile=\"./data/false_introns_simulated/simulation_d_introns.bed\")"
   ]
  },
  {
   "cell_type": "markdown",
   "source": [
    "# Moving previous files\n",
    "\n",
    "All previous files (except final .BED files generated in previous cell) is then moved from the root directory to /data/false_introns_simulated/preprocessing"
   ],
   "metadata": {
    "collapsed": false
   }
  },
  {
   "cell_type": "code",
   "execution_count": null,
   "metadata": {},
   "outputs": [],
   "source": [
    "df_simulated_introns1 = pd.read_csv(\"./data/false_introns_simulated/simulation_a_introns.bed\", sep=\"\\t\", names=[\"chr\", \"start\", \"end\", \"features\", \"score\", \"strand\"])\n",
    "df_simulated_introns1 = df_simulated_introns1.loc[:, [\"chr\", \"start\", \"end\", \"strand\"]]\n",
    "df_simulated_introns1[\"class\"] = 0\n",
    "df_simulated_introns1 = df_simulated_introns1.drop_duplicates(subset=[\"chr\", \"start\", \"end\", \"strand\"])\n",
    "df_simulated_introns1"
   ]
  },
  {
   "cell_type": "code",
   "execution_count": null,
   "metadata": {},
   "outputs": [],
   "source": [
    "df_simulated_introns2 = pd.read_csv(\"./data/false_introns_simulated/introns2.bed\", sep=\"\\t\", names=[\"chr\", \"start\", \"end\", \"features\", \"score\", \"strand\"])\n",
    "df_simulated_introns2 = df_simulated_introns2.loc[:, [\"chr\", \"start\", \"end\", \"strand\"]]\n",
    "df_simulated_introns2[\"class\"] = 0\n",
    "df_simulated_introns2 = df_simulated_introns2.drop_duplicates(subset=[\"chr\", \"start\", \"end\", \"strand\"])\n",
    "df_simulated_introns2"
   ]
  },
  {
   "cell_type": "code",
   "execution_count": null,
   "metadata": {},
   "outputs": [],
   "source": [
    "df_simulated_introns3 = pd.read_csv(\"./data/false_introns_simulated/introns_pacbio_1.bed\", sep=\"\\t\", names=[\"chr\", \"start\", \"end\", \"features\", \"score\", \"strand\"])\n",
    "df_simulated_introns3 = df_simulated_introns3.loc[:, [\"chr\", \"start\", \"end\", \"strand\"]]\n",
    "df_simulated_introns3[\"class\"] = 0\n",
    "df_simulated_introns3 = df_simulated_introns3.drop_duplicates(subset=[\"chr\", \"start\", \"end\", \"strand\"])\n",
    "df_simulated_introns3"
   ]
  },
  {
   "cell_type": "code",
   "execution_count": null,
   "metadata": {},
   "outputs": [],
   "source": [
    "df_simulated_introns4 = pd.read_csv(\"./data/false_introns_simulated/introns_pacbio_2.bed\", sep=\"\\t\", names=[\"chr\", \"start\", \"end\", \"features\", \"score\", \"strand\"])\n",
    "df_simulated_introns4 = df_simulated_introns3.loc[:, [\"chr\", \"start\", \"end\", \"strand\"]]\n",
    "df_simulated_introns4[\"class\"] = 0\n",
    "df_simulated_introns4 = df_simulated_introns3.drop_duplicates(subset=[\"chr\", \"start\", \"end\", \"strand\"])\n",
    "df_simulated_introns4"
   ]
  },
  {
   "cell_type": "code",
   "execution_count": null,
   "metadata": {},
   "outputs": [],
   "source": [
    "df_simulated_introns5 = pd.read_csv(\"./data/false_introns_simulated/introns_ont_lncRNA.bed\", sep=\"\\t\", names=[\"chr\", \"start\", \"end\", \"features\", \"score\", \"strand\"])\n",
    "df_simulated_introns5 = df_simulated_introns5.loc[:, [\"chr\", \"start\", \"end\", \"strand\"]]\n",
    "df_simulated_introns5[\"class\"] = 0\n",
    "df_simulated_introns5 = df_simulated_introns5.drop_duplicates(subset=[\"chr\", \"start\", \"end\", \"strand\"])\n",
    "df_simulated_introns5"
   ]
  },
  {
   "cell_type": "code",
   "execution_count": null,
   "metadata": {},
   "outputs": [],
   "source": [
    "sum( pd.concat([df_merged, df_simulated_introns2, df_simulated_introns3, df_simulated_introns4]).drop_duplicates(subset=[\"chr\", \"start\", \"end\", \"strand\"], keep='first') [\"class\"] == 0)"
   ]
  },
  {
   "cell_type": "code",
   "execution_count": null,
   "metadata": {},
   "outputs": [],
   "source": [
    "merged_df = pd.concat([df_merged, df_simulated_introns2, df_simulated_introns3, df_simulated_introns4, df_simulated_introns5]).drop_duplicates(subset=[\"chr\", \"start\", \"end\", \"strand\"], keep='first')\n",
    "sum(merged_df[\"class\"] == 0)"
   ]
  },
  {
   "cell_type": "code",
   "execution_count": null,
   "metadata": {},
   "outputs": [],
   "source": [
    "assert(len(merged_df[merged_df.start == 15038]) == 1)\n",
    "assert(merged_df[merged_df.start == 15038].iloc[0][\"class\"] == 1)"
   ]
  },
  {
   "cell_type": "markdown",
   "metadata": {},
   "source": [
    " Now we have 125,464 false introns!"
   ]
  },
  {
   "cell_type": "code",
   "execution_count": null,
   "metadata": {},
   "outputs": [],
   "source": [
    "merged_df.to_csv(\"data/2.1-merged_train_set.tsv\", sep=\"\\t\", index=False)\n",
    "merged_df"
   ]
  },
  {
   "cell_type": "code",
   "execution_count": null,
   "metadata": {},
   "outputs": [],
   "source": []
  }
 ],
 "metadata": {
  "kernelspec": {
   "display_name": "Python 3 (ipykernel)",
   "language": "python",
   "name": "python3"
  },
  "language_info": {
   "codemirror_mode": {
    "name": "ipython",
    "version": 3
   },
   "file_extension": ".py",
   "mimetype": "text/x-python",
   "name": "python",
   "nbconvert_exporter": "python",
   "pygments_lexer": "ipython3",
   "version": "3.10.12"
  }
 },
 "nbformat": 4,
 "nbformat_minor": 1
}
