{
 "cells": [
  {
   "cell_type": "code",
   "execution_count": 1,
   "metadata": {
    "collapsed": true,
    "is_executing": true
   },
   "outputs": [],
   "source": [
    "import pandas as pd\n",
    "from tqdm import tqdm\n",
    "from pandarallel import pandarallel"
   ]
  },
  {
   "cell_type": "code",
   "execution_count": 2,
   "outputs": [
    {
     "data": {
      "text/plain": "         chr     start       end strand  class\n0       chr1     12227     12612      +      1\n1       chr1     12721     13220      +      1\n2       chr1     12057     12178      +      1\n3       chr1     12697     12974      +      1\n4       chr1     13052     13220      +      1\n...      ...       ...       ...    ...    ...\n519029  chrY  25464577  25465486      +      0\n519030  chrY  25513173  25513588      -      0\n519031  chrY  25513745  25516715      -      0\n519032  chrY  25525288  25527646      -      0\n519033  chrY  57213357  57213855      -      0\n\n[519034 rows x 5 columns]",
      "text/html": "<div>\n<style scoped>\n    .dataframe tbody tr th:only-of-type {\n        vertical-align: middle;\n    }\n\n    .dataframe tbody tr th {\n        vertical-align: top;\n    }\n\n    .dataframe thead th {\n        text-align: right;\n    }\n</style>\n<table border=\"1\" class=\"dataframe\">\n  <thead>\n    <tr style=\"text-align: right;\">\n      <th></th>\n      <th>chr</th>\n      <th>start</th>\n      <th>end</th>\n      <th>strand</th>\n      <th>class</th>\n    </tr>\n  </thead>\n  <tbody>\n    <tr>\n      <th>0</th>\n      <td>chr1</td>\n      <td>12227</td>\n      <td>12612</td>\n      <td>+</td>\n      <td>1</td>\n    </tr>\n    <tr>\n      <th>1</th>\n      <td>chr1</td>\n      <td>12721</td>\n      <td>13220</td>\n      <td>+</td>\n      <td>1</td>\n    </tr>\n    <tr>\n      <th>2</th>\n      <td>chr1</td>\n      <td>12057</td>\n      <td>12178</td>\n      <td>+</td>\n      <td>1</td>\n    </tr>\n    <tr>\n      <th>3</th>\n      <td>chr1</td>\n      <td>12697</td>\n      <td>12974</td>\n      <td>+</td>\n      <td>1</td>\n    </tr>\n    <tr>\n      <th>4</th>\n      <td>chr1</td>\n      <td>13052</td>\n      <td>13220</td>\n      <td>+</td>\n      <td>1</td>\n    </tr>\n    <tr>\n      <th>...</th>\n      <td>...</td>\n      <td>...</td>\n      <td>...</td>\n      <td>...</td>\n      <td>...</td>\n    </tr>\n    <tr>\n      <th>519029</th>\n      <td>chrY</td>\n      <td>25464577</td>\n      <td>25465486</td>\n      <td>+</td>\n      <td>0</td>\n    </tr>\n    <tr>\n      <th>519030</th>\n      <td>chrY</td>\n      <td>25513173</td>\n      <td>25513588</td>\n      <td>-</td>\n      <td>0</td>\n    </tr>\n    <tr>\n      <th>519031</th>\n      <td>chrY</td>\n      <td>25513745</td>\n      <td>25516715</td>\n      <td>-</td>\n      <td>0</td>\n    </tr>\n    <tr>\n      <th>519032</th>\n      <td>chrY</td>\n      <td>25525288</td>\n      <td>25527646</td>\n      <td>-</td>\n      <td>0</td>\n    </tr>\n    <tr>\n      <th>519033</th>\n      <td>chrY</td>\n      <td>57213357</td>\n      <td>57213855</td>\n      <td>-</td>\n      <td>0</td>\n    </tr>\n  </tbody>\n</table>\n<p>519034 rows × 5 columns</p>\n</div>"
     },
     "execution_count": 2,
     "metadata": {},
     "output_type": "execute_result"
    }
   ],
   "source": [
    "df_trainset = pd.read_csv(\"data/04_train_set.tsv\", sep=\"\\t\")\n",
    "df_trainset"
   ],
   "metadata": {
    "collapsed": false
   }
  },
  {
   "cell_type": "code",
   "execution_count": 3,
   "outputs": [
    {
     "data": {
      "text/plain": "                                              Chrom  \\\nStrand Start     End                                  \n+      12        16498                         chrM   \n       15        355               chrUn_KI270303v1   \n       17        65645      chr22_KI270736v1_random   \n       20        608               chrUn_GL000224v1   \n                 801               chrUn_KI270539v1   \n...                                             ...   \n-      248937793 248937887                     chr1   \n       248937886 248938073                     chr1   \n       248937979 248938073                     chr1   \n       248942862 248945072                     chr1   \n       248945343 248945425                     chr1   \n\n                                                             Features  Score  \nStrand Start     End                                                          \n+      12        16498       GTExv2=15:69;TCGAv2=0:0;SRAv3h=3:7;AT:AC     76  \n       15        355         GTExv2=0:0;TCGAv2=0:0;SRAv3h=33:36;GT:AG     36  \n       17        65645        GTExv2=0:0;TCGAv2=0:0;SRAv3h=7:36;GT:AG     36  \n       20        608         GTExv2=0:0;TCGAv2=1:1;SRAv3h=27:65;GT:AG     66  \n                 801         GTExv2=0:0;TCGAv2=0:0;SRAv3h=33:35;GT:AG     35  \n...                                                               ...    ...  \n-      248937793 248937887   GTExv2=3:3;TCGAv2=1:2;SRAv3h=15:16;GT:AG     21  \n       248937886 248938073   GTExv2=2:2;TCGAv2=1:2;SRAv3h=26:27;GT:AG     31  \n       248937979 248938073   GTExv2=4:4;TCGAv2=1:2;SRAv3h=19:20;GT:AG     26  \n       248942862 248945072   GTExv2=2:2;TCGAv2=1:1;SRAv3h=11:29;GT:AG     32  \n       248945343 248945425  GTExv2=2:2;TCGAv2=7:12;SRAv3h=22:41;GT:AG     55  \n\n[16350181 rows x 3 columns]",
      "text/html": "<div>\n<style scoped>\n    .dataframe tbody tr th:only-of-type {\n        vertical-align: middle;\n    }\n\n    .dataframe tbody tr th {\n        vertical-align: top;\n    }\n\n    .dataframe thead th {\n        text-align: right;\n    }\n</style>\n<table border=\"1\" class=\"dataframe\">\n  <thead>\n    <tr style=\"text-align: right;\">\n      <th></th>\n      <th></th>\n      <th></th>\n      <th>Chrom</th>\n      <th>Features</th>\n      <th>Score</th>\n    </tr>\n    <tr>\n      <th>Strand</th>\n      <th>Start</th>\n      <th>End</th>\n      <th></th>\n      <th></th>\n      <th></th>\n    </tr>\n  </thead>\n  <tbody>\n    <tr>\n      <th rowspan=\"5\" valign=\"top\">+</th>\n      <th>12</th>\n      <th>16498</th>\n      <td>chrM</td>\n      <td>GTExv2=15:69;TCGAv2=0:0;SRAv3h=3:7;AT:AC</td>\n      <td>76</td>\n    </tr>\n    <tr>\n      <th>15</th>\n      <th>355</th>\n      <td>chrUn_KI270303v1</td>\n      <td>GTExv2=0:0;TCGAv2=0:0;SRAv3h=33:36;GT:AG</td>\n      <td>36</td>\n    </tr>\n    <tr>\n      <th>17</th>\n      <th>65645</th>\n      <td>chr22_KI270736v1_random</td>\n      <td>GTExv2=0:0;TCGAv2=0:0;SRAv3h=7:36;GT:AG</td>\n      <td>36</td>\n    </tr>\n    <tr>\n      <th rowspan=\"2\" valign=\"top\">20</th>\n      <th>608</th>\n      <td>chrUn_GL000224v1</td>\n      <td>GTExv2=0:0;TCGAv2=1:1;SRAv3h=27:65;GT:AG</td>\n      <td>66</td>\n    </tr>\n    <tr>\n      <th>801</th>\n      <td>chrUn_KI270539v1</td>\n      <td>GTExv2=0:0;TCGAv2=0:0;SRAv3h=33:35;GT:AG</td>\n      <td>35</td>\n    </tr>\n    <tr>\n      <th>...</th>\n      <th>...</th>\n      <th>...</th>\n      <td>...</td>\n      <td>...</td>\n      <td>...</td>\n    </tr>\n    <tr>\n      <th rowspan=\"5\" valign=\"top\">-</th>\n      <th>248937793</th>\n      <th>248937887</th>\n      <td>chr1</td>\n      <td>GTExv2=3:3;TCGAv2=1:2;SRAv3h=15:16;GT:AG</td>\n      <td>21</td>\n    </tr>\n    <tr>\n      <th>248937886</th>\n      <th>248938073</th>\n      <td>chr1</td>\n      <td>GTExv2=2:2;TCGAv2=1:2;SRAv3h=26:27;GT:AG</td>\n      <td>31</td>\n    </tr>\n    <tr>\n      <th>248937979</th>\n      <th>248938073</th>\n      <td>chr1</td>\n      <td>GTExv2=4:4;TCGAv2=1:2;SRAv3h=19:20;GT:AG</td>\n      <td>26</td>\n    </tr>\n    <tr>\n      <th>248942862</th>\n      <th>248945072</th>\n      <td>chr1</td>\n      <td>GTExv2=2:2;TCGAv2=1:1;SRAv3h=11:29;GT:AG</td>\n      <td>32</td>\n    </tr>\n    <tr>\n      <th>248945343</th>\n      <th>248945425</th>\n      <td>chr1</td>\n      <td>GTExv2=2:2;TCGAv2=7:12;SRAv3h=22:41;GT:AG</td>\n      <td>55</td>\n    </tr>\n  </tbody>\n</table>\n<p>16350181 rows × 3 columns</p>\n</div>"
     },
     "execution_count": 3,
     "metadata": {},
     "output_type": "execute_result"
    }
   ],
   "source": [
    "df_recount3 = pd.read_csv(\"./data/resources/recount3.bed\", sep=\"\\t\",\n",
    "                          names=[\"Chrom\", \"Start\", \"End\", \"Features\", \"Score\", \"Strand\"])\n",
    "\n",
    "df_recount3.set_index([\"Strand\", \"Start\", \"End\"], inplace=True)\n",
    "df_recount3.sort_index(inplace=True)\n",
    "df_recount3"
   ],
   "metadata": {
    "collapsed": false
   }
  },
  {
   "cell_type": "code",
   "execution_count": 4,
   "outputs": [
    {
     "data": {
      "text/plain": "['chr1',\n 'chr2',\n 'chr3',\n 'chr4',\n 'chr5',\n 'chr6',\n 'chr7',\n 'chr8',\n 'chr9',\n 'chr10',\n 'chr11',\n 'chr12',\n 'chr13',\n 'chr14',\n 'chr15',\n 'chr16',\n 'chr17',\n 'chr18',\n 'chr19',\n 'chr20',\n 'chr21',\n 'chr22',\n 'chrX',\n 'chrY',\n 'chrM']"
     },
     "execution_count": 4,
     "metadata": {},
     "output_type": "execute_result"
    }
   ],
   "source": [
    "# Recount3 have entries for a lot of haplotypes and alternative chromosomes, we will just need to get the primary assembly CHRs\n",
    "ordinary_chr_list = [\"chr\"+str(x) for x in range(1,23)] + [\"chrX\"] + [\"chrY\"] + [\"chrM\"]\n",
    "ordinary_chr_list"
   ],
   "metadata": {
    "collapsed": false
   }
  },
  {
   "cell_type": "code",
   "execution_count": 7,
   "outputs": [],
   "source": [
    "def matchrc(row):\n",
    "    potential_matches = !tabix data/resources/recount3.bed.gz {row.chr}:{row.start}-{row.end} | cut -f 2,3,5\n",
    "\n",
    "    potential_matches = [\n",
    "        int(entry.split('\\t')[2])\n",
    "        for entry in potential_matches\n",
    "        if row['start'] == int(entry.split('\\t')[0]) and row['end'] == int(entry.split('\\t')[1]) #[\"RC3-Score\"]\n",
    "    ]\n",
    "\n",
    "    if potential_matches:\n",
    "        return potential_matches[0]\n",
    "    else:\n",
    "        return 0"
   ],
   "metadata": {
    "collapsed": false
   }
  },
  {
   "cell_type": "code",
   "execution_count": 8,
   "outputs": [
    {
     "name": "stdout",
     "output_type": "stream",
     "text": [
      "INFO: Pandarallel will run on 12 workers.\n",
      "INFO: Pandarallel will use Memory file system to transfer data between the main process and workers.\n"
     ]
    }
   ],
   "source": [
    "pandarallel.initialize(nb_workers=12)"
   ],
   "metadata": {
    "collapsed": false
   }
  },
  {
   "cell_type": "code",
   "execution_count": 9,
   "outputs": [
    {
     "name": "stdout",
     "output_type": "stream",
     "text": [
      "CPU times: user 6.87 ms, sys: 11.4 ms, total: 18.3 ms\n",
      "Wall time: 100 ms\n"
     ]
    },
    {
     "data": {
      "text/plain": "    chr  start    end strand  class      RC3\n0  chr1  12227  12612      +      1    59151\n1  chr1  12721  13220      +      1    61021\n2  chr1  12057  12178      +      1        0\n3  chr1  12697  12974      +      1       21\n4  chr1  13052  13220      +      1      526\n5  chr1  13374  13452      +      1        0\n6  chr1  14501  15004      -      1        0\n7  chr1  15038  15795      -      1  7437205\n8  chr1  15947  16606      -      1  2667727\n9  chr1  16765  16857      -      1  7006744",
      "text/html": "<div>\n<style scoped>\n    .dataframe tbody tr th:only-of-type {\n        vertical-align: middle;\n    }\n\n    .dataframe tbody tr th {\n        vertical-align: top;\n    }\n\n    .dataframe thead th {\n        text-align: right;\n    }\n</style>\n<table border=\"1\" class=\"dataframe\">\n  <thead>\n    <tr style=\"text-align: right;\">\n      <th></th>\n      <th>chr</th>\n      <th>start</th>\n      <th>end</th>\n      <th>strand</th>\n      <th>class</th>\n      <th>RC3</th>\n    </tr>\n  </thead>\n  <tbody>\n    <tr>\n      <th>0</th>\n      <td>chr1</td>\n      <td>12227</td>\n      <td>12612</td>\n      <td>+</td>\n      <td>1</td>\n      <td>59151</td>\n    </tr>\n    <tr>\n      <th>1</th>\n      <td>chr1</td>\n      <td>12721</td>\n      <td>13220</td>\n      <td>+</td>\n      <td>1</td>\n      <td>61021</td>\n    </tr>\n    <tr>\n      <th>2</th>\n      <td>chr1</td>\n      <td>12057</td>\n      <td>12178</td>\n      <td>+</td>\n      <td>1</td>\n      <td>0</td>\n    </tr>\n    <tr>\n      <th>3</th>\n      <td>chr1</td>\n      <td>12697</td>\n      <td>12974</td>\n      <td>+</td>\n      <td>1</td>\n      <td>21</td>\n    </tr>\n    <tr>\n      <th>4</th>\n      <td>chr1</td>\n      <td>13052</td>\n      <td>13220</td>\n      <td>+</td>\n      <td>1</td>\n      <td>526</td>\n    </tr>\n    <tr>\n      <th>5</th>\n      <td>chr1</td>\n      <td>13374</td>\n      <td>13452</td>\n      <td>+</td>\n      <td>1</td>\n      <td>0</td>\n    </tr>\n    <tr>\n      <th>6</th>\n      <td>chr1</td>\n      <td>14501</td>\n      <td>15004</td>\n      <td>-</td>\n      <td>1</td>\n      <td>0</td>\n    </tr>\n    <tr>\n      <th>7</th>\n      <td>chr1</td>\n      <td>15038</td>\n      <td>15795</td>\n      <td>-</td>\n      <td>1</td>\n      <td>7437205</td>\n    </tr>\n    <tr>\n      <th>8</th>\n      <td>chr1</td>\n      <td>15947</td>\n      <td>16606</td>\n      <td>-</td>\n      <td>1</td>\n      <td>2667727</td>\n    </tr>\n    <tr>\n      <th>9</th>\n      <td>chr1</td>\n      <td>16765</td>\n      <td>16857</td>\n      <td>-</td>\n      <td>1</td>\n      <td>7006744</td>\n    </tr>\n  </tbody>\n</table>\n</div>"
     },
     "execution_count": 9,
     "metadata": {},
     "output_type": "execute_result"
    }
   ],
   "source": [
    "%%time\n",
    "df_test = df_trainset.copy().head(10)\n",
    "df_test[\"RC3\"] = df_test.apply(matchrc, axis=1)\n",
    "df_test"
   ],
   "metadata": {
    "collapsed": false
   }
  },
  {
   "cell_type": "code",
   "execution_count": 10,
   "outputs": [
    {
     "name": "stdout",
     "output_type": "stream",
     "text": [
      "CPU times: user 25.3 ms, sys: 343 ms, total: 368 ms\n",
      "Wall time: 5min 24s\n"
     ]
    },
    {
     "data": {
      "text/plain": "         chr     start       end strand  class  recount3_score\n0       chr1     12227     12612      +      1           59151\n1       chr1     12721     13220      +      1           61021\n2       chr1     12057     12178      +      1               0\n3       chr1     12697     12974      +      1              21\n4       chr1     13052     13220      +      1             526\n...      ...       ...       ...    ...    ...             ...\n519029  chrY  25464577  25465486      +      0               0\n519030  chrY  25513173  25513588      -      0           31374\n519031  chrY  25513745  25516715      -      0              67\n519032  chrY  25525288  25527646      -      0           18958\n519033  chrY  57213357  57213855      -      0               0\n\n[519034 rows x 6 columns]",
      "text/html": "<div>\n<style scoped>\n    .dataframe tbody tr th:only-of-type {\n        vertical-align: middle;\n    }\n\n    .dataframe tbody tr th {\n        vertical-align: top;\n    }\n\n    .dataframe thead th {\n        text-align: right;\n    }\n</style>\n<table border=\"1\" class=\"dataframe\">\n  <thead>\n    <tr style=\"text-align: right;\">\n      <th></th>\n      <th>chr</th>\n      <th>start</th>\n      <th>end</th>\n      <th>strand</th>\n      <th>class</th>\n      <th>recount3_score</th>\n    </tr>\n  </thead>\n  <tbody>\n    <tr>\n      <th>0</th>\n      <td>chr1</td>\n      <td>12227</td>\n      <td>12612</td>\n      <td>+</td>\n      <td>1</td>\n      <td>59151</td>\n    </tr>\n    <tr>\n      <th>1</th>\n      <td>chr1</td>\n      <td>12721</td>\n      <td>13220</td>\n      <td>+</td>\n      <td>1</td>\n      <td>61021</td>\n    </tr>\n    <tr>\n      <th>2</th>\n      <td>chr1</td>\n      <td>12057</td>\n      <td>12178</td>\n      <td>+</td>\n      <td>1</td>\n      <td>0</td>\n    </tr>\n    <tr>\n      <th>3</th>\n      <td>chr1</td>\n      <td>12697</td>\n      <td>12974</td>\n      <td>+</td>\n      <td>1</td>\n      <td>21</td>\n    </tr>\n    <tr>\n      <th>4</th>\n      <td>chr1</td>\n      <td>13052</td>\n      <td>13220</td>\n      <td>+</td>\n      <td>1</td>\n      <td>526</td>\n    </tr>\n    <tr>\n      <th>...</th>\n      <td>...</td>\n      <td>...</td>\n      <td>...</td>\n      <td>...</td>\n      <td>...</td>\n      <td>...</td>\n    </tr>\n    <tr>\n      <th>519029</th>\n      <td>chrY</td>\n      <td>25464577</td>\n      <td>25465486</td>\n      <td>+</td>\n      <td>0</td>\n      <td>0</td>\n    </tr>\n    <tr>\n      <th>519030</th>\n      <td>chrY</td>\n      <td>25513173</td>\n      <td>25513588</td>\n      <td>-</td>\n      <td>0</td>\n      <td>31374</td>\n    </tr>\n    <tr>\n      <th>519031</th>\n      <td>chrY</td>\n      <td>25513745</td>\n      <td>25516715</td>\n      <td>-</td>\n      <td>0</td>\n      <td>67</td>\n    </tr>\n    <tr>\n      <th>519032</th>\n      <td>chrY</td>\n      <td>25525288</td>\n      <td>25527646</td>\n      <td>-</td>\n      <td>0</td>\n      <td>18958</td>\n    </tr>\n    <tr>\n      <th>519033</th>\n      <td>chrY</td>\n      <td>57213357</td>\n      <td>57213855</td>\n      <td>-</td>\n      <td>0</td>\n      <td>0</td>\n    </tr>\n  </tbody>\n</table>\n<p>519034 rows × 6 columns</p>\n</div>"
     },
     "execution_count": 10,
     "metadata": {},
     "output_type": "execute_result"
    }
   ],
   "source": [
    "%%time\n",
    "df_trainset[\"recount3_score\"] = df_trainset.parallel_apply(matchrc, axis=1)\n",
    "df_trainset"
   ],
   "metadata": {
    "collapsed": false
   }
  },
  {
   "cell_type": "code",
   "execution_count": 11,
   "outputs": [],
   "source": [
    "# Optional backup:\n",
    "df_trainset.to_csv(\"data/05_trainset_recount3_feature.tsv\", sep=\"\\t\", index=False)"
   ],
   "metadata": {
    "collapsed": false
   }
  },
  {
   "cell_type": "code",
   "execution_count": 12,
   "outputs": [
    {
     "name": "stdout",
     "output_type": "stream",
     "text": [
      "2edc6e69902481e6fb62fb03ea084cd35baba20583c62e9a459d9656010c4591ceef9d0af187359f967ecad876ad58b71521bdf891fb60e4e7ee5b0704a5ca2c  data/05_trainset_recount3_feature.tsv\r\n"
     ]
    }
   ],
   "source": [
    "! sha512sum data/05_trainset_recount3_feature.tsv"
   ],
   "metadata": {
    "collapsed": false
   }
  },
  {
   "cell_type": "markdown",
   "source": [
    "# Adding repeat features to the merged train set\n"
   ],
   "metadata": {
    "collapsed": false
   }
  },
  {
   "cell_type": "code",
   "execution_count": null,
   "outputs": [],
   "source": [
    "def match_repeat_features_1(row):\n",
    "    \"\"\"\n",
    "    We call the tabix command, which look at the bed file to see if the row (which are entries in the intron that we extracted) overlaps with the repeat\n",
    "    regions detailed in the repeat_features.bed.gz, apart from the splice-site ({row.start+2}), we also look at the small-region that precedes (2 nt in the exon; row.start-2) the splice-site.\n",
    "    \"\"\"\n",
    "    matched_rows = !tabix ftp-data/repeat_features.bed.gz {row.chr}:{row.start-2}-{row.start+2} | cut -f4\n",
    "    return list(set(matched_rows + []))"
   ],
   "metadata": {
    "collapsed": false
   }
  },
  {
   "cell_type": "code",
   "execution_count": null,
   "outputs": [],
   "source": [
    "def match_repeat_features_2(row):\n",
    "    \"\"\"\n",
    "    We call the tabix command, which look at the bed file to see if the row (which are entries in the intron that we extracted) overlaps with the repeat\n",
    "    regions detailed in the repeat_features.bed.gz, apart from the splice-site ({row.end-2}), we also look at the small-region that proceeds (2 nt in the exon; {row.end+2}) the splice-site.\n",
    "    \"\"\"\n",
    "    matched_rows2 = !tabix ftp-data/repeat_features.bed.gz {row.chr}:{row.end-2}-{row.end+2} | cut -f4\n",
    "        # | cut -f4 | sort -u\n",
    "    return list(set([] + matched_rows2))"
   ],
   "metadata": {
    "collapsed": false
   }
  },
  {
   "cell_type": "code",
   "execution_count": null,
   "outputs": [],
   "source": [
    "pandarallel.initialize(progress_bar=False)"
   ],
   "metadata": {
    "collapsed": false
   }
  },
  {
   "cell_type": "code",
   "execution_count": null,
   "outputs": [],
   "source": [
    "%%time\n",
    "# Test cell\n",
    "df_draft = df_merged.copy().head(100)\n",
    "df_draft[\"Repeat_overlap\"] = df_draft.apply(match_repeat_features_1, axis=1)\n",
    "df_draft"
   ],
   "metadata": {
    "collapsed": false
   }
  },
  {
   "cell_type": "code",
   "execution_count": null,
   "outputs": [],
   "source": [
    "del df_draft"
   ],
   "metadata": {
    "collapsed": false
   }
  },
  {
   "cell_type": "code",
   "execution_count": null,
   "outputs": [],
   "source": [
    "%%time\n",
    "df_merged[\"repeat_features_start_site\"] = df_merged.parallel_apply(match_repeat_features_1, axis=1)\n",
    "df_merged"
   ],
   "metadata": {
    "collapsed": false
   }
  },
  {
   "cell_type": "code",
   "execution_count": null,
   "outputs": [],
   "source": [
    "%%time\n",
    "df_merged[\"repeat_features_end_site\"] = df_merged.parallel_apply(match_repeat_features_2, axis=1)\n",
    "df_merged"
   ],
   "metadata": {
    "collapsed": false
   }
  },
  {
   "cell_type": "code",
   "execution_count": null,
   "outputs": [],
   "source": [
    "# df_merged.to_csv(\"data/3-temp-output-2.tsv\", sep=\"\\t\", index=False)\n",
    "df_merged = pd.read_csv(\"data/3-temp-output-2.tsv\", sep=\"\\t\")"
   ],
   "metadata": {
    "collapsed": false
   }
  },
  {
   "cell_type": "markdown",
   "source": [
    "# Splice-site Antisense feature"
   ],
   "metadata": {
    "collapsed": false
   }
  },
  {
   "cell_type": "code",
   "execution_count": null,
   "outputs": [],
   "source": [
    "df_exons = pd.read_csv(\"/home/rabbit/Documents/Projects/ML_gene_annot/ftp-data/gencode.v44.annotation.gtf\", sep=\"\\t\", comment=\"#\", header=None, names=[\"chr\", \"annotator\", \"type\", \"start\", \"end\", \"x1\", \"strand\", \"x2\", \"features\"])\n",
    "df_exons = df_exons[df_exons[\"type\"] == \"exon\"]\n",
    "df_exons = df_exons.drop_duplicates(subset=[\"chr\", \"start\", \"end\", \"strand\"])\n",
    "df_exons"
   ],
   "metadata": {
    "collapsed": false
   }
  },
  {
   "cell_type": "code",
   "execution_count": null,
   "outputs": [],
   "source": [
    "def df_to_bed(df, bed_file):\n",
    "    with open(bed_file, 'w') as bed:\n",
    "        for index, row in df.iterrows():\n",
    "\n",
    "            chrom = row[0]\n",
    "            start = int(row[3]) - 1  # Convert 1-based to 0-based (BED format)\n",
    "            end = int(row[4])\n",
    "            strand = row[6]\n",
    "\n",
    "\n",
    "            bed_line = f\"{chrom}\\t{start-1}\\t{end}\\t.\\t.\\t{strand}\\n\"\n",
    "            bed.write(bed_line)\n",
    "\n",
    "# Convert the DataFrame to a BED file\n",
    "bed_file_path = 'exon.bed'\n",
    "df_to_bed(df_exons, bed_file_path)"
   ],
   "metadata": {
    "collapsed": false
   }
  },
  {
   "cell_type": "code",
   "execution_count": null,
   "outputs": [],
   "source": [
    "pandarallel.initialize(nb_workers=12)"
   ],
   "metadata": {
    "collapsed": false
   }
  },
  {
   "cell_type": "code",
   "execution_count": null,
   "outputs": [],
   "source": [
    "def antisense_exon_start(row):\n",
    "    \"\"\"\n",
    "    We call the tabix command, which look at the bed file to see if the row (which are entries in the intron that we extracted) overlaps with the repeat\n",
    "    regions detailed in the repeat_features.bed.gz, apart from the splice-site ({row.start+2}), we also look at the small-region that precedes (2 nt in the exon; row.start-2) the splice-site.\n",
    "    \"\"\"\n",
    "    opposite_strand = \"+\" if row.strand == \"-\" else \"-\"\n",
    "    # print(opposite_strand)\n",
    "    matched_rows = !tabix sorted_exon.bed.gz {row.chr}:{row.start}-{row.start+2} | cut -f6\n",
    "    # if matched_rows != []:\n",
    "    #     print(matched_rows)\n",
    "    return opposite_strand in matched_rows\n",
    "\n",
    "def antisense_exon_stop(row):\n",
    "    \"\"\"\n",
    "    We call the tabix command, which look at the bed file to see if the row (which are entries in the intron that we extracted) overlaps with the repeat\n",
    "    regions detailed in the repeat_features.bed.gz, apart from the splice-site ({row.start+2}), we also look at the small-region that precedes (2 nt in the exon; row.start-2) the splice-site.\n",
    "    \"\"\"\n",
    "    opposite_strand = \"+\" if row.strand == \"-\" else \"-\"\n",
    "    # print(opposite_strand)\n",
    "    matched_rows = !tabix sorted_exon.bed.gz {row.chr}:{row.end-2}-{row.end} | cut -f6\n",
    "    # if matched_rows != []:\n",
    "    #     print(matched_rows)\n",
    "    return opposite_strand in matched_rows"
   ],
   "metadata": {
    "collapsed": false
   }
  },
  {
   "cell_type": "code",
   "execution_count": null,
   "outputs": [],
   "source": [
    "df_merged"
   ],
   "metadata": {
    "collapsed": false
   }
  },
  {
   "cell_type": "code",
   "execution_count": null,
   "outputs": [],
   "source": [
    "%%time\n",
    "df_merged[\"ss_antisense_start_site\"] = df_merged.parallel_apply(antisense_exon_start, axis=1)\n",
    "df_merged"
   ],
   "metadata": {
    "collapsed": false
   }
  },
  {
   "cell_type": "code",
   "execution_count": null,
   "outputs": [],
   "source": [
    "%%time\n",
    "df_merged[\"ss_antisense_end_site\"] = df_merged.parallel_apply(antisense_exon_stop, axis=1)\n",
    "df_merged"
   ],
   "metadata": {
    "collapsed": false
   }
  },
  {
   "cell_type": "code",
   "execution_count": null,
   "outputs": [],
   "source": [
    "df_merged.to_csv(\"data/3_all_features.tsv\", sep=\"\\t\", index=False)"
   ],
   "metadata": {
    "collapsed": false
   }
  },
  {
   "cell_type": "code",
   "execution_count": null,
   "outputs": [],
   "source": [],
   "metadata": {
    "collapsed": false
   }
  }
 ],
 "metadata": {
  "kernelspec": {
   "display_name": "Python 3",
   "language": "python",
   "name": "python3"
  },
  "language_info": {
   "codemirror_mode": {
    "name": "ipython",
    "version": 2
   },
   "file_extension": ".py",
   "mimetype": "text/x-python",
   "name": "python",
   "nbconvert_exporter": "python",
   "pygments_lexer": "ipython2",
   "version": "2.7.6"
  }
 },
 "nbformat": 4,
 "nbformat_minor": 0
}
