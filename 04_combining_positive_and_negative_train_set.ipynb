{
 "cells": [
  {
   "cell_type": "code",
   "execution_count": 1,
   "metadata": {
    "collapsed": true
   },
   "outputs": [],
   "source": [
    "import pandas as pd"
   ]
  },
  {
   "cell_type": "code",
   "execution_count": 2,
   "outputs": [
    {
     "data": {
      "text/plain": "         chr     start       end strand  class\n0       chr1     12227     12612      +      1\n1       chr1     12721     13220      +      1\n2       chr1     12057     12178      +      1\n3       chr1     12697     12974      +      1\n4       chr1     13052     13220      +      1\n...      ...       ...       ...    ...    ...\n402449  chrY  57211569  57211760      +      1\n402450  chrY  57213125  57213203      -      1\n402451  chrY  57213357  57213525      -      1\n402452  chrY  57213602  57213879      -      1\n402453  chrY  57213964  57214349      -      1\n\n[402454 rows x 5 columns]",
      "text/html": "<div>\n<style scoped>\n    .dataframe tbody tr th:only-of-type {\n        vertical-align: middle;\n    }\n\n    .dataframe tbody tr th {\n        vertical-align: top;\n    }\n\n    .dataframe thead th {\n        text-align: right;\n    }\n</style>\n<table border=\"1\" class=\"dataframe\">\n  <thead>\n    <tr style=\"text-align: right;\">\n      <th></th>\n      <th>chr</th>\n      <th>start</th>\n      <th>end</th>\n      <th>strand</th>\n      <th>class</th>\n    </tr>\n  </thead>\n  <tbody>\n    <tr>\n      <th>0</th>\n      <td>chr1</td>\n      <td>12227</td>\n      <td>12612</td>\n      <td>+</td>\n      <td>1</td>\n    </tr>\n    <tr>\n      <th>1</th>\n      <td>chr1</td>\n      <td>12721</td>\n      <td>13220</td>\n      <td>+</td>\n      <td>1</td>\n    </tr>\n    <tr>\n      <th>2</th>\n      <td>chr1</td>\n      <td>12057</td>\n      <td>12178</td>\n      <td>+</td>\n      <td>1</td>\n    </tr>\n    <tr>\n      <th>3</th>\n      <td>chr1</td>\n      <td>12697</td>\n      <td>12974</td>\n      <td>+</td>\n      <td>1</td>\n    </tr>\n    <tr>\n      <th>4</th>\n      <td>chr1</td>\n      <td>13052</td>\n      <td>13220</td>\n      <td>+</td>\n      <td>1</td>\n    </tr>\n    <tr>\n      <th>...</th>\n      <td>...</td>\n      <td>...</td>\n      <td>...</td>\n      <td>...</td>\n      <td>...</td>\n    </tr>\n    <tr>\n      <th>402449</th>\n      <td>chrY</td>\n      <td>57211569</td>\n      <td>57211760</td>\n      <td>+</td>\n      <td>1</td>\n    </tr>\n    <tr>\n      <th>402450</th>\n      <td>chrY</td>\n      <td>57213125</td>\n      <td>57213203</td>\n      <td>-</td>\n      <td>1</td>\n    </tr>\n    <tr>\n      <th>402451</th>\n      <td>chrY</td>\n      <td>57213357</td>\n      <td>57213525</td>\n      <td>-</td>\n      <td>1</td>\n    </tr>\n    <tr>\n      <th>402452</th>\n      <td>chrY</td>\n      <td>57213602</td>\n      <td>57213879</td>\n      <td>-</td>\n      <td>1</td>\n    </tr>\n    <tr>\n      <th>402453</th>\n      <td>chrY</td>\n      <td>57213964</td>\n      <td>57214349</td>\n      <td>-</td>\n      <td>1</td>\n    </tr>\n  </tbody>\n</table>\n<p>402454 rows × 5 columns</p>\n</div>"
     },
     "execution_count": 2,
     "metadata": {},
     "output_type": "execute_result"
    }
   ],
   "source": [
    "df_gencode = pd.read_csv(\"data/01_gencode_introns.tsv\", sep=\"\\t\")\n",
    "df_gencode[\"class\"] = 1\n",
    "df_gencode"
   ],
   "metadata": {
    "collapsed": false
   }
  },
  {
   "cell_type": "code",
   "execution_count": 3,
   "outputs": [
    {
     "data": {
      "text/plain": "      chr      start        end strand  class\n0    chr1     732207     739802      -      0\n1    chr1    6634784    6634990      -      0\n2    chr1    9036720    9088663      +      0\n3    chr1    9088686    9100902      +      0\n4    chr1   11277018   11277484      -      0\n..    ...        ...        ...    ...    ...\n398  chrX  151403679  151404937      +      0\n399  chrX  151409210  151456968      +      0\n400  chrX  153906577  153906694      -      0\n401  chrX  153906409  153906520      -      0\n402  chrY   20579691   20582591      +      0\n\n[403 rows x 5 columns]",
      "text/html": "<div>\n<style scoped>\n    .dataframe tbody tr th:only-of-type {\n        vertical-align: middle;\n    }\n\n    .dataframe tbody tr th {\n        vertical-align: top;\n    }\n\n    .dataframe thead th {\n        text-align: right;\n    }\n</style>\n<table border=\"1\" class=\"dataframe\">\n  <thead>\n    <tr style=\"text-align: right;\">\n      <th></th>\n      <th>chr</th>\n      <th>start</th>\n      <th>end</th>\n      <th>strand</th>\n      <th>class</th>\n    </tr>\n  </thead>\n  <tbody>\n    <tr>\n      <th>0</th>\n      <td>chr1</td>\n      <td>732207</td>\n      <td>739802</td>\n      <td>-</td>\n      <td>0</td>\n    </tr>\n    <tr>\n      <th>1</th>\n      <td>chr1</td>\n      <td>6634784</td>\n      <td>6634990</td>\n      <td>-</td>\n      <td>0</td>\n    </tr>\n    <tr>\n      <th>2</th>\n      <td>chr1</td>\n      <td>9036720</td>\n      <td>9088663</td>\n      <td>+</td>\n      <td>0</td>\n    </tr>\n    <tr>\n      <th>3</th>\n      <td>chr1</td>\n      <td>9088686</td>\n      <td>9100902</td>\n      <td>+</td>\n      <td>0</td>\n    </tr>\n    <tr>\n      <th>4</th>\n      <td>chr1</td>\n      <td>11277018</td>\n      <td>11277484</td>\n      <td>-</td>\n      <td>0</td>\n    </tr>\n    <tr>\n      <th>...</th>\n      <td>...</td>\n      <td>...</td>\n      <td>...</td>\n      <td>...</td>\n      <td>...</td>\n    </tr>\n    <tr>\n      <th>398</th>\n      <td>chrX</td>\n      <td>151403679</td>\n      <td>151404937</td>\n      <td>+</td>\n      <td>0</td>\n    </tr>\n    <tr>\n      <th>399</th>\n      <td>chrX</td>\n      <td>151409210</td>\n      <td>151456968</td>\n      <td>+</td>\n      <td>0</td>\n    </tr>\n    <tr>\n      <th>400</th>\n      <td>chrX</td>\n      <td>153906577</td>\n      <td>153906694</td>\n      <td>-</td>\n      <td>0</td>\n    </tr>\n    <tr>\n      <th>401</th>\n      <td>chrX</td>\n      <td>153906409</td>\n      <td>153906520</td>\n      <td>-</td>\n      <td>0</td>\n    </tr>\n    <tr>\n      <th>402</th>\n      <td>chrY</td>\n      <td>20579691</td>\n      <td>20582591</td>\n      <td>+</td>\n      <td>0</td>\n    </tr>\n  </tbody>\n</table>\n<p>403 rows × 5 columns</p>\n</div>"
     },
     "execution_count": 3,
     "metadata": {},
     "output_type": "execute_result"
    }
   ],
   "source": [
    "df_manually_rejected_introns = pd.read_csv(\"data/02_manually_rejected_introns.tsv\", sep=\"\\t\")\n",
    "df_manually_rejected_introns[\"class\"] = 0\n",
    "df_manually_rejected_introns = df_manually_rejected_introns.drop_duplicates(subset=[\"chr\", \"start\", \"end\", \"strand\"])\n",
    "df_manually_rejected_introns"
   ],
   "metadata": {
    "collapsed": false
   }
  },
  {
   "cell_type": "code",
   "execution_count": 4,
   "outputs": [
    {
     "data": {
      "text/plain": "               chr   start     end strand  class\n0             chr1   14829   14969      -      0\n1             chr1   15038   15795      -      0\n2             chr1   15947   16606      -      0\n3             chr1   16765   16853      -      0\n4             chr1   17055   17232      -      0\n...            ...     ...     ...    ...    ...\n961185  KI270734.1  151021  161313      -      0\n961190  KI270734.1  156415  160060      -      0\n961191  KI270744.1  126432  134115      -      0\n961192  KI270744.1  134211  134712      -      0\n961193  KI270744.1  134839  140776      -      0\n\n[294590 rows x 5 columns]",
      "text/html": "<div>\n<style scoped>\n    .dataframe tbody tr th:only-of-type {\n        vertical-align: middle;\n    }\n\n    .dataframe tbody tr th {\n        vertical-align: top;\n    }\n\n    .dataframe thead th {\n        text-align: right;\n    }\n</style>\n<table border=\"1\" class=\"dataframe\">\n  <thead>\n    <tr style=\"text-align: right;\">\n      <th></th>\n      <th>chr</th>\n      <th>start</th>\n      <th>end</th>\n      <th>strand</th>\n      <th>class</th>\n    </tr>\n  </thead>\n  <tbody>\n    <tr>\n      <th>0</th>\n      <td>chr1</td>\n      <td>14829</td>\n      <td>14969</td>\n      <td>-</td>\n      <td>0</td>\n    </tr>\n    <tr>\n      <th>1</th>\n      <td>chr1</td>\n      <td>15038</td>\n      <td>15795</td>\n      <td>-</td>\n      <td>0</td>\n    </tr>\n    <tr>\n      <th>2</th>\n      <td>chr1</td>\n      <td>15947</td>\n      <td>16606</td>\n      <td>-</td>\n      <td>0</td>\n    </tr>\n    <tr>\n      <th>3</th>\n      <td>chr1</td>\n      <td>16765</td>\n      <td>16853</td>\n      <td>-</td>\n      <td>0</td>\n    </tr>\n    <tr>\n      <th>4</th>\n      <td>chr1</td>\n      <td>17055</td>\n      <td>17232</td>\n      <td>-</td>\n      <td>0</td>\n    </tr>\n    <tr>\n      <th>...</th>\n      <td>...</td>\n      <td>...</td>\n      <td>...</td>\n      <td>...</td>\n      <td>...</td>\n    </tr>\n    <tr>\n      <th>961185</th>\n      <td>KI270734.1</td>\n      <td>151021</td>\n      <td>161313</td>\n      <td>-</td>\n      <td>0</td>\n    </tr>\n    <tr>\n      <th>961190</th>\n      <td>KI270734.1</td>\n      <td>156415</td>\n      <td>160060</td>\n      <td>-</td>\n      <td>0</td>\n    </tr>\n    <tr>\n      <th>961191</th>\n      <td>KI270744.1</td>\n      <td>126432</td>\n      <td>134115</td>\n      <td>-</td>\n      <td>0</td>\n    </tr>\n    <tr>\n      <th>961192</th>\n      <td>KI270744.1</td>\n      <td>134211</td>\n      <td>134712</td>\n      <td>-</td>\n      <td>0</td>\n    </tr>\n    <tr>\n      <th>961193</th>\n      <td>KI270744.1</td>\n      <td>134839</td>\n      <td>140776</td>\n      <td>-</td>\n      <td>0</td>\n    </tr>\n  </tbody>\n</table>\n<p>294590 rows × 5 columns</p>\n</div>"
     },
     "execution_count": 4,
     "metadata": {},
     "output_type": "execute_result"
    }
   ],
   "source": [
    "df_simulation_a_introns = pd.read_csv(\"./data/false_introns_simulated/simulation_a_introns.bed\", sep=\"\\t\",\n",
    "\t\t\t\t\t\t\t\t\tnames=[\"chr\", \"start\", \"end\", \"features\", \"score\", \"strand\"])\n",
    "df_simulation_a_introns = df_simulation_a_introns.loc[:, [\"chr\", \"start\", \"end\", \"strand\"]]\n",
    "df_simulation_a_introns[\"class\"] = 0\n",
    "df_simulation_a_introns = df_simulation_a_introns.drop_duplicates(subset=[\"chr\", \"start\", \"end\", \"strand\"])\n",
    "df_simulation_a_introns"
   ],
   "metadata": {
    "collapsed": false
   }
  },
  {
   "cell_type": "code",
   "execution_count": 5,
   "outputs": [
    {
     "data": {
      "text/plain": "                chr   start     end strand  class\n0              chr1   14829   14969      -      0\n1              chr1   15038   15795      -      0\n2              chr1   15947   16606      -      0\n3              chr1   16765   16853      -      0\n4              chr1   17055   17232      -      0\n...             ...     ...     ...    ...    ...\n2881077  KI270734.1  151021  161313      -      0\n2881108  KI270734.1  156415  160060      -      0\n2881109  KI270744.1  126432  134115      -      0\n2881110  KI270744.1  134211  134712      -      0\n2881111  KI270744.1  134839  140776      -      0\n\n[341719 rows x 5 columns]",
      "text/html": "<div>\n<style scoped>\n    .dataframe tbody tr th:only-of-type {\n        vertical-align: middle;\n    }\n\n    .dataframe tbody tr th {\n        vertical-align: top;\n    }\n\n    .dataframe thead th {\n        text-align: right;\n    }\n</style>\n<table border=\"1\" class=\"dataframe\">\n  <thead>\n    <tr style=\"text-align: right;\">\n      <th></th>\n      <th>chr</th>\n      <th>start</th>\n      <th>end</th>\n      <th>strand</th>\n      <th>class</th>\n    </tr>\n  </thead>\n  <tbody>\n    <tr>\n      <th>0</th>\n      <td>chr1</td>\n      <td>14829</td>\n      <td>14969</td>\n      <td>-</td>\n      <td>0</td>\n    </tr>\n    <tr>\n      <th>1</th>\n      <td>chr1</td>\n      <td>15038</td>\n      <td>15795</td>\n      <td>-</td>\n      <td>0</td>\n    </tr>\n    <tr>\n      <th>2</th>\n      <td>chr1</td>\n      <td>15947</td>\n      <td>16606</td>\n      <td>-</td>\n      <td>0</td>\n    </tr>\n    <tr>\n      <th>3</th>\n      <td>chr1</td>\n      <td>16765</td>\n      <td>16853</td>\n      <td>-</td>\n      <td>0</td>\n    </tr>\n    <tr>\n      <th>4</th>\n      <td>chr1</td>\n      <td>17055</td>\n      <td>17232</td>\n      <td>-</td>\n      <td>0</td>\n    </tr>\n    <tr>\n      <th>...</th>\n      <td>...</td>\n      <td>...</td>\n      <td>...</td>\n      <td>...</td>\n      <td>...</td>\n    </tr>\n    <tr>\n      <th>2881077</th>\n      <td>KI270734.1</td>\n      <td>151021</td>\n      <td>161313</td>\n      <td>-</td>\n      <td>0</td>\n    </tr>\n    <tr>\n      <th>2881108</th>\n      <td>KI270734.1</td>\n      <td>156415</td>\n      <td>160060</td>\n      <td>-</td>\n      <td>0</td>\n    </tr>\n    <tr>\n      <th>2881109</th>\n      <td>KI270744.1</td>\n      <td>126432</td>\n      <td>134115</td>\n      <td>-</td>\n      <td>0</td>\n    </tr>\n    <tr>\n      <th>2881110</th>\n      <td>KI270744.1</td>\n      <td>134211</td>\n      <td>134712</td>\n      <td>-</td>\n      <td>0</td>\n    </tr>\n    <tr>\n      <th>2881111</th>\n      <td>KI270744.1</td>\n      <td>134839</td>\n      <td>140776</td>\n      <td>-</td>\n      <td>0</td>\n    </tr>\n  </tbody>\n</table>\n<p>341719 rows × 5 columns</p>\n</div>"
     },
     "execution_count": 5,
     "metadata": {},
     "output_type": "execute_result"
    }
   ],
   "source": [
    "df_simulation_b_introns = pd.read_csv(\"./data/false_introns_simulated/simulation_b_introns.bed\", sep=\"\\t\",\n",
    "\t\t\t\t\t\t\t\t\tnames=[\"chr\", \"start\", \"end\", \"features\", \"score\", \"strand\"])\n",
    "df_simulation_b_introns = df_simulation_b_introns.loc[:, [\"chr\", \"start\", \"end\", \"strand\"]]\n",
    "df_simulation_b_introns[\"class\"] = 0\n",
    "df_simulation_b_introns = df_simulation_b_introns.drop_duplicates(subset=[\"chr\", \"start\", \"end\", \"strand\"])\n",
    "df_simulation_b_introns"
   ],
   "metadata": {
    "collapsed": false
   }
  },
  {
   "cell_type": "code",
   "execution_count": 6,
   "outputs": [
    {
     "data": {
      "text/plain": "                chr   start     end strand  class\n0              chr1   14829   14969      -      0\n1              chr1   15038   15795      -      0\n2              chr1   15947   16606      -      0\n3              chr1   16765   16853      -      0\n4              chr1   17055   17232      -      0\n...             ...     ...     ...    ...    ...\n2963821  KI270734.1  151021  161313      -      0\n2963835  KI270734.1  156415  160060      -      0\n2963857  KI270744.1  126432  134115      -      0\n2963858  KI270744.1  134211  134712      -      0\n2963859  KI270744.1  134839  140776      -      0\n\n[316991 rows x 5 columns]",
      "text/html": "<div>\n<style scoped>\n    .dataframe tbody tr th:only-of-type {\n        vertical-align: middle;\n    }\n\n    .dataframe tbody tr th {\n        vertical-align: top;\n    }\n\n    .dataframe thead th {\n        text-align: right;\n    }\n</style>\n<table border=\"1\" class=\"dataframe\">\n  <thead>\n    <tr style=\"text-align: right;\">\n      <th></th>\n      <th>chr</th>\n      <th>start</th>\n      <th>end</th>\n      <th>strand</th>\n      <th>class</th>\n    </tr>\n  </thead>\n  <tbody>\n    <tr>\n      <th>0</th>\n      <td>chr1</td>\n      <td>14829</td>\n      <td>14969</td>\n      <td>-</td>\n      <td>0</td>\n    </tr>\n    <tr>\n      <th>1</th>\n      <td>chr1</td>\n      <td>15038</td>\n      <td>15795</td>\n      <td>-</td>\n      <td>0</td>\n    </tr>\n    <tr>\n      <th>2</th>\n      <td>chr1</td>\n      <td>15947</td>\n      <td>16606</td>\n      <td>-</td>\n      <td>0</td>\n    </tr>\n    <tr>\n      <th>3</th>\n      <td>chr1</td>\n      <td>16765</td>\n      <td>16853</td>\n      <td>-</td>\n      <td>0</td>\n    </tr>\n    <tr>\n      <th>4</th>\n      <td>chr1</td>\n      <td>17055</td>\n      <td>17232</td>\n      <td>-</td>\n      <td>0</td>\n    </tr>\n    <tr>\n      <th>...</th>\n      <td>...</td>\n      <td>...</td>\n      <td>...</td>\n      <td>...</td>\n      <td>...</td>\n    </tr>\n    <tr>\n      <th>2963821</th>\n      <td>KI270734.1</td>\n      <td>151021</td>\n      <td>161313</td>\n      <td>-</td>\n      <td>0</td>\n    </tr>\n    <tr>\n      <th>2963835</th>\n      <td>KI270734.1</td>\n      <td>156415</td>\n      <td>160060</td>\n      <td>-</td>\n      <td>0</td>\n    </tr>\n    <tr>\n      <th>2963857</th>\n      <td>KI270744.1</td>\n      <td>126432</td>\n      <td>134115</td>\n      <td>-</td>\n      <td>0</td>\n    </tr>\n    <tr>\n      <th>2963858</th>\n      <td>KI270744.1</td>\n      <td>134211</td>\n      <td>134712</td>\n      <td>-</td>\n      <td>0</td>\n    </tr>\n    <tr>\n      <th>2963859</th>\n      <td>KI270744.1</td>\n      <td>134839</td>\n      <td>140776</td>\n      <td>-</td>\n      <td>0</td>\n    </tr>\n  </tbody>\n</table>\n<p>316991 rows × 5 columns</p>\n</div>"
     },
     "execution_count": 6,
     "metadata": {},
     "output_type": "execute_result"
    }
   ],
   "source": [
    "df_simulation_c_introns = pd.read_csv(\"./data/false_introns_simulated/simulation_c_introns.bed\", sep=\"\\t\",\n",
    "\t\t\t\t\t\t\t\t\tnames=[\"chr\", \"start\", \"end\", \"features\", \"score\", \"strand\"])\n",
    "df_simulation_c_introns = df_simulation_c_introns.loc[:, [\"chr\", \"start\", \"end\", \"strand\"]]\n",
    "df_simulation_c_introns[\"class\"] = 0\n",
    "df_simulation_c_introns = df_simulation_c_introns.drop_duplicates(subset=[\"chr\", \"start\", \"end\", \"strand\"])\n",
    "df_simulation_c_introns"
   ],
   "metadata": {
    "collapsed": false
   }
  },
  {
   "cell_type": "code",
   "execution_count": 7,
   "outputs": [
    {
     "data": {
      "text/plain": "               chr  start    end strand  class\n0             chr1  12227  12612      +      0\n1             chr1  12721  13220      +      0\n6             chr1  12227  12594      +      0\n7             chr1  12721  13402      +      0\n8             chr1  14829  14969      -      0\n...            ...    ...    ...    ...    ...\n167229  KI270749.1  37099  39211      +      0\n167230  KI270749.1  39277  40568      +      0\n167231  KI270750.1  90486  95158      -      0\n167232  KI270753.1  42256  43417      -      0\n167233  KI270753.1  43541  44201      -      0\n\n[79478 rows x 5 columns]",
      "text/html": "<div>\n<style scoped>\n    .dataframe tbody tr th:only-of-type {\n        vertical-align: middle;\n    }\n\n    .dataframe tbody tr th {\n        vertical-align: top;\n    }\n\n    .dataframe thead th {\n        text-align: right;\n    }\n</style>\n<table border=\"1\" class=\"dataframe\">\n  <thead>\n    <tr style=\"text-align: right;\">\n      <th></th>\n      <th>chr</th>\n      <th>start</th>\n      <th>end</th>\n      <th>strand</th>\n      <th>class</th>\n    </tr>\n  </thead>\n  <tbody>\n    <tr>\n      <th>0</th>\n      <td>chr1</td>\n      <td>12227</td>\n      <td>12612</td>\n      <td>+</td>\n      <td>0</td>\n    </tr>\n    <tr>\n      <th>1</th>\n      <td>chr1</td>\n      <td>12721</td>\n      <td>13220</td>\n      <td>+</td>\n      <td>0</td>\n    </tr>\n    <tr>\n      <th>6</th>\n      <td>chr1</td>\n      <td>12227</td>\n      <td>12594</td>\n      <td>+</td>\n      <td>0</td>\n    </tr>\n    <tr>\n      <th>7</th>\n      <td>chr1</td>\n      <td>12721</td>\n      <td>13402</td>\n      <td>+</td>\n      <td>0</td>\n    </tr>\n    <tr>\n      <th>8</th>\n      <td>chr1</td>\n      <td>14829</td>\n      <td>14969</td>\n      <td>-</td>\n      <td>0</td>\n    </tr>\n    <tr>\n      <th>...</th>\n      <td>...</td>\n      <td>...</td>\n      <td>...</td>\n      <td>...</td>\n      <td>...</td>\n    </tr>\n    <tr>\n      <th>167229</th>\n      <td>KI270749.1</td>\n      <td>37099</td>\n      <td>39211</td>\n      <td>+</td>\n      <td>0</td>\n    </tr>\n    <tr>\n      <th>167230</th>\n      <td>KI270749.1</td>\n      <td>39277</td>\n      <td>40568</td>\n      <td>+</td>\n      <td>0</td>\n    </tr>\n    <tr>\n      <th>167231</th>\n      <td>KI270750.1</td>\n      <td>90486</td>\n      <td>95158</td>\n      <td>-</td>\n      <td>0</td>\n    </tr>\n    <tr>\n      <th>167232</th>\n      <td>KI270753.1</td>\n      <td>42256</td>\n      <td>43417</td>\n      <td>-</td>\n      <td>0</td>\n    </tr>\n    <tr>\n      <th>167233</th>\n      <td>KI270753.1</td>\n      <td>43541</td>\n      <td>44201</td>\n      <td>-</td>\n      <td>0</td>\n    </tr>\n  </tbody>\n</table>\n<p>79478 rows × 5 columns</p>\n</div>"
     },
     "execution_count": 7,
     "metadata": {},
     "output_type": "execute_result"
    }
   ],
   "source": [
    "df_simulation_d_introns = pd.read_csv(\"./data/false_introns_simulated/simulation_d_introns.bed\", sep=\"\\t\",\n",
    "\t\t\t\t\t\t\t\t\tnames=[\"chr\", \"start\", \"end\", \"features\", \"score\", \"strand\"])\n",
    "df_simulation_d_introns = df_simulation_d_introns.loc[:, [\"chr\", \"start\", \"end\", \"strand\"]]\n",
    "df_simulation_d_introns[\"class\"] = 0\n",
    "df_simulation_d_introns = df_simulation_d_introns.drop_duplicates(subset=[\"chr\", \"start\", \"end\", \"strand\"])\n",
    "df_simulation_d_introns"
   ],
   "metadata": {
    "collapsed": false
   }
  },
  {
   "cell_type": "code",
   "execution_count": 8,
   "outputs": [],
   "source": [
    "df_trainset_combined = pd.concat([df_gencode, df_manually_rejected_introns, df_simulation_a_introns, df_simulation_b_introns,\n",
    "\t\t\t\t\t   df_simulation_c_introns, df_simulation_d_introns]).drop_duplicates(subset=[\"chr\", \"start\", \"end\", \"strand\"], keep='first')"
   ],
   "metadata": {
    "collapsed": false
   }
  },
  {
   "cell_type": "code",
   "execution_count": 9,
   "outputs": [
    {
     "data": {
      "text/plain": "               chr  start    end strand  class\n0             chr1  12227  12612      +      1\n1             chr1  12721  13220      +      1\n2             chr1  12057  12178      +      1\n3             chr1  12697  12974      +      1\n4             chr1  13052  13220      +      1\n...            ...    ...    ...    ...    ...\n167229  KI270749.1  37099  39211      +      0\n167230  KI270749.1  39277  40568      +      0\n167231  KI270750.1  90486  95158      -      0\n167232  KI270753.1  42256  43417      -      0\n167233  KI270753.1  43541  44201      -      0\n\n[519894 rows x 5 columns]",
      "text/html": "<div>\n<style scoped>\n    .dataframe tbody tr th:only-of-type {\n        vertical-align: middle;\n    }\n\n    .dataframe tbody tr th {\n        vertical-align: top;\n    }\n\n    .dataframe thead th {\n        text-align: right;\n    }\n</style>\n<table border=\"1\" class=\"dataframe\">\n  <thead>\n    <tr style=\"text-align: right;\">\n      <th></th>\n      <th>chr</th>\n      <th>start</th>\n      <th>end</th>\n      <th>strand</th>\n      <th>class</th>\n    </tr>\n  </thead>\n  <tbody>\n    <tr>\n      <th>0</th>\n      <td>chr1</td>\n      <td>12227</td>\n      <td>12612</td>\n      <td>+</td>\n      <td>1</td>\n    </tr>\n    <tr>\n      <th>1</th>\n      <td>chr1</td>\n      <td>12721</td>\n      <td>13220</td>\n      <td>+</td>\n      <td>1</td>\n    </tr>\n    <tr>\n      <th>2</th>\n      <td>chr1</td>\n      <td>12057</td>\n      <td>12178</td>\n      <td>+</td>\n      <td>1</td>\n    </tr>\n    <tr>\n      <th>3</th>\n      <td>chr1</td>\n      <td>12697</td>\n      <td>12974</td>\n      <td>+</td>\n      <td>1</td>\n    </tr>\n    <tr>\n      <th>4</th>\n      <td>chr1</td>\n      <td>13052</td>\n      <td>13220</td>\n      <td>+</td>\n      <td>1</td>\n    </tr>\n    <tr>\n      <th>...</th>\n      <td>...</td>\n      <td>...</td>\n      <td>...</td>\n      <td>...</td>\n      <td>...</td>\n    </tr>\n    <tr>\n      <th>167229</th>\n      <td>KI270749.1</td>\n      <td>37099</td>\n      <td>39211</td>\n      <td>+</td>\n      <td>0</td>\n    </tr>\n    <tr>\n      <th>167230</th>\n      <td>KI270749.1</td>\n      <td>39277</td>\n      <td>40568</td>\n      <td>+</td>\n      <td>0</td>\n    </tr>\n    <tr>\n      <th>167231</th>\n      <td>KI270750.1</td>\n      <td>90486</td>\n      <td>95158</td>\n      <td>-</td>\n      <td>0</td>\n    </tr>\n    <tr>\n      <th>167232</th>\n      <td>KI270753.1</td>\n      <td>42256</td>\n      <td>43417</td>\n      <td>-</td>\n      <td>0</td>\n    </tr>\n    <tr>\n      <th>167233</th>\n      <td>KI270753.1</td>\n      <td>43541</td>\n      <td>44201</td>\n      <td>-</td>\n      <td>0</td>\n    </tr>\n  </tbody>\n</table>\n<p>519894 rows × 5 columns</p>\n</div>"
     },
     "execution_count": 9,
     "metadata": {},
     "output_type": "execute_result"
    }
   ],
   "source": [
    "df_trainset_combined"
   ],
   "metadata": {
    "collapsed": false
   }
  },
  {
   "cell_type": "code",
   "execution_count": 10,
   "outputs": [
    {
     "name": "stdout",
     "output_type": "stream",
     "text": [
      "Total amount of generated negative introns: 117440\n"
     ]
    }
   ],
   "source": [
    "print(\"Total amount of generated negative introns:\", sum(df_trainset_combined[\"class\"] == 0))"
   ],
   "metadata": {
    "collapsed": false
   }
  },
  {
   "cell_type": "code",
   "execution_count": 11,
   "outputs": [],
   "source": [
    "assert (len(df_trainset_combined[df_trainset_combined.start == 15038]) == 1)\n",
    "assert (df_trainset_combined[df_trainset_combined.start == 15038].iloc[0][\"class\"] == 1)"
   ],
   "metadata": {
    "collapsed": false
   }
  },
  {
   "cell_type": "code",
   "execution_count": null,
   "outputs": [],
   "source": [],
   "metadata": {
    "collapsed": false
   }
  }
 ],
 "metadata": {
  "kernelspec": {
   "display_name": "Python 3",
   "language": "python",
   "name": "python3"
  },
  "language_info": {
   "codemirror_mode": {
    "name": "ipython",
    "version": 2
   },
   "file_extension": ".py",
   "mimetype": "text/x-python",
   "name": "python",
   "nbconvert_exporter": "python",
   "pygments_lexer": "ipython2",
   "version": "2.7.6"
  }
 },
 "nbformat": 4,
 "nbformat_minor": 0
}
