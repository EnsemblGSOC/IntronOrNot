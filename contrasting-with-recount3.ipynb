{
 "cells": [
  {
   "cell_type": "code",
   "execution_count": 1,
   "metadata": {
    "collapsed": true
   },
   "outputs": [],
   "source": [
    "import pandas as pd"
   ]
  },
  {
   "cell_type": "code",
   "execution_count": 2,
   "outputs": [],
   "source": [
    "df_recount3 = pd.read_csv(\"ftp-data/recount3.bed\", sep=\"\\t\", names=[\"Chrom\", \"Start\", \"End\", \"Features\", \"Score\", \"Strand\"])\n",
    "df_gencode_introns = pd.read_csv(\"gencode_v44_introns.csv\")\n",
    "df_recount3"
   ],
   "metadata": {
    "collapsed": false
   }
  },
  {
   "cell_type": "code",
   "execution_count": 8,
   "outputs": [
    {
     "data": {
      "text/plain": "                           chrom  chromStart  chromEnd  \\\n0                           chr1       10017     10106   \n1                           chr1       10017     10178   \n2                           chr1       10023     10106   \n3                           chr1       10023     10178   \n4                           chr1       10029     10106   \n...                          ...         ...       ...   \n16350176  chrY_KI270740v1_random       34728     36982   \n16350177  chrY_KI270740v1_random       34853     36982   \n16350178  chrY_KI270740v1_random       34853     37107   \n16350179  chrY_KI270740v1_random       35132     35257   \n16350180  chrY_KI270740v1_random       35228     36484   \n\n                                            Features  Score Strand  \n0           GTExv2=0:0;TCGAv2=0:0;SRAv3h=19:26;GT:AG     26      -  \n1           GTExv2=0:0;TCGAv2=0:0;SRAv3h=24:40;GT:AG     40      -  \n2           GTExv2=0:0;TCGAv2=0:0;SRAv3h=60:98;GT:AG     98      -  \n3          GTExv2=0:0;TCGAv2=0:0;SRAv3h=72:123;GT:AG    123      -  \n4         GTExv2=0:0;TCGAv2=0:0;SRAv3h=150:307;GT:AG    307      -  \n...                                              ...    ...    ...  \n16350176    GTExv2=0:0;TCGAv2=0:0;SRAv3h=18:36;GT:AG     36      -  \n16350177    GTExv2=0:0;TCGAv2=0:0;SRAv3h=21:37;GT:AG     37      -  \n16350178    GTExv2=2:2;TCGAv2=0:0;SRAv3h=22:27;GT:AG     29      -  \n16350179    GTExv2=0:0;TCGAv2=0:0;SRAv3h=28:39;GT:AG     39      +  \n16350180    GTExv2=0:0;TCGAv2=0:0;SRAv3h=18:33;GT:AG     33      -  \n\n[16350181 rows x 6 columns]",
      "text/html": "<div>\n<style scoped>\n    .dataframe tbody tr th:only-of-type {\n        vertical-align: middle;\n    }\n\n    .dataframe tbody tr th {\n        vertical-align: top;\n    }\n\n    .dataframe thead th {\n        text-align: right;\n    }\n</style>\n<table border=\"1\" class=\"dataframe\">\n  <thead>\n    <tr style=\"text-align: right;\">\n      <th></th>\n      <th>chrom</th>\n      <th>chromStart</th>\n      <th>chromEnd</th>\n      <th>Features</th>\n      <th>Score</th>\n      <th>Strand</th>\n    </tr>\n  </thead>\n  <tbody>\n    <tr>\n      <th>0</th>\n      <td>chr1</td>\n      <td>10017</td>\n      <td>10106</td>\n      <td>GTExv2=0:0;TCGAv2=0:0;SRAv3h=19:26;GT:AG</td>\n      <td>26</td>\n      <td>-</td>\n    </tr>\n    <tr>\n      <th>1</th>\n      <td>chr1</td>\n      <td>10017</td>\n      <td>10178</td>\n      <td>GTExv2=0:0;TCGAv2=0:0;SRAv3h=24:40;GT:AG</td>\n      <td>40</td>\n      <td>-</td>\n    </tr>\n    <tr>\n      <th>2</th>\n      <td>chr1</td>\n      <td>10023</td>\n      <td>10106</td>\n      <td>GTExv2=0:0;TCGAv2=0:0;SRAv3h=60:98;GT:AG</td>\n      <td>98</td>\n      <td>-</td>\n    </tr>\n    <tr>\n      <th>3</th>\n      <td>chr1</td>\n      <td>10023</td>\n      <td>10178</td>\n      <td>GTExv2=0:0;TCGAv2=0:0;SRAv3h=72:123;GT:AG</td>\n      <td>123</td>\n      <td>-</td>\n    </tr>\n    <tr>\n      <th>4</th>\n      <td>chr1</td>\n      <td>10029</td>\n      <td>10106</td>\n      <td>GTExv2=0:0;TCGAv2=0:0;SRAv3h=150:307;GT:AG</td>\n      <td>307</td>\n      <td>-</td>\n    </tr>\n    <tr>\n      <th>...</th>\n      <td>...</td>\n      <td>...</td>\n      <td>...</td>\n      <td>...</td>\n      <td>...</td>\n      <td>...</td>\n    </tr>\n    <tr>\n      <th>16350176</th>\n      <td>chrY_KI270740v1_random</td>\n      <td>34728</td>\n      <td>36982</td>\n      <td>GTExv2=0:0;TCGAv2=0:0;SRAv3h=18:36;GT:AG</td>\n      <td>36</td>\n      <td>-</td>\n    </tr>\n    <tr>\n      <th>16350177</th>\n      <td>chrY_KI270740v1_random</td>\n      <td>34853</td>\n      <td>36982</td>\n      <td>GTExv2=0:0;TCGAv2=0:0;SRAv3h=21:37;GT:AG</td>\n      <td>37</td>\n      <td>-</td>\n    </tr>\n    <tr>\n      <th>16350178</th>\n      <td>chrY_KI270740v1_random</td>\n      <td>34853</td>\n      <td>37107</td>\n      <td>GTExv2=2:2;TCGAv2=0:0;SRAv3h=22:27;GT:AG</td>\n      <td>29</td>\n      <td>-</td>\n    </tr>\n    <tr>\n      <th>16350179</th>\n      <td>chrY_KI270740v1_random</td>\n      <td>35132</td>\n      <td>35257</td>\n      <td>GTExv2=0:0;TCGAv2=0:0;SRAv3h=28:39;GT:AG</td>\n      <td>39</td>\n      <td>+</td>\n    </tr>\n    <tr>\n      <th>16350180</th>\n      <td>chrY_KI270740v1_random</td>\n      <td>35228</td>\n      <td>36484</td>\n      <td>GTExv2=0:0;TCGAv2=0:0;SRAv3h=18:33;GT:AG</td>\n      <td>33</td>\n      <td>-</td>\n    </tr>\n  </tbody>\n</table>\n<p>16350181 rows × 6 columns</p>\n</div>"
     },
     "execution_count": 8,
     "metadata": {},
     "output_type": "execute_result"
    }
   ],
   "source": [
    "df_recount3[\"GTExv2\"]"
   ],
   "metadata": {
    "collapsed": false
   }
  },
  {
   "cell_type": "code",
   "execution_count": 12,
   "outputs": [
    {
     "data": {
      "text/plain": "                           Chrom  Start    End  \\\n0                           chr1  10017  10106   \n1                           chr1  10017  10178   \n2                           chr1  10023  10106   \n3                           chr1  10023  10178   \n4                           chr1  10029  10106   \n...                          ...    ...    ...   \n16350176  chrY_KI270740v1_random  34728  36982   \n16350177  chrY_KI270740v1_random  34853  36982   \n16350178  chrY_KI270740v1_random  34853  37107   \n16350179  chrY_KI270740v1_random  35132  35257   \n16350180  chrY_KI270740v1_random  35228  36484   \n\n                                            Features  Score Strand Splice-site  \n0           GTExv2=0:0;TCGAv2=0:0;SRAv3h=19:26;GT:AG     26      -       GT:AG  \n1           GTExv2=0:0;TCGAv2=0:0;SRAv3h=24:40;GT:AG     40      -       GT:AG  \n2           GTExv2=0:0;TCGAv2=0:0;SRAv3h=60:98;GT:AG     98      -       GT:AG  \n3          GTExv2=0:0;TCGAv2=0:0;SRAv3h=72:123;GT:AG    123      -       GT:AG  \n4         GTExv2=0:0;TCGAv2=0:0;SRAv3h=150:307;GT:AG    307      -       GT:AG  \n...                                              ...    ...    ...         ...  \n16350176    GTExv2=0:0;TCGAv2=0:0;SRAv3h=18:36;GT:AG     36      -       GT:AG  \n16350177    GTExv2=0:0;TCGAv2=0:0;SRAv3h=21:37;GT:AG     37      -       GT:AG  \n16350178    GTExv2=2:2;TCGAv2=0:0;SRAv3h=22:27;GT:AG     29      -       GT:AG  \n16350179    GTExv2=0:0;TCGAv2=0:0;SRAv3h=28:39;GT:AG     39      +       GT:AG  \n16350180    GTExv2=0:0;TCGAv2=0:0;SRAv3h=18:33;GT:AG     33      -       GT:AG  \n\n[16350181 rows x 7 columns]",
      "text/html": "<div>\n<style scoped>\n    .dataframe tbody tr th:only-of-type {\n        vertical-align: middle;\n    }\n\n    .dataframe tbody tr th {\n        vertical-align: top;\n    }\n\n    .dataframe thead th {\n        text-align: right;\n    }\n</style>\n<table border=\"1\" class=\"dataframe\">\n  <thead>\n    <tr style=\"text-align: right;\">\n      <th></th>\n      <th>Chrom</th>\n      <th>Start</th>\n      <th>End</th>\n      <th>Features</th>\n      <th>Score</th>\n      <th>Strand</th>\n      <th>Splice-site</th>\n    </tr>\n  </thead>\n  <tbody>\n    <tr>\n      <th>0</th>\n      <td>chr1</td>\n      <td>10017</td>\n      <td>10106</td>\n      <td>GTExv2=0:0;TCGAv2=0:0;SRAv3h=19:26;GT:AG</td>\n      <td>26</td>\n      <td>-</td>\n      <td>GT:AG</td>\n    </tr>\n    <tr>\n      <th>1</th>\n      <td>chr1</td>\n      <td>10017</td>\n      <td>10178</td>\n      <td>GTExv2=0:0;TCGAv2=0:0;SRAv3h=24:40;GT:AG</td>\n      <td>40</td>\n      <td>-</td>\n      <td>GT:AG</td>\n    </tr>\n    <tr>\n      <th>2</th>\n      <td>chr1</td>\n      <td>10023</td>\n      <td>10106</td>\n      <td>GTExv2=0:0;TCGAv2=0:0;SRAv3h=60:98;GT:AG</td>\n      <td>98</td>\n      <td>-</td>\n      <td>GT:AG</td>\n    </tr>\n    <tr>\n      <th>3</th>\n      <td>chr1</td>\n      <td>10023</td>\n      <td>10178</td>\n      <td>GTExv2=0:0;TCGAv2=0:0;SRAv3h=72:123;GT:AG</td>\n      <td>123</td>\n      <td>-</td>\n      <td>GT:AG</td>\n    </tr>\n    <tr>\n      <th>4</th>\n      <td>chr1</td>\n      <td>10029</td>\n      <td>10106</td>\n      <td>GTExv2=0:0;TCGAv2=0:0;SRAv3h=150:307;GT:AG</td>\n      <td>307</td>\n      <td>-</td>\n      <td>GT:AG</td>\n    </tr>\n    <tr>\n      <th>...</th>\n      <td>...</td>\n      <td>...</td>\n      <td>...</td>\n      <td>...</td>\n      <td>...</td>\n      <td>...</td>\n      <td>...</td>\n    </tr>\n    <tr>\n      <th>16350176</th>\n      <td>chrY_KI270740v1_random</td>\n      <td>34728</td>\n      <td>36982</td>\n      <td>GTExv2=0:0;TCGAv2=0:0;SRAv3h=18:36;GT:AG</td>\n      <td>36</td>\n      <td>-</td>\n      <td>GT:AG</td>\n    </tr>\n    <tr>\n      <th>16350177</th>\n      <td>chrY_KI270740v1_random</td>\n      <td>34853</td>\n      <td>36982</td>\n      <td>GTExv2=0:0;TCGAv2=0:0;SRAv3h=21:37;GT:AG</td>\n      <td>37</td>\n      <td>-</td>\n      <td>GT:AG</td>\n    </tr>\n    <tr>\n      <th>16350178</th>\n      <td>chrY_KI270740v1_random</td>\n      <td>34853</td>\n      <td>37107</td>\n      <td>GTExv2=2:2;TCGAv2=0:0;SRAv3h=22:27;GT:AG</td>\n      <td>29</td>\n      <td>-</td>\n      <td>GT:AG</td>\n    </tr>\n    <tr>\n      <th>16350179</th>\n      <td>chrY_KI270740v1_random</td>\n      <td>35132</td>\n      <td>35257</td>\n      <td>GTExv2=0:0;TCGAv2=0:0;SRAv3h=28:39;GT:AG</td>\n      <td>39</td>\n      <td>+</td>\n      <td>GT:AG</td>\n    </tr>\n    <tr>\n      <th>16350180</th>\n      <td>chrY_KI270740v1_random</td>\n      <td>35228</td>\n      <td>36484</td>\n      <td>GTExv2=0:0;TCGAv2=0:0;SRAv3h=18:33;GT:AG</td>\n      <td>33</td>\n      <td>-</td>\n      <td>GT:AG</td>\n    </tr>\n  </tbody>\n</table>\n<p>16350181 rows × 7 columns</p>\n</div>"
     },
     "execution_count": 12,
     "metadata": {},
     "output_type": "execute_result"
    }
   ],
   "source": [
    "df_recount3[\"Splice-site\"] = df_recount3[\"Features\"].str.split(\";\").str[3]\n",
    "df_recount3"
   ],
   "metadata": {
    "collapsed": false
   }
  },
  {
   "cell_type": "code",
   "execution_count": 9,
   "outputs": [
    {
     "data": {
      "text/plain": "                   gene_id      transcript_id  intron_id  intron_start  \\\n0        ENSG00000290825.1  ENST00000456328.2          0         12227   \n1        ENSG00000290825.1  ENST00000456328.2          1         12721   \n2        ENSG00000223972.6  ENST00000450305.2          0         12057   \n3        ENSG00000223972.6  ENST00000450305.2          1         12227   \n4        ENSG00000223972.6  ENST00000450305.2          2         12697   \n...                    ...                ...        ...           ...   \n1511319  ENSG00000292371.1  ENST00000711270.1          0         15955   \n1511320  ENSG00000292371.1  ENST00000711270.1          1      57213125   \n1511321  ENSG00000292371.1  ENST00000711270.1          2      57213357   \n1511322  ENSG00000292371.1  ENST00000711270.1          3      57213602   \n1511323  ENSG00000292371.1  ENST00000711270.1          4      57213964   \n\n         intron_ends       prev_exon_id       next_exon_id  \n0              12612  ENSE00002234944.1  ENSE00003582793.1  \n1              13220  ENSE00003582793.1  ENSE00002312635.1  \n2              12178  ENSE00001948541.1  ENSE00001671638.2  \n3              12612  ENSE00001671638.2  ENSE00001758273.2  \n4              12974  ENSE00001758273.2  ENSE00001799933.2  \n...              ...                ...                ...  \n1511319     57212183             Start-  ENSE00004015127.1  \n1511320     57213203  ENSE00004015127.1  ENSE00004015126.1  \n1511321     57213525  ENSE00004015126.1  ENSE00004015125.1  \n1511322     57213879  ENSE00004015125.1  ENSE00004015124.1  \n1511323     57214349  ENSE00004015124.1  ENSE00004015123.1  \n\n[1511324 rows x 7 columns]",
      "text/html": "<div>\n<style scoped>\n    .dataframe tbody tr th:only-of-type {\n        vertical-align: middle;\n    }\n\n    .dataframe tbody tr th {\n        vertical-align: top;\n    }\n\n    .dataframe thead th {\n        text-align: right;\n    }\n</style>\n<table border=\"1\" class=\"dataframe\">\n  <thead>\n    <tr style=\"text-align: right;\">\n      <th></th>\n      <th>gene_id</th>\n      <th>transcript_id</th>\n      <th>intron_id</th>\n      <th>intron_start</th>\n      <th>intron_ends</th>\n      <th>prev_exon_id</th>\n      <th>next_exon_id</th>\n    </tr>\n  </thead>\n  <tbody>\n    <tr>\n      <th>0</th>\n      <td>ENSG00000290825.1</td>\n      <td>ENST00000456328.2</td>\n      <td>0</td>\n      <td>12227</td>\n      <td>12612</td>\n      <td>ENSE00002234944.1</td>\n      <td>ENSE00003582793.1</td>\n    </tr>\n    <tr>\n      <th>1</th>\n      <td>ENSG00000290825.1</td>\n      <td>ENST00000456328.2</td>\n      <td>1</td>\n      <td>12721</td>\n      <td>13220</td>\n      <td>ENSE00003582793.1</td>\n      <td>ENSE00002312635.1</td>\n    </tr>\n    <tr>\n      <th>2</th>\n      <td>ENSG00000223972.6</td>\n      <td>ENST00000450305.2</td>\n      <td>0</td>\n      <td>12057</td>\n      <td>12178</td>\n      <td>ENSE00001948541.1</td>\n      <td>ENSE00001671638.2</td>\n    </tr>\n    <tr>\n      <th>3</th>\n      <td>ENSG00000223972.6</td>\n      <td>ENST00000450305.2</td>\n      <td>1</td>\n      <td>12227</td>\n      <td>12612</td>\n      <td>ENSE00001671638.2</td>\n      <td>ENSE00001758273.2</td>\n    </tr>\n    <tr>\n      <th>4</th>\n      <td>ENSG00000223972.6</td>\n      <td>ENST00000450305.2</td>\n      <td>2</td>\n      <td>12697</td>\n      <td>12974</td>\n      <td>ENSE00001758273.2</td>\n      <td>ENSE00001799933.2</td>\n    </tr>\n    <tr>\n      <th>...</th>\n      <td>...</td>\n      <td>...</td>\n      <td>...</td>\n      <td>...</td>\n      <td>...</td>\n      <td>...</td>\n      <td>...</td>\n    </tr>\n    <tr>\n      <th>1511319</th>\n      <td>ENSG00000292371.1</td>\n      <td>ENST00000711270.1</td>\n      <td>0</td>\n      <td>15955</td>\n      <td>57212183</td>\n      <td>Start-</td>\n      <td>ENSE00004015127.1</td>\n    </tr>\n    <tr>\n      <th>1511320</th>\n      <td>ENSG00000292371.1</td>\n      <td>ENST00000711270.1</td>\n      <td>1</td>\n      <td>57213125</td>\n      <td>57213203</td>\n      <td>ENSE00004015127.1</td>\n      <td>ENSE00004015126.1</td>\n    </tr>\n    <tr>\n      <th>1511321</th>\n      <td>ENSG00000292371.1</td>\n      <td>ENST00000711270.1</td>\n      <td>2</td>\n      <td>57213357</td>\n      <td>57213525</td>\n      <td>ENSE00004015126.1</td>\n      <td>ENSE00004015125.1</td>\n    </tr>\n    <tr>\n      <th>1511322</th>\n      <td>ENSG00000292371.1</td>\n      <td>ENST00000711270.1</td>\n      <td>3</td>\n      <td>57213602</td>\n      <td>57213879</td>\n      <td>ENSE00004015125.1</td>\n      <td>ENSE00004015124.1</td>\n    </tr>\n    <tr>\n      <th>1511323</th>\n      <td>ENSG00000292371.1</td>\n      <td>ENST00000711270.1</td>\n      <td>4</td>\n      <td>57213964</td>\n      <td>57214349</td>\n      <td>ENSE00004015124.1</td>\n      <td>ENSE00004015123.1</td>\n    </tr>\n  </tbody>\n</table>\n<p>1511324 rows × 7 columns</p>\n</div>"
     },
     "execution_count": 9,
     "metadata": {},
     "output_type": "execute_result"
    }
   ],
   "source": [
    "df_gencode_introns"
   ],
   "metadata": {
    "collapsed": false
   }
  },
  {
   "cell_type": "code",
   "execution_count": 11,
   "outputs": [
    {
     "name": "stdout",
     "output_type": "stream",
     "text": [
      "gene_id\n",
      "transcript_id\n",
      "intron_id\n",
      "intron_start\n",
      "intron_ends\n",
      "prev_exon_id\n",
      "next_exon_id\n"
     ]
    }
   ],
   "source": [
    "for introns in df_gencode_introns:\n",
    "\tprint(introns)"
   ],
   "metadata": {
    "collapsed": false
   }
  },
  {
   "cell_type": "code",
   "execution_count": null,
   "outputs": [],
   "source": [],
   "metadata": {
    "collapsed": false
   }
  }
 ],
 "metadata": {
  "kernelspec": {
   "display_name": "Python 3",
   "language": "python",
   "name": "python3"
  },
  "language_info": {
   "codemirror_mode": {
    "name": "ipython",
    "version": 2
   },
   "file_extension": ".py",
   "mimetype": "text/x-python",
   "name": "python",
   "nbconvert_exporter": "python",
   "pygments_lexer": "ipython2",
   "version": "2.7.6"
  }
 },
 "nbformat": 4,
 "nbformat_minor": 0
}
