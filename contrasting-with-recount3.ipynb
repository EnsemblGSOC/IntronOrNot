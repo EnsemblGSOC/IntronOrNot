{
 "cells": [
  {
   "cell_type": "code",
   "execution_count": 2,
   "metadata": {
    "collapsed": true,
    "ExecuteTime": {
     "end_time": "2023-06-16T11:16:30.571770Z",
     "start_time": "2023-06-16T11:16:28.852730Z"
    }
   },
   "outputs": [],
   "source": [
    "import pandas as pd\n",
    "from tqdm import tqdm\n",
    "from pandarallel import pandarallel"
   ]
  },
  {
   "cell_type": "code",
   "execution_count": null,
   "outputs": [],
   "source": [
    "df_recount3 = pd.read_csv(\"ftp-data/recount3.bed\", sep=\"\\t\", names=[\"Chrom\", \"Start\", \"End\", \"Features\", \"Score\", \"Strand\"])\n",
    "df_gencode_introns = pd.read_csv(\"gencode_v44_introns.csv\")\n",
    "df_recount3"
   ],
   "metadata": {
    "collapsed": false
   }
  },
  {
   "cell_type": "code",
   "execution_count": null,
   "outputs": [],
   "source": [
    "df_featuers_split = df_recount3[\"Features\"].str.split(\";\")\n",
    "df_featuers_split"
   ],
   "metadata": {
    "collapsed": false
   }
  },
  {
   "cell_type": "code",
   "execution_count": null,
   "outputs": [],
   "source": [
    "df_recount3[\"GTExv2\"] = df_featuers_split.str[0].str.split(\"=\").str[1]"
   ],
   "metadata": {
    "collapsed": false
   }
  },
  {
   "cell_type": "code",
   "execution_count": null,
   "outputs": [],
   "source": [
    "df_recount3[\"TCGAv2\"] = df_featuers_split.str[1].str.split(\"=\").str[1]"
   ],
   "metadata": {
    "collapsed": false
   }
  },
  {
   "cell_type": "code",
   "execution_count": null,
   "outputs": [],
   "source": [
    "df_recount3[\"SRAv3h\"] = df_featuers_split.str[2].str.split(\"=\").str[1]"
   ],
   "metadata": {
    "collapsed": false
   }
  },
  {
   "cell_type": "code",
   "execution_count": null,
   "outputs": [],
   "source": [
    "df_recount3[\"Splice_site\"] = df_featuers_split.str[3]\n",
    "df_recount3"
   ],
   "metadata": {
    "collapsed": false
   }
  },
  {
   "cell_type": "code",
   "execution_count": null,
   "outputs": [],
   "source": [
    "def split_features(row):\n",
    "    # Split the \"Features\" column by semicolon\n",
    "    # print(\"OK\")\n",
    "    # print(row)\n",
    "    features_split = row.split(\";\")\n",
    "    # print(features_split)\n",
    "    # Extract the desired values from the split columns and assign them to new columns\n",
    "    GTExv2 = features_split[0].split(\"=\")[1]\n",
    "    TCGAv2 = features_split[1].split(\"=\")[1]\n",
    "    SRAv3h = features_split[2].split(\"=\")[1]\n",
    "    Splice_site = features_split[3]\n",
    "    return pd.Series([GTExv2, TCGAv2, SRAv3h, Splice_site])"
   ],
   "metadata": {
    "collapsed": false
   }
  },
  {
   "cell_type": "code",
   "execution_count": 6,
   "outputs": [],
   "source": [
    "# df_recount3.to_csv(\"gencode_v44_introns_modified.csv\", index=False)\n",
    "\n",
    "# If we run from here\n",
    "df_recount3 = pd.read_csv(\"gencode_v44_introns_modified.csv\")\n",
    "df_gencode_introns = pd.read_csv(\"gencode_v44_introns.csv\")"
   ],
   "metadata": {
    "collapsed": false,
    "ExecuteTime": {
     "end_time": "2023-06-16T11:19:04.601187Z",
     "start_time": "2023-06-16T11:18:33.135109Z"
    }
   }
  },
  {
   "cell_type": "markdown",
   "source": [
    "# We try to match them"
   ],
   "metadata": {
    "collapsed": false
   }
  },
  {
   "cell_type": "code",
   "execution_count": 7,
   "outputs": [],
   "source": [
    "df_recount3.drop(columns=[\"Features\"], inplace=True)"
   ],
   "metadata": {
    "collapsed": false,
    "ExecuteTime": {
     "end_time": "2023-06-16T11:19:07.154850Z",
     "start_time": "2023-06-16T11:19:07.152516Z"
    }
   }
  },
  {
   "cell_type": "code",
   "execution_count": 8,
   "outputs": [],
   "source": [
    "# pandarallel.initialize(progress_bar=True)\n",
    "df_gencode_introns_dict = df_gencode_introns.to_dict()  # Change it to dict"
   ],
   "metadata": {
    "collapsed": false,
    "ExecuteTime": {
     "end_time": "2023-06-16T11:19:33.261748Z",
     "start_time": "2023-06-16T11:19:27.639296Z"
    }
   }
  },
  {
   "cell_type": "code",
   "execution_count": 9,
   "outputs": [
    {
     "data": {
      "text/plain": "                           Chrom  Start    End  Score Strand GTExv2 TCGAv2  \\\n0                           chr1  10017  10106     26      -    0:0    0:0   \n1                           chr1  10017  10178     40      -    0:0    0:0   \n2                           chr1  10023  10106     98      -    0:0    0:0   \n3                           chr1  10023  10178    123      -    0:0    0:0   \n4                           chr1  10029  10106    307      -    0:0    0:0   \n...                          ...    ...    ...    ...    ...    ...    ...   \n16350176  chrY_KI270740v1_random  34728  36982     36      -    0:0    0:0   \n16350177  chrY_KI270740v1_random  34853  36982     37      -    0:0    0:0   \n16350178  chrY_KI270740v1_random  34853  37107     29      -    2:2    0:0   \n16350179  chrY_KI270740v1_random  35132  35257     39      +    0:0    0:0   \n16350180  chrY_KI270740v1_random  35228  36484     33      -    0:0    0:0   \n\n           SRAv3h Splice_site  \n0           19:26       GT:AG  \n1           24:40       GT:AG  \n2           60:98       GT:AG  \n3          72:123       GT:AG  \n4         150:307       GT:AG  \n...           ...         ...  \n16350176    18:36       GT:AG  \n16350177    21:37       GT:AG  \n16350178    22:27       GT:AG  \n16350179    28:39       GT:AG  \n16350180    18:33       GT:AG  \n\n[16350181 rows x 9 columns]",
      "text/html": "<div>\n<style scoped>\n    .dataframe tbody tr th:only-of-type {\n        vertical-align: middle;\n    }\n\n    .dataframe tbody tr th {\n        vertical-align: top;\n    }\n\n    .dataframe thead th {\n        text-align: right;\n    }\n</style>\n<table border=\"1\" class=\"dataframe\">\n  <thead>\n    <tr style=\"text-align: right;\">\n      <th></th>\n      <th>Chrom</th>\n      <th>Start</th>\n      <th>End</th>\n      <th>Score</th>\n      <th>Strand</th>\n      <th>GTExv2</th>\n      <th>TCGAv2</th>\n      <th>SRAv3h</th>\n      <th>Splice_site</th>\n    </tr>\n  </thead>\n  <tbody>\n    <tr>\n      <th>0</th>\n      <td>chr1</td>\n      <td>10017</td>\n      <td>10106</td>\n      <td>26</td>\n      <td>-</td>\n      <td>0:0</td>\n      <td>0:0</td>\n      <td>19:26</td>\n      <td>GT:AG</td>\n    </tr>\n    <tr>\n      <th>1</th>\n      <td>chr1</td>\n      <td>10017</td>\n      <td>10178</td>\n      <td>40</td>\n      <td>-</td>\n      <td>0:0</td>\n      <td>0:0</td>\n      <td>24:40</td>\n      <td>GT:AG</td>\n    </tr>\n    <tr>\n      <th>2</th>\n      <td>chr1</td>\n      <td>10023</td>\n      <td>10106</td>\n      <td>98</td>\n      <td>-</td>\n      <td>0:0</td>\n      <td>0:0</td>\n      <td>60:98</td>\n      <td>GT:AG</td>\n    </tr>\n    <tr>\n      <th>3</th>\n      <td>chr1</td>\n      <td>10023</td>\n      <td>10178</td>\n      <td>123</td>\n      <td>-</td>\n      <td>0:0</td>\n      <td>0:0</td>\n      <td>72:123</td>\n      <td>GT:AG</td>\n    </tr>\n    <tr>\n      <th>4</th>\n      <td>chr1</td>\n      <td>10029</td>\n      <td>10106</td>\n      <td>307</td>\n      <td>-</td>\n      <td>0:0</td>\n      <td>0:0</td>\n      <td>150:307</td>\n      <td>GT:AG</td>\n    </tr>\n    <tr>\n      <th>...</th>\n      <td>...</td>\n      <td>...</td>\n      <td>...</td>\n      <td>...</td>\n      <td>...</td>\n      <td>...</td>\n      <td>...</td>\n      <td>...</td>\n      <td>...</td>\n    </tr>\n    <tr>\n      <th>16350176</th>\n      <td>chrY_KI270740v1_random</td>\n      <td>34728</td>\n      <td>36982</td>\n      <td>36</td>\n      <td>-</td>\n      <td>0:0</td>\n      <td>0:0</td>\n      <td>18:36</td>\n      <td>GT:AG</td>\n    </tr>\n    <tr>\n      <th>16350177</th>\n      <td>chrY_KI270740v1_random</td>\n      <td>34853</td>\n      <td>36982</td>\n      <td>37</td>\n      <td>-</td>\n      <td>0:0</td>\n      <td>0:0</td>\n      <td>21:37</td>\n      <td>GT:AG</td>\n    </tr>\n    <tr>\n      <th>16350178</th>\n      <td>chrY_KI270740v1_random</td>\n      <td>34853</td>\n      <td>37107</td>\n      <td>29</td>\n      <td>-</td>\n      <td>2:2</td>\n      <td>0:0</td>\n      <td>22:27</td>\n      <td>GT:AG</td>\n    </tr>\n    <tr>\n      <th>16350179</th>\n      <td>chrY_KI270740v1_random</td>\n      <td>35132</td>\n      <td>35257</td>\n      <td>39</td>\n      <td>+</td>\n      <td>0:0</td>\n      <td>0:0</td>\n      <td>28:39</td>\n      <td>GT:AG</td>\n    </tr>\n    <tr>\n      <th>16350180</th>\n      <td>chrY_KI270740v1_random</td>\n      <td>35228</td>\n      <td>36484</td>\n      <td>33</td>\n      <td>-</td>\n      <td>0:0</td>\n      <td>0:0</td>\n      <td>18:33</td>\n      <td>GT:AG</td>\n    </tr>\n  </tbody>\n</table>\n<p>16350181 rows × 9 columns</p>\n</div>"
     },
     "execution_count": 9,
     "metadata": {},
     "output_type": "execute_result"
    }
   ],
   "source": [
    "df_recount3_test = df_recount3.copy()\n",
    "df_recount3_test"
   ],
   "metadata": {
    "collapsed": false,
    "ExecuteTime": {
     "end_time": "2023-06-16T11:19:34.069029Z",
     "start_time": "2023-06-16T11:19:33.261923Z"
    }
   }
  },
  {
   "cell_type": "code",
   "execution_count": 10,
   "outputs": [],
   "source": [
    "df_recount3_test.set_index([\"Start\", \"End\", \"Strand\"], inplace=True)"
   ],
   "metadata": {
    "collapsed": false,
    "ExecuteTime": {
     "end_time": "2023-06-16T11:19:44.816561Z",
     "start_time": "2023-06-16T11:19:34.222260Z"
    }
   }
  },
  {
   "cell_type": "code",
   "execution_count": 11,
   "outputs": [],
   "source": [
    "df_recount3_test.sort_index(inplace=True)"
   ],
   "metadata": {
    "collapsed": false,
    "ExecuteTime": {
     "end_time": "2023-06-16T11:19:56.194602Z",
     "start_time": "2023-06-16T11:19:44.818466Z"
    }
   }
  },
  {
   "cell_type": "code",
   "execution_count": null,
   "outputs": [],
   "source": [
    "# df_recount3_test.loc[(10029, 10106, \"-\"), :]"
   ],
   "metadata": {
    "collapsed": false
   }
  },
  {
   "cell_type": "code",
   "execution_count": 21,
   "outputs": [],
   "source": [
    "def match_recount(row):\n",
    "    # print(row)\n",
    "    # start = row.intron_start\n",
    "    # end = row.intron_ends\n",
    "    # strand = row.strand\n",
    "    try:\n",
    "        df_matched = df_recount3_test.loc[(row.intron_start, row.intron_ends, row.strand), :]\n",
    "    except:\n",
    "        df_matched = \"UNMATCHED\"\n",
    "    # print(df_matched)"
   ],
   "metadata": {
    "collapsed": false,
    "ExecuteTime": {
     "end_time": "2023-06-16T11:26:09.662199Z",
     "start_time": "2023-06-16T11:26:09.654401Z"
    }
   }
  },
  {
   "cell_type": "code",
   "execution_count": 25,
   "outputs": [],
   "source": [
    "pandarallel.initialize(nb_workers=8, progress_bar=True)\n",
    "\n",
    "trail_run_gencode = df_gencode_introns.copy().head(20)\n",
    "trail_run_gencode"
   ],
   "metadata": {
    "collapsed": false
   }
  },
  {
   "cell_type": "code",
   "execution_count": 27,
   "outputs": [],
   "source": [
    "trail_run_gencode.parallel_apply(match_recount, axis=1)\n",
    "trail_run_gencode"
   ],
   "metadata": {
    "collapsed": false
   }
  },
  {
   "cell_type": "code",
   "execution_count": 19,
   "outputs": [
    {
     "data": {
      "text/plain": "                 gene_id      transcript_id  intron_id  intron_start  \\\n0      ENSG00000290825.1  ENST00000456328.2          0         12227   \n1      ENSG00000290825.1  ENST00000456328.2          1         12721   \n2      ENSG00000223972.6  ENST00000450305.2          0         12057   \n3      ENSG00000223972.6  ENST00000450305.2          1         12227   \n4      ENSG00000223972.6  ENST00000450305.2          2         12697   \n...                  ...                ...        ...           ...   \n4995  ENSG00000142606.16  ENST00000378412.8          0       2591089   \n4996  ENSG00000142606.16  ENST00000378412.8          1       2591633   \n4997  ENSG00000142606.16  ENST00000378412.8          2       2592027   \n4998  ENSG00000142606.16  ENST00000378412.8          3       2592720   \n4999  ENSG00000142606.16  ENST00000378412.8          4       2592966   \n\n      intron_ends strand       prev_exon_id       next_exon_id  \n0           12612      +  ENSE00002234944.1  ENSE00003582793.1  \n1           13220      +  ENSE00003582793.1  ENSE00002312635.1  \n2           12178      +  ENSE00001948541.1  ENSE00001671638.2  \n3           12612      +  ENSE00001671638.2  ENSE00001758273.2  \n4           12974      +  ENSE00001758273.2  ENSE00001799933.2  \n...           ...    ...                ...                ...  \n4995      2591556      -  ENSE00001957118.1  ENSE00003649471.1  \n4996      2591931      -  ENSE00003649471.1  ENSE00003599396.1  \n4997      2592654      -  ENSE00003599396.1  ENSE00003481724.1  \n4998      2592832      -  ENSE00003481724.1  ENSE00003641328.1  \n4999      2593813      -  ENSE00003641328.1  ENSE00001035437.1  \n\n[5000 rows x 8 columns]",
      "text/html": "<div>\n<style scoped>\n    .dataframe tbody tr th:only-of-type {\n        vertical-align: middle;\n    }\n\n    .dataframe tbody tr th {\n        vertical-align: top;\n    }\n\n    .dataframe thead th {\n        text-align: right;\n    }\n</style>\n<table border=\"1\" class=\"dataframe\">\n  <thead>\n    <tr style=\"text-align: right;\">\n      <th></th>\n      <th>gene_id</th>\n      <th>transcript_id</th>\n      <th>intron_id</th>\n      <th>intron_start</th>\n      <th>intron_ends</th>\n      <th>strand</th>\n      <th>prev_exon_id</th>\n      <th>next_exon_id</th>\n    </tr>\n  </thead>\n  <tbody>\n    <tr>\n      <th>0</th>\n      <td>ENSG00000290825.1</td>\n      <td>ENST00000456328.2</td>\n      <td>0</td>\n      <td>12227</td>\n      <td>12612</td>\n      <td>+</td>\n      <td>ENSE00002234944.1</td>\n      <td>ENSE00003582793.1</td>\n    </tr>\n    <tr>\n      <th>1</th>\n      <td>ENSG00000290825.1</td>\n      <td>ENST00000456328.2</td>\n      <td>1</td>\n      <td>12721</td>\n      <td>13220</td>\n      <td>+</td>\n      <td>ENSE00003582793.1</td>\n      <td>ENSE00002312635.1</td>\n    </tr>\n    <tr>\n      <th>2</th>\n      <td>ENSG00000223972.6</td>\n      <td>ENST00000450305.2</td>\n      <td>0</td>\n      <td>12057</td>\n      <td>12178</td>\n      <td>+</td>\n      <td>ENSE00001948541.1</td>\n      <td>ENSE00001671638.2</td>\n    </tr>\n    <tr>\n      <th>3</th>\n      <td>ENSG00000223972.6</td>\n      <td>ENST00000450305.2</td>\n      <td>1</td>\n      <td>12227</td>\n      <td>12612</td>\n      <td>+</td>\n      <td>ENSE00001671638.2</td>\n      <td>ENSE00001758273.2</td>\n    </tr>\n    <tr>\n      <th>4</th>\n      <td>ENSG00000223972.6</td>\n      <td>ENST00000450305.2</td>\n      <td>2</td>\n      <td>12697</td>\n      <td>12974</td>\n      <td>+</td>\n      <td>ENSE00001758273.2</td>\n      <td>ENSE00001799933.2</td>\n    </tr>\n    <tr>\n      <th>...</th>\n      <td>...</td>\n      <td>...</td>\n      <td>...</td>\n      <td>...</td>\n      <td>...</td>\n      <td>...</td>\n      <td>...</td>\n      <td>...</td>\n    </tr>\n    <tr>\n      <th>4995</th>\n      <td>ENSG00000142606.16</td>\n      <td>ENST00000378412.8</td>\n      <td>0</td>\n      <td>2591089</td>\n      <td>2591556</td>\n      <td>-</td>\n      <td>ENSE00001957118.1</td>\n      <td>ENSE00003649471.1</td>\n    </tr>\n    <tr>\n      <th>4996</th>\n      <td>ENSG00000142606.16</td>\n      <td>ENST00000378412.8</td>\n      <td>1</td>\n      <td>2591633</td>\n      <td>2591931</td>\n      <td>-</td>\n      <td>ENSE00003649471.1</td>\n      <td>ENSE00003599396.1</td>\n    </tr>\n    <tr>\n      <th>4997</th>\n      <td>ENSG00000142606.16</td>\n      <td>ENST00000378412.8</td>\n      <td>2</td>\n      <td>2592027</td>\n      <td>2592654</td>\n      <td>-</td>\n      <td>ENSE00003599396.1</td>\n      <td>ENSE00003481724.1</td>\n    </tr>\n    <tr>\n      <th>4998</th>\n      <td>ENSG00000142606.16</td>\n      <td>ENST00000378412.8</td>\n      <td>3</td>\n      <td>2592720</td>\n      <td>2592832</td>\n      <td>-</td>\n      <td>ENSE00003481724.1</td>\n      <td>ENSE00003641328.1</td>\n    </tr>\n    <tr>\n      <th>4999</th>\n      <td>ENSG00000142606.16</td>\n      <td>ENST00000378412.8</td>\n      <td>4</td>\n      <td>2592966</td>\n      <td>2593813</td>\n      <td>-</td>\n      <td>ENSE00003641328.1</td>\n      <td>ENSE00001035437.1</td>\n    </tr>\n  </tbody>\n</table>\n<p>5000 rows × 8 columns</p>\n</div>"
     },
     "execution_count": 19,
     "metadata": {},
     "output_type": "execute_result"
    }
   ],
   "source": [
    "trail_run_gencode"
   ],
   "metadata": {
    "collapsed": false,
    "ExecuteTime": {
     "end_time": "2023-06-16T11:23:29.742753Z",
     "start_time": "2023-06-16T11:23:29.738856Z"
    }
   }
  },
  {
   "cell_type": "code",
   "execution_count": null,
   "outputs": [],
   "source": [],
   "metadata": {
    "collapsed": false
   }
  }
 ],
 "metadata": {
  "kernelspec": {
   "display_name": "Python 3",
   "language": "python",
   "name": "python3"
  },
  "language_info": {
   "codemirror_mode": {
    "name": "ipython",
    "version": 2
   },
   "file_extension": ".py",
   "mimetype": "text/x-python",
   "name": "python",
   "nbconvert_exporter": "python",
   "pygments_lexer": "ipython2",
   "version": "2.7.6"
  }
 },
 "nbformat": 4,
 "nbformat_minor": 0
}
