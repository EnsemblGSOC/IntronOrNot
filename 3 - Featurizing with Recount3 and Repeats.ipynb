{
 "cells": [
  {
   "cell_type": "code",
   "execution_count": null,
   "metadata": {
    "collapsed": true,
    "is_executing": true
   },
   "outputs": [],
   "source": [
    "import pandas as pd\n",
    "from tqdm import tqdm\n",
    "from pandarallel import pandarallel"
   ]
  },
  {
   "cell_type": "code",
   "execution_count": null,
   "outputs": [],
   "source": [
    "df_merged = pd.read_csv(\"data/2-merged_train_set\", sep=\"\\t\")\n",
    "df_merged #402857"
   ],
   "metadata": {
    "collapsed": false
   }
  },
  {
   "cell_type": "code",
   "execution_count": null,
   "outputs": [],
   "source": [
    "df_recount3 = pd.read_csv(\"ftp-data/recount3.bed\", sep=\"\\t\",\n",
    "                          names=[\"Chrom\", \"Start\", \"End\", \"Features\", \"Score\", \"Strand\"])\n",
    "\n",
    "df_recount3.set_index([\"Strand\", \"Start\", \"End\"], inplace=True)\n",
    "df_recount3.sort_index(inplace=True)\n",
    "df_recount3"
   ],
   "metadata": {
    "collapsed": false
   }
  },
  {
   "cell_type": "code",
   "execution_count": null,
   "outputs": [],
   "source": [
    "chrom_uniques = list(df_recount3.Chrom.unique())  # we get the list of unique chromosome names\n",
    "df_chrom = {}"
   ],
   "metadata": {
    "collapsed": false
   }
  },
  {
   "cell_type": "code",
   "execution_count": null,
   "outputs": [],
   "source": [
    "# Splitting the dataframe chromosome groups separately into key(chromosome)-value(rows) in a dictionary\n",
    "for chrom in tqdm(chrom_uniques):\n",
    "    df_chrom[chrom] = df_recount3[df_recount3.Chrom == chrom]\n"
   ],
   "metadata": {
    "collapsed": false
   }
  },
  {
   "cell_type": "code",
   "execution_count": null,
   "outputs": [],
   "source": [
    "def match_recount(row):\n",
    "    try:\n",
    "        score = df_chrom[row.chr].loc[(row.strand, row.start, row.end), [\"Features\", \"Score\"]].values\n",
    "    except:\n",
    "        score = [None, -1]\n",
    "    return score"
   ],
   "metadata": {
    "collapsed": false
   }
  },
  {
   "cell_type": "code",
   "execution_count": null,
   "outputs": [],
   "source": [
    "pandarallel.initialize(progress_bar=False, nb_workers=12)"
   ],
   "metadata": {
    "collapsed": false
   }
  },
  {
   "cell_type": "code",
   "execution_count": null,
   "outputs": [],
   "source": [
    "# %%time\n",
    "# df_test = df_merged.copy().head(10)\n",
    "# df_test[\"RC3\"] = df_test.apply(match_recount, axis=1)\n",
    "# df_test"
   ],
   "metadata": {
    "collapsed": false
   }
  },
  {
   "cell_type": "code",
   "execution_count": null,
   "outputs": [],
   "source": [
    "%%time\n",
    "df_merged[\"RC3\"] = df_merged.parallel_apply(match_recount, axis=1)"
   ],
   "metadata": {
    "collapsed": false
   }
  },
  {
   "cell_type": "code",
   "execution_count": null,
   "outputs": [],
   "source": [
    "df_merged"
   ],
   "metadata": {
    "collapsed": false
   }
  },
  {
   "cell_type": "code",
   "execution_count": null,
   "outputs": [],
   "source": [
    "# Optional backup:\n",
    "# df_merged.to_csv(\"data/3-temp-output.tsv\", sep=\"\\t\", index=False)\n",
    "df_merged = pd.read_csv(\"data/3-temp-output.tsv\", sep=\"\\t\")  # sha512sum ad0f3a08b8c7986d341543e75a19d5335c8b65ddeb4d28dd63016b4f79eabad0fe244b26b8031475cf5e6f212ea0ae9a2f0bdb200b692a77736de84c777a5b10\n",
    "df_merged"
   ],
   "metadata": {
    "collapsed": false
   }
  },
  {
   "cell_type": "markdown",
   "source": [
    "# Adding repeat features to the merged train set\n"
   ],
   "metadata": {
    "collapsed": false
   }
  },
  {
   "cell_type": "code",
   "execution_count": null,
   "outputs": [],
   "source": [
    "def match_repeat_features_1(row):\n",
    "    \"\"\"\n",
    "    We call the tabix command, which look at the bed file to see if the row (which are entries in the intron that we extracted) overlaps with the repeat\n",
    "    regions detailed in the repeat_features.bed.gz, apart from the splice-site ({row.start+2}), we also look at the small-region that precedes (2 nt in the exon; row.start-2) the splice-site.\n",
    "    \"\"\"\n",
    "    matched_rows = !tabix ftp-data/repeat_features.bed.gz {row.chr}:{row.start-2}-{row.start+2} | cut -f4\n",
    "    return list(set(matched_rows + []))"
   ],
   "metadata": {
    "collapsed": false
   }
  },
  {
   "cell_type": "code",
   "execution_count": null,
   "outputs": [],
   "source": [
    "def match_repeat_features_2(row):\n",
    "    \"\"\"\n",
    "    We call the tabix command, which look at the bed file to see if the row (which are entries in the intron that we extracted) overlaps with the repeat\n",
    "    regions detailed in the repeat_features.bed.gz, apart from the splice-site ({row.end-2}), we also look at the small-region that proceeds (2 nt in the exon; {row.end+2}) the splice-site.\n",
    "    \"\"\"\n",
    "    matched_rows2 = !tabix ftp-data/repeat_features.bed.gz {row.chr}:{row.end-2}-{row.end+2} | cut -f4\n",
    "        # | cut -f4 | sort -u\n",
    "    return list(set([] + matched_rows2))"
   ],
   "metadata": {
    "collapsed": false
   }
  },
  {
   "cell_type": "code",
   "execution_count": null,
   "outputs": [],
   "source": [
    "pandarallel.initialize(progress_bar=False)"
   ],
   "metadata": {
    "collapsed": false
   }
  },
  {
   "cell_type": "code",
   "execution_count": null,
   "outputs": [],
   "source": [
    "%%time\n",
    "# Test cell\n",
    "df_draft = df_merged.copy().head(100)\n",
    "df_draft[\"Repeat_overlap\"] = df_draft.apply(match_repeat_features_1, axis=1)\n",
    "df_draft"
   ],
   "metadata": {
    "collapsed": false
   }
  },
  {
   "cell_type": "code",
   "execution_count": null,
   "outputs": [],
   "source": [
    "del df_draft"
   ],
   "metadata": {
    "collapsed": false
   }
  },
  {
   "cell_type": "code",
   "execution_count": null,
   "outputs": [],
   "source": [
    "%%time\n",
    "df_merged[\"repeat_features_start_site\"] = df_merged.parallel_apply(match_repeat_features_1, axis=1)\n",
    "df_merged"
   ],
   "metadata": {
    "collapsed": false
   }
  },
  {
   "cell_type": "code",
   "execution_count": null,
   "outputs": [],
   "source": [
    "%%time\n",
    "df_merged[\"repeat_features_end_site\"] = df_merged.parallel_apply(match_repeat_features_2, axis=1)\n",
    "df_merged"
   ],
   "metadata": {
    "collapsed": false
   }
  },
  {
   "cell_type": "code",
   "execution_count": 2,
   "outputs": [],
   "source": [
    "# df_merged.to_csv(\"data/3_repeat_features_output.tsv\", sep=\"\\t\", index=False)\n",
    "df_merged = pd.read_csv(\"data/3_repeat_features_output.tsv\", sep=\"\\t\")"
   ],
   "metadata": {
    "collapsed": false
   }
  },
  {
   "cell_type": "markdown",
   "source": [
    "# Splice-site Antisense feature"
   ],
   "metadata": {
    "collapsed": false
   }
  },
  {
   "cell_type": "code",
   "execution_count": null,
   "outputs": [],
   "source": [
    "df_exons = pd.read_csv(\"/home/rabbit/Documents/Projects/ML_gene_annot/ftp-data/gencode.v44.annotation.gtf\", sep=\"\\t\", comment=\"#\", header=None, names=[\"chr\", \"annotator\", \"type\", \"start\", \"end\", \"x1\", \"strand\", \"x2\", \"features\"])\n",
    "df_exons = df_exons[df_exons[\"type\"] == \"exon\"]\n",
    "df_exons = df_exons.drop_duplicates(subset=[\"chr\", \"start\", \"end\", \"strand\"])\n",
    "df_exons"
   ],
   "metadata": {
    "collapsed": false
   }
  },
  {
   "cell_type": "code",
   "execution_count": null,
   "outputs": [],
   "source": [
    "def df_to_bed(df, bed_file):\n",
    "    with open(bed_file, 'w') as bed:\n",
    "        for index, row in df.iterrows():\n",
    "\n",
    "            chrom = row[0]\n",
    "            start = int(row[3]) - 1  # Convert 1-based to 0-based (BED format)\n",
    "            end = int(row[4])\n",
    "            strand = row[6]\n",
    "\n",
    "\n",
    "            bed_line = f\"{chrom}\\t{start-1}\\t{end}\\t.\\t.\\t{strand}\\n\"\n",
    "            bed.write(bed_line)\n",
    "\n",
    "# Convert the DataFrame to a BED file\n",
    "bed_file_path = 'exon.bed'\n",
    "df_to_bed(df_exons, bed_file_path)"
   ],
   "metadata": {
    "collapsed": false
   }
  },
  {
   "cell_type": "code",
   "execution_count": 3,
   "outputs": [
    {
     "name": "stdout",
     "output_type": "stream",
     "text": [
      "INFO: Pandarallel will run on 12 workers.\n",
      "INFO: Pandarallel will use Memory file system to transfer data between the main process and workers.\n"
     ]
    }
   ],
   "source": [
    "pandarallel.initialize(progress_bar=False, nb_workers=12)"
   ],
   "metadata": {
    "collapsed": false
   }
  },
  {
   "cell_type": "code",
   "execution_count": 4,
   "outputs": [],
   "source": [
    "def antisense_exon_start(row):\n",
    "    \"\"\"\n",
    "    We call the tabix command, which look at the bed file to see if the row (which are entries in the intron that we extracted) overlaps with the repeat\n",
    "    regions detailed in the repeat_features.bed.gz, apart from the splice-site ({row.start+2}), we also look at the small-region that precedes (2 nt in the exon; row.start-2) the splice-site.\n",
    "    \"\"\"\n",
    "    opposite_strand = \"+\" if row.strand == \"-\" else \"-\"\n",
    "    # print(opposite_strand)\n",
    "    matched_rows = !tabix sorted_exon.bed.gz {row.chr}:{row.start}-{row.start+2} | cut -f6\n",
    "    # if matched_rows != []:\n",
    "    #     print(matched_rows)\n",
    "    return opposite_strand in matched_rows\n",
    "\n",
    "def antisense_exon_stop(row):\n",
    "    \"\"\"\n",
    "    We call the tabix command, which look at the bed file to see if the row (which are entries in the intron that we extracted) overlaps with the repeat\n",
    "    regions detailed in the repeat_features.bed.gz, apart from the splice-site ({row.start+2}), we also look at the small-region that precedes (2 nt in the exon; row.start-2) the splice-site.\n",
    "    \"\"\"\n",
    "    opposite_strand = \"+\" if row.strand == \"-\" else \"-\"\n",
    "    # print(opposite_strand)\n",
    "    matched_rows = !tabix sorted_exon.bed.gz {row.chr}:{row.end-2}-{row.end} | cut -f6\n",
    "    # if matched_rows != []:\n",
    "    #     print(matched_rows)\n",
    "    return opposite_strand in matched_rows"
   ],
   "metadata": {
    "collapsed": false
   }
  },
  {
   "cell_type": "code",
   "execution_count": null,
   "outputs": [],
   "source": [
    "df_merged"
   ],
   "metadata": {
    "collapsed": false
   }
  },
  {
   "cell_type": "code",
   "execution_count": 5,
   "outputs": [
    {
     "name": "stdout",
     "output_type": "stream",
     "text": [
      "CPU times: user 111 ms, sys: 48.9 ms, total: 160 ms\n",
      "Wall time: 13min 22s\n"
     ]
    },
    {
     "data": {
      "text/plain": "         chr     start       end strand  class  \\\n0       chr1     12227     12612      +      1   \n1       chr1     12721     13220      +      1   \n2       chr1     12057     12178      +      1   \n3       chr1     12697     12974      +      1   \n4       chr1     13052     13220      +      1   \n...      ...       ...       ...    ...    ...   \n527913  chrY  24883840  24886132      +      0   \n527914  chrY  24888605  24889352      +      0   \n527915  chrY  24889386  24901111      +      0   \n527916  chrY  24833970  24840730      +      0   \n527917  chrY  24871607  24895696      +      0   \n\n                                                      RC3  \\\n0       ['GTExv2=1122:3199;TCGAv2=583:1460;SRAv3h=9374...   \n1       ['GTExv2=1791:3198;TCGAv2=783:1104;SRAv3h=1404...   \n2                                              [None, -1]   \n3         ['GTExv2=1:1;TCGAv2=1:1;SRAv3h=15:19;GT:AG' 21]   \n4       ['GTExv2=22:24;TCGAv2=17:18;SRAv3h=433:484;GC:...   \n...                                                   ...   \n527913                                         [None, -1]   \n527914                                         [None, -1]   \n527915                                         [None, -1]   \n527916                                         [None, -1]   \n527917                                         [None, -1]   \n\n       repeat_features_start_site repeat_features_end_site  \\\n0                              []                       []   \n1                              []                       []   \n2                              []                       []   \n3                              []                       []   \n4                              []                       []   \n...                           ...                      ...   \n527913                         []                       []   \n527914                         []                       []   \n527915                         []                       []   \n527916                         []                       []   \n527917                         []                       []   \n\n        ss_antisense_start_site  \n0                         False  \n1                         False  \n2                         False  \n3                         False  \n4                         False  \n...                         ...  \n527913                    False  \n527914                    False  \n527915                    False  \n527916                    False  \n527917                    False  \n\n[527918 rows x 9 columns]",
      "text/html": "<div>\n<style scoped>\n    .dataframe tbody tr th:only-of-type {\n        vertical-align: middle;\n    }\n\n    .dataframe tbody tr th {\n        vertical-align: top;\n    }\n\n    .dataframe thead th {\n        text-align: right;\n    }\n</style>\n<table border=\"1\" class=\"dataframe\">\n  <thead>\n    <tr style=\"text-align: right;\">\n      <th></th>\n      <th>chr</th>\n      <th>start</th>\n      <th>end</th>\n      <th>strand</th>\n      <th>class</th>\n      <th>RC3</th>\n      <th>repeat_features_start_site</th>\n      <th>repeat_features_end_site</th>\n      <th>ss_antisense_start_site</th>\n    </tr>\n  </thead>\n  <tbody>\n    <tr>\n      <th>0</th>\n      <td>chr1</td>\n      <td>12227</td>\n      <td>12612</td>\n      <td>+</td>\n      <td>1</td>\n      <td>['GTExv2=1122:3199;TCGAv2=583:1460;SRAv3h=9374...</td>\n      <td>[]</td>\n      <td>[]</td>\n      <td>False</td>\n    </tr>\n    <tr>\n      <th>1</th>\n      <td>chr1</td>\n      <td>12721</td>\n      <td>13220</td>\n      <td>+</td>\n      <td>1</td>\n      <td>['GTExv2=1791:3198;TCGAv2=783:1104;SRAv3h=1404...</td>\n      <td>[]</td>\n      <td>[]</td>\n      <td>False</td>\n    </tr>\n    <tr>\n      <th>2</th>\n      <td>chr1</td>\n      <td>12057</td>\n      <td>12178</td>\n      <td>+</td>\n      <td>1</td>\n      <td>[None, -1]</td>\n      <td>[]</td>\n      <td>[]</td>\n      <td>False</td>\n    </tr>\n    <tr>\n      <th>3</th>\n      <td>chr1</td>\n      <td>12697</td>\n      <td>12974</td>\n      <td>+</td>\n      <td>1</td>\n      <td>['GTExv2=1:1;TCGAv2=1:1;SRAv3h=15:19;GT:AG' 21]</td>\n      <td>[]</td>\n      <td>[]</td>\n      <td>False</td>\n    </tr>\n    <tr>\n      <th>4</th>\n      <td>chr1</td>\n      <td>13052</td>\n      <td>13220</td>\n      <td>+</td>\n      <td>1</td>\n      <td>['GTExv2=22:24;TCGAv2=17:18;SRAv3h=433:484;GC:...</td>\n      <td>[]</td>\n      <td>[]</td>\n      <td>False</td>\n    </tr>\n    <tr>\n      <th>...</th>\n      <td>...</td>\n      <td>...</td>\n      <td>...</td>\n      <td>...</td>\n      <td>...</td>\n      <td>...</td>\n      <td>...</td>\n      <td>...</td>\n      <td>...</td>\n    </tr>\n    <tr>\n      <th>527913</th>\n      <td>chrY</td>\n      <td>24883840</td>\n      <td>24886132</td>\n      <td>+</td>\n      <td>0</td>\n      <td>[None, -1]</td>\n      <td>[]</td>\n      <td>[]</td>\n      <td>False</td>\n    </tr>\n    <tr>\n      <th>527914</th>\n      <td>chrY</td>\n      <td>24888605</td>\n      <td>24889352</td>\n      <td>+</td>\n      <td>0</td>\n      <td>[None, -1]</td>\n      <td>[]</td>\n      <td>[]</td>\n      <td>False</td>\n    </tr>\n    <tr>\n      <th>527915</th>\n      <td>chrY</td>\n      <td>24889386</td>\n      <td>24901111</td>\n      <td>+</td>\n      <td>0</td>\n      <td>[None, -1]</td>\n      <td>[]</td>\n      <td>[]</td>\n      <td>False</td>\n    </tr>\n    <tr>\n      <th>527916</th>\n      <td>chrY</td>\n      <td>24833970</td>\n      <td>24840730</td>\n      <td>+</td>\n      <td>0</td>\n      <td>[None, -1]</td>\n      <td>[]</td>\n      <td>[]</td>\n      <td>False</td>\n    </tr>\n    <tr>\n      <th>527917</th>\n      <td>chrY</td>\n      <td>24871607</td>\n      <td>24895696</td>\n      <td>+</td>\n      <td>0</td>\n      <td>[None, -1]</td>\n      <td>[]</td>\n      <td>[]</td>\n      <td>False</td>\n    </tr>\n  </tbody>\n</table>\n<p>527918 rows × 9 columns</p>\n</div>"
     },
     "execution_count": 5,
     "metadata": {},
     "output_type": "execute_result"
    }
   ],
   "source": [
    "%%time\n",
    "df_merged[\"ss_antisense_start_site\"] = df_merged.parallel_apply(antisense_exon_start, axis=1)\n",
    "df_merged"
   ],
   "metadata": {
    "collapsed": false
   }
  },
  {
   "cell_type": "code",
   "execution_count": 6,
   "outputs": [
    {
     "name": "stdout",
     "output_type": "stream",
     "text": [
      "CPU times: user 83.4 ms, sys: 53.9 ms, total: 137 ms\n",
      "Wall time: 13min 16s\n"
     ]
    },
    {
     "data": {
      "text/plain": "         chr     start       end strand  class  \\\n0       chr1     12227     12612      +      1   \n1       chr1     12721     13220      +      1   \n2       chr1     12057     12178      +      1   \n3       chr1     12697     12974      +      1   \n4       chr1     13052     13220      +      1   \n...      ...       ...       ...    ...    ...   \n527913  chrY  24883840  24886132      +      0   \n527914  chrY  24888605  24889352      +      0   \n527915  chrY  24889386  24901111      +      0   \n527916  chrY  24833970  24840730      +      0   \n527917  chrY  24871607  24895696      +      0   \n\n                                                      RC3  \\\n0       ['GTExv2=1122:3199;TCGAv2=583:1460;SRAv3h=9374...   \n1       ['GTExv2=1791:3198;TCGAv2=783:1104;SRAv3h=1404...   \n2                                              [None, -1]   \n3         ['GTExv2=1:1;TCGAv2=1:1;SRAv3h=15:19;GT:AG' 21]   \n4       ['GTExv2=22:24;TCGAv2=17:18;SRAv3h=433:484;GC:...   \n...                                                   ...   \n527913                                         [None, -1]   \n527914                                         [None, -1]   \n527915                                         [None, -1]   \n527916                                         [None, -1]   \n527917                                         [None, -1]   \n\n       repeat_features_start_site repeat_features_end_site  \\\n0                              []                       []   \n1                              []                       []   \n2                              []                       []   \n3                              []                       []   \n4                              []                       []   \n...                           ...                      ...   \n527913                         []                       []   \n527914                         []                       []   \n527915                         []                       []   \n527916                         []                       []   \n527917                         []                       []   \n\n        ss_antisense_start_site  ss_antisense_end_site  \n0                         False                  False  \n1                         False                  False  \n2                         False                  False  \n3                         False                  False  \n4                         False                  False  \n...                         ...                    ...  \n527913                    False                  False  \n527914                    False                  False  \n527915                    False                  False  \n527916                    False                  False  \n527917                    False                  False  \n\n[527918 rows x 10 columns]",
      "text/html": "<div>\n<style scoped>\n    .dataframe tbody tr th:only-of-type {\n        vertical-align: middle;\n    }\n\n    .dataframe tbody tr th {\n        vertical-align: top;\n    }\n\n    .dataframe thead th {\n        text-align: right;\n    }\n</style>\n<table border=\"1\" class=\"dataframe\">\n  <thead>\n    <tr style=\"text-align: right;\">\n      <th></th>\n      <th>chr</th>\n      <th>start</th>\n      <th>end</th>\n      <th>strand</th>\n      <th>class</th>\n      <th>RC3</th>\n      <th>repeat_features_start_site</th>\n      <th>repeat_features_end_site</th>\n      <th>ss_antisense_start_site</th>\n      <th>ss_antisense_end_site</th>\n    </tr>\n  </thead>\n  <tbody>\n    <tr>\n      <th>0</th>\n      <td>chr1</td>\n      <td>12227</td>\n      <td>12612</td>\n      <td>+</td>\n      <td>1</td>\n      <td>['GTExv2=1122:3199;TCGAv2=583:1460;SRAv3h=9374...</td>\n      <td>[]</td>\n      <td>[]</td>\n      <td>False</td>\n      <td>False</td>\n    </tr>\n    <tr>\n      <th>1</th>\n      <td>chr1</td>\n      <td>12721</td>\n      <td>13220</td>\n      <td>+</td>\n      <td>1</td>\n      <td>['GTExv2=1791:3198;TCGAv2=783:1104;SRAv3h=1404...</td>\n      <td>[]</td>\n      <td>[]</td>\n      <td>False</td>\n      <td>False</td>\n    </tr>\n    <tr>\n      <th>2</th>\n      <td>chr1</td>\n      <td>12057</td>\n      <td>12178</td>\n      <td>+</td>\n      <td>1</td>\n      <td>[None, -1]</td>\n      <td>[]</td>\n      <td>[]</td>\n      <td>False</td>\n      <td>False</td>\n    </tr>\n    <tr>\n      <th>3</th>\n      <td>chr1</td>\n      <td>12697</td>\n      <td>12974</td>\n      <td>+</td>\n      <td>1</td>\n      <td>['GTExv2=1:1;TCGAv2=1:1;SRAv3h=15:19;GT:AG' 21]</td>\n      <td>[]</td>\n      <td>[]</td>\n      <td>False</td>\n      <td>False</td>\n    </tr>\n    <tr>\n      <th>4</th>\n      <td>chr1</td>\n      <td>13052</td>\n      <td>13220</td>\n      <td>+</td>\n      <td>1</td>\n      <td>['GTExv2=22:24;TCGAv2=17:18;SRAv3h=433:484;GC:...</td>\n      <td>[]</td>\n      <td>[]</td>\n      <td>False</td>\n      <td>False</td>\n    </tr>\n    <tr>\n      <th>...</th>\n      <td>...</td>\n      <td>...</td>\n      <td>...</td>\n      <td>...</td>\n      <td>...</td>\n      <td>...</td>\n      <td>...</td>\n      <td>...</td>\n      <td>...</td>\n      <td>...</td>\n    </tr>\n    <tr>\n      <th>527913</th>\n      <td>chrY</td>\n      <td>24883840</td>\n      <td>24886132</td>\n      <td>+</td>\n      <td>0</td>\n      <td>[None, -1]</td>\n      <td>[]</td>\n      <td>[]</td>\n      <td>False</td>\n      <td>False</td>\n    </tr>\n    <tr>\n      <th>527914</th>\n      <td>chrY</td>\n      <td>24888605</td>\n      <td>24889352</td>\n      <td>+</td>\n      <td>0</td>\n      <td>[None, -1]</td>\n      <td>[]</td>\n      <td>[]</td>\n      <td>False</td>\n      <td>False</td>\n    </tr>\n    <tr>\n      <th>527915</th>\n      <td>chrY</td>\n      <td>24889386</td>\n      <td>24901111</td>\n      <td>+</td>\n      <td>0</td>\n      <td>[None, -1]</td>\n      <td>[]</td>\n      <td>[]</td>\n      <td>False</td>\n      <td>False</td>\n    </tr>\n    <tr>\n      <th>527916</th>\n      <td>chrY</td>\n      <td>24833970</td>\n      <td>24840730</td>\n      <td>+</td>\n      <td>0</td>\n      <td>[None, -1]</td>\n      <td>[]</td>\n      <td>[]</td>\n      <td>False</td>\n      <td>False</td>\n    </tr>\n    <tr>\n      <th>527917</th>\n      <td>chrY</td>\n      <td>24871607</td>\n      <td>24895696</td>\n      <td>+</td>\n      <td>0</td>\n      <td>[None, -1]</td>\n      <td>[]</td>\n      <td>[]</td>\n      <td>False</td>\n      <td>False</td>\n    </tr>\n  </tbody>\n</table>\n<p>527918 rows × 10 columns</p>\n</div>"
     },
     "execution_count": 6,
     "metadata": {},
     "output_type": "execute_result"
    }
   ],
   "source": [
    "%%time\n",
    "df_merged[\"ss_antisense_end_site\"] = df_merged.parallel_apply(antisense_exon_stop, axis=1)\n",
    "df_merged"
   ],
   "metadata": {
    "collapsed": false
   }
  },
  {
   "cell_type": "code",
   "execution_count": 7,
   "outputs": [],
   "source": [
    "df_merged.to_csv(\"data/3_all_features.tsv\", sep=\"\\t\", index=False)"
   ],
   "metadata": {
    "collapsed": false
   }
  },
  {
   "cell_type": "code",
   "execution_count": null,
   "outputs": [],
   "source": [],
   "metadata": {
    "collapsed": false
   }
  }
 ],
 "metadata": {
  "kernelspec": {
   "display_name": "Python 3",
   "language": "python",
   "name": "python3"
  },
  "language_info": {
   "codemirror_mode": {
    "name": "ipython",
    "version": 2
   },
   "file_extension": ".py",
   "mimetype": "text/x-python",
   "name": "python",
   "nbconvert_exporter": "python",
   "pygments_lexer": "ipython2",
   "version": "2.7.6"
  }
 },
 "nbformat": 4,
 "nbformat_minor": 0
}
