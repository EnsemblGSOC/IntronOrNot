{
 "cells": [
  {
   "cell_type": "code",
   "execution_count": 1,
   "metadata": {
    "collapsed": true,
    "is_executing": true
   },
   "outputs": [],
   "source": [
    "import pandas as pd\n",
    "from tqdm import tqdm\n",
    "from pandarallel import pandarallel"
   ]
  },
  {
   "cell_type": "code",
   "execution_count": 10,
   "outputs": [
    {
     "data": {
      "text/plain": "         chr      start        end strand  class\n0       chr1      12227      12612      +      1\n1       chr1      12721      13220      +      1\n2       chr1      12057      12178      +      1\n3       chr1      12697      12974      +      1\n4       chr1      13052      13220      +      1\n...      ...        ...        ...    ...    ...\n517420  chrX  151403680  151404937      +      0\n517421  chrX  151409211  151456968      +      0\n517422  chrX  153906578  153906694      -      0\n517423  chrX  153906410  153906520      -      0\n517424  chrY   20579692   20582591      +      0\n\n[517425 rows x 5 columns]",
      "text/html": "<div>\n<style scoped>\n    .dataframe tbody tr th:only-of-type {\n        vertical-align: middle;\n    }\n\n    .dataframe tbody tr th {\n        vertical-align: top;\n    }\n\n    .dataframe thead th {\n        text-align: right;\n    }\n</style>\n<table border=\"1\" class=\"dataframe\">\n  <thead>\n    <tr style=\"text-align: right;\">\n      <th></th>\n      <th>chr</th>\n      <th>start</th>\n      <th>end</th>\n      <th>strand</th>\n      <th>class</th>\n    </tr>\n  </thead>\n  <tbody>\n    <tr>\n      <th>0</th>\n      <td>chr1</td>\n      <td>12227</td>\n      <td>12612</td>\n      <td>+</td>\n      <td>1</td>\n    </tr>\n    <tr>\n      <th>1</th>\n      <td>chr1</td>\n      <td>12721</td>\n      <td>13220</td>\n      <td>+</td>\n      <td>1</td>\n    </tr>\n    <tr>\n      <th>2</th>\n      <td>chr1</td>\n      <td>12057</td>\n      <td>12178</td>\n      <td>+</td>\n      <td>1</td>\n    </tr>\n    <tr>\n      <th>3</th>\n      <td>chr1</td>\n      <td>12697</td>\n      <td>12974</td>\n      <td>+</td>\n      <td>1</td>\n    </tr>\n    <tr>\n      <th>4</th>\n      <td>chr1</td>\n      <td>13052</td>\n      <td>13220</td>\n      <td>+</td>\n      <td>1</td>\n    </tr>\n    <tr>\n      <th>...</th>\n      <td>...</td>\n      <td>...</td>\n      <td>...</td>\n      <td>...</td>\n      <td>...</td>\n    </tr>\n    <tr>\n      <th>517420</th>\n      <td>chrX</td>\n      <td>151403680</td>\n      <td>151404937</td>\n      <td>+</td>\n      <td>0</td>\n    </tr>\n    <tr>\n      <th>517421</th>\n      <td>chrX</td>\n      <td>151409211</td>\n      <td>151456968</td>\n      <td>+</td>\n      <td>0</td>\n    </tr>\n    <tr>\n      <th>517422</th>\n      <td>chrX</td>\n      <td>153906578</td>\n      <td>153906694</td>\n      <td>-</td>\n      <td>0</td>\n    </tr>\n    <tr>\n      <th>517423</th>\n      <td>chrX</td>\n      <td>153906410</td>\n      <td>153906520</td>\n      <td>-</td>\n      <td>0</td>\n    </tr>\n    <tr>\n      <th>517424</th>\n      <td>chrY</td>\n      <td>20579692</td>\n      <td>20582591</td>\n      <td>+</td>\n      <td>0</td>\n    </tr>\n  </tbody>\n</table>\n<p>517425 rows × 5 columns</p>\n</div>"
     },
     "execution_count": 10,
     "metadata": {},
     "output_type": "execute_result"
    }
   ],
   "source": [
    "df_merged = pd.read_csv(\"data/merged_train_set\", sep=\"\\t\")\n",
    "df_merged"
   ],
   "metadata": {
    "collapsed": false
   }
  },
  {
   "cell_type": "code",
   "execution_count": 3,
   "outputs": [
    {
     "data": {
      "text/plain": "                                              Chrom  \\\nStrand Start     End                                  \n+      12        16498                         chrM   \n       15        355               chrUn_KI270303v1   \n       17        65645      chr22_KI270736v1_random   \n       20        608               chrUn_GL000224v1   \n                 801               chrUn_KI270539v1   \n...                                             ...   \n-      248937793 248937887                     chr1   \n       248937886 248938073                     chr1   \n       248937979 248938073                     chr1   \n       248942862 248945072                     chr1   \n       248945343 248945425                     chr1   \n\n                                                             Features  Score  \nStrand Start     End                                                          \n+      12        16498       GTExv2=15:69;TCGAv2=0:0;SRAv3h=3:7;AT:AC     76  \n       15        355         GTExv2=0:0;TCGAv2=0:0;SRAv3h=33:36;GT:AG     36  \n       17        65645        GTExv2=0:0;TCGAv2=0:0;SRAv3h=7:36;GT:AG     36  \n       20        608         GTExv2=0:0;TCGAv2=1:1;SRAv3h=27:65;GT:AG     66  \n                 801         GTExv2=0:0;TCGAv2=0:0;SRAv3h=33:35;GT:AG     35  \n...                                                               ...    ...  \n-      248937793 248937887   GTExv2=3:3;TCGAv2=1:2;SRAv3h=15:16;GT:AG     21  \n       248937886 248938073   GTExv2=2:2;TCGAv2=1:2;SRAv3h=26:27;GT:AG     31  \n       248937979 248938073   GTExv2=4:4;TCGAv2=1:2;SRAv3h=19:20;GT:AG     26  \n       248942862 248945072   GTExv2=2:2;TCGAv2=1:1;SRAv3h=11:29;GT:AG     32  \n       248945343 248945425  GTExv2=2:2;TCGAv2=7:12;SRAv3h=22:41;GT:AG     55  \n\n[16350181 rows x 3 columns]",
      "text/html": "<div>\n<style scoped>\n    .dataframe tbody tr th:only-of-type {\n        vertical-align: middle;\n    }\n\n    .dataframe tbody tr th {\n        vertical-align: top;\n    }\n\n    .dataframe thead th {\n        text-align: right;\n    }\n</style>\n<table border=\"1\" class=\"dataframe\">\n  <thead>\n    <tr style=\"text-align: right;\">\n      <th></th>\n      <th></th>\n      <th></th>\n      <th>Chrom</th>\n      <th>Features</th>\n      <th>Score</th>\n    </tr>\n    <tr>\n      <th>Strand</th>\n      <th>Start</th>\n      <th>End</th>\n      <th></th>\n      <th></th>\n      <th></th>\n    </tr>\n  </thead>\n  <tbody>\n    <tr>\n      <th rowspan=\"5\" valign=\"top\">+</th>\n      <th>12</th>\n      <th>16498</th>\n      <td>chrM</td>\n      <td>GTExv2=15:69;TCGAv2=0:0;SRAv3h=3:7;AT:AC</td>\n      <td>76</td>\n    </tr>\n    <tr>\n      <th>15</th>\n      <th>355</th>\n      <td>chrUn_KI270303v1</td>\n      <td>GTExv2=0:0;TCGAv2=0:0;SRAv3h=33:36;GT:AG</td>\n      <td>36</td>\n    </tr>\n    <tr>\n      <th>17</th>\n      <th>65645</th>\n      <td>chr22_KI270736v1_random</td>\n      <td>GTExv2=0:0;TCGAv2=0:0;SRAv3h=7:36;GT:AG</td>\n      <td>36</td>\n    </tr>\n    <tr>\n      <th rowspan=\"2\" valign=\"top\">20</th>\n      <th>608</th>\n      <td>chrUn_GL000224v1</td>\n      <td>GTExv2=0:0;TCGAv2=1:1;SRAv3h=27:65;GT:AG</td>\n      <td>66</td>\n    </tr>\n    <tr>\n      <th>801</th>\n      <td>chrUn_KI270539v1</td>\n      <td>GTExv2=0:0;TCGAv2=0:0;SRAv3h=33:35;GT:AG</td>\n      <td>35</td>\n    </tr>\n    <tr>\n      <th>...</th>\n      <th>...</th>\n      <th>...</th>\n      <td>...</td>\n      <td>...</td>\n      <td>...</td>\n    </tr>\n    <tr>\n      <th rowspan=\"5\" valign=\"top\">-</th>\n      <th>248937793</th>\n      <th>248937887</th>\n      <td>chr1</td>\n      <td>GTExv2=3:3;TCGAv2=1:2;SRAv3h=15:16;GT:AG</td>\n      <td>21</td>\n    </tr>\n    <tr>\n      <th>248937886</th>\n      <th>248938073</th>\n      <td>chr1</td>\n      <td>GTExv2=2:2;TCGAv2=1:2;SRAv3h=26:27;GT:AG</td>\n      <td>31</td>\n    </tr>\n    <tr>\n      <th>248937979</th>\n      <th>248938073</th>\n      <td>chr1</td>\n      <td>GTExv2=4:4;TCGAv2=1:2;SRAv3h=19:20;GT:AG</td>\n      <td>26</td>\n    </tr>\n    <tr>\n      <th>248942862</th>\n      <th>248945072</th>\n      <td>chr1</td>\n      <td>GTExv2=2:2;TCGAv2=1:1;SRAv3h=11:29;GT:AG</td>\n      <td>32</td>\n    </tr>\n    <tr>\n      <th>248945343</th>\n      <th>248945425</th>\n      <td>chr1</td>\n      <td>GTExv2=2:2;TCGAv2=7:12;SRAv3h=22:41;GT:AG</td>\n      <td>55</td>\n    </tr>\n  </tbody>\n</table>\n<p>16350181 rows × 3 columns</p>\n</div>"
     },
     "execution_count": 3,
     "metadata": {},
     "output_type": "execute_result"
    }
   ],
   "source": [
    "df_recount3 = pd.read_csv(\"ftp-data/recount3.bed\", sep=\"\\t\",\n",
    "                          names=[\"Chrom\", \"Start\", \"End\", \"Features\", \"Score\", \"Strand\"])\n",
    "\n",
    "df_recount3.set_index([\"Strand\", \"Start\", \"End\"], inplace=True)\n",
    "df_recount3.sort_index(inplace=True)\n",
    "df_recount3"
   ],
   "metadata": {
    "collapsed": false
   }
  },
  {
   "cell_type": "code",
   "execution_count": 4,
   "outputs": [],
   "source": [
    "chrom_uniques = list(df_recount3.Chrom.unique())  # we get the list of unique chromosome names\n",
    "df_chrom = {}"
   ],
   "metadata": {
    "collapsed": false
   }
  },
  {
   "cell_type": "code",
   "execution_count": null,
   "outputs": [],
   "source": [
    "# Splitting the dataframe chromosome groups separately into key(chromosome)-value(rows) in a dictionary\n",
    "for chrom in tqdm(chrom_uniques):\n",
    "    df_chrom[chrom] = df_recount3[df_recount3.Chrom == chrom]\n",
    "\n",
    "df_chrom"
   ],
   "metadata": {
    "collapsed": false
   }
  },
  {
   "cell_type": "code",
   "execution_count": 25,
   "outputs": [],
   "source": [
    "def match_recount(row):\n",
    "    try:\n",
    "        score = df_chrom[row.chr].loc[(row.strand, row.start, row.end), [\"Features\", \"Score\"]].values\n",
    "    except:\n",
    "        score = [None, -1]\n",
    "    # print(score)\n",
    "    return score"
   ],
   "metadata": {
    "collapsed": false
   }
  },
  {
   "cell_type": "code",
   "execution_count": 26,
   "outputs": [
    {
     "name": "stdout",
     "output_type": "stream",
     "text": [
      "INFO: Pandarallel will run on 12 workers.\n",
      "INFO: Pandarallel will use Memory file system to transfer data between the main process and workers.\n"
     ]
    }
   ],
   "source": [
    "pandarallel.initialize(progress_bar=False, nb_workers=12)"
   ],
   "metadata": {
    "collapsed": false
   }
  },
  {
   "cell_type": "code",
   "execution_count": 23,
   "outputs": [
    {
     "name": "stdout",
     "output_type": "stream",
     "text": [
      "CPU times: user 259 ms, sys: 11.7 ms, total: 271 ms\n",
      "Wall time: 273 ms\n"
     ]
    },
    {
     "data": {
      "text/plain": "    chr  start    end strand  class  \\\n0  chr1  12227  12612      +      1   \n1  chr1  12721  13220      +      1   \n2  chr1  12057  12178      +      1   \n3  chr1  12697  12974      +      1   \n4  chr1  13052  13220      +      1   \n5  chr1  13374  13452      +      1   \n6  chr1  13670  14403      -      1   \n7  chr1  14501  15004      -      1   \n8  chr1  15038  15795      -      1   \n9  chr1  15947  16606      -      1   \n\n                                                 RC3  \n0  [GTExv2=1122:3199;TCGAv2=583:1460;SRAv3h=9374:...  \n1  [GTExv2=1791:3198;TCGAv2=783:1104;SRAv3h=14048...  \n2                                         [None, -1]  \n3     [GTExv2=1:1;TCGAv2=1:1;SRAv3h=15:19;GT:AG, 21]  \n4  [GTExv2=22:24;TCGAv2=17:18;SRAv3h=433:484;GC:A...  \n5                                         [None, -1]  \n6                                         [None, -1]  \n7                                         [None, -1]  \n8  [GTExv2=19076:1598588;TCGAv2=11350:748204;SRAv...  \n9  [GTExv2=19058:612687;TCGAv2=11302:480455;SRAv3...  ",
      "text/html": "<div>\n<style scoped>\n    .dataframe tbody tr th:only-of-type {\n        vertical-align: middle;\n    }\n\n    .dataframe tbody tr th {\n        vertical-align: top;\n    }\n\n    .dataframe thead th {\n        text-align: right;\n    }\n</style>\n<table border=\"1\" class=\"dataframe\">\n  <thead>\n    <tr style=\"text-align: right;\">\n      <th></th>\n      <th>chr</th>\n      <th>start</th>\n      <th>end</th>\n      <th>strand</th>\n      <th>class</th>\n      <th>RC3</th>\n    </tr>\n  </thead>\n  <tbody>\n    <tr>\n      <th>0</th>\n      <td>chr1</td>\n      <td>12227</td>\n      <td>12612</td>\n      <td>+</td>\n      <td>1</td>\n      <td>[GTExv2=1122:3199;TCGAv2=583:1460;SRAv3h=9374:...</td>\n    </tr>\n    <tr>\n      <th>1</th>\n      <td>chr1</td>\n      <td>12721</td>\n      <td>13220</td>\n      <td>+</td>\n      <td>1</td>\n      <td>[GTExv2=1791:3198;TCGAv2=783:1104;SRAv3h=14048...</td>\n    </tr>\n    <tr>\n      <th>2</th>\n      <td>chr1</td>\n      <td>12057</td>\n      <td>12178</td>\n      <td>+</td>\n      <td>1</td>\n      <td>[None, -1]</td>\n    </tr>\n    <tr>\n      <th>3</th>\n      <td>chr1</td>\n      <td>12697</td>\n      <td>12974</td>\n      <td>+</td>\n      <td>1</td>\n      <td>[GTExv2=1:1;TCGAv2=1:1;SRAv3h=15:19;GT:AG, 21]</td>\n    </tr>\n    <tr>\n      <th>4</th>\n      <td>chr1</td>\n      <td>13052</td>\n      <td>13220</td>\n      <td>+</td>\n      <td>1</td>\n      <td>[GTExv2=22:24;TCGAv2=17:18;SRAv3h=433:484;GC:A...</td>\n    </tr>\n    <tr>\n      <th>5</th>\n      <td>chr1</td>\n      <td>13374</td>\n      <td>13452</td>\n      <td>+</td>\n      <td>1</td>\n      <td>[None, -1]</td>\n    </tr>\n    <tr>\n      <th>6</th>\n      <td>chr1</td>\n      <td>13670</td>\n      <td>14403</td>\n      <td>-</td>\n      <td>1</td>\n      <td>[None, -1]</td>\n    </tr>\n    <tr>\n      <th>7</th>\n      <td>chr1</td>\n      <td>14501</td>\n      <td>15004</td>\n      <td>-</td>\n      <td>1</td>\n      <td>[None, -1]</td>\n    </tr>\n    <tr>\n      <th>8</th>\n      <td>chr1</td>\n      <td>15038</td>\n      <td>15795</td>\n      <td>-</td>\n      <td>1</td>\n      <td>[GTExv2=19076:1598588;TCGAv2=11350:748204;SRAv...</td>\n    </tr>\n    <tr>\n      <th>9</th>\n      <td>chr1</td>\n      <td>15947</td>\n      <td>16606</td>\n      <td>-</td>\n      <td>1</td>\n      <td>[GTExv2=19058:612687;TCGAv2=11302:480455;SRAv3...</td>\n    </tr>\n  </tbody>\n</table>\n</div>"
     },
     "execution_count": 23,
     "metadata": {},
     "output_type": "execute_result"
    }
   ],
   "source": [
    "# %%time\n",
    "# df_test = df_merged.copy().head(10)\n",
    "# df_test[\"RC3\"] = df_test.apply(match_recount, axis=1)\n",
    "# df_test"
   ],
   "metadata": {
    "collapsed": false
   }
  },
  {
   "cell_type": "code",
   "execution_count": 27,
   "outputs": [
    {
     "name": "stdout",
     "output_type": "stream",
     "text": [
      "CPU times: user 1.54 s, sys: 294 ms, total: 1.83 s\n",
      "Wall time: 57min 18s\n"
     ]
    }
   ],
   "source": [
    "%%time\n",
    "df_merged[\"RC3\"] = df_merged.parallel_apply(match_recount, axis=1)"
   ],
   "metadata": {
    "collapsed": false
   }
  },
  {
   "cell_type": "code",
   "execution_count": 30,
   "outputs": [
    {
     "data": {
      "text/plain": "         chr      start        end strand  class  \\\n0       chr1      12227      12612      +      1   \n1       chr1      12721      13220      +      1   \n2       chr1      12057      12178      +      1   \n3       chr1      12697      12974      +      1   \n4       chr1      13052      13220      +      1   \n...      ...        ...        ...    ...    ...   \n517420  chrX  151403680  151404937      +      0   \n517421  chrX  151409211  151456968      +      0   \n517422  chrX  153906578  153906694      -      0   \n517423  chrX  153906410  153906520      -      0   \n517424  chrY   20579692   20582591      +      0   \n\n                                                      RC3  \n0       [GTExv2=1122:3199;TCGAv2=583:1460;SRAv3h=9374:...  \n1       [GTExv2=1791:3198;TCGAv2=783:1104;SRAv3h=14048...  \n2                                              [None, -1]  \n3          [GTExv2=1:1;TCGAv2=1:1;SRAv3h=15:19;GT:AG, 21]  \n4       [GTExv2=22:24;TCGAv2=17:18;SRAv3h=433:484;GC:A...  \n...                                                   ...  \n517420                                         [None, -1]  \n517421                                         [None, -1]  \n517422                                         [None, -1]  \n517423                                         [None, -1]  \n517424                                         [None, -1]  \n\n[517425 rows x 6 columns]",
      "text/html": "<div>\n<style scoped>\n    .dataframe tbody tr th:only-of-type {\n        vertical-align: middle;\n    }\n\n    .dataframe tbody tr th {\n        vertical-align: top;\n    }\n\n    .dataframe thead th {\n        text-align: right;\n    }\n</style>\n<table border=\"1\" class=\"dataframe\">\n  <thead>\n    <tr style=\"text-align: right;\">\n      <th></th>\n      <th>chr</th>\n      <th>start</th>\n      <th>end</th>\n      <th>strand</th>\n      <th>class</th>\n      <th>RC3</th>\n    </tr>\n  </thead>\n  <tbody>\n    <tr>\n      <th>0</th>\n      <td>chr1</td>\n      <td>12227</td>\n      <td>12612</td>\n      <td>+</td>\n      <td>1</td>\n      <td>[GTExv2=1122:3199;TCGAv2=583:1460;SRAv3h=9374:...</td>\n    </tr>\n    <tr>\n      <th>1</th>\n      <td>chr1</td>\n      <td>12721</td>\n      <td>13220</td>\n      <td>+</td>\n      <td>1</td>\n      <td>[GTExv2=1791:3198;TCGAv2=783:1104;SRAv3h=14048...</td>\n    </tr>\n    <tr>\n      <th>2</th>\n      <td>chr1</td>\n      <td>12057</td>\n      <td>12178</td>\n      <td>+</td>\n      <td>1</td>\n      <td>[None, -1]</td>\n    </tr>\n    <tr>\n      <th>3</th>\n      <td>chr1</td>\n      <td>12697</td>\n      <td>12974</td>\n      <td>+</td>\n      <td>1</td>\n      <td>[GTExv2=1:1;TCGAv2=1:1;SRAv3h=15:19;GT:AG, 21]</td>\n    </tr>\n    <tr>\n      <th>4</th>\n      <td>chr1</td>\n      <td>13052</td>\n      <td>13220</td>\n      <td>+</td>\n      <td>1</td>\n      <td>[GTExv2=22:24;TCGAv2=17:18;SRAv3h=433:484;GC:A...</td>\n    </tr>\n    <tr>\n      <th>...</th>\n      <td>...</td>\n      <td>...</td>\n      <td>...</td>\n      <td>...</td>\n      <td>...</td>\n      <td>...</td>\n    </tr>\n    <tr>\n      <th>517420</th>\n      <td>chrX</td>\n      <td>151403680</td>\n      <td>151404937</td>\n      <td>+</td>\n      <td>0</td>\n      <td>[None, -1]</td>\n    </tr>\n    <tr>\n      <th>517421</th>\n      <td>chrX</td>\n      <td>151409211</td>\n      <td>151456968</td>\n      <td>+</td>\n      <td>0</td>\n      <td>[None, -1]</td>\n    </tr>\n    <tr>\n      <th>517422</th>\n      <td>chrX</td>\n      <td>153906578</td>\n      <td>153906694</td>\n      <td>-</td>\n      <td>0</td>\n      <td>[None, -1]</td>\n    </tr>\n    <tr>\n      <th>517423</th>\n      <td>chrX</td>\n      <td>153906410</td>\n      <td>153906520</td>\n      <td>-</td>\n      <td>0</td>\n      <td>[None, -1]</td>\n    </tr>\n    <tr>\n      <th>517424</th>\n      <td>chrY</td>\n      <td>20579692</td>\n      <td>20582591</td>\n      <td>+</td>\n      <td>0</td>\n      <td>[None, -1]</td>\n    </tr>\n  </tbody>\n</table>\n<p>517425 rows × 6 columns</p>\n</div>"
     },
     "execution_count": 30,
     "metadata": {},
     "output_type": "execute_result"
    }
   ],
   "source": [
    "df_merged"
   ],
   "metadata": {
    "collapsed": false
   }
  },
  {
   "cell_type": "code",
   "execution_count": 2,
   "outputs": [
    {
     "data": {
      "text/plain": "         chr      start        end strand  class  \\\n0       chr1      12227      12612      +      1   \n1       chr1      12721      13220      +      1   \n2       chr1      12057      12178      +      1   \n3       chr1      12697      12974      +      1   \n4       chr1      13052      13220      +      1   \n...      ...        ...        ...    ...    ...   \n517420  chrX  151403680  151404937      +      0   \n517421  chrX  151409211  151456968      +      0   \n517422  chrX  153906578  153906694      -      0   \n517423  chrX  153906410  153906520      -      0   \n517424  chrY   20579692   20582591      +      0   \n\n                                                      RC3  \n0       ['GTExv2=1122:3199;TCGAv2=583:1460;SRAv3h=9374...  \n1       ['GTExv2=1791:3198;TCGAv2=783:1104;SRAv3h=1404...  \n2                                              [None, -1]  \n3         ['GTExv2=1:1;TCGAv2=1:1;SRAv3h=15:19;GT:AG' 21]  \n4       ['GTExv2=22:24;TCGAv2=17:18;SRAv3h=433:484;GC:...  \n...                                                   ...  \n517420                                         [None, -1]  \n517421                                         [None, -1]  \n517422                                         [None, -1]  \n517423                                         [None, -1]  \n517424                                         [None, -1]  \n\n[517425 rows x 6 columns]",
      "text/html": "<div>\n<style scoped>\n    .dataframe tbody tr th:only-of-type {\n        vertical-align: middle;\n    }\n\n    .dataframe tbody tr th {\n        vertical-align: top;\n    }\n\n    .dataframe thead th {\n        text-align: right;\n    }\n</style>\n<table border=\"1\" class=\"dataframe\">\n  <thead>\n    <tr style=\"text-align: right;\">\n      <th></th>\n      <th>chr</th>\n      <th>start</th>\n      <th>end</th>\n      <th>strand</th>\n      <th>class</th>\n      <th>RC3</th>\n    </tr>\n  </thead>\n  <tbody>\n    <tr>\n      <th>0</th>\n      <td>chr1</td>\n      <td>12227</td>\n      <td>12612</td>\n      <td>+</td>\n      <td>1</td>\n      <td>['GTExv2=1122:3199;TCGAv2=583:1460;SRAv3h=9374...</td>\n    </tr>\n    <tr>\n      <th>1</th>\n      <td>chr1</td>\n      <td>12721</td>\n      <td>13220</td>\n      <td>+</td>\n      <td>1</td>\n      <td>['GTExv2=1791:3198;TCGAv2=783:1104;SRAv3h=1404...</td>\n    </tr>\n    <tr>\n      <th>2</th>\n      <td>chr1</td>\n      <td>12057</td>\n      <td>12178</td>\n      <td>+</td>\n      <td>1</td>\n      <td>[None, -1]</td>\n    </tr>\n    <tr>\n      <th>3</th>\n      <td>chr1</td>\n      <td>12697</td>\n      <td>12974</td>\n      <td>+</td>\n      <td>1</td>\n      <td>['GTExv2=1:1;TCGAv2=1:1;SRAv3h=15:19;GT:AG' 21]</td>\n    </tr>\n    <tr>\n      <th>4</th>\n      <td>chr1</td>\n      <td>13052</td>\n      <td>13220</td>\n      <td>+</td>\n      <td>1</td>\n      <td>['GTExv2=22:24;TCGAv2=17:18;SRAv3h=433:484;GC:...</td>\n    </tr>\n    <tr>\n      <th>...</th>\n      <td>...</td>\n      <td>...</td>\n      <td>...</td>\n      <td>...</td>\n      <td>...</td>\n      <td>...</td>\n    </tr>\n    <tr>\n      <th>517420</th>\n      <td>chrX</td>\n      <td>151403680</td>\n      <td>151404937</td>\n      <td>+</td>\n      <td>0</td>\n      <td>[None, -1]</td>\n    </tr>\n    <tr>\n      <th>517421</th>\n      <td>chrX</td>\n      <td>151409211</td>\n      <td>151456968</td>\n      <td>+</td>\n      <td>0</td>\n      <td>[None, -1]</td>\n    </tr>\n    <tr>\n      <th>517422</th>\n      <td>chrX</td>\n      <td>153906578</td>\n      <td>153906694</td>\n      <td>-</td>\n      <td>0</td>\n      <td>[None, -1]</td>\n    </tr>\n    <tr>\n      <th>517423</th>\n      <td>chrX</td>\n      <td>153906410</td>\n      <td>153906520</td>\n      <td>-</td>\n      <td>0</td>\n      <td>[None, -1]</td>\n    </tr>\n    <tr>\n      <th>517424</th>\n      <td>chrY</td>\n      <td>20579692</td>\n      <td>20582591</td>\n      <td>+</td>\n      <td>0</td>\n      <td>[None, -1]</td>\n    </tr>\n  </tbody>\n</table>\n<p>517425 rows × 6 columns</p>\n</div>"
     },
     "execution_count": 2,
     "metadata": {},
     "output_type": "execute_result"
    }
   ],
   "source": [
    "# Optional backup:\n",
    "# df_merged = pd.read_csv(\"data/3-temp-output\", sep=\"\\t\")\n",
    "# df_merged.to_csv(\"modded_recount3_inc\", sep=\"\\t\", index=False)\n",
    "# df_merged"
   ],
   "metadata": {
    "collapsed": false
   }
  },
  {
   "cell_type": "markdown",
   "source": [
    "# Adding repeat features to the merged train set\n"
   ],
   "metadata": {
    "collapsed": false
   }
  },
  {
   "cell_type": "code",
   "execution_count": 4,
   "outputs": [],
   "source": [
    "def match_repeat_features(row):\n",
    "    matched_rows = !tabix ftp-data / repeat_features.bed.gz {row.chrom}:{row.intron_start}-{row.intron_ends} | cut -f4 | sort -u\n",
    "    return list(matched_rows)"
   ],
   "metadata": {
    "collapsed": false
   }
  },
  {
   "cell_type": "code",
   "execution_count": 5,
   "outputs": [
    {
     "name": "stdout",
     "output_type": "stream",
     "text": [
      "INFO: Pandarallel will run on 12 workers.\n",
      "INFO: Pandarallel will use Memory file system to transfer data between the main process and workers.\n"
     ]
    }
   ],
   "source": [
    "pandarallel.initialize(progress_bar=False)"
   ],
   "metadata": {
    "collapsed": false
   }
  },
  {
   "cell_type": "code",
   "execution_count": null,
   "outputs": [],
   "source": [
    "# Test cell\n",
    "# %%time\n",
    "# df_draft = df_merged.copy().head(50)\n",
    "# df_draft[\"Repeat_overlap\"] = df_draft.parallel_apply(match_repeat_features, axis=1)\n",
    "# df_draft"
   ],
   "metadata": {
    "collapsed": false,
    "pycharm": {
     "is_executing": true
    }
   }
  },
  {
   "cell_type": "code",
   "execution_count": 11,
   "outputs": [
    {
     "name": "stdout",
     "output_type": "stream",
     "text": [
      "CPU times: user 300 ms, sys: 160 ms, total: 460 ms\n",
      "Wall time: 2min 13s\n"
     ]
    },
    {
     "data": {
      "text/plain": "         chr      start        end strand  class  \\\n0       chr1      12227      12612      +      1   \n1       chr1      12721      13220      +      1   \n2       chr1      12057      12178      +      1   \n3       chr1      12697      12974      +      1   \n4       chr1      13052      13220      +      1   \n...      ...        ...        ...    ...    ...   \n517420  chrX  151403680  151404937      +      0   \n517421  chrX  151409211  151456968      +      0   \n517422  chrX  153906578  153906694      -      0   \n517423  chrX  153906410  153906520      -      0   \n517424  chrY   20579692   20582591      +      0   \n\n                                                      RC3  \\\n0       ['GTExv2=1122:3199;TCGAv2=583:1460;SRAv3h=9374...   \n1       ['GTExv2=1791:3198;TCGAv2=783:1104;SRAv3h=1404...   \n2                                              [None, -1]   \n3         ['GTExv2=1:1;TCGAv2=1:1;SRAv3h=15:19;GT:AG' 21]   \n4       ['GTExv2=22:24;TCGAv2=17:18;SRAv3h=433:484;GC:...   \n...                                                   ...   \n517420                                         [None, -1]   \n517421                                         [None, -1]   \n517422                                         [None, -1]   \n517423                                         [None, -1]   \n517424                                         [None, -1]   \n\n                                          repeat_features  \n0       [[tabix] the index file either does not exist ...  \n1       [[tabix] the index file either does not exist ...  \n2       [[tabix] the index file either does not exist ...  \n3       [[tabix] the index file either does not exist ...  \n4       [[tabix] the index file either does not exist ...  \n...                                                   ...  \n517420  [[tabix] the index file either does not exist ...  \n517421  [[tabix] the index file either does not exist ...  \n517422  [[tabix] the index file either does not exist ...  \n517423  [[tabix] the index file either does not exist ...  \n517424  [[tabix] the index file either does not exist ...  \n\n[517425 rows x 7 columns]",
      "text/html": "<div>\n<style scoped>\n    .dataframe tbody tr th:only-of-type {\n        vertical-align: middle;\n    }\n\n    .dataframe tbody tr th {\n        vertical-align: top;\n    }\n\n    .dataframe thead th {\n        text-align: right;\n    }\n</style>\n<table border=\"1\" class=\"dataframe\">\n  <thead>\n    <tr style=\"text-align: right;\">\n      <th></th>\n      <th>chr</th>\n      <th>start</th>\n      <th>end</th>\n      <th>strand</th>\n      <th>class</th>\n      <th>RC3</th>\n      <th>repeat_features</th>\n    </tr>\n  </thead>\n  <tbody>\n    <tr>\n      <th>0</th>\n      <td>chr1</td>\n      <td>12227</td>\n      <td>12612</td>\n      <td>+</td>\n      <td>1</td>\n      <td>['GTExv2=1122:3199;TCGAv2=583:1460;SRAv3h=9374...</td>\n      <td>[[tabix] the index file either does not exist ...</td>\n    </tr>\n    <tr>\n      <th>1</th>\n      <td>chr1</td>\n      <td>12721</td>\n      <td>13220</td>\n      <td>+</td>\n      <td>1</td>\n      <td>['GTExv2=1791:3198;TCGAv2=783:1104;SRAv3h=1404...</td>\n      <td>[[tabix] the index file either does not exist ...</td>\n    </tr>\n    <tr>\n      <th>2</th>\n      <td>chr1</td>\n      <td>12057</td>\n      <td>12178</td>\n      <td>+</td>\n      <td>1</td>\n      <td>[None, -1]</td>\n      <td>[[tabix] the index file either does not exist ...</td>\n    </tr>\n    <tr>\n      <th>3</th>\n      <td>chr1</td>\n      <td>12697</td>\n      <td>12974</td>\n      <td>+</td>\n      <td>1</td>\n      <td>['GTExv2=1:1;TCGAv2=1:1;SRAv3h=15:19;GT:AG' 21]</td>\n      <td>[[tabix] the index file either does not exist ...</td>\n    </tr>\n    <tr>\n      <th>4</th>\n      <td>chr1</td>\n      <td>13052</td>\n      <td>13220</td>\n      <td>+</td>\n      <td>1</td>\n      <td>['GTExv2=22:24;TCGAv2=17:18;SRAv3h=433:484;GC:...</td>\n      <td>[[tabix] the index file either does not exist ...</td>\n    </tr>\n    <tr>\n      <th>...</th>\n      <td>...</td>\n      <td>...</td>\n      <td>...</td>\n      <td>...</td>\n      <td>...</td>\n      <td>...</td>\n      <td>...</td>\n    </tr>\n    <tr>\n      <th>517420</th>\n      <td>chrX</td>\n      <td>151403680</td>\n      <td>151404937</td>\n      <td>+</td>\n      <td>0</td>\n      <td>[None, -1]</td>\n      <td>[[tabix] the index file either does not exist ...</td>\n    </tr>\n    <tr>\n      <th>517421</th>\n      <td>chrX</td>\n      <td>151409211</td>\n      <td>151456968</td>\n      <td>+</td>\n      <td>0</td>\n      <td>[None, -1]</td>\n      <td>[[tabix] the index file either does not exist ...</td>\n    </tr>\n    <tr>\n      <th>517422</th>\n      <td>chrX</td>\n      <td>153906578</td>\n      <td>153906694</td>\n      <td>-</td>\n      <td>0</td>\n      <td>[None, -1]</td>\n      <td>[[tabix] the index file either does not exist ...</td>\n    </tr>\n    <tr>\n      <th>517423</th>\n      <td>chrX</td>\n      <td>153906410</td>\n      <td>153906520</td>\n      <td>-</td>\n      <td>0</td>\n      <td>[None, -1]</td>\n      <td>[[tabix] the index file either does not exist ...</td>\n    </tr>\n    <tr>\n      <th>517424</th>\n      <td>chrY</td>\n      <td>20579692</td>\n      <td>20582591</td>\n      <td>+</td>\n      <td>0</td>\n      <td>[None, -1]</td>\n      <td>[[tabix] the index file either does not exist ...</td>\n    </tr>\n  </tbody>\n</table>\n<p>517425 rows × 7 columns</p>\n</div>"
     },
     "execution_count": 11,
     "metadata": {},
     "output_type": "execute_result"
    }
   ],
   "source": [
    "%%time\n",
    "df_merged[\"repeat_features\"] = df_merged.parallel_apply(match_repeat_features, axis=1)\n",
    "df_merged"
   ],
   "metadata": {
    "collapsed": false
   }
  },
  {
   "cell_type": "code",
   "execution_count": 12,
   "outputs": [],
   "source": [
    "df_merged.to_csv(\"data/3-output.tsv\", sep=\"\\t\", index=False)"
   ],
   "metadata": {
    "collapsed": false
   }
  }
 ],
 "metadata": {
  "kernelspec": {
   "display_name": "Python 3",
   "language": "python",
   "name": "python3"
  },
  "language_info": {
   "codemirror_mode": {
    "name": "ipython",
    "version": 2
   },
   "file_extension": ".py",
   "mimetype": "text/x-python",
   "name": "python",
   "nbconvert_exporter": "python",
   "pygments_lexer": "ipython2",
   "version": "2.7.6"
  }
 },
 "nbformat": 4,
 "nbformat_minor": 0
}
