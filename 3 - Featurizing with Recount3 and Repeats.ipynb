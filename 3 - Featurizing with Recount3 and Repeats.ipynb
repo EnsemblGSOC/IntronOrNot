{
 "cells": [
  {
   "cell_type": "code",
   "execution_count": 2,
   "metadata": {
    "collapsed": true,
    "is_executing": true
   },
   "outputs": [],
   "source": [
    "import pandas as pd\n",
    "from tqdm import tqdm\n",
    "from pandarallel import pandarallel"
   ]
  },
  {
   "cell_type": "code",
   "execution_count": null,
   "outputs": [],
   "source": [
    "df_merged = pd.read_csv(\"data/merged_train_set\", sep=\"\\t\")\n",
    "df_merged"
   ],
   "metadata": {
    "collapsed": false
   }
  },
  {
   "cell_type": "code",
   "execution_count": null,
   "outputs": [],
   "source": [
    "df_recount3 = pd.read_csv(\"ftp-data/recount3.bed\", sep=\"\\t\",\n",
    "                          names=[\"Chrom\", \"Start\", \"End\", \"Features\", \"Score\", \"Strand\"])\n",
    "\n",
    "df_recount3.set_index([\"Strand\", \"Start\", \"End\"], inplace=True)\n",
    "df_recount3.sort_index(inplace=True)\n",
    "df_recount3"
   ],
   "metadata": {
    "collapsed": false
   }
  },
  {
   "cell_type": "code",
   "execution_count": null,
   "outputs": [],
   "source": [
    "chrom_uniques = list(df_recount3.Chrom.unique())  # we get the list of unique chromosome names\n",
    "df_chrom = {}"
   ],
   "metadata": {
    "collapsed": false
   }
  },
  {
   "cell_type": "code",
   "execution_count": null,
   "outputs": [],
   "source": [
    "# Splitting the dataframe chromosome groups separately into key(chromosome)-value(rows) in a dictionary\n",
    "for chrom in tqdm(chrom_uniques):\n",
    "    df_chrom[chrom] = df_recount3[df_recount3.Chrom == chrom]\n",
    "\n",
    "df_chrom"
   ],
   "metadata": {
    "collapsed": false
   }
  },
  {
   "cell_type": "code",
   "execution_count": null,
   "outputs": [],
   "source": [
    "def match_recount(row):\n",
    "    try:\n",
    "        score = df_chrom[row.chr].loc[(row.strand, row.start, row.end), [\"Features\", \"Score\"]].values\n",
    "    except:\n",
    "        score = [None, -1]\n",
    "    # print(score)\n",
    "    return score"
   ],
   "metadata": {
    "collapsed": false
   }
  },
  {
   "cell_type": "code",
   "execution_count": null,
   "outputs": [],
   "source": [
    "pandarallel.initialize(progress_bar=False, nb_workers=12)"
   ],
   "metadata": {
    "collapsed": false
   }
  },
  {
   "cell_type": "code",
   "execution_count": null,
   "outputs": [],
   "source": [
    "# %%time\n",
    "# df_test = df_merged.copy().head(10)\n",
    "# df_test[\"RC3\"] = df_test.apply(match_recount, axis=1)\n",
    "# df_test"
   ],
   "metadata": {
    "collapsed": false
   }
  },
  {
   "cell_type": "code",
   "execution_count": null,
   "outputs": [],
   "source": [
    "%%time\n",
    "df_merged[\"RC3\"] = df_merged.parallel_apply(match_recount, axis=1)"
   ],
   "metadata": {
    "collapsed": false
   }
  },
  {
   "cell_type": "code",
   "execution_count": null,
   "outputs": [],
   "source": [
    "df_merged"
   ],
   "metadata": {
    "collapsed": false
   }
  },
  {
   "cell_type": "code",
   "execution_count": 3,
   "outputs": [
    {
     "data": {
      "text/plain": "         chr      start        end strand  class  \\\n0       chr1      12227      12612      +      1   \n1       chr1      12721      13220      +      1   \n2       chr1      12057      12178      +      1   \n3       chr1      12697      12974      +      1   \n4       chr1      13052      13220      +      1   \n...      ...        ...        ...    ...    ...   \n517420  chrX  151403680  151404937      +      0   \n517421  chrX  151409211  151456968      +      0   \n517422  chrX  153906578  153906694      -      0   \n517423  chrX  153906410  153906520      -      0   \n517424  chrY   20579692   20582591      +      0   \n\n                                                      RC3  \n0       ['GTExv2=1122:3199;TCGAv2=583:1460;SRAv3h=9374...  \n1       ['GTExv2=1791:3198;TCGAv2=783:1104;SRAv3h=1404...  \n2                                              [None, -1]  \n3         ['GTExv2=1:1;TCGAv2=1:1;SRAv3h=15:19;GT:AG' 21]  \n4       ['GTExv2=22:24;TCGAv2=17:18;SRAv3h=433:484;GC:...  \n...                                                   ...  \n517420                                         [None, -1]  \n517421                                         [None, -1]  \n517422                                         [None, -1]  \n517423                                         [None, -1]  \n517424                                         [None, -1]  \n\n[517425 rows x 6 columns]",
      "text/html": "<div>\n<style scoped>\n    .dataframe tbody tr th:only-of-type {\n        vertical-align: middle;\n    }\n\n    .dataframe tbody tr th {\n        vertical-align: top;\n    }\n\n    .dataframe thead th {\n        text-align: right;\n    }\n</style>\n<table border=\"1\" class=\"dataframe\">\n  <thead>\n    <tr style=\"text-align: right;\">\n      <th></th>\n      <th>chr</th>\n      <th>start</th>\n      <th>end</th>\n      <th>strand</th>\n      <th>class</th>\n      <th>RC3</th>\n    </tr>\n  </thead>\n  <tbody>\n    <tr>\n      <th>0</th>\n      <td>chr1</td>\n      <td>12227</td>\n      <td>12612</td>\n      <td>+</td>\n      <td>1</td>\n      <td>['GTExv2=1122:3199;TCGAv2=583:1460;SRAv3h=9374...</td>\n    </tr>\n    <tr>\n      <th>1</th>\n      <td>chr1</td>\n      <td>12721</td>\n      <td>13220</td>\n      <td>+</td>\n      <td>1</td>\n      <td>['GTExv2=1791:3198;TCGAv2=783:1104;SRAv3h=1404...</td>\n    </tr>\n    <tr>\n      <th>2</th>\n      <td>chr1</td>\n      <td>12057</td>\n      <td>12178</td>\n      <td>+</td>\n      <td>1</td>\n      <td>[None, -1]</td>\n    </tr>\n    <tr>\n      <th>3</th>\n      <td>chr1</td>\n      <td>12697</td>\n      <td>12974</td>\n      <td>+</td>\n      <td>1</td>\n      <td>['GTExv2=1:1;TCGAv2=1:1;SRAv3h=15:19;GT:AG' 21]</td>\n    </tr>\n    <tr>\n      <th>4</th>\n      <td>chr1</td>\n      <td>13052</td>\n      <td>13220</td>\n      <td>+</td>\n      <td>1</td>\n      <td>['GTExv2=22:24;TCGAv2=17:18;SRAv3h=433:484;GC:...</td>\n    </tr>\n    <tr>\n      <th>...</th>\n      <td>...</td>\n      <td>...</td>\n      <td>...</td>\n      <td>...</td>\n      <td>...</td>\n      <td>...</td>\n    </tr>\n    <tr>\n      <th>517420</th>\n      <td>chrX</td>\n      <td>151403680</td>\n      <td>151404937</td>\n      <td>+</td>\n      <td>0</td>\n      <td>[None, -1]</td>\n    </tr>\n    <tr>\n      <th>517421</th>\n      <td>chrX</td>\n      <td>151409211</td>\n      <td>151456968</td>\n      <td>+</td>\n      <td>0</td>\n      <td>[None, -1]</td>\n    </tr>\n    <tr>\n      <th>517422</th>\n      <td>chrX</td>\n      <td>153906578</td>\n      <td>153906694</td>\n      <td>-</td>\n      <td>0</td>\n      <td>[None, -1]</td>\n    </tr>\n    <tr>\n      <th>517423</th>\n      <td>chrX</td>\n      <td>153906410</td>\n      <td>153906520</td>\n      <td>-</td>\n      <td>0</td>\n      <td>[None, -1]</td>\n    </tr>\n    <tr>\n      <th>517424</th>\n      <td>chrY</td>\n      <td>20579692</td>\n      <td>20582591</td>\n      <td>+</td>\n      <td>0</td>\n      <td>[None, -1]</td>\n    </tr>\n  </tbody>\n</table>\n<p>517425 rows × 6 columns</p>\n</div>"
     },
     "execution_count": 3,
     "metadata": {},
     "output_type": "execute_result"
    }
   ],
   "source": [
    "# Optional backup:\n",
    "# df_merged.to_csv(\"modded_recount3_inc\", sep=\"\\t\", index=False)\n",
    "df_merged = pd.read_csv(\"data/3-temp-output.tsv\", sep=\"\\t\")\n",
    "df_merged"
   ],
   "metadata": {
    "collapsed": false
   }
  },
  {
   "cell_type": "markdown",
   "source": [
    "# Adding repeat features to the merged train set\n"
   ],
   "metadata": {
    "collapsed": false
   }
  },
  {
   "cell_type": "code",
   "execution_count": 4,
   "outputs": [],
   "source": [
    "def match_repeat_features(row):\n",
    "    matched_rows = !tabix ftp-data/repeat_features.bed.gz {row.chr}:{row.start}-{row.end} | cut -f4 | sort -u\n",
    "    return list(matched_rows)"
   ],
   "metadata": {
    "collapsed": false
   }
  },
  {
   "cell_type": "code",
   "execution_count": 5,
   "outputs": [
    {
     "name": "stdout",
     "output_type": "stream",
     "text": [
      "INFO: Pandarallel will run on 12 workers.\n",
      "INFO: Pandarallel will use Memory file system to transfer data between the main process and workers.\n"
     ]
    }
   ],
   "source": [
    "pandarallel.initialize(progress_bar=False)"
   ],
   "metadata": {
    "collapsed": false
   }
  },
  {
   "cell_type": "code",
   "execution_count": 6,
   "outputs": [],
   "source": [
    "# %%time\n",
    "# # Test cell\n",
    "# df_draft = df_merged.copy().head(100)\n",
    "# df_draft[\"Repeat_overlap\"] = df_draft.parallel_apply(match_repeat_features, axis=1)\n",
    "# df_draft"
   ],
   "metadata": {
    "collapsed": false
   }
  },
  {
   "cell_type": "code",
   "execution_count": 7,
   "outputs": [
    {
     "name": "stdout",
     "output_type": "stream",
     "text": [
      "CPU times: user 491 ms, sys: 81.6 ms, total: 572 ms\n",
      "Wall time: 5min 43s\n"
     ]
    },
    {
     "data": {
      "text/plain": "         chr      start        end strand  class  \\\n0       chr1      12227      12612      +      1   \n1       chr1      12721      13220      +      1   \n2       chr1      12057      12178      +      1   \n3       chr1      12697      12974      +      1   \n4       chr1      13052      13220      +      1   \n...      ...        ...        ...    ...    ...   \n517420  chrX  151403680  151404937      +      0   \n517421  chrX  151409211  151456968      +      0   \n517422  chrX  153906578  153906694      -      0   \n517423  chrX  153906410  153906520      -      0   \n517424  chrY   20579692   20582591      +      0   \n\n                                                      RC3  \\\n0       ['GTExv2=1122:3199;TCGAv2=583:1460;SRAv3h=9374...   \n1       ['GTExv2=1791:3198;TCGAv2=783:1104;SRAv3h=1404...   \n2                                              [None, -1]   \n3         ['GTExv2=1:1;TCGAv2=1:1;SRAv3h=15:19;GT:AG' 21]   \n4       ['GTExv2=22:24;TCGAv2=17:18;SRAv3h=433:484;GC:...   \n...                                                   ...   \n517420                                         [None, -1]   \n517421                                         [None, -1]   \n517422                                         [None, -1]   \n517423                                         [None, -1]   \n517424                                         [None, -1]   \n\n                                          repeat_features  \n0                                                      []  \n1                                                      []  \n2                                                      []  \n3                                                      []  \n4                                                      []  \n...                                                   ...  \n517420    [Dust, Tandem repeats, Type I Transposons/SINE]  \n517421  [Dust, Low complexity regions, LTRs, Simple re...  \n517422                                                 []  \n517423                                                 []  \n517424  [Dust, Simple repeats, Tandem repeats, Type I ...  \n\n[517425 rows x 7 columns]",
      "text/html": "<div>\n<style scoped>\n    .dataframe tbody tr th:only-of-type {\n        vertical-align: middle;\n    }\n\n    .dataframe tbody tr th {\n        vertical-align: top;\n    }\n\n    .dataframe thead th {\n        text-align: right;\n    }\n</style>\n<table border=\"1\" class=\"dataframe\">\n  <thead>\n    <tr style=\"text-align: right;\">\n      <th></th>\n      <th>chr</th>\n      <th>start</th>\n      <th>end</th>\n      <th>strand</th>\n      <th>class</th>\n      <th>RC3</th>\n      <th>repeat_features</th>\n    </tr>\n  </thead>\n  <tbody>\n    <tr>\n      <th>0</th>\n      <td>chr1</td>\n      <td>12227</td>\n      <td>12612</td>\n      <td>+</td>\n      <td>1</td>\n      <td>['GTExv2=1122:3199;TCGAv2=583:1460;SRAv3h=9374...</td>\n      <td>[]</td>\n    </tr>\n    <tr>\n      <th>1</th>\n      <td>chr1</td>\n      <td>12721</td>\n      <td>13220</td>\n      <td>+</td>\n      <td>1</td>\n      <td>['GTExv2=1791:3198;TCGAv2=783:1104;SRAv3h=1404...</td>\n      <td>[]</td>\n    </tr>\n    <tr>\n      <th>2</th>\n      <td>chr1</td>\n      <td>12057</td>\n      <td>12178</td>\n      <td>+</td>\n      <td>1</td>\n      <td>[None, -1]</td>\n      <td>[]</td>\n    </tr>\n    <tr>\n      <th>3</th>\n      <td>chr1</td>\n      <td>12697</td>\n      <td>12974</td>\n      <td>+</td>\n      <td>1</td>\n      <td>['GTExv2=1:1;TCGAv2=1:1;SRAv3h=15:19;GT:AG' 21]</td>\n      <td>[]</td>\n    </tr>\n    <tr>\n      <th>4</th>\n      <td>chr1</td>\n      <td>13052</td>\n      <td>13220</td>\n      <td>+</td>\n      <td>1</td>\n      <td>['GTExv2=22:24;TCGAv2=17:18;SRAv3h=433:484;GC:...</td>\n      <td>[]</td>\n    </tr>\n    <tr>\n      <th>...</th>\n      <td>...</td>\n      <td>...</td>\n      <td>...</td>\n      <td>...</td>\n      <td>...</td>\n      <td>...</td>\n      <td>...</td>\n    </tr>\n    <tr>\n      <th>517420</th>\n      <td>chrX</td>\n      <td>151403680</td>\n      <td>151404937</td>\n      <td>+</td>\n      <td>0</td>\n      <td>[None, -1]</td>\n      <td>[Dust, Tandem repeats, Type I Transposons/SINE]</td>\n    </tr>\n    <tr>\n      <th>517421</th>\n      <td>chrX</td>\n      <td>151409211</td>\n      <td>151456968</td>\n      <td>+</td>\n      <td>0</td>\n      <td>[None, -1]</td>\n      <td>[Dust, Low complexity regions, LTRs, Simple re...</td>\n    </tr>\n    <tr>\n      <th>517422</th>\n      <td>chrX</td>\n      <td>153906578</td>\n      <td>153906694</td>\n      <td>-</td>\n      <td>0</td>\n      <td>[None, -1]</td>\n      <td>[]</td>\n    </tr>\n    <tr>\n      <th>517423</th>\n      <td>chrX</td>\n      <td>153906410</td>\n      <td>153906520</td>\n      <td>-</td>\n      <td>0</td>\n      <td>[None, -1]</td>\n      <td>[]</td>\n    </tr>\n    <tr>\n      <th>517424</th>\n      <td>chrY</td>\n      <td>20579692</td>\n      <td>20582591</td>\n      <td>+</td>\n      <td>0</td>\n      <td>[None, -1]</td>\n      <td>[Dust, Simple repeats, Tandem repeats, Type I ...</td>\n    </tr>\n  </tbody>\n</table>\n<p>517425 rows × 7 columns</p>\n</div>"
     },
     "execution_count": 7,
     "metadata": {},
     "output_type": "execute_result"
    }
   ],
   "source": [
    "%%time\n",
    "df_merged[\"repeat_features\"] = df_merged.parallel_apply(match_repeat_features, axis=1)\n",
    "df_merged"
   ],
   "metadata": {
    "collapsed": false
   }
  },
  {
   "cell_type": "code",
   "execution_count": 8,
   "outputs": [],
   "source": [
    "df_merged.to_csv(\"data/3-final-output.tsv\", sep=\"\\t\", index=False)"
   ],
   "metadata": {
    "collapsed": false
   }
  },
  {
   "cell_type": "code",
   "execution_count": null,
   "outputs": [],
   "source": [],
   "metadata": {
    "collapsed": false
   }
  }
 ],
 "metadata": {
  "kernelspec": {
   "display_name": "Python 3",
   "language": "python",
   "name": "python3"
  },
  "language_info": {
   "codemirror_mode": {
    "name": "ipython",
    "version": 2
   },
   "file_extension": ".py",
   "mimetype": "text/x-python",
   "name": "python",
   "nbconvert_exporter": "python",
   "pygments_lexer": "ipython2",
   "version": "2.7.6"
  }
 },
 "nbformat": 4,
 "nbformat_minor": 0
}
