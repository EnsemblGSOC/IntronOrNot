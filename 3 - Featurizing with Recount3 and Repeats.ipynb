{
 "cells": [
  {
   "cell_type": "code",
   "execution_count": 1,
   "metadata": {
    "collapsed": true,
    "is_executing": true
   },
   "outputs": [],
   "source": [
    "import pandas as pd\n",
    "from tqdm import tqdm\n",
    "from pandarallel import pandarallel"
   ]
  },
  {
   "cell_type": "code",
   "execution_count": 2,
   "outputs": [
    {
     "data": {
      "text/plain": "         chr     start       end strand  class\n0       chr1     12227     12612      +      1\n1       chr1     12721     13220      +      1\n2       chr1     12057     12178      +      1\n3       chr1     12697     12974      +      1\n4       chr1     13052     13220      +      1\n...      ...       ...       ...    ...    ...\n499138  chrY  24883840  24886132      +      0\n499139  chrY  24888605  24889352      +      0\n499140  chrY  24889386  24901111      +      0\n499141  chrY  24833970  24840730      +      0\n499142  chrY  24871607  24895696      +      0\n\n[499143 rows x 5 columns]",
      "text/html": "<div>\n<style scoped>\n    .dataframe tbody tr th:only-of-type {\n        vertical-align: middle;\n    }\n\n    .dataframe tbody tr th {\n        vertical-align: top;\n    }\n\n    .dataframe thead th {\n        text-align: right;\n    }\n</style>\n<table border=\"1\" class=\"dataframe\">\n  <thead>\n    <tr style=\"text-align: right;\">\n      <th></th>\n      <th>chr</th>\n      <th>start</th>\n      <th>end</th>\n      <th>strand</th>\n      <th>class</th>\n    </tr>\n  </thead>\n  <tbody>\n    <tr>\n      <th>0</th>\n      <td>chr1</td>\n      <td>12227</td>\n      <td>12612</td>\n      <td>+</td>\n      <td>1</td>\n    </tr>\n    <tr>\n      <th>1</th>\n      <td>chr1</td>\n      <td>12721</td>\n      <td>13220</td>\n      <td>+</td>\n      <td>1</td>\n    </tr>\n    <tr>\n      <th>2</th>\n      <td>chr1</td>\n      <td>12057</td>\n      <td>12178</td>\n      <td>+</td>\n      <td>1</td>\n    </tr>\n    <tr>\n      <th>3</th>\n      <td>chr1</td>\n      <td>12697</td>\n      <td>12974</td>\n      <td>+</td>\n      <td>1</td>\n    </tr>\n    <tr>\n      <th>4</th>\n      <td>chr1</td>\n      <td>13052</td>\n      <td>13220</td>\n      <td>+</td>\n      <td>1</td>\n    </tr>\n    <tr>\n      <th>...</th>\n      <td>...</td>\n      <td>...</td>\n      <td>...</td>\n      <td>...</td>\n      <td>...</td>\n    </tr>\n    <tr>\n      <th>499138</th>\n      <td>chrY</td>\n      <td>24883840</td>\n      <td>24886132</td>\n      <td>+</td>\n      <td>0</td>\n    </tr>\n    <tr>\n      <th>499139</th>\n      <td>chrY</td>\n      <td>24888605</td>\n      <td>24889352</td>\n      <td>+</td>\n      <td>0</td>\n    </tr>\n    <tr>\n      <th>499140</th>\n      <td>chrY</td>\n      <td>24889386</td>\n      <td>24901111</td>\n      <td>+</td>\n      <td>0</td>\n    </tr>\n    <tr>\n      <th>499141</th>\n      <td>chrY</td>\n      <td>24833970</td>\n      <td>24840730</td>\n      <td>+</td>\n      <td>0</td>\n    </tr>\n    <tr>\n      <th>499142</th>\n      <td>chrY</td>\n      <td>24871607</td>\n      <td>24895696</td>\n      <td>+</td>\n      <td>0</td>\n    </tr>\n  </tbody>\n</table>\n<p>499143 rows × 5 columns</p>\n</div>"
     },
     "execution_count": 2,
     "metadata": {},
     "output_type": "execute_result"
    }
   ],
   "source": [
    "df_merged = pd.read_csv(\"data/2.2-chr_renamed_train_set.tsv\", sep=\"\\t\")\n",
    "df_merged #402857"
   ],
   "metadata": {
    "collapsed": false
   }
  },
  {
   "cell_type": "code",
   "execution_count": 3,
   "outputs": [
    {
     "data": {
      "text/plain": "                                              Chrom  \\\nStrand Start     End                                  \n+      12        16498                         chrM   \n       15        355               chrUn_KI270303v1   \n       17        65645      chr22_KI270736v1_random   \n       20        608               chrUn_GL000224v1   \n                 801               chrUn_KI270539v1   \n...                                             ...   \n-      248937793 248937887                     chr1   \n       248937886 248938073                     chr1   \n       248937979 248938073                     chr1   \n       248942862 248945072                     chr1   \n       248945343 248945425                     chr1   \n\n                                                             Features  Score  \nStrand Start     End                                                          \n+      12        16498       GTExv2=15:69;TCGAv2=0:0;SRAv3h=3:7;AT:AC     76  \n       15        355         GTExv2=0:0;TCGAv2=0:0;SRAv3h=33:36;GT:AG     36  \n       17        65645        GTExv2=0:0;TCGAv2=0:0;SRAv3h=7:36;GT:AG     36  \n       20        608         GTExv2=0:0;TCGAv2=1:1;SRAv3h=27:65;GT:AG     66  \n                 801         GTExv2=0:0;TCGAv2=0:0;SRAv3h=33:35;GT:AG     35  \n...                                                               ...    ...  \n-      248937793 248937887   GTExv2=3:3;TCGAv2=1:2;SRAv3h=15:16;GT:AG     21  \n       248937886 248938073   GTExv2=2:2;TCGAv2=1:2;SRAv3h=26:27;GT:AG     31  \n       248937979 248938073   GTExv2=4:4;TCGAv2=1:2;SRAv3h=19:20;GT:AG     26  \n       248942862 248945072   GTExv2=2:2;TCGAv2=1:1;SRAv3h=11:29;GT:AG     32  \n       248945343 248945425  GTExv2=2:2;TCGAv2=7:12;SRAv3h=22:41;GT:AG     55  \n\n[16350181 rows x 3 columns]",
      "text/html": "<div>\n<style scoped>\n    .dataframe tbody tr th:only-of-type {\n        vertical-align: middle;\n    }\n\n    .dataframe tbody tr th {\n        vertical-align: top;\n    }\n\n    .dataframe thead th {\n        text-align: right;\n    }\n</style>\n<table border=\"1\" class=\"dataframe\">\n  <thead>\n    <tr style=\"text-align: right;\">\n      <th></th>\n      <th></th>\n      <th></th>\n      <th>Chrom</th>\n      <th>Features</th>\n      <th>Score</th>\n    </tr>\n    <tr>\n      <th>Strand</th>\n      <th>Start</th>\n      <th>End</th>\n      <th></th>\n      <th></th>\n      <th></th>\n    </tr>\n  </thead>\n  <tbody>\n    <tr>\n      <th rowspan=\"5\" valign=\"top\">+</th>\n      <th>12</th>\n      <th>16498</th>\n      <td>chrM</td>\n      <td>GTExv2=15:69;TCGAv2=0:0;SRAv3h=3:7;AT:AC</td>\n      <td>76</td>\n    </tr>\n    <tr>\n      <th>15</th>\n      <th>355</th>\n      <td>chrUn_KI270303v1</td>\n      <td>GTExv2=0:0;TCGAv2=0:0;SRAv3h=33:36;GT:AG</td>\n      <td>36</td>\n    </tr>\n    <tr>\n      <th>17</th>\n      <th>65645</th>\n      <td>chr22_KI270736v1_random</td>\n      <td>GTExv2=0:0;TCGAv2=0:0;SRAv3h=7:36;GT:AG</td>\n      <td>36</td>\n    </tr>\n    <tr>\n      <th rowspan=\"2\" valign=\"top\">20</th>\n      <th>608</th>\n      <td>chrUn_GL000224v1</td>\n      <td>GTExv2=0:0;TCGAv2=1:1;SRAv3h=27:65;GT:AG</td>\n      <td>66</td>\n    </tr>\n    <tr>\n      <th>801</th>\n      <td>chrUn_KI270539v1</td>\n      <td>GTExv2=0:0;TCGAv2=0:0;SRAv3h=33:35;GT:AG</td>\n      <td>35</td>\n    </tr>\n    <tr>\n      <th>...</th>\n      <th>...</th>\n      <th>...</th>\n      <td>...</td>\n      <td>...</td>\n      <td>...</td>\n    </tr>\n    <tr>\n      <th rowspan=\"5\" valign=\"top\">-</th>\n      <th>248937793</th>\n      <th>248937887</th>\n      <td>chr1</td>\n      <td>GTExv2=3:3;TCGAv2=1:2;SRAv3h=15:16;GT:AG</td>\n      <td>21</td>\n    </tr>\n    <tr>\n      <th>248937886</th>\n      <th>248938073</th>\n      <td>chr1</td>\n      <td>GTExv2=2:2;TCGAv2=1:2;SRAv3h=26:27;GT:AG</td>\n      <td>31</td>\n    </tr>\n    <tr>\n      <th>248937979</th>\n      <th>248938073</th>\n      <td>chr1</td>\n      <td>GTExv2=4:4;TCGAv2=1:2;SRAv3h=19:20;GT:AG</td>\n      <td>26</td>\n    </tr>\n    <tr>\n      <th>248942862</th>\n      <th>248945072</th>\n      <td>chr1</td>\n      <td>GTExv2=2:2;TCGAv2=1:1;SRAv3h=11:29;GT:AG</td>\n      <td>32</td>\n    </tr>\n    <tr>\n      <th>248945343</th>\n      <th>248945425</th>\n      <td>chr1</td>\n      <td>GTExv2=2:2;TCGAv2=7:12;SRAv3h=22:41;GT:AG</td>\n      <td>55</td>\n    </tr>\n  </tbody>\n</table>\n<p>16350181 rows × 3 columns</p>\n</div>"
     },
     "execution_count": 3,
     "metadata": {},
     "output_type": "execute_result"
    }
   ],
   "source": [
    "df_recount3 = pd.read_csv(\"ftp-data/recount3.bed\", sep=\"\\t\",\n",
    "                          names=[\"Chrom\", \"Start\", \"End\", \"Features\", \"Score\", \"Strand\"])\n",
    "\n",
    "df_recount3.set_index([\"Strand\", \"Start\", \"End\"], inplace=True)\n",
    "df_recount3.sort_index(inplace=True)\n",
    "df_recount3"
   ],
   "metadata": {
    "collapsed": false
   }
  },
  {
   "cell_type": "code",
   "execution_count": 4,
   "outputs": [],
   "source": [
    "# chrom_uniques = list(df_recount3.Chrom.unique())  # we get the list of unique chromosome names\n",
    "ordinary_chr_list = [\"chr\"+str(x) for x in range(1,23)] + [\"chrX\"] + [\"chrY\"] + [\"chrM\"]\n",
    "df_chrom = {}"
   ],
   "metadata": {
    "collapsed": false
   }
  },
  {
   "cell_type": "code",
   "execution_count": 5,
   "outputs": [
    {
     "data": {
      "text/plain": "['chr1',\n 'chr2',\n 'chr3',\n 'chr4',\n 'chr5',\n 'chr6',\n 'chr7',\n 'chr8',\n 'chr9',\n 'chr10',\n 'chr11',\n 'chr12',\n 'chr13',\n 'chr14',\n 'chr15',\n 'chr16',\n 'chr17',\n 'chr18',\n 'chr19',\n 'chr20',\n 'chr21',\n 'chr22',\n 'chrX',\n 'chrY',\n 'chrM']"
     },
     "execution_count": 5,
     "metadata": {},
     "output_type": "execute_result"
    }
   ],
   "source": [
    "ordinary_chr_list"
   ],
   "metadata": {
    "collapsed": false
   }
  },
  {
   "cell_type": "code",
   "execution_count": 6,
   "outputs": [
    {
     "name": "stderr",
     "output_type": "stream",
     "text": [
      "100%|██████████| 25/25 [00:13<00:00,  1.79it/s]\n"
     ]
    }
   ],
   "source": [
    "# Splitting the dataframe chromosome groups separately into key(chromosome)-value(rows) in a dictionary\n",
    "for chrom in tqdm(ordinary_chr_list):#chrom_uniques):\n",
    "    df_chrom[chrom] = df_recount3[df_recount3.Chrom == chrom]\n"
   ],
   "metadata": {
    "collapsed": false
   }
  },
  {
   "cell_type": "code",
   "execution_count": 7,
   "outputs": [],
   "source": [
    "def match_recount(row):\n",
    "    try:\n",
    "        score = df_chrom[row.chr].loc[(row.strand, row.start, row.end), [\"Features\", \"Score\"]].values\n",
    "    except:\n",
    "        score = [None, -1]\n",
    "    return score"
   ],
   "metadata": {
    "collapsed": false
   }
  },
  {
   "cell_type": "code",
   "execution_count": 8,
   "outputs": [
    {
     "name": "stdout",
     "output_type": "stream",
     "text": [
      "INFO: Pandarallel will run on 12 workers.\n",
      "INFO: Pandarallel will use Memory file system to transfer data between the main process and workers.\n"
     ]
    }
   ],
   "source": [
    "pandarallel.initialize(nb_workers=12)"
   ],
   "metadata": {
    "collapsed": false
   }
  },
  {
   "cell_type": "code",
   "execution_count": 9,
   "outputs": [],
   "source": [
    "# %%time\n",
    "# df_test = df_merged.copy().head(10)\n",
    "# df_test[\"RC3\"] = df_test.apply(match_recount, axis=1)\n",
    "# df_test"
   ],
   "metadata": {
    "collapsed": false
   }
  },
  {
   "cell_type": "code",
   "execution_count": 10,
   "outputs": [
    {
     "name": "stdout",
     "output_type": "stream",
     "text": [
      "CPU times: user 1.27 s, sys: 251 ms, total: 1.52 s\n",
      "Wall time: 53min 19s\n"
     ]
    }
   ],
   "source": [
    "%%time\n",
    "df_merged[\"RC3\"] = df_merged.parallel_apply(match_recount, axis=1)"
   ],
   "metadata": {
    "collapsed": false
   }
  },
  {
   "cell_type": "code",
   "execution_count": 11,
   "outputs": [
    {
     "data": {
      "text/plain": "         chr     start       end strand  class  \\\n0       chr1     12227     12612      +      1   \n1       chr1     12721     13220      +      1   \n2       chr1     12057     12178      +      1   \n3       chr1     12697     12974      +      1   \n4       chr1     13052     13220      +      1   \n...      ...       ...       ...    ...    ...   \n499138  chrY  24883840  24886132      +      0   \n499139  chrY  24888605  24889352      +      0   \n499140  chrY  24889386  24901111      +      0   \n499141  chrY  24833970  24840730      +      0   \n499142  chrY  24871607  24895696      +      0   \n\n                                                      RC3  \n0       [GTExv2=1122:3199;TCGAv2=583:1460;SRAv3h=9374:...  \n1       [GTExv2=1791:3198;TCGAv2=783:1104;SRAv3h=14048...  \n2                                              [None, -1]  \n3          [GTExv2=1:1;TCGAv2=1:1;SRAv3h=15:19;GT:AG, 21]  \n4       [GTExv2=22:24;TCGAv2=17:18;SRAv3h=433:484;GC:A...  \n...                                                   ...  \n499138                                         [None, -1]  \n499139                                         [None, -1]  \n499140                                         [None, -1]  \n499141                                         [None, -1]  \n499142                                         [None, -1]  \n\n[499143 rows x 6 columns]",
      "text/html": "<div>\n<style scoped>\n    .dataframe tbody tr th:only-of-type {\n        vertical-align: middle;\n    }\n\n    .dataframe tbody tr th {\n        vertical-align: top;\n    }\n\n    .dataframe thead th {\n        text-align: right;\n    }\n</style>\n<table border=\"1\" class=\"dataframe\">\n  <thead>\n    <tr style=\"text-align: right;\">\n      <th></th>\n      <th>chr</th>\n      <th>start</th>\n      <th>end</th>\n      <th>strand</th>\n      <th>class</th>\n      <th>RC3</th>\n    </tr>\n  </thead>\n  <tbody>\n    <tr>\n      <th>0</th>\n      <td>chr1</td>\n      <td>12227</td>\n      <td>12612</td>\n      <td>+</td>\n      <td>1</td>\n      <td>[GTExv2=1122:3199;TCGAv2=583:1460;SRAv3h=9374:...</td>\n    </tr>\n    <tr>\n      <th>1</th>\n      <td>chr1</td>\n      <td>12721</td>\n      <td>13220</td>\n      <td>+</td>\n      <td>1</td>\n      <td>[GTExv2=1791:3198;TCGAv2=783:1104;SRAv3h=14048...</td>\n    </tr>\n    <tr>\n      <th>2</th>\n      <td>chr1</td>\n      <td>12057</td>\n      <td>12178</td>\n      <td>+</td>\n      <td>1</td>\n      <td>[None, -1]</td>\n    </tr>\n    <tr>\n      <th>3</th>\n      <td>chr1</td>\n      <td>12697</td>\n      <td>12974</td>\n      <td>+</td>\n      <td>1</td>\n      <td>[GTExv2=1:1;TCGAv2=1:1;SRAv3h=15:19;GT:AG, 21]</td>\n    </tr>\n    <tr>\n      <th>4</th>\n      <td>chr1</td>\n      <td>13052</td>\n      <td>13220</td>\n      <td>+</td>\n      <td>1</td>\n      <td>[GTExv2=22:24;TCGAv2=17:18;SRAv3h=433:484;GC:A...</td>\n    </tr>\n    <tr>\n      <th>...</th>\n      <td>...</td>\n      <td>...</td>\n      <td>...</td>\n      <td>...</td>\n      <td>...</td>\n      <td>...</td>\n    </tr>\n    <tr>\n      <th>499138</th>\n      <td>chrY</td>\n      <td>24883840</td>\n      <td>24886132</td>\n      <td>+</td>\n      <td>0</td>\n      <td>[None, -1]</td>\n    </tr>\n    <tr>\n      <th>499139</th>\n      <td>chrY</td>\n      <td>24888605</td>\n      <td>24889352</td>\n      <td>+</td>\n      <td>0</td>\n      <td>[None, -1]</td>\n    </tr>\n    <tr>\n      <th>499140</th>\n      <td>chrY</td>\n      <td>24889386</td>\n      <td>24901111</td>\n      <td>+</td>\n      <td>0</td>\n      <td>[None, -1]</td>\n    </tr>\n    <tr>\n      <th>499141</th>\n      <td>chrY</td>\n      <td>24833970</td>\n      <td>24840730</td>\n      <td>+</td>\n      <td>0</td>\n      <td>[None, -1]</td>\n    </tr>\n    <tr>\n      <th>499142</th>\n      <td>chrY</td>\n      <td>24871607</td>\n      <td>24895696</td>\n      <td>+</td>\n      <td>0</td>\n      <td>[None, -1]</td>\n    </tr>\n  </tbody>\n</table>\n<p>499143 rows × 6 columns</p>\n</div>"
     },
     "execution_count": 11,
     "metadata": {},
     "output_type": "execute_result"
    }
   ],
   "source": [
    "df_merged"
   ],
   "metadata": {
    "collapsed": false
   }
  },
  {
   "cell_type": "code",
   "execution_count": 12,
   "outputs": [
    {
     "data": {
      "text/plain": "         chr     start       end strand  class  \\\n0       chr1     12227     12612      +      1   \n1       chr1     12721     13220      +      1   \n2       chr1     12057     12178      +      1   \n3       chr1     12697     12974      +      1   \n4       chr1     13052     13220      +      1   \n...      ...       ...       ...    ...    ...   \n499138  chrY  24883840  24886132      +      0   \n499139  chrY  24888605  24889352      +      0   \n499140  chrY  24889386  24901111      +      0   \n499141  chrY  24833970  24840730      +      0   \n499142  chrY  24871607  24895696      +      0   \n\n                                                      RC3  \n0       [GTExv2=1122:3199;TCGAv2=583:1460;SRAv3h=9374:...  \n1       [GTExv2=1791:3198;TCGAv2=783:1104;SRAv3h=14048...  \n2                                              [None, -1]  \n3          [GTExv2=1:1;TCGAv2=1:1;SRAv3h=15:19;GT:AG, 21]  \n4       [GTExv2=22:24;TCGAv2=17:18;SRAv3h=433:484;GC:A...  \n...                                                   ...  \n499138                                         [None, -1]  \n499139                                         [None, -1]  \n499140                                         [None, -1]  \n499141                                         [None, -1]  \n499142                                         [None, -1]  \n\n[499143 rows x 6 columns]",
      "text/html": "<div>\n<style scoped>\n    .dataframe tbody tr th:only-of-type {\n        vertical-align: middle;\n    }\n\n    .dataframe tbody tr th {\n        vertical-align: top;\n    }\n\n    .dataframe thead th {\n        text-align: right;\n    }\n</style>\n<table border=\"1\" class=\"dataframe\">\n  <thead>\n    <tr style=\"text-align: right;\">\n      <th></th>\n      <th>chr</th>\n      <th>start</th>\n      <th>end</th>\n      <th>strand</th>\n      <th>class</th>\n      <th>RC3</th>\n    </tr>\n  </thead>\n  <tbody>\n    <tr>\n      <th>0</th>\n      <td>chr1</td>\n      <td>12227</td>\n      <td>12612</td>\n      <td>+</td>\n      <td>1</td>\n      <td>[GTExv2=1122:3199;TCGAv2=583:1460;SRAv3h=9374:...</td>\n    </tr>\n    <tr>\n      <th>1</th>\n      <td>chr1</td>\n      <td>12721</td>\n      <td>13220</td>\n      <td>+</td>\n      <td>1</td>\n      <td>[GTExv2=1791:3198;TCGAv2=783:1104;SRAv3h=14048...</td>\n    </tr>\n    <tr>\n      <th>2</th>\n      <td>chr1</td>\n      <td>12057</td>\n      <td>12178</td>\n      <td>+</td>\n      <td>1</td>\n      <td>[None, -1]</td>\n    </tr>\n    <tr>\n      <th>3</th>\n      <td>chr1</td>\n      <td>12697</td>\n      <td>12974</td>\n      <td>+</td>\n      <td>1</td>\n      <td>[GTExv2=1:1;TCGAv2=1:1;SRAv3h=15:19;GT:AG, 21]</td>\n    </tr>\n    <tr>\n      <th>4</th>\n      <td>chr1</td>\n      <td>13052</td>\n      <td>13220</td>\n      <td>+</td>\n      <td>1</td>\n      <td>[GTExv2=22:24;TCGAv2=17:18;SRAv3h=433:484;GC:A...</td>\n    </tr>\n    <tr>\n      <th>...</th>\n      <td>...</td>\n      <td>...</td>\n      <td>...</td>\n      <td>...</td>\n      <td>...</td>\n      <td>...</td>\n    </tr>\n    <tr>\n      <th>499138</th>\n      <td>chrY</td>\n      <td>24883840</td>\n      <td>24886132</td>\n      <td>+</td>\n      <td>0</td>\n      <td>[None, -1]</td>\n    </tr>\n    <tr>\n      <th>499139</th>\n      <td>chrY</td>\n      <td>24888605</td>\n      <td>24889352</td>\n      <td>+</td>\n      <td>0</td>\n      <td>[None, -1]</td>\n    </tr>\n    <tr>\n      <th>499140</th>\n      <td>chrY</td>\n      <td>24889386</td>\n      <td>24901111</td>\n      <td>+</td>\n      <td>0</td>\n      <td>[None, -1]</td>\n    </tr>\n    <tr>\n      <th>499141</th>\n      <td>chrY</td>\n      <td>24833970</td>\n      <td>24840730</td>\n      <td>+</td>\n      <td>0</td>\n      <td>[None, -1]</td>\n    </tr>\n    <tr>\n      <th>499142</th>\n      <td>chrY</td>\n      <td>24871607</td>\n      <td>24895696</td>\n      <td>+</td>\n      <td>0</td>\n      <td>[None, -1]</td>\n    </tr>\n  </tbody>\n</table>\n<p>499143 rows × 6 columns</p>\n</div>"
     },
     "execution_count": 12,
     "metadata": {},
     "output_type": "execute_result"
    }
   ],
   "source": [
    "# Optional backup:\n",
    "df_merged.to_csv(\"data/3-temp-output-1.tsv\", sep=\"\\t\", index=False)\n",
    "# df_merged = pd.read_csv(\"data/3-temp-output-1.tsv\", sep=\"\\t\")  # sha512sum ad0f3a08b8c7986d341543e75a19d5335c8b65ddeb4d28dd63016b4f79eabad0fe244b26b8031475cf5e6f212ea0ae9a2f0bdb200b692a77736de84c777a5b10\n",
    "df_merged"
   ],
   "metadata": {
    "collapsed": false
   }
  },
  {
   "cell_type": "markdown",
   "source": [
    "# Adding repeat features to the merged train set\n"
   ],
   "metadata": {
    "collapsed": false
   }
  },
  {
   "cell_type": "code",
   "execution_count": 14,
   "outputs": [],
   "source": [
    "def match_repeat_features_1(row):\n",
    "    \"\"\"\n",
    "    We call the tabix command, which look at the bed file to see if the row (which are entries in the intron that we extracted) overlaps with the repeat\n",
    "    regions detailed in the repeat_features.bed.gz, apart from the splice-site ({row.start+2}), we also look at the small-region that precedes (2 nt in the exon; row.start-2) the splice-site.\n",
    "    \"\"\"\n",
    "    matched_rows = !tabix ftp-data/repeat_features.bed.gz {row.chr}:{row.start-2}-{row.start+2} | cut -f4\n",
    "    return list(set(matched_rows + []))"
   ],
   "metadata": {
    "collapsed": false
   }
  },
  {
   "cell_type": "code",
   "execution_count": 15,
   "outputs": [],
   "source": [
    "def match_repeat_features_2(row):\n",
    "    \"\"\"\n",
    "    We call the tabix command, which look at the bed file to see if the row (which are entries in the intron that we extracted) overlaps with the repeat\n",
    "    regions detailed in the repeat_features.bed.gz, apart from the splice-site ({row.end-2}), we also look at the small-region that proceeds (2 nt in the exon; {row.end+2}) the splice-site.\n",
    "    \"\"\"\n",
    "    matched_rows2 = !tabix ftp-data/repeat_features.bed.gz {row.chr}:{row.end-2}-{row.end+2} | cut -f4\n",
    "        # | cut -f4 | sort -u\n",
    "    return list(set([] + matched_rows2))"
   ],
   "metadata": {
    "collapsed": false
   }
  },
  {
   "cell_type": "code",
   "execution_count": 16,
   "outputs": [
    {
     "name": "stdout",
     "output_type": "stream",
     "text": [
      "INFO: Pandarallel will run on 12 workers.\n",
      "INFO: Pandarallel will use Memory file system to transfer data between the main process and workers.\n"
     ]
    }
   ],
   "source": [
    "pandarallel.initialize(progress_bar=False)"
   ],
   "metadata": {
    "collapsed": false
   }
  },
  {
   "cell_type": "code",
   "execution_count": 17,
   "outputs": [
    {
     "name": "stdout",
     "output_type": "stream",
     "text": [
      "CPU times: user 63.7 ms, sys: 20.9 ms, total: 84.7 ms\n",
      "Wall time: 531 ms\n"
     ]
    },
    {
     "data": {
      "text/plain": "     chr   start     end strand  class  \\\n0   chr1   12227   12612      +      1   \n1   chr1   12721   13220      +      1   \n2   chr1   12057   12178      +      1   \n3   chr1   12697   12974      +      1   \n4   chr1   13052   13220      +      1   \n..   ...     ...     ...    ...    ...   \n95  chr1  498456  501555      -      1   \n96  chr1  501620  502186      -      1   \n97  chr1  502243  502464      -      1   \n98  chr1  497299  498046      -      1   \n99  chr1  499369  501555      -      1   \n\n                                                  RC3  \\\n0   [GTExv2=1122:3199;TCGAv2=583:1460;SRAv3h=9374:...   \n1   [GTExv2=1791:3198;TCGAv2=783:1104;SRAv3h=14048...   \n2                                          [None, -1]   \n3      [GTExv2=1:1;TCGAv2=1:1;SRAv3h=15:19;GT:AG, 21]   \n4   [GTExv2=22:24;TCGAv2=17:18;SRAv3h=433:484;GC:A...   \n..                                                ...   \n95  [GTExv2=12929:52155;TCGAv2=4637:16478;SRAv3h=6...   \n96  [GTExv2=17319:212570;TCGAv2=5829:20238;SRAv3h=...   \n97  [GTExv2=14987:88036;TCGAv2=4894:11018;SRAv3h=6...   \n98  [GTExv2=4516:12484;TCGAv2=800:1497;SRAv3h=2282...   \n99  [GTExv2=11996:64095;TCGAv2=3883:9830;SRAv3h=58...   \n\n               Repeat_overlap  \n0                          []  \n1                          []  \n2                          []  \n3                          []  \n4                          []  \n..                        ...  \n95      [Type II Transposons]  \n96                         []  \n97      [Type II Transposons]  \n98  [Type I Transposons/SINE]  \n99  [Type I Transposons/SINE]  \n\n[100 rows x 7 columns]",
      "text/html": "<div>\n<style scoped>\n    .dataframe tbody tr th:only-of-type {\n        vertical-align: middle;\n    }\n\n    .dataframe tbody tr th {\n        vertical-align: top;\n    }\n\n    .dataframe thead th {\n        text-align: right;\n    }\n</style>\n<table border=\"1\" class=\"dataframe\">\n  <thead>\n    <tr style=\"text-align: right;\">\n      <th></th>\n      <th>chr</th>\n      <th>start</th>\n      <th>end</th>\n      <th>strand</th>\n      <th>class</th>\n      <th>RC3</th>\n      <th>Repeat_overlap</th>\n    </tr>\n  </thead>\n  <tbody>\n    <tr>\n      <th>0</th>\n      <td>chr1</td>\n      <td>12227</td>\n      <td>12612</td>\n      <td>+</td>\n      <td>1</td>\n      <td>[GTExv2=1122:3199;TCGAv2=583:1460;SRAv3h=9374:...</td>\n      <td>[]</td>\n    </tr>\n    <tr>\n      <th>1</th>\n      <td>chr1</td>\n      <td>12721</td>\n      <td>13220</td>\n      <td>+</td>\n      <td>1</td>\n      <td>[GTExv2=1791:3198;TCGAv2=783:1104;SRAv3h=14048...</td>\n      <td>[]</td>\n    </tr>\n    <tr>\n      <th>2</th>\n      <td>chr1</td>\n      <td>12057</td>\n      <td>12178</td>\n      <td>+</td>\n      <td>1</td>\n      <td>[None, -1]</td>\n      <td>[]</td>\n    </tr>\n    <tr>\n      <th>3</th>\n      <td>chr1</td>\n      <td>12697</td>\n      <td>12974</td>\n      <td>+</td>\n      <td>1</td>\n      <td>[GTExv2=1:1;TCGAv2=1:1;SRAv3h=15:19;GT:AG, 21]</td>\n      <td>[]</td>\n    </tr>\n    <tr>\n      <th>4</th>\n      <td>chr1</td>\n      <td>13052</td>\n      <td>13220</td>\n      <td>+</td>\n      <td>1</td>\n      <td>[GTExv2=22:24;TCGAv2=17:18;SRAv3h=433:484;GC:A...</td>\n      <td>[]</td>\n    </tr>\n    <tr>\n      <th>...</th>\n      <td>...</td>\n      <td>...</td>\n      <td>...</td>\n      <td>...</td>\n      <td>...</td>\n      <td>...</td>\n      <td>...</td>\n    </tr>\n    <tr>\n      <th>95</th>\n      <td>chr1</td>\n      <td>498456</td>\n      <td>501555</td>\n      <td>-</td>\n      <td>1</td>\n      <td>[GTExv2=12929:52155;TCGAv2=4637:16478;SRAv3h=6...</td>\n      <td>[Type II Transposons]</td>\n    </tr>\n    <tr>\n      <th>96</th>\n      <td>chr1</td>\n      <td>501620</td>\n      <td>502186</td>\n      <td>-</td>\n      <td>1</td>\n      <td>[GTExv2=17319:212570;TCGAv2=5829:20238;SRAv3h=...</td>\n      <td>[]</td>\n    </tr>\n    <tr>\n      <th>97</th>\n      <td>chr1</td>\n      <td>502243</td>\n      <td>502464</td>\n      <td>-</td>\n      <td>1</td>\n      <td>[GTExv2=14987:88036;TCGAv2=4894:11018;SRAv3h=6...</td>\n      <td>[Type II Transposons]</td>\n    </tr>\n    <tr>\n      <th>98</th>\n      <td>chr1</td>\n      <td>497299</td>\n      <td>498046</td>\n      <td>-</td>\n      <td>1</td>\n      <td>[GTExv2=4516:12484;TCGAv2=800:1497;SRAv3h=2282...</td>\n      <td>[Type I Transposons/SINE]</td>\n    </tr>\n    <tr>\n      <th>99</th>\n      <td>chr1</td>\n      <td>499369</td>\n      <td>501555</td>\n      <td>-</td>\n      <td>1</td>\n      <td>[GTExv2=11996:64095;TCGAv2=3883:9830;SRAv3h=58...</td>\n      <td>[Type I Transposons/SINE]</td>\n    </tr>\n  </tbody>\n</table>\n<p>100 rows × 7 columns</p>\n</div>"
     },
     "execution_count": 17,
     "metadata": {},
     "output_type": "execute_result"
    }
   ],
   "source": [
    "%%time\n",
    "# Test cell\n",
    "df_draft = df_merged.copy().head(100)\n",
    "df_draft[\"Repeat_overlap\"] = df_draft.apply(match_repeat_features_1, axis=1)\n",
    "df_draft"
   ],
   "metadata": {
    "collapsed": false
   }
  },
  {
   "cell_type": "code",
   "execution_count": 18,
   "outputs": [],
   "source": [
    "del df_draft"
   ],
   "metadata": {
    "collapsed": false
   }
  },
  {
   "cell_type": "code",
   "execution_count": 19,
   "outputs": [
    {
     "name": "stdout",
     "output_type": "stream",
     "text": [
      "CPU times: user 2.29 s, sys: 217 ms, total: 2.51 s\n",
      "Wall time: 5min 25s\n"
     ]
    },
    {
     "data": {
      "text/plain": "         chr     start       end strand  class  \\\n0       chr1     12227     12612      +      1   \n1       chr1     12721     13220      +      1   \n2       chr1     12057     12178      +      1   \n3       chr1     12697     12974      +      1   \n4       chr1     13052     13220      +      1   \n...      ...       ...       ...    ...    ...   \n499138  chrY  24883840  24886132      +      0   \n499139  chrY  24888605  24889352      +      0   \n499140  chrY  24889386  24901111      +      0   \n499141  chrY  24833970  24840730      +      0   \n499142  chrY  24871607  24895696      +      0   \n\n                                                      RC3  \\\n0       [GTExv2=1122:3199;TCGAv2=583:1460;SRAv3h=9374:...   \n1       [GTExv2=1791:3198;TCGAv2=783:1104;SRAv3h=14048...   \n2                                              [None, -1]   \n3          [GTExv2=1:1;TCGAv2=1:1;SRAv3h=15:19;GT:AG, 21]   \n4       [GTExv2=22:24;TCGAv2=17:18;SRAv3h=433:484;GC:A...   \n...                                                   ...   \n499138                                         [None, -1]   \n499139                                         [None, -1]   \n499140                                         [None, -1]   \n499141                                         [None, -1]   \n499142                                         [None, -1]   \n\n       repeat_features_start_site  \n0                              []  \n1                              []  \n2                              []  \n3                              []  \n4                              []  \n...                           ...  \n499138                         []  \n499139                         []  \n499140                         []  \n499141                         []  \n499142                         []  \n\n[499143 rows x 7 columns]",
      "text/html": "<div>\n<style scoped>\n    .dataframe tbody tr th:only-of-type {\n        vertical-align: middle;\n    }\n\n    .dataframe tbody tr th {\n        vertical-align: top;\n    }\n\n    .dataframe thead th {\n        text-align: right;\n    }\n</style>\n<table border=\"1\" class=\"dataframe\">\n  <thead>\n    <tr style=\"text-align: right;\">\n      <th></th>\n      <th>chr</th>\n      <th>start</th>\n      <th>end</th>\n      <th>strand</th>\n      <th>class</th>\n      <th>RC3</th>\n      <th>repeat_features_start_site</th>\n    </tr>\n  </thead>\n  <tbody>\n    <tr>\n      <th>0</th>\n      <td>chr1</td>\n      <td>12227</td>\n      <td>12612</td>\n      <td>+</td>\n      <td>1</td>\n      <td>[GTExv2=1122:3199;TCGAv2=583:1460;SRAv3h=9374:...</td>\n      <td>[]</td>\n    </tr>\n    <tr>\n      <th>1</th>\n      <td>chr1</td>\n      <td>12721</td>\n      <td>13220</td>\n      <td>+</td>\n      <td>1</td>\n      <td>[GTExv2=1791:3198;TCGAv2=783:1104;SRAv3h=14048...</td>\n      <td>[]</td>\n    </tr>\n    <tr>\n      <th>2</th>\n      <td>chr1</td>\n      <td>12057</td>\n      <td>12178</td>\n      <td>+</td>\n      <td>1</td>\n      <td>[None, -1]</td>\n      <td>[]</td>\n    </tr>\n    <tr>\n      <th>3</th>\n      <td>chr1</td>\n      <td>12697</td>\n      <td>12974</td>\n      <td>+</td>\n      <td>1</td>\n      <td>[GTExv2=1:1;TCGAv2=1:1;SRAv3h=15:19;GT:AG, 21]</td>\n      <td>[]</td>\n    </tr>\n    <tr>\n      <th>4</th>\n      <td>chr1</td>\n      <td>13052</td>\n      <td>13220</td>\n      <td>+</td>\n      <td>1</td>\n      <td>[GTExv2=22:24;TCGAv2=17:18;SRAv3h=433:484;GC:A...</td>\n      <td>[]</td>\n    </tr>\n    <tr>\n      <th>...</th>\n      <td>...</td>\n      <td>...</td>\n      <td>...</td>\n      <td>...</td>\n      <td>...</td>\n      <td>...</td>\n      <td>...</td>\n    </tr>\n    <tr>\n      <th>499138</th>\n      <td>chrY</td>\n      <td>24883840</td>\n      <td>24886132</td>\n      <td>+</td>\n      <td>0</td>\n      <td>[None, -1]</td>\n      <td>[]</td>\n    </tr>\n    <tr>\n      <th>499139</th>\n      <td>chrY</td>\n      <td>24888605</td>\n      <td>24889352</td>\n      <td>+</td>\n      <td>0</td>\n      <td>[None, -1]</td>\n      <td>[]</td>\n    </tr>\n    <tr>\n      <th>499140</th>\n      <td>chrY</td>\n      <td>24889386</td>\n      <td>24901111</td>\n      <td>+</td>\n      <td>0</td>\n      <td>[None, -1]</td>\n      <td>[]</td>\n    </tr>\n    <tr>\n      <th>499141</th>\n      <td>chrY</td>\n      <td>24833970</td>\n      <td>24840730</td>\n      <td>+</td>\n      <td>0</td>\n      <td>[None, -1]</td>\n      <td>[]</td>\n    </tr>\n    <tr>\n      <th>499142</th>\n      <td>chrY</td>\n      <td>24871607</td>\n      <td>24895696</td>\n      <td>+</td>\n      <td>0</td>\n      <td>[None, -1]</td>\n      <td>[]</td>\n    </tr>\n  </tbody>\n</table>\n<p>499143 rows × 7 columns</p>\n</div>"
     },
     "execution_count": 19,
     "metadata": {},
     "output_type": "execute_result"
    }
   ],
   "source": [
    "%%time\n",
    "df_merged[\"repeat_features_start_site\"] = df_merged.parallel_apply(match_repeat_features_1, axis=1)\n",
    "df_merged"
   ],
   "metadata": {
    "collapsed": false
   }
  },
  {
   "cell_type": "code",
   "execution_count": 20,
   "outputs": [
    {
     "name": "stdout",
     "output_type": "stream",
     "text": [
      "CPU times: user 1.96 s, sys: 255 ms, total: 2.21 s\n",
      "Wall time: 5min 25s\n"
     ]
    },
    {
     "data": {
      "text/plain": "         chr     start       end strand  class  \\\n0       chr1     12227     12612      +      1   \n1       chr1     12721     13220      +      1   \n2       chr1     12057     12178      +      1   \n3       chr1     12697     12974      +      1   \n4       chr1     13052     13220      +      1   \n...      ...       ...       ...    ...    ...   \n499138  chrY  24883840  24886132      +      0   \n499139  chrY  24888605  24889352      +      0   \n499140  chrY  24889386  24901111      +      0   \n499141  chrY  24833970  24840730      +      0   \n499142  chrY  24871607  24895696      +      0   \n\n                                                      RC3  \\\n0       [GTExv2=1122:3199;TCGAv2=583:1460;SRAv3h=9374:...   \n1       [GTExv2=1791:3198;TCGAv2=783:1104;SRAv3h=14048...   \n2                                              [None, -1]   \n3          [GTExv2=1:1;TCGAv2=1:1;SRAv3h=15:19;GT:AG, 21]   \n4       [GTExv2=22:24;TCGAv2=17:18;SRAv3h=433:484;GC:A...   \n...                                                   ...   \n499138                                         [None, -1]   \n499139                                         [None, -1]   \n499140                                         [None, -1]   \n499141                                         [None, -1]   \n499142                                         [None, -1]   \n\n       repeat_features_start_site repeat_features_end_site  \n0                              []                       []  \n1                              []                       []  \n2                              []                       []  \n3                              []                       []  \n4                              []                       []  \n...                           ...                      ...  \n499138                         []                       []  \n499139                         []                       []  \n499140                         []                       []  \n499141                         []                       []  \n499142                         []                       []  \n\n[499143 rows x 8 columns]",
      "text/html": "<div>\n<style scoped>\n    .dataframe tbody tr th:only-of-type {\n        vertical-align: middle;\n    }\n\n    .dataframe tbody tr th {\n        vertical-align: top;\n    }\n\n    .dataframe thead th {\n        text-align: right;\n    }\n</style>\n<table border=\"1\" class=\"dataframe\">\n  <thead>\n    <tr style=\"text-align: right;\">\n      <th></th>\n      <th>chr</th>\n      <th>start</th>\n      <th>end</th>\n      <th>strand</th>\n      <th>class</th>\n      <th>RC3</th>\n      <th>repeat_features_start_site</th>\n      <th>repeat_features_end_site</th>\n    </tr>\n  </thead>\n  <tbody>\n    <tr>\n      <th>0</th>\n      <td>chr1</td>\n      <td>12227</td>\n      <td>12612</td>\n      <td>+</td>\n      <td>1</td>\n      <td>[GTExv2=1122:3199;TCGAv2=583:1460;SRAv3h=9374:...</td>\n      <td>[]</td>\n      <td>[]</td>\n    </tr>\n    <tr>\n      <th>1</th>\n      <td>chr1</td>\n      <td>12721</td>\n      <td>13220</td>\n      <td>+</td>\n      <td>1</td>\n      <td>[GTExv2=1791:3198;TCGAv2=783:1104;SRAv3h=14048...</td>\n      <td>[]</td>\n      <td>[]</td>\n    </tr>\n    <tr>\n      <th>2</th>\n      <td>chr1</td>\n      <td>12057</td>\n      <td>12178</td>\n      <td>+</td>\n      <td>1</td>\n      <td>[None, -1]</td>\n      <td>[]</td>\n      <td>[]</td>\n    </tr>\n    <tr>\n      <th>3</th>\n      <td>chr1</td>\n      <td>12697</td>\n      <td>12974</td>\n      <td>+</td>\n      <td>1</td>\n      <td>[GTExv2=1:1;TCGAv2=1:1;SRAv3h=15:19;GT:AG, 21]</td>\n      <td>[]</td>\n      <td>[]</td>\n    </tr>\n    <tr>\n      <th>4</th>\n      <td>chr1</td>\n      <td>13052</td>\n      <td>13220</td>\n      <td>+</td>\n      <td>1</td>\n      <td>[GTExv2=22:24;TCGAv2=17:18;SRAv3h=433:484;GC:A...</td>\n      <td>[]</td>\n      <td>[]</td>\n    </tr>\n    <tr>\n      <th>...</th>\n      <td>...</td>\n      <td>...</td>\n      <td>...</td>\n      <td>...</td>\n      <td>...</td>\n      <td>...</td>\n      <td>...</td>\n      <td>...</td>\n    </tr>\n    <tr>\n      <th>499138</th>\n      <td>chrY</td>\n      <td>24883840</td>\n      <td>24886132</td>\n      <td>+</td>\n      <td>0</td>\n      <td>[None, -1]</td>\n      <td>[]</td>\n      <td>[]</td>\n    </tr>\n    <tr>\n      <th>499139</th>\n      <td>chrY</td>\n      <td>24888605</td>\n      <td>24889352</td>\n      <td>+</td>\n      <td>0</td>\n      <td>[None, -1]</td>\n      <td>[]</td>\n      <td>[]</td>\n    </tr>\n    <tr>\n      <th>499140</th>\n      <td>chrY</td>\n      <td>24889386</td>\n      <td>24901111</td>\n      <td>+</td>\n      <td>0</td>\n      <td>[None, -1]</td>\n      <td>[]</td>\n      <td>[]</td>\n    </tr>\n    <tr>\n      <th>499141</th>\n      <td>chrY</td>\n      <td>24833970</td>\n      <td>24840730</td>\n      <td>+</td>\n      <td>0</td>\n      <td>[None, -1]</td>\n      <td>[]</td>\n      <td>[]</td>\n    </tr>\n    <tr>\n      <th>499142</th>\n      <td>chrY</td>\n      <td>24871607</td>\n      <td>24895696</td>\n      <td>+</td>\n      <td>0</td>\n      <td>[None, -1]</td>\n      <td>[]</td>\n      <td>[]</td>\n    </tr>\n  </tbody>\n</table>\n<p>499143 rows × 8 columns</p>\n</div>"
     },
     "execution_count": 20,
     "metadata": {},
     "output_type": "execute_result"
    }
   ],
   "source": [
    "%%time\n",
    "df_merged[\"repeat_features_end_site\"] = df_merged.parallel_apply(match_repeat_features_2, axis=1)\n",
    "df_merged"
   ],
   "metadata": {
    "collapsed": false
   }
  },
  {
   "cell_type": "code",
   "execution_count": 21,
   "outputs": [],
   "source": [
    "# df_merged.to_csv(\"data/3-temp-output-2.tsv\", sep=\"\\t\", index=False)\n",
    "df_merged = pd.read_csv(\"data/3-temp-output-2.tsv\", sep=\"\\t\")"
   ],
   "metadata": {
    "collapsed": false
   }
  },
  {
   "cell_type": "markdown",
   "source": [
    "# Splice-site Antisense feature"
   ],
   "metadata": {
    "collapsed": false
   }
  },
  {
   "cell_type": "code",
   "execution_count": 22,
   "outputs": [
    {
     "data": {
      "text/plain": "          chr annotator  type  start    end x1 strand x2  \\\n2        chr1    HAVANA  exon  11869  12227  .      +  .   \n3        chr1    HAVANA  exon  12613  12721  .      +  .   \n4        chr1    HAVANA  exon  13221  14409  .      +  .   \n7        chr1    HAVANA  exon  12010  12057  .      +  .   \n8        chr1    HAVANA  exon  12179  12227  .      +  .   \n...       ...       ...   ...    ...    ... ..    ... ..   \n3424172  chrM   ENSEMBL  exon  14149  14673  .      -  .   \n3424177  chrM   ENSEMBL  exon  14674  14742  .      -  .   \n3424180  chrM   ENSEMBL  exon  14747  15887  .      +  .   \n3424185  chrM   ENSEMBL  exon  15888  15953  .      +  .   \n3424188  chrM   ENSEMBL  exon  15956  16023  .      -  .   \n\n                                                  features  \n2        gene_id \"ENSG00000290825.1\"; transcript_id \"EN...  \n3        gene_id \"ENSG00000290825.1\"; transcript_id \"EN...  \n4        gene_id \"ENSG00000290825.1\"; transcript_id \"EN...  \n7        gene_id \"ENSG00000223972.6\"; transcript_id \"EN...  \n8        gene_id \"ENSG00000223972.6\"; transcript_id \"EN...  \n...                                                    ...  \n3424172  gene_id \"ENSG00000198695.2\"; transcript_id \"EN...  \n3424177  gene_id \"ENSG00000210194.1\"; transcript_id \"EN...  \n3424180  gene_id \"ENSG00000198727.2\"; transcript_id \"EN...  \n3424185  gene_id \"ENSG00000210195.2\"; transcript_id \"EN...  \n3424188  gene_id \"ENSG00000210196.2\"; transcript_id \"EN...  \n\n[668308 rows x 9 columns]",
      "text/html": "<div>\n<style scoped>\n    .dataframe tbody tr th:only-of-type {\n        vertical-align: middle;\n    }\n\n    .dataframe tbody tr th {\n        vertical-align: top;\n    }\n\n    .dataframe thead th {\n        text-align: right;\n    }\n</style>\n<table border=\"1\" class=\"dataframe\">\n  <thead>\n    <tr style=\"text-align: right;\">\n      <th></th>\n      <th>chr</th>\n      <th>annotator</th>\n      <th>type</th>\n      <th>start</th>\n      <th>end</th>\n      <th>x1</th>\n      <th>strand</th>\n      <th>x2</th>\n      <th>features</th>\n    </tr>\n  </thead>\n  <tbody>\n    <tr>\n      <th>2</th>\n      <td>chr1</td>\n      <td>HAVANA</td>\n      <td>exon</td>\n      <td>11869</td>\n      <td>12227</td>\n      <td>.</td>\n      <td>+</td>\n      <td>.</td>\n      <td>gene_id \"ENSG00000290825.1\"; transcript_id \"EN...</td>\n    </tr>\n    <tr>\n      <th>3</th>\n      <td>chr1</td>\n      <td>HAVANA</td>\n      <td>exon</td>\n      <td>12613</td>\n      <td>12721</td>\n      <td>.</td>\n      <td>+</td>\n      <td>.</td>\n      <td>gene_id \"ENSG00000290825.1\"; transcript_id \"EN...</td>\n    </tr>\n    <tr>\n      <th>4</th>\n      <td>chr1</td>\n      <td>HAVANA</td>\n      <td>exon</td>\n      <td>13221</td>\n      <td>14409</td>\n      <td>.</td>\n      <td>+</td>\n      <td>.</td>\n      <td>gene_id \"ENSG00000290825.1\"; transcript_id \"EN...</td>\n    </tr>\n    <tr>\n      <th>7</th>\n      <td>chr1</td>\n      <td>HAVANA</td>\n      <td>exon</td>\n      <td>12010</td>\n      <td>12057</td>\n      <td>.</td>\n      <td>+</td>\n      <td>.</td>\n      <td>gene_id \"ENSG00000223972.6\"; transcript_id \"EN...</td>\n    </tr>\n    <tr>\n      <th>8</th>\n      <td>chr1</td>\n      <td>HAVANA</td>\n      <td>exon</td>\n      <td>12179</td>\n      <td>12227</td>\n      <td>.</td>\n      <td>+</td>\n      <td>.</td>\n      <td>gene_id \"ENSG00000223972.6\"; transcript_id \"EN...</td>\n    </tr>\n    <tr>\n      <th>...</th>\n      <td>...</td>\n      <td>...</td>\n      <td>...</td>\n      <td>...</td>\n      <td>...</td>\n      <td>...</td>\n      <td>...</td>\n      <td>...</td>\n      <td>...</td>\n    </tr>\n    <tr>\n      <th>3424172</th>\n      <td>chrM</td>\n      <td>ENSEMBL</td>\n      <td>exon</td>\n      <td>14149</td>\n      <td>14673</td>\n      <td>.</td>\n      <td>-</td>\n      <td>.</td>\n      <td>gene_id \"ENSG00000198695.2\"; transcript_id \"EN...</td>\n    </tr>\n    <tr>\n      <th>3424177</th>\n      <td>chrM</td>\n      <td>ENSEMBL</td>\n      <td>exon</td>\n      <td>14674</td>\n      <td>14742</td>\n      <td>.</td>\n      <td>-</td>\n      <td>.</td>\n      <td>gene_id \"ENSG00000210194.1\"; transcript_id \"EN...</td>\n    </tr>\n    <tr>\n      <th>3424180</th>\n      <td>chrM</td>\n      <td>ENSEMBL</td>\n      <td>exon</td>\n      <td>14747</td>\n      <td>15887</td>\n      <td>.</td>\n      <td>+</td>\n      <td>.</td>\n      <td>gene_id \"ENSG00000198727.2\"; transcript_id \"EN...</td>\n    </tr>\n    <tr>\n      <th>3424185</th>\n      <td>chrM</td>\n      <td>ENSEMBL</td>\n      <td>exon</td>\n      <td>15888</td>\n      <td>15953</td>\n      <td>.</td>\n      <td>+</td>\n      <td>.</td>\n      <td>gene_id \"ENSG00000210195.2\"; transcript_id \"EN...</td>\n    </tr>\n    <tr>\n      <th>3424188</th>\n      <td>chrM</td>\n      <td>ENSEMBL</td>\n      <td>exon</td>\n      <td>15956</td>\n      <td>16023</td>\n      <td>.</td>\n      <td>-</td>\n      <td>.</td>\n      <td>gene_id \"ENSG00000210196.2\"; transcript_id \"EN...</td>\n    </tr>\n  </tbody>\n</table>\n<p>668308 rows × 9 columns</p>\n</div>"
     },
     "execution_count": 22,
     "metadata": {},
     "output_type": "execute_result"
    }
   ],
   "source": [
    "df_exons = pd.read_csv(\"/home/rabbit/Documents/Projects/ML_gene_annot/ftp-data/gencode.v44.annotation.gtf\", sep=\"\\t\", comment=\"#\", header=None, names=[\"chr\", \"annotator\", \"type\", \"start\", \"end\", \"x1\", \"strand\", \"x2\", \"features\"])\n",
    "df_exons = df_exons[df_exons[\"type\"] == \"exon\"]\n",
    "df_exons = df_exons.drop_duplicates(subset=[\"chr\", \"start\", \"end\", \"strand\"])\n",
    "df_exons"
   ],
   "metadata": {
    "collapsed": false
   }
  },
  {
   "cell_type": "code",
   "execution_count": 23,
   "outputs": [],
   "source": [
    "def df_to_bed(df, bed_file):\n",
    "    with open(bed_file, 'w') as bed:\n",
    "        for index, row in df.iterrows():\n",
    "\n",
    "            chrom = row[0]\n",
    "            start = int(row[3]) - 1  # Convert 1-based to 0-based (BED format)\n",
    "            end = int(row[4])\n",
    "            strand = row[6]\n",
    "\n",
    "\n",
    "            bed_line = f\"{chrom}\\t{start-1}\\t{end}\\t.\\t.\\t{strand}\\n\"\n",
    "            bed.write(bed_line)\n",
    "\n",
    "# Convert the DataFrame to a BED file\n",
    "bed_file_path = 'exon.bed'\n",
    "df_to_bed(df_exons, bed_file_path)"
   ],
   "metadata": {
    "collapsed": false
   }
  },
  {
   "cell_type": "code",
   "execution_count": 24,
   "outputs": [
    {
     "name": "stdout",
     "output_type": "stream",
     "text": [
      "INFO: Pandarallel will run on 12 workers.\n",
      "INFO: Pandarallel will use Memory file system to transfer data between the main process and workers.\n"
     ]
    }
   ],
   "source": [
    "pandarallel.initialize(nb_workers=12)"
   ],
   "metadata": {
    "collapsed": false
   }
  },
  {
   "cell_type": "code",
   "execution_count": 25,
   "outputs": [],
   "source": [
    "def antisense_exon_start(row):\n",
    "    \"\"\"\n",
    "    We call the tabix command, which look at the bed file to see if the row (which are entries in the intron that we extracted) overlaps with the repeat\n",
    "    regions detailed in the repeat_features.bed.gz, apart from the splice-site ({row.start+2}), we also look at the small-region that precedes (2 nt in the exon; row.start-2) the splice-site.\n",
    "    \"\"\"\n",
    "    opposite_strand = \"+\" if row.strand == \"-\" else \"-\"\n",
    "    # print(opposite_strand)\n",
    "    matched_rows = !tabix sorted_exon.bed.gz {row.chr}:{row.start}-{row.start+2} | cut -f6\n",
    "    # if matched_rows != []:\n",
    "    #     print(matched_rows)\n",
    "    return opposite_strand in matched_rows\n",
    "\n",
    "def antisense_exon_stop(row):\n",
    "    \"\"\"\n",
    "    We call the tabix command, which look at the bed file to see if the row (which are entries in the intron that we extracted) overlaps with the repeat\n",
    "    regions detailed in the repeat_features.bed.gz, apart from the splice-site ({row.start+2}), we also look at the small-region that precedes (2 nt in the exon; row.start-2) the splice-site.\n",
    "    \"\"\"\n",
    "    opposite_strand = \"+\" if row.strand == \"-\" else \"-\"\n",
    "    # print(opposite_strand)\n",
    "    matched_rows = !tabix sorted_exon.bed.gz {row.chr}:{row.end-2}-{row.end} | cut -f6\n",
    "    # if matched_rows != []:\n",
    "    #     print(matched_rows)\n",
    "    return opposite_strand in matched_rows"
   ],
   "metadata": {
    "collapsed": false
   }
  },
  {
   "cell_type": "code",
   "execution_count": 26,
   "outputs": [
    {
     "data": {
      "text/plain": "         chr     start       end strand  class  \\\n0       chr1     12227     12612      +      1   \n1       chr1     12721     13220      +      1   \n2       chr1     12057     12178      +      1   \n3       chr1     12697     12974      +      1   \n4       chr1     13052     13220      +      1   \n...      ...       ...       ...    ...    ...   \n499138  chrY  24883840  24886132      +      0   \n499139  chrY  24888605  24889352      +      0   \n499140  chrY  24889386  24901111      +      0   \n499141  chrY  24833970  24840730      +      0   \n499142  chrY  24871607  24895696      +      0   \n\n                                                      RC3  \\\n0       [GTExv2=1122:3199;TCGAv2=583:1460;SRAv3h=9374:...   \n1       [GTExv2=1791:3198;TCGAv2=783:1104;SRAv3h=14048...   \n2                                              [None, -1]   \n3          [GTExv2=1:1;TCGAv2=1:1;SRAv3h=15:19;GT:AG, 21]   \n4       [GTExv2=22:24;TCGAv2=17:18;SRAv3h=433:484;GC:A...   \n...                                                   ...   \n499138                                         [None, -1]   \n499139                                         [None, -1]   \n499140                                         [None, -1]   \n499141                                         [None, -1]   \n499142                                         [None, -1]   \n\n       repeat_features_start_site repeat_features_end_site  \n0                              []                       []  \n1                              []                       []  \n2                              []                       []  \n3                              []                       []  \n4                              []                       []  \n...                           ...                      ...  \n499138                         []                       []  \n499139                         []                       []  \n499140                         []                       []  \n499141                         []                       []  \n499142                         []                       []  \n\n[499143 rows x 8 columns]",
      "text/html": "<div>\n<style scoped>\n    .dataframe tbody tr th:only-of-type {\n        vertical-align: middle;\n    }\n\n    .dataframe tbody tr th {\n        vertical-align: top;\n    }\n\n    .dataframe thead th {\n        text-align: right;\n    }\n</style>\n<table border=\"1\" class=\"dataframe\">\n  <thead>\n    <tr style=\"text-align: right;\">\n      <th></th>\n      <th>chr</th>\n      <th>start</th>\n      <th>end</th>\n      <th>strand</th>\n      <th>class</th>\n      <th>RC3</th>\n      <th>repeat_features_start_site</th>\n      <th>repeat_features_end_site</th>\n    </tr>\n  </thead>\n  <tbody>\n    <tr>\n      <th>0</th>\n      <td>chr1</td>\n      <td>12227</td>\n      <td>12612</td>\n      <td>+</td>\n      <td>1</td>\n      <td>[GTExv2=1122:3199;TCGAv2=583:1460;SRAv3h=9374:...</td>\n      <td>[]</td>\n      <td>[]</td>\n    </tr>\n    <tr>\n      <th>1</th>\n      <td>chr1</td>\n      <td>12721</td>\n      <td>13220</td>\n      <td>+</td>\n      <td>1</td>\n      <td>[GTExv2=1791:3198;TCGAv2=783:1104;SRAv3h=14048...</td>\n      <td>[]</td>\n      <td>[]</td>\n    </tr>\n    <tr>\n      <th>2</th>\n      <td>chr1</td>\n      <td>12057</td>\n      <td>12178</td>\n      <td>+</td>\n      <td>1</td>\n      <td>[None, -1]</td>\n      <td>[]</td>\n      <td>[]</td>\n    </tr>\n    <tr>\n      <th>3</th>\n      <td>chr1</td>\n      <td>12697</td>\n      <td>12974</td>\n      <td>+</td>\n      <td>1</td>\n      <td>[GTExv2=1:1;TCGAv2=1:1;SRAv3h=15:19;GT:AG, 21]</td>\n      <td>[]</td>\n      <td>[]</td>\n    </tr>\n    <tr>\n      <th>4</th>\n      <td>chr1</td>\n      <td>13052</td>\n      <td>13220</td>\n      <td>+</td>\n      <td>1</td>\n      <td>[GTExv2=22:24;TCGAv2=17:18;SRAv3h=433:484;GC:A...</td>\n      <td>[]</td>\n      <td>[]</td>\n    </tr>\n    <tr>\n      <th>...</th>\n      <td>...</td>\n      <td>...</td>\n      <td>...</td>\n      <td>...</td>\n      <td>...</td>\n      <td>...</td>\n      <td>...</td>\n      <td>...</td>\n    </tr>\n    <tr>\n      <th>499138</th>\n      <td>chrY</td>\n      <td>24883840</td>\n      <td>24886132</td>\n      <td>+</td>\n      <td>0</td>\n      <td>[None, -1]</td>\n      <td>[]</td>\n      <td>[]</td>\n    </tr>\n    <tr>\n      <th>499139</th>\n      <td>chrY</td>\n      <td>24888605</td>\n      <td>24889352</td>\n      <td>+</td>\n      <td>0</td>\n      <td>[None, -1]</td>\n      <td>[]</td>\n      <td>[]</td>\n    </tr>\n    <tr>\n      <th>499140</th>\n      <td>chrY</td>\n      <td>24889386</td>\n      <td>24901111</td>\n      <td>+</td>\n      <td>0</td>\n      <td>[None, -1]</td>\n      <td>[]</td>\n      <td>[]</td>\n    </tr>\n    <tr>\n      <th>499141</th>\n      <td>chrY</td>\n      <td>24833970</td>\n      <td>24840730</td>\n      <td>+</td>\n      <td>0</td>\n      <td>[None, -1]</td>\n      <td>[]</td>\n      <td>[]</td>\n    </tr>\n    <tr>\n      <th>499142</th>\n      <td>chrY</td>\n      <td>24871607</td>\n      <td>24895696</td>\n      <td>+</td>\n      <td>0</td>\n      <td>[None, -1]</td>\n      <td>[]</td>\n      <td>[]</td>\n    </tr>\n  </tbody>\n</table>\n<p>499143 rows × 8 columns</p>\n</div>"
     },
     "execution_count": 26,
     "metadata": {},
     "output_type": "execute_result"
    }
   ],
   "source": [
    "df_merged"
   ],
   "metadata": {
    "collapsed": false
   }
  },
  {
   "cell_type": "code",
   "execution_count": 27,
   "outputs": [
    {
     "name": "stdout",
     "output_type": "stream",
     "text": [
      "CPU times: user 1.79 s, sys: 327 ms, total: 2.12 s\n",
      "Wall time: 12min 29s\n"
     ]
    },
    {
     "data": {
      "text/plain": "         chr     start       end strand  class  \\\n0       chr1     12227     12612      +      1   \n1       chr1     12721     13220      +      1   \n2       chr1     12057     12178      +      1   \n3       chr1     12697     12974      +      1   \n4       chr1     13052     13220      +      1   \n...      ...       ...       ...    ...    ...   \n499138  chrY  24883840  24886132      +      0   \n499139  chrY  24888605  24889352      +      0   \n499140  chrY  24889386  24901111      +      0   \n499141  chrY  24833970  24840730      +      0   \n499142  chrY  24871607  24895696      +      0   \n\n                                                      RC3  \\\n0       [GTExv2=1122:3199;TCGAv2=583:1460;SRAv3h=9374:...   \n1       [GTExv2=1791:3198;TCGAv2=783:1104;SRAv3h=14048...   \n2                                              [None, -1]   \n3          [GTExv2=1:1;TCGAv2=1:1;SRAv3h=15:19;GT:AG, 21]   \n4       [GTExv2=22:24;TCGAv2=17:18;SRAv3h=433:484;GC:A...   \n...                                                   ...   \n499138                                         [None, -1]   \n499139                                         [None, -1]   \n499140                                         [None, -1]   \n499141                                         [None, -1]   \n499142                                         [None, -1]   \n\n       repeat_features_start_site repeat_features_end_site  \\\n0                              []                       []   \n1                              []                       []   \n2                              []                       []   \n3                              []                       []   \n4                              []                       []   \n...                           ...                      ...   \n499138                         []                       []   \n499139                         []                       []   \n499140                         []                       []   \n499141                         []                       []   \n499142                         []                       []   \n\n        ss_antisense_start_site  \n0                         False  \n1                         False  \n2                         False  \n3                         False  \n4                         False  \n...                         ...  \n499138                    False  \n499139                    False  \n499140                    False  \n499141                    False  \n499142                    False  \n\n[499143 rows x 9 columns]",
      "text/html": "<div>\n<style scoped>\n    .dataframe tbody tr th:only-of-type {\n        vertical-align: middle;\n    }\n\n    .dataframe tbody tr th {\n        vertical-align: top;\n    }\n\n    .dataframe thead th {\n        text-align: right;\n    }\n</style>\n<table border=\"1\" class=\"dataframe\">\n  <thead>\n    <tr style=\"text-align: right;\">\n      <th></th>\n      <th>chr</th>\n      <th>start</th>\n      <th>end</th>\n      <th>strand</th>\n      <th>class</th>\n      <th>RC3</th>\n      <th>repeat_features_start_site</th>\n      <th>repeat_features_end_site</th>\n      <th>ss_antisense_start_site</th>\n    </tr>\n  </thead>\n  <tbody>\n    <tr>\n      <th>0</th>\n      <td>chr1</td>\n      <td>12227</td>\n      <td>12612</td>\n      <td>+</td>\n      <td>1</td>\n      <td>[GTExv2=1122:3199;TCGAv2=583:1460;SRAv3h=9374:...</td>\n      <td>[]</td>\n      <td>[]</td>\n      <td>False</td>\n    </tr>\n    <tr>\n      <th>1</th>\n      <td>chr1</td>\n      <td>12721</td>\n      <td>13220</td>\n      <td>+</td>\n      <td>1</td>\n      <td>[GTExv2=1791:3198;TCGAv2=783:1104;SRAv3h=14048...</td>\n      <td>[]</td>\n      <td>[]</td>\n      <td>False</td>\n    </tr>\n    <tr>\n      <th>2</th>\n      <td>chr1</td>\n      <td>12057</td>\n      <td>12178</td>\n      <td>+</td>\n      <td>1</td>\n      <td>[None, -1]</td>\n      <td>[]</td>\n      <td>[]</td>\n      <td>False</td>\n    </tr>\n    <tr>\n      <th>3</th>\n      <td>chr1</td>\n      <td>12697</td>\n      <td>12974</td>\n      <td>+</td>\n      <td>1</td>\n      <td>[GTExv2=1:1;TCGAv2=1:1;SRAv3h=15:19;GT:AG, 21]</td>\n      <td>[]</td>\n      <td>[]</td>\n      <td>False</td>\n    </tr>\n    <tr>\n      <th>4</th>\n      <td>chr1</td>\n      <td>13052</td>\n      <td>13220</td>\n      <td>+</td>\n      <td>1</td>\n      <td>[GTExv2=22:24;TCGAv2=17:18;SRAv3h=433:484;GC:A...</td>\n      <td>[]</td>\n      <td>[]</td>\n      <td>False</td>\n    </tr>\n    <tr>\n      <th>...</th>\n      <td>...</td>\n      <td>...</td>\n      <td>...</td>\n      <td>...</td>\n      <td>...</td>\n      <td>...</td>\n      <td>...</td>\n      <td>...</td>\n      <td>...</td>\n    </tr>\n    <tr>\n      <th>499138</th>\n      <td>chrY</td>\n      <td>24883840</td>\n      <td>24886132</td>\n      <td>+</td>\n      <td>0</td>\n      <td>[None, -1]</td>\n      <td>[]</td>\n      <td>[]</td>\n      <td>False</td>\n    </tr>\n    <tr>\n      <th>499139</th>\n      <td>chrY</td>\n      <td>24888605</td>\n      <td>24889352</td>\n      <td>+</td>\n      <td>0</td>\n      <td>[None, -1]</td>\n      <td>[]</td>\n      <td>[]</td>\n      <td>False</td>\n    </tr>\n    <tr>\n      <th>499140</th>\n      <td>chrY</td>\n      <td>24889386</td>\n      <td>24901111</td>\n      <td>+</td>\n      <td>0</td>\n      <td>[None, -1]</td>\n      <td>[]</td>\n      <td>[]</td>\n      <td>False</td>\n    </tr>\n    <tr>\n      <th>499141</th>\n      <td>chrY</td>\n      <td>24833970</td>\n      <td>24840730</td>\n      <td>+</td>\n      <td>0</td>\n      <td>[None, -1]</td>\n      <td>[]</td>\n      <td>[]</td>\n      <td>False</td>\n    </tr>\n    <tr>\n      <th>499142</th>\n      <td>chrY</td>\n      <td>24871607</td>\n      <td>24895696</td>\n      <td>+</td>\n      <td>0</td>\n      <td>[None, -1]</td>\n      <td>[]</td>\n      <td>[]</td>\n      <td>False</td>\n    </tr>\n  </tbody>\n</table>\n<p>499143 rows × 9 columns</p>\n</div>"
     },
     "execution_count": 27,
     "metadata": {},
     "output_type": "execute_result"
    }
   ],
   "source": [
    "%%time\n",
    "df_merged[\"ss_antisense_start_site\"] = df_merged.parallel_apply(antisense_exon_start, axis=1)\n",
    "df_merged"
   ],
   "metadata": {
    "collapsed": false
   }
  },
  {
   "cell_type": "code",
   "execution_count": 28,
   "outputs": [
    {
     "name": "stdout",
     "output_type": "stream",
     "text": [
      "CPU times: user 1.79 s, sys: 390 ms, total: 2.18 s\n",
      "Wall time: 12min 30s\n"
     ]
    },
    {
     "data": {
      "text/plain": "         chr     start       end strand  class  \\\n0       chr1     12227     12612      +      1   \n1       chr1     12721     13220      +      1   \n2       chr1     12057     12178      +      1   \n3       chr1     12697     12974      +      1   \n4       chr1     13052     13220      +      1   \n...      ...       ...       ...    ...    ...   \n499138  chrY  24883840  24886132      +      0   \n499139  chrY  24888605  24889352      +      0   \n499140  chrY  24889386  24901111      +      0   \n499141  chrY  24833970  24840730      +      0   \n499142  chrY  24871607  24895696      +      0   \n\n                                                      RC3  \\\n0       [GTExv2=1122:3199;TCGAv2=583:1460;SRAv3h=9374:...   \n1       [GTExv2=1791:3198;TCGAv2=783:1104;SRAv3h=14048...   \n2                                              [None, -1]   \n3          [GTExv2=1:1;TCGAv2=1:1;SRAv3h=15:19;GT:AG, 21]   \n4       [GTExv2=22:24;TCGAv2=17:18;SRAv3h=433:484;GC:A...   \n...                                                   ...   \n499138                                         [None, -1]   \n499139                                         [None, -1]   \n499140                                         [None, -1]   \n499141                                         [None, -1]   \n499142                                         [None, -1]   \n\n       repeat_features_start_site repeat_features_end_site  \\\n0                              []                       []   \n1                              []                       []   \n2                              []                       []   \n3                              []                       []   \n4                              []                       []   \n...                           ...                      ...   \n499138                         []                       []   \n499139                         []                       []   \n499140                         []                       []   \n499141                         []                       []   \n499142                         []                       []   \n\n        ss_antisense_start_site  ss_antisense_end_site  \n0                         False                  False  \n1                         False                  False  \n2                         False                  False  \n3                         False                  False  \n4                         False                  False  \n...                         ...                    ...  \n499138                    False                  False  \n499139                    False                  False  \n499140                    False                  False  \n499141                    False                  False  \n499142                    False                  False  \n\n[499143 rows x 10 columns]",
      "text/html": "<div>\n<style scoped>\n    .dataframe tbody tr th:only-of-type {\n        vertical-align: middle;\n    }\n\n    .dataframe tbody tr th {\n        vertical-align: top;\n    }\n\n    .dataframe thead th {\n        text-align: right;\n    }\n</style>\n<table border=\"1\" class=\"dataframe\">\n  <thead>\n    <tr style=\"text-align: right;\">\n      <th></th>\n      <th>chr</th>\n      <th>start</th>\n      <th>end</th>\n      <th>strand</th>\n      <th>class</th>\n      <th>RC3</th>\n      <th>repeat_features_start_site</th>\n      <th>repeat_features_end_site</th>\n      <th>ss_antisense_start_site</th>\n      <th>ss_antisense_end_site</th>\n    </tr>\n  </thead>\n  <tbody>\n    <tr>\n      <th>0</th>\n      <td>chr1</td>\n      <td>12227</td>\n      <td>12612</td>\n      <td>+</td>\n      <td>1</td>\n      <td>[GTExv2=1122:3199;TCGAv2=583:1460;SRAv3h=9374:...</td>\n      <td>[]</td>\n      <td>[]</td>\n      <td>False</td>\n      <td>False</td>\n    </tr>\n    <tr>\n      <th>1</th>\n      <td>chr1</td>\n      <td>12721</td>\n      <td>13220</td>\n      <td>+</td>\n      <td>1</td>\n      <td>[GTExv2=1791:3198;TCGAv2=783:1104;SRAv3h=14048...</td>\n      <td>[]</td>\n      <td>[]</td>\n      <td>False</td>\n      <td>False</td>\n    </tr>\n    <tr>\n      <th>2</th>\n      <td>chr1</td>\n      <td>12057</td>\n      <td>12178</td>\n      <td>+</td>\n      <td>1</td>\n      <td>[None, -1]</td>\n      <td>[]</td>\n      <td>[]</td>\n      <td>False</td>\n      <td>False</td>\n    </tr>\n    <tr>\n      <th>3</th>\n      <td>chr1</td>\n      <td>12697</td>\n      <td>12974</td>\n      <td>+</td>\n      <td>1</td>\n      <td>[GTExv2=1:1;TCGAv2=1:1;SRAv3h=15:19;GT:AG, 21]</td>\n      <td>[]</td>\n      <td>[]</td>\n      <td>False</td>\n      <td>False</td>\n    </tr>\n    <tr>\n      <th>4</th>\n      <td>chr1</td>\n      <td>13052</td>\n      <td>13220</td>\n      <td>+</td>\n      <td>1</td>\n      <td>[GTExv2=22:24;TCGAv2=17:18;SRAv3h=433:484;GC:A...</td>\n      <td>[]</td>\n      <td>[]</td>\n      <td>False</td>\n      <td>False</td>\n    </tr>\n    <tr>\n      <th>...</th>\n      <td>...</td>\n      <td>...</td>\n      <td>...</td>\n      <td>...</td>\n      <td>...</td>\n      <td>...</td>\n      <td>...</td>\n      <td>...</td>\n      <td>...</td>\n      <td>...</td>\n    </tr>\n    <tr>\n      <th>499138</th>\n      <td>chrY</td>\n      <td>24883840</td>\n      <td>24886132</td>\n      <td>+</td>\n      <td>0</td>\n      <td>[None, -1]</td>\n      <td>[]</td>\n      <td>[]</td>\n      <td>False</td>\n      <td>False</td>\n    </tr>\n    <tr>\n      <th>499139</th>\n      <td>chrY</td>\n      <td>24888605</td>\n      <td>24889352</td>\n      <td>+</td>\n      <td>0</td>\n      <td>[None, -1]</td>\n      <td>[]</td>\n      <td>[]</td>\n      <td>False</td>\n      <td>False</td>\n    </tr>\n    <tr>\n      <th>499140</th>\n      <td>chrY</td>\n      <td>24889386</td>\n      <td>24901111</td>\n      <td>+</td>\n      <td>0</td>\n      <td>[None, -1]</td>\n      <td>[]</td>\n      <td>[]</td>\n      <td>False</td>\n      <td>False</td>\n    </tr>\n    <tr>\n      <th>499141</th>\n      <td>chrY</td>\n      <td>24833970</td>\n      <td>24840730</td>\n      <td>+</td>\n      <td>0</td>\n      <td>[None, -1]</td>\n      <td>[]</td>\n      <td>[]</td>\n      <td>False</td>\n      <td>False</td>\n    </tr>\n    <tr>\n      <th>499142</th>\n      <td>chrY</td>\n      <td>24871607</td>\n      <td>24895696</td>\n      <td>+</td>\n      <td>0</td>\n      <td>[None, -1]</td>\n      <td>[]</td>\n      <td>[]</td>\n      <td>False</td>\n      <td>False</td>\n    </tr>\n  </tbody>\n</table>\n<p>499143 rows × 10 columns</p>\n</div>"
     },
     "execution_count": 28,
     "metadata": {},
     "output_type": "execute_result"
    }
   ],
   "source": [
    "%%time\n",
    "df_merged[\"ss_antisense_end_site\"] = df_merged.parallel_apply(antisense_exon_stop, axis=1)\n",
    "df_merged"
   ],
   "metadata": {
    "collapsed": false
   }
  },
  {
   "cell_type": "code",
   "execution_count": 29,
   "outputs": [],
   "source": [
    "df_merged.to_csv(\"data/3_all_features.tsv\", sep=\"\\t\", index=False)"
   ],
   "metadata": {
    "collapsed": false
   }
  },
  {
   "cell_type": "code",
   "execution_count": null,
   "outputs": [],
   "source": [],
   "metadata": {
    "collapsed": false
   }
  }
 ],
 "metadata": {
  "kernelspec": {
   "display_name": "Python 3",
   "language": "python",
   "name": "python3"
  },
  "language_info": {
   "codemirror_mode": {
    "name": "ipython",
    "version": 2
   },
   "file_extension": ".py",
   "mimetype": "text/x-python",
   "name": "python",
   "nbconvert_exporter": "python",
   "pygments_lexer": "ipython2",
   "version": "2.7.6"
  }
 },
 "nbformat": 4,
 "nbformat_minor": 0
}
