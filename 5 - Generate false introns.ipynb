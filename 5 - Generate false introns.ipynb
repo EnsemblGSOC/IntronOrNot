{
 "cells": [
  {
   "cell_type": "code",
   "execution_count": 1,
   "metadata": {
    "collapsed": true
   },
   "outputs": [],
   "source": [
    "import pandas as pd"
   ]
  },
  {
   "cell_type": "code",
   "execution_count": 2,
   "outputs": [],
   "source": [
    "!cat long-read-sim/sd*.fastq > merged_reads.fastq"
   ],
   "metadata": {
    "collapsed": false
   }
  },
  {
   "cell_type": "code",
   "execution_count": 4,
   "outputs": [
    {
     "name": "stdout",
     "output_type": "stream",
     "text": [
      "[M::mm_idx_gen::27.162*1.48] collected minimizers\r\n",
      "[M::mm_idx_gen::28.449*1.94] sorted minimizers\r\n",
      "[M::main::28.449*1.94] loaded/built the index for 455 target sequence(s)\r\n",
      "[M::mm_mapopt_update::29.366*1.91] mid_occ = 495\r\n",
      "[M::mm_idx_stat] kmer size: 19; skip: 10; is_hpc: 1; #seq: 455\r\n",
      "[M::mm_idx_stat::29.909*1.90] distinct minimizers: 86695457 (44.00% are singletons); average occurrences: 4.493; average spacing: 8.240\r\n",
      "[M::worker_pipeline::45.556*4.66] mapped 55379 sequences\r\n",
      "[M::main] Version: 2.17-r941\r\n",
      "[M::main] CMD: minimap2 -ax map-pb -t 12 release-109-hg38/hg38.fa long-read-sim/sd_0001.fastq\r\n",
      "[M::main] Real time: 45.673 sec; CPU: 212.541 sec; Peak RSS: 12.456 GB\r\n"
     ]
    }
   ],
   "source": [
    "!minimap2 -ax map-pb -t 12 release-109-hg38/hg38.fa long-read-sim/sd_0001.fastq > alignment_pacbio.sam"
   ],
   "metadata": {
    "collapsed": false
   }
  },
  {
   "cell_type": "code",
   "execution_count": 5,
   "outputs": [
    {
     "name": "stdout",
     "output_type": "stream",
     "text": [
      "[M::mm_idx_gen::27.171*1.48] collected minimizers\r\n",
      "[M::mm_idx_gen::28.457*1.95] sorted minimizers\r\n",
      "[M::main::28.457*1.95] loaded/built the index for 455 target sequence(s)\r\n",
      "[M::mm_mapopt_update::29.338*1.92] mid_occ = 495\r\n",
      "[M::mm_idx_stat] kmer size: 19; skip: 10; is_hpc: 1; #seq: 455\r\n",
      "[M::mm_idx_stat::29.855*1.91] distinct minimizers: 86695457 (44.00% are singletons); average occurrences: 4.493; average spacing: 8.240\r\n",
      "[M::worker_pipeline::45.955*5.15] mapped 55603 sequences\r\n",
      "[M::worker_pipeline::60.887*6.88] mapped 55580 sequences\r\n",
      "[M::worker_pipeline::74.580*7.86] mapped 55434 sequences\r\n",
      "[M::worker_pipeline::86.976*8.48] mapped 55653 sequences\r\n",
      "[M::worker_pipeline::105.891*9.13] mapped 55624 sequences\r\n",
      "[M::worker_pipeline::119.741*9.48] mapped 55228 sequences\r\n",
      "[M::worker_pipeline::134.173*9.77] mapped 55594 sequences\r\n",
      "[M::worker_pipeline::148.509*10.01] mapped 55684 sequences\r\n",
      "[M::worker_pipeline::161.807*10.19] mapped 55592 sequences\r\n",
      "[M::worker_pipeline::176.315*10.35] mapped 55559 sequences\r\n",
      "[M::worker_pipeline::190.874*10.49] mapped 55427 sequences\r\n",
      "[M::worker_pipeline::213.348*10.67] mapped 55889 sequences\r\n",
      "[M::worker_pipeline::222.452*10.66] mapped 46383 sequences\r\n",
      "[M::main] Version: 2.17-r941\r\n",
      "[M::main] CMD: minimap2 -ax map-pb -t 12 release-109-hg38/hg38.fa merged_reads.fastq\r\n",
      "[M::main] Real time: 222.617 sec; CPU: 2370.540 sec; Peak RSS: 14.362 GB\r\n"
     ]
    }
   ],
   "source": [
    "!minimap2 -ax map-pb -t 12 release-109-hg38/hg38.fa merged_reads.fastq > alignment_pacbio.sam"
   ],
   "metadata": {
    "collapsed": false
   }
  },
  {
   "cell_type": "code",
   "execution_count": 2,
   "outputs": [
    {
     "name": "stdout",
     "output_type": "stream",
     "text": [
      "/bin/bash: line 1: samtools: command not found\r\n"
     ]
    }
   ],
   "source": [
    "!samtools view -bS alignment_pacbio.sam > alignment_pacbio.bam"
   ],
   "metadata": {
    "collapsed": false
   }
  },
  {
   "cell_type": "code",
   "execution_count": null,
   "outputs": [],
   "source": [
    "!samtools sort alignment_pacbio.bam -o sorted_alignment_pacbio.bam\n",
    "!samtools index sorted_alignment_pacbio.bam"
   ],
   "metadata": {
    "collapsed": false
   }
  }
 ],
 "metadata": {
  "kernelspec": {
   "display_name": "Python 3",
   "language": "python",
   "name": "python3"
  },
  "language_info": {
   "codemirror_mode": {
    "name": "ipython",
    "version": 2
   },
   "file_extension": ".py",
   "mimetype": "text/x-python",
   "name": "python",
   "nbconvert_exporter": "python",
   "pygments_lexer": "ipython2",
   "version": "2.7.6"
  }
 },
 "nbformat": 4,
 "nbformat_minor": 0
}
