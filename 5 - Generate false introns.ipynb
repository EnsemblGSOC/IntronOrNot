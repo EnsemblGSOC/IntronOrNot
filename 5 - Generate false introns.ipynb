{
 "cells": [
  {
   "cell_type": "code",
   "execution_count": 1,
   "outputs": [
    {
     "name": "stderr",
     "output_type": "stream",
     "text": [
      "2023-06-30 23:39:51.701243: I tensorflow/tsl/cuda/cudart_stub.cc:28] Could not find cuda drivers on your machine, GPU will not be used.\n",
      "2023-06-30 23:39:51.892099: I tensorflow/tsl/cuda/cudart_stub.cc:28] Could not find cuda drivers on your machine, GPU will not be used.\n",
      "2023-06-30 23:39:51.892804: I tensorflow/core/platform/cpu_feature_guard.cc:182] This TensorFlow binary is optimized to use available CPU instructions in performance-critical operations.\n",
      "To enable the following instructions: AVX2 FMA, in other operations, rebuild TensorFlow with the appropriate compiler flags.\n",
      "2023-06-30 23:39:52.464783: W tensorflow/compiler/tf2tensorrt/utils/py_utils.cc:38] TF-TRT Warning: Could not find TensorRT\n"
     ]
    }
   ],
   "source": [
    "import pandas as pd\n",
    "from keras.models import load_model\n",
    "from pkg_resources import resource_filename\n",
    "from spliceai.utils import one_hot_encode\n",
    "import numpy as np"
   ],
   "metadata": {
    "collapsed": false
   }
  },
  {
   "cell_type": "code",
   "execution_count": 3,
   "outputs": [
    {
     "name": "stdout",
     "output_type": "stream",
     "text": [
      "WARNING:tensorflow:No training configuration found in the save file, so the model was *not* compiled. Compile it manually.\n",
      "WARNING:tensorflow:No training configuration found in the save file, so the model was *not* compiled. Compile it manually.\n",
      "WARNING:tensorflow:No training configuration found in the save file, so the model was *not* compiled. Compile it manually.\n",
      "WARNING:tensorflow:No training configuration found in the save file, so the model was *not* compiled. Compile it manually.\n",
      "WARNING:tensorflow:No training configuration found in the save file, so the model was *not* compiled. Compile it manually.\n",
      "WARNING:tensorflow:6 out of the last 6 calls to <function Model.make_predict_function.<locals>.predict_function at 0x7fe464674040> triggered tf.function retracing. Tracing is expensive and the excessive number of tracings could be due to (1) creating @tf.function repeatedly in a loop, (2) passing tensors with different shapes, (3) passing Python objects instead of tensors. For (1), please define your @tf.function outside of the loop. For (2), @tf.function has reduce_retracing=True option that can avoid unnecessary retracing. For (3), please refer to https://www.tensorflow.org/guide/function#controlling_retracing and https://www.tensorflow.org/api_docs/python/tf/function for  more details.\n",
      "1/1 [==============================] - 1s 541ms/step\n",
      "1/1 [==============================] - 1s 549ms/step\n",
      "1/1 [==============================] - 1s 562ms/step\n",
      "1/1 [==============================] - 1s 562ms/step\n",
      "1/1 [==============================] - 1s 544ms/step\n"
     ]
    }
   ],
   "source": [
    "input_sequence = 'CGAATGATCCTCCTGCCTTCAGCACCCCCAAAGTGCTGGGTATACAGGTGTTGCCACCAAAGGCCCCACCGTGATCTGTGTTTTAACAAGCCCTCCTTCCAGGGAATGATTCTGATGCGCACTAAAGTTTGAAATAAACATAATTTATACCATCCAGTTACAAACTATAGACTAAAAAGGGAACATTTCTATTAATTAGTCTGTCCAGTAATTATAAGTTTGCTTTTCATAAAGTATACTATAGTATTAACACAACGTTTTGTTTTGTTTTTGGTAGAAGACAGGGGCCTCGCTGTGCTGCCCCAGCTGATCTCAGACTCCTAGGGCTCAATGTGATTCCCCTGCCTCGGCCTCCCAAAGTGCTGGGGATTCACATGCAGAGCCACTGTGCCCAGCTATCACCAGTTTTTAAAATCCTATTTCCCATATTTTTTCTTTCTTTTTTATTTTGAGAACATATGTCTGGTATTGTTGCCCCAGGTGGAGTTGCAGTGGCGTATCTTAAGCTCAACTACAACCTCCATCTCCTGGGCTCAAGCGATTCTCGTCCCTACCTCCGAGTAGCTGGAATACAGGCACCCCACCACCATGCCCTGGGCTAATAATTTTGTATTTTAGTAAGAGACAGGGTTTCACCCATAGCCAGGTGAGCCCTCAAACCTGTGAGCTCAGGCGCATGTTCCCACCTCGGTTCCCAAAGTGTTAAGGACTTTACAGGTAGAGCACCCGACCTGGCTGATTTTCTATTTTATCCTTCTTCAACATTACCAGATGTACTATAAAGGGATACTCTAAGGGTCTAGATAGGCCCAGTGAGGCCTGCTACTTTGCCTAGTAATCCAGCACTTGGGAGGCCTAGAGACGGGTGGGTACCTGAGTCAGTAGTTCAAGCCCAGGGCCTGGCAAACATGATGAAACCCCATCTCCTACTAAAAATAACAAAAAATTAGCTGGGCATGGTGGCAGCGCCTGAAGGCCCAGCTATCGGGCGGGACTCAGGTGGGAGAATCACTTGAAGCGGGAGGCGGAAGTTGTAGTGAGCCGAGATTCTGCCACTGCACTTCCACCGGGCAGCAGAGCAAGACTCCATCTCCAAAAAAAAAAAATAGGTAAGTGTTGGTTTATCTATTTTTCATTTCTTTCAATTTTGGTTATTTCTCTTTTTTTTTTAAAGTCCATAAATCAAAGCTTGTGTTGAGATTCTTTTATAAAAATTTTTCATGATTAGTTTTAAATAATTTTTTGTTTTCCGATGGTTTAAAATTTTTCATTTTATGTTCTGAATAAGAAACATGCAGCTGAGCCACAATAGGCTCGTCCCTTAAATCCCAGCACATTAAGAGGCTGAGGCAGGAGGGAATTCCACTTGAGCTCAGGGTTCAAGACCAGTTTAGGGCAACATGGCAAAACCCCATCTTACAAAAAATACAAAAAATTAGCTGGGGCGTGGTAAGCGTGCCCCTGTAGTCGCCCACCTACTCTGGGGATCACTTGAGTCCCGAAGCATAGATTGAGAGAGGCCTAGATCTCCACCACCTGTACTTCCAGCTGGGCGTGACAGAGGTAAGACCCTATCTCAAAAAAAAAAAAAAAGGAAAAGAAAAAAAGAGGAAAGAAACATGTCCTCTGTGGGGAGGCTGATGGCAGGAGAATCGCTTGAACCCCGGGGGCGGAGGTTGCAGAAGACCGAAGATCACGCCACTGCACCCCAGCCCTGGGTGACAGACAAACTCCATCTGGGGAAAAAAAAAAAAAAAAAAGAAACATGCCCTCTAACTACCTTCAGAATCTGATGGTTTTGGGGAAAGTTTAGAAGAAAAACAACAAAGAATAACCTTTTTCAGAACGGGTAACTGCCCTGTTTTAAAACAGAACTAAGCTCTTCCAATTGCATTTTAAAATGCTCATAATCAAGTACCCCCAGCTTCCATTATCATTAATACAGTGAAGCCACTGCTGCTTAATACTTGTTCTGGGCGACATCAGTGGGCTTTTGTAGCCCTATCTTTGCCCTCCTCCTTTTCTAACCACCTCTCAGTTCCCATAAGTCTTAACTTATAGATAAAATCGATATTTGTGGTTTTGACCTTGAGAATCGAGCAGAATTTTTGAAAATACAGGATATGGCAGTAATTTTCAATATTTTAAAAACCTGTTTCCAACAAAATTCTCTTTACAGGACTAACAACAGCTGTGCCAGACTCTGCTTACAACCAAAAAACATATGTTTAGCAAGCACTGCTATGAAGACTGAAATTGTGTGGCCAAAGTAGGGTAATATTGTCATCATGTTATATTACACACACCATAACATGCCATATCTGTAGGCATGCTTTACTCAGTATTGCTTAAAGGATTATTACAGGGATTTATATAGTTAAGAAAAAAATACAAAACAGGCATCATTGTATCTAGAAAGATTGCAAGGTTAGATTCTCCACCTCTTAATTGTGCAACAGATTTTTGCTTATGAAATTCTGAGTCCTCTTTAGACTGATTCACATTTGTTTCTGACACGTAGTGTAGATTATCACATATTCAGTAGGATTTGTTATAAGATAATGTACAATTTTTGAAAGTTTATGGTTTTAAATACAGGTTACGTATTAGAGGTTACATCAATCATTGCAAGAGACTGTGAAATATGCATAGACAACCCTCATTATAATATCACTATTATTATTTATTAGTGCTAATGGTTGGAAATACTGCTTTTTGTTGATCTTGATCCACATGGACCAGAGTATGTTTAGGCGTTGTGTTATAGGCTACCTCTTTTTCATGTATATTATGTCATCTCTATAGCCTGATGTAAATTAATCTTAAATATTAGAGATTCGATGCTTTTTAATATCCTATCATAACTCAATTTTTCCAATATCTGTAATTACTGAGGAATTTTTGACTAAATTCAAGTGTCAGACATTTTAGGATAAGTACTATTAAGTATGGGCTTTGATTTCGATTACTGAAATTATCTGCAAATATTGCTTATATCTTGAGTCATAGATTTGCTACTGTTACAACATTCCCAACTTTGAACTATTAGTTTAACCTATTTTATTATAGATCCAGGCCCTCGTTTCTTACTGTTTATCATTAGAGCAGGACTGGTGTCATGTCATGCTATCTTTTGCTACAAAAAATCTAATAACAGTTGTCTTAGTCAGTGTTGACGTTGCTATAACAAAAATACTGTAAGCTGTGGTGGCTTATAACAAAACTAATTTTTTCTTATAGGGGCTGAGAAGTCCAAGATAGAGGGCACTACTCAGATTCAGTTCTGGTGAGGGCTTGCTCGTCATTGCCCTTGATAGATGGTGCCTTCTCACTGCATCCTCCACATGATAGAAGACGACTAGCTAAGATATCCGAGGTCTCTTTTTTTTTTAAGGGCACCTTAACCCACTTACAGGGTCTGCCTTCATTTTTGATTTTGGAAAGTCCACAAACGTTCAGCCATAGCAAAAGCAGAGTTTTTGTTTATTTTTTCCTTAAAAACAATGCAGTAGTCTCTGGGCCTGCTCTATCAACTGGAAATGTAGTACACAAAATATACCTATCGAAATCCATACATTATAAGAAATATCCGAATTTATTTAAAATTACAGTTTAAAAAGATAGGTTCATCAGTTAAAATGTCCTCAAATCCAAATATGTTTAAATATTTTGTATAAATTGATTATAAAATACATTTTTTCAGTCATTTAGTCAACAACTAACAAGTGCTAATTGACCCTATTTTATTTTGTTTTGTTTTATTATTATTTTAGAGACAGAGTCTTGACTCTGTTGCCACACGGGTAGAGTGCAATGGCACTAATCCTAGGCTCAATGAGTCCTTTACCTCACAGGGCCAAGGCCCTGATCTTACCCTCCTAGCCTCCCGAGTAGCTGAAAAACCAATTTGAGTCCATGCCACCCACCAGCTAAATTTTTGTTTTCAGTTTTTAGAGTTGTTTTGTTTGTAAGAGTGAGGAGTCGCTGTATTGCCTAGCTGGTTCGTACTCCTGGCTCGAGTAATCCTCCCCCACTAGGTCCCAAAGAGTTGGGATTACAAGCGTGAGCCACTGCACCCCAGCCCAGTTCTTACTTTATATCCTGCTTTTGTGCATGGAAACAGGGATACACAGCGTTTTGGGCTTTAAAATATGTTTCTTTCTTTTTTTCTTTTTTTTGTTTTTTGGCCAATGCTGCTCTTATTTCATCACAAGGTGTGACTTCTGGCTGAAAATAAGGTAAAATTTTAGCATGAGCCAACCAATCCAAGACAGGTGATGATTTTAAATGAGTTCACTGAGAGAGCTGGCCAAGTGAGGCATCTAGTGCCTTTTTGTTTTCTCCATACTTTGTAAGGCCCAGGGACTCTAACTTGTTAAAAGGTTGGTAGTGTCCTTACCTATGATTCGGAGTTTTTTTTTTTAATTTTTTTTTTTCTCCCCACCTCTGCTTTATGTACATAGGTTTAAAAAATCTTTGCCCCTGCACAATTATTTAATTTCTTCCATGCTTTGGATCTTGGAGTGAGAAAGTAAGTTTGCTCATTCTTGCTCATCTAGTTGGTGTTTACTTGCTCCCAGGTGGTGACCCTTTTCTCTTGCATTTTGCTTATTTTTAACAATATTCTGTCACCTATATCCTTCGTCATCCTCTTAAATTAATCTAATTTAATGATGATGGTCTATCTTTCCTATTGGAAGCCAGTGTTAATATCACCTGGTTCCTTTTATTTGGCCTCATCTCCTGTCTTCTGGTTATTGCTCAGATTTTGACCAAAACATTTCGTCAATGTCAAATAAAACACATAGCTGAAAAATTTTCTTTCTTGGCAACAGTCTCCAATAGGTACCATCATAGCATGAGAAATACTGAAAATGGTTTTCCGTTTTTTTTGGTTAGAGAGGAGTCTCACTTTGATCACCCAGGCTGGAAGTGCGGAGGGCCACTTGGCTTACTACTAACCTCCACCTTCCTGGGTTTCAAAGCCATTTATTCCTGCCTTTCAGCTCCCGAGTGGCCTGGGATTACAGAAGTGTGCACCAACACCAGCTAATTTTTATATTTTTTTTAAGTAGAGACAGGGTTTCGCCATGTTGGCCAGGCTGGTTTCGAGCTCTGACCTAGGTGATCTCTCTGCCTCATGCCTCCCGAAGAGCTGGGGATTAGAGGGTGGCACTGTGCCTAGGCAAGTTTTTTTTTTTTTTACTTCACATGTGTTTTGGTGTGTCTCACTGATCCCTGTTTCTTTTTTGATTGTTTGGTTTCTTTTTTTTTTTTTATTGAGACGAGTCTTGCTCTTCACCCAGGTTGGGAGTGCAGTGGCAATATCTCGGCTCACCTGCAAGCTCCGGCCTCCCGGTTTCACGCCATTTTCCTGCCTAGCCTCCTGAGTAGCCTGGGACTATAGGCGCCCGGCCACCACGCCCGGCTAATTTTTTGTTATTTTTAGTATGAGGACGGGGTTTCACCGGCGTTGGCCGGGATGGTCTTGAGTCTCCTAGACTCGTGATCGCTTACTAAGCCTCCCAAAGCAAGGTGATTACAGTCGTCAGCTGGCCCATCCGGCCAACTGTTTCTATTGGCCTCTATTGCTTTGAACCTTTGAATGGAATGCTTGTCATTATTTTTGTTGGGTCTGCAAGCTTGTCCCTATTTCCTGTCTTCACCTTTAGCCCTTAACTGAATAGGTTTCATCTGCTGCATTGATATGGCTGCAGGTGTTTTCCTCAACTTTGGTACAAGTGTCTTTGTTGATTCAAGATTGTACAATTGTGGCCTGAAACTGTAACCATTTCCATGTGAGAACAACTGAATGATTGTGATATCAACCATTTTTGTCCTTTAGTTCAAACAGTGACTTTTGGCTGGGCTAGAGATACTAATTATAGGCCAAACCCTTATATTTATTGAAATGGTTCAGTAAGTTTTAGAGAAGACATTAATACTATTTATTTCCCTAAAAGCAGCAATGGTATTATGTTTGGACCCCTATAATACCATGTTGTAAACTCTTTGCCAGAAATATTCATAGTCTTATGATCAGGTCTTACGAAGGGTACCAATTAGTCCTCTGTAGAATACAAGAACAAAGCTGTAATCAAATATACAACCACCCTAAGTTTGGCAATACATCTTTTAAGGTCTTTTTCAACTTGAAGAAAGAGGCCTAAAGAAAAAATTTAAAACTCTAAATGGCCGGGCACGGTGGCTCACACCTGTAACCCAGGTACTTTGGGAGGCCCGAGACGGGTGGATCACGAGGTCAGAGTTCAAGACCAGCCAACCCAAAGCATGGGAAAACCCTGTCTATACTAAACGTATAAAAATTAGCGGTCGTGGTGGGAACATCCTATAATCCCAGCTACTCAGGAGGCTGAGGCAGGAGCAATCACTTGAACCTGGGACGGGCAGCAGGTTGCAGTAAGGCTCAGATCGTGCCACAGCACTCCAGCCTGGGGTCAGGAGTGAGACTCAGTCTCAAAAAAAAAACTGAAAATGTAGGAGGGTCTATTTTATCCCTATAACTTAATCGAGGTAATATTGAGGCATTGCATTACATTTTTGTTTTTTTTTCAGAATTCTTTCTCCTGGTTTATGGCTACCTGTGTTTCATAGATTTGTGTTTGGAGCATGAGAACATTGTGTTCATTGTAGCTTTAAATGGACATGTCATTATTAAACTGTCAACCTTTAGTCTTTAAAAATCCATTAATCACATTGTGCCTATTACTTGTCTACCTTCCATGATTATTTTTGTTGTAAAGAAACTCAATTGGGAAGGCTGAAAAGCATTTACTTTTTTTAGTGTTACTTGGCTATTGGCTTTATTAAAGACTATTACTGAAAATTTGGTCTTAGGTTTTTTCCCTATTTCCTTCACACCCACAGATACACCAAAATACATGCAGTTAAATTGAATTGTTTGATACAATCTATCCAGATTCCTGGCCCAGATAAGAGAAGTTTTTCCTCTTTATGTTTGGGAAAATAAAACCCCTTCAAGTAGCCCTTTGTGGATGATTTCTGTATTTTAGTTGTTATTGGTTGTAGTCACTGTTTTTTTTTTGGATTAATTAATCATTTGAAACTGACTGGACAGGAAAAAATTGTATGTTCCTTTTCCACTCACTTCCAGATTTGATAGACGACTGTTTTATATTAATTTCCAAAATTATATCCGCAGGAAACAAGCTGGTTAAATTCAGATTTTATGCTGAAGCAAAAAATGGTCCCTGGTATGAAGCAACGTGCTTTTTACGGAGCACAGATCCCTTTTTACTCATAACTGATTGATAGTAAATGATTTTCCTGAAAGAATTATTGCCAACCTGAACAGTGCCAACTGGTTTCACTTTTTTTTCCAAGCTAACTTGCTGTACCCAGCCATTGTCGGTAATAAGATCTACAATCACAATGCAAGACGTTCTGCACTTCCCTCTGGGACCTGTGCTATTATAAGGCATTTCAGCTGTTCAGAGTTTCTTTTGAGTTTAAACTACATGTTAACAGGACTTCTTTAAGATACTGTTTCGACAAGTAGCATGTCATAATTGGTCCGTTTCTTTCACACACGGCGCCTCCTTGTCCAGGTCTAAACATTAGCTTTTACAGAGAACATTCTAAGGAATAAACCACGTCATTGAGGCTGATGTGGTTGGGAAAAACTGTGAGTTTATTGTGTTACACAATTGGGGCTTATTGCTTCTTTCAAAGTAGGGAGAACTTGCAGAGTAATATTCTTTTTTGAAAATTTAATATTCATAGAGCTTAATGTGTTAATTGGGTTACAAGATGATATACAGTTAAAATGACTTTTCCAAGTTCACTTTGCATTAATAAAGAACCAGACCCTCTTATAGGACAGAGAGGTTGTGTTTGTCAGATTAAGGATGTAATGAATAGATTTTCTTCCTTAGATGTGCGTGCCGTTTAAGAAAAAATACAGACATGGGGGGCACCAAAACGGATCAGCAGATTTTGACTGCACATTTTGTTGTGTTCATATCGTCTTTTTAGAAACCCGAAGGTAGCATATGCCCCATTGGTTGAGGAAAGTGTAAAACAGGATCTTTGGGTCGTTGTTAAAGTTGGTAAAATTAAACCATTTTCAACCAAAAAGAGAGTTAAAGAAAAAAAGTCCAGACCCAGCCAGAAAATCTTAAGACATTATGCCCTAAATAAGAGTAATTGCTTGGCAGTCTTTGCTTGCTACCGGGCACTCATTGTTAAACATTACAAGAAAAAGAAACAAGAAACTGAAAGCTATCAAAAAATGTGTTTAAAACTTTGCCCTGAGTGGCATTCAGACTGGCTGGTTTTAAAGCCTGAAGTCCATCCGCCATTGATTAGGCCACGTTGGCATCAGCATCTTCCAGCCAGAGCAGATCTGCAGAGAAAGCAGGACCCGGGTTTTAGGCTTGATTCTGGGAGGTCCCTTGAATATAGACAGAATATAGAAGCTTATAACAAAGCCATTCCCAAGGCAGTTTTATTTTTACAAATCTAATAACTTTCGGTAAGTCCTTTTGACTACCGTGTTTTCTGGTAAATTTCCTTCACGTGAACTCTATAGAAACGTTTTTTTGTTTTTTGTTTTTTTATTTTAAATAGCAGCGGTTCATGCTGTTGGGGAACCACTGATATTCTGACTTGAGGCACTTCAAGATGCCTAGAATTTATTCATATTTCCTACTAGCCAGGGAGCTAATAGGCTCGAGCTTGTCTTTGTGCGATTTGATCTAGATTAGAATGAAATGAGCCCAGTTCAGTCTACTCTCCCTCAGTTGAAAAGGGAATGAGGGTTTAGGGGAAAGAAGGGATGAAAGAAGAAGTTCTTCATCAAGAATTGACTGCAGTATTGCCTCTGATGCATGTCGGATCACCCCGCACAGAGAGATCACATGGCTTCTCCAAAAAGTCAAACATCAATTTCGGCTCGTTTTGGCTCTGTACTAATGCCAAAACAGTGCGATTGCGGGGCCTGTAATTGCATTGTTAGGGCCAAGGAAACAAGGGCTGTGCGCTTTTCAGCAACAGGCTGGCAGGGAGAGAGGCATGTTGTTAGGAAAGAAGAGGCAAGGGCAAATAAAATTACTGCTACGCTCAGAGATCGGCAGGATCCTATTGCCTACATCTACCGGTGGGAGCAGCGGGCTGTTGTAATCCAATTATAGCAGGCATAAGCCAATTTGTAGACACTTCCGCATAATGTAAACAATTTCCCAAATAACTCTGACTTGTAATAACGTCGGCAAGAGTCCGATAACTGCCGAATGGTGGGGGGCTGGAAGCAGTCGGCTGGGGGCTTGTAATTGGCACCATCAGCAACGTTTTGCGGAGGTGCAGTATGGTGCAGTCTTTTAGTGGCAGGAATTTTAAGGAGAAAAACGTGGCACCATTTCTCAGGGAAAAAAAAAAAAGTGGCCCATTAAAAGGGGAACAGCACAGAAGGGCATACTCTGCCCCGTCCACATTACCGAGGAATCTTAGTGAGAAAGA'\n",
    "# Replace this with your custom sequence\n",
    "\n",
    "context = 10000\n",
    "paths = ('models/spliceai{}.h5'.format(x) for x in range(1, 6))\n",
    "models = [load_model(resource_filename('spliceai', x)) for x in paths]\n",
    "x = one_hot_encode('N'*(context//2) + input_sequence + 'N'*(context//2))[None, :]\n",
    "y = np.mean([models[m].predict(x) for m in range(5)], axis=0)\n",
    "\n",
    "acceptor_prob = y[0, :, 1]\n",
    "donor_prob = y[0, :, 2]"
   ],
   "metadata": {
    "collapsed": false
   }
  },
  {
   "cell_type": "code",
   "execution_count": 8,
   "outputs": [
    {
     "data": {
      "text/plain": "array([6.9294474e-05, 6.4420499e-05, 1.0404522e-04, ..., 4.8294856e-07,\n       1.4080750e-06, 5.8124294e-07], dtype=float32)"
     },
     "execution_count": 8,
     "metadata": {},
     "output_type": "execute_result"
    }
   ],
   "source": [
    "donor_prob"
   ],
   "metadata": {
    "collapsed": false
   }
  },
  {
   "cell_type": "code",
   "execution_count": 15,
   "outputs": [
    {
     "data": {
      "text/plain": "array([1.1487075e-06, 2.0916675e-06, 4.0894392e-07, ..., 3.1746345e-05,\n       1.4051771e-05, 1.2927229e-04], dtype=float32)"
     },
     "execution_count": 15,
     "metadata": {},
     "output_type": "execute_result"
    }
   ],
   "source": [
    "acceptor_prob"
   ],
   "metadata": {
    "collapsed": false
   }
  },
  {
   "cell_type": "code",
   "execution_count": 27,
   "outputs": [
    {
     "data": {
      "text/plain": "'A'"
     },
     "execution_count": 27,
     "metadata": {},
     "output_type": "execute_result"
    }
   ],
   "source": [
    "input_sequence[2180]"
   ],
   "metadata": {
    "collapsed": false
   }
  },
  {
   "cell_type": "code",
   "execution_count": 26,
   "outputs": [],
   "source": [
    "import pandas as pd\n",
    "# from sklearn.model_selection import train_test_split\n",
    "# from sklearn import preprocessing\n",
    "# from sklearn.model_selection import StratifiedKFold\n",
    "# from sklearn.metrics import accuracy_score, roc_auc_score, balanced_accuracy_score, precision_score, matthews_corrcoef, confusion_matrix\n",
    "# from xgboost import XGBClassifier\n",
    "import numpy as np\n",
    "import statistics\n",
    "from Bio.Seq import Seq\n",
    "# from tqdm import tqdm\n",
    "from pyfaidx import Fasta"
   ],
   "metadata": {
    "collapsed": false
   }
  },
  {
   "cell_type": "code",
   "execution_count": 2,
   "outputs": [
    {
     "data": {
      "text/plain": "       chrom  intron_start  intron_ends strand  Duplicate_Count  \\\n0       chr1         12227        12612      +                2   \n1       chr1         12721        13220      +                1   \n2       chr1         12057        12178      +                1   \n3       chr1         12697        12974      +                1   \n4       chr1         13052        13220      +                1   \n...      ...           ...          ...    ...              ...   \n517017  chrY         15955     57212183      -                1   \n517018  chrY      57213125     57213203      -                1   \n517019  chrY      57213357     57213525      -                1   \n517020  chrY      57213602     57213879      -                1   \n517021  chrY      57213964     57214349      -                1   \n\n                                          Repeat_overlaps     GTExv2  \\\n0                                                      []  1122:3199   \n1                                                      []  1791:3198   \n2                                                      []        NaN   \n3                                                      []        1:1   \n4                                                      []      22:24   \n...                                                   ...        ...   \n517017  ['Centromere', 'Dust', 'Low complexity regions...        NaN   \n517018                                                 []        NaN   \n517019                                                 []        NaN   \n517020                                                 []        NaN   \n517021                                                 []        NaN   \n\n          TCGAv2       SRAv3h RC3-Splice_site  RC3-Score  \n0       583:1460   9374:54492           GT:AG      59151  \n1       783:1104  14048:56719           GT:AG      61021  \n2            NaN          NaN             NaN         -1  \n3            1:1        15:19           GT:AG         21  \n4          17:18      433:484           GC:AG        526  \n...          ...          ...             ...        ...  \n517017       NaN          NaN             NaN         -1  \n517018       NaN          NaN             NaN         -1  \n517019       NaN          NaN             NaN         -1  \n517020       NaN          NaN             NaN         -1  \n517021       NaN          NaN             NaN         -1  \n\n[517022 rows x 11 columns]",
      "text/html": "<div>\n<style scoped>\n    .dataframe tbody tr th:only-of-type {\n        vertical-align: middle;\n    }\n\n    .dataframe tbody tr th {\n        vertical-align: top;\n    }\n\n    .dataframe thead th {\n        text-align: right;\n    }\n</style>\n<table border=\"1\" class=\"dataframe\">\n  <thead>\n    <tr style=\"text-align: right;\">\n      <th></th>\n      <th>chrom</th>\n      <th>intron_start</th>\n      <th>intron_ends</th>\n      <th>strand</th>\n      <th>Duplicate_Count</th>\n      <th>Repeat_overlaps</th>\n      <th>GTExv2</th>\n      <th>TCGAv2</th>\n      <th>SRAv3h</th>\n      <th>RC3-Splice_site</th>\n      <th>RC3-Score</th>\n    </tr>\n  </thead>\n  <tbody>\n    <tr>\n      <th>0</th>\n      <td>chr1</td>\n      <td>12227</td>\n      <td>12612</td>\n      <td>+</td>\n      <td>2</td>\n      <td>[]</td>\n      <td>1122:3199</td>\n      <td>583:1460</td>\n      <td>9374:54492</td>\n      <td>GT:AG</td>\n      <td>59151</td>\n    </tr>\n    <tr>\n      <th>1</th>\n      <td>chr1</td>\n      <td>12721</td>\n      <td>13220</td>\n      <td>+</td>\n      <td>1</td>\n      <td>[]</td>\n      <td>1791:3198</td>\n      <td>783:1104</td>\n      <td>14048:56719</td>\n      <td>GT:AG</td>\n      <td>61021</td>\n    </tr>\n    <tr>\n      <th>2</th>\n      <td>chr1</td>\n      <td>12057</td>\n      <td>12178</td>\n      <td>+</td>\n      <td>1</td>\n      <td>[]</td>\n      <td>NaN</td>\n      <td>NaN</td>\n      <td>NaN</td>\n      <td>NaN</td>\n      <td>-1</td>\n    </tr>\n    <tr>\n      <th>3</th>\n      <td>chr1</td>\n      <td>12697</td>\n      <td>12974</td>\n      <td>+</td>\n      <td>1</td>\n      <td>[]</td>\n      <td>1:1</td>\n      <td>1:1</td>\n      <td>15:19</td>\n      <td>GT:AG</td>\n      <td>21</td>\n    </tr>\n    <tr>\n      <th>4</th>\n      <td>chr1</td>\n      <td>13052</td>\n      <td>13220</td>\n      <td>+</td>\n      <td>1</td>\n      <td>[]</td>\n      <td>22:24</td>\n      <td>17:18</td>\n      <td>433:484</td>\n      <td>GC:AG</td>\n      <td>526</td>\n    </tr>\n    <tr>\n      <th>...</th>\n      <td>...</td>\n      <td>...</td>\n      <td>...</td>\n      <td>...</td>\n      <td>...</td>\n      <td>...</td>\n      <td>...</td>\n      <td>...</td>\n      <td>...</td>\n      <td>...</td>\n      <td>...</td>\n    </tr>\n    <tr>\n      <th>517017</th>\n      <td>chrY</td>\n      <td>15955</td>\n      <td>57212183</td>\n      <td>-</td>\n      <td>1</td>\n      <td>['Centromere', 'Dust', 'Low complexity regions...</td>\n      <td>NaN</td>\n      <td>NaN</td>\n      <td>NaN</td>\n      <td>NaN</td>\n      <td>-1</td>\n    </tr>\n    <tr>\n      <th>517018</th>\n      <td>chrY</td>\n      <td>57213125</td>\n      <td>57213203</td>\n      <td>-</td>\n      <td>1</td>\n      <td>[]</td>\n      <td>NaN</td>\n      <td>NaN</td>\n      <td>NaN</td>\n      <td>NaN</td>\n      <td>-1</td>\n    </tr>\n    <tr>\n      <th>517019</th>\n      <td>chrY</td>\n      <td>57213357</td>\n      <td>57213525</td>\n      <td>-</td>\n      <td>1</td>\n      <td>[]</td>\n      <td>NaN</td>\n      <td>NaN</td>\n      <td>NaN</td>\n      <td>NaN</td>\n      <td>-1</td>\n    </tr>\n    <tr>\n      <th>517020</th>\n      <td>chrY</td>\n      <td>57213602</td>\n      <td>57213879</td>\n      <td>-</td>\n      <td>1</td>\n      <td>[]</td>\n      <td>NaN</td>\n      <td>NaN</td>\n      <td>NaN</td>\n      <td>NaN</td>\n      <td>-1</td>\n    </tr>\n    <tr>\n      <th>517021</th>\n      <td>chrY</td>\n      <td>57213964</td>\n      <td>57214349</td>\n      <td>-</td>\n      <td>1</td>\n      <td>[]</td>\n      <td>NaN</td>\n      <td>NaN</td>\n      <td>NaN</td>\n      <td>NaN</td>\n      <td>-1</td>\n    </tr>\n  </tbody>\n</table>\n<p>517022 rows × 11 columns</p>\n</div>"
     },
     "execution_count": 2,
     "metadata": {},
     "output_type": "execute_result"
    }
   ],
   "source": [
    "df = pd.read_csv(\"Featurized_gencode_introns\")\n",
    "df"
   ],
   "metadata": {
    "collapsed": false
   }
  },
  {
   "cell_type": "code",
   "execution_count": 20,
   "outputs": [
    {
     "name": "stdout",
     "output_type": "stream",
     "text": [
      "chrom                    chr1\n",
      "intron_start            12227\n",
      "intron_ends             12612\n",
      "strand                      +\n",
      "Duplicate_Count             2\n",
      "Repeat_overlaps            []\n",
      "GTExv2              1122:3199\n",
      "TCGAv2               583:1460\n",
      "SRAv3h             9374:54492\n",
      "RC3-Splice_site         GT:AG\n",
      "RC3-Score               59151\n",
      "Name: 0, dtype: object\n",
      "ATTGGAGGAAAGATGAGTGAGAGCATCAACTTCTCTCACAACCTAGGCCAGTAAGTAGTGCTTGTGCTCATCTCCTTGGCTGTGATACGTGGCCGGCCCTCGCTCCAGCAGCTGGACCCCTACCTGCCGTCTGCTGCCATCGGAGCCCAAAGCCGGGCTGTGACTGCTCAGACCAGCCGGCTGGAGGGAGGGGCTCAGCAGGTCTGGCTTTGGCCCTGGGAGAGCAGGTGGAAGATCAGGCAGGCCATCGCTGCCACAGAACCCAGTGGATTGGCCTAGGTGGGATCTCTGAGCTCAACAAGCCCTCTCTGGGTGGTAGGTGCAGAGACGGGAGGGGCAGAGCCGCAGGCACAGCCAAGAGGGCTGAAGAAATGGTAGAACGGAGCAGCTGGTGATGTGTGGGCCCACCGGCCCCAGGCTCCTGTCTCCCCCCAGGTGTGTGGTGATGCCAGGCATGCCCTTCCCCAGCATCAGGTCTCCAGAGC\n"
     ]
    }
   ],
   "source": [
    "# This is downloaded in https://hgdownload.soe.ucsc.edu/goldenPath/hg38/bigZips/\n",
    "genome = Fasta('./release-109-hg38/hg38.fa', sequence_always_upper=True)\n",
    "\n",
    "# A simple lambda function for matching the chromosome, start and end\n",
    "coords_to_dna = lambda start, end, chr: genome[chr][start-50:end+50]\n",
    "seq_lst = []\n",
    "\n",
    "for index, rows in (df.iterrows()):\n",
    "    print(rows)\n",
    "    chromosome = rows.chrom\n",
    "    start = rows.intron_start\n",
    "    stop = rows.intron_ends\n",
    "    strand = rows.strand\n",
    "\n",
    "\n",
    "    # Send the API request and get the response\n",
    "    seq = str(coords_to_dna(int(start), int(stop), chromosome))\n",
    "    print(seq)\n",
    "    # If the response was successful (i.e. the status code is 200)\n",
    "\n",
    "    if strand == \"-\": #strand\n",
    "        seq = Seq(seq)  # Encode the seqeunce into\n",
    "        seq = seq.reverse_complement()\n",
    "\n",
    "\n",
    "    seq_lst.append(str(seq))\n",
    "    break"
   ],
   "metadata": {
    "collapsed": false
   }
  },
  {
   "cell_type": "code",
   "execution_count": null,
   "outputs": [],
   "source": [
    "!minimap2 -ax map-pb -t 12 release-109-hg38/hg38.fa long-read-sim/sd_0001.fastq > alignment_pacbio.sam"
   ],
   "metadata": {
    "collapsed": false
   }
  },
  {
   "cell_type": "code",
   "execution_count": null,
   "outputs": [],
   "source": [
    "!minimap2 -ax map-pb -t 12 release-109-hg38/hg38.fa merged_reads.fastq > alignment_pacbio.sam"
   ],
   "metadata": {
    "collapsed": false
   }
  },
  {
   "cell_type": "code",
   "execution_count": null,
   "outputs": [],
   "source": [
    "!samtools view -bS alignment_pacbio.sam > alignment_pacbio.bam"
   ],
   "metadata": {
    "collapsed": false
   }
  },
  {
   "cell_type": "code",
   "execution_count": null,
   "outputs": [],
   "source": [
    "!samtools sort alignment_pacbio.bam -o sorted_alignment_pacbio.bam\n",
    "!samtools index sorted_alignment_pacbio.bam"
   ],
   "metadata": {
    "collapsed": false
   }
  }
 ],
 "metadata": {
  "kernelspec": {
   "display_name": "Python 3",
   "language": "python",
   "name": "python3"
  },
  "language_info": {
   "codemirror_mode": {
    "name": "ipython",
    "version": 2
   },
   "file_extension": ".py",
   "mimetype": "text/x-python",
   "name": "python",
   "nbconvert_exporter": "python",
   "pygments_lexer": "ipython2",
   "version": "2.7.6"
  }
 },
 "nbformat": 4,
 "nbformat_minor": 0
}
