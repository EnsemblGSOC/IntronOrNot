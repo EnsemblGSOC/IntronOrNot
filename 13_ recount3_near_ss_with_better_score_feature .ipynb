{
 "cells": [
  {
   "cell_type": "code",
   "execution_count": 1,
   "metadata": {
    "collapsed": true,
    "is_executing": true
   },
   "outputs": [],
   "source": [
    "import pandas as pd\n",
    "from tqdm import tqdm\n",
    "from pandarallel import pandarallel"
   ]
  },
  {
   "cell_type": "code",
   "execution_count": 2,
   "outputs": [
    {
     "data": {
      "text/plain": "         chr     start       end strand  RC3-Score\n0       chr1     12227     12612      +      59151\n1       chr1     12721     13220      +      61021\n2       chr1     12057     12178      +         -1\n3       chr1     12697     12974      +         21\n4       chr1     13052     13220      +        526\n...      ...       ...       ...    ...        ...\n499138  chrY  24883840  24886132      +         -1\n499139  chrY  24888605  24889352      +         -1\n499140  chrY  24889386  24901111      +         -1\n499141  chrY  24833970  24840730      +         -1\n499142  chrY  24871607  24895696      +         -1\n\n[499143 rows x 5 columns]",
      "text/html": "<div>\n<style scoped>\n    .dataframe tbody tr th:only-of-type {\n        vertical-align: middle;\n    }\n\n    .dataframe tbody tr th {\n        vertical-align: top;\n    }\n\n    .dataframe thead th {\n        text-align: right;\n    }\n</style>\n<table border=\"1\" class=\"dataframe\">\n  <thead>\n    <tr style=\"text-align: right;\">\n      <th></th>\n      <th>chr</th>\n      <th>start</th>\n      <th>end</th>\n      <th>strand</th>\n      <th>RC3-Score</th>\n    </tr>\n  </thead>\n  <tbody>\n    <tr>\n      <th>0</th>\n      <td>chr1</td>\n      <td>12227</td>\n      <td>12612</td>\n      <td>+</td>\n      <td>59151</td>\n    </tr>\n    <tr>\n      <th>1</th>\n      <td>chr1</td>\n      <td>12721</td>\n      <td>13220</td>\n      <td>+</td>\n      <td>61021</td>\n    </tr>\n    <tr>\n      <th>2</th>\n      <td>chr1</td>\n      <td>12057</td>\n      <td>12178</td>\n      <td>+</td>\n      <td>-1</td>\n    </tr>\n    <tr>\n      <th>3</th>\n      <td>chr1</td>\n      <td>12697</td>\n      <td>12974</td>\n      <td>+</td>\n      <td>21</td>\n    </tr>\n    <tr>\n      <th>4</th>\n      <td>chr1</td>\n      <td>13052</td>\n      <td>13220</td>\n      <td>+</td>\n      <td>526</td>\n    </tr>\n    <tr>\n      <th>...</th>\n      <td>...</td>\n      <td>...</td>\n      <td>...</td>\n      <td>...</td>\n      <td>...</td>\n    </tr>\n    <tr>\n      <th>499138</th>\n      <td>chrY</td>\n      <td>24883840</td>\n      <td>24886132</td>\n      <td>+</td>\n      <td>-1</td>\n    </tr>\n    <tr>\n      <th>499139</th>\n      <td>chrY</td>\n      <td>24888605</td>\n      <td>24889352</td>\n      <td>+</td>\n      <td>-1</td>\n    </tr>\n    <tr>\n      <th>499140</th>\n      <td>chrY</td>\n      <td>24889386</td>\n      <td>24901111</td>\n      <td>+</td>\n      <td>-1</td>\n    </tr>\n    <tr>\n      <th>499141</th>\n      <td>chrY</td>\n      <td>24833970</td>\n      <td>24840730</td>\n      <td>+</td>\n      <td>-1</td>\n    </tr>\n    <tr>\n      <th>499142</th>\n      <td>chrY</td>\n      <td>24871607</td>\n      <td>24895696</td>\n      <td>+</td>\n      <td>-1</td>\n    </tr>\n  </tbody>\n</table>\n<p>499143 rows × 5 columns</p>\n</div>"
     },
     "execution_count": 2,
     "metadata": {},
     "output_type": "execute_result"
    }
   ],
   "source": [
    "df = pd.read_csv(\"data/4.2_hg38_paired_introns.tsv\", sep=\"\\t\", usecols=[\"chr\",\"start\",\"end\",\"strand\",\"RC3-Score\"])\n",
    "df"
   ],
   "metadata": {
    "collapsed": false
   }
  },
  {
   "cell_type": "code",
   "execution_count": 3,
   "outputs": [],
   "source": [
    "gap = 10"
   ],
   "metadata": {
    "collapsed": false
   }
  },
  {
   "cell_type": "code",
   "execution_count": 4,
   "outputs": [],
   "source": [
    "def matchrc(row):\n",
    "    potential_matches = !tabix ftp-data/recount3.bed.gz {row.chr}:{row.start-gap}-{row.start+gap} | cut -f 2,5\n",
    "\n",
    "\n",
    "    potential_matches = [\n",
    "        (int(entry.split('\\t')[0]), int(entry.split('\\t')[1]))\n",
    "        for entry in potential_matches\n",
    "        if row['start'] - 5 <= int(entry.split('\\t')[0]) <= row['start'] + 5 and int(entry.split('\\t')[1]) > row[\"RC3-Score\"]\n",
    "    ]\n",
    "    if potential_matches:\n",
    "        return True\n",
    "    return False\n",
    "\n"
   ],
   "metadata": {
    "collapsed": false
   }
  },
  {
   "cell_type": "code",
   "execution_count": 5,
   "outputs": [
    {
     "name": "stdout",
     "output_type": "stream",
     "text": [
      "INFO: Pandarallel will run on 12 workers.\n",
      "INFO: Pandarallel will use Memory file system to transfer data between the main process and workers.\n"
     ]
    }
   ],
   "source": [
    "pandarallel.initialize(nb_workers=12)"
   ],
   "metadata": {
    "collapsed": false
   }
  },
  {
   "cell_type": "code",
   "execution_count": 6,
   "outputs": [
    {
     "name": "stdout",
     "output_type": "stream",
     "text": [
      "CPU times: user 15 ms, sys: 37 ms, total: 52 ms\n",
      "Wall time: 980 ms\n"
     ]
    },
    {
     "data": {
      "text/plain": "      chr    start      end strand  RC3-Score  better_match_5\n0    chr1    12227    12612      +      59151           False\n1    chr1    12721    13220      +      61021            True\n2    chr1    12057    12178      +         -1           False\n3    chr1    12697    12974      +         21            True\n4    chr1    13052    13220      +        526           False\n..    ...      ...      ...    ...        ...             ...\n995  chr1  1817875  1839189      -      24700            True\n996  chr1  1839238  1891024      -         -1            True\n997  chr1  1839238  1853151      -     561893            True\n998  chr1  1853297  1890819      -     389375           False\n999  chr1  1848529  1853151      -      83748            True\n\n[1000 rows x 6 columns]",
      "text/html": "<div>\n<style scoped>\n    .dataframe tbody tr th:only-of-type {\n        vertical-align: middle;\n    }\n\n    .dataframe tbody tr th {\n        vertical-align: top;\n    }\n\n    .dataframe thead th {\n        text-align: right;\n    }\n</style>\n<table border=\"1\" class=\"dataframe\">\n  <thead>\n    <tr style=\"text-align: right;\">\n      <th></th>\n      <th>chr</th>\n      <th>start</th>\n      <th>end</th>\n      <th>strand</th>\n      <th>RC3-Score</th>\n      <th>better_match_5</th>\n    </tr>\n  </thead>\n  <tbody>\n    <tr>\n      <th>0</th>\n      <td>chr1</td>\n      <td>12227</td>\n      <td>12612</td>\n      <td>+</td>\n      <td>59151</td>\n      <td>False</td>\n    </tr>\n    <tr>\n      <th>1</th>\n      <td>chr1</td>\n      <td>12721</td>\n      <td>13220</td>\n      <td>+</td>\n      <td>61021</td>\n      <td>True</td>\n    </tr>\n    <tr>\n      <th>2</th>\n      <td>chr1</td>\n      <td>12057</td>\n      <td>12178</td>\n      <td>+</td>\n      <td>-1</td>\n      <td>False</td>\n    </tr>\n    <tr>\n      <th>3</th>\n      <td>chr1</td>\n      <td>12697</td>\n      <td>12974</td>\n      <td>+</td>\n      <td>21</td>\n      <td>True</td>\n    </tr>\n    <tr>\n      <th>4</th>\n      <td>chr1</td>\n      <td>13052</td>\n      <td>13220</td>\n      <td>+</td>\n      <td>526</td>\n      <td>False</td>\n    </tr>\n    <tr>\n      <th>...</th>\n      <td>...</td>\n      <td>...</td>\n      <td>...</td>\n      <td>...</td>\n      <td>...</td>\n      <td>...</td>\n    </tr>\n    <tr>\n      <th>995</th>\n      <td>chr1</td>\n      <td>1817875</td>\n      <td>1839189</td>\n      <td>-</td>\n      <td>24700</td>\n      <td>True</td>\n    </tr>\n    <tr>\n      <th>996</th>\n      <td>chr1</td>\n      <td>1839238</td>\n      <td>1891024</td>\n      <td>-</td>\n      <td>-1</td>\n      <td>True</td>\n    </tr>\n    <tr>\n      <th>997</th>\n      <td>chr1</td>\n      <td>1839238</td>\n      <td>1853151</td>\n      <td>-</td>\n      <td>561893</td>\n      <td>True</td>\n    </tr>\n    <tr>\n      <th>998</th>\n      <td>chr1</td>\n      <td>1853297</td>\n      <td>1890819</td>\n      <td>-</td>\n      <td>389375</td>\n      <td>False</td>\n    </tr>\n    <tr>\n      <th>999</th>\n      <td>chr1</td>\n      <td>1848529</td>\n      <td>1853151</td>\n      <td>-</td>\n      <td>83748</td>\n      <td>True</td>\n    </tr>\n  </tbody>\n</table>\n<p>1000 rows × 6 columns</p>\n</div>"
     },
     "execution_count": 6,
     "metadata": {},
     "output_type": "execute_result"
    }
   ],
   "source": [
    "%%time\n",
    "df_test = df.copy().head(1000)\n",
    "df_test[\"better_match_5\"] = df_test.parallel_apply(matchrc, axis=1)\n",
    "df_test"
   ],
   "metadata": {
    "collapsed": false
   }
  },
  {
   "cell_type": "code",
   "execution_count": 7,
   "outputs": [],
   "source": [
    "del df_test"
   ],
   "metadata": {
    "collapsed": false
   }
  },
  {
   "cell_type": "code",
   "execution_count": 8,
   "outputs": [
    {
     "name": "stdout",
     "output_type": "stream",
     "text": [
      "CPU times: user 28.5 ms, sys: 43 ms, total: 71.6 ms\n",
      "Wall time: 5min 3s\n"
     ]
    },
    {
     "data": {
      "text/plain": "         chr     start       end strand  RC3-Score  better_match_5nt_start_ss\n0       chr1     12227     12612      +      59151                      False\n1       chr1     12721     13220      +      61021                       True\n2       chr1     12057     12178      +         -1                      False\n3       chr1     12697     12974      +         21                       True\n4       chr1     13052     13220      +        526                      False\n...      ...       ...       ...    ...        ...                        ...\n499138  chrY  24883840  24886132      +         -1                       True\n499139  chrY  24888605  24889352      +         -1                       True\n499140  chrY  24889386  24901111      +         -1                      False\n499141  chrY  24833970  24840730      +         -1                      False\n499142  chrY  24871607  24895696      +         -1                      False\n\n[499143 rows x 6 columns]",
      "text/html": "<div>\n<style scoped>\n    .dataframe tbody tr th:only-of-type {\n        vertical-align: middle;\n    }\n\n    .dataframe tbody tr th {\n        vertical-align: top;\n    }\n\n    .dataframe thead th {\n        text-align: right;\n    }\n</style>\n<table border=\"1\" class=\"dataframe\">\n  <thead>\n    <tr style=\"text-align: right;\">\n      <th></th>\n      <th>chr</th>\n      <th>start</th>\n      <th>end</th>\n      <th>strand</th>\n      <th>RC3-Score</th>\n      <th>better_match_5nt_start_ss</th>\n    </tr>\n  </thead>\n  <tbody>\n    <tr>\n      <th>0</th>\n      <td>chr1</td>\n      <td>12227</td>\n      <td>12612</td>\n      <td>+</td>\n      <td>59151</td>\n      <td>False</td>\n    </tr>\n    <tr>\n      <th>1</th>\n      <td>chr1</td>\n      <td>12721</td>\n      <td>13220</td>\n      <td>+</td>\n      <td>61021</td>\n      <td>True</td>\n    </tr>\n    <tr>\n      <th>2</th>\n      <td>chr1</td>\n      <td>12057</td>\n      <td>12178</td>\n      <td>+</td>\n      <td>-1</td>\n      <td>False</td>\n    </tr>\n    <tr>\n      <th>3</th>\n      <td>chr1</td>\n      <td>12697</td>\n      <td>12974</td>\n      <td>+</td>\n      <td>21</td>\n      <td>True</td>\n    </tr>\n    <tr>\n      <th>4</th>\n      <td>chr1</td>\n      <td>13052</td>\n      <td>13220</td>\n      <td>+</td>\n      <td>526</td>\n      <td>False</td>\n    </tr>\n    <tr>\n      <th>...</th>\n      <td>...</td>\n      <td>...</td>\n      <td>...</td>\n      <td>...</td>\n      <td>...</td>\n      <td>...</td>\n    </tr>\n    <tr>\n      <th>499138</th>\n      <td>chrY</td>\n      <td>24883840</td>\n      <td>24886132</td>\n      <td>+</td>\n      <td>-1</td>\n      <td>True</td>\n    </tr>\n    <tr>\n      <th>499139</th>\n      <td>chrY</td>\n      <td>24888605</td>\n      <td>24889352</td>\n      <td>+</td>\n      <td>-1</td>\n      <td>True</td>\n    </tr>\n    <tr>\n      <th>499140</th>\n      <td>chrY</td>\n      <td>24889386</td>\n      <td>24901111</td>\n      <td>+</td>\n      <td>-1</td>\n      <td>False</td>\n    </tr>\n    <tr>\n      <th>499141</th>\n      <td>chrY</td>\n      <td>24833970</td>\n      <td>24840730</td>\n      <td>+</td>\n      <td>-1</td>\n      <td>False</td>\n    </tr>\n    <tr>\n      <th>499142</th>\n      <td>chrY</td>\n      <td>24871607</td>\n      <td>24895696</td>\n      <td>+</td>\n      <td>-1</td>\n      <td>False</td>\n    </tr>\n  </tbody>\n</table>\n<p>499143 rows × 6 columns</p>\n</div>"
     },
     "execution_count": 8,
     "metadata": {},
     "output_type": "execute_result"
    }
   ],
   "source": [
    "%%time\n",
    "df[\"better_match_5nt_start_ss\"] = df.parallel_apply(matchrc, axis=1)\n",
    "df"
   ],
   "metadata": {
    "collapsed": false
   }
  },
  {
   "cell_type": "code",
   "execution_count": 9,
   "outputs": [],
   "source": [
    "def matchrc_end(row):\n",
    "    potential_matches = !tabix ftp-data/recount3.bed.gz {row.chr}:{row.end-gap}-{row.end+gap} | cut -f 2,5\n",
    "\n",
    "\n",
    "    potential_matches = [\n",
    "        (int(entry.split('\\t')[0]), int(entry.split('\\t')[1]))\n",
    "        for entry in potential_matches\n",
    "        if row['end'] - 5 <= int(entry.split('\\t')[0]) <= row['end'] + 5 and int(entry.split('\\t')[1]) > row[\"RC3-Score\"]\n",
    "    ]\n",
    "    if potential_matches:\n",
    "        return True\n",
    "    return False"
   ],
   "metadata": {
    "collapsed": false
   }
  },
  {
   "cell_type": "code",
   "execution_count": 10,
   "outputs": [
    {
     "name": "stdout",
     "output_type": "stream",
     "text": [
      "CPU times: user 28.9 ms, sys: 38.4 ms, total: 67.3 ms\n",
      "Wall time: 5min 5s\n"
     ]
    },
    {
     "data": {
      "text/plain": "         chr     start       end strand  RC3-Score  better_match_5nt_start_ss  \\\n0       chr1     12227     12612      +      59151                      False   \n1       chr1     12721     13220      +      61021                       True   \n2       chr1     12057     12178      +         -1                      False   \n3       chr1     12697     12974      +         21                       True   \n4       chr1     13052     13220      +        526                      False   \n...      ...       ...       ...    ...        ...                        ...   \n499138  chrY  24883840  24886132      +         -1                       True   \n499139  chrY  24888605  24889352      +         -1                       True   \n499140  chrY  24889386  24901111      +         -1                      False   \n499141  chrY  24833970  24840730      +         -1                      False   \n499142  chrY  24871607  24895696      +         -1                      False   \n\n        better_match_5nt_end_ss  \n0                         False  \n1                         False  \n2                         False  \n3                         False  \n4                         False  \n...                         ...  \n499138                    False  \n499139                    False  \n499140                    False  \n499141                    False  \n499142                    False  \n\n[499143 rows x 7 columns]",
      "text/html": "<div>\n<style scoped>\n    .dataframe tbody tr th:only-of-type {\n        vertical-align: middle;\n    }\n\n    .dataframe tbody tr th {\n        vertical-align: top;\n    }\n\n    .dataframe thead th {\n        text-align: right;\n    }\n</style>\n<table border=\"1\" class=\"dataframe\">\n  <thead>\n    <tr style=\"text-align: right;\">\n      <th></th>\n      <th>chr</th>\n      <th>start</th>\n      <th>end</th>\n      <th>strand</th>\n      <th>RC3-Score</th>\n      <th>better_match_5nt_start_ss</th>\n      <th>better_match_5nt_end_ss</th>\n    </tr>\n  </thead>\n  <tbody>\n    <tr>\n      <th>0</th>\n      <td>chr1</td>\n      <td>12227</td>\n      <td>12612</td>\n      <td>+</td>\n      <td>59151</td>\n      <td>False</td>\n      <td>False</td>\n    </tr>\n    <tr>\n      <th>1</th>\n      <td>chr1</td>\n      <td>12721</td>\n      <td>13220</td>\n      <td>+</td>\n      <td>61021</td>\n      <td>True</td>\n      <td>False</td>\n    </tr>\n    <tr>\n      <th>2</th>\n      <td>chr1</td>\n      <td>12057</td>\n      <td>12178</td>\n      <td>+</td>\n      <td>-1</td>\n      <td>False</td>\n      <td>False</td>\n    </tr>\n    <tr>\n      <th>3</th>\n      <td>chr1</td>\n      <td>12697</td>\n      <td>12974</td>\n      <td>+</td>\n      <td>21</td>\n      <td>True</td>\n      <td>False</td>\n    </tr>\n    <tr>\n      <th>4</th>\n      <td>chr1</td>\n      <td>13052</td>\n      <td>13220</td>\n      <td>+</td>\n      <td>526</td>\n      <td>False</td>\n      <td>False</td>\n    </tr>\n    <tr>\n      <th>...</th>\n      <td>...</td>\n      <td>...</td>\n      <td>...</td>\n      <td>...</td>\n      <td>...</td>\n      <td>...</td>\n      <td>...</td>\n    </tr>\n    <tr>\n      <th>499138</th>\n      <td>chrY</td>\n      <td>24883840</td>\n      <td>24886132</td>\n      <td>+</td>\n      <td>-1</td>\n      <td>True</td>\n      <td>False</td>\n    </tr>\n    <tr>\n      <th>499139</th>\n      <td>chrY</td>\n      <td>24888605</td>\n      <td>24889352</td>\n      <td>+</td>\n      <td>-1</td>\n      <td>True</td>\n      <td>False</td>\n    </tr>\n    <tr>\n      <th>499140</th>\n      <td>chrY</td>\n      <td>24889386</td>\n      <td>24901111</td>\n      <td>+</td>\n      <td>-1</td>\n      <td>False</td>\n      <td>False</td>\n    </tr>\n    <tr>\n      <th>499141</th>\n      <td>chrY</td>\n      <td>24833970</td>\n      <td>24840730</td>\n      <td>+</td>\n      <td>-1</td>\n      <td>False</td>\n      <td>False</td>\n    </tr>\n    <tr>\n      <th>499142</th>\n      <td>chrY</td>\n      <td>24871607</td>\n      <td>24895696</td>\n      <td>+</td>\n      <td>-1</td>\n      <td>False</td>\n      <td>False</td>\n    </tr>\n  </tbody>\n</table>\n<p>499143 rows × 7 columns</p>\n</div>"
     },
     "execution_count": 10,
     "metadata": {},
     "output_type": "execute_result"
    }
   ],
   "source": [
    "%%time\n",
    "df[\"better_match_5nt_end_ss\"] = df.parallel_apply(matchrc_end, axis=1)\n",
    "df"
   ],
   "metadata": {
    "collapsed": false
   }
  },
  {
   "cell_type": "code",
   "execution_count": 11,
   "outputs": [],
   "source": [
    "# output\n",
    "df.to_csv(\"data/4.6-better-nearby-match-and-rc3-10nt.tsv\", sep=\"\\t\", index=False)"
   ],
   "metadata": {
    "collapsed": false
   }
  },
  {
   "cell_type": "code",
   "execution_count": 11,
   "outputs": [],
   "source": [],
   "metadata": {
    "collapsed": false
   }
  }
 ],
 "metadata": {
  "kernelspec": {
   "display_name": "Python 3",
   "language": "python",
   "name": "python3"
  },
  "language_info": {
   "codemirror_mode": {
    "name": "ipython",
    "version": 2
   },
   "file_extension": ".py",
   "mimetype": "text/x-python",
   "name": "python",
   "nbconvert_exporter": "python",
   "pygments_lexer": "ipython2",
   "version": "2.7.6"
  }
 },
 "nbformat": 4,
 "nbformat_minor": 0
}
