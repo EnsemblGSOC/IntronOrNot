{
 "cells": [
  {
   "cell_type": "code",
   "execution_count": 1,
   "metadata": {
    "collapsed": true
   },
   "outputs": [],
   "source": [
    "import numpy as np\n",
    "import pandas as pd\n",
    "from sklearn.model_selection import train_test_split\n",
    "from sklearn import preprocessing\n",
    "from sklearn.model_selection import StratifiedKFold\n",
    "from sklearn.metrics import accuracy_score, roc_auc_score, balanced_accuracy_score, precision_score, matthews_corrcoef, confusion_matrix\n",
    "from xgboost import XGBClassifier"
   ]
  },
  {
   "cell_type": "code",
   "execution_count": 2,
   "outputs": [
    {
     "data": {
      "text/plain": "         chr     start       end strand  Duplicate_Count\n0       chr1     12227     12612      +                2\n1       chr1     12721     13220      +                1\n2       chr1     12057     12178      +                1\n3       chr1     12697     12974      +                1\n4       chr1     13052     13220      +                1\n...      ...       ...       ...    ...              ...\n517017  chrY     15955  57212183      -                1\n517018  chrY  57213125  57213203      -                1\n517019  chrY  57213357  57213525      -                1\n517020  chrY  57213602  57213879      -                1\n517021  chrY  57213964  57214349      -                1\n\n[517022 rows x 5 columns]",
      "text/html": "<div>\n<style scoped>\n    .dataframe tbody tr th:only-of-type {\n        vertical-align: middle;\n    }\n\n    .dataframe tbody tr th {\n        vertical-align: top;\n    }\n\n    .dataframe thead th {\n        text-align: right;\n    }\n</style>\n<table border=\"1\" class=\"dataframe\">\n  <thead>\n    <tr style=\"text-align: right;\">\n      <th></th>\n      <th>chr</th>\n      <th>start</th>\n      <th>end</th>\n      <th>strand</th>\n      <th>Duplicate_Count</th>\n    </tr>\n  </thead>\n  <tbody>\n    <tr>\n      <th>0</th>\n      <td>chr1</td>\n      <td>12227</td>\n      <td>12612</td>\n      <td>+</td>\n      <td>2</td>\n    </tr>\n    <tr>\n      <th>1</th>\n      <td>chr1</td>\n      <td>12721</td>\n      <td>13220</td>\n      <td>+</td>\n      <td>1</td>\n    </tr>\n    <tr>\n      <th>2</th>\n      <td>chr1</td>\n      <td>12057</td>\n      <td>12178</td>\n      <td>+</td>\n      <td>1</td>\n    </tr>\n    <tr>\n      <th>3</th>\n      <td>chr1</td>\n      <td>12697</td>\n      <td>12974</td>\n      <td>+</td>\n      <td>1</td>\n    </tr>\n    <tr>\n      <th>4</th>\n      <td>chr1</td>\n      <td>13052</td>\n      <td>13220</td>\n      <td>+</td>\n      <td>1</td>\n    </tr>\n    <tr>\n      <th>...</th>\n      <td>...</td>\n      <td>...</td>\n      <td>...</td>\n      <td>...</td>\n      <td>...</td>\n    </tr>\n    <tr>\n      <th>517017</th>\n      <td>chrY</td>\n      <td>15955</td>\n      <td>57212183</td>\n      <td>-</td>\n      <td>1</td>\n    </tr>\n    <tr>\n      <th>517018</th>\n      <td>chrY</td>\n      <td>57213125</td>\n      <td>57213203</td>\n      <td>-</td>\n      <td>1</td>\n    </tr>\n    <tr>\n      <th>517019</th>\n      <td>chrY</td>\n      <td>57213357</td>\n      <td>57213525</td>\n      <td>-</td>\n      <td>1</td>\n    </tr>\n    <tr>\n      <th>517020</th>\n      <td>chrY</td>\n      <td>57213602</td>\n      <td>57213879</td>\n      <td>-</td>\n      <td>1</td>\n    </tr>\n    <tr>\n      <th>517021</th>\n      <td>chrY</td>\n      <td>57213964</td>\n      <td>57214349</td>\n      <td>-</td>\n      <td>1</td>\n    </tr>\n  </tbody>\n</table>\n<p>517022 rows × 5 columns</p>\n</div>"
     },
     "execution_count": 2,
     "metadata": {},
     "output_type": "execute_result"
    }
   ],
   "source": [
    "df_featurized_gencode = pd.read_csv(\"data/1-rmv_dup_introns_gencode_v44.tsv\", sep=\"\\t\")\n",
    "df_featurized_gencode"
   ],
   "metadata": {
    "collapsed": false
   }
  },
  {
   "cell_type": "code",
   "execution_count": 3,
   "outputs": [
    {
     "data": {
      "text/plain": "                          coords   outcome   score  length prev_annot  \\\n0          chr1:261635-267302:-1  accepted     888    5668        yes   \n1          chr1:259026-261549:-1  accepted     650    2524        yes   \n2          chr1:732208-739802:-1  rejected       0    7595         no   \n3          chr1:720201-732016:-1  accepted       0   11816        yes   \n4          chr1:711923-720031:-1  accepted      27    8109        yes   \n...                          ...       ...     ...     ...        ...   \n11005   chrY:20582694-20584473:1  accepted  278936    1780        yes   \n11006   chrY:20584525-20588023:1  accepted  286043    3499        yes   \n11007   chrY:20588106-20589483:1  accepted  444721    1378        yes   \n11008   chrY:20589576-20592340:1  accepted  468983    2765        yes   \n11009  chrY:20726098-20734468:-1  accepted       9    8371         no   \n\n        transcript_source intron_sources splice_site  \\\n0                  SLRseq        SLR,CLS      GT..AG   \n1                  SLRseq        SLR,CLS      GT..AG   \n2      PacBio Capture-seq            CLS      GT..AG   \n3      PacBio Capture-seq            CLS      GT..AG   \n4      PacBio Capture-seq            CLS      GT..AG   \n...                   ...            ...         ...   \n11005  PacBio Capture-seq    SLR,CLS,RAC      GT..AG   \n11006  PacBio Capture-seq    SLR,CLS,RAC      GT..AG   \n11007  PacBio Capture-seq    SLR,CLS,RAC      GT..AG   \n11008  PacBio Capture-seq    SLR,CLS,RAC      GT..AG   \n11009  PacBio Capture-seq            CLS      GT..AG   \n\n                                        repeat_overlap ss_antisense  \\\n0                              Type I Transposons/LINE           no   \n1                              Type I Transposons/LINE           no   \n2                              Type I Transposons/SINE           no   \n3                                  Type II Transposons           no   \n4                                           No overlap           no   \n...                                                ...          ...   \n11005                                       No overlap           no   \n11006                                       No overlap           no   \n11007                                       No overlap           no   \n11008                                       No overlap           no   \n11009  Type I Transposons/LINE,Type I Transposons/SINE           no   \n\n        rej_reason annot_match incorrect_locus opp_strand false_ret_int  \\\n0              NaN         yes              no         no            no   \n1              NaN         yes              no         no            no   \n2              NaN          no              no         no            no   \n3              NaN          no              no         no            no   \n4              NaN          no              no         no            no   \n...            ...         ...             ...        ...           ...   \n11005  seq quality         yes              no         no            no   \n11006  seq quality         yes              no         no            no   \n11007  seq quality         yes              no         no            no   \n11008  seq quality         yes              no         no            no   \n11009          NaN          no              no         no            no   \n\n            transcript_id                             gtype    bbiotype  \\\n0      OTTHUMT00000499557  transcribed_processed_pseudogene  non-coding   \n1      OTTHUMT00000499557  transcribed_processed_pseudogene  non-coding   \n2      OTTHUMT00000500170  transcribed_processed_pseudogene  non-coding   \n3      OTTHUMT00000500170  transcribed_processed_pseudogene  non-coding   \n4      OTTHUMT00000500170  transcribed_processed_pseudogene  non-coding   \n...                   ...                               ...         ...   \n11005  OTTHUMT00000500440                    protein_coding      coding   \n11006  OTTHUMT00000500440                    protein_coding      coding   \n11007  OTTHUMT00000500440                    protein_coding      coding   \n11008  OTTHUMT00000500440                    protein_coding      coding   \n11009  OTTHUMT00000500305                         comp_pipe       novel   \n\n       rel_int_sup  rel_int_sup_k  \n0         0.311999       0.311999  \n1        -0.311999      -0.311999  \n2        -2.525729      -2.708050  \n3        -2.525729      -2.931194  \n4         1.216395       0.810930  \n...            ...            ...  \n11005    -0.141738      -0.364851  \n11006    -0.112146      -0.335259  \n11007     0.433606       0.210496  \n11008     0.503702       0.280593  \n11009          NaN            NaN  \n\n[11010 rows x 20 columns]",
      "text/html": "<div>\n<style scoped>\n    .dataframe tbody tr th:only-of-type {\n        vertical-align: middle;\n    }\n\n    .dataframe tbody tr th {\n        vertical-align: top;\n    }\n\n    .dataframe thead th {\n        text-align: right;\n    }\n</style>\n<table border=\"1\" class=\"dataframe\">\n  <thead>\n    <tr style=\"text-align: right;\">\n      <th></th>\n      <th>coords</th>\n      <th>outcome</th>\n      <th>score</th>\n      <th>length</th>\n      <th>prev_annot</th>\n      <th>transcript_source</th>\n      <th>intron_sources</th>\n      <th>splice_site</th>\n      <th>repeat_overlap</th>\n      <th>ss_antisense</th>\n      <th>rej_reason</th>\n      <th>annot_match</th>\n      <th>incorrect_locus</th>\n      <th>opp_strand</th>\n      <th>false_ret_int</th>\n      <th>transcript_id</th>\n      <th>gtype</th>\n      <th>bbiotype</th>\n      <th>rel_int_sup</th>\n      <th>rel_int_sup_k</th>\n    </tr>\n  </thead>\n  <tbody>\n    <tr>\n      <th>0</th>\n      <td>chr1:261635-267302:-1</td>\n      <td>accepted</td>\n      <td>888</td>\n      <td>5668</td>\n      <td>yes</td>\n      <td>SLRseq</td>\n      <td>SLR,CLS</td>\n      <td>GT..AG</td>\n      <td>Type I Transposons/LINE</td>\n      <td>no</td>\n      <td>NaN</td>\n      <td>yes</td>\n      <td>no</td>\n      <td>no</td>\n      <td>no</td>\n      <td>OTTHUMT00000499557</td>\n      <td>transcribed_processed_pseudogene</td>\n      <td>non-coding</td>\n      <td>0.311999</td>\n      <td>0.311999</td>\n    </tr>\n    <tr>\n      <th>1</th>\n      <td>chr1:259026-261549:-1</td>\n      <td>accepted</td>\n      <td>650</td>\n      <td>2524</td>\n      <td>yes</td>\n      <td>SLRseq</td>\n      <td>SLR,CLS</td>\n      <td>GT..AG</td>\n      <td>Type I Transposons/LINE</td>\n      <td>no</td>\n      <td>NaN</td>\n      <td>yes</td>\n      <td>no</td>\n      <td>no</td>\n      <td>no</td>\n      <td>OTTHUMT00000499557</td>\n      <td>transcribed_processed_pseudogene</td>\n      <td>non-coding</td>\n      <td>-0.311999</td>\n      <td>-0.311999</td>\n    </tr>\n    <tr>\n      <th>2</th>\n      <td>chr1:732208-739802:-1</td>\n      <td>rejected</td>\n      <td>0</td>\n      <td>7595</td>\n      <td>no</td>\n      <td>PacBio Capture-seq</td>\n      <td>CLS</td>\n      <td>GT..AG</td>\n      <td>Type I Transposons/SINE</td>\n      <td>no</td>\n      <td>NaN</td>\n      <td>no</td>\n      <td>no</td>\n      <td>no</td>\n      <td>no</td>\n      <td>OTTHUMT00000500170</td>\n      <td>transcribed_processed_pseudogene</td>\n      <td>non-coding</td>\n      <td>-2.525729</td>\n      <td>-2.708050</td>\n    </tr>\n    <tr>\n      <th>3</th>\n      <td>chr1:720201-732016:-1</td>\n      <td>accepted</td>\n      <td>0</td>\n      <td>11816</td>\n      <td>yes</td>\n      <td>PacBio Capture-seq</td>\n      <td>CLS</td>\n      <td>GT..AG</td>\n      <td>Type II Transposons</td>\n      <td>no</td>\n      <td>NaN</td>\n      <td>no</td>\n      <td>no</td>\n      <td>no</td>\n      <td>no</td>\n      <td>OTTHUMT00000500170</td>\n      <td>transcribed_processed_pseudogene</td>\n      <td>non-coding</td>\n      <td>-2.525729</td>\n      <td>-2.931194</td>\n    </tr>\n    <tr>\n      <th>4</th>\n      <td>chr1:711923-720031:-1</td>\n      <td>accepted</td>\n      <td>27</td>\n      <td>8109</td>\n      <td>yes</td>\n      <td>PacBio Capture-seq</td>\n      <td>CLS</td>\n      <td>GT..AG</td>\n      <td>No overlap</td>\n      <td>no</td>\n      <td>NaN</td>\n      <td>no</td>\n      <td>no</td>\n      <td>no</td>\n      <td>no</td>\n      <td>OTTHUMT00000500170</td>\n      <td>transcribed_processed_pseudogene</td>\n      <td>non-coding</td>\n      <td>1.216395</td>\n      <td>0.810930</td>\n    </tr>\n    <tr>\n      <th>...</th>\n      <td>...</td>\n      <td>...</td>\n      <td>...</td>\n      <td>...</td>\n      <td>...</td>\n      <td>...</td>\n      <td>...</td>\n      <td>...</td>\n      <td>...</td>\n      <td>...</td>\n      <td>...</td>\n      <td>...</td>\n      <td>...</td>\n      <td>...</td>\n      <td>...</td>\n      <td>...</td>\n      <td>...</td>\n      <td>...</td>\n      <td>...</td>\n      <td>...</td>\n    </tr>\n    <tr>\n      <th>11005</th>\n      <td>chrY:20582694-20584473:1</td>\n      <td>accepted</td>\n      <td>278936</td>\n      <td>1780</td>\n      <td>yes</td>\n      <td>PacBio Capture-seq</td>\n      <td>SLR,CLS,RAC</td>\n      <td>GT..AG</td>\n      <td>No overlap</td>\n      <td>no</td>\n      <td>seq quality</td>\n      <td>yes</td>\n      <td>no</td>\n      <td>no</td>\n      <td>no</td>\n      <td>OTTHUMT00000500440</td>\n      <td>protein_coding</td>\n      <td>coding</td>\n      <td>-0.141738</td>\n      <td>-0.364851</td>\n    </tr>\n    <tr>\n      <th>11006</th>\n      <td>chrY:20584525-20588023:1</td>\n      <td>accepted</td>\n      <td>286043</td>\n      <td>3499</td>\n      <td>yes</td>\n      <td>PacBio Capture-seq</td>\n      <td>SLR,CLS,RAC</td>\n      <td>GT..AG</td>\n      <td>No overlap</td>\n      <td>no</td>\n      <td>seq quality</td>\n      <td>yes</td>\n      <td>no</td>\n      <td>no</td>\n      <td>no</td>\n      <td>OTTHUMT00000500440</td>\n      <td>protein_coding</td>\n      <td>coding</td>\n      <td>-0.112146</td>\n      <td>-0.335259</td>\n    </tr>\n    <tr>\n      <th>11007</th>\n      <td>chrY:20588106-20589483:1</td>\n      <td>accepted</td>\n      <td>444721</td>\n      <td>1378</td>\n      <td>yes</td>\n      <td>PacBio Capture-seq</td>\n      <td>SLR,CLS,RAC</td>\n      <td>GT..AG</td>\n      <td>No overlap</td>\n      <td>no</td>\n      <td>seq quality</td>\n      <td>yes</td>\n      <td>no</td>\n      <td>no</td>\n      <td>no</td>\n      <td>OTTHUMT00000500440</td>\n      <td>protein_coding</td>\n      <td>coding</td>\n      <td>0.433606</td>\n      <td>0.210496</td>\n    </tr>\n    <tr>\n      <th>11008</th>\n      <td>chrY:20589576-20592340:1</td>\n      <td>accepted</td>\n      <td>468983</td>\n      <td>2765</td>\n      <td>yes</td>\n      <td>PacBio Capture-seq</td>\n      <td>SLR,CLS,RAC</td>\n      <td>GT..AG</td>\n      <td>No overlap</td>\n      <td>no</td>\n      <td>seq quality</td>\n      <td>yes</td>\n      <td>no</td>\n      <td>no</td>\n      <td>no</td>\n      <td>OTTHUMT00000500440</td>\n      <td>protein_coding</td>\n      <td>coding</td>\n      <td>0.503702</td>\n      <td>0.280593</td>\n    </tr>\n    <tr>\n      <th>11009</th>\n      <td>chrY:20726098-20734468:-1</td>\n      <td>accepted</td>\n      <td>9</td>\n      <td>8371</td>\n      <td>no</td>\n      <td>PacBio Capture-seq</td>\n      <td>CLS</td>\n      <td>GT..AG</td>\n      <td>Type I Transposons/LINE,Type I Transposons/SINE</td>\n      <td>no</td>\n      <td>NaN</td>\n      <td>no</td>\n      <td>no</td>\n      <td>no</td>\n      <td>no</td>\n      <td>OTTHUMT00000500305</td>\n      <td>comp_pipe</td>\n      <td>novel</td>\n      <td>NaN</td>\n      <td>NaN</td>\n    </tr>\n  </tbody>\n</table>\n<p>11010 rows × 20 columns</p>\n</div>"
     },
     "execution_count": 3,
     "metadata": {},
     "output_type": "execute_result"
    }
   ],
   "source": [
    "# Read the original tsv file uploaded into the GSoC ML project repo to extract the rejected introns\n",
    "df_original_test = pd.read_csv(\"ftp-data/gene_annot_test.tsv\", sep=\"\\t\")\n",
    "df_original_test"
   ],
   "metadata": {
    "collapsed": false
   }
  },
  {
   "cell_type": "code",
   "execution_count": 4,
   "outputs": [],
   "source": [
    "df_original_test_rejected = df_original_test[df_original_test.outcome == \"rejected\"]"
   ],
   "metadata": {
    "collapsed": false
   }
  },
  {
   "cell_type": "code",
   "execution_count": 5,
   "outputs": [],
   "source": [
    "drop_idx_lst = []\n",
    "append_lst = []\n",
    "for index, row in df_original_test_rejected.iterrows():\n",
    "\tcoords_split = row.coords.split(\":\")\n",
    "\tchromosome = coords_split[0]\n",
    "\tstart = int(coords_split[1].split(\"-\")[0])-1\n",
    "\tend = int(coords_split[1].split(\"-\")[1])\n",
    "\tstrand = \"+\" if str(coords_split[2]) == \"1\" else \"-\"\n",
    "\tif df_featurized_gencode[(df_featurized_gencode.strand == strand) & (df_featurized_gencode.start == start) & (df_featurized_gencode.end == end) & (df_featurized_gencode.chr == chromosome)].empty:\n",
    "\t\tappend_dict = {\n",
    "\t\t\t\"chr\": chromosome,\n",
    "\t\t\t\"start\": start,\n",
    "\t\t\t\"end\": end,\n",
    "\t\t\t\"strand\": strand,\n",
    "\t\t\t\"Duplicate_Count\": 1\n",
    "\t\t}\n",
    "\t\tappend_lst.append(append_dict)\n",
    "\telse:\n",
    "\t\t# print(df_featurized_gencode[(df_featurized_gencode.strand == strand) & (df_featurized_gencode.start == start-1) & (df_featurized_gencode.end == end) & (df_featurized_gencode.chr == chromosome)])\n",
    "\t\tdrop_idx_lst.append(index)\n"
   ],
   "metadata": {
    "collapsed": false
   }
  },
  {
   "cell_type": "markdown",
   "source": [
    "## These are the entries that were rejected from the original dict but accepted in the latest version"
   ],
   "metadata": {
    "collapsed": false
   }
  },
  {
   "cell_type": "code",
   "execution_count": 6,
   "outputs": [
    {
     "data": {
      "text/plain": "                           coords   outcome  score  length prev_annot  \\\n882     chr10:72275560-72275899:1  rejected     82     340         no   \n1285   chr11:26567140-26569473:-1  rejected     76    2334         no   \n2623    chr15:61861626-61890833:1  rejected      0   29208         no   \n2624    chr15:61890863-61894121:1  rejected      0    3259         no   \n5178  chr7:129925550-129937707:-1  rejected      0   12158         no   \n8513   chr5:180835003-180835421:1  rejected    350     419         no   \n\n       transcript_source intron_sources splice_site           repeat_overlap  \\\n882               SLRseq            SLR      GC..AG               No overlap   \n1285  PacBio Capture-seq            CLS      GT..AG  Type I Transposons/SINE   \n2623              SLRseq            SLR      GT..AG  Type I Transposons/SINE   \n2624              SLRseq            SLR      AT..AC  Type I Transposons/SINE   \n5178              SLRseq            SLR      GT..AG                     LTRs   \n8513  PacBio Capture-seq            CLS      GC..AG                     LTRs   \n\n     ss_antisense rej_reason annot_match incorrect_locus opp_strand  \\\n882           yes        NaN          no              no         no   \n1285           no        NaN          no              no         no   \n2623           no        NaN          no              no         no   \n2624           no        NaN          no              no         no   \n5178           no        NaN          no              no         no   \n8513           no     repeat          no              no         no   \n\n     false_ret_int       transcript_id                 gtype    bbiotype  \\\n882             no  OTTHUMT00000499204        protein_coding      coding   \n1285            no  OTTHUMT00000499991        protein_coding      coding   \n2623            no  OTTHUMT00000499064             comp_pipe       novel   \n2624            no  OTTHUMT00000499064             comp_pipe       novel   \n5178            no  OTTHUMT00000499005        protein_coding      coding   \n8513            no  OTTHUMT00000500103  processed_transcript  non-coding   \n\n      rel_int_sup  rel_int_sup_k  \n882    -10.298652     -10.298652  \n1285    -5.898009      -5.898009  \n2623          NaN            NaN  \n2624          NaN            NaN  \n5178   -12.778861     -13.115329  \n8513    -2.779440      -2.779440  ",
      "text/html": "<div>\n<style scoped>\n    .dataframe tbody tr th:only-of-type {\n        vertical-align: middle;\n    }\n\n    .dataframe tbody tr th {\n        vertical-align: top;\n    }\n\n    .dataframe thead th {\n        text-align: right;\n    }\n</style>\n<table border=\"1\" class=\"dataframe\">\n  <thead>\n    <tr style=\"text-align: right;\">\n      <th></th>\n      <th>coords</th>\n      <th>outcome</th>\n      <th>score</th>\n      <th>length</th>\n      <th>prev_annot</th>\n      <th>transcript_source</th>\n      <th>intron_sources</th>\n      <th>splice_site</th>\n      <th>repeat_overlap</th>\n      <th>ss_antisense</th>\n      <th>rej_reason</th>\n      <th>annot_match</th>\n      <th>incorrect_locus</th>\n      <th>opp_strand</th>\n      <th>false_ret_int</th>\n      <th>transcript_id</th>\n      <th>gtype</th>\n      <th>bbiotype</th>\n      <th>rel_int_sup</th>\n      <th>rel_int_sup_k</th>\n    </tr>\n  </thead>\n  <tbody>\n    <tr>\n      <th>882</th>\n      <td>chr10:72275560-72275899:1</td>\n      <td>rejected</td>\n      <td>82</td>\n      <td>340</td>\n      <td>no</td>\n      <td>SLRseq</td>\n      <td>SLR</td>\n      <td>GC..AG</td>\n      <td>No overlap</td>\n      <td>yes</td>\n      <td>NaN</td>\n      <td>no</td>\n      <td>no</td>\n      <td>no</td>\n      <td>no</td>\n      <td>OTTHUMT00000499204</td>\n      <td>protein_coding</td>\n      <td>coding</td>\n      <td>-10.298652</td>\n      <td>-10.298652</td>\n    </tr>\n    <tr>\n      <th>1285</th>\n      <td>chr11:26567140-26569473:-1</td>\n      <td>rejected</td>\n      <td>76</td>\n      <td>2334</td>\n      <td>no</td>\n      <td>PacBio Capture-seq</td>\n      <td>CLS</td>\n      <td>GT..AG</td>\n      <td>Type I Transposons/SINE</td>\n      <td>no</td>\n      <td>NaN</td>\n      <td>no</td>\n      <td>no</td>\n      <td>no</td>\n      <td>no</td>\n      <td>OTTHUMT00000499991</td>\n      <td>protein_coding</td>\n      <td>coding</td>\n      <td>-5.898009</td>\n      <td>-5.898009</td>\n    </tr>\n    <tr>\n      <th>2623</th>\n      <td>chr15:61861626-61890833:1</td>\n      <td>rejected</td>\n      <td>0</td>\n      <td>29208</td>\n      <td>no</td>\n      <td>SLRseq</td>\n      <td>SLR</td>\n      <td>GT..AG</td>\n      <td>Type I Transposons/SINE</td>\n      <td>no</td>\n      <td>NaN</td>\n      <td>no</td>\n      <td>no</td>\n      <td>no</td>\n      <td>no</td>\n      <td>OTTHUMT00000499064</td>\n      <td>comp_pipe</td>\n      <td>novel</td>\n      <td>NaN</td>\n      <td>NaN</td>\n    </tr>\n    <tr>\n      <th>2624</th>\n      <td>chr15:61890863-61894121:1</td>\n      <td>rejected</td>\n      <td>0</td>\n      <td>3259</td>\n      <td>no</td>\n      <td>SLRseq</td>\n      <td>SLR</td>\n      <td>AT..AC</td>\n      <td>Type I Transposons/SINE</td>\n      <td>no</td>\n      <td>NaN</td>\n      <td>no</td>\n      <td>no</td>\n      <td>no</td>\n      <td>no</td>\n      <td>OTTHUMT00000499064</td>\n      <td>comp_pipe</td>\n      <td>novel</td>\n      <td>NaN</td>\n      <td>NaN</td>\n    </tr>\n    <tr>\n      <th>5178</th>\n      <td>chr7:129925550-129937707:-1</td>\n      <td>rejected</td>\n      <td>0</td>\n      <td>12158</td>\n      <td>no</td>\n      <td>SLRseq</td>\n      <td>SLR</td>\n      <td>GT..AG</td>\n      <td>LTRs</td>\n      <td>no</td>\n      <td>NaN</td>\n      <td>no</td>\n      <td>no</td>\n      <td>no</td>\n      <td>no</td>\n      <td>OTTHUMT00000499005</td>\n      <td>protein_coding</td>\n      <td>coding</td>\n      <td>-12.778861</td>\n      <td>-13.115329</td>\n    </tr>\n    <tr>\n      <th>8513</th>\n      <td>chr5:180835003-180835421:1</td>\n      <td>rejected</td>\n      <td>350</td>\n      <td>419</td>\n      <td>no</td>\n      <td>PacBio Capture-seq</td>\n      <td>CLS</td>\n      <td>GC..AG</td>\n      <td>LTRs</td>\n      <td>no</td>\n      <td>repeat</td>\n      <td>no</td>\n      <td>no</td>\n      <td>no</td>\n      <td>no</td>\n      <td>OTTHUMT00000500103</td>\n      <td>processed_transcript</td>\n      <td>non-coding</td>\n      <td>-2.779440</td>\n      <td>-2.779440</td>\n    </tr>\n  </tbody>\n</table>\n</div>"
     },
     "execution_count": 6,
     "metadata": {},
     "output_type": "execute_result"
    }
   ],
   "source": [
    "df_original_test_rejected.loc[drop_idx_lst]"
   ],
   "metadata": {
    "collapsed": false
   }
  },
  {
   "cell_type": "markdown",
   "source": [
    "## We form the new Dataframe and output it to .tsv from the \"still rejected\" introns"
   ],
   "metadata": {
    "collapsed": false
   }
  },
  {
   "cell_type": "code",
   "execution_count": 10,
   "outputs": [],
   "source": [
    "df_output = pd.DataFrame.from_dict(append_lst)\n",
    "df_output.to_csv(\"data/og_rejected_introns\", sep=\"\\t\", index=False)"
   ],
   "metadata": {
    "collapsed": false
   }
  },
  {
   "cell_type": "code",
   "execution_count": 11,
   "outputs": [
    {
     "data": {
      "text/plain": "      chr      start        end strand  Duplicate_Count\n0    chr1     732208     739802      -                1\n1    chr1    6634785    6634990      -                1\n2    chr1    9036721    9088663      +                1\n3    chr1    9088687    9100902      +                1\n4    chr1   11277019   11277484      -                1\n..    ...        ...        ...    ...              ...\n398  chrX  151403680  151404937      +                1\n399  chrX  151409211  151456968      +                1\n400  chrX  153906578  153906694      -                1\n401  chrX  153906410  153906520      -                1\n402  chrY   20579692   20582591      +                1\n\n[403 rows x 5 columns]",
      "text/html": "<div>\n<style scoped>\n    .dataframe tbody tr th:only-of-type {\n        vertical-align: middle;\n    }\n\n    .dataframe tbody tr th {\n        vertical-align: top;\n    }\n\n    .dataframe thead th {\n        text-align: right;\n    }\n</style>\n<table border=\"1\" class=\"dataframe\">\n  <thead>\n    <tr style=\"text-align: right;\">\n      <th></th>\n      <th>chr</th>\n      <th>start</th>\n      <th>end</th>\n      <th>strand</th>\n      <th>Duplicate_Count</th>\n    </tr>\n  </thead>\n  <tbody>\n    <tr>\n      <th>0</th>\n      <td>chr1</td>\n      <td>732208</td>\n      <td>739802</td>\n      <td>-</td>\n      <td>1</td>\n    </tr>\n    <tr>\n      <th>1</th>\n      <td>chr1</td>\n      <td>6634785</td>\n      <td>6634990</td>\n      <td>-</td>\n      <td>1</td>\n    </tr>\n    <tr>\n      <th>2</th>\n      <td>chr1</td>\n      <td>9036721</td>\n      <td>9088663</td>\n      <td>+</td>\n      <td>1</td>\n    </tr>\n    <tr>\n      <th>3</th>\n      <td>chr1</td>\n      <td>9088687</td>\n      <td>9100902</td>\n      <td>+</td>\n      <td>1</td>\n    </tr>\n    <tr>\n      <th>4</th>\n      <td>chr1</td>\n      <td>11277019</td>\n      <td>11277484</td>\n      <td>-</td>\n      <td>1</td>\n    </tr>\n    <tr>\n      <th>...</th>\n      <td>...</td>\n      <td>...</td>\n      <td>...</td>\n      <td>...</td>\n      <td>...</td>\n    </tr>\n    <tr>\n      <th>398</th>\n      <td>chrX</td>\n      <td>151403680</td>\n      <td>151404937</td>\n      <td>+</td>\n      <td>1</td>\n    </tr>\n    <tr>\n      <th>399</th>\n      <td>chrX</td>\n      <td>151409211</td>\n      <td>151456968</td>\n      <td>+</td>\n      <td>1</td>\n    </tr>\n    <tr>\n      <th>400</th>\n      <td>chrX</td>\n      <td>153906578</td>\n      <td>153906694</td>\n      <td>-</td>\n      <td>1</td>\n    </tr>\n    <tr>\n      <th>401</th>\n      <td>chrX</td>\n      <td>153906410</td>\n      <td>153906520</td>\n      <td>-</td>\n      <td>1</td>\n    </tr>\n    <tr>\n      <th>402</th>\n      <td>chrY</td>\n      <td>20579692</td>\n      <td>20582591</td>\n      <td>+</td>\n      <td>1</td>\n    </tr>\n  </tbody>\n</table>\n<p>403 rows × 5 columns</p>\n</div>"
     },
     "execution_count": 11,
     "metadata": {},
     "output_type": "execute_result"
    }
   ],
   "source": [
    "df_output"
   ],
   "metadata": {
    "collapsed": false
   }
  },
  {
   "cell_type": "code",
   "execution_count": null,
   "outputs": [],
   "source": [],
   "metadata": {
    "collapsed": false
   }
  }
 ],
 "metadata": {
  "kernelspec": {
   "display_name": "Python 3",
   "language": "python",
   "name": "python3"
  },
  "language_info": {
   "codemirror_mode": {
    "name": "ipython",
    "version": 2
   },
   "file_extension": ".py",
   "mimetype": "text/x-python",
   "name": "python",
   "nbconvert_exporter": "python",
   "pygments_lexer": "ipython2",
   "version": "2.7.6"
  }
 },
 "nbformat": 4,
 "nbformat_minor": 0
}
