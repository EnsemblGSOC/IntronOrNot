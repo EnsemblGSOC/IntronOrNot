{
 "cells": [
  {
   "cell_type": "code",
   "execution_count": null,
   "metadata": {
    "collapsed": true
   },
   "outputs": [],
   "source": [
    "import pandas as pd"
   ]
  },
  {
   "cell_type": "code",
   "execution_count": null,
   "outputs": [],
   "source": [
    "df_featurized_gencode = pd.read_csv(\"data/1-rmv_dup_introns_gencode_v44.tsv\", sep=\"\\t\")\n",
    "df_featurized_gencode"
   ],
   "metadata": {
    "collapsed": false
   }
  },
  {
   "cell_type": "code",
   "execution_count": null,
   "outputs": [],
   "source": [
    "# Read the original tsv file uploaded into the GSoC ML project repo to extract the rejected introns\n",
    "df_original_test = pd.read_csv(\"ftp-data/gene_annot_test.tsv\", sep=\"\\t\")\n",
    "df_original_test"
   ],
   "metadata": {
    "collapsed": false
   }
  },
  {
   "cell_type": "code",
   "execution_count": null,
   "outputs": [],
   "source": [
    "df_original_test_rejected = df_original_test[df_original_test.outcome == \"rejected\"]"
   ],
   "metadata": {
    "collapsed": false
   }
  },
  {
   "cell_type": "code",
   "execution_count": null,
   "outputs": [],
   "source": [
    "drop_idx_lst = []\n",
    "append_lst = []\n",
    "for index, row in df_original_test_rejected.iterrows():\n",
    "\tcoords_split = row.coords.split(\":\")\n",
    "\tchromosome = coords_split[0]\n",
    "\tstart = int(coords_split[1].split(\"-\")[0])-1\n",
    "\tend = int(coords_split[1].split(\"-\")[1])\n",
    "\tstrand = \"+\" if str(coords_split[2]) == \"1\" else \"-\"\n",
    "\tif df_featurized_gencode[(df_featurized_gencode.strand == strand) & (df_featurized_gencode.start == start) & (df_featurized_gencode.end == end) & (df_featurized_gencode.chr == chromosome)].empty:\n",
    "\t\tappend_dict = {\n",
    "\t\t\t\"chr\": chromosome,\n",
    "\t\t\t\"start\": start,\n",
    "\t\t\t\"end\": end,\n",
    "\t\t\t\"strand\": strand,\n",
    "\t\t\t\"Duplicate_Count\": 1\n",
    "\t\t}\n",
    "\t\tappend_lst.append(append_dict)\n",
    "\telse:\n",
    "\t\t# print(df_featurized_gencode[(df_featurized_gencode.strand == strand) & (df_featurized_gencode.start == start-1) & (df_featurized_gencode.end == end) & (df_featurized_gencode.chr == chromosome)])\n",
    "\t\tdrop_idx_lst.append(index)\n"
   ],
   "metadata": {
    "collapsed": false
   }
  },
  {
   "cell_type": "markdown",
   "source": [
    "## These are the entries that were rejected from the original dict but accepted in the latest version"
   ],
   "metadata": {
    "collapsed": false
   }
  },
  {
   "cell_type": "code",
   "execution_count": null,
   "outputs": [],
   "source": [
    "df_original_test_rejected.loc[drop_idx_lst]\n",
    "# chr10:72275560-72275899:1\n",
    "# chr11:26567140-26569473:-1\n",
    "# chr15:61861626-61890833:1\n",
    "# chr15:61890863-61894121:1\n",
    "# chr7:129925550-129937707:-1\n",
    "# chr5:180835003-180835421:1"
   ],
   "metadata": {
    "collapsed": false
   }
  },
  {
   "cell_type": "markdown",
   "source": [
    "## We form the new Dataframe and output it to .tsv from the \"still rejected\" introns"
   ],
   "metadata": {
    "collapsed": false
   }
  },
  {
   "cell_type": "code",
   "execution_count": null,
   "outputs": [],
   "source": [
    "df_output = pd.DataFrame.from_dict(append_lst)\n",
    "df_output.to_csv(\"data/og_rejected_introns\", sep=\"\\t\", index=False)"
   ],
   "metadata": {
    "collapsed": false
   }
  },
  {
   "cell_type": "code",
   "execution_count": null,
   "outputs": [],
   "source": [
    "df_output"
   ],
   "metadata": {
    "collapsed": false
   }
  },
  {
   "cell_type": "code",
   "execution_count": null,
   "outputs": [],
   "source": [],
   "metadata": {
    "collapsed": false
   }
  }
 ],
 "metadata": {
  "kernelspec": {
   "display_name": "Python 3",
   "language": "python",
   "name": "python3"
  },
  "language_info": {
   "codemirror_mode": {
    "name": "ipython",
    "version": 2
   },
   "file_extension": ".py",
   "mimetype": "text/x-python",
   "name": "python",
   "nbconvert_exporter": "python",
   "pygments_lexer": "ipython2",
   "version": "2.7.6"
  }
 },
 "nbformat": 4,
 "nbformat_minor": 0
}
