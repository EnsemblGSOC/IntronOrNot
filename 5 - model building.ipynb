{
 "cells": [
  {
   "cell_type": "code",
   "execution_count": 1,
   "metadata": {
    "collapsed": true
   },
   "outputs": [],
   "source": [
    "from xgboost import XGBClassifier\n",
    "import pandas as pd\n",
    "import sklearn.ensemble\n",
    "from sklearn.metrics import accuracy_score, roc_auc_score, balanced_accuracy_score, precision_score, matthews_corrcoef, confusion_matrix, recall_score\n",
    "from sklearn.model_selection import StratifiedKFold\n",
    "from sklearn.model_selection import train_test_split\n",
    "import statistics\n",
    "import numpy as np"
   ]
  },
  {
   "cell_type": "code",
   "execution_count": 2,
   "outputs": [
    {
     "data": {
      "text/plain": "         chr      start        end strand  class     GTExv2    TCGAv2  \\\n0       chr1      12227      12612      +      1  1122:3199  583:1460   \n1       chr1      12721      13220      +      1  1791:3198  783:1104   \n2       chr1      12057      12178      +      1        NaN       NaN   \n3       chr1      12697      12974      +      1        1:1       1:1   \n4       chr1      13052      13220      +      1      22:24     17:18   \n...      ...        ...        ...    ...    ...        ...       ...   \n517420  chrX  151403679  151404937      +      0        NaN       NaN   \n517421  chrX  151409210  151456968      +      0        NaN       NaN   \n517422  chrX  153906577  153906694      -      0        NaN       NaN   \n517423  chrX  153906409  153906520      -      0        NaN       NaN   \n517424  chrY   20579691   20582591      +      0    222:238     53:60   \n\n             SRAv3h RC3-Splice_site  RC3-Score  ...  \\\n0        9374:54492           GT:AG      59151  ...   \n1       14048:56719           GT:AG      61021  ...   \n2               NaN             NaN         -1  ...   \n3             15:19           GT:AG         21  ...   \n4           433:484           GC:AG        526  ...   \n...             ...             ...        ...  ...   \n517420          NaN             NaN         -1  ...   \n517421          NaN             NaN         -1  ...   \n517422          NaN             NaN         -1  ...   \n517423          NaN             NaN         -1  ...   \n517424     961:1642           GT:AG       1940  ...   \n\n        repeat_features:Low complexity regions  \\\n0                                            0   \n1                                            0   \n2                                            0   \n3                                            0   \n4                                            0   \n...                                        ...   \n517420                                       0   \n517421                                       6   \n517422                                       0   \n517423                                       0   \n517424                                       0   \n\n        repeat_features:Tandem repeats  repeat_features:Unknown  \\\n0                                    0                        0   \n1                                    0                        0   \n2                                    0                        0   \n3                                    0                        0   \n4                                    0                        0   \n...                                ...                      ...   \n517420                               1                        0   \n517421                              22                        1   \n517422                               0                        0   \n517423                               0                        0   \n517424                               1                        0   \n\n        repeat_features:Satellite repeats  repeat_features:Centromere  \\\n0                                       0                           0   \n1                                       0                           0   \n2                                       0                           0   \n3                                       0                           0   \n4                                       0                           0   \n...                                   ...                         ...   \n517420                                  0                           0   \n517421                                  0                           0   \n517422                                  0                           0   \n517423                                  0                           0   \n517424                                  0                           0   \n\n        repeat_features:RNA repeats  repeat_features:Type II Transposons  \\\n0                                 0                                    0   \n1                                 0                                    0   \n2                                 0                                    0   \n3                                 0                                    0   \n4                                 0                                    0   \n...                             ...                                  ...   \n517420                            0                                    0   \n517421                            0                                    8   \n517422                            0                                    0   \n517423                            0                                    0   \n517424                            0                                    0   \n\n        repeat_features:LTRs  Acceptor splice site  Donor splice site  \n0                          0                    GT                 AG  \n1                          0                    GT                 AG  \n2                          0                   NaN                NaN  \n3                          0                    GT                 AG  \n4                          0                    GC                 AG  \n...                      ...                   ...                ...  \n517420                     0                   NaN                NaN  \n517421                    17                   NaN                NaN  \n517422                     0                   NaN                NaN  \n517423                     0                   NaN                NaN  \n517424                     0                    GT                 AG  \n\n[517425 rows x 24 columns]",
      "text/html": "<div>\n<style scoped>\n    .dataframe tbody tr th:only-of-type {\n        vertical-align: middle;\n    }\n\n    .dataframe tbody tr th {\n        vertical-align: top;\n    }\n\n    .dataframe thead th {\n        text-align: right;\n    }\n</style>\n<table border=\"1\" class=\"dataframe\">\n  <thead>\n    <tr style=\"text-align: right;\">\n      <th></th>\n      <th>chr</th>\n      <th>start</th>\n      <th>end</th>\n      <th>strand</th>\n      <th>class</th>\n      <th>GTExv2</th>\n      <th>TCGAv2</th>\n      <th>SRAv3h</th>\n      <th>RC3-Splice_site</th>\n      <th>RC3-Score</th>\n      <th>...</th>\n      <th>repeat_features:Low complexity regions</th>\n      <th>repeat_features:Tandem repeats</th>\n      <th>repeat_features:Unknown</th>\n      <th>repeat_features:Satellite repeats</th>\n      <th>repeat_features:Centromere</th>\n      <th>repeat_features:RNA repeats</th>\n      <th>repeat_features:Type II Transposons</th>\n      <th>repeat_features:LTRs</th>\n      <th>Acceptor splice site</th>\n      <th>Donor splice site</th>\n    </tr>\n  </thead>\n  <tbody>\n    <tr>\n      <th>0</th>\n      <td>chr1</td>\n      <td>12227</td>\n      <td>12612</td>\n      <td>+</td>\n      <td>1</td>\n      <td>1122:3199</td>\n      <td>583:1460</td>\n      <td>9374:54492</td>\n      <td>GT:AG</td>\n      <td>59151</td>\n      <td>...</td>\n      <td>0</td>\n      <td>0</td>\n      <td>0</td>\n      <td>0</td>\n      <td>0</td>\n      <td>0</td>\n      <td>0</td>\n      <td>0</td>\n      <td>GT</td>\n      <td>AG</td>\n    </tr>\n    <tr>\n      <th>1</th>\n      <td>chr1</td>\n      <td>12721</td>\n      <td>13220</td>\n      <td>+</td>\n      <td>1</td>\n      <td>1791:3198</td>\n      <td>783:1104</td>\n      <td>14048:56719</td>\n      <td>GT:AG</td>\n      <td>61021</td>\n      <td>...</td>\n      <td>0</td>\n      <td>0</td>\n      <td>0</td>\n      <td>0</td>\n      <td>0</td>\n      <td>0</td>\n      <td>0</td>\n      <td>0</td>\n      <td>GT</td>\n      <td>AG</td>\n    </tr>\n    <tr>\n      <th>2</th>\n      <td>chr1</td>\n      <td>12057</td>\n      <td>12178</td>\n      <td>+</td>\n      <td>1</td>\n      <td>NaN</td>\n      <td>NaN</td>\n      <td>NaN</td>\n      <td>NaN</td>\n      <td>-1</td>\n      <td>...</td>\n      <td>0</td>\n      <td>0</td>\n      <td>0</td>\n      <td>0</td>\n      <td>0</td>\n      <td>0</td>\n      <td>0</td>\n      <td>0</td>\n      <td>NaN</td>\n      <td>NaN</td>\n    </tr>\n    <tr>\n      <th>3</th>\n      <td>chr1</td>\n      <td>12697</td>\n      <td>12974</td>\n      <td>+</td>\n      <td>1</td>\n      <td>1:1</td>\n      <td>1:1</td>\n      <td>15:19</td>\n      <td>GT:AG</td>\n      <td>21</td>\n      <td>...</td>\n      <td>0</td>\n      <td>0</td>\n      <td>0</td>\n      <td>0</td>\n      <td>0</td>\n      <td>0</td>\n      <td>0</td>\n      <td>0</td>\n      <td>GT</td>\n      <td>AG</td>\n    </tr>\n    <tr>\n      <th>4</th>\n      <td>chr1</td>\n      <td>13052</td>\n      <td>13220</td>\n      <td>+</td>\n      <td>1</td>\n      <td>22:24</td>\n      <td>17:18</td>\n      <td>433:484</td>\n      <td>GC:AG</td>\n      <td>526</td>\n      <td>...</td>\n      <td>0</td>\n      <td>0</td>\n      <td>0</td>\n      <td>0</td>\n      <td>0</td>\n      <td>0</td>\n      <td>0</td>\n      <td>0</td>\n      <td>GC</td>\n      <td>AG</td>\n    </tr>\n    <tr>\n      <th>...</th>\n      <td>...</td>\n      <td>...</td>\n      <td>...</td>\n      <td>...</td>\n      <td>...</td>\n      <td>...</td>\n      <td>...</td>\n      <td>...</td>\n      <td>...</td>\n      <td>...</td>\n      <td>...</td>\n      <td>...</td>\n      <td>...</td>\n      <td>...</td>\n      <td>...</td>\n      <td>...</td>\n      <td>...</td>\n      <td>...</td>\n      <td>...</td>\n      <td>...</td>\n      <td>...</td>\n    </tr>\n    <tr>\n      <th>517420</th>\n      <td>chrX</td>\n      <td>151403679</td>\n      <td>151404937</td>\n      <td>+</td>\n      <td>0</td>\n      <td>NaN</td>\n      <td>NaN</td>\n      <td>NaN</td>\n      <td>NaN</td>\n      <td>-1</td>\n      <td>...</td>\n      <td>0</td>\n      <td>1</td>\n      <td>0</td>\n      <td>0</td>\n      <td>0</td>\n      <td>0</td>\n      <td>0</td>\n      <td>0</td>\n      <td>NaN</td>\n      <td>NaN</td>\n    </tr>\n    <tr>\n      <th>517421</th>\n      <td>chrX</td>\n      <td>151409210</td>\n      <td>151456968</td>\n      <td>+</td>\n      <td>0</td>\n      <td>NaN</td>\n      <td>NaN</td>\n      <td>NaN</td>\n      <td>NaN</td>\n      <td>-1</td>\n      <td>...</td>\n      <td>6</td>\n      <td>22</td>\n      <td>1</td>\n      <td>0</td>\n      <td>0</td>\n      <td>0</td>\n      <td>8</td>\n      <td>17</td>\n      <td>NaN</td>\n      <td>NaN</td>\n    </tr>\n    <tr>\n      <th>517422</th>\n      <td>chrX</td>\n      <td>153906577</td>\n      <td>153906694</td>\n      <td>-</td>\n      <td>0</td>\n      <td>NaN</td>\n      <td>NaN</td>\n      <td>NaN</td>\n      <td>NaN</td>\n      <td>-1</td>\n      <td>...</td>\n      <td>0</td>\n      <td>0</td>\n      <td>0</td>\n      <td>0</td>\n      <td>0</td>\n      <td>0</td>\n      <td>0</td>\n      <td>0</td>\n      <td>NaN</td>\n      <td>NaN</td>\n    </tr>\n    <tr>\n      <th>517423</th>\n      <td>chrX</td>\n      <td>153906409</td>\n      <td>153906520</td>\n      <td>-</td>\n      <td>0</td>\n      <td>NaN</td>\n      <td>NaN</td>\n      <td>NaN</td>\n      <td>NaN</td>\n      <td>-1</td>\n      <td>...</td>\n      <td>0</td>\n      <td>0</td>\n      <td>0</td>\n      <td>0</td>\n      <td>0</td>\n      <td>0</td>\n      <td>0</td>\n      <td>0</td>\n      <td>NaN</td>\n      <td>NaN</td>\n    </tr>\n    <tr>\n      <th>517424</th>\n      <td>chrY</td>\n      <td>20579691</td>\n      <td>20582591</td>\n      <td>+</td>\n      <td>0</td>\n      <td>222:238</td>\n      <td>53:60</td>\n      <td>961:1642</td>\n      <td>GT:AG</td>\n      <td>1940</td>\n      <td>...</td>\n      <td>0</td>\n      <td>1</td>\n      <td>0</td>\n      <td>0</td>\n      <td>0</td>\n      <td>0</td>\n      <td>0</td>\n      <td>0</td>\n      <td>GT</td>\n      <td>AG</td>\n    </tr>\n  </tbody>\n</table>\n<p>517425 rows × 24 columns</p>\n</div>"
     },
     "execution_count": 2,
     "metadata": {},
     "output_type": "execute_result"
    }
   ],
   "source": [
    "df = pd.read_csv(\"data/4-featurized_introns_data.tsv\", sep=\"\\t\")\n",
    "df"
   ],
   "metadata": {
    "collapsed": false
   }
  },
  {
   "cell_type": "code",
   "execution_count": 3,
   "outputs": [
    {
     "data": {
      "text/plain": "         chr      start        end strand  class RC3-Splice_site  RC3-Score  \\\n0       chr1      12227      12612      +      1           GT:AG      59151   \n1       chr1      12721      13220      +      1           GT:AG      61021   \n2       chr1      12057      12178      +      1             NaN         -1   \n3       chr1      12697      12974      +      1           GT:AG         21   \n4       chr1      13052      13220      +      1           GC:AG        526   \n...      ...        ...        ...    ...    ...             ...        ...   \n517420  chrX  151403679  151404937      +      0             NaN         -1   \n517421  chrX  151409210  151456968      +      0             NaN         -1   \n517422  chrX  153906577  153906694      -      0             NaN         -1   \n517423  chrX  153906409  153906520      -      0             NaN         -1   \n517424  chrY   20579691   20582591      +      0           GT:AG       1940   \n\n        repeat_features:Type I Transposons/LINE  \\\n0                                             0   \n1                                             0   \n2                                             0   \n3                                             0   \n4                                             0   \n...                                         ...   \n517420                                        0   \n517421                                       37   \n517422                                        0   \n517423                                        0   \n517424                                        1   \n\n        repeat_features:Type I Transposons/SINE  repeat_features:Dust  ...  \\\n0                                             0                     0  ...   \n1                                             0                     0  ...   \n2                                             0                     0  ...   \n3                                             0                     0  ...   \n4                                             0                     0  ...   \n...                                         ...                   ...  ...   \n517420                                        3                     5  ...   \n517421                                       19                    38  ...   \n517422                                        0                     0  ...   \n517423                                        0                     0  ...   \n517424                                        4                     8  ...   \n\n        repeat_features:Low complexity regions  \\\n0                                            0   \n1                                            0   \n2                                            0   \n3                                            0   \n4                                            0   \n...                                        ...   \n517420                                       0   \n517421                                       6   \n517422                                       0   \n517423                                       0   \n517424                                       0   \n\n        repeat_features:Tandem repeats  repeat_features:Unknown  \\\n0                                    0                        0   \n1                                    0                        0   \n2                                    0                        0   \n3                                    0                        0   \n4                                    0                        0   \n...                                ...                      ...   \n517420                               1                        0   \n517421                              22                        1   \n517422                               0                        0   \n517423                               0                        0   \n517424                               1                        0   \n\n        repeat_features:Satellite repeats  repeat_features:Centromere  \\\n0                                       0                           0   \n1                                       0                           0   \n2                                       0                           0   \n3                                       0                           0   \n4                                       0                           0   \n...                                   ...                         ...   \n517420                                  0                           0   \n517421                                  0                           0   \n517422                                  0                           0   \n517423                                  0                           0   \n517424                                  0                           0   \n\n        repeat_features:RNA repeats  repeat_features:Type II Transposons  \\\n0                                 0                                    0   \n1                                 0                                    0   \n2                                 0                                    0   \n3                                 0                                    0   \n4                                 0                                    0   \n...                             ...                                  ...   \n517420                            0                                    0   \n517421                            0                                    8   \n517422                            0                                    0   \n517423                            0                                    0   \n517424                            0                                    0   \n\n        repeat_features:LTRs  Acceptor splice site Donor splice site  \n0                          0                    GT                AG  \n1                          0                    GT                AG  \n2                          0                   NaN               NaN  \n3                          0                    GT                AG  \n4                          0                    GC                AG  \n...                      ...                   ...               ...  \n517420                     0                   NaN               NaN  \n517421                    17                   NaN               NaN  \n517422                     0                   NaN               NaN  \n517423                     0                   NaN               NaN  \n517424                     0                    GT                AG  \n\n[517425 rows x 21 columns]",
      "text/html": "<div>\n<style scoped>\n    .dataframe tbody tr th:only-of-type {\n        vertical-align: middle;\n    }\n\n    .dataframe tbody tr th {\n        vertical-align: top;\n    }\n\n    .dataframe thead th {\n        text-align: right;\n    }\n</style>\n<table border=\"1\" class=\"dataframe\">\n  <thead>\n    <tr style=\"text-align: right;\">\n      <th></th>\n      <th>chr</th>\n      <th>start</th>\n      <th>end</th>\n      <th>strand</th>\n      <th>class</th>\n      <th>RC3-Splice_site</th>\n      <th>RC3-Score</th>\n      <th>repeat_features:Type I Transposons/LINE</th>\n      <th>repeat_features:Type I Transposons/SINE</th>\n      <th>repeat_features:Dust</th>\n      <th>...</th>\n      <th>repeat_features:Low complexity regions</th>\n      <th>repeat_features:Tandem repeats</th>\n      <th>repeat_features:Unknown</th>\n      <th>repeat_features:Satellite repeats</th>\n      <th>repeat_features:Centromere</th>\n      <th>repeat_features:RNA repeats</th>\n      <th>repeat_features:Type II Transposons</th>\n      <th>repeat_features:LTRs</th>\n      <th>Acceptor splice site</th>\n      <th>Donor splice site</th>\n    </tr>\n  </thead>\n  <tbody>\n    <tr>\n      <th>0</th>\n      <td>chr1</td>\n      <td>12227</td>\n      <td>12612</td>\n      <td>+</td>\n      <td>1</td>\n      <td>GT:AG</td>\n      <td>59151</td>\n      <td>0</td>\n      <td>0</td>\n      <td>0</td>\n      <td>...</td>\n      <td>0</td>\n      <td>0</td>\n      <td>0</td>\n      <td>0</td>\n      <td>0</td>\n      <td>0</td>\n      <td>0</td>\n      <td>0</td>\n      <td>GT</td>\n      <td>AG</td>\n    </tr>\n    <tr>\n      <th>1</th>\n      <td>chr1</td>\n      <td>12721</td>\n      <td>13220</td>\n      <td>+</td>\n      <td>1</td>\n      <td>GT:AG</td>\n      <td>61021</td>\n      <td>0</td>\n      <td>0</td>\n      <td>0</td>\n      <td>...</td>\n      <td>0</td>\n      <td>0</td>\n      <td>0</td>\n      <td>0</td>\n      <td>0</td>\n      <td>0</td>\n      <td>0</td>\n      <td>0</td>\n      <td>GT</td>\n      <td>AG</td>\n    </tr>\n    <tr>\n      <th>2</th>\n      <td>chr1</td>\n      <td>12057</td>\n      <td>12178</td>\n      <td>+</td>\n      <td>1</td>\n      <td>NaN</td>\n      <td>-1</td>\n      <td>0</td>\n      <td>0</td>\n      <td>0</td>\n      <td>...</td>\n      <td>0</td>\n      <td>0</td>\n      <td>0</td>\n      <td>0</td>\n      <td>0</td>\n      <td>0</td>\n      <td>0</td>\n      <td>0</td>\n      <td>NaN</td>\n      <td>NaN</td>\n    </tr>\n    <tr>\n      <th>3</th>\n      <td>chr1</td>\n      <td>12697</td>\n      <td>12974</td>\n      <td>+</td>\n      <td>1</td>\n      <td>GT:AG</td>\n      <td>21</td>\n      <td>0</td>\n      <td>0</td>\n      <td>0</td>\n      <td>...</td>\n      <td>0</td>\n      <td>0</td>\n      <td>0</td>\n      <td>0</td>\n      <td>0</td>\n      <td>0</td>\n      <td>0</td>\n      <td>0</td>\n      <td>GT</td>\n      <td>AG</td>\n    </tr>\n    <tr>\n      <th>4</th>\n      <td>chr1</td>\n      <td>13052</td>\n      <td>13220</td>\n      <td>+</td>\n      <td>1</td>\n      <td>GC:AG</td>\n      <td>526</td>\n      <td>0</td>\n      <td>0</td>\n      <td>0</td>\n      <td>...</td>\n      <td>0</td>\n      <td>0</td>\n      <td>0</td>\n      <td>0</td>\n      <td>0</td>\n      <td>0</td>\n      <td>0</td>\n      <td>0</td>\n      <td>GC</td>\n      <td>AG</td>\n    </tr>\n    <tr>\n      <th>...</th>\n      <td>...</td>\n      <td>...</td>\n      <td>...</td>\n      <td>...</td>\n      <td>...</td>\n      <td>...</td>\n      <td>...</td>\n      <td>...</td>\n      <td>...</td>\n      <td>...</td>\n      <td>...</td>\n      <td>...</td>\n      <td>...</td>\n      <td>...</td>\n      <td>...</td>\n      <td>...</td>\n      <td>...</td>\n      <td>...</td>\n      <td>...</td>\n      <td>...</td>\n      <td>...</td>\n    </tr>\n    <tr>\n      <th>517420</th>\n      <td>chrX</td>\n      <td>151403679</td>\n      <td>151404937</td>\n      <td>+</td>\n      <td>0</td>\n      <td>NaN</td>\n      <td>-1</td>\n      <td>0</td>\n      <td>3</td>\n      <td>5</td>\n      <td>...</td>\n      <td>0</td>\n      <td>1</td>\n      <td>0</td>\n      <td>0</td>\n      <td>0</td>\n      <td>0</td>\n      <td>0</td>\n      <td>0</td>\n      <td>NaN</td>\n      <td>NaN</td>\n    </tr>\n    <tr>\n      <th>517421</th>\n      <td>chrX</td>\n      <td>151409210</td>\n      <td>151456968</td>\n      <td>+</td>\n      <td>0</td>\n      <td>NaN</td>\n      <td>-1</td>\n      <td>37</td>\n      <td>19</td>\n      <td>38</td>\n      <td>...</td>\n      <td>6</td>\n      <td>22</td>\n      <td>1</td>\n      <td>0</td>\n      <td>0</td>\n      <td>0</td>\n      <td>8</td>\n      <td>17</td>\n      <td>NaN</td>\n      <td>NaN</td>\n    </tr>\n    <tr>\n      <th>517422</th>\n      <td>chrX</td>\n      <td>153906577</td>\n      <td>153906694</td>\n      <td>-</td>\n      <td>0</td>\n      <td>NaN</td>\n      <td>-1</td>\n      <td>0</td>\n      <td>0</td>\n      <td>0</td>\n      <td>...</td>\n      <td>0</td>\n      <td>0</td>\n      <td>0</td>\n      <td>0</td>\n      <td>0</td>\n      <td>0</td>\n      <td>0</td>\n      <td>0</td>\n      <td>NaN</td>\n      <td>NaN</td>\n    </tr>\n    <tr>\n      <th>517423</th>\n      <td>chrX</td>\n      <td>153906409</td>\n      <td>153906520</td>\n      <td>-</td>\n      <td>0</td>\n      <td>NaN</td>\n      <td>-1</td>\n      <td>0</td>\n      <td>0</td>\n      <td>0</td>\n      <td>...</td>\n      <td>0</td>\n      <td>0</td>\n      <td>0</td>\n      <td>0</td>\n      <td>0</td>\n      <td>0</td>\n      <td>0</td>\n      <td>0</td>\n      <td>NaN</td>\n      <td>NaN</td>\n    </tr>\n    <tr>\n      <th>517424</th>\n      <td>chrY</td>\n      <td>20579691</td>\n      <td>20582591</td>\n      <td>+</td>\n      <td>0</td>\n      <td>GT:AG</td>\n      <td>1940</td>\n      <td>1</td>\n      <td>4</td>\n      <td>8</td>\n      <td>...</td>\n      <td>0</td>\n      <td>1</td>\n      <td>0</td>\n      <td>0</td>\n      <td>0</td>\n      <td>0</td>\n      <td>0</td>\n      <td>0</td>\n      <td>GT</td>\n      <td>AG</td>\n    </tr>\n  </tbody>\n</table>\n<p>517425 rows × 21 columns</p>\n</div>"
     },
     "execution_count": 3,
     "metadata": {},
     "output_type": "execute_result"
    }
   ],
   "source": [
    "df = df.drop(columns=[\"GTExv2\", \"TCGAv2\", \"SRAv3h\"])\n",
    "df"
   ],
   "metadata": {
    "collapsed": false
   }
  },
  {
   "cell_type": "code",
   "execution_count": 4,
   "outputs": [
    {
     "data": {
      "text/plain": "         chr      start        end strand  class  RC3-Splice_site  RC3-Score  \\\n0       chr1      12227      12612      +      1                4      59151   \n1       chr1      12721      13220      +      1                4      61021   \n2       chr1      12057      12178      +      1                6         -1   \n3       chr1      12697      12974      +      1                4         21   \n4       chr1      13052      13220      +      1                3        526   \n...      ...        ...        ...    ...    ...              ...        ...   \n517420  chrX  151403679  151404937      +      0                6         -1   \n517421  chrX  151409210  151456968      +      0                6         -1   \n517422  chrX  153906577  153906694      -      0                6         -1   \n517423  chrX  153906409  153906520      -      0                6         -1   \n517424  chrY   20579691   20582591      +      0                4       1940   \n\n        repeat_features:Type I Transposons/LINE  \\\n0                                             0   \n1                                             0   \n2                                             0   \n3                                             0   \n4                                             0   \n...                                         ...   \n517420                                        0   \n517421                                       37   \n517422                                        0   \n517423                                        0   \n517424                                        1   \n\n        repeat_features:Type I Transposons/SINE  repeat_features:Dust  ...  \\\n0                                             0                     0  ...   \n1                                             0                     0  ...   \n2                                             0                     0  ...   \n3                                             0                     0  ...   \n4                                             0                     0  ...   \n...                                         ...                   ...  ...   \n517420                                        3                     5  ...   \n517421                                       19                    38  ...   \n517422                                        0                     0  ...   \n517423                                        0                     0  ...   \n517424                                        4                     8  ...   \n\n        repeat_features:Low complexity regions  \\\n0                                            0   \n1                                            0   \n2                                            0   \n3                                            0   \n4                                            0   \n...                                        ...   \n517420                                       0   \n517421                                       6   \n517422                                       0   \n517423                                       0   \n517424                                       0   \n\n        repeat_features:Tandem repeats  repeat_features:Unknown  \\\n0                                    0                        0   \n1                                    0                        0   \n2                                    0                        0   \n3                                    0                        0   \n4                                    0                        0   \n...                                ...                      ...   \n517420                               1                        0   \n517421                              22                        1   \n517422                               0                        0   \n517423                               0                        0   \n517424                               1                        0   \n\n        repeat_features:Satellite repeats  repeat_features:Centromere  \\\n0                                       0                           0   \n1                                       0                           0   \n2                                       0                           0   \n3                                       0                           0   \n4                                       0                           0   \n...                                   ...                         ...   \n517420                                  0                           0   \n517421                                  0                           0   \n517422                                  0                           0   \n517423                                  0                           0   \n517424                                  0                           0   \n\n        repeat_features:RNA repeats  repeat_features:Type II Transposons  \\\n0                                 0                                    0   \n1                                 0                                    0   \n2                                 0                                    0   \n3                                 0                                    0   \n4                                 0                                    0   \n...                             ...                                  ...   \n517420                            0                                    0   \n517421                            0                                    8   \n517422                            0                                    0   \n517423                            0                                    0   \n517424                            0                                    0   \n\n        repeat_features:LTRs  Acceptor splice site Donor splice site  \n0                          0                    GT                AG  \n1                          0                    GT                AG  \n2                          0                   NaN               NaN  \n3                          0                    GT                AG  \n4                          0                    GC                AG  \n...                      ...                   ...               ...  \n517420                     0                   NaN               NaN  \n517421                    17                   NaN               NaN  \n517422                     0                   NaN               NaN  \n517423                     0                   NaN               NaN  \n517424                     0                    GT                AG  \n\n[517425 rows x 21 columns]",
      "text/html": "<div>\n<style scoped>\n    .dataframe tbody tr th:only-of-type {\n        vertical-align: middle;\n    }\n\n    .dataframe tbody tr th {\n        vertical-align: top;\n    }\n\n    .dataframe thead th {\n        text-align: right;\n    }\n</style>\n<table border=\"1\" class=\"dataframe\">\n  <thead>\n    <tr style=\"text-align: right;\">\n      <th></th>\n      <th>chr</th>\n      <th>start</th>\n      <th>end</th>\n      <th>strand</th>\n      <th>class</th>\n      <th>RC3-Splice_site</th>\n      <th>RC3-Score</th>\n      <th>repeat_features:Type I Transposons/LINE</th>\n      <th>repeat_features:Type I Transposons/SINE</th>\n      <th>repeat_features:Dust</th>\n      <th>...</th>\n      <th>repeat_features:Low complexity regions</th>\n      <th>repeat_features:Tandem repeats</th>\n      <th>repeat_features:Unknown</th>\n      <th>repeat_features:Satellite repeats</th>\n      <th>repeat_features:Centromere</th>\n      <th>repeat_features:RNA repeats</th>\n      <th>repeat_features:Type II Transposons</th>\n      <th>repeat_features:LTRs</th>\n      <th>Acceptor splice site</th>\n      <th>Donor splice site</th>\n    </tr>\n  </thead>\n  <tbody>\n    <tr>\n      <th>0</th>\n      <td>chr1</td>\n      <td>12227</td>\n      <td>12612</td>\n      <td>+</td>\n      <td>1</td>\n      <td>4</td>\n      <td>59151</td>\n      <td>0</td>\n      <td>0</td>\n      <td>0</td>\n      <td>...</td>\n      <td>0</td>\n      <td>0</td>\n      <td>0</td>\n      <td>0</td>\n      <td>0</td>\n      <td>0</td>\n      <td>0</td>\n      <td>0</td>\n      <td>GT</td>\n      <td>AG</td>\n    </tr>\n    <tr>\n      <th>1</th>\n      <td>chr1</td>\n      <td>12721</td>\n      <td>13220</td>\n      <td>+</td>\n      <td>1</td>\n      <td>4</td>\n      <td>61021</td>\n      <td>0</td>\n      <td>0</td>\n      <td>0</td>\n      <td>...</td>\n      <td>0</td>\n      <td>0</td>\n      <td>0</td>\n      <td>0</td>\n      <td>0</td>\n      <td>0</td>\n      <td>0</td>\n      <td>0</td>\n      <td>GT</td>\n      <td>AG</td>\n    </tr>\n    <tr>\n      <th>2</th>\n      <td>chr1</td>\n      <td>12057</td>\n      <td>12178</td>\n      <td>+</td>\n      <td>1</td>\n      <td>6</td>\n      <td>-1</td>\n      <td>0</td>\n      <td>0</td>\n      <td>0</td>\n      <td>...</td>\n      <td>0</td>\n      <td>0</td>\n      <td>0</td>\n      <td>0</td>\n      <td>0</td>\n      <td>0</td>\n      <td>0</td>\n      <td>0</td>\n      <td>NaN</td>\n      <td>NaN</td>\n    </tr>\n    <tr>\n      <th>3</th>\n      <td>chr1</td>\n      <td>12697</td>\n      <td>12974</td>\n      <td>+</td>\n      <td>1</td>\n      <td>4</td>\n      <td>21</td>\n      <td>0</td>\n      <td>0</td>\n      <td>0</td>\n      <td>...</td>\n      <td>0</td>\n      <td>0</td>\n      <td>0</td>\n      <td>0</td>\n      <td>0</td>\n      <td>0</td>\n      <td>0</td>\n      <td>0</td>\n      <td>GT</td>\n      <td>AG</td>\n    </tr>\n    <tr>\n      <th>4</th>\n      <td>chr1</td>\n      <td>13052</td>\n      <td>13220</td>\n      <td>+</td>\n      <td>1</td>\n      <td>3</td>\n      <td>526</td>\n      <td>0</td>\n      <td>0</td>\n      <td>0</td>\n      <td>...</td>\n      <td>0</td>\n      <td>0</td>\n      <td>0</td>\n      <td>0</td>\n      <td>0</td>\n      <td>0</td>\n      <td>0</td>\n      <td>0</td>\n      <td>GC</td>\n      <td>AG</td>\n    </tr>\n    <tr>\n      <th>...</th>\n      <td>...</td>\n      <td>...</td>\n      <td>...</td>\n      <td>...</td>\n      <td>...</td>\n      <td>...</td>\n      <td>...</td>\n      <td>...</td>\n      <td>...</td>\n      <td>...</td>\n      <td>...</td>\n      <td>...</td>\n      <td>...</td>\n      <td>...</td>\n      <td>...</td>\n      <td>...</td>\n      <td>...</td>\n      <td>...</td>\n      <td>...</td>\n      <td>...</td>\n      <td>...</td>\n    </tr>\n    <tr>\n      <th>517420</th>\n      <td>chrX</td>\n      <td>151403679</td>\n      <td>151404937</td>\n      <td>+</td>\n      <td>0</td>\n      <td>6</td>\n      <td>-1</td>\n      <td>0</td>\n      <td>3</td>\n      <td>5</td>\n      <td>...</td>\n      <td>0</td>\n      <td>1</td>\n      <td>0</td>\n      <td>0</td>\n      <td>0</td>\n      <td>0</td>\n      <td>0</td>\n      <td>0</td>\n      <td>NaN</td>\n      <td>NaN</td>\n    </tr>\n    <tr>\n      <th>517421</th>\n      <td>chrX</td>\n      <td>151409210</td>\n      <td>151456968</td>\n      <td>+</td>\n      <td>0</td>\n      <td>6</td>\n      <td>-1</td>\n      <td>37</td>\n      <td>19</td>\n      <td>38</td>\n      <td>...</td>\n      <td>6</td>\n      <td>22</td>\n      <td>1</td>\n      <td>0</td>\n      <td>0</td>\n      <td>0</td>\n      <td>8</td>\n      <td>17</td>\n      <td>NaN</td>\n      <td>NaN</td>\n    </tr>\n    <tr>\n      <th>517422</th>\n      <td>chrX</td>\n      <td>153906577</td>\n      <td>153906694</td>\n      <td>-</td>\n      <td>0</td>\n      <td>6</td>\n      <td>-1</td>\n      <td>0</td>\n      <td>0</td>\n      <td>0</td>\n      <td>...</td>\n      <td>0</td>\n      <td>0</td>\n      <td>0</td>\n      <td>0</td>\n      <td>0</td>\n      <td>0</td>\n      <td>0</td>\n      <td>0</td>\n      <td>NaN</td>\n      <td>NaN</td>\n    </tr>\n    <tr>\n      <th>517423</th>\n      <td>chrX</td>\n      <td>153906409</td>\n      <td>153906520</td>\n      <td>-</td>\n      <td>0</td>\n      <td>6</td>\n      <td>-1</td>\n      <td>0</td>\n      <td>0</td>\n      <td>0</td>\n      <td>...</td>\n      <td>0</td>\n      <td>0</td>\n      <td>0</td>\n      <td>0</td>\n      <td>0</td>\n      <td>0</td>\n      <td>0</td>\n      <td>0</td>\n      <td>NaN</td>\n      <td>NaN</td>\n    </tr>\n    <tr>\n      <th>517424</th>\n      <td>chrY</td>\n      <td>20579691</td>\n      <td>20582591</td>\n      <td>+</td>\n      <td>0</td>\n      <td>4</td>\n      <td>1940</td>\n      <td>1</td>\n      <td>4</td>\n      <td>8</td>\n      <td>...</td>\n      <td>0</td>\n      <td>1</td>\n      <td>0</td>\n      <td>0</td>\n      <td>0</td>\n      <td>0</td>\n      <td>0</td>\n      <td>0</td>\n      <td>GT</td>\n      <td>AG</td>\n    </tr>\n  </tbody>\n</table>\n<p>517425 rows × 21 columns</p>\n</div>"
     },
     "execution_count": 4,
     "metadata": {},
     "output_type": "execute_result"
    }
   ],
   "source": [
    "\n",
    "from sklearn import preprocessing\n",
    "\n",
    "le = preprocessing.LabelEncoder()\n",
    "le.fit(df[\"RC3-Splice_site\"])\n",
    "df[\"RC3-Splice_site\"] = le.transform(df[\"RC3-Splice_site\"])\n",
    "\n",
    "df"
   ],
   "metadata": {
    "collapsed": false
   }
  },
  {
   "cell_type": "code",
   "execution_count": 4,
   "outputs": [],
   "source": [],
   "metadata": {
    "collapsed": false
   }
  },
  {
   "cell_type": "code",
   "execution_count": 5,
   "outputs": [
    {
     "data": {
      "text/plain": "         chr      start        end strand  class  RC3-Splice_site  RC3-Score  \\\n0       chr1      12227      12612      +      1                4      59151   \n1       chr1      12721      13220      +      1                4      61021   \n2       chr1      12057      12178      +      1                6         -1   \n3       chr1      12697      12974      +      1                4         21   \n4       chr1      13052      13220      +      1                3        526   \n...      ...        ...        ...    ...    ...              ...        ...   \n517420  chrX  151403679  151404937      +      0                6         -1   \n517421  chrX  151409210  151456968      +      0                6         -1   \n517422  chrX  153906577  153906694      -      0                6         -1   \n517423  chrX  153906409  153906520      -      0                6         -1   \n517424  chrY   20579691   20582591      +      0                4       1940   \n\n        repeat_features:Type I Transposons/LINE  \\\n0                                             0   \n1                                             0   \n2                                             0   \n3                                             0   \n4                                             0   \n...                                         ...   \n517420                                        0   \n517421                                       37   \n517422                                        0   \n517423                                        0   \n517424                                        1   \n\n        repeat_features:Type I Transposons/SINE  repeat_features:Dust  ...  \\\n0                                             0                     0  ...   \n1                                             0                     0  ...   \n2                                             0                     0  ...   \n3                                             0                     0  ...   \n4                                             0                     0  ...   \n...                                         ...                   ...  ...   \n517420                                        3                     5  ...   \n517421                                       19                    38  ...   \n517422                                        0                     0  ...   \n517423                                        0                     0  ...   \n517424                                        4                     8  ...   \n\n        repeat_features:Low complexity regions  \\\n0                                            0   \n1                                            0   \n2                                            0   \n3                                            0   \n4                                            0   \n...                                        ...   \n517420                                       0   \n517421                                       6   \n517422                                       0   \n517423                                       0   \n517424                                       0   \n\n        repeat_features:Tandem repeats  repeat_features:Unknown  \\\n0                                    0                        0   \n1                                    0                        0   \n2                                    0                        0   \n3                                    0                        0   \n4                                    0                        0   \n...                                ...                      ...   \n517420                               1                        0   \n517421                              22                        1   \n517422                               0                        0   \n517423                               0                        0   \n517424                               1                        0   \n\n        repeat_features:Satellite repeats  repeat_features:Centromere  \\\n0                                       0                           0   \n1                                       0                           0   \n2                                       0                           0   \n3                                       0                           0   \n4                                       0                           0   \n...                                   ...                         ...   \n517420                                  0                           0   \n517421                                  0                           0   \n517422                                  0                           0   \n517423                                  0                           0   \n517424                                  0                           0   \n\n        repeat_features:RNA repeats  repeat_features:Type II Transposons  \\\n0                                 0                                    0   \n1                                 0                                    0   \n2                                 0                                    0   \n3                                 0                                    0   \n4                                 0                                    0   \n...                             ...                                  ...   \n517420                            0                                    0   \n517421                            0                                    8   \n517422                            0                                    0   \n517423                            0                                    0   \n517424                            0                                    0   \n\n        repeat_features:LTRs  Acceptor splice site  Donor splice site  \n0                          0                     3                  1  \n1                          0                     3                  1  \n2                          0                     4                  4  \n3                          0                     3                  1  \n4                          0                     2                  1  \n...                      ...                   ...                ...  \n517420                     0                     4                  4  \n517421                    17                     4                  4  \n517422                     0                     4                  4  \n517423                     0                     4                  4  \n517424                     0                     3                  1  \n\n[517425 rows x 21 columns]",
      "text/html": "<div>\n<style scoped>\n    .dataframe tbody tr th:only-of-type {\n        vertical-align: middle;\n    }\n\n    .dataframe tbody tr th {\n        vertical-align: top;\n    }\n\n    .dataframe thead th {\n        text-align: right;\n    }\n</style>\n<table border=\"1\" class=\"dataframe\">\n  <thead>\n    <tr style=\"text-align: right;\">\n      <th></th>\n      <th>chr</th>\n      <th>start</th>\n      <th>end</th>\n      <th>strand</th>\n      <th>class</th>\n      <th>RC3-Splice_site</th>\n      <th>RC3-Score</th>\n      <th>repeat_features:Type I Transposons/LINE</th>\n      <th>repeat_features:Type I Transposons/SINE</th>\n      <th>repeat_features:Dust</th>\n      <th>...</th>\n      <th>repeat_features:Low complexity regions</th>\n      <th>repeat_features:Tandem repeats</th>\n      <th>repeat_features:Unknown</th>\n      <th>repeat_features:Satellite repeats</th>\n      <th>repeat_features:Centromere</th>\n      <th>repeat_features:RNA repeats</th>\n      <th>repeat_features:Type II Transposons</th>\n      <th>repeat_features:LTRs</th>\n      <th>Acceptor splice site</th>\n      <th>Donor splice site</th>\n    </tr>\n  </thead>\n  <tbody>\n    <tr>\n      <th>0</th>\n      <td>chr1</td>\n      <td>12227</td>\n      <td>12612</td>\n      <td>+</td>\n      <td>1</td>\n      <td>4</td>\n      <td>59151</td>\n      <td>0</td>\n      <td>0</td>\n      <td>0</td>\n      <td>...</td>\n      <td>0</td>\n      <td>0</td>\n      <td>0</td>\n      <td>0</td>\n      <td>0</td>\n      <td>0</td>\n      <td>0</td>\n      <td>0</td>\n      <td>3</td>\n      <td>1</td>\n    </tr>\n    <tr>\n      <th>1</th>\n      <td>chr1</td>\n      <td>12721</td>\n      <td>13220</td>\n      <td>+</td>\n      <td>1</td>\n      <td>4</td>\n      <td>61021</td>\n      <td>0</td>\n      <td>0</td>\n      <td>0</td>\n      <td>...</td>\n      <td>0</td>\n      <td>0</td>\n      <td>0</td>\n      <td>0</td>\n      <td>0</td>\n      <td>0</td>\n      <td>0</td>\n      <td>0</td>\n      <td>3</td>\n      <td>1</td>\n    </tr>\n    <tr>\n      <th>2</th>\n      <td>chr1</td>\n      <td>12057</td>\n      <td>12178</td>\n      <td>+</td>\n      <td>1</td>\n      <td>6</td>\n      <td>-1</td>\n      <td>0</td>\n      <td>0</td>\n      <td>0</td>\n      <td>...</td>\n      <td>0</td>\n      <td>0</td>\n      <td>0</td>\n      <td>0</td>\n      <td>0</td>\n      <td>0</td>\n      <td>0</td>\n      <td>0</td>\n      <td>4</td>\n      <td>4</td>\n    </tr>\n    <tr>\n      <th>3</th>\n      <td>chr1</td>\n      <td>12697</td>\n      <td>12974</td>\n      <td>+</td>\n      <td>1</td>\n      <td>4</td>\n      <td>21</td>\n      <td>0</td>\n      <td>0</td>\n      <td>0</td>\n      <td>...</td>\n      <td>0</td>\n      <td>0</td>\n      <td>0</td>\n      <td>0</td>\n      <td>0</td>\n      <td>0</td>\n      <td>0</td>\n      <td>0</td>\n      <td>3</td>\n      <td>1</td>\n    </tr>\n    <tr>\n      <th>4</th>\n      <td>chr1</td>\n      <td>13052</td>\n      <td>13220</td>\n      <td>+</td>\n      <td>1</td>\n      <td>3</td>\n      <td>526</td>\n      <td>0</td>\n      <td>0</td>\n      <td>0</td>\n      <td>...</td>\n      <td>0</td>\n      <td>0</td>\n      <td>0</td>\n      <td>0</td>\n      <td>0</td>\n      <td>0</td>\n      <td>0</td>\n      <td>0</td>\n      <td>2</td>\n      <td>1</td>\n    </tr>\n    <tr>\n      <th>...</th>\n      <td>...</td>\n      <td>...</td>\n      <td>...</td>\n      <td>...</td>\n      <td>...</td>\n      <td>...</td>\n      <td>...</td>\n      <td>...</td>\n      <td>...</td>\n      <td>...</td>\n      <td>...</td>\n      <td>...</td>\n      <td>...</td>\n      <td>...</td>\n      <td>...</td>\n      <td>...</td>\n      <td>...</td>\n      <td>...</td>\n      <td>...</td>\n      <td>...</td>\n      <td>...</td>\n    </tr>\n    <tr>\n      <th>517420</th>\n      <td>chrX</td>\n      <td>151403679</td>\n      <td>151404937</td>\n      <td>+</td>\n      <td>0</td>\n      <td>6</td>\n      <td>-1</td>\n      <td>0</td>\n      <td>3</td>\n      <td>5</td>\n      <td>...</td>\n      <td>0</td>\n      <td>1</td>\n      <td>0</td>\n      <td>0</td>\n      <td>0</td>\n      <td>0</td>\n      <td>0</td>\n      <td>0</td>\n      <td>4</td>\n      <td>4</td>\n    </tr>\n    <tr>\n      <th>517421</th>\n      <td>chrX</td>\n      <td>151409210</td>\n      <td>151456968</td>\n      <td>+</td>\n      <td>0</td>\n      <td>6</td>\n      <td>-1</td>\n      <td>37</td>\n      <td>19</td>\n      <td>38</td>\n      <td>...</td>\n      <td>6</td>\n      <td>22</td>\n      <td>1</td>\n      <td>0</td>\n      <td>0</td>\n      <td>0</td>\n      <td>8</td>\n      <td>17</td>\n      <td>4</td>\n      <td>4</td>\n    </tr>\n    <tr>\n      <th>517422</th>\n      <td>chrX</td>\n      <td>153906577</td>\n      <td>153906694</td>\n      <td>-</td>\n      <td>0</td>\n      <td>6</td>\n      <td>-1</td>\n      <td>0</td>\n      <td>0</td>\n      <td>0</td>\n      <td>...</td>\n      <td>0</td>\n      <td>0</td>\n      <td>0</td>\n      <td>0</td>\n      <td>0</td>\n      <td>0</td>\n      <td>0</td>\n      <td>0</td>\n      <td>4</td>\n      <td>4</td>\n    </tr>\n    <tr>\n      <th>517423</th>\n      <td>chrX</td>\n      <td>153906409</td>\n      <td>153906520</td>\n      <td>-</td>\n      <td>0</td>\n      <td>6</td>\n      <td>-1</td>\n      <td>0</td>\n      <td>0</td>\n      <td>0</td>\n      <td>...</td>\n      <td>0</td>\n      <td>0</td>\n      <td>0</td>\n      <td>0</td>\n      <td>0</td>\n      <td>0</td>\n      <td>0</td>\n      <td>0</td>\n      <td>4</td>\n      <td>4</td>\n    </tr>\n    <tr>\n      <th>517424</th>\n      <td>chrY</td>\n      <td>20579691</td>\n      <td>20582591</td>\n      <td>+</td>\n      <td>0</td>\n      <td>4</td>\n      <td>1940</td>\n      <td>1</td>\n      <td>4</td>\n      <td>8</td>\n      <td>...</td>\n      <td>0</td>\n      <td>1</td>\n      <td>0</td>\n      <td>0</td>\n      <td>0</td>\n      <td>0</td>\n      <td>0</td>\n      <td>0</td>\n      <td>3</td>\n      <td>1</td>\n    </tr>\n  </tbody>\n</table>\n<p>517425 rows × 21 columns</p>\n</div>"
     },
     "execution_count": 5,
     "metadata": {},
     "output_type": "execute_result"
    }
   ],
   "source": [
    "le = preprocessing.LabelEncoder()\n",
    "le.fit(df[\"Acceptor splice site\"])\n",
    "df[\"Acceptor splice site\"] = le.transform(df[\"Acceptor splice site\"])\n",
    "\n",
    "le = preprocessing.LabelEncoder()\n",
    "le.fit(df[\"Donor splice site\"])\n",
    "df[\"Donor splice site\"] = le.transform(df[\"Donor splice site\"])\n",
    "\n",
    "df"
   ],
   "metadata": {
    "collapsed": false
   }
  },
  {
   "cell_type": "code",
   "execution_count": 6,
   "outputs": [
    {
     "data": {
      "text/plain": "0         1\n1         1\n2         1\n3         1\n4         1\n         ..\n517420    0\n517421    0\n517422    0\n517423    0\n517424    0\nName: class, Length: 517425, dtype: int64"
     },
     "execution_count": 6,
     "metadata": {},
     "output_type": "execute_result"
    }
   ],
   "source": [
    "df_annot_test_y = df.pop(\"class\")\n",
    "\n",
    "# Drop the columns that might not be available prior to manual gene annotation or irrelevant to ML\n",
    "df_annot_test_X_1 = df.drop([\"chr\", \"start\", \"end\", \"strand\", \"RC3-Splice_site\"], axis=1)\n",
    "df_annot_test_y"
   ],
   "metadata": {
    "collapsed": false
   }
  },
  {
   "cell_type": "code",
   "execution_count": 7,
   "outputs": [
    {
     "data": {
      "text/plain": "        RC3-Score  repeat_features:Type I Transposons/LINE  \\\n0           59151                                        0   \n1           61021                                        0   \n2              -1                                        0   \n3              21                                        0   \n4             526                                        0   \n...           ...                                      ...   \n517420         -1                                        0   \n517421         -1                                       37   \n517422         -1                                        0   \n517423         -1                                        0   \n517424       1940                                        1   \n\n        repeat_features:Type I Transposons/SINE  repeat_features:Dust  \\\n0                                             0                     0   \n1                                             0                     0   \n2                                             0                     0   \n3                                             0                     0   \n4                                             0                     0   \n...                                         ...                   ...   \n517420                                        3                     5   \n517421                                       19                    38   \n517422                                        0                     0   \n517423                                        0                     0   \n517424                                        4                     8   \n\n        repeat_features:Simple repeats  \\\n0                                    0   \n1                                    0   \n2                                    0   \n3                                    0   \n4                                    0   \n...                                ...   \n517420                               0   \n517421                               7   \n517422                               0   \n517423                               0   \n517424                               1   \n\n        repeat_features:Low complexity regions  \\\n0                                            0   \n1                                            0   \n2                                            0   \n3                                            0   \n4                                            0   \n...                                        ...   \n517420                                       0   \n517421                                       6   \n517422                                       0   \n517423                                       0   \n517424                                       0   \n\n        repeat_features:Tandem repeats  repeat_features:Unknown  \\\n0                                    0                        0   \n1                                    0                        0   \n2                                    0                        0   \n3                                    0                        0   \n4                                    0                        0   \n...                                ...                      ...   \n517420                               1                        0   \n517421                              22                        1   \n517422                               0                        0   \n517423                               0                        0   \n517424                               1                        0   \n\n        repeat_features:Satellite repeats  repeat_features:Centromere  \\\n0                                       0                           0   \n1                                       0                           0   \n2                                       0                           0   \n3                                       0                           0   \n4                                       0                           0   \n...                                   ...                         ...   \n517420                                  0                           0   \n517421                                  0                           0   \n517422                                  0                           0   \n517423                                  0                           0   \n517424                                  0                           0   \n\n        repeat_features:RNA repeats  repeat_features:Type II Transposons  \\\n0                                 0                                    0   \n1                                 0                                    0   \n2                                 0                                    0   \n3                                 0                                    0   \n4                                 0                                    0   \n...                             ...                                  ...   \n517420                            0                                    0   \n517421                            0                                    8   \n517422                            0                                    0   \n517423                            0                                    0   \n517424                            0                                    0   \n\n        repeat_features:LTRs  Acceptor splice site  Donor splice site  \n0                          0                     3                  1  \n1                          0                     3                  1  \n2                          0                     4                  4  \n3                          0                     3                  1  \n4                          0                     2                  1  \n...                      ...                   ...                ...  \n517420                     0                     4                  4  \n517421                    17                     4                  4  \n517422                     0                     4                  4  \n517423                     0                     4                  4  \n517424                     0                     3                  1  \n\n[517425 rows x 15 columns]",
      "text/html": "<div>\n<style scoped>\n    .dataframe tbody tr th:only-of-type {\n        vertical-align: middle;\n    }\n\n    .dataframe tbody tr th {\n        vertical-align: top;\n    }\n\n    .dataframe thead th {\n        text-align: right;\n    }\n</style>\n<table border=\"1\" class=\"dataframe\">\n  <thead>\n    <tr style=\"text-align: right;\">\n      <th></th>\n      <th>RC3-Score</th>\n      <th>repeat_features:Type I Transposons/LINE</th>\n      <th>repeat_features:Type I Transposons/SINE</th>\n      <th>repeat_features:Dust</th>\n      <th>repeat_features:Simple repeats</th>\n      <th>repeat_features:Low complexity regions</th>\n      <th>repeat_features:Tandem repeats</th>\n      <th>repeat_features:Unknown</th>\n      <th>repeat_features:Satellite repeats</th>\n      <th>repeat_features:Centromere</th>\n      <th>repeat_features:RNA repeats</th>\n      <th>repeat_features:Type II Transposons</th>\n      <th>repeat_features:LTRs</th>\n      <th>Acceptor splice site</th>\n      <th>Donor splice site</th>\n    </tr>\n  </thead>\n  <tbody>\n    <tr>\n      <th>0</th>\n      <td>59151</td>\n      <td>0</td>\n      <td>0</td>\n      <td>0</td>\n      <td>0</td>\n      <td>0</td>\n      <td>0</td>\n      <td>0</td>\n      <td>0</td>\n      <td>0</td>\n      <td>0</td>\n      <td>0</td>\n      <td>0</td>\n      <td>3</td>\n      <td>1</td>\n    </tr>\n    <tr>\n      <th>1</th>\n      <td>61021</td>\n      <td>0</td>\n      <td>0</td>\n      <td>0</td>\n      <td>0</td>\n      <td>0</td>\n      <td>0</td>\n      <td>0</td>\n      <td>0</td>\n      <td>0</td>\n      <td>0</td>\n      <td>0</td>\n      <td>0</td>\n      <td>3</td>\n      <td>1</td>\n    </tr>\n    <tr>\n      <th>2</th>\n      <td>-1</td>\n      <td>0</td>\n      <td>0</td>\n      <td>0</td>\n      <td>0</td>\n      <td>0</td>\n      <td>0</td>\n      <td>0</td>\n      <td>0</td>\n      <td>0</td>\n      <td>0</td>\n      <td>0</td>\n      <td>0</td>\n      <td>4</td>\n      <td>4</td>\n    </tr>\n    <tr>\n      <th>3</th>\n      <td>21</td>\n      <td>0</td>\n      <td>0</td>\n      <td>0</td>\n      <td>0</td>\n      <td>0</td>\n      <td>0</td>\n      <td>0</td>\n      <td>0</td>\n      <td>0</td>\n      <td>0</td>\n      <td>0</td>\n      <td>0</td>\n      <td>3</td>\n      <td>1</td>\n    </tr>\n    <tr>\n      <th>4</th>\n      <td>526</td>\n      <td>0</td>\n      <td>0</td>\n      <td>0</td>\n      <td>0</td>\n      <td>0</td>\n      <td>0</td>\n      <td>0</td>\n      <td>0</td>\n      <td>0</td>\n      <td>0</td>\n      <td>0</td>\n      <td>0</td>\n      <td>2</td>\n      <td>1</td>\n    </tr>\n    <tr>\n      <th>...</th>\n      <td>...</td>\n      <td>...</td>\n      <td>...</td>\n      <td>...</td>\n      <td>...</td>\n      <td>...</td>\n      <td>...</td>\n      <td>...</td>\n      <td>...</td>\n      <td>...</td>\n      <td>...</td>\n      <td>...</td>\n      <td>...</td>\n      <td>...</td>\n      <td>...</td>\n    </tr>\n    <tr>\n      <th>517420</th>\n      <td>-1</td>\n      <td>0</td>\n      <td>3</td>\n      <td>5</td>\n      <td>0</td>\n      <td>0</td>\n      <td>1</td>\n      <td>0</td>\n      <td>0</td>\n      <td>0</td>\n      <td>0</td>\n      <td>0</td>\n      <td>0</td>\n      <td>4</td>\n      <td>4</td>\n    </tr>\n    <tr>\n      <th>517421</th>\n      <td>-1</td>\n      <td>37</td>\n      <td>19</td>\n      <td>38</td>\n      <td>7</td>\n      <td>6</td>\n      <td>22</td>\n      <td>1</td>\n      <td>0</td>\n      <td>0</td>\n      <td>0</td>\n      <td>8</td>\n      <td>17</td>\n      <td>4</td>\n      <td>4</td>\n    </tr>\n    <tr>\n      <th>517422</th>\n      <td>-1</td>\n      <td>0</td>\n      <td>0</td>\n      <td>0</td>\n      <td>0</td>\n      <td>0</td>\n      <td>0</td>\n      <td>0</td>\n      <td>0</td>\n      <td>0</td>\n      <td>0</td>\n      <td>0</td>\n      <td>0</td>\n      <td>4</td>\n      <td>4</td>\n    </tr>\n    <tr>\n      <th>517423</th>\n      <td>-1</td>\n      <td>0</td>\n      <td>0</td>\n      <td>0</td>\n      <td>0</td>\n      <td>0</td>\n      <td>0</td>\n      <td>0</td>\n      <td>0</td>\n      <td>0</td>\n      <td>0</td>\n      <td>0</td>\n      <td>0</td>\n      <td>4</td>\n      <td>4</td>\n    </tr>\n    <tr>\n      <th>517424</th>\n      <td>1940</td>\n      <td>1</td>\n      <td>4</td>\n      <td>8</td>\n      <td>1</td>\n      <td>0</td>\n      <td>1</td>\n      <td>0</td>\n      <td>0</td>\n      <td>0</td>\n      <td>0</td>\n      <td>0</td>\n      <td>0</td>\n      <td>3</td>\n      <td>1</td>\n    </tr>\n  </tbody>\n</table>\n<p>517425 rows × 15 columns</p>\n</div>"
     },
     "execution_count": 7,
     "metadata": {},
     "output_type": "execute_result"
    }
   ],
   "source": [
    "df_annot_test_X_1"
   ],
   "metadata": {
    "collapsed": false
   }
  },
  {
   "cell_type": "code",
   "execution_count": 27,
   "outputs": [
    {
     "name": "stdout",
     "output_type": "stream",
     "text": [
      "409800\n",
      "409889\n",
      "920\n",
      "409800\n",
      "409890\n",
      "920\n",
      "409800\n",
      "409890\n",
      "920\n",
      "409800\n",
      "409890\n",
      "920\n",
      "409800\n",
      "409890\n",
      "920\n"
     ]
    }
   ],
   "source": [
    "# Split the dataset to 9:1 Train/Val and Test set\n",
    "from imblearn.under_sampling import RandomUnderSampler\n",
    "from imblearn.over_sampling import RandomOverSampler\n",
    "from sklearn.ensemble import RandomForestClassifier\n",
    "\n",
    "X_train_val, X_test, y_train_val, y_test = train_test_split(df_annot_test_X_1, df_annot_test_y, stratify=df_annot_test_y, test_size=0.01, shuffle=True)\n",
    "\n",
    "cv_acc_list = []\n",
    "cv_ba_acc_list = []\n",
    "cv_rocauc_list = []\n",
    "cv_precision_list = []\n",
    "cv_recall_list = []\n",
    "cv_mcc_list = []\n",
    "cv_specificity_list = []\n",
    "cv_sensitivity_list = []\n",
    "cv_fpr_list = []\n",
    "model_dict = {}\n",
    "model_index = 0\n",
    "matrix = []\n",
    "\n",
    "skf = StratifiedKFold(n_splits=5)\n",
    "skf.get_n_splits(X_train_val, y_train_val)\n",
    "\n",
    "for train_index, val_index in skf.split(X_train_val, y_train_val):\n",
    "\t# print(train_index)\n",
    "\t# Perform random under-sampling on the majority class\n",
    "\n",
    "\tprint(len(train_index))\n",
    "\trus = RandomOverSampler(random_state=42, sampling_strategy=.001)\n",
    "\tX_train_resampled, y_train_resampled = rus.fit_resample(X_train_val.iloc[train_index], y_train_val.iloc[train_index])\n",
    "\tprint(len(X_train_resampled))\n",
    "\n",
    "\trus = RandomUnderSampler(random_state=0, sampling_strategy=.8)\n",
    "\tX_train_resampled, y_train_resampled = rus.fit_resample(X_train_resampled, y_train_resampled) #(X_train_resampled, y_train_resampled)  #(X_train_val.iloc[train_index], y_train_val.iloc[train_index])\n",
    "\tprint(len(X_train_resampled))\n",
    "\n",
    "\t# Original splits\n",
    "\t# X_train_resampled = X_train_val.iloc[train_index]\n",
    "\t# y_train_resampled = y_train_val.iloc[train_index].to_numpy().flatten()\n",
    "\n",
    "\t# X_train, X_val = X_train_val.iloc[train_index], X_train_val.iloc[val_index]\n",
    "\t# y_train, y_val = y_train_val.iloc[train_index].to_numpy().flatten(), y_train_val.iloc[val_index].to_numpy().flatten()\n",
    "\tX_train, X_val = X_train_resampled, X_train_val.iloc[val_index]\n",
    "\ty_train, y_val = y_train_resampled, y_train_val.iloc[val_index].to_numpy().flatten()\n",
    "\n",
    "\tmodel_dict[model_index] = XGBClassifier(seed=0)\n",
    "\tmodel_dict[model_index].fit(X_train, y_train)\n",
    "\n",
    "\ty_predict = model_dict[model_index].predict_proba(X_val)\n",
    "\ty_predict = y_predict[:, 1]\n",
    "\ty_predict_class = list(map(round, y_predict))\n",
    "\n",
    "\ttest_acc = accuracy_score(y_val, y_predict_class)\n",
    "\ttest_rocauc = roc_auc_score(y_val, y_predict)\n",
    "\ttest_bal_acc = balanced_accuracy_score(y_val, y_predict_class)\n",
    "\ttest_precision = precision_score(y_val, y_predict_class)  # tp/(tp+fp)\n",
    "\ttest_recall = recall_score(y_val, y_predict_class)\n",
    "\ttest_mcc = matthews_corrcoef(y_val, y_predict_class)\n",
    "\tmatrix.append(confusion_matrix(y_val, y_predict_class))\n",
    "\ttn, fp, fn, tp = confusion_matrix(y_val, y_predict_class).ravel()\n",
    "\n",
    "\t# Adding the metrics to their list\n",
    "\tcv_acc_list.append(test_acc)\n",
    "\tcv_ba_acc_list.append(test_bal_acc)\n",
    "\tcv_rocauc_list.append(test_rocauc)\n",
    "\tcv_precision_list.append(test_precision)\n",
    "\tcv_mcc_list.append(test_mcc)\n",
    "\tcv_recall_list.append(test_recall)\n",
    "\tcv_specificity_list.append(tn / (tn + fp))\n",
    "\tcv_sensitivity_list.append(tp / (fn + tp))\n",
    "\tcv_fpr_list.append(fp/(fp+tn))"
   ],
   "metadata": {
    "collapsed": false
   }
  },
  {
   "cell_type": "code",
   "execution_count": 29,
   "outputs": [
    {
     "name": "stdout",
     "output_type": "stream",
     "text": [
      "------------------------------------------------------------------------------------------\n",
      "Stratified Cross-Validation Performance\n",
      "------------------------------------------------------------------------------------------\n",
      "*Accuracy: 0.8280605173255247 \n",
      "AUCROC: 0.8703124259650207 \n",
      "MCC: 0.04285274205418906 \n",
      "Sensitivity: 0.8281199257162926 \n",
      "Specificity: 0.7519620253164557 \n",
      "*Precision: 0.999766660900278 \n",
      "Recall: 0.8281199257162926 \n",
      "*False Positive Rate: 0.2480379746835443 \n",
      "Balanced Accuracy: 0.7900409755163741\n",
      "------------------------------------------------------------------------------------------\n",
      "Accuracy SD: 0.0066367363964979905 \n",
      "AUCROC SD: 0.014253838964525091 \n",
      "MCC SD: 0.002223983064790129 \n",
      "Sensitivity SD: 0.006659766452614029 \n",
      "Specificity SD: 0.036925593281522756 \n",
      "Precision SD: 3.404173730268859e-05  \n",
      "Balanced Accuracy SD: 0.016620405752660862\n",
      "------------------------------------------------------------------------------------------\n"
     ]
    },
    {
     "data": {
      "text/plain": "array([[   300,     99],\n       [ 87977, 423874]])"
     },
     "execution_count": 29,
     "metadata": {},
     "output_type": "execute_result"
    }
   ],
   "source": [
    "print(\"------------------------------------------------------------------------------------------\")\n",
    "print(\"Stratified Cross-Validation Performance\")\n",
    "print(\"------------------------------------------------------------------------------------------\")\n",
    "print(\"*Accuracy: %s \\nAUCROC: %s \\nMCC: %s \\nSensitivity: %s \\nSpecificity: %s \\n*Precision: %s \\nRecall: %s \\n*False Positive Rate: %s \\nBalanced Accuracy: %s\" % (\n",
    "        statistics.mean(cv_acc_list), statistics.mean(cv_rocauc_list), statistics.mean(cv_mcc_list),\n",
    "        statistics.mean(cv_sensitivity_list), statistics.mean(cv_specificity_list), statistics.mean(cv_precision_list), statistics.mean(cv_recall_list), statistics.mean(cv_fpr_list), statistics.mean(cv_ba_acc_list)))\n",
    "\n",
    "print(\"------------------------------------------------------------------------------------------\")\n",
    "print(\"Accuracy SD: %s \\nAUCROC SD: %s \\nMCC SD: %s \\nSensitivity SD: %s \\nSpecificity SD: %s \\nPrecision SD: %s  \\nBalanced Accuracy SD: %s\" % (\n",
    "        np.std(cv_acc_list), np.std(cv_rocauc_list), np.std(cv_mcc_list),\n",
    "        np.std(cv_sensitivity_list), np.std(cv_specificity_list), np.std(cv_precision_list), np.std(cv_ba_acc_list)))\n",
    "\n",
    "\n",
    "print(\"------------------------------------------------------------------------------------------\")\n",
    "\n",
    "# Print the matrix\n",
    "(sum(matrix))"
   ],
   "metadata": {
    "collapsed": false
   }
  },
  {
   "cell_type": "raw",
   "source": [
    "------------------------------------------------------------------------------------------\n",
    "Stratified Cross-Validation Performance\n",
    "------------------------------------------------------------------------------------------\n",
    "Accuracy: 0.7965263694677152\n",
    "AUCROC: 0.8611241018859896\n",
    "MCC: 0.03953097593910852\n",
    "Sensitivity: 0.7965438793589975\n",
    "Specificity: 0.7744292237442922\n",
    "Precision: 0.9997790806973442\n",
    "Balanced Accuracy: 0.7854865515516448\n",
    "------------------------------------------------------------------------------------------\n",
    "Accuracy SD: 0.006157769535348774\n",
    "AUCROC SD: 0.022804114323250635\n",
    "MCC SD: 0.0034999968562227928\n",
    "Sensitivity SD: 0.006190267537706508\n",
    "Specificity SD: 0.059016608792995646\n",
    "Precision SD: 5.798036521548477e-05\n",
    "Balanced Accuracy SD: 0.02774994507210951"
   ],
   "metadata": {
    "collapsed": false
   }
  },
  {
   "cell_type": "code",
   "execution_count": 10,
   "outputs": [
    {
     "name": "stdout",
     "output_type": "stream",
     "text": [
      "                                   Property  Average_importance\n",
      "0                                 RC3-Score            0.193397\n",
      "7                   repeat_features:Unknown            0.115129\n",
      "2   repeat_features:Type I Transposons/SINE            0.098278\n",
      "13                     Acceptor splice site            0.096440\n",
      "6            repeat_features:Tandem repeats            0.079160\n",
      "12                     repeat_features:LTRs            0.072402\n",
      "3                      repeat_features:Dust            0.066969\n",
      "4            repeat_features:Simple repeats            0.065736\n",
      "1   repeat_features:Type I Transposons/LINE            0.057628\n",
      "11      repeat_features:Type II Transposons            0.053687\n",
      "5    repeat_features:Low complexity regions            0.044909\n",
      "14                        Donor splice site            0.043799\n",
      "10              repeat_features:RNA repeats            0.012467\n",
      "8         repeat_features:Satellite repeats            0.000000\n",
      "9                repeat_features:Centromere            0.000000\n"
     ]
    }
   ],
   "source": [
    "# Next we will evaluate the feature importance of the XGBoost model.\n",
    "def evaluate_feature_importance(df_evaluate_feature_importance, md):\n",
    "    feature_importance_average = [np.mean(i) for i in zip(*[md.get(model).feature_importances_ for model in md])]\n",
    "    df_feature_importance = pd.DataFrame()\n",
    "    df_feature_importance[\"Property\"] = df_evaluate_feature_importance.columns\n",
    "    df_feature_importance[\"Average_importance\"] = feature_importance_average\n",
    "    print(df_feature_importance.sort_values(by=\"Average_importance\", ascending=False).head(50))\n",
    "\n",
    "evaluate_feature_importance(md=model_dict, df_evaluate_feature_importance=df_annot_test_X_1.copy())"
   ],
   "metadata": {
    "collapsed": false
   }
  },
  {
   "cell_type": "code",
   "execution_count": 10,
   "outputs": [],
   "source": [],
   "metadata": {
    "collapsed": false
   }
  }
 ],
 "metadata": {
  "kernelspec": {
   "display_name": "Python 3",
   "language": "python",
   "name": "python3"
  },
  "language_info": {
   "codemirror_mode": {
    "name": "ipython",
    "version": 2
   },
   "file_extension": ".py",
   "mimetype": "text/x-python",
   "name": "python",
   "nbconvert_exporter": "python",
   "pygments_lexer": "ipython2",
   "version": "2.7.6"
  }
 },
 "nbformat": 4,
 "nbformat_minor": 0
}
