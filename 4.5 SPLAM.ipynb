{
 "cells": [
  {
   "cell_type": "code",
   "execution_count": 1,
   "metadata": {
    "collapsed": true,
    "ExecuteTime": {
     "end_time": "2023-08-06T10:14:13.449277Z",
     "start_time": "2023-08-06T10:14:13.443951Z"
    }
   },
   "outputs": [],
   "source": [
    "import splam"
   ]
  },
  {
   "cell_type": "code",
   "execution_count": 4,
   "outputs": [
    {
     "name": "stdout",
     "output_type": "stream",
     "text": [
      "=====================================================================\r\n",
      " An accurate spliced alignment pruner and splice junction predictor. \r\n",
      "=====================================================================\r\n",
      "\r\n",
      "\r\n",
      "  ███████╗██████╗ ██╗      █████╗ ███╗   ███╗\r\n",
      "  ██╔════╝██╔══██╗██║     ██╔══██╗████╗ ████║\r\n",
      "  ███████╗██████╔╝██║     ███████║██╔████╔██║\r\n",
      "  ╚════██║██╔═══╝ ██║     ██╔══██║██║╚██╔╝██║\r\n",
      "  ███████║██║     ███████╗██║  ██║██║ ╚═╝ ██║\r\n",
      "  ╚══════╝╚═╝     ╚══════╝╚═╝  ╚═╝╚═╝     ╚═╝\r\n",
      "    \r\n",
      "gff_file:  ftp-data/sample.gtf\r\n",
      "gff_db:  tmp_out_gff/annotation.db\r\n",
      "bed_file:  tmp_out_gff/junction.bed\r\n",
      "2023-08-06 22:22:31,045 - INFO - Committing changes: 0 features\r\n",
      "2023-08-06 22:22:31,045 - INFO - Populating features table and first-order relations: 8 features\r\n",
      "2023-08-06 22:22:31,045 - INFO - Creating relations(parent) index\r\n",
      "2023-08-06 22:22:31,046 - INFO - Creating relations(child) index\r\n",
      "2023-08-06 22:22:31,046 - INFO - Inferring gene and transcript extents and writing to tempfile\r\n",
      "2023-08-06 22:22:31,048 - INFO - Importing inferred features into db\r\n",
      "2023-08-06 22:22:31,054 - INFO - Committing changes\r\n",
      "2023-08-06 22:22:31,054 - INFO - Creating relations(parent) index\r\n",
      "2023-08-06 22:22:31,055 - INFO - Creating relations(child) index\r\n",
      "2023-08-06 22:22:31,055 - INFO - Creating features(featuretype) index\r\n",
      "2023-08-06 22:22:31,055 - INFO - Creating features (seqid, start, end) index\r\n",
      "2023-08-06 22:22:31,055 - INFO - Creating features (seqid, start, end, strand) index\r\n",
      "2023-08-06 22:22:31,055 - INFO - Running ANALYZE features\r\n"
     ]
    }
   ],
   "source": [
    "!splam extract ftp-data/sample.gtf -o tmp_out_gff"
   ],
   "metadata": {
    "collapsed": false,
    "ExecuteTime": {
     "end_time": "2023-08-06T12:22:31.527809Z",
     "start_time": "2023-08-06T12:22:26.922587Z"
    }
   }
  },
  {
   "cell_type": "code",
   "execution_count": 11,
   "outputs": [
    {
     "name": "stdout",
     "output_type": "stream",
     "text": [
      "zsh:1: no matches found: /Users/rabbit/PycharmProjects/gsoc_tasmania_edition/ML_gene_annot(copy)/release-109-hg38/hg38.fa\r\n"
     ]
    }
   ],
   "source": [
    "!splam score -G /Users/rabbit/PycharmProjects/gsoc_tasmania_edition/ML_gene_annot(copy)/release-109-hg38/hg38.fa -m splam_script.pt ~/PycharmProjects/gsoc_tasmania_edition/ML_gene_annot(copy)/tmp_out_gff/junction.bed"
   ],
   "metadata": {
    "collapsed": false,
    "ExecuteTime": {
     "end_time": "2023-08-06T12:28:49.281481Z",
     "start_time": "2023-08-06T12:28:49.142746Z"
    }
   }
  },
  {
   "cell_type": "code",
   "execution_count": 14,
   "outputs": [
    {
     "name": "stdout",
     "output_type": "stream",
     "text": [
      "mv: rename bedtools.static to bedtools: No such file or directory\r\n"
     ]
    }
   ],
   "source": [
    "!mv bedtools.static bedtools"
   ],
   "metadata": {
    "collapsed": false,
    "ExecuteTime": {
     "end_time": "2023-08-06T12:55:22.118736Z",
     "start_time": "2023-08-06T12:55:21.951726Z"
    }
   }
  },
  {
   "cell_type": "code",
   "execution_count": 15,
   "outputs": [
    {
     "name": "stdout",
     "output_type": "stream",
     "text": [
      "zsh:1: command not found: bedtools\r\n"
     ]
    }
   ],
   "source": [
    "!bedtools"
   ],
   "metadata": {
    "collapsed": false,
    "ExecuteTime": {
     "end_time": "2023-08-06T12:55:27.926490Z",
     "start_time": "2023-08-06T12:55:27.656295Z"
    }
   }
  },
  {
   "cell_type": "code",
   "execution_count": null,
   "outputs": [],
   "source": [],
   "metadata": {
    "collapsed": false
   }
  }
 ],
 "metadata": {
  "kernelspec": {
   "display_name": "Python 3",
   "language": "python",
   "name": "python3"
  },
  "language_info": {
   "codemirror_mode": {
    "name": "ipython",
    "version": 2
   },
   "file_extension": ".py",
   "mimetype": "text/x-python",
   "name": "python",
   "nbconvert_exporter": "python",
   "pygments_lexer": "ipython2",
   "version": "2.7.6"
  }
 },
 "nbformat": 4,
 "nbformat_minor": 0
}
