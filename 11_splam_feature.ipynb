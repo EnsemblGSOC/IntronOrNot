{
 "cells": [
  {
   "cell_type": "markdown",
   "source": [
    "# SPLAM"
   ],
   "metadata": {
    "collapsed": false
   }
  },
  {
   "cell_type": "code",
   "execution_count": 2,
   "outputs": [],
   "source": [
    "import pandas as pd"
   ],
   "metadata": {
    "collapsed": false
   }
  },
  {
   "cell_type": "code",
   "execution_count": 2,
   "outputs": [],
   "source": [
    "# Read the TSV file into a pandas DataFrame\n",
    "df = pd.read_csv(\"data/04_train_set.tsv\", sep='\\t')\n",
    "\n",
    "# Generate a new 'junction' column\n",
    "df['junction'] = ['JUNC{:08d}'.format(i+1) for i in range(df.shape[0])]\n",
    "\n",
    "# Reorder and rename columns to match the desired BED format\n",
    "df = df[['chr', 'start', 'end', 'junction', 'class', 'strand']]\n",
    "\n",
    "# Write the DataFrame to a BED file, without the header and index\n",
    "df.to_csv(\"data/splam/splam_introns.bed\", sep='\\t', header=False, index=False)"
   ],
   "metadata": {
    "collapsed": false,
    "ExecuteTime": {
     "end_time": "2023-08-06T12:22:31.527809Z",
     "start_time": "2023-08-06T12:22:26.922587Z"
    }
   }
  },
  {
   "cell_type": "code",
   "execution_count": 4,
   "outputs": [
    {
     "data": {
      "text/plain": "         chr     start       end      junction  class strand\n0       chr1     12227     12612  JUNC00000001      1      +\n1       chr1     12721     13220  JUNC00000002      1      +\n2       chr1     12057     12178  JUNC00000003      1      +\n3       chr1     12697     12974  JUNC00000004      1      +\n4       chr1     13052     13220  JUNC00000005      1      +\n...      ...       ...       ...           ...    ...    ...\n519029  chrY  25464577  25465486  JUNC00519030      0      +\n519030  chrY  25513173  25513588  JUNC00519031      0      -\n519031  chrY  25513745  25516715  JUNC00519032      0      -\n519032  chrY  25525288  25527646  JUNC00519033      0      -\n519033  chrY  57213357  57213855  JUNC00519034      0      -\n\n[519034 rows x 6 columns]",
      "text/html": "<div>\n<style scoped>\n    .dataframe tbody tr th:only-of-type {\n        vertical-align: middle;\n    }\n\n    .dataframe tbody tr th {\n        vertical-align: top;\n    }\n\n    .dataframe thead th {\n        text-align: right;\n    }\n</style>\n<table border=\"1\" class=\"dataframe\">\n  <thead>\n    <tr style=\"text-align: right;\">\n      <th></th>\n      <th>chr</th>\n      <th>start</th>\n      <th>end</th>\n      <th>junction</th>\n      <th>class</th>\n      <th>strand</th>\n    </tr>\n  </thead>\n  <tbody>\n    <tr>\n      <th>0</th>\n      <td>chr1</td>\n      <td>12227</td>\n      <td>12612</td>\n      <td>JUNC00000001</td>\n      <td>1</td>\n      <td>+</td>\n    </tr>\n    <tr>\n      <th>1</th>\n      <td>chr1</td>\n      <td>12721</td>\n      <td>13220</td>\n      <td>JUNC00000002</td>\n      <td>1</td>\n      <td>+</td>\n    </tr>\n    <tr>\n      <th>2</th>\n      <td>chr1</td>\n      <td>12057</td>\n      <td>12178</td>\n      <td>JUNC00000003</td>\n      <td>1</td>\n      <td>+</td>\n    </tr>\n    <tr>\n      <th>3</th>\n      <td>chr1</td>\n      <td>12697</td>\n      <td>12974</td>\n      <td>JUNC00000004</td>\n      <td>1</td>\n      <td>+</td>\n    </tr>\n    <tr>\n      <th>4</th>\n      <td>chr1</td>\n      <td>13052</td>\n      <td>13220</td>\n      <td>JUNC00000005</td>\n      <td>1</td>\n      <td>+</td>\n    </tr>\n    <tr>\n      <th>...</th>\n      <td>...</td>\n      <td>...</td>\n      <td>...</td>\n      <td>...</td>\n      <td>...</td>\n      <td>...</td>\n    </tr>\n    <tr>\n      <th>519029</th>\n      <td>chrY</td>\n      <td>25464577</td>\n      <td>25465486</td>\n      <td>JUNC00519030</td>\n      <td>0</td>\n      <td>+</td>\n    </tr>\n    <tr>\n      <th>519030</th>\n      <td>chrY</td>\n      <td>25513173</td>\n      <td>25513588</td>\n      <td>JUNC00519031</td>\n      <td>0</td>\n      <td>-</td>\n    </tr>\n    <tr>\n      <th>519031</th>\n      <td>chrY</td>\n      <td>25513745</td>\n      <td>25516715</td>\n      <td>JUNC00519032</td>\n      <td>0</td>\n      <td>-</td>\n    </tr>\n    <tr>\n      <th>519032</th>\n      <td>chrY</td>\n      <td>25525288</td>\n      <td>25527646</td>\n      <td>JUNC00519033</td>\n      <td>0</td>\n      <td>-</td>\n    </tr>\n    <tr>\n      <th>519033</th>\n      <td>chrY</td>\n      <td>57213357</td>\n      <td>57213855</td>\n      <td>JUNC00519034</td>\n      <td>0</td>\n      <td>-</td>\n    </tr>\n  </tbody>\n</table>\n<p>519034 rows × 6 columns</p>\n</div>"
     },
     "execution_count": 4,
     "metadata": {},
     "output_type": "execute_result"
    }
   ],
   "source": [
    "df"
   ],
   "metadata": {
    "collapsed": false
   }
  },
  {
   "cell_type": "markdown",
   "source": [
    "## We then run the SPLAM score, see below"
   ],
   "metadata": {
    "collapsed": false
   }
  },
  {
   "cell_type": "markdown",
   "source": [
    "<pre>\n",
    "Command:\n",
    "!splam score -G data/human_ref_hg38_109/GRCh38.primary_assembly.genome.fa -m data/splam/splam_script.pt data/splam/splam_introns.bed\n",
    "\n",
    "=====================================================================\n",
    " An accurate spliced alignment pruner and splice junction predictor.\n",
    "=====================================================================\n",
    "\n",
    "\n",
    "  ███████╗██████╗ ██╗      █████╗ ███╗   ███╗\n",
    "  ██╔════╝██╔══██╗██║     ██╔══██╗████╗ ████║\n",
    "  ███████╗██████╔╝██║     ███████║██╔████╔██║\n",
    "  ╚════██║██╔═══╝ ██║     ██╔══██║██║╚██╔╝██║\n",
    "  ███████║██║     ███████╗██║  ██║██║ ╚═╝ ██║\n",
    "  ╚══════╝╚═╝     ╚══════╝╚═╝  ╚═╝╚═╝     ╚═╝\n",
    "\n",
    "[Info] Chromosomes in the annotation file is in 'chr*' style\n",
    "[Info] Running model in \"cuda\" mode\n",
    "[Info] Loading model ... (data/splam/splam_script.pt)\n",
    "model = torch.load(model_path)!!\n",
    "[Info] Done loading model\n",
    "[Info] Loading data ...\n",
    "         50000  junctions loaded.\n",
    "         100000  junctions loaded.\n",
    "         150000  junctions loaded.\n",
    "         200000  junctions loaded.\n",
    "         250000  junctions loaded.\n",
    "         300000  junctions loaded.\n",
    "         350000  junctions loaded.\n",
    "         400000  junctions loaded.\n",
    "         450000  junctions loaded.\n",
    "         500000  junctions loaded.\n",
    "         519020  junctions loaded.\n",
    "[Info] Done loading data\n",
    "[Info] SPLAM!  |################################| 51902/51902\n",
    "</pre>"
   ],
   "metadata": {
    "collapsed": false
   }
  },
  {
   "cell_type": "markdown",
   "source": [
    "## We then move the output junction_score.bed at root/tmp_out to data/splam and deleted the rest"
   ],
   "metadata": {
    "collapsed": false
   }
  },
  {
   "cell_type": "code",
   "execution_count": 3,
   "outputs": [
    {
     "data": {
      "text/plain": "        chr1     12227     12612  JUNC00000001  1  +  0.99992514  0.9998584  \\\n0       chr1     12721     13220  JUNC00000002  1  +    0.999545   0.999214   \n1       chr1     12057     12178  JUNC00000003  1  +    0.100124   0.533779   \n2       chr1     12697     12974  JUNC00000004  1  +    0.996771   0.984649   \n3       chr1     13052     13220  JUNC00000005  1  +    0.225408   0.238977   \n4       chr1     13374     13452  JUNC00000006  1  +    0.004987   0.007289   \n...      ...       ...       ...           ... .. ..         ...        ...   \n519014  chrY  25464577  25465486  JUNC00519030  0  +    0.981751   0.991057   \n519015  chrY  25513173  25513588  JUNC00519031  0  -    0.999749   0.999595   \n519016  chrY  25513745  25516715  JUNC00519032  0  -    0.072688   0.052010   \n519017  chrY  25525288  25527646  JUNC00519033  0  -    0.998390   0.994151   \n519018  chrY  57213357  57213855  JUNC00519034  0  -    0.997673   0.997909   \n\n        Unnamed: 8  \n0              NaN  \n1              NaN  \n2              NaN  \n3              NaN  \n4              NaN  \n...            ...  \n519014         NaN  \n519015         NaN  \n519016         NaN  \n519017         NaN  \n519018         NaN  \n\n[519019 rows x 9 columns]",
      "text/html": "<div>\n<style scoped>\n    .dataframe tbody tr th:only-of-type {\n        vertical-align: middle;\n    }\n\n    .dataframe tbody tr th {\n        vertical-align: top;\n    }\n\n    .dataframe thead th {\n        text-align: right;\n    }\n</style>\n<table border=\"1\" class=\"dataframe\">\n  <thead>\n    <tr style=\"text-align: right;\">\n      <th></th>\n      <th>chr1</th>\n      <th>12227</th>\n      <th>12612</th>\n      <th>JUNC00000001</th>\n      <th>1</th>\n      <th>+</th>\n      <th>0.99992514</th>\n      <th>0.9998584</th>\n      <th>Unnamed: 8</th>\n    </tr>\n  </thead>\n  <tbody>\n    <tr>\n      <th>0</th>\n      <td>chr1</td>\n      <td>12721</td>\n      <td>13220</td>\n      <td>JUNC00000002</td>\n      <td>1</td>\n      <td>+</td>\n      <td>0.999545</td>\n      <td>0.999214</td>\n      <td>NaN</td>\n    </tr>\n    <tr>\n      <th>1</th>\n      <td>chr1</td>\n      <td>12057</td>\n      <td>12178</td>\n      <td>JUNC00000003</td>\n      <td>1</td>\n      <td>+</td>\n      <td>0.100124</td>\n      <td>0.533779</td>\n      <td>NaN</td>\n    </tr>\n    <tr>\n      <th>2</th>\n      <td>chr1</td>\n      <td>12697</td>\n      <td>12974</td>\n      <td>JUNC00000004</td>\n      <td>1</td>\n      <td>+</td>\n      <td>0.996771</td>\n      <td>0.984649</td>\n      <td>NaN</td>\n    </tr>\n    <tr>\n      <th>3</th>\n      <td>chr1</td>\n      <td>13052</td>\n      <td>13220</td>\n      <td>JUNC00000005</td>\n      <td>1</td>\n      <td>+</td>\n      <td>0.225408</td>\n      <td>0.238977</td>\n      <td>NaN</td>\n    </tr>\n    <tr>\n      <th>4</th>\n      <td>chr1</td>\n      <td>13374</td>\n      <td>13452</td>\n      <td>JUNC00000006</td>\n      <td>1</td>\n      <td>+</td>\n      <td>0.004987</td>\n      <td>0.007289</td>\n      <td>NaN</td>\n    </tr>\n    <tr>\n      <th>...</th>\n      <td>...</td>\n      <td>...</td>\n      <td>...</td>\n      <td>...</td>\n      <td>...</td>\n      <td>...</td>\n      <td>...</td>\n      <td>...</td>\n      <td>...</td>\n    </tr>\n    <tr>\n      <th>519014</th>\n      <td>chrY</td>\n      <td>25464577</td>\n      <td>25465486</td>\n      <td>JUNC00519030</td>\n      <td>0</td>\n      <td>+</td>\n      <td>0.981751</td>\n      <td>0.991057</td>\n      <td>NaN</td>\n    </tr>\n    <tr>\n      <th>519015</th>\n      <td>chrY</td>\n      <td>25513173</td>\n      <td>25513588</td>\n      <td>JUNC00519031</td>\n      <td>0</td>\n      <td>-</td>\n      <td>0.999749</td>\n      <td>0.999595</td>\n      <td>NaN</td>\n    </tr>\n    <tr>\n      <th>519016</th>\n      <td>chrY</td>\n      <td>25513745</td>\n      <td>25516715</td>\n      <td>JUNC00519032</td>\n      <td>0</td>\n      <td>-</td>\n      <td>0.072688</td>\n      <td>0.052010</td>\n      <td>NaN</td>\n    </tr>\n    <tr>\n      <th>519017</th>\n      <td>chrY</td>\n      <td>25525288</td>\n      <td>25527646</td>\n      <td>JUNC00519033</td>\n      <td>0</td>\n      <td>-</td>\n      <td>0.998390</td>\n      <td>0.994151</td>\n      <td>NaN</td>\n    </tr>\n    <tr>\n      <th>519018</th>\n      <td>chrY</td>\n      <td>57213357</td>\n      <td>57213855</td>\n      <td>JUNC00519034</td>\n      <td>0</td>\n      <td>-</td>\n      <td>0.997673</td>\n      <td>0.997909</td>\n      <td>NaN</td>\n    </tr>\n  </tbody>\n</table>\n<p>519019 rows × 9 columns</p>\n</div>"
     },
     "execution_count": 3,
     "metadata": {},
     "output_type": "execute_result"
    }
   ],
   "source": [
    "df_splam_output = pd.read_csv(\"data/splam/junction_score.bed\", sep='\\t')\n",
    "df_splam_output"
   ],
   "metadata": {
    "collapsed": false
   }
  },
  {
   "cell_type": "code",
   "execution_count": 4,
   "outputs": [
    {
     "data": {
      "text/plain": "        chr1     12227     12612  JUNC00000001  1  +  0.99992514  0.9998584\n0       chr1     12721     13220  JUNC00000002  1  +    0.999545   0.999214\n1       chr1     12057     12178  JUNC00000003  1  +    0.100124   0.533779\n2       chr1     12697     12974  JUNC00000004  1  +    0.996771   0.984649\n3       chr1     13052     13220  JUNC00000005  1  +    0.225408   0.238977\n4       chr1     13374     13452  JUNC00000006  1  +    0.004987   0.007289\n...      ...       ...       ...           ... .. ..         ...        ...\n519014  chrY  25464577  25465486  JUNC00519030  0  +    0.981751   0.991057\n519015  chrY  25513173  25513588  JUNC00519031  0  -    0.999749   0.999595\n519016  chrY  25513745  25516715  JUNC00519032  0  -    0.072688   0.052010\n519017  chrY  25525288  25527646  JUNC00519033  0  -    0.998390   0.994151\n519018  chrY  57213357  57213855  JUNC00519034  0  -    0.997673   0.997909\n\n[519019 rows x 8 columns]",
      "text/html": "<div>\n<style scoped>\n    .dataframe tbody tr th:only-of-type {\n        vertical-align: middle;\n    }\n\n    .dataframe tbody tr th {\n        vertical-align: top;\n    }\n\n    .dataframe thead th {\n        text-align: right;\n    }\n</style>\n<table border=\"1\" class=\"dataframe\">\n  <thead>\n    <tr style=\"text-align: right;\">\n      <th></th>\n      <th>chr1</th>\n      <th>12227</th>\n      <th>12612</th>\n      <th>JUNC00000001</th>\n      <th>1</th>\n      <th>+</th>\n      <th>0.99992514</th>\n      <th>0.9998584</th>\n    </tr>\n  </thead>\n  <tbody>\n    <tr>\n      <th>0</th>\n      <td>chr1</td>\n      <td>12721</td>\n      <td>13220</td>\n      <td>JUNC00000002</td>\n      <td>1</td>\n      <td>+</td>\n      <td>0.999545</td>\n      <td>0.999214</td>\n    </tr>\n    <tr>\n      <th>1</th>\n      <td>chr1</td>\n      <td>12057</td>\n      <td>12178</td>\n      <td>JUNC00000003</td>\n      <td>1</td>\n      <td>+</td>\n      <td>0.100124</td>\n      <td>0.533779</td>\n    </tr>\n    <tr>\n      <th>2</th>\n      <td>chr1</td>\n      <td>12697</td>\n      <td>12974</td>\n      <td>JUNC00000004</td>\n      <td>1</td>\n      <td>+</td>\n      <td>0.996771</td>\n      <td>0.984649</td>\n    </tr>\n    <tr>\n      <th>3</th>\n      <td>chr1</td>\n      <td>13052</td>\n      <td>13220</td>\n      <td>JUNC00000005</td>\n      <td>1</td>\n      <td>+</td>\n      <td>0.225408</td>\n      <td>0.238977</td>\n    </tr>\n    <tr>\n      <th>4</th>\n      <td>chr1</td>\n      <td>13374</td>\n      <td>13452</td>\n      <td>JUNC00000006</td>\n      <td>1</td>\n      <td>+</td>\n      <td>0.004987</td>\n      <td>0.007289</td>\n    </tr>\n    <tr>\n      <th>...</th>\n      <td>...</td>\n      <td>...</td>\n      <td>...</td>\n      <td>...</td>\n      <td>...</td>\n      <td>...</td>\n      <td>...</td>\n      <td>...</td>\n    </tr>\n    <tr>\n      <th>519014</th>\n      <td>chrY</td>\n      <td>25464577</td>\n      <td>25465486</td>\n      <td>JUNC00519030</td>\n      <td>0</td>\n      <td>+</td>\n      <td>0.981751</td>\n      <td>0.991057</td>\n    </tr>\n    <tr>\n      <th>519015</th>\n      <td>chrY</td>\n      <td>25513173</td>\n      <td>25513588</td>\n      <td>JUNC00519031</td>\n      <td>0</td>\n      <td>-</td>\n      <td>0.999749</td>\n      <td>0.999595</td>\n    </tr>\n    <tr>\n      <th>519016</th>\n      <td>chrY</td>\n      <td>25513745</td>\n      <td>25516715</td>\n      <td>JUNC00519032</td>\n      <td>0</td>\n      <td>-</td>\n      <td>0.072688</td>\n      <td>0.052010</td>\n    </tr>\n    <tr>\n      <th>519017</th>\n      <td>chrY</td>\n      <td>25525288</td>\n      <td>25527646</td>\n      <td>JUNC00519033</td>\n      <td>0</td>\n      <td>-</td>\n      <td>0.998390</td>\n      <td>0.994151</td>\n    </tr>\n    <tr>\n      <th>519018</th>\n      <td>chrY</td>\n      <td>57213357</td>\n      <td>57213855</td>\n      <td>JUNC00519034</td>\n      <td>0</td>\n      <td>-</td>\n      <td>0.997673</td>\n      <td>0.997909</td>\n    </tr>\n  </tbody>\n</table>\n<p>519019 rows × 8 columns</p>\n</div>"
     },
     "execution_count": 4,
     "metadata": {},
     "output_type": "execute_result"
    }
   ],
   "source": [
    "df_splam_output = df_splam_output.drop(columns=\"Unnamed: 8\")\n",
    "df_splam_output"
   ],
   "metadata": {
    "collapsed": false
   }
  },
  {
   "cell_type": "code",
   "execution_count": 6,
   "outputs": [],
   "source": [
    "df_splam_output.to_csv(\"data/11_trainset_splam_feature.tsv\", sep=\"\\t\")"
   ],
   "metadata": {
    "collapsed": false
   }
  },
  {
   "cell_type": "code",
   "execution_count": null,
   "outputs": [],
   "source": [],
   "metadata": {
    "collapsed": false
   }
  }
 ],
 "metadata": {
  "kernelspec": {
   "display_name": "Python 3",
   "language": "python",
   "name": "python3"
  },
  "language_info": {
   "codemirror_mode": {
    "name": "ipython",
    "version": 2
   },
   "file_extension": ".py",
   "mimetype": "text/x-python",
   "name": "python",
   "nbconvert_exporter": "python",
   "pygments_lexer": "ipython2",
   "version": "2.7.6"
  }
 },
 "nbformat": 4,
 "nbformat_minor": 0
}
