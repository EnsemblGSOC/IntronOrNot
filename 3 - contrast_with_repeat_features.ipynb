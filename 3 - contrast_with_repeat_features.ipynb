{
 "cells": [
  {
   "cell_type": "code",
   "execution_count": 1,
   "metadata": {
    "collapsed": true
   },
   "outputs": [],
   "source": [
    "import pandas as pd\n",
    "from tqdm import tqdm\n",
    "from pandarallel import pandarallel"
   ]
  },
  {
   "cell_type": "code",
   "execution_count": 2,
   "outputs": [
    {
     "data": {
      "text/plain": "       chrom  intron_id  intron_start  intron_ends strand  Duplicate_Count  \\\n0       chr1          0         12227        12612      +                2   \n1       chr1          1         12721        13220      +                1   \n2       chr1          0         12057        12178      +                1   \n3       chr1          2         12697        12974      +                1   \n4       chr1          3         13052        13220      +                1   \n...      ...        ...           ...          ...    ...              ...   \n517017  chrY          0         15955     57212183      -                1   \n517018  chrY          1      57213125     57213203      -                1   \n517019  chrY          2      57213357     57213525      -                1   \n517020  chrY          3      57213602     57213879      -                1   \n517021  chrY          4      57213964     57214349      -                1   \n\n                                                      RC3  \n0       ['GTExv2=1122:3199;TCGAv2=583:1460;SRAv3h=9374...  \n1       ['GTExv2=1791:3198;TCGAv2=783:1104;SRAv3h=1404...  \n2                                              [None, -1]  \n3         ['GTExv2=1:1;TCGAv2=1:1;SRAv3h=15:19;GT:AG' 21]  \n4       ['GTExv2=22:24;TCGAv2=17:18;SRAv3h=433:484;GC:...  \n...                                                   ...  \n517017                                         [None, -1]  \n517018                                         [None, -1]  \n517019                                         [None, -1]  \n517020                                         [None, -1]  \n517021                                         [None, -1]  \n\n[517022 rows x 7 columns]",
      "text/html": "<div>\n<style scoped>\n    .dataframe tbody tr th:only-of-type {\n        vertical-align: middle;\n    }\n\n    .dataframe tbody tr th {\n        vertical-align: top;\n    }\n\n    .dataframe thead th {\n        text-align: right;\n    }\n</style>\n<table border=\"1\" class=\"dataframe\">\n  <thead>\n    <tr style=\"text-align: right;\">\n      <th></th>\n      <th>chrom</th>\n      <th>intron_id</th>\n      <th>intron_start</th>\n      <th>intron_ends</th>\n      <th>strand</th>\n      <th>Duplicate_Count</th>\n      <th>RC3</th>\n    </tr>\n  </thead>\n  <tbody>\n    <tr>\n      <th>0</th>\n      <td>chr1</td>\n      <td>0</td>\n      <td>12227</td>\n      <td>12612</td>\n      <td>+</td>\n      <td>2</td>\n      <td>['GTExv2=1122:3199;TCGAv2=583:1460;SRAv3h=9374...</td>\n    </tr>\n    <tr>\n      <th>1</th>\n      <td>chr1</td>\n      <td>1</td>\n      <td>12721</td>\n      <td>13220</td>\n      <td>+</td>\n      <td>1</td>\n      <td>['GTExv2=1791:3198;TCGAv2=783:1104;SRAv3h=1404...</td>\n    </tr>\n    <tr>\n      <th>2</th>\n      <td>chr1</td>\n      <td>0</td>\n      <td>12057</td>\n      <td>12178</td>\n      <td>+</td>\n      <td>1</td>\n      <td>[None, -1]</td>\n    </tr>\n    <tr>\n      <th>3</th>\n      <td>chr1</td>\n      <td>2</td>\n      <td>12697</td>\n      <td>12974</td>\n      <td>+</td>\n      <td>1</td>\n      <td>['GTExv2=1:1;TCGAv2=1:1;SRAv3h=15:19;GT:AG' 21]</td>\n    </tr>\n    <tr>\n      <th>4</th>\n      <td>chr1</td>\n      <td>3</td>\n      <td>13052</td>\n      <td>13220</td>\n      <td>+</td>\n      <td>1</td>\n      <td>['GTExv2=22:24;TCGAv2=17:18;SRAv3h=433:484;GC:...</td>\n    </tr>\n    <tr>\n      <th>...</th>\n      <td>...</td>\n      <td>...</td>\n      <td>...</td>\n      <td>...</td>\n      <td>...</td>\n      <td>...</td>\n      <td>...</td>\n    </tr>\n    <tr>\n      <th>517017</th>\n      <td>chrY</td>\n      <td>0</td>\n      <td>15955</td>\n      <td>57212183</td>\n      <td>-</td>\n      <td>1</td>\n      <td>[None, -1]</td>\n    </tr>\n    <tr>\n      <th>517018</th>\n      <td>chrY</td>\n      <td>1</td>\n      <td>57213125</td>\n      <td>57213203</td>\n      <td>-</td>\n      <td>1</td>\n      <td>[None, -1]</td>\n    </tr>\n    <tr>\n      <th>517019</th>\n      <td>chrY</td>\n      <td>2</td>\n      <td>57213357</td>\n      <td>57213525</td>\n      <td>-</td>\n      <td>1</td>\n      <td>[None, -1]</td>\n    </tr>\n    <tr>\n      <th>517020</th>\n      <td>chrY</td>\n      <td>3</td>\n      <td>57213602</td>\n      <td>57213879</td>\n      <td>-</td>\n      <td>1</td>\n      <td>[None, -1]</td>\n    </tr>\n    <tr>\n      <th>517021</th>\n      <td>chrY</td>\n      <td>4</td>\n      <td>57213964</td>\n      <td>57214349</td>\n      <td>-</td>\n      <td>1</td>\n      <td>[None, -1]</td>\n    </tr>\n  </tbody>\n</table>\n<p>517022 rows × 7 columns</p>\n</div>"
     },
     "execution_count": 2,
     "metadata": {},
     "output_type": "execute_result"
    }
   ],
   "source": [
    "df_main = pd.read_csv(\"modded_recount3_inc\")\n",
    "df_main"
   ],
   "metadata": {
    "collapsed": false
   }
  },
  {
   "cell_type": "code",
   "execution_count": 3,
   "outputs": [],
   "source": [
    "def match_repeat_features(row):\n",
    "    # print(row)\n",
    "    # print(row.chrom)\n",
    "    # try:\n",
    "        # score = df_recount3_test.loc[(row.strand, row.intron_start, row.intron_ends), [\"Features\", \"Score\"]].values\n",
    "    # !echo 'tabix ftp-data/recount3.bed.gz {row.chrom}:{row.intron_start}-{row.intron_ends}'\n",
    "    # !echo tabix ftp-data/repeat_features.bed.gz {row.chrom}:{row.intron_start}-{row.intron_ends}\n",
    "    matched_rows = !tabix ftp-data/repeat_features.bed.gz {row.chrom}:{row.intron_start}-{row.intron_ends} | cut -f4 | sort -u\n",
    "    # | awk -F'\\t' '{print $4}' | sort -u\n",
    "    #|    awk -v start={row.intron_start} -v stop={row.intron_ends} '$2 == start && $3 == stop'\n",
    "    # score = !tabix ftp-data/recount3.bed.gz chr1:12227-12612 | awk -v start=12227 -v stop=12612 '$2 == start && $3 == stop'\n",
    "\n",
    "        #\"Chrom\", \"Score\", \"GTExv2\", \"TCGAv2\", \"SRAv3h\", \"Splice_site\"\n",
    "    # except:\n",
    "    #     print(\"ERROR\")\n",
    "    #     score = [None, -1]\n",
    "    #     score = \"Unmatched\"\n",
    "    # print(df_matched)\n",
    "    # print(matched_rows)\n",
    "    # print(type(score))\n",
    "    return list(matched_rows)"
   ],
   "metadata": {
    "collapsed": false
   }
  },
  {
   "cell_type": "code",
   "execution_count": 4,
   "outputs": [
    {
     "name": "stdout",
     "output_type": "stream",
     "text": [
      "INFO: Pandarallel will run on 12 workers.\n",
      "INFO: Pandarallel will use Memory file system to transfer data between the main process and workers.\n"
     ]
    }
   ],
   "source": [
    "pandarallel.initialize(progress_bar=False)"
   ],
   "metadata": {
    "collapsed": false
   }
  },
  {
   "cell_type": "code",
   "execution_count": null,
   "outputs": [],
   "source": [
    "%%time\n",
    "df_draft = df_main.copy().head(50)\n",
    "df_draft[\"Repeat_overlap\"] = df_draft.parallel_apply(match_repeat_features, axis=1)\n",
    "df_draft"
   ],
   "metadata": {
    "collapsed": false
   }
  },
  {
   "cell_type": "code",
   "execution_count": 5,
   "outputs": [
    {
     "name": "stdout",
     "output_type": "stream",
     "text": [
      "CPU times: user 436 ms, sys: 84.7 ms, total: 521 ms\n",
      "Wall time: 5min 50s\n"
     ]
    },
    {
     "data": {
      "text/plain": "       chrom  intron_id  intron_start  intron_ends strand  Duplicate_Count  \\\n0       chr1          0         12227        12612      +                2   \n1       chr1          1         12721        13220      +                1   \n2       chr1          0         12057        12178      +                1   \n3       chr1          2         12697        12974      +                1   \n4       chr1          3         13052        13220      +                1   \n...      ...        ...           ...          ...    ...              ...   \n517017  chrY          0         15955     57212183      -                1   \n517018  chrY          1      57213125     57213203      -                1   \n517019  chrY          2      57213357     57213525      -                1   \n517020  chrY          3      57213602     57213879      -                1   \n517021  chrY          4      57213964     57214349      -                1   \n\n                                                      RC3  \\\n0       ['GTExv2=1122:3199;TCGAv2=583:1460;SRAv3h=9374...   \n1       ['GTExv2=1791:3198;TCGAv2=783:1104;SRAv3h=1404...   \n2                                              [None, -1]   \n3         ['GTExv2=1:1;TCGAv2=1:1;SRAv3h=15:19;GT:AG' 21]   \n4       ['GTExv2=22:24;TCGAv2=17:18;SRAv3h=433:484;GC:...   \n...                                                   ...   \n517017                                         [None, -1]   \n517018                                         [None, -1]   \n517019                                         [None, -1]   \n517020                                         [None, -1]   \n517021                                         [None, -1]   \n\n                                          Repeat_overlaps  \n0                                                      []  \n1                                                      []  \n2                                                      []  \n3                                                      []  \n4                                                      []  \n...                                                   ...  \n517017  [Centromere, Dust, Low complexity regions, LTR...  \n517018                                                 []  \n517019                                                 []  \n517020                                                 []  \n517021                                                 []  \n\n[517022 rows x 8 columns]",
      "text/html": "<div>\n<style scoped>\n    .dataframe tbody tr th:only-of-type {\n        vertical-align: middle;\n    }\n\n    .dataframe tbody tr th {\n        vertical-align: top;\n    }\n\n    .dataframe thead th {\n        text-align: right;\n    }\n</style>\n<table border=\"1\" class=\"dataframe\">\n  <thead>\n    <tr style=\"text-align: right;\">\n      <th></th>\n      <th>chrom</th>\n      <th>intron_id</th>\n      <th>intron_start</th>\n      <th>intron_ends</th>\n      <th>strand</th>\n      <th>Duplicate_Count</th>\n      <th>RC3</th>\n      <th>Repeat_overlaps</th>\n    </tr>\n  </thead>\n  <tbody>\n    <tr>\n      <th>0</th>\n      <td>chr1</td>\n      <td>0</td>\n      <td>12227</td>\n      <td>12612</td>\n      <td>+</td>\n      <td>2</td>\n      <td>['GTExv2=1122:3199;TCGAv2=583:1460;SRAv3h=9374...</td>\n      <td>[]</td>\n    </tr>\n    <tr>\n      <th>1</th>\n      <td>chr1</td>\n      <td>1</td>\n      <td>12721</td>\n      <td>13220</td>\n      <td>+</td>\n      <td>1</td>\n      <td>['GTExv2=1791:3198;TCGAv2=783:1104;SRAv3h=1404...</td>\n      <td>[]</td>\n    </tr>\n    <tr>\n      <th>2</th>\n      <td>chr1</td>\n      <td>0</td>\n      <td>12057</td>\n      <td>12178</td>\n      <td>+</td>\n      <td>1</td>\n      <td>[None, -1]</td>\n      <td>[]</td>\n    </tr>\n    <tr>\n      <th>3</th>\n      <td>chr1</td>\n      <td>2</td>\n      <td>12697</td>\n      <td>12974</td>\n      <td>+</td>\n      <td>1</td>\n      <td>['GTExv2=1:1;TCGAv2=1:1;SRAv3h=15:19;GT:AG' 21]</td>\n      <td>[]</td>\n    </tr>\n    <tr>\n      <th>4</th>\n      <td>chr1</td>\n      <td>3</td>\n      <td>13052</td>\n      <td>13220</td>\n      <td>+</td>\n      <td>1</td>\n      <td>['GTExv2=22:24;TCGAv2=17:18;SRAv3h=433:484;GC:...</td>\n      <td>[]</td>\n    </tr>\n    <tr>\n      <th>...</th>\n      <td>...</td>\n      <td>...</td>\n      <td>...</td>\n      <td>...</td>\n      <td>...</td>\n      <td>...</td>\n      <td>...</td>\n      <td>...</td>\n    </tr>\n    <tr>\n      <th>517017</th>\n      <td>chrY</td>\n      <td>0</td>\n      <td>15955</td>\n      <td>57212183</td>\n      <td>-</td>\n      <td>1</td>\n      <td>[None, -1]</td>\n      <td>[Centromere, Dust, Low complexity regions, LTR...</td>\n    </tr>\n    <tr>\n      <th>517018</th>\n      <td>chrY</td>\n      <td>1</td>\n      <td>57213125</td>\n      <td>57213203</td>\n      <td>-</td>\n      <td>1</td>\n      <td>[None, -1]</td>\n      <td>[]</td>\n    </tr>\n    <tr>\n      <th>517019</th>\n      <td>chrY</td>\n      <td>2</td>\n      <td>57213357</td>\n      <td>57213525</td>\n      <td>-</td>\n      <td>1</td>\n      <td>[None, -1]</td>\n      <td>[]</td>\n    </tr>\n    <tr>\n      <th>517020</th>\n      <td>chrY</td>\n      <td>3</td>\n      <td>57213602</td>\n      <td>57213879</td>\n      <td>-</td>\n      <td>1</td>\n      <td>[None, -1]</td>\n      <td>[]</td>\n    </tr>\n    <tr>\n      <th>517021</th>\n      <td>chrY</td>\n      <td>4</td>\n      <td>57213964</td>\n      <td>57214349</td>\n      <td>-</td>\n      <td>1</td>\n      <td>[None, -1]</td>\n      <td>[]</td>\n    </tr>\n  </tbody>\n</table>\n<p>517022 rows × 8 columns</p>\n</div>"
     },
     "execution_count": 5,
     "metadata": {},
     "output_type": "execute_result"
    }
   ],
   "source": [
    "%%time\n",
    "df_main[\"Repeat_overlaps\"] = df_main.parallel_apply(match_repeat_features, axis=1)\n",
    "df_main"
   ],
   "metadata": {
    "collapsed": false
   }
  },
  {
   "cell_type": "code",
   "execution_count": null,
   "outputs": [],
   "source": [
    "df_main"
   ],
   "metadata": {
    "collapsed": false
   }
  },
  {
   "cell_type": "code",
   "execution_count": 6,
   "outputs": [],
   "source": [
    "df_main.to_csv(\"modded_repeat_features\", index=False)"
   ],
   "metadata": {
    "collapsed": false
   }
  },
  {
   "cell_type": "code",
   "execution_count": null,
   "outputs": [],
   "source": [],
   "metadata": {
    "collapsed": false
   }
  }
 ],
 "metadata": {
  "kernelspec": {
   "display_name": "Python 3",
   "language": "python",
   "name": "python3"
  },
  "language_info": {
   "codemirror_mode": {
    "name": "ipython",
    "version": 2
   },
   "file_extension": ".py",
   "mimetype": "text/x-python",
   "name": "python",
   "nbconvert_exporter": "python",
   "pygments_lexer": "ipython2",
   "version": "2.7.6"
  }
 },
 "nbformat": 4,
 "nbformat_minor": 0
}
