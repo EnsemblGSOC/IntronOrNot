{
 "cells": [
  {
   "cell_type": "code",
   "execution_count": 1,
   "outputs": [],
   "source": [
    "import pandas as pd"
   ],
   "metadata": {
    "collapsed": false
   }
  },
  {
   "cell_type": "code",
   "execution_count": 2,
   "outputs": [
    {
     "data": {
      "text/plain": "['chr1',\n 'chr2',\n 'chr3',\n 'chr4',\n 'chr5',\n 'chr6',\n 'chr7',\n 'chr8',\n 'chr9',\n 'chr10',\n 'chr11',\n 'chr12',\n 'chr13',\n 'chr14',\n 'chr15',\n 'chr16',\n 'chr17',\n 'chr18',\n 'chr19',\n 'chr20',\n 'chr21',\n 'chr22',\n 'chrX',\n 'chrY',\n 'chr11_KI270721v1_random',\n 'chr14_KI270725v1_random',\n 'chr14_KI270726v1_random',\n 'chr15_KI270727v1_random',\n 'chr16_KI270728v1_random',\n 'chr1_KI270711v1_random',\n 'chr22_KI270731v1_random',\n 'chr22_KI270733v1_random',\n 'chr22_KI270734v1_random',\n 'chr1_KI270762v1_alt',\n 'chr1_KI270766v1_alt',\n 'chr1_GL383518v1_alt',\n 'chr1_GL383519v1_alt',\n 'chr1_GL383520v2_alt',\n 'chr1_KI270763v1_alt',\n 'chr1_KI270759v1_alt',\n 'chr1_KI270761v1_alt',\n 'chr2_KI270774v1_alt',\n 'chr2_KI270769v1_alt',\n 'chr2_GL582966v2_alt',\n 'chr2_GL383522v1_alt',\n 'chr2_KI270776v1_alt',\n 'chr2_KI270767v1_alt',\n 'chr3_JH636055v2_alt',\n 'chr3_KI270777v1_alt',\n 'chr3_KI270779v1_alt',\n 'chr3_KI270782v1_alt',\n 'chr4_GL000257v2_alt',\n 'chr4_GL383527v1_alt',\n 'chr5_KI270792v1_alt',\n 'chr5_KI270791v1_alt',\n 'chr5_GL339449v2_alt',\n 'chr5_KI270795v1_alt',\n 'chr6_GL000250v2_alt',\n 'chr6_KI270800v1_alt',\n 'chr6_KI270801v1_alt',\n 'chr6_KI270797v1_alt',\n 'chr6_KI270798v1_alt',\n 'chr7_KI270809v1_alt',\n 'chr7_KI270806v1_alt',\n 'chr7_GL383534v2_alt',\n 'chr7_KI270803v1_alt',\n 'chr7_KI270808v1_alt',\n 'chr8_KI270821v1_alt',\n 'chr8_KI270813v1_alt',\n 'chr8_KI270822v1_alt',\n 'chr8_KI270819v1_alt',\n 'chr8_KI270817v1_alt',\n 'chr8_KI270816v1_alt',\n 'chr8_KI270815v1_alt',\n 'chr9_GL383540v1_alt',\n 'chr9_KI270823v1_alt',\n 'chr10_GL383546v1_alt',\n 'chr10_KI270825v1_alt',\n 'chr11_KI270832v1_alt',\n 'chr11_KI270830v1_alt',\n 'chr11_KI270831v1_alt',\n 'chr11_KI270829v1_alt',\n 'chr11_JH159136v1_alt',\n 'chr11_JH159137v1_alt',\n 'chr12_GL877875v1_alt',\n 'chr12_GL877876v1_alt',\n 'chr12_KI270837v1_alt',\n 'chr12_KI270835v1_alt',\n 'chr12_GL383550v2_alt',\n 'chr12_GL383553v2_alt',\n 'chr12_KI270834v1_alt',\n 'chr12_KI270833v1_alt',\n 'chr13_KI270838v1_alt',\n 'chr14_KI270844v1_alt',\n 'chr14_KI270847v1_alt',\n 'chr14_KI270845v1_alt',\n 'chr14_KI270846v1_alt',\n 'chr15_KI270852v1_alt',\n 'chr15_KI270851v1_alt',\n 'chr15_KI270848v1_alt',\n 'chr15_GL383554v1_alt',\n 'chr15_KI270849v1_alt',\n 'chr15_GL383555v2_alt',\n 'chr15_KI270850v1_alt',\n 'chr16_KI270854v1_alt',\n 'chr16_KI270856v1_alt',\n 'chr16_KI270855v1_alt',\n 'chr16_KI270853v1_alt',\n 'chr16_GL383556v1_alt',\n 'chr16_GL383557v1_alt',\n 'chr17_GL383563v3_alt',\n 'chr17_KI270862v1_alt',\n 'chr17_KI270861v1_alt',\n 'chr17_KI270857v1_alt',\n 'chr17_JH159146v1_alt',\n 'chr17_JH159147v1_alt',\n 'chr17_GL383564v2_alt',\n 'chr17_GL000258v2_alt',\n 'chr17_KI270860v1_alt',\n 'chr18_GL383567v1_alt',\n 'chr18_GL383571v1_alt',\n 'chr18_GL383572v1_alt',\n 'chr18_KI270863v1_alt',\n 'chr19_KI270868v1_alt',\n 'chr19_KI270865v1_alt',\n 'chr19_GL383573v1_alt',\n 'chr19_GL383575v2_alt',\n 'chr19_GL383576v1_alt',\n 'chr19_GL383574v1_alt',\n 'chr19_KI270866v1_alt',\n 'chr19_KI270867v1_alt',\n 'chr19_GL949746v1_alt',\n 'chr20_KI270869v1_alt',\n 'chr20_KI270871v1_alt',\n 'chr20_KI270870v1_alt',\n 'chr21_KI270873v1_alt',\n 'chr21_GL383580v2_alt',\n 'chr21_GL383581v2_alt',\n 'chr21_KI270872v1_alt',\n 'chr22_KI270875v1_alt',\n 'chr22_KI270878v1_alt',\n 'chr22_KI270879v1_alt',\n 'chr22_KI270876v1_alt',\n 'chr22_KI270877v1_alt',\n 'chr22_GL383583v2_alt',\n 'chr22_GL383582v2_alt',\n 'chrX_KI270880v1_alt',\n 'chrX_KI270881v1_alt',\n 'chr19_KI270882v1_alt',\n 'chr19_KI270883v1_alt',\n 'chr19_KI270884v1_alt',\n 'chr19_KI270885v1_alt',\n 'chr19_KI270886v1_alt',\n 'chr19_KI270887v1_alt',\n 'chr19_KI270888v1_alt',\n 'chr19_KI270889v1_alt',\n 'chr19_KI270890v1_alt',\n 'chr19_KI270891v1_alt',\n 'chr1_KI270892v1_alt',\n 'chr2_KI270894v1_alt',\n 'chr2_KI270893v1_alt',\n 'chr3_KI270895v1_alt',\n 'chr4_KI270896v1_alt',\n 'chr5_KI270897v1_alt',\n 'chr5_KI270898v1_alt',\n 'chr6_GL000251v2_alt',\n 'chr8_KI270900v1_alt',\n 'chr11_KI270902v1_alt',\n 'chr11_KI270903v1_alt',\n 'chr12_KI270904v1_alt',\n 'chr15_KI270906v1_alt',\n 'chr15_KI270905v1_alt',\n 'chr17_KI270907v1_alt',\n 'chr17_KI270910v1_alt',\n 'chr17_KI270909v1_alt',\n 'chr17_KI270908v1_alt',\n 'chr18_KI270911v1_alt',\n 'chr19_GL949747v2_alt',\n 'chr22_KB663609v1_alt',\n 'chrX_KI270913v1_alt',\n 'chr19_KI270914v1_alt',\n 'chr19_KI270915v1_alt',\n 'chr19_KI270916v1_alt',\n 'chr19_KI270917v1_alt',\n 'chr19_KI270918v1_alt',\n 'chr19_KI270919v1_alt',\n 'chr19_KI270920v1_alt',\n 'chr19_KI270921v1_alt',\n 'chr19_KI270922v1_alt',\n 'chr19_KI270923v1_alt',\n 'chr3_KI270924v1_alt',\n 'chr6_GL000252v2_alt',\n 'chr8_KI270926v1_alt',\n 'chr11_KI270927v1_alt',\n 'chr19_GL949748v2_alt',\n 'chr22_KI270928v1_alt',\n 'chr19_KI270929v1_alt',\n 'chr19_KI270930v1_alt',\n 'chr19_KI270931v1_alt',\n 'chr19_KI270932v1_alt',\n 'chr19_KI270933v1_alt',\n 'chr19_GL000209v2_alt',\n 'chr3_KI270934v1_alt',\n 'chr6_GL000253v2_alt',\n 'chr19_GL949749v2_alt',\n 'chr3_KI270935v1_alt',\n 'chr6_GL000254v2_alt',\n 'chr19_GL949750v2_alt',\n 'chr3_KI270936v1_alt',\n 'chr6_GL000255v2_alt',\n 'chr19_GL949751v2_alt',\n 'chr3_KI270937v1_alt',\n 'chr6_GL000256v2_alt',\n 'chr19_GL949752v1_alt',\n 'chr6_KI270758v1_alt',\n 'chr19_GL949753v2_alt',\n 'chr19_KI270938v1_alt',\n 'chrUn_KI270442v1',\n 'chrUn_GL000195v1',\n 'chrUn_GL000219v1',\n 'chrUn_GL000213v1',\n 'chrUn_KI270744v1',\n 'chr1_KI270713v1_random',\n 'chr9_GL383539v1_alt']"
     },
     "execution_count": 2,
     "metadata": {},
     "output_type": "execute_result"
    }
   ],
   "source": [
    "df = pd.read_csv(\"data/2.1-merged_train_set.tsv\", sep=\"\\t\")\n",
    "list(df[\"chr\"].unique())"
   ],
   "metadata": {
    "collapsed": false
   }
  },
  {
   "cell_type": "code",
   "execution_count": 3,
   "outputs": [],
   "source": [
    "ordinary_chr_list = [\"chr\"+str(x) for x in range(1,23)] + [\"chrX\"] + [\"chrY\"] + [\"chrM\"]"
   ],
   "metadata": {
    "collapsed": false
   }
  },
  {
   "cell_type": "code",
   "execution_count": 4,
   "outputs": [],
   "source": [
    "def simplify_chromosome_name(chromosome_name):\n",
    "    return chromosome_name if chromosome_name in ordinary_chr_list else \"chr_remove\""
   ],
   "metadata": {
    "collapsed": false
   }
  },
  {
   "cell_type": "code",
   "execution_count": 5,
   "outputs": [],
   "source": [
    "df[\"chr\"] = df[\"chr\"].apply(simplify_chromosome_name)"
   ],
   "metadata": {
    "collapsed": false
   }
  },
  {
   "cell_type": "code",
   "execution_count": 6,
   "outputs": [
    {
     "data": {
      "text/plain": "['chr1',\n 'chr2',\n 'chr3',\n 'chr4',\n 'chr5',\n 'chr6',\n 'chr7',\n 'chr8',\n 'chr9',\n 'chr10',\n 'chr11',\n 'chr12',\n 'chr13',\n 'chr14',\n 'chr15',\n 'chr16',\n 'chr17',\n 'chr18',\n 'chr19',\n 'chr20',\n 'chr21',\n 'chr22',\n 'chrX',\n 'chrY',\n 'chr_remove']"
     },
     "execution_count": 6,
     "metadata": {},
     "output_type": "execute_result"
    }
   ],
   "source": [
    "list(df[\"chr\"].unique())"
   ],
   "metadata": {
    "collapsed": false
   }
  },
  {
   "cell_type": "code",
   "execution_count": 7,
   "outputs": [
    {
     "data": {
      "text/plain": "               chr   start     end strand  class\n415770  chr_remove    2692    6093      +      0\n415771  chr_remove    6216    7321      +      0\n415772  chr_remove    7404    7976      +      0\n415773  chr_remove    8050   11450      +      0\n415774  chr_remove    8050   27738      +      0\n...            ...     ...     ...    ...    ...\n526818  chr_remove   78952   79222      -      0\n526819  chr_remove   79344   79936      -      0\n526820  chr_remove  118589  119628      -      0\n526821  chr_remove  106714  107403      -      0\n526822  chr_remove  138985  139097      -      0\n\n[28775 rows x 5 columns]",
      "text/html": "<div>\n<style scoped>\n    .dataframe tbody tr th:only-of-type {\n        vertical-align: middle;\n    }\n\n    .dataframe tbody tr th {\n        vertical-align: top;\n    }\n\n    .dataframe thead th {\n        text-align: right;\n    }\n</style>\n<table border=\"1\" class=\"dataframe\">\n  <thead>\n    <tr style=\"text-align: right;\">\n      <th></th>\n      <th>chr</th>\n      <th>start</th>\n      <th>end</th>\n      <th>strand</th>\n      <th>class</th>\n    </tr>\n  </thead>\n  <tbody>\n    <tr>\n      <th>415770</th>\n      <td>chr_remove</td>\n      <td>2692</td>\n      <td>6093</td>\n      <td>+</td>\n      <td>0</td>\n    </tr>\n    <tr>\n      <th>415771</th>\n      <td>chr_remove</td>\n      <td>6216</td>\n      <td>7321</td>\n      <td>+</td>\n      <td>0</td>\n    </tr>\n    <tr>\n      <th>415772</th>\n      <td>chr_remove</td>\n      <td>7404</td>\n      <td>7976</td>\n      <td>+</td>\n      <td>0</td>\n    </tr>\n    <tr>\n      <th>415773</th>\n      <td>chr_remove</td>\n      <td>8050</td>\n      <td>11450</td>\n      <td>+</td>\n      <td>0</td>\n    </tr>\n    <tr>\n      <th>415774</th>\n      <td>chr_remove</td>\n      <td>8050</td>\n      <td>27738</td>\n      <td>+</td>\n      <td>0</td>\n    </tr>\n    <tr>\n      <th>...</th>\n      <td>...</td>\n      <td>...</td>\n      <td>...</td>\n      <td>...</td>\n      <td>...</td>\n    </tr>\n    <tr>\n      <th>526818</th>\n      <td>chr_remove</td>\n      <td>78952</td>\n      <td>79222</td>\n      <td>-</td>\n      <td>0</td>\n    </tr>\n    <tr>\n      <th>526819</th>\n      <td>chr_remove</td>\n      <td>79344</td>\n      <td>79936</td>\n      <td>-</td>\n      <td>0</td>\n    </tr>\n    <tr>\n      <th>526820</th>\n      <td>chr_remove</td>\n      <td>118589</td>\n      <td>119628</td>\n      <td>-</td>\n      <td>0</td>\n    </tr>\n    <tr>\n      <th>526821</th>\n      <td>chr_remove</td>\n      <td>106714</td>\n      <td>107403</td>\n      <td>-</td>\n      <td>0</td>\n    </tr>\n    <tr>\n      <th>526822</th>\n      <td>chr_remove</td>\n      <td>138985</td>\n      <td>139097</td>\n      <td>-</td>\n      <td>0</td>\n    </tr>\n  </tbody>\n</table>\n<p>28775 rows × 5 columns</p>\n</div>"
     },
     "execution_count": 7,
     "metadata": {},
     "output_type": "execute_result"
    }
   ],
   "source": [
    "df[df.chr == 'chr_remove']"
   ],
   "metadata": {
    "collapsed": false
   }
  },
  {
   "cell_type": "code",
   "execution_count": 8,
   "outputs": [],
   "source": [
    "df = df.drop(df[df['chr'] == 'chr_remove'].index)"
   ],
   "metadata": {
    "collapsed": false
   }
  },
  {
   "cell_type": "code",
   "execution_count": 9,
   "outputs": [],
   "source": [
    "assert df[df['chr'] == 'chrUn'].empty"
   ],
   "metadata": {
    "collapsed": false
   }
  },
  {
   "cell_type": "code",
   "execution_count": 10,
   "outputs": [
    {
     "data": {
      "text/plain": "         chr     start       end strand  class\n0       chr1     12227     12612      +      1\n1       chr1     12721     13220      +      1\n2       chr1     12057     12178      +      1\n3       chr1     12697     12974      +      1\n4       chr1     13052     13220      +      1\n...      ...       ...       ...    ...    ...\n527913  chrY  24883840  24886132      +      0\n527914  chrY  24888605  24889352      +      0\n527915  chrY  24889386  24901111      +      0\n527916  chrY  24833970  24840730      +      0\n527917  chrY  24871607  24895696      +      0\n\n[499143 rows x 5 columns]",
      "text/html": "<div>\n<style scoped>\n    .dataframe tbody tr th:only-of-type {\n        vertical-align: middle;\n    }\n\n    .dataframe tbody tr th {\n        vertical-align: top;\n    }\n\n    .dataframe thead th {\n        text-align: right;\n    }\n</style>\n<table border=\"1\" class=\"dataframe\">\n  <thead>\n    <tr style=\"text-align: right;\">\n      <th></th>\n      <th>chr</th>\n      <th>start</th>\n      <th>end</th>\n      <th>strand</th>\n      <th>class</th>\n    </tr>\n  </thead>\n  <tbody>\n    <tr>\n      <th>0</th>\n      <td>chr1</td>\n      <td>12227</td>\n      <td>12612</td>\n      <td>+</td>\n      <td>1</td>\n    </tr>\n    <tr>\n      <th>1</th>\n      <td>chr1</td>\n      <td>12721</td>\n      <td>13220</td>\n      <td>+</td>\n      <td>1</td>\n    </tr>\n    <tr>\n      <th>2</th>\n      <td>chr1</td>\n      <td>12057</td>\n      <td>12178</td>\n      <td>+</td>\n      <td>1</td>\n    </tr>\n    <tr>\n      <th>3</th>\n      <td>chr1</td>\n      <td>12697</td>\n      <td>12974</td>\n      <td>+</td>\n      <td>1</td>\n    </tr>\n    <tr>\n      <th>4</th>\n      <td>chr1</td>\n      <td>13052</td>\n      <td>13220</td>\n      <td>+</td>\n      <td>1</td>\n    </tr>\n    <tr>\n      <th>...</th>\n      <td>...</td>\n      <td>...</td>\n      <td>...</td>\n      <td>...</td>\n      <td>...</td>\n    </tr>\n    <tr>\n      <th>527913</th>\n      <td>chrY</td>\n      <td>24883840</td>\n      <td>24886132</td>\n      <td>+</td>\n      <td>0</td>\n    </tr>\n    <tr>\n      <th>527914</th>\n      <td>chrY</td>\n      <td>24888605</td>\n      <td>24889352</td>\n      <td>+</td>\n      <td>0</td>\n    </tr>\n    <tr>\n      <th>527915</th>\n      <td>chrY</td>\n      <td>24889386</td>\n      <td>24901111</td>\n      <td>+</td>\n      <td>0</td>\n    </tr>\n    <tr>\n      <th>527916</th>\n      <td>chrY</td>\n      <td>24833970</td>\n      <td>24840730</td>\n      <td>+</td>\n      <td>0</td>\n    </tr>\n    <tr>\n      <th>527917</th>\n      <td>chrY</td>\n      <td>24871607</td>\n      <td>24895696</td>\n      <td>+</td>\n      <td>0</td>\n    </tr>\n  </tbody>\n</table>\n<p>499143 rows × 5 columns</p>\n</div>"
     },
     "execution_count": 10,
     "metadata": {},
     "output_type": "execute_result"
    }
   ],
   "source": [
    "df.to_csv(\"data/2.2-chr_renamed_train_set.tsv\", sep=\"\\t\", index=False)\n",
    "df"
   ],
   "metadata": {
    "collapsed": false
   }
  },
  {
   "cell_type": "code",
   "execution_count": null,
   "outputs": [],
   "source": [],
   "metadata": {
    "collapsed": false
   }
  }
 ],
 "metadata": {
  "kernelspec": {
   "display_name": "Python 3",
   "language": "python",
   "name": "python3"
  },
  "language_info": {
   "codemirror_mode": {
    "name": "ipython",
    "version": 2
   },
   "file_extension": ".py",
   "mimetype": "text/x-python",
   "name": "python",
   "nbconvert_exporter": "python",
   "pygments_lexer": "ipython2",
   "version": "2.7.6"
  }
 },
 "nbformat": 4,
 "nbformat_minor": 0
}
