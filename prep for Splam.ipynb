{
 "cells": [
  {
   "cell_type": "code",
   "execution_count": 1,
   "metadata": {
    "collapsed": true
   },
   "outputs": [],
   "source": [
    "import pandas as pd"
   ]
  },
  {
   "cell_type": "code",
   "execution_count": 2,
   "outputs": [],
   "source": [
    "# Read the TSV file into a pandas DataFrame\n",
    "df = pd.read_csv(\"/home/rabbit/Documents/Projects/ML_gene_annot/data/2.2-chr_renamed_train_set.tsv\", sep='\\t')\n",
    "\n",
    "# Generate a new 'junction' column\n",
    "df['junction'] = ['JUNC{:08d}'.format(i+1) for i in range(df.shape[0])]\n",
    "\n",
    "# Reorder and rename columns to match the desired BED format\n",
    "df = df[['chr', 'start', 'end', 'junction', 'class', 'strand']]\n",
    "\n",
    "# Write the DataFrame to a BED file, without the header and index\n",
    "df.to_csv(\"/home/rabbit/Documents/Projects/ML_gene_annot/data/splam_introns_preped.bed\", sep='\\t', header=False, index=False)"
   ],
   "metadata": {
    "collapsed": false
   }
  },
  {
   "cell_type": "code",
   "execution_count": null,
   "outputs": [],
   "source": [],
   "metadata": {
    "collapsed": false
   }
  }
 ],
 "metadata": {
  "kernelspec": {
   "display_name": "Python 3",
   "language": "python",
   "name": "python3"
  },
  "language_info": {
   "codemirror_mode": {
    "name": "ipython",
    "version": 2
   },
   "file_extension": ".py",
   "mimetype": "text/x-python",
   "name": "python",
   "nbconvert_exporter": "python",
   "pygments_lexer": "ipython2",
   "version": "2.7.6"
  }
 },
 "nbformat": 4,
 "nbformat_minor": 0
}
