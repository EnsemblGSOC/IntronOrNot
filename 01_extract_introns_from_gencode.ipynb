{
 "cells": [
  {
   "cell_type": "markdown",
   "source": [
    "# 01_extract_introns_from_gencode.ipynb\n",
    "\n",
    "This module extracts all the introns from GENCODE v44 using the Biopython's GFF library"
   ],
   "metadata": {
    "collapsed": false
   }
  },
  {
   "cell_type": "code",
   "execution_count": 1,
   "metadata": {
    "collapsed": true,
    "ExecuteTime": {
     "end_time": "2023-06-23T07:47:34.429851Z",
     "start_time": "2023-06-23T07:47:32.081124Z"
    }
   },
   "outputs": [],
   "source": [
    "import pandas as pd\n",
    "# from BCBio.GFF import GFFExaminer\n",
    "from BCBio import GFF"
   ]
  },
  {
   "cell_type": "code",
   "execution_count": 2,
   "outputs": [],
   "source": [
    "in_file = \"./ftp-data/gencode.v44.annotation.gtf\"\n",
    "# examiner = GFFExaminer()"
   ],
   "metadata": {
    "collapsed": false,
    "ExecuteTime": {
     "end_time": "2023-06-23T07:47:54.606312Z",
     "start_time": "2023-06-23T07:47:54.594616Z"
    }
   }
  },
  {
   "cell_type": "code",
   "execution_count": 3,
   "outputs": [],
   "source": [
    "limit_info = {\"gff_type\": [\"transcript\", \"exon\"]}\n",
    "current_gene = None\n",
    "last_index = None\n",
    "introns_lst = []\n",
    "with open(in_file) as handle:\n",
    "    for rec in GFF.parse(handle, limit_info=limit_info, target_lines=100):\n",
    "        for feature in rec.features:\n",
    "            loop = feature.sub_features if feature.strand == 1 else feature.sub_features[::-1]\n",
    "            first_exon = True\n",
    "            for sub_features in loop:\n",
    "                if sub_features.type == \"exon\":\n",
    "                    if not first_exon:\n",
    "                        intron_dict = {\n",
    "                            \"chr\": rec.id,\n",
    "                            \"gene_id\": sub_features.qualifiers[\"gene_id\"][0], # this for debugging only\n",
    "                            \"transcript_id\": sub_features.qualifiers[\"transcript_id\"][0], # this for debugging only\n",
    "                            \"start\": last_index,\n",
    "                            \"end\": sub_features.location.start.position,\n",
    "                            \"strand\": \"+\" if feature.strand == 1 else \"-\",\n",
    "                            \"prev_exon_id\": previous_exon_name, # this for debugging only\n",
    "                            \"next_exon_id\": sub_features.qualifiers[\"exon_id\"][0] # this for debugging only\n",
    "                        }\n",
    "                        introns_lst.append(intron_dict)\n",
    "                    last_index = sub_features.location.end.position\n",
    "                    previous_exon_name = sub_features.qualifiers[\"exon_id\"][0]\n",
    "\n",
    "                    first_exon = False"
   ],
   "metadata": {
    "collapsed": false,
    "ExecuteTime": {
     "end_time": "2023-06-23T07:54:53.893951Z",
     "start_time": "2023-06-23T07:51:36.147560Z"
    }
   }
  },
  {
   "cell_type": "code",
   "execution_count": 5,
   "outputs": [
    {
     "data": {
      "text/plain": "          chr            gene_id      transcript_id     start       end  \\\n0        chr1  ENSG00000290825.1  ENST00000456328.2     12227     12612   \n1        chr1  ENSG00000290825.1  ENST00000456328.2     12721     13220   \n2        chr1  ENSG00000223972.6  ENST00000450305.2     12057     12178   \n3        chr1  ENSG00000223972.6  ENST00000450305.2     12227     12612   \n4        chr1  ENSG00000223972.6  ENST00000450305.2     12697     12974   \n...       ...                ...                ...       ...       ...   \n1396636  chrY  ENSG00000292372.1  ENST00000711285.1  57211569  57211760   \n1396637  chrY  ENSG00000292371.1  ENST00000711270.1  57213125  57213203   \n1396638  chrY  ENSG00000292371.1  ENST00000711270.1  57213357  57213525   \n1396639  chrY  ENSG00000292371.1  ENST00000711270.1  57213602  57213879   \n1396640  chrY  ENSG00000292371.1  ENST00000711270.1  57213964  57214349   \n\n        strand       prev_exon_id       next_exon_id  \n0            +  ENSE00002234944.1  ENSE00003582793.1  \n1            +  ENSE00003582793.1  ENSE00002312635.1  \n2            +  ENSE00001948541.1  ENSE00001671638.2  \n3            +  ENSE00001671638.2  ENSE00001758273.2  \n4            +  ENSE00001758273.2  ENSE00001799933.2  \n...        ...                ...                ...  \n1396636      +  ENSE00004015174.1  ENSE00004015172.1  \n1396637      -  ENSE00004015127.1  ENSE00004015126.1  \n1396638      -  ENSE00004015126.1  ENSE00004015125.1  \n1396639      -  ENSE00004015125.1  ENSE00004015124.1  \n1396640      -  ENSE00004015124.1  ENSE00004015123.1  \n\n[1396641 rows x 8 columns]",
      "text/html": "<div>\n<style scoped>\n    .dataframe tbody tr th:only-of-type {\n        vertical-align: middle;\n    }\n\n    .dataframe tbody tr th {\n        vertical-align: top;\n    }\n\n    .dataframe thead th {\n        text-align: right;\n    }\n</style>\n<table border=\"1\" class=\"dataframe\">\n  <thead>\n    <tr style=\"text-align: right;\">\n      <th></th>\n      <th>chr</th>\n      <th>gene_id</th>\n      <th>transcript_id</th>\n      <th>start</th>\n      <th>end</th>\n      <th>strand</th>\n      <th>prev_exon_id</th>\n      <th>next_exon_id</th>\n    </tr>\n  </thead>\n  <tbody>\n    <tr>\n      <th>0</th>\n      <td>chr1</td>\n      <td>ENSG00000290825.1</td>\n      <td>ENST00000456328.2</td>\n      <td>12227</td>\n      <td>12612</td>\n      <td>+</td>\n      <td>ENSE00002234944.1</td>\n      <td>ENSE00003582793.1</td>\n    </tr>\n    <tr>\n      <th>1</th>\n      <td>chr1</td>\n      <td>ENSG00000290825.1</td>\n      <td>ENST00000456328.2</td>\n      <td>12721</td>\n      <td>13220</td>\n      <td>+</td>\n      <td>ENSE00003582793.1</td>\n      <td>ENSE00002312635.1</td>\n    </tr>\n    <tr>\n      <th>2</th>\n      <td>chr1</td>\n      <td>ENSG00000223972.6</td>\n      <td>ENST00000450305.2</td>\n      <td>12057</td>\n      <td>12178</td>\n      <td>+</td>\n      <td>ENSE00001948541.1</td>\n      <td>ENSE00001671638.2</td>\n    </tr>\n    <tr>\n      <th>3</th>\n      <td>chr1</td>\n      <td>ENSG00000223972.6</td>\n      <td>ENST00000450305.2</td>\n      <td>12227</td>\n      <td>12612</td>\n      <td>+</td>\n      <td>ENSE00001671638.2</td>\n      <td>ENSE00001758273.2</td>\n    </tr>\n    <tr>\n      <th>4</th>\n      <td>chr1</td>\n      <td>ENSG00000223972.6</td>\n      <td>ENST00000450305.2</td>\n      <td>12697</td>\n      <td>12974</td>\n      <td>+</td>\n      <td>ENSE00001758273.2</td>\n      <td>ENSE00001799933.2</td>\n    </tr>\n    <tr>\n      <th>...</th>\n      <td>...</td>\n      <td>...</td>\n      <td>...</td>\n      <td>...</td>\n      <td>...</td>\n      <td>...</td>\n      <td>...</td>\n      <td>...</td>\n    </tr>\n    <tr>\n      <th>1396636</th>\n      <td>chrY</td>\n      <td>ENSG00000292372.1</td>\n      <td>ENST00000711285.1</td>\n      <td>57211569</td>\n      <td>57211760</td>\n      <td>+</td>\n      <td>ENSE00004015174.1</td>\n      <td>ENSE00004015172.1</td>\n    </tr>\n    <tr>\n      <th>1396637</th>\n      <td>chrY</td>\n      <td>ENSG00000292371.1</td>\n      <td>ENST00000711270.1</td>\n      <td>57213125</td>\n      <td>57213203</td>\n      <td>-</td>\n      <td>ENSE00004015127.1</td>\n      <td>ENSE00004015126.1</td>\n    </tr>\n    <tr>\n      <th>1396638</th>\n      <td>chrY</td>\n      <td>ENSG00000292371.1</td>\n      <td>ENST00000711270.1</td>\n      <td>57213357</td>\n      <td>57213525</td>\n      <td>-</td>\n      <td>ENSE00004015126.1</td>\n      <td>ENSE00004015125.1</td>\n    </tr>\n    <tr>\n      <th>1396639</th>\n      <td>chrY</td>\n      <td>ENSG00000292371.1</td>\n      <td>ENST00000711270.1</td>\n      <td>57213602</td>\n      <td>57213879</td>\n      <td>-</td>\n      <td>ENSE00004015125.1</td>\n      <td>ENSE00004015124.1</td>\n    </tr>\n    <tr>\n      <th>1396640</th>\n      <td>chrY</td>\n      <td>ENSG00000292371.1</td>\n      <td>ENST00000711270.1</td>\n      <td>57213964</td>\n      <td>57214349</td>\n      <td>-</td>\n      <td>ENSE00004015124.1</td>\n      <td>ENSE00004015123.1</td>\n    </tr>\n  </tbody>\n</table>\n<p>1396641 rows × 8 columns</p>\n</div>"
     },
     "execution_count": 5,
     "metadata": {},
     "output_type": "execute_result"
    }
   ],
   "source": [
    "df_introns = pd.DataFrame(introns_lst.copy())\n",
    "df_introns"
   ],
   "metadata": {
    "collapsed": false
   }
  },
  {
   "cell_type": "code",
   "execution_count": 6,
   "outputs": [
    {
     "data": {
      "text/plain": "          chr            gene_id      transcript_id     start       end  \\\n0        chr1  ENSG00000290825.1  ENST00000456328.2     12227     12612   \n1        chr1  ENSG00000290825.1  ENST00000456328.2     12721     13220   \n2        chr1  ENSG00000223972.6  ENST00000450305.2     12057     12178   \n4        chr1  ENSG00000223972.6  ENST00000450305.2     12697     12974   \n5        chr1  ENSG00000223972.6  ENST00000450305.2     13052     13220   \n...       ...                ...                ...       ...       ...   \n1396636  chrY  ENSG00000292372.1  ENST00000711285.1  57211569  57211760   \n1396637  chrY  ENSG00000292371.1  ENST00000711270.1  57213125  57213203   \n1396638  chrY  ENSG00000292371.1  ENST00000711270.1  57213357  57213525   \n1396639  chrY  ENSG00000292371.1  ENST00000711270.1  57213602  57213879   \n1396640  chrY  ENSG00000292371.1  ENST00000711270.1  57213964  57214349   \n\n        strand       prev_exon_id       next_exon_id  \n0            +  ENSE00002234944.1  ENSE00003582793.1  \n1            +  ENSE00003582793.1  ENSE00002312635.1  \n2            +  ENSE00001948541.1  ENSE00001671638.2  \n4            +  ENSE00001758273.2  ENSE00001799933.2  \n5            +  ENSE00001799933.2  ENSE00001746346.2  \n...        ...                ...                ...  \n1396636      +  ENSE00004015174.1  ENSE00004015172.1  \n1396637      -  ENSE00004015127.1  ENSE00004015126.1  \n1396638      -  ENSE00004015126.1  ENSE00004015125.1  \n1396639      -  ENSE00004015125.1  ENSE00004015124.1  \n1396640      -  ENSE00004015124.1  ENSE00004015123.1  \n\n[402454 rows x 8 columns]",
      "text/html": "<div>\n<style scoped>\n    .dataframe tbody tr th:only-of-type {\n        vertical-align: middle;\n    }\n\n    .dataframe tbody tr th {\n        vertical-align: top;\n    }\n\n    .dataframe thead th {\n        text-align: right;\n    }\n</style>\n<table border=\"1\" class=\"dataframe\">\n  <thead>\n    <tr style=\"text-align: right;\">\n      <th></th>\n      <th>chr</th>\n      <th>gene_id</th>\n      <th>transcript_id</th>\n      <th>start</th>\n      <th>end</th>\n      <th>strand</th>\n      <th>prev_exon_id</th>\n      <th>next_exon_id</th>\n    </tr>\n  </thead>\n  <tbody>\n    <tr>\n      <th>0</th>\n      <td>chr1</td>\n      <td>ENSG00000290825.1</td>\n      <td>ENST00000456328.2</td>\n      <td>12227</td>\n      <td>12612</td>\n      <td>+</td>\n      <td>ENSE00002234944.1</td>\n      <td>ENSE00003582793.1</td>\n    </tr>\n    <tr>\n      <th>1</th>\n      <td>chr1</td>\n      <td>ENSG00000290825.1</td>\n      <td>ENST00000456328.2</td>\n      <td>12721</td>\n      <td>13220</td>\n      <td>+</td>\n      <td>ENSE00003582793.1</td>\n      <td>ENSE00002312635.1</td>\n    </tr>\n    <tr>\n      <th>2</th>\n      <td>chr1</td>\n      <td>ENSG00000223972.6</td>\n      <td>ENST00000450305.2</td>\n      <td>12057</td>\n      <td>12178</td>\n      <td>+</td>\n      <td>ENSE00001948541.1</td>\n      <td>ENSE00001671638.2</td>\n    </tr>\n    <tr>\n      <th>4</th>\n      <td>chr1</td>\n      <td>ENSG00000223972.6</td>\n      <td>ENST00000450305.2</td>\n      <td>12697</td>\n      <td>12974</td>\n      <td>+</td>\n      <td>ENSE00001758273.2</td>\n      <td>ENSE00001799933.2</td>\n    </tr>\n    <tr>\n      <th>5</th>\n      <td>chr1</td>\n      <td>ENSG00000223972.6</td>\n      <td>ENST00000450305.2</td>\n      <td>13052</td>\n      <td>13220</td>\n      <td>+</td>\n      <td>ENSE00001799933.2</td>\n      <td>ENSE00001746346.2</td>\n    </tr>\n    <tr>\n      <th>...</th>\n      <td>...</td>\n      <td>...</td>\n      <td>...</td>\n      <td>...</td>\n      <td>...</td>\n      <td>...</td>\n      <td>...</td>\n      <td>...</td>\n    </tr>\n    <tr>\n      <th>1396636</th>\n      <td>chrY</td>\n      <td>ENSG00000292372.1</td>\n      <td>ENST00000711285.1</td>\n      <td>57211569</td>\n      <td>57211760</td>\n      <td>+</td>\n      <td>ENSE00004015174.1</td>\n      <td>ENSE00004015172.1</td>\n    </tr>\n    <tr>\n      <th>1396637</th>\n      <td>chrY</td>\n      <td>ENSG00000292371.1</td>\n      <td>ENST00000711270.1</td>\n      <td>57213125</td>\n      <td>57213203</td>\n      <td>-</td>\n      <td>ENSE00004015127.1</td>\n      <td>ENSE00004015126.1</td>\n    </tr>\n    <tr>\n      <th>1396638</th>\n      <td>chrY</td>\n      <td>ENSG00000292371.1</td>\n      <td>ENST00000711270.1</td>\n      <td>57213357</td>\n      <td>57213525</td>\n      <td>-</td>\n      <td>ENSE00004015126.1</td>\n      <td>ENSE00004015125.1</td>\n    </tr>\n    <tr>\n      <th>1396639</th>\n      <td>chrY</td>\n      <td>ENSG00000292371.1</td>\n      <td>ENST00000711270.1</td>\n      <td>57213602</td>\n      <td>57213879</td>\n      <td>-</td>\n      <td>ENSE00004015125.1</td>\n      <td>ENSE00004015124.1</td>\n    </tr>\n    <tr>\n      <th>1396640</th>\n      <td>chrY</td>\n      <td>ENSG00000292371.1</td>\n      <td>ENST00000711270.1</td>\n      <td>57213964</td>\n      <td>57214349</td>\n      <td>-</td>\n      <td>ENSE00004015124.1</td>\n      <td>ENSE00004015123.1</td>\n    </tr>\n  </tbody>\n</table>\n<p>402454 rows × 8 columns</p>\n</div>"
     },
     "execution_count": 6,
     "metadata": {},
     "output_type": "execute_result"
    }
   ],
   "source": [
    "df_introns.drop_duplicates(subset=[\"chr\", \"start\", \"end\", \"strand\"], inplace=True)\n",
    "df_introns"
   ],
   "metadata": {
    "collapsed": false
   }
  },
  {
   "cell_type": "code",
   "execution_count": 7,
   "outputs": [
    {
     "data": {
      "text/plain": "          chr     start       end strand\n0        chr1     12227     12612      +\n1        chr1     12721     13220      +\n2        chr1     12057     12178      +\n4        chr1     12697     12974      +\n5        chr1     13052     13220      +\n...       ...       ...       ...    ...\n1396636  chrY  57211569  57211760      +\n1396637  chrY  57213125  57213203      -\n1396638  chrY  57213357  57213525      -\n1396639  chrY  57213602  57213879      -\n1396640  chrY  57213964  57214349      -\n\n[402454 rows x 4 columns]",
      "text/html": "<div>\n<style scoped>\n    .dataframe tbody tr th:only-of-type {\n        vertical-align: middle;\n    }\n\n    .dataframe tbody tr th {\n        vertical-align: top;\n    }\n\n    .dataframe thead th {\n        text-align: right;\n    }\n</style>\n<table border=\"1\" class=\"dataframe\">\n  <thead>\n    <tr style=\"text-align: right;\">\n      <th></th>\n      <th>chr</th>\n      <th>start</th>\n      <th>end</th>\n      <th>strand</th>\n    </tr>\n  </thead>\n  <tbody>\n    <tr>\n      <th>0</th>\n      <td>chr1</td>\n      <td>12227</td>\n      <td>12612</td>\n      <td>+</td>\n    </tr>\n    <tr>\n      <th>1</th>\n      <td>chr1</td>\n      <td>12721</td>\n      <td>13220</td>\n      <td>+</td>\n    </tr>\n    <tr>\n      <th>2</th>\n      <td>chr1</td>\n      <td>12057</td>\n      <td>12178</td>\n      <td>+</td>\n    </tr>\n    <tr>\n      <th>4</th>\n      <td>chr1</td>\n      <td>12697</td>\n      <td>12974</td>\n      <td>+</td>\n    </tr>\n    <tr>\n      <th>5</th>\n      <td>chr1</td>\n      <td>13052</td>\n      <td>13220</td>\n      <td>+</td>\n    </tr>\n    <tr>\n      <th>...</th>\n      <td>...</td>\n      <td>...</td>\n      <td>...</td>\n      <td>...</td>\n    </tr>\n    <tr>\n      <th>1396636</th>\n      <td>chrY</td>\n      <td>57211569</td>\n      <td>57211760</td>\n      <td>+</td>\n    </tr>\n    <tr>\n      <th>1396637</th>\n      <td>chrY</td>\n      <td>57213125</td>\n      <td>57213203</td>\n      <td>-</td>\n    </tr>\n    <tr>\n      <th>1396638</th>\n      <td>chrY</td>\n      <td>57213357</td>\n      <td>57213525</td>\n      <td>-</td>\n    </tr>\n    <tr>\n      <th>1396639</th>\n      <td>chrY</td>\n      <td>57213602</td>\n      <td>57213879</td>\n      <td>-</td>\n    </tr>\n    <tr>\n      <th>1396640</th>\n      <td>chrY</td>\n      <td>57213964</td>\n      <td>57214349</td>\n      <td>-</td>\n    </tr>\n  </tbody>\n</table>\n<p>402454 rows × 4 columns</p>\n</div>"
     },
     "execution_count": 7,
     "metadata": {},
     "output_type": "execute_result"
    }
   ],
   "source": [
    "df_introns = df_introns.drop(columns=[\"gene_id\", \"transcript_id\", \"prev_exon_id\", \"next_exon_id\"])\n",
    "df_introns"
   ],
   "metadata": {
    "collapsed": false
   }
  },
  {
   "cell_type": "code",
   "execution_count": 8,
   "outputs": [],
   "source": [
    "df_introns.to_csv(\"data/01_gencode_introns.tsv\", index=False, sep=\"\\t\")"
   ],
   "metadata": {
    "collapsed": false
   }
  },
  {
   "cell_type": "markdown",
   "source": [
    "# Experimental code:"
   ],
   "metadata": {
    "collapsed": false
   }
  },
  {
   "cell_type": "code",
   "execution_count": null,
   "outputs": [],
   "source": [
    "df_introns = pd.DataFrame(introns_lst.copy())\n",
    "df_introns"
   ],
   "metadata": {
    "collapsed": false,
    "ExecuteTime": {
     "end_time": "2023-06-23T07:58:25.478513Z",
     "start_time": "2023-06-23T07:58:20.605564Z"
    }
   }
  },
  {
   "cell_type": "code",
   "execution_count": null,
   "outputs": [],
   "source": [
    "# df_introns = pd.DataFrame(introns_lst.copy())\n",
    "df_introns.to_csv(\"data/gencode_v44_introns.csv\", index=False)\n",
    "df_introns"
   ],
   "metadata": {
    "collapsed": false,
    "ExecuteTime": {
     "end_time": "2023-06-23T08:00:44.775976Z",
     "start_time": "2023-06-23T08:00:35.642960Z"
    }
   }
  },
  {
   "cell_type": "code",
   "execution_count": null,
   "outputs": [],
   "source": [
    "df_introns_1_based = df_introns.copy()\n",
    "df_introns_1_based.intron_start = df_introns_1_based.intron_start + 1\n",
    "df_introns_1_based"
   ],
   "metadata": {
    "collapsed": false
   }
  },
  {
   "cell_type": "code",
   "execution_count": null,
   "outputs": [],
   "source": [
    "df_introns_1_based[df_introns_1_based.intron_start == 962048]"
   ],
   "metadata": {
    "collapsed": false
   }
  },
  {
   "cell_type": "code",
   "execution_count": null,
   "outputs": [],
   "source": [
    "df_introns_1_based[df_introns_1_based.intron_start == 155357520]"
   ],
   "metadata": {
    "collapsed": false
   }
  },
  {
   "cell_type": "code",
   "execution_count": null,
   "outputs": [],
   "source": [
    "df_introns_1_based[df_introns_1_based.intron_start == 155759144]"
   ],
   "metadata": {
    "collapsed": false
   }
  }
 ],
 "metadata": {
  "kernelspec": {
   "display_name": "Python 3",
   "language": "python",
   "name": "python3"
  },
  "language_info": {
   "codemirror_mode": {
    "name": "ipython",
    "version": 2
   },
   "file_extension": ".py",
   "mimetype": "text/x-python",
   "name": "python",
   "nbconvert_exporter": "python",
   "pygments_lexer": "ipython2",
   "version": "2.7.6"
  }
 },
 "nbformat": 4,
 "nbformat_minor": 0
}
