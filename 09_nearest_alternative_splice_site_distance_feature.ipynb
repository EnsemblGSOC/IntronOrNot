{
 "cells": [
  {
   "cell_type": "code",
   "execution_count": 1,
   "metadata": {
    "collapsed": true,
    "ExecuteTime": {
     "end_time": "2023-08-04T01:55:37.859531Z",
     "start_time": "2023-08-04T01:55:37.853136Z"
    }
   },
   "outputs": [],
   "source": [
    "import pandas as pd\n",
    "import numpy as np\n",
    "from pandarallel import pandarallel\n",
    "from tqdm import tqdm"
   ]
  },
  {
   "cell_type": "code",
   "execution_count": 2,
   "outputs": [
    {
     "data": {
      "text/plain": "                              chr\nstrand start     end             \n+      11595     13151      chr18\n                 15616      chr18\n       11799     14770       chr3\n                 20556       chr3\n                 23760       chr3\n...                           ...\n-      248858321 248858511   chr1\n                 248858917   chr1\n                 248859014   chr1\n       248858385 248858917   chr1\n       248858419 248858917   chr1\n\n[402406 rows x 1 columns]",
      "text/html": "<div>\n<style scoped>\n    .dataframe tbody tr th:only-of-type {\n        vertical-align: middle;\n    }\n\n    .dataframe tbody tr th {\n        vertical-align: top;\n    }\n\n    .dataframe thead th {\n        text-align: right;\n    }\n</style>\n<table border=\"1\" class=\"dataframe\">\n  <thead>\n    <tr style=\"text-align: right;\">\n      <th></th>\n      <th></th>\n      <th></th>\n      <th>chr</th>\n    </tr>\n    <tr>\n      <th>strand</th>\n      <th>start</th>\n      <th>end</th>\n      <th></th>\n    </tr>\n  </thead>\n  <tbody>\n    <tr>\n      <th rowspan=\"5\" valign=\"top\">+</th>\n      <th rowspan=\"2\" valign=\"top\">11595</th>\n      <th>13151</th>\n      <td>chr18</td>\n    </tr>\n    <tr>\n      <th>15616</th>\n      <td>chr18</td>\n    </tr>\n    <tr>\n      <th rowspan=\"3\" valign=\"top\">11799</th>\n      <th>14770</th>\n      <td>chr3</td>\n    </tr>\n    <tr>\n      <th>20556</th>\n      <td>chr3</td>\n    </tr>\n    <tr>\n      <th>23760</th>\n      <td>chr3</td>\n    </tr>\n    <tr>\n      <th>...</th>\n      <th>...</th>\n      <th>...</th>\n      <td>...</td>\n    </tr>\n    <tr>\n      <th rowspan=\"5\" valign=\"top\">-</th>\n      <th rowspan=\"3\" valign=\"top\">248858321</th>\n      <th>248858511</th>\n      <td>chr1</td>\n    </tr>\n    <tr>\n      <th>248858917</th>\n      <td>chr1</td>\n    </tr>\n    <tr>\n      <th>248859014</th>\n      <td>chr1</td>\n    </tr>\n    <tr>\n      <th>248858385</th>\n      <th>248858917</th>\n      <td>chr1</td>\n    </tr>\n    <tr>\n      <th>248858419</th>\n      <th>248858917</th>\n      <td>chr1</td>\n    </tr>\n  </tbody>\n</table>\n<p>402406 rows × 1 columns</p>\n</div>"
     },
     "execution_count": 2,
     "metadata": {},
     "output_type": "execute_result"
    }
   ],
   "source": [
    "df_gencode = pd.read_csv(\"data/01_gencode_introns.tsv\", sep=\"\\t\")\n",
    "df_gencode = df_gencode[~(df_gencode.end - df_gencode.start <= 4)]\n",
    "df_gencode = df_gencode.set_index(['strand', 'start', 'end'])\n",
    "df_gencode = df_gencode.sort_index()\n",
    "df_gencode"
   ],
   "metadata": {
    "collapsed": false,
    "ExecuteTime": {
     "end_time": "2023-08-04T01:55:41.663462Z",
     "start_time": "2023-08-04T01:55:40.544922Z"
    }
   }
  },
  {
   "cell_type": "code",
   "execution_count": 3,
   "outputs": [
    {
     "name": "stderr",
     "output_type": "stream",
     "text": [
      "100%|██████████| 24/24 [00:00<00:00, 74.00it/s]\n"
     ]
    },
    {
     "data": {
      "text/plain": "{'chr18':                             chr\n strand start    end            \n +      11595    13151     chr18\n                 15616     chr18\n        13354    15616     chr18\n        45235    45282     chr18\n        45556    45640     chr18\n ...                         ...\n -      80160606 80202709  chr18\n        80183150 80201963  chr18\n                 80202709  chr18\n        80202018 80202709  chr18\n        80202932 80247276  chr18\n \n [7267 rows x 1 columns],\n 'chr3':                              chr\n strand start     end            \n +      11799     14770      chr3\n                  20556      chr3\n                  23760      chr3\n        12659     14770      chr3\n                  20890      chr3\n ...                          ...\n -      198121656 198122027  chr3\n        198122079 198122536  chr3\n        198122645 198122729  chr3\n        198122984 198123051  chr3\n        198224435 198224520  chr3\n \n [24731 rows x 1 columns],\n 'chr16':                             chr\n strand start    end            \n +      11908    12293     chr16\n        12378    12662     chr16\n        12402    12901     chr16\n        12733    12905     chr16\n        13076    13155     chr16\n ...                         ...\n -      90086870 90091606  chr16\n        90105146 90105952  chr16\n        90110808 90125969  chr16\n        90116562 90125969  chr16\n        90126088 90167990  chr16\n \n [17892 rows x 1 columns],\n 'chr1':                              chr\n strand start     end            \n +      12057     12178      chr1\n        12227     12612      chr1\n        12697     12974      chr1\n        12721     13220      chr1\n        13052     13220      chr1\n ...                          ...\n -      248858321 248858511  chr1\n                  248858917  chr1\n                  248859014  chr1\n        248858385 248858917  chr1\n        248858419 248858917  chr1\n \n [38360 rows x 1 columns],\n 'chr9':                              chr\n strand start     end            \n +      12190     12290      chr9\n        12340     12725      chr9\n        12834     13087      chr9\n        13157     13337      chr9\n        13487     13565      chr9\n ...                          ...\n -      138178147 138178520  chr9\n        138178615 138179043  chr9\n        138179171 138179260  chr9\n        138179513 138179564  chr9\n        138200282 138203137  chr9\n \n [15205 rows x 1 columns],\n 'chr12':                               chr\n strand start     end             \n +      12358     12739      chr12\n        12824     13101      chr12\n        13201     13369      chr12\n        67436     99145      chr12\n        77712     99145      chr12\n ...                           ...\n -      133226438 133226935  chr12\n        133227152 133227823  chr12\n        133227947 133231516  chr12\n        133231644 133234107  chr12\n        133234378 133235806  chr12\n \n [22222 rows x 1 columns],\n 'chr7':                              chr\n strand start     end            \n +      12822     26964      chr7\n        24365     26964      chr7\n        77353     80129      chr7\n        150132    151810     chr7\n                  152440     chr7\n ...                          ...\n -      159103854 159109811  chr7\n        159109919 159142445  chr7\n        159117406 159142445  chr7\n        159142545 159144297  chr7\n                  159144720  chr7\n \n [19597 rows x 1 columns],\n 'chr10':                               chr\n strand start     end             \n +      44901     44951      chr10\n        45204     45308      chr10\n        45405     45833      chr10\n        45882     46244      chr10\n        46359     46841      chr10\n ...                           ...\n -      133658501 133658629  chr10\n        133658722 133659364  chr10\n        133659457 133659705  chr10\n        133659808 133660321  chr10\n        133660466 133660562  chr10\n \n [15977 rows x 1 columns],\n 'chr4':                              chr\n strand start     end            \n +      53491     59429      chr4\n                  85730      chr4\n        59556     60057      chr4\n                  85730      chr4\n        60153     67839      chr4\n ...                          ...\n -      190060613 190060929  chr4\n        190060984 190061088  chr4\n        190061242 190061339  chr4\n        190061450 190061639  chr4\n        190061782 190062812  chr4\n \n [16570 rows x 1 columns],\n 'chr19':                             chr\n strand start    end            \n +      72274    72584     chr19\n        99229    100275    chr19\n                 104501    chr19\n        100432   104501    chr19\n        107157   107472    chr19\n ...                         ...\n -      58571429 58573054  chr19\n                 58573372  chr19\n        58572719 58573054  chr19\n        58594125 58597705  chr19\n        58597816 58599099  chr19\n \n [21572 rows x 1 columns],\n 'chr8':                              chr\n strand start     end            \n +      72673     78904      chr8\n        72701     78904      chr8\n        232267    240823     chr8\n        232415    240823     chr8\n        232624    240301     chr8\n ...                          ...\n -      144999769 145002792  chr8\n                  145002816  chr8\n        145000159 145002816  chr8\n        145000492 145002816  chr8\n        145000538 145002816  chr8\n \n [15493 rows x 1 columns],\n 'chr20':                             chr\n strand start    end            \n +      87359    96004     chr20\n        87767    96004     chr20\n        142686   145414    chr20\n        145488   145578    chr20\n        157593   158773    chr20\n ...                         ...\n -      64076954 64079872  chr20\n        64083494 64083582  chr20\n        64083705 64083817  chr20\n        64100815 64100995  chr20\n        64106922 64107363  chr20\n \n [9523 rows x 1 columns],\n 'chr5':                              chr\n strand start     end            \n +      92276     113250     chr5\n        113448    139482     chr5\n        140716    143046     chr5\n        143256    143379     chr5\n        143503    144826     chr5\n ...                          ...\n -      181256859 181260000  chr5\n        181257054 181260000  chr5\n        181257228 181260000  chr5\n        181257494 181260000  chr5\n        181259906 181260000  chr5\n \n [18451 rows x 1 columns],\n 'chr11':                               chr\n strand start     end             \n +      125100    125171     chr11\n        129513    171597     chr11\n        171716    185901     chr11\n        193154    193711     chr11\n        193911    194417     chr11\n ...                           ...\n -      134999009 135003720  chr11\n        135003862 135007512  chr11\n        135061947 135074113  chr11\n        135073576 135074113  chr11\n        135074371 135075610  chr11\n \n [21965 rows x 1 columns],\n 'chr17':                             chr\n strand start    end            \n +      137645   138202    chr17\n        138402   138909    chr17\n        321610   322261    chr17\n        321631   322261    chr17\n        331717   331799    chr17\n ...                         ...\n -      83048785 83049035  chr17\n                 83051736  chr17\n        83221408 83226409  chr17\n                 83227620  chr17\n                 83227648  chr17\n \n [22443 rows x 1 columns],\n 'chr6':                              chr\n strand start     end            \n +      184371    184505     chr6\n        203438    203962     chr6\n        204413    205486     chr6\n        291700    304627     chr6\n        292560    304627     chr6\n ...                          ...\n -      170583747 170584054  chr6\n                  170584298  chr6\n        170584392 170584491  chr6\n        170736394 170737500  chr6\n        170737551 170737611  chr6\n \n [19286 rows x 1 columns],\n 'chr2':                              chr\n strand start     end            \n +      198615    199743     chr2\n                  200163     chr2\n        199901    200163     chr2\n        200230    202915     chr2\n                  209484     chr2\n ...                          ...\n -      242048283 242060296  chr2\n        242058884 242059119  chr2\n                  242060296  chr2\n        242059193 242060296  chr2\n        242060519 242084095  chr2\n \n [31055 rows x 1 columns],\n 'chrX':                              chr\n strand start     end            \n +      253846    254936     chrX\n        276394    281481     chrX\n                  284166     chrX\n        281121    281481     chrX\n        281256    281481     chrX\n ...                          ...\n -      156015500 156016661  chrX\n        156026605 156026683  chrX\n        156026837 156027005  chrX\n        156027082 156027359  chrX\n        156027444 156027829  chrX\n \n [12708 rows x 1 columns],\n 'chrY':                            chr\n strand start    end           \n +      253846   254936    chrY\n        276394   281481    chrY\n                 284166    chrY\n        281121   281481    chrY\n        281256   281481    chrY\n ...                        ...\n -      57202020 57203181  chrY\n        57213125 57213203  chrY\n        57213357 57213525  chrY\n        57213602 57213879  chrY\n        57213964 57214349  chrY\n \n [2256 rows x 1 columns],\n 'chr21':                             chr\n strand start    end            \n +      5011874  5012547   chr21\n        5012687  5014385   chr21\n        5014471  5016934   chr21\n        5022693  5025008   chr21\n        5025049  5026279   chr21\n ...                         ...\n -      46448599 46458326  chr21\n        46599503 46600281  chr21\n                 46602277  chr21\n        46600375 46602277  chr21\n        46602416 46605012  chr21\n \n [4973 rows x 1 columns],\n 'chr22':                             chr\n strand start    end            \n +      11066515 11067984  chr22\n        11124379 11124507  chr22\n        11474904 11475145  chr22\n        11475238 11477177  chr22\n        11827658 11832760  chr22\n ...                         ...\n -      50782351 50783044  chr22\n                 50783500  chr22\n        50783045 50783500  chr22\n        50783286 50783390  chr22\n                 50783500  chr22\n \n [8468 rows x 1 columns],\n 'chr13':                               chr\n strand start     end             \n +      18195411  18218998   chr13\n        18212062  18215310   chr13\n        18215357  18218998   chr13\n        18219057  18219525   chr13\n        18219084  18222496   chr13\n ...                           ...\n -      114214288 114215655  chr13\n        114265359 114268270  chr13\n        114276400 114277196  chr13\n        114329845 114330665  chr13\n        114330778 114333834  chr13\n \n [7769 rows x 1 columns],\n 'chr14':                               chr\n strand start     end             \n +      18333896  18338242   chr14\n        18333900  18337972   chr14\n        18338078  18338242   chr14\n        18338416  18340613   chr14\n        18340726  18341693   chr14\n ...                           ...\n -      106810746 106810849  chr14\n        106823999 106824102  chr14\n        106867955 106868047  chr14\n        106873057 106873140  chr14\n        106874887 106874971  chr14\n \n [13288 rows x 1 columns],\n 'chr15':                               chr\n strand start     end             \n +      19878668  19878830   chr15\n        19879004  19881200   chr15\n        19881307  19882276   chr15\n        19882439  19884978   chr15\n        19885043  19887723   chr15\n ...                           ...\n -      101977746 101977922  chr15\n                  101978245  chr15\n        101977992 101978269  chr15\n        101978354 101978739  chr15\n        101978372 101978739  chr15\n \n [15335 rows x 1 columns]}"
     },
     "execution_count": 3,
     "metadata": {},
     "output_type": "execute_result"
    }
   ],
   "source": [
    "chrom_uniques = list(df_gencode[\"chr\"].unique())  # we get the list of unique chromosome names\n",
    "dict_chr = {}\n",
    "# Splitting the dataframe chromosome groups separately into key(chromosome)-value(rows) in a dictionary\n",
    "for chrom in tqdm(chrom_uniques):\n",
    "\tdict_chr[chrom] = df_gencode[df_gencode.chr == chrom]\n",
    "\n",
    "dict_chr"
   ],
   "metadata": {
    "collapsed": false
   }
  },
  {
   "cell_type": "code",
   "execution_count": 4,
   "outputs": [],
   "source": [
    "# Sample query: Find the nearest (and not exact) entry of chr1 with strand '+' and nearest to 13579\n",
    "# query_chr = 'chr1'\n",
    "# query_strand = '-'\n",
    "# query_position = 14499\n",
    "\n",
    "def find_nearest_match_start_ss(row, site):\n",
    "    query_chr = row[\"chr\"]\n",
    "    query_strand = row[\"strand\"]\n",
    "    query_position = row[site]\n",
    "\n",
    "    # Filter the DataFrame for the relevant entries\n",
    "    filtered_df = dict_chr[query_chr].loc[query_strand].copy()\n",
    "\n",
    "    # Calculate the distance to the specified position\n",
    "    filtered_df['distance'] = np.abs(filtered_df.index.get_level_values(site) - query_position)\n",
    "\n",
    "    # Exclude exact match from the DataFrame (if it exists)\n",
    "    filtered_df = filtered_df[filtered_df['distance'] != 0]\n",
    "\n",
    "    # Find the row with the minimum distance (i.e., the nearest entry after excluding exact matches)\n",
    "    nearest_entry = filtered_df.loc[filtered_df['distance'].idxmin()]\n",
    "\n",
    "    return nearest_entry.distance"
   ],
   "metadata": {
    "collapsed": false,
    "ExecuteTime": {
     "end_time": "2023-08-04T01:57:42.087807Z",
     "start_time": "2023-08-04T01:57:42.079675Z"
    }
   }
  },
  {
   "cell_type": "code",
   "execution_count": 5,
   "outputs": [
    {
     "data": {
      "text/plain": "         chr     start       end strand\n0       chr1     12227     12612      +\n1       chr1     12721     13220      +\n2       chr1     12057     12178      +\n3       chr1     12697     12974      +\n4       chr1     13052     13220      +\n...      ...       ...       ...    ...\n519029  chrY  25464577  25465486      +\n519030  chrY  25513173  25513588      -\n519031  chrY  25513745  25516715      -\n519032  chrY  25525288  25527646      -\n519033  chrY  57213357  57213855      -\n\n[519034 rows x 4 columns]",
      "text/html": "<div>\n<style scoped>\n    .dataframe tbody tr th:only-of-type {\n        vertical-align: middle;\n    }\n\n    .dataframe tbody tr th {\n        vertical-align: top;\n    }\n\n    .dataframe thead th {\n        text-align: right;\n    }\n</style>\n<table border=\"1\" class=\"dataframe\">\n  <thead>\n    <tr style=\"text-align: right;\">\n      <th></th>\n      <th>chr</th>\n      <th>start</th>\n      <th>end</th>\n      <th>strand</th>\n    </tr>\n  </thead>\n  <tbody>\n    <tr>\n      <th>0</th>\n      <td>chr1</td>\n      <td>12227</td>\n      <td>12612</td>\n      <td>+</td>\n    </tr>\n    <tr>\n      <th>1</th>\n      <td>chr1</td>\n      <td>12721</td>\n      <td>13220</td>\n      <td>+</td>\n    </tr>\n    <tr>\n      <th>2</th>\n      <td>chr1</td>\n      <td>12057</td>\n      <td>12178</td>\n      <td>+</td>\n    </tr>\n    <tr>\n      <th>3</th>\n      <td>chr1</td>\n      <td>12697</td>\n      <td>12974</td>\n      <td>+</td>\n    </tr>\n    <tr>\n      <th>4</th>\n      <td>chr1</td>\n      <td>13052</td>\n      <td>13220</td>\n      <td>+</td>\n    </tr>\n    <tr>\n      <th>...</th>\n      <td>...</td>\n      <td>...</td>\n      <td>...</td>\n      <td>...</td>\n    </tr>\n    <tr>\n      <th>519029</th>\n      <td>chrY</td>\n      <td>25464577</td>\n      <td>25465486</td>\n      <td>+</td>\n    </tr>\n    <tr>\n      <th>519030</th>\n      <td>chrY</td>\n      <td>25513173</td>\n      <td>25513588</td>\n      <td>-</td>\n    </tr>\n    <tr>\n      <th>519031</th>\n      <td>chrY</td>\n      <td>25513745</td>\n      <td>25516715</td>\n      <td>-</td>\n    </tr>\n    <tr>\n      <th>519032</th>\n      <td>chrY</td>\n      <td>25525288</td>\n      <td>25527646</td>\n      <td>-</td>\n    </tr>\n    <tr>\n      <th>519033</th>\n      <td>chrY</td>\n      <td>57213357</td>\n      <td>57213855</td>\n      <td>-</td>\n    </tr>\n  </tbody>\n</table>\n<p>519034 rows × 4 columns</p>\n</div>"
     },
     "execution_count": 5,
     "metadata": {},
     "output_type": "execute_result"
    }
   ],
   "source": [
    "sha512sum = !sha512sum data/08_trainset_with_seq.tsv\n",
    "assert(\"159da72ef546de9f15bfc662d51b70987134035499c64674f4240279ed9d120d34b0312bf98f1cda8c4d43222df7175f818c6d53c9dde2487ea7cf747b51ab05\" in sha512sum[0])\n",
    "df_training_data = pd.read_csv(\"data/08_trainset_with_seq.tsv\", sep=\"\\t\", usecols=[\"chr\",\"start\",\"end\",\"strand\"])\n",
    "df_training_data"
   ],
   "metadata": {
    "collapsed": false,
    "ExecuteTime": {
     "end_time": "2023-08-04T01:58:24.096187Z",
     "start_time": "2023-08-04T01:57:48.316286Z"
    }
   }
  },
  {
   "cell_type": "code",
   "execution_count": 6,
   "outputs": [
    {
     "name": "stdout",
     "output_type": "stream",
     "text": [
      "INFO: Pandarallel will run on 12 workers.\n",
      "INFO: Pandarallel will use Memory file system to transfer data between the main process and workers.\n"
     ]
    }
   ],
   "source": [
    "pandarallel.initialize(nb_workers=12)"
   ],
   "metadata": {
    "collapsed": false,
    "ExecuteTime": {
     "end_time": "2023-08-04T01:58:24.104741Z",
     "start_time": "2023-08-04T01:58:24.098310Z"
    }
   }
  },
  {
   "cell_type": "code",
   "execution_count": 7,
   "outputs": [],
   "source": [
    "# %%time\n",
    "# df_test = df_training_data.copy().head(10000)\n",
    "# df_test[\"start_site_nearest\"] = df_test.parallel_apply(find_nearest_match_start_ss, args=(\"start\",), axis=1)\n",
    "# df_test"
   ],
   "metadata": {
    "collapsed": false,
    "ExecuteTime": {
     "end_time": "2023-08-04T01:58:29.779975Z",
     "start_time": "2023-08-04T01:58:24.105028Z"
    }
   }
  },
  {
   "cell_type": "code",
   "execution_count": 8,
   "outputs": [
    {
     "name": "stdout",
     "output_type": "stream",
     "text": [
      "CPU times: user 35.2 ms, sys: 33.1 ms, total: 68.3 ms\n",
      "Wall time: 58.2 s\n"
     ]
    }
   ],
   "source": [
    "%%time\n",
    "df_training_data[\"nearest_alt_start_ss_dist\"] = df_training_data.parallel_apply(find_nearest_match_start_ss, args=(\"start\",), axis=1)"
   ],
   "metadata": {
    "collapsed": false,
    "ExecuteTime": {
     "end_time": "2023-08-04T02:03:05.821991Z",
     "start_time": "2023-08-04T01:59:29.379306Z"
    }
   }
  },
  {
   "cell_type": "code",
   "execution_count": 9,
   "outputs": [
    {
     "name": "stdout",
     "output_type": "stream",
     "text": [
      "CPU times: user 38.6 ms, sys: 30.3 ms, total: 68.9 ms\n",
      "Wall time: 56 s\n"
     ]
    }
   ],
   "source": [
    "%%time\n",
    "df_training_data[\"nearest_alt_end_ss_dist\"] = df_training_data.parallel_apply(find_nearest_match_start_ss, args=(\"end\",), axis=1)"
   ],
   "metadata": {
    "collapsed": false,
    "ExecuteTime": {
     "end_time": "2023-08-04T02:21:03.617066Z",
     "start_time": "2023-08-04T02:17:36.766637Z"
    }
   }
  },
  {
   "cell_type": "code",
   "execution_count": 10,
   "outputs": [
    {
     "data": {
      "text/plain": "         chr     start       end strand  nearest_alt_start_ss_dist  \\\n0       chr1     12227     12612      +                        170   \n1       chr1     12721     13220      +                         24   \n2       chr1     12057     12178      +                        170   \n3       chr1     12697     12974      +                         24   \n4       chr1     13052     13220      +                        322   \n...      ...       ...       ...    ...                        ...   \n519029  chrY  25464577  25465486      +                        487   \n519030  chrY  25513173  25513588      -                        777   \n519031  chrY  25513745  25516715      -                        572   \n519032  chrY  25525288  25527646      -                       1178   \n519033  chrY  57213357  57213855      -                        232   \n\n        nearest_alt_end_ss_dist  \n0                           362  \n1                           232  \n2                           434  \n3                           246  \n4                           232  \n...                         ...  \n519029                       25  \n519030                      464  \n519031                     2963  \n519032                        2  \n519033                       24  \n\n[519034 rows x 6 columns]",
      "text/html": "<div>\n<style scoped>\n    .dataframe tbody tr th:only-of-type {\n        vertical-align: middle;\n    }\n\n    .dataframe tbody tr th {\n        vertical-align: top;\n    }\n\n    .dataframe thead th {\n        text-align: right;\n    }\n</style>\n<table border=\"1\" class=\"dataframe\">\n  <thead>\n    <tr style=\"text-align: right;\">\n      <th></th>\n      <th>chr</th>\n      <th>start</th>\n      <th>end</th>\n      <th>strand</th>\n      <th>nearest_alt_start_ss_dist</th>\n      <th>nearest_alt_end_ss_dist</th>\n    </tr>\n  </thead>\n  <tbody>\n    <tr>\n      <th>0</th>\n      <td>chr1</td>\n      <td>12227</td>\n      <td>12612</td>\n      <td>+</td>\n      <td>170</td>\n      <td>362</td>\n    </tr>\n    <tr>\n      <th>1</th>\n      <td>chr1</td>\n      <td>12721</td>\n      <td>13220</td>\n      <td>+</td>\n      <td>24</td>\n      <td>232</td>\n    </tr>\n    <tr>\n      <th>2</th>\n      <td>chr1</td>\n      <td>12057</td>\n      <td>12178</td>\n      <td>+</td>\n      <td>170</td>\n      <td>434</td>\n    </tr>\n    <tr>\n      <th>3</th>\n      <td>chr1</td>\n      <td>12697</td>\n      <td>12974</td>\n      <td>+</td>\n      <td>24</td>\n      <td>246</td>\n    </tr>\n    <tr>\n      <th>4</th>\n      <td>chr1</td>\n      <td>13052</td>\n      <td>13220</td>\n      <td>+</td>\n      <td>322</td>\n      <td>232</td>\n    </tr>\n    <tr>\n      <th>...</th>\n      <td>...</td>\n      <td>...</td>\n      <td>...</td>\n      <td>...</td>\n      <td>...</td>\n      <td>...</td>\n    </tr>\n    <tr>\n      <th>519029</th>\n      <td>chrY</td>\n      <td>25464577</td>\n      <td>25465486</td>\n      <td>+</td>\n      <td>487</td>\n      <td>25</td>\n    </tr>\n    <tr>\n      <th>519030</th>\n      <td>chrY</td>\n      <td>25513173</td>\n      <td>25513588</td>\n      <td>-</td>\n      <td>777</td>\n      <td>464</td>\n    </tr>\n    <tr>\n      <th>519031</th>\n      <td>chrY</td>\n      <td>25513745</td>\n      <td>25516715</td>\n      <td>-</td>\n      <td>572</td>\n      <td>2963</td>\n    </tr>\n    <tr>\n      <th>519032</th>\n      <td>chrY</td>\n      <td>25525288</td>\n      <td>25527646</td>\n      <td>-</td>\n      <td>1178</td>\n      <td>2</td>\n    </tr>\n    <tr>\n      <th>519033</th>\n      <td>chrY</td>\n      <td>57213357</td>\n      <td>57213855</td>\n      <td>-</td>\n      <td>232</td>\n      <td>24</td>\n    </tr>\n  </tbody>\n</table>\n<p>519034 rows × 6 columns</p>\n</div>"
     },
     "execution_count": 10,
     "metadata": {},
     "output_type": "execute_result"
    }
   ],
   "source": [
    "df_training_data"
   ],
   "metadata": {
    "collapsed": false,
    "ExecuteTime": {
     "end_time": "2023-08-04T02:21:07.272975Z",
     "start_time": "2023-08-04T02:21:07.259404Z"
    }
   }
  },
  {
   "cell_type": "code",
   "execution_count": 12,
   "outputs": [],
   "source": [
    "df_training_data.to_csv(\"data/09_trainset_nearest_alt_ss_dist_feature\", sep=\"\\t\", index=False)"
   ],
   "metadata": {
    "collapsed": false,
    "ExecuteTime": {
     "end_time": "2023-08-04T02:22:06.019827Z",
     "start_time": "2023-08-04T02:22:04.997918Z"
    }
   }
  },
  {
   "cell_type": "code",
   "execution_count": 13,
   "outputs": [
    {
     "name": "stdout",
     "output_type": "stream",
     "text": [
      "9e40b0835c11b7b825e45e01f6a0daa675fa5f40cf5a991b1f266910bb5b5767bc0ae0f6f2eeab0e5d7b6496c9b5a733ca46c78ac63fadfea41177a857d5e11d  data/09_trainset_nearest_alt_ss_dist_feature\r\n"
     ]
    }
   ],
   "source": [
    "!sha512sum data/09_trainset_nearest_alt_ss_dist_feature"
   ],
   "metadata": {
    "collapsed": false
   }
  },
  {
   "cell_type": "code",
   "execution_count": null,
   "outputs": [],
   "source": [],
   "metadata": {
    "collapsed": false
   }
  }
 ],
 "metadata": {
  "kernelspec": {
   "display_name": "Python 3",
   "language": "python",
   "name": "python3"
  },
  "language_info": {
   "codemirror_mode": {
    "name": "ipython",
    "version": 2
   },
   "file_extension": ".py",
   "mimetype": "text/x-python",
   "name": "python",
   "nbconvert_exporter": "python",
   "pygments_lexer": "ipython2",
   "version": "2.7.6"
  }
 },
 "nbformat": 4,
 "nbformat_minor": 0
}
