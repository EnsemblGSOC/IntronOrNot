{
 "cells": [
  {
   "cell_type": "code",
   "execution_count": 4,
   "metadata": {
    "collapsed": true
   },
   "outputs": [],
   "source": [
    "# Modified from a script I got from ChatGPT\n",
    "# Import necessary libraries\n",
    "import pysam\n",
    "\n",
    "# Open the SAM file\n",
    "samfile = pysam.AlignmentFile('/home/rabbit/Documents/Projects/ML_gene_annot/minimap2/aln_sorted.bam', 'r')\n",
    "\n",
    "# Open output file for intron coordinates\n",
    "output_file = open('./introns.bed', 'w')\n",
    "\n",
    "# Iterate over each read in the SAM file\n",
    "for read in samfile.fetch():\n",
    "    # Skip unmapped reads\n",
    "    if read.is_unmapped:\n",
    "        continue\n",
    "\n",
    "    # Parse the CIGAR string to extract intron regions\n",
    "    cigar_tuples = read.cigartuples\n",
    "    introns = []\n",
    "    current_position = read.reference_start\n",
    "    for cigar in cigar_tuples:\n",
    "        cigar_type, cigar_length = cigar\n",
    "        if cigar_type == 3:  # 3 represents the CIGAR operation 'N' for intron\n",
    "            intron_start = current_position\n",
    "            intron_end = current_position + cigar_length\n",
    "            introns.append((intron_start, intron_end))\n",
    "        if cigar_type in [0, 2, 3, 7, 8]:  # Operations that consume reference positions\n",
    "            current_position += cigar_length\n",
    "\n",
    "    # Get the strand information from the SAM flag\n",
    "    if read.is_reverse:\n",
    "        strand = '-'\n",
    "    else:\n",
    "        strand = '+'\n",
    "\n",
    "    # Write intron coordinates with strand to the output file\n",
    "    for intron_start, intron_end in introns:\n",
    "        output_file.write(f\"{read.reference_name}\\t{intron_start}\\t{intron_end}\\t.\\t.\\t{strand}\\n\")\n",
    "\n",
    "# Close the files\n",
    "samfile.close()\n",
    "output_file.close()"
   ]
  },
  {
   "cell_type": "code",
   "execution_count": null,
   "outputs": [],
   "source": [],
   "metadata": {
    "collapsed": false
   }
  }
 ],
 "metadata": {
  "kernelspec": {
   "display_name": "Python 3",
   "language": "python",
   "name": "python3"
  },
  "language_info": {
   "codemirror_mode": {
    "name": "ipython",
    "version": 2
   },
   "file_extension": ".py",
   "mimetype": "text/x-python",
   "name": "python",
   "nbconvert_exporter": "python",
   "pygments_lexer": "ipython2",
   "version": "2.7.6"
  }
 },
 "nbformat": 4,
 "nbformat_minor": 0
}
