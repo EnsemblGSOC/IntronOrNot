{
 "cells": [
  {
   "cell_type": "code",
   "execution_count": 1,
   "metadata": {
    "collapsed": true
   },
   "outputs": [],
   "source": [
    "import pandas as pd\n",
    "import seaborn as sns\n",
    "import matplotlib.pyplot as plt"
   ]
  },
  {
   "cell_type": "code",
   "execution_count": null,
   "outputs": [],
   "source": [
    "df_trainset = pd.read_csv(\"data/17_trainset_featurised.tsv\", sep=\"\\t\")\n",
    "df_trainset"
   ],
   "metadata": {
    "collapsed": false
   }
  },
  {
   "cell_type": "code",
   "execution_count": null,
   "outputs": [],
   "source": [
    "# Create a heatmap of the correlation matrix\n",
    "plt.figure(figsize=(30, 15))\n",
    "sns.heatmap(df_trainset.corr(), annot=True, cmap='coolwarm', center=0)\n",
    "plt.title('Correlation Matrix Heatmap')\n",
    "plt.show()"
   ],
   "metadata": {
    "collapsed": false
   }
  },
  {
   "cell_type": "code",
   "execution_count": null,
   "outputs": [],
   "source": [
    "df_trainset[\"recount3_score\"].describe()"
   ],
   "metadata": {
    "collapsed": false
   }
  },
  {
   "cell_type": "code",
   "execution_count": null,
   "outputs": [],
   "source": [
    "plt.figure(figsize=(15, 7))\n",
    "\n",
    "sns.histplot(data=df_trainset, x='recount3_score', hue='class', element='step', stat='density', common_norm=False)\n",
    "plt.xscale('log')\n",
    "plt.title('Histogram of Recount3 Score Distribution Between Two Classes')\n",
    "plt.show()"
   ],
   "metadata": {
    "collapsed": false
   }
  },
  {
   "cell_type": "code",
   "execution_count": null,
   "outputs": [],
   "source": [
    "filtered_df_trainset = df_trainset[(df_trainset.splice_site == \"GT:AG\") | (df_trainset.splice_site == \"GC:AG\") | (df_trainset.splice_site == \"AT:AC\")]\n",
    "filtered_df_trainset"
   ],
   "metadata": {
    "collapsed": false
   }
  },
  {
   "cell_type": "code",
   "execution_count": null,
   "outputs": [],
   "source": [
    "\n",
    "total_count = {\"0\": len(filtered_df_trainset[filtered_df_trainset[\"class\"] == 0]), \"1\": len(filtered_df_trainset[filtered_df_trainset[\"class\"] == 1])}\n",
    "count_df = filtered_df_trainset.groupby([\"splice_site\", 'class']).size().reset_index(name='counts')\n",
    "count_df"
   ],
   "metadata": {
    "collapsed": false
   }
  },
  {
   "cell_type": "code",
   "execution_count": null,
   "outputs": [],
   "source": [
    "count_df.loc[count_df[\"class\"] == 0, 'percentage'] = (count_df['counts'] / total_count[\"0\"]) * 100\n",
    "count_df.loc[count_df[\"class\"] == 1, 'percentage'] = (count_df['counts'] / total_count[\"1\"]) * 100"
   ],
   "metadata": {
    "collapsed": false
   }
  },
  {
   "cell_type": "code",
   "execution_count": null,
   "outputs": [],
   "source": [
    "count_df"
   ],
   "metadata": {
    "collapsed": false
   }
  },
  {
   "cell_type": "code",
   "execution_count": null,
   "outputs": [],
   "source": [
    "# Create bar charts for start_ss\n",
    "sns.barplot(data=count_df, x='splice_site', y='percentage', hue='class')\n",
    "plt.title('Distribution of start_ss by class')\n",
    "plt.show()"
   ],
   "metadata": {
    "collapsed": false
   }
  },
  {
   "cell_type": "code",
   "execution_count": null,
   "outputs": [],
   "source": [],
   "metadata": {
    "collapsed": false
   }
  }
 ],
 "metadata": {
  "kernelspec": {
   "display_name": "Python 3",
   "language": "python",
   "name": "python3"
  },
  "language_info": {
   "codemirror_mode": {
    "name": "ipython",
    "version": 2
   },
   "file_extension": ".py",
   "mimetype": "text/x-python",
   "name": "python",
   "nbconvert_exporter": "python",
   "pygments_lexer": "ipython2",
   "version": "2.7.6"
  }
 },
 "nbformat": 4,
 "nbformat_minor": 0
}
