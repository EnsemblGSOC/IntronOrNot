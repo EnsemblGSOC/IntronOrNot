{
 "cells": [
  {
   "cell_type": "code",
   "execution_count": 1,
   "metadata": {
    "collapsed": true
   },
   "outputs": [],
   "source": [
    "import pandas as pd\n",
    "import numpy as np\n",
    "from pandarallel import pandarallel\n",
    "from tqdm import tqdm"
   ]
  },
  {
   "cell_type": "code",
   "execution_count": 24,
   "outputs": [
    {
     "data": {
      "text/plain": "['chr1',\n 'chr2',\n 'chr3',\n 'chr4',\n 'chr5',\n 'chr6',\n 'chr7',\n 'chr8',\n 'chr9',\n 'chr10',\n 'chr11',\n 'chr12',\n 'chr13',\n 'chr14',\n 'chr15',\n 'chr16',\n 'chr17',\n 'chr18',\n 'chr19',\n 'chr20',\n 'chr21',\n 'chr22',\n 'chrX',\n 'chrY',\n 'chr11_KI270721v1_random',\n 'chr14_KI270725v1_random',\n 'chr14_KI270726v1_random',\n 'chr15_KI270727v1_random',\n 'chr16_KI270728v1_random',\n 'chr1_KI270711v1_random',\n 'chr22_KI270731v1_random',\n 'chr22_KI270733v1_random',\n 'chr22_KI270734v1_random',\n 'chr1_KI270762v1_alt',\n 'chr1_KI270766v1_alt',\n 'chr1_GL383518v1_alt',\n 'chr1_GL383519v1_alt',\n 'chr1_GL383520v2_alt',\n 'chr1_KI270763v1_alt',\n 'chr1_KI270759v1_alt',\n 'chr1_KI270761v1_alt',\n 'chr2_KI270774v1_alt',\n 'chr2_KI270769v1_alt',\n 'chr2_GL582966v2_alt',\n 'chr2_GL383522v1_alt',\n 'chr2_KI270776v1_alt',\n 'chr2_KI270767v1_alt',\n 'chr3_JH636055v2_alt',\n 'chr3_KI270777v1_alt',\n 'chr3_KI270779v1_alt',\n 'chr3_KI270782v1_alt',\n 'chr4_GL000257v2_alt',\n 'chr4_GL383527v1_alt',\n 'chr5_KI270792v1_alt',\n 'chr5_KI270791v1_alt',\n 'chr5_GL339449v2_alt',\n 'chr5_KI270795v1_alt',\n 'chr6_GL000250v2_alt',\n 'chr6_KI270800v1_alt',\n 'chr6_KI270801v1_alt',\n 'chr6_KI270797v1_alt',\n 'chr6_KI270798v1_alt',\n 'chr7_KI270809v1_alt',\n 'chr7_KI270806v1_alt',\n 'chr7_GL383534v2_alt',\n 'chr7_KI270803v1_alt',\n 'chr7_KI270808v1_alt',\n 'chr8_KI270821v1_alt',\n 'chr8_KI270813v1_alt',\n 'chr8_KI270822v1_alt',\n 'chr8_KI270819v1_alt',\n 'chr8_KI270817v1_alt',\n 'chr8_KI270816v1_alt',\n 'chr8_KI270815v1_alt',\n 'chr9_GL383540v1_alt',\n 'chr9_KI270823v1_alt',\n 'chr10_GL383546v1_alt',\n 'chr10_KI270825v1_alt',\n 'chr11_KI270832v1_alt',\n 'chr11_KI270830v1_alt',\n 'chr11_KI270831v1_alt',\n 'chr11_KI270829v1_alt',\n 'chr11_JH159136v1_alt',\n 'chr11_JH159137v1_alt',\n 'chr12_GL877875v1_alt',\n 'chr12_GL877876v1_alt',\n 'chr12_KI270837v1_alt',\n 'chr12_KI270835v1_alt',\n 'chr12_GL383550v2_alt',\n 'chr12_GL383553v2_alt',\n 'chr12_KI270834v1_alt',\n 'chr12_KI270833v1_alt',\n 'chr13_KI270838v1_alt',\n 'chr14_KI270844v1_alt',\n 'chr14_KI270847v1_alt',\n 'chr14_KI270845v1_alt',\n 'chr14_KI270846v1_alt',\n 'chr15_KI270852v1_alt',\n 'chr15_KI270851v1_alt',\n 'chr15_KI270848v1_alt',\n 'chr15_GL383554v1_alt',\n 'chr15_KI270849v1_alt',\n 'chr15_GL383555v2_alt',\n 'chr15_KI270850v1_alt',\n 'chr16_KI270854v1_alt',\n 'chr16_KI270856v1_alt',\n 'chr16_KI270855v1_alt',\n 'chr16_KI270853v1_alt',\n 'chr16_GL383556v1_alt',\n 'chr16_GL383557v1_alt',\n 'chr17_GL383563v3_alt',\n 'chr17_KI270862v1_alt',\n 'chr17_KI270861v1_alt',\n 'chr17_KI270857v1_alt',\n 'chr17_JH159146v1_alt',\n 'chr17_JH159147v1_alt',\n 'chr17_GL383564v2_alt',\n 'chr17_GL000258v2_alt',\n 'chr17_KI270860v1_alt',\n 'chr18_GL383567v1_alt',\n 'chr18_GL383571v1_alt',\n 'chr18_GL383572v1_alt',\n 'chr18_KI270863v1_alt',\n 'chr19_KI270868v1_alt',\n 'chr19_KI270865v1_alt',\n 'chr19_GL383573v1_alt',\n 'chr19_GL383575v2_alt',\n 'chr19_GL383576v1_alt',\n 'chr19_GL383574v1_alt',\n 'chr19_KI270866v1_alt',\n 'chr19_KI270867v1_alt',\n 'chr19_GL949746v1_alt',\n 'chr20_KI270869v1_alt',\n 'chr20_KI270871v1_alt',\n 'chr20_KI270870v1_alt',\n 'chr21_KI270873v1_alt',\n 'chr21_GL383580v2_alt',\n 'chr21_GL383581v2_alt',\n 'chr21_KI270872v1_alt',\n 'chr22_KI270875v1_alt',\n 'chr22_KI270878v1_alt',\n 'chr22_KI270879v1_alt',\n 'chr22_KI270876v1_alt',\n 'chr22_KI270877v1_alt',\n 'chr22_GL383583v2_alt',\n 'chr22_GL383582v2_alt',\n 'chrX_KI270880v1_alt',\n 'chrX_KI270881v1_alt',\n 'chr19_KI270882v1_alt',\n 'chr19_KI270883v1_alt',\n 'chr19_KI270884v1_alt',\n 'chr19_KI270885v1_alt',\n 'chr19_KI270886v1_alt',\n 'chr19_KI270887v1_alt',\n 'chr19_KI270888v1_alt',\n 'chr19_KI270889v1_alt',\n 'chr19_KI270890v1_alt',\n 'chr19_KI270891v1_alt',\n 'chr1_KI270892v1_alt',\n 'chr2_KI270894v1_alt',\n 'chr2_KI270893v1_alt',\n 'chr3_KI270895v1_alt',\n 'chr4_KI270896v1_alt',\n 'chr5_KI270897v1_alt',\n 'chr5_KI270898v1_alt',\n 'chr6_GL000251v2_alt',\n 'chr8_KI270900v1_alt',\n 'chr11_KI270902v1_alt',\n 'chr11_KI270903v1_alt',\n 'chr12_KI270904v1_alt',\n 'chr15_KI270906v1_alt',\n 'chr15_KI270905v1_alt',\n 'chr17_KI270907v1_alt',\n 'chr17_KI270910v1_alt',\n 'chr17_KI270909v1_alt',\n 'chr17_KI270908v1_alt',\n 'chr18_KI270911v1_alt',\n 'chr19_GL949747v2_alt',\n 'chr22_KB663609v1_alt',\n 'chrX_KI270913v1_alt',\n 'chr19_KI270914v1_alt',\n 'chr19_KI270915v1_alt',\n 'chr19_KI270916v1_alt',\n 'chr19_KI270917v1_alt',\n 'chr19_KI270918v1_alt',\n 'chr19_KI270919v1_alt',\n 'chr19_KI270920v1_alt',\n 'chr19_KI270921v1_alt',\n 'chr19_KI270922v1_alt',\n 'chr19_KI270923v1_alt',\n 'chr3_KI270924v1_alt',\n 'chr6_GL000252v2_alt',\n 'chr8_KI270926v1_alt',\n 'chr11_KI270927v1_alt',\n 'chr19_GL949748v2_alt',\n 'chr22_KI270928v1_alt',\n 'chr19_KI270929v1_alt',\n 'chr19_KI270930v1_alt',\n 'chr19_KI270931v1_alt',\n 'chr19_KI270932v1_alt',\n 'chr19_KI270933v1_alt',\n 'chr19_GL000209v2_alt',\n 'chr3_KI270934v1_alt',\n 'chr6_GL000253v2_alt',\n 'chr19_GL949749v2_alt',\n 'chr3_KI270935v1_alt',\n 'chr6_GL000254v2_alt',\n 'chr19_GL949750v2_alt',\n 'chr3_KI270936v1_alt',\n 'chr6_GL000255v2_alt',\n 'chr19_GL949751v2_alt',\n 'chr3_KI270937v1_alt',\n 'chr6_GL000256v2_alt',\n 'chr19_GL949752v1_alt',\n 'chr6_KI270758v1_alt',\n 'chr19_GL949753v2_alt',\n 'chr19_KI270938v1_alt',\n 'chrUn_KI270442v1',\n 'chrUn_GL000195v1',\n 'chrUn_GL000219v1',\n 'chrUn_GL000213v1',\n 'chrUn_KI270744v1',\n 'chr1_KI270713v1_random',\n 'chr9_GL383539v1_alt']"
     },
     "execution_count": 24,
     "metadata": {},
     "output_type": "execute_result"
    }
   ],
   "source": [
    "list(df_training_data[\"chr\"].unique())"
   ],
   "metadata": {
    "collapsed": false
   }
  },
  {
   "cell_type": "code",
   "execution_count": 2,
   "outputs": [
    {
     "name": "stderr",
     "output_type": "stream",
     "text": [
      "100%|██████████| 24/24 [00:00<00:00, 76.15it/s]\n"
     ]
    },
    {
     "data": {
      "text/plain": "{'chr18':                             chr\n strand start    end            \n +      11595    13151     chr18\n                 15616     chr18\n        13354    15616     chr18\n        45235    45282     chr18\n        45556    45640     chr18\n ...                         ...\n -      80160606 80202709  chr18\n        80183150 80201963  chr18\n                 80202709  chr18\n        80202018 80202709  chr18\n        80202932 80247276  chr18\n \n [7267 rows x 1 columns],\n 'chr3':                              chr\n strand start     end            \n +      11799     14770      chr3\n                  20556      chr3\n                  23760      chr3\n        12659     14770      chr3\n                  20890      chr3\n ...                          ...\n -      198121656 198122027  chr3\n        198122079 198122536  chr3\n        198122645 198122729  chr3\n        198122984 198123051  chr3\n        198224435 198224520  chr3\n \n [24732 rows x 1 columns],\n 'chr16':                             chr\n strand start    end            \n +      11908    12293     chr16\n        12378    12662     chr16\n        12402    12901     chr16\n        12733    12905     chr16\n        13076    13155     chr16\n ...                         ...\n -      90086870 90091606  chr16\n        90105146 90105952  chr16\n        90110808 90125969  chr16\n        90116562 90125969  chr16\n        90126088 90167990  chr16\n \n [17899 rows x 1 columns],\n 'chr1':                              chr\n strand start     end            \n +      12057     12178      chr1\n        12227     12612      chr1\n        12697     12974      chr1\n        12721     13220      chr1\n        13052     13220      chr1\n ...                          ...\n -      248858321 248858511  chr1\n                  248858917  chr1\n                  248859014  chr1\n        248858385 248858917  chr1\n        248858419 248858917  chr1\n \n [38367 rows x 1 columns],\n 'chr9':                              chr\n strand start     end            \n +      12190     12290      chr9\n        12340     12725      chr9\n        12834     13087      chr9\n        13157     13337      chr9\n        13487     13565      chr9\n ...                          ...\n -      138178147 138178520  chr9\n        138178615 138179043  chr9\n        138179171 138179260  chr9\n        138179513 138179564  chr9\n        138200282 138203137  chr9\n \n [15209 rows x 1 columns],\n 'chr12':                               chr\n strand start     end             \n +      12358     12739      chr12\n        12824     13101      chr12\n        13201     13369      chr12\n        67436     99145      chr12\n        77712     99145      chr12\n ...                           ...\n -      133226438 133226935  chr12\n        133227152 133227823  chr12\n        133227947 133231516  chr12\n        133231644 133234107  chr12\n        133234378 133235806  chr12\n \n [22222 rows x 1 columns],\n 'chr7':                              chr\n strand start     end            \n +      12822     26964      chr7\n        24365     26964      chr7\n        77353     80129      chr7\n        150132    151810     chr7\n                  152440     chr7\n ...                          ...\n -      159103854 159109811  chr7\n        159109919 159142445  chr7\n        159117406 159142445  chr7\n        159142545 159144297  chr7\n                  159144720  chr7\n \n [19607 rows x 1 columns],\n 'chr10':                               chr\n strand start     end             \n +      44901     44951      chr10\n        45204     45308      chr10\n        45405     45833      chr10\n        45882     46244      chr10\n        46359     46841      chr10\n ...                           ...\n -      133658501 133658629  chr10\n        133658722 133659364  chr10\n        133659457 133659705  chr10\n        133659808 133660321  chr10\n        133660466 133660562  chr10\n \n [15978 rows x 1 columns],\n 'chr4':                              chr\n strand start     end            \n +      53491     59429      chr4\n                  85730      chr4\n        59556     60057      chr4\n                  85730      chr4\n        60153     67839      chr4\n ...                          ...\n -      190060613 190060929  chr4\n        190060984 190061088  chr4\n        190061242 190061339  chr4\n        190061450 190061639  chr4\n        190061782 190062812  chr4\n \n [16571 rows x 1 columns],\n 'chr19':                             chr\n strand start    end            \n +      72274    72584     chr19\n        99229    100275    chr19\n                 104501    chr19\n        100432   104501    chr19\n        107157   107472    chr19\n ...                         ...\n -      58571429 58573054  chr19\n                 58573372  chr19\n        58572719 58573054  chr19\n        58594125 58597705  chr19\n        58597816 58599099  chr19\n \n [21573 rows x 1 columns],\n 'chr8':                              chr\n strand start     end            \n +      72673     78904      chr8\n        72701     78904      chr8\n        232267    240823     chr8\n        232415    240823     chr8\n        232624    240301     chr8\n ...                          ...\n -      144999769 145002792  chr8\n                  145002816  chr8\n        145000159 145002816  chr8\n        145000492 145002816  chr8\n        145000538 145002816  chr8\n \n [15493 rows x 1 columns],\n 'chr20':                             chr\n strand start    end            \n +      87359    96004     chr20\n        87767    96004     chr20\n        142686   145414    chr20\n        145488   145578    chr20\n        157593   158773    chr20\n ...                         ...\n -      64076954 64079872  chr20\n        64083494 64083582  chr20\n        64083705 64083817  chr20\n        64100815 64100995  chr20\n        64106922 64107363  chr20\n \n [9524 rows x 1 columns],\n 'chr5':                              chr\n strand start     end            \n +      92276     113250     chr5\n        113448    139482     chr5\n        140716    143046     chr5\n        143256    143379     chr5\n        143503    144826     chr5\n ...                          ...\n -      181256859 181260000  chr5\n        181257054 181260000  chr5\n        181257228 181260000  chr5\n        181257494 181260000  chr5\n        181259906 181260000  chr5\n \n [18451 rows x 1 columns],\n 'chr11':                               chr\n strand start     end             \n +      125100    125171     chr11\n        129513    171597     chr11\n        171716    185901     chr11\n        193154    193711     chr11\n        193911    194417     chr11\n ...                           ...\n -      134999009 135003720  chr11\n        135003862 135007512  chr11\n        135061947 135074113  chr11\n        135073576 135074113  chr11\n        135074371 135075610  chr11\n \n [21966 rows x 1 columns],\n 'chr17':                             chr\n strand start    end            \n +      137645   138202    chr17\n        138402   138909    chr17\n        321610   322261    chr17\n        321631   322261    chr17\n        331717   331799    chr17\n ...                         ...\n -      83048785 83049035  chr17\n                 83051736  chr17\n        83221408 83226409  chr17\n                 83227620  chr17\n                 83227648  chr17\n \n [22446 rows x 1 columns],\n 'chr6':                              chr\n strand start     end            \n +      184371    184505     chr6\n        203438    203962     chr6\n        204413    205486     chr6\n        291700    304627     chr6\n        292560    304627     chr6\n ...                          ...\n -      170583747 170584054  chr6\n                  170584298  chr6\n        170584392 170584491  chr6\n        170736394 170737500  chr6\n        170737551 170737611  chr6\n \n [19287 rows x 1 columns],\n 'chr2':                              chr\n strand start     end            \n +      198615    199743     chr2\n                  200163     chr2\n        199901    200163     chr2\n        200230    202915     chr2\n                  209484     chr2\n ...                          ...\n -      242048283 242060296  chr2\n        242058884 242059119  chr2\n                  242060296  chr2\n        242059193 242060296  chr2\n        242060519 242084095  chr2\n \n [31055 rows x 1 columns],\n 'chrX':                              chr\n strand start     end            \n +      253846    254936     chrX\n        276394    281481     chrX\n                  284166     chrX\n        281121    281481     chrX\n        281256    281481     chrX\n ...                          ...\n -      156015500 156016661  chrX\n        156026605 156026683  chrX\n        156026837 156027005  chrX\n        156027082 156027359  chrX\n        156027444 156027829  chrX\n \n [12713 rows x 1 columns],\n 'chrY':                            chr\n strand start    end           \n +      253846   254936    chrY\n        276394   281481    chrY\n                 284166    chrY\n        281121   281481    chrY\n        281256   281481    chrY\n ...                        ...\n -      57202020 57203181  chrY\n        57213125 57213203  chrY\n        57213357 57213525  chrY\n        57213602 57213879  chrY\n        57213964 57214349  chrY\n \n [2257 rows x 1 columns],\n 'chr21':                             chr\n strand start    end            \n +      5011874  5012547   chr21\n        5012687  5014385   chr21\n        5014471  5016934   chr21\n        5022693  5025008   chr21\n        5025049  5026279   chr21\n ...                         ...\n -      46448599 46458326  chr21\n        46599503 46600281  chr21\n                 46602277  chr21\n        46600375 46602277  chr21\n        46602416 46605012  chr21\n \n [4975 rows x 1 columns],\n 'chr22':                             chr\n strand start    end            \n +      11066515 11067984  chr22\n        11124379 11124507  chr22\n        11474904 11475145  chr22\n        11475238 11477177  chr22\n        11827658 11832760  chr22\n ...                         ...\n -      50782351 50783044  chr22\n                 50783500  chr22\n        50783045 50783500  chr22\n        50783286 50783390  chr22\n                 50783500  chr22\n \n [8468 rows x 1 columns],\n 'chr13':                               chr\n strand start     end             \n +      18195411  18218998   chr13\n        18212062  18215310   chr13\n        18215357  18218998   chr13\n        18219057  18219525   chr13\n        18219084  18222496   chr13\n ...                           ...\n -      114214288 114215655  chr13\n        114265359 114268270  chr13\n        114276400 114277196  chr13\n        114329845 114330665  chr13\n        114330778 114333834  chr13\n \n [7769 rows x 1 columns],\n 'chr14':                               chr\n strand start     end             \n +      18333896  18338242   chr14\n        18333900  18337972   chr14\n        18338078  18338242   chr14\n        18338416  18340613   chr14\n        18340726  18341693   chr14\n ...                           ...\n -      106810746 106810849  chr14\n        106823999 106824102  chr14\n        106867955 106868047  chr14\n        106873057 106873140  chr14\n        106874887 106874971  chr14\n \n [13288 rows x 1 columns],\n 'chr15':                               chr\n strand start     end             \n +      19878668  19878830   chr15\n        19879004  19881200   chr15\n        19881307  19882276   chr15\n        19882439  19884978   chr15\n        19885043  19887723   chr15\n ...                           ...\n -      101977746 101977922  chr15\n                  101978245  chr15\n        101977992 101978269  chr15\n        101978354 101978739  chr15\n        101978372 101978739  chr15\n \n [15337 rows x 1 columns]}"
     },
     "execution_count": 2,
     "metadata": {},
     "output_type": "execute_result"
    }
   ],
   "source": [
    "df_gencode = pd.read_csv(\"data/1-rmv_dup_introns_gencode_v44.tsv\", sep=\"\\t\")\n",
    "df_gencode = df_gencode.set_index(['strand', 'start', 'end'])\n",
    "df_gencode = df_gencode.sort_index()\n",
    "\n",
    "chrom_uniques = list(df_gencode[\"chr\"].unique())  # we get the list of unique chromosome names\n",
    "dict_chr = {}\n",
    "# Splitting the dataframe chromosome groups separately into key(chromosome)-value(rows) in a dictionary\n",
    "for chrom in tqdm(chrom_uniques):\n",
    "\tdict_chr[chrom] = df_gencode[df_gencode.chr == chrom]\n",
    "\n",
    "dict_chr"
   ],
   "metadata": {
    "collapsed": false
   }
  },
  {
   "cell_type": "code",
   "execution_count": 17,
   "outputs": [],
   "source": [
    "# Sample query: Find the nearest entry of chr1 with strand '+' and nearest to 13579\n",
    "# query_chr = 'chr1'\n",
    "# query_strand = '-'\n",
    "# query_position = 14499\n",
    "\n",
    "def find_nearest_match_start_ss(row, site):\n",
    "    # print(row)\n",
    "    query_chr = row[\"chr\"]\n",
    "    query_strand = row[\"strand\"]\n",
    "    query_position = row[site]\n",
    "\n",
    "    # Filter the DataFrame for the relevant entries\n",
    "    filtered_df = dict_chr[query_chr].loc[(query_strand)].copy()\n",
    "\n",
    "\n",
    "    # Calculate the distance to the specified position\n",
    "    filtered_df['distance'] = np.abs(filtered_df.index.get_level_values(site) - query_position)\n",
    "\n",
    "    # Exclude exact match from the DataFrame (if it exists)\n",
    "    filtered_df = filtered_df[filtered_df['distance'] != 0]\n",
    "\n",
    "    # Find the row with the minimum distance (i.e., the nearest entry after excluding exact matches)\n",
    "    nearest_entry = filtered_df.loc[filtered_df['distance'].idxmin()]\n",
    "\n",
    "    return nearest_entry.distance"
   ],
   "metadata": {
    "collapsed": false
   }
  },
  {
   "cell_type": "code",
   "execution_count": 4,
   "outputs": [
    {
     "data": {
      "text/plain": "         chr     start       end strand\n0       chr1     12227     12612      +\n1       chr1     12721     13220      +\n2       chr1     12057     12178      +\n3       chr1     12697     12974      +\n4       chr1     13052     13220      +\n...      ...       ...       ...    ...\n527913  chrY  24883840  24886132      +\n527914  chrY  24888605  24889352      +\n527915  chrY  24889386  24901111      +\n527916  chrY  24833970  24840730      +\n527917  chrY  24871607  24895696      +\n\n[527918 rows x 4 columns]",
      "text/html": "<div>\n<style scoped>\n    .dataframe tbody tr th:only-of-type {\n        vertical-align: middle;\n    }\n\n    .dataframe tbody tr th {\n        vertical-align: top;\n    }\n\n    .dataframe thead th {\n        text-align: right;\n    }\n</style>\n<table border=\"1\" class=\"dataframe\">\n  <thead>\n    <tr style=\"text-align: right;\">\n      <th></th>\n      <th>chr</th>\n      <th>start</th>\n      <th>end</th>\n      <th>strand</th>\n    </tr>\n  </thead>\n  <tbody>\n    <tr>\n      <th>0</th>\n      <td>chr1</td>\n      <td>12227</td>\n      <td>12612</td>\n      <td>+</td>\n    </tr>\n    <tr>\n      <th>1</th>\n      <td>chr1</td>\n      <td>12721</td>\n      <td>13220</td>\n      <td>+</td>\n    </tr>\n    <tr>\n      <th>2</th>\n      <td>chr1</td>\n      <td>12057</td>\n      <td>12178</td>\n      <td>+</td>\n    </tr>\n    <tr>\n      <th>3</th>\n      <td>chr1</td>\n      <td>12697</td>\n      <td>12974</td>\n      <td>+</td>\n    </tr>\n    <tr>\n      <th>4</th>\n      <td>chr1</td>\n      <td>13052</td>\n      <td>13220</td>\n      <td>+</td>\n    </tr>\n    <tr>\n      <th>...</th>\n      <td>...</td>\n      <td>...</td>\n      <td>...</td>\n      <td>...</td>\n    </tr>\n    <tr>\n      <th>527913</th>\n      <td>chrY</td>\n      <td>24883840</td>\n      <td>24886132</td>\n      <td>+</td>\n    </tr>\n    <tr>\n      <th>527914</th>\n      <td>chrY</td>\n      <td>24888605</td>\n      <td>24889352</td>\n      <td>+</td>\n    </tr>\n    <tr>\n      <th>527915</th>\n      <td>chrY</td>\n      <td>24889386</td>\n      <td>24901111</td>\n      <td>+</td>\n    </tr>\n    <tr>\n      <th>527916</th>\n      <td>chrY</td>\n      <td>24833970</td>\n      <td>24840730</td>\n      <td>+</td>\n    </tr>\n    <tr>\n      <th>527917</th>\n      <td>chrY</td>\n      <td>24871607</td>\n      <td>24895696</td>\n      <td>+</td>\n    </tr>\n  </tbody>\n</table>\n<p>527918 rows × 4 columns</p>\n</div>"
     },
     "execution_count": 4,
     "metadata": {},
     "output_type": "execute_result"
    }
   ],
   "source": [
    "df_training_data = pd.read_csv(\"data/4.2_hg38_paired_introns.tsv\", sep=\"\\t\", usecols=[\"chr\",\"start\",\"end\",\"strand\"])\n",
    "df_training_data"
   ],
   "metadata": {
    "collapsed": false
   }
  },
  {
   "cell_type": "code",
   "execution_count": 5,
   "outputs": [
    {
     "name": "stdout",
     "output_type": "stream",
     "text": [
      "INFO: Pandarallel will run on 12 workers.\n",
      "INFO: Pandarallel will use Memory file system to transfer data between the main process and workers.\n"
     ]
    }
   ],
   "source": [
    "pandarallel.initialize()"
   ],
   "metadata": {
    "collapsed": false
   }
  },
  {
   "cell_type": "code",
   "execution_count": 20,
   "outputs": [
    {
     "ename": "KeyError",
     "evalue": "'chr6_GL000255v2_alt'",
     "output_type": "error",
     "traceback": [
      "\u001B[0;31m---------------------------------------------------------------------------\u001B[0m",
      "\u001B[0;31mRemoteTraceback\u001B[0m                           Traceback (most recent call last)",
      "\u001B[0;31mRemoteTraceback\u001B[0m: \n\"\"\"\nTraceback (most recent call last):\n  File \"/home/rabbit/anaconda3/envs/tabix_gsoc/lib/python3.10/multiprocessing/pool.py\", line 125, in worker\n    result = (True, func(*args, **kwds))\n  File \"/home/rabbit/anaconda3/envs/tabix_gsoc/lib/python3.10/multiprocessing/pool.py\", line 51, in starmapstar\n    return list(itertools.starmap(args[0], args[1]))\n  File \"/home/rabbit/anaconda3/envs/tabix_gsoc/lib/python3.10/site-packages/pandarallel/core.py\", line 95, in __call__\n    result = self.work_function(\n  File \"/home/rabbit/anaconda3/envs/tabix_gsoc/lib/python3.10/site-packages/pandarallel/data_types/dataframe.py\", line 32, in work\n    return data.apply(\n  File \"/home/rabbit/.local/lib/python3.10/site-packages/pandas/core/frame.py\", line 8845, in apply\n    return op.apply().__finalize__(self, method=\"apply\")\n  File \"/home/rabbit/.local/lib/python3.10/site-packages/pandas/core/apply.py\", line 733, in apply\n    return self.apply_standard()\n  File \"/home/rabbit/.local/lib/python3.10/site-packages/pandas/core/apply.py\", line 857, in apply_standard\n    results, res_index = self.apply_series_generator()\n  File \"/home/rabbit/.local/lib/python3.10/site-packages/pandas/core/apply.py\", line 873, in apply_series_generator\n    results[i] = self.f(v)\n  File \"/home/rabbit/.local/lib/python3.10/site-packages/pandas/core/apply.py\", line 138, in f\n    return func(x, *args, **kwargs)\n  File \"/tmp/ipykernel_24466/773539117.py\", line 13, in find_nearest_match_start_ss\n    filtered_df = dict_chr[query_chr].loc[(query_strand)].copy()\nKeyError: 'chr6_GL000255v2_alt'\n\"\"\"",
      "\nThe above exception was the direct cause of the following exception:\n",
      "\u001B[0;31mKeyError\u001B[0m                                  Traceback (most recent call last)",
      "File \u001B[0;32m<timed exec>:1\u001B[0m, in \u001B[0;36m<module>\u001B[0;34m\u001B[0m\n",
      "File \u001B[0;32m~/anaconda3/envs/tabix_gsoc/lib/python3.10/site-packages/pandarallel/core.py:333\u001B[0m, in \u001B[0;36mparallelize_with_memory_file_system.<locals>.closure\u001B[0;34m(data, user_defined_function, *user_defined_function_args, **user_defined_function_kwargs)\u001B[0m\n\u001B[1;32m    325\u001B[0m     \u001B[38;5;28;01mreturn\u001B[39;00m wrapped_reduce_function(\n\u001B[1;32m    326\u001B[0m         (Path(output_file\u001B[38;5;241m.\u001B[39mname) \u001B[38;5;28;01mfor\u001B[39;00m output_file \u001B[38;5;129;01min\u001B[39;00m output_files),\n\u001B[1;32m    327\u001B[0m         reduce_extra,\n\u001B[1;32m    328\u001B[0m     )\n\u001B[1;32m    329\u001B[0m \u001B[38;5;28;01mexcept\u001B[39;00m \u001B[38;5;167;01mEOFError\u001B[39;00m:\n\u001B[1;32m    330\u001B[0m     \u001B[38;5;66;03m# Loading the files failed, this most likely means that there\u001B[39;00m\n\u001B[1;32m    331\u001B[0m     \u001B[38;5;66;03m# was some error during processing and the files were never\u001B[39;00m\n\u001B[1;32m    332\u001B[0m     \u001B[38;5;66;03m# saved at all.\u001B[39;00m\n\u001B[0;32m--> 333\u001B[0m     \u001B[43mresults_promise\u001B[49m\u001B[38;5;241;43m.\u001B[39;49m\u001B[43mget\u001B[49m\u001B[43m(\u001B[49m\u001B[43m)\u001B[49m\n\u001B[1;32m    335\u001B[0m     \u001B[38;5;66;03m# If the above statement does not raise an exception, that\u001B[39;00m\n\u001B[1;32m    336\u001B[0m     \u001B[38;5;66;03m# means the multiprocessing went well and we want to re-raise\u001B[39;00m\n\u001B[1;32m    337\u001B[0m     \u001B[38;5;66;03m# the original EOFError.\u001B[39;00m\n\u001B[1;32m    338\u001B[0m     \u001B[38;5;28;01mraise\u001B[39;00m\n",
      "File \u001B[0;32m~/anaconda3/envs/tabix_gsoc/lib/python3.10/multiprocessing/pool.py:774\u001B[0m, in \u001B[0;36mApplyResult.get\u001B[0;34m(self, timeout)\u001B[0m\n\u001B[1;32m    772\u001B[0m     \u001B[38;5;28;01mreturn\u001B[39;00m \u001B[38;5;28mself\u001B[39m\u001B[38;5;241m.\u001B[39m_value\n\u001B[1;32m    773\u001B[0m \u001B[38;5;28;01melse\u001B[39;00m:\n\u001B[0;32m--> 774\u001B[0m     \u001B[38;5;28;01mraise\u001B[39;00m \u001B[38;5;28mself\u001B[39m\u001B[38;5;241m.\u001B[39m_value\n",
      "\u001B[0;31mKeyError\u001B[0m: 'chr6_GL000255v2_alt'"
     ]
    }
   ],
   "source": [
    "%%time\n",
    "df_training_data[\"nearest_start_ss_dist\"] = df_training_data.parallel_apply(find_nearest_match_start_ss, args=(\"start\",), axis=1)"
   ],
   "metadata": {
    "collapsed": false
   }
  },
  {
   "cell_type": "code",
   "execution_count": 19,
   "outputs": [
    {
     "name": "stdout",
     "output_type": "stream",
     "text": [
      "CPU times: user 29.4 ms, sys: 18.2 ms, total: 47.6 ms\n",
      "Wall time: 1.37 s\n"
     ]
    },
    {
     "data": {
      "text/plain": "       chr     start       end strand  start_site_nearest\n0     chr1     12227     12612      +                 170\n1     chr1     12721     13220      +                  24\n2     chr1     12057     12178      +                 170\n3     chr1     12697     12974      +                  24\n4     chr1     13052     13220      +                 322\n...    ...       ...       ...    ...                 ...\n9995  chr1  41848445  41848870      -                 644\n9996  chr1  41849089  41918412      -                 644\n9997  chr1  41918524  42035806      -               52909\n9998  chr1  41849089  41864577      -                 644\n9999  chr1  41864648  41865547      -                 967\n\n[10000 rows x 5 columns]",
      "text/html": "<div>\n<style scoped>\n    .dataframe tbody tr th:only-of-type {\n        vertical-align: middle;\n    }\n\n    .dataframe tbody tr th {\n        vertical-align: top;\n    }\n\n    .dataframe thead th {\n        text-align: right;\n    }\n</style>\n<table border=\"1\" class=\"dataframe\">\n  <thead>\n    <tr style=\"text-align: right;\">\n      <th></th>\n      <th>chr</th>\n      <th>start</th>\n      <th>end</th>\n      <th>strand</th>\n      <th>start_site_nearest</th>\n    </tr>\n  </thead>\n  <tbody>\n    <tr>\n      <th>0</th>\n      <td>chr1</td>\n      <td>12227</td>\n      <td>12612</td>\n      <td>+</td>\n      <td>170</td>\n    </tr>\n    <tr>\n      <th>1</th>\n      <td>chr1</td>\n      <td>12721</td>\n      <td>13220</td>\n      <td>+</td>\n      <td>24</td>\n    </tr>\n    <tr>\n      <th>2</th>\n      <td>chr1</td>\n      <td>12057</td>\n      <td>12178</td>\n      <td>+</td>\n      <td>170</td>\n    </tr>\n    <tr>\n      <th>3</th>\n      <td>chr1</td>\n      <td>12697</td>\n      <td>12974</td>\n      <td>+</td>\n      <td>24</td>\n    </tr>\n    <tr>\n      <th>4</th>\n      <td>chr1</td>\n      <td>13052</td>\n      <td>13220</td>\n      <td>+</td>\n      <td>322</td>\n    </tr>\n    <tr>\n      <th>...</th>\n      <td>...</td>\n      <td>...</td>\n      <td>...</td>\n      <td>...</td>\n      <td>...</td>\n    </tr>\n    <tr>\n      <th>9995</th>\n      <td>chr1</td>\n      <td>41848445</td>\n      <td>41848870</td>\n      <td>-</td>\n      <td>644</td>\n    </tr>\n    <tr>\n      <th>9996</th>\n      <td>chr1</td>\n      <td>41849089</td>\n      <td>41918412</td>\n      <td>-</td>\n      <td>644</td>\n    </tr>\n    <tr>\n      <th>9997</th>\n      <td>chr1</td>\n      <td>41918524</td>\n      <td>42035806</td>\n      <td>-</td>\n      <td>52909</td>\n    </tr>\n    <tr>\n      <th>9998</th>\n      <td>chr1</td>\n      <td>41849089</td>\n      <td>41864577</td>\n      <td>-</td>\n      <td>644</td>\n    </tr>\n    <tr>\n      <th>9999</th>\n      <td>chr1</td>\n      <td>41864648</td>\n      <td>41865547</td>\n      <td>-</td>\n      <td>967</td>\n    </tr>\n  </tbody>\n</table>\n<p>10000 rows × 5 columns</p>\n</div>"
     },
     "execution_count": 19,
     "metadata": {},
     "output_type": "execute_result"
    }
   ],
   "source": [
    "# %%time\n",
    "#\n",
    "# df_test = df_training_data.copy().head(10000)\n",
    "# df_test[\"start_site_nearest\"] = df_test.parallel_apply(find_nearest_match_start_ss, args=(\"start\",), axis=1)\n",
    "# df_test"
   ],
   "metadata": {
    "collapsed": false
   }
  },
  {
   "cell_type": "code",
   "execution_count": 21,
   "outputs": [
    {
     "data": {
      "text/plain": "         chr     start       end strand\n0       chr1     12227     12612      +\n1       chr1     12721     13220      +\n2       chr1     12057     12178      +\n3       chr1     12697     12974      +\n4       chr1     13052     13220      +\n...      ...       ...       ...    ...\n527913  chrY  24883840  24886132      +\n527914  chrY  24888605  24889352      +\n527915  chrY  24889386  24901111      +\n527916  chrY  24833970  24840730      +\n527917  chrY  24871607  24895696      +\n\n[527918 rows x 4 columns]",
      "text/html": "<div>\n<style scoped>\n    .dataframe tbody tr th:only-of-type {\n        vertical-align: middle;\n    }\n\n    .dataframe tbody tr th {\n        vertical-align: top;\n    }\n\n    .dataframe thead th {\n        text-align: right;\n    }\n</style>\n<table border=\"1\" class=\"dataframe\">\n  <thead>\n    <tr style=\"text-align: right;\">\n      <th></th>\n      <th>chr</th>\n      <th>start</th>\n      <th>end</th>\n      <th>strand</th>\n    </tr>\n  </thead>\n  <tbody>\n    <tr>\n      <th>0</th>\n      <td>chr1</td>\n      <td>12227</td>\n      <td>12612</td>\n      <td>+</td>\n    </tr>\n    <tr>\n      <th>1</th>\n      <td>chr1</td>\n      <td>12721</td>\n      <td>13220</td>\n      <td>+</td>\n    </tr>\n    <tr>\n      <th>2</th>\n      <td>chr1</td>\n      <td>12057</td>\n      <td>12178</td>\n      <td>+</td>\n    </tr>\n    <tr>\n      <th>3</th>\n      <td>chr1</td>\n      <td>12697</td>\n      <td>12974</td>\n      <td>+</td>\n    </tr>\n    <tr>\n      <th>4</th>\n      <td>chr1</td>\n      <td>13052</td>\n      <td>13220</td>\n      <td>+</td>\n    </tr>\n    <tr>\n      <th>...</th>\n      <td>...</td>\n      <td>...</td>\n      <td>...</td>\n      <td>...</td>\n    </tr>\n    <tr>\n      <th>527913</th>\n      <td>chrY</td>\n      <td>24883840</td>\n      <td>24886132</td>\n      <td>+</td>\n    </tr>\n    <tr>\n      <th>527914</th>\n      <td>chrY</td>\n      <td>24888605</td>\n      <td>24889352</td>\n      <td>+</td>\n    </tr>\n    <tr>\n      <th>527915</th>\n      <td>chrY</td>\n      <td>24889386</td>\n      <td>24901111</td>\n      <td>+</td>\n    </tr>\n    <tr>\n      <th>527916</th>\n      <td>chrY</td>\n      <td>24833970</td>\n      <td>24840730</td>\n      <td>+</td>\n    </tr>\n    <tr>\n      <th>527917</th>\n      <td>chrY</td>\n      <td>24871607</td>\n      <td>24895696</td>\n      <td>+</td>\n    </tr>\n  </tbody>\n</table>\n<p>527918 rows × 4 columns</p>\n</div>"
     },
     "execution_count": 21,
     "metadata": {},
     "output_type": "execute_result"
    }
   ],
   "source": [
    "df_training_data"
   ],
   "metadata": {
    "collapsed": false
   }
  },
  {
   "cell_type": "code",
   "execution_count": null,
   "outputs": [],
   "source": [],
   "metadata": {
    "collapsed": false
   }
  }
 ],
 "metadata": {
  "kernelspec": {
   "display_name": "Python 3",
   "language": "python",
   "name": "python3"
  },
  "language_info": {
   "codemirror_mode": {
    "name": "ipython",
    "version": 2
   },
   "file_extension": ".py",
   "mimetype": "text/x-python",
   "name": "python",
   "nbconvert_exporter": "python",
   "pygments_lexer": "ipython2",
   "version": "2.7.6"
  }
 },
 "nbformat": 4,
 "nbformat_minor": 0
}
