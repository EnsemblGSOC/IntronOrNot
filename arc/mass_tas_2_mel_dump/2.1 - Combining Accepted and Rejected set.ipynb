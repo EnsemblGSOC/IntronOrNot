{
 "cells": [
  {
   "cell_type": "code",
   "execution_count": 1,
   "metadata": {
    "collapsed": true
   },
   "outputs": [],
   "source": [
    "import pandas as pd"
   ]
  },
  {
   "cell_type": "code",
   "execution_count": 2,
   "outputs": [
    {
     "data": {
      "text/plain": "         chr     start       end strand  class\n0       chr1     12227     12612      +      1\n1       chr1     12721     13220      +      1\n2       chr1     12057     12178      +      1\n3       chr1     12697     12974      +      1\n4       chr1     13052     13220      +      1\n...      ...       ...       ...    ...    ...\n402449  chrY  57211569  57211760      +      1\n402450  chrY  57213125  57213203      -      1\n402451  chrY  57213357  57213525      -      1\n402452  chrY  57213602  57213879      -      1\n402453  chrY  57213964  57214349      -      1\n\n[402454 rows x 5 columns]",
      "text/html": "<div>\n<style scoped>\n    .dataframe tbody tr th:only-of-type {\n        vertical-align: middle;\n    }\n\n    .dataframe tbody tr th {\n        vertical-align: top;\n    }\n\n    .dataframe thead th {\n        text-align: right;\n    }\n</style>\n<table border=\"1\" class=\"dataframe\">\n  <thead>\n    <tr style=\"text-align: right;\">\n      <th></th>\n      <th>chr</th>\n      <th>start</th>\n      <th>end</th>\n      <th>strand</th>\n      <th>class</th>\n    </tr>\n  </thead>\n  <tbody>\n    <tr>\n      <th>0</th>\n      <td>chr1</td>\n      <td>12227</td>\n      <td>12612</td>\n      <td>+</td>\n      <td>1</td>\n    </tr>\n    <tr>\n      <th>1</th>\n      <td>chr1</td>\n      <td>12721</td>\n      <td>13220</td>\n      <td>+</td>\n      <td>1</td>\n    </tr>\n    <tr>\n      <th>2</th>\n      <td>chr1</td>\n      <td>12057</td>\n      <td>12178</td>\n      <td>+</td>\n      <td>1</td>\n    </tr>\n    <tr>\n      <th>3</th>\n      <td>chr1</td>\n      <td>12697</td>\n      <td>12974</td>\n      <td>+</td>\n      <td>1</td>\n    </tr>\n    <tr>\n      <th>4</th>\n      <td>chr1</td>\n      <td>13052</td>\n      <td>13220</td>\n      <td>+</td>\n      <td>1</td>\n    </tr>\n    <tr>\n      <th>...</th>\n      <td>...</td>\n      <td>...</td>\n      <td>...</td>\n      <td>...</td>\n      <td>...</td>\n    </tr>\n    <tr>\n      <th>402449</th>\n      <td>chrY</td>\n      <td>57211569</td>\n      <td>57211760</td>\n      <td>+</td>\n      <td>1</td>\n    </tr>\n    <tr>\n      <th>402450</th>\n      <td>chrY</td>\n      <td>57213125</td>\n      <td>57213203</td>\n      <td>-</td>\n      <td>1</td>\n    </tr>\n    <tr>\n      <th>402451</th>\n      <td>chrY</td>\n      <td>57213357</td>\n      <td>57213525</td>\n      <td>-</td>\n      <td>1</td>\n    </tr>\n    <tr>\n      <th>402452</th>\n      <td>chrY</td>\n      <td>57213602</td>\n      <td>57213879</td>\n      <td>-</td>\n      <td>1</td>\n    </tr>\n    <tr>\n      <th>402453</th>\n      <td>chrY</td>\n      <td>57213964</td>\n      <td>57214349</td>\n      <td>-</td>\n      <td>1</td>\n    </tr>\n  </tbody>\n</table>\n<p>402454 rows × 5 columns</p>\n</div>"
     },
     "execution_count": 2,
     "metadata": {},
     "output_type": "execute_result"
    }
   ],
   "source": [
    "df_accepted = pd.read_csv(\"data/1-rmv_dup_introns_gencode_v44.tsv\", sep=\"\\t\")\n",
    "df_accepted[\"class\"] = 1\n",
    "df_accepted"
   ],
   "metadata": {
    "collapsed": false
   }
  },
  {
   "cell_type": "code",
   "execution_count": 3,
   "outputs": [
    {
     "data": {
      "text/plain": "      chr      start        end strand  Duplicate_Count  class\n0    chr1     732207     739802      -                1      0\n1    chr1    6634784    6634990      -                1      0\n2    chr1    9036720    9088663      +                1      0\n3    chr1    9088686    9100902      +                1      0\n4    chr1   11277018   11277484      -                1      0\n..    ...        ...        ...    ...              ...    ...\n398  chrX  151403679  151404937      +                1      0\n399  chrX  151409210  151456968      +                1      0\n400  chrX  153906577  153906694      -                1      0\n401  chrX  153906409  153906520      -                1      0\n402  chrY   20579691   20582591      +                1      0\n\n[403 rows x 6 columns]",
      "text/html": "<div>\n<style scoped>\n    .dataframe tbody tr th:only-of-type {\n        vertical-align: middle;\n    }\n\n    .dataframe tbody tr th {\n        vertical-align: top;\n    }\n\n    .dataframe thead th {\n        text-align: right;\n    }\n</style>\n<table border=\"1\" class=\"dataframe\">\n  <thead>\n    <tr style=\"text-align: right;\">\n      <th></th>\n      <th>chr</th>\n      <th>start</th>\n      <th>end</th>\n      <th>strand</th>\n      <th>Duplicate_Count</th>\n      <th>class</th>\n    </tr>\n  </thead>\n  <tbody>\n    <tr>\n      <th>0</th>\n      <td>chr1</td>\n      <td>732207</td>\n      <td>739802</td>\n      <td>-</td>\n      <td>1</td>\n      <td>0</td>\n    </tr>\n    <tr>\n      <th>1</th>\n      <td>chr1</td>\n      <td>6634784</td>\n      <td>6634990</td>\n      <td>-</td>\n      <td>1</td>\n      <td>0</td>\n    </tr>\n    <tr>\n      <th>2</th>\n      <td>chr1</td>\n      <td>9036720</td>\n      <td>9088663</td>\n      <td>+</td>\n      <td>1</td>\n      <td>0</td>\n    </tr>\n    <tr>\n      <th>3</th>\n      <td>chr1</td>\n      <td>9088686</td>\n      <td>9100902</td>\n      <td>+</td>\n      <td>1</td>\n      <td>0</td>\n    </tr>\n    <tr>\n      <th>4</th>\n      <td>chr1</td>\n      <td>11277018</td>\n      <td>11277484</td>\n      <td>-</td>\n      <td>1</td>\n      <td>0</td>\n    </tr>\n    <tr>\n      <th>...</th>\n      <td>...</td>\n      <td>...</td>\n      <td>...</td>\n      <td>...</td>\n      <td>...</td>\n      <td>...</td>\n    </tr>\n    <tr>\n      <th>398</th>\n      <td>chrX</td>\n      <td>151403679</td>\n      <td>151404937</td>\n      <td>+</td>\n      <td>1</td>\n      <td>0</td>\n    </tr>\n    <tr>\n      <th>399</th>\n      <td>chrX</td>\n      <td>151409210</td>\n      <td>151456968</td>\n      <td>+</td>\n      <td>1</td>\n      <td>0</td>\n    </tr>\n    <tr>\n      <th>400</th>\n      <td>chrX</td>\n      <td>153906577</td>\n      <td>153906694</td>\n      <td>-</td>\n      <td>1</td>\n      <td>0</td>\n    </tr>\n    <tr>\n      <th>401</th>\n      <td>chrX</td>\n      <td>153906409</td>\n      <td>153906520</td>\n      <td>-</td>\n      <td>1</td>\n      <td>0</td>\n    </tr>\n    <tr>\n      <th>402</th>\n      <td>chrY</td>\n      <td>20579691</td>\n      <td>20582591</td>\n      <td>+</td>\n      <td>1</td>\n      <td>0</td>\n    </tr>\n  </tbody>\n</table>\n<p>403 rows × 6 columns</p>\n</div>"
     },
     "execution_count": 3,
     "metadata": {},
     "output_type": "execute_result"
    }
   ],
   "source": [
    "df_rejected = pd.read_csv(\"data/og_rejected_introns\", sep=\"\\t\")\n",
    "df_rejected[\"class\"] = 0\n",
    "df_rejected"
   ],
   "metadata": {
    "collapsed": false
   }
  },
  {
   "cell_type": "code",
   "execution_count": 4,
   "outputs": [
    {
     "data": {
      "text/plain": "      chr      start        end strand  class\n0    chr1      12227      12612      +      1\n1    chr1      12721      13220      +      1\n2    chr1      12057      12178      +      1\n3    chr1      12697      12974      +      1\n4    chr1      13052      13220      +      1\n..    ...        ...        ...    ...    ...\n398  chrX  151403679  151404937      +      0\n399  chrX  151409210  151456968      +      0\n400  chrX  153906577  153906694      -      0\n401  chrX  153906409  153906520      -      0\n402  chrY   20579691   20582591      +      0\n\n[402857 rows x 5 columns]",
      "text/html": "<div>\n<style scoped>\n    .dataframe tbody tr th:only-of-type {\n        vertical-align: middle;\n    }\n\n    .dataframe tbody tr th {\n        vertical-align: top;\n    }\n\n    .dataframe thead th {\n        text-align: right;\n    }\n</style>\n<table border=\"1\" class=\"dataframe\">\n  <thead>\n    <tr style=\"text-align: right;\">\n      <th></th>\n      <th>chr</th>\n      <th>start</th>\n      <th>end</th>\n      <th>strand</th>\n      <th>class</th>\n    </tr>\n  </thead>\n  <tbody>\n    <tr>\n      <th>0</th>\n      <td>chr1</td>\n      <td>12227</td>\n      <td>12612</td>\n      <td>+</td>\n      <td>1</td>\n    </tr>\n    <tr>\n      <th>1</th>\n      <td>chr1</td>\n      <td>12721</td>\n      <td>13220</td>\n      <td>+</td>\n      <td>1</td>\n    </tr>\n    <tr>\n      <th>2</th>\n      <td>chr1</td>\n      <td>12057</td>\n      <td>12178</td>\n      <td>+</td>\n      <td>1</td>\n    </tr>\n    <tr>\n      <th>3</th>\n      <td>chr1</td>\n      <td>12697</td>\n      <td>12974</td>\n      <td>+</td>\n      <td>1</td>\n    </tr>\n    <tr>\n      <th>4</th>\n      <td>chr1</td>\n      <td>13052</td>\n      <td>13220</td>\n      <td>+</td>\n      <td>1</td>\n    </tr>\n    <tr>\n      <th>...</th>\n      <td>...</td>\n      <td>...</td>\n      <td>...</td>\n      <td>...</td>\n      <td>...</td>\n    </tr>\n    <tr>\n      <th>398</th>\n      <td>chrX</td>\n      <td>151403679</td>\n      <td>151404937</td>\n      <td>+</td>\n      <td>0</td>\n    </tr>\n    <tr>\n      <th>399</th>\n      <td>chrX</td>\n      <td>151409210</td>\n      <td>151456968</td>\n      <td>+</td>\n      <td>0</td>\n    </tr>\n    <tr>\n      <th>400</th>\n      <td>chrX</td>\n      <td>153906577</td>\n      <td>153906694</td>\n      <td>-</td>\n      <td>0</td>\n    </tr>\n    <tr>\n      <th>401</th>\n      <td>chrX</td>\n      <td>153906409</td>\n      <td>153906520</td>\n      <td>-</td>\n      <td>0</td>\n    </tr>\n    <tr>\n      <th>402</th>\n      <td>chrY</td>\n      <td>20579691</td>\n      <td>20582591</td>\n      <td>+</td>\n      <td>0</td>\n    </tr>\n  </tbody>\n</table>\n<p>402857 rows × 5 columns</p>\n</div>"
     },
     "execution_count": 4,
     "metadata": {},
     "output_type": "execute_result"
    }
   ],
   "source": [
    "df_merged = pd.concat([df_accepted, df_rejected])\n",
    "df_merged = df_merged.drop(columns=\"Duplicate_Count\")\n",
    "df_merged"
   ],
   "metadata": {
    "collapsed": false
   }
  },
  {
   "cell_type": "markdown",
   "source": [
    "# Self-simulated false introns\n",
    "\n",
    "The set of simulated false introns is generated using:\n",
    "1. Simulate false read using pbsim3\n",
    "a. ONT single pass `pbsim --strategy templ --method qshmm --qshmm ~/Desktop/pbsim3-3.0.0/data/QSHMM-ONT.model --template ~/Desktop/pbsim3-3.0.0/gencode.v43.pc_transcripts.fa --prefix pbsim_rna_long --difference-ratio 39:24:36`\n",
    "b. ONT multi-pass `pbsim --strategy templ --method qshmm --qshmm ~/Desktop/pbsim3-3.0.0/data/QSHMM-ONT.model --template ~/Desktop/pbsim3-3.0.0/gencode.v43.pc_transcripts.fa --prefix pbsim_rna_long_mp_3 --difference-ratio 39:24:36 --pass-num 3`\n",
    "c. PacBio - Iso-seq `pbsim --strategy templ --method qshmm --qshmm ~/Desktop/pbsim3-3.0.0/data/QSHMM-RSII.model --template /home/rabbit/Desktop/pbsim3-3.0.0/gencode.v43.pc_transcripts.fa --prefix pbsim_rna_long_mp_3 --difference-ratio 22:45:33 --accuracy-mean 99.9 -pass-num 3`\n",
    "\n",
    "2. Read-alignment using Minimap2\n",
    "a. `minimap2 -ax splice -t 8 -uf -k14 ~/Documents/Projects/ML_gene_annot/release-109-hg38/hg38.fa ~/Documents/Projects/ML_gene_annot/pbsim3/pbsim_rna_long.fastq > aln.sam`\n",
    "b. `samtools fastq ~/Documents/Projects/ML_gene_annot/pbsim3/ONT_real/pbsim_rna_long_mp_3.sam > simulated_ont_3pass.fq`  then  `minimap2 -ax splice -t 8 -u f -k 14 ~/Documents/Projects/ML_gene_annot/release-109-hg38/hg38.fa ~/Documents/Projects/ML_gene_annot/minimap2/ONT_real/simulated_ont_3pass.fq > aln2.sam`\n",
    "c. `samtools fastq ~/Documents/Projects/ML_gene_annot/pbsim3/PacBio/pbsim_pacbio_rna_long_mp_3.sam > simulated_pacbio_3pass.fq` then `minimap2 -ax splice:hq -uf ~/Documents/Projects/ML_gene_annot/release-109-hg38/hg38.fa ~/Documents/Projects/ML_gene_annot/minimap2/PacBio/simulated_pacbio_3pass.fq > aln_pacbio.sam`\n",
    "\n",
    "3. Sorted and convert to BAM\n",
    "samtools sort ~/Documents/Projects/ML_gene_annot/minimap2/alignment.sam > aln_sorted.bam\n",
    "\n",
    "4. Indexing\n",
    "samtools index aln_sorted.bam\n",
    "\n",
    "5. Get introns.ipynb"
   ],
   "metadata": {
    "collapsed": false
   }
  },
  {
   "cell_type": "code",
   "execution_count": 7,
   "outputs": [
    {
     "data": {
      "text/plain": "          chr     start       end strand  class\n0        chr1     14829     14969      -      0\n1        chr1     15038     15795      -      0\n2        chr1     15947     16606      -      0\n3        chr1     16765     16853      -      0\n4        chr1     17055     17232      -      0\n...       ...       ...       ...    ...    ...\n1016591  chrY  57209733  57209821      +      0\n1016592  chrY  57209980  57210639      +      0\n1016593  chrY  57210792  57211557      +      0\n1016594  chrY  57211620  57211760      +      0\n1016600  chrY  57210792  57211551      +      0\n\n[314865 rows x 5 columns]",
      "text/html": "<div>\n<style scoped>\n    .dataframe tbody tr th:only-of-type {\n        vertical-align: middle;\n    }\n\n    .dataframe tbody tr th {\n        vertical-align: top;\n    }\n\n    .dataframe thead th {\n        text-align: right;\n    }\n</style>\n<table border=\"1\" class=\"dataframe\">\n  <thead>\n    <tr style=\"text-align: right;\">\n      <th></th>\n      <th>chr</th>\n      <th>start</th>\n      <th>end</th>\n      <th>strand</th>\n      <th>class</th>\n    </tr>\n  </thead>\n  <tbody>\n    <tr>\n      <th>0</th>\n      <td>chr1</td>\n      <td>14829</td>\n      <td>14969</td>\n      <td>-</td>\n      <td>0</td>\n    </tr>\n    <tr>\n      <th>1</th>\n      <td>chr1</td>\n      <td>15038</td>\n      <td>15795</td>\n      <td>-</td>\n      <td>0</td>\n    </tr>\n    <tr>\n      <th>2</th>\n      <td>chr1</td>\n      <td>15947</td>\n      <td>16606</td>\n      <td>-</td>\n      <td>0</td>\n    </tr>\n    <tr>\n      <th>3</th>\n      <td>chr1</td>\n      <td>16765</td>\n      <td>16853</td>\n      <td>-</td>\n      <td>0</td>\n    </tr>\n    <tr>\n      <th>4</th>\n      <td>chr1</td>\n      <td>17055</td>\n      <td>17232</td>\n      <td>-</td>\n      <td>0</td>\n    </tr>\n    <tr>\n      <th>...</th>\n      <td>...</td>\n      <td>...</td>\n      <td>...</td>\n      <td>...</td>\n      <td>...</td>\n    </tr>\n    <tr>\n      <th>1016591</th>\n      <td>chrY</td>\n      <td>57209733</td>\n      <td>57209821</td>\n      <td>+</td>\n      <td>0</td>\n    </tr>\n    <tr>\n      <th>1016592</th>\n      <td>chrY</td>\n      <td>57209980</td>\n      <td>57210639</td>\n      <td>+</td>\n      <td>0</td>\n    </tr>\n    <tr>\n      <th>1016593</th>\n      <td>chrY</td>\n      <td>57210792</td>\n      <td>57211557</td>\n      <td>+</td>\n      <td>0</td>\n    </tr>\n    <tr>\n      <th>1016594</th>\n      <td>chrY</td>\n      <td>57211620</td>\n      <td>57211760</td>\n      <td>+</td>\n      <td>0</td>\n    </tr>\n    <tr>\n      <th>1016600</th>\n      <td>chrY</td>\n      <td>57210792</td>\n      <td>57211551</td>\n      <td>+</td>\n      <td>0</td>\n    </tr>\n  </tbody>\n</table>\n<p>314865 rows × 5 columns</p>\n</div>"
     },
     "execution_count": 7,
     "metadata": {},
     "output_type": "execute_result"
    }
   ],
   "source": [
    "df_simulated_introns1 = pd.read_csv(\"./data/false_introns_simulated/introns.bed\", sep=\"\\t\", names=[\"chr\", \"start\", \"end\", \"features\", \"score\", \"strand\"])\n",
    "df_simulated_introns1 = df_simulated_introns1.loc[:, [\"chr\", \"start\", \"end\", \"strand\"]]\n",
    "df_simulated_introns1[\"class\"] = 0\n",
    "df_simulated_introns1 = df_simulated_introns1.drop_duplicates(subset=[\"chr\", \"start\", \"end\", \"strand\"])\n",
    "df_simulated_introns1"
   ],
   "metadata": {
    "collapsed": false
   }
  },
  {
   "cell_type": "code",
   "execution_count": 8,
   "outputs": [
    {
     "data": {
      "text/plain": "          chr     start       end strand  class\n0        chr1     14829     14969      -      0\n1        chr1     15038     15795      -      0\n2        chr1     15947     16606      -      0\n3        chr1     16765     16853      -      0\n4        chr1     17055     17232      -      0\n...       ...       ...       ...    ...    ...\n3050930  chrY  57209733  57209821      +      0\n3050931  chrY  57209980  57210639      +      0\n3050932  chrY  57210792  57211551      +      0\n3050933  chrY  57211620  57211760      +      0\n3050985  chrY  57210792  57211555      +      0\n\n[366456 rows x 5 columns]",
      "text/html": "<div>\n<style scoped>\n    .dataframe tbody tr th:only-of-type {\n        vertical-align: middle;\n    }\n\n    .dataframe tbody tr th {\n        vertical-align: top;\n    }\n\n    .dataframe thead th {\n        text-align: right;\n    }\n</style>\n<table border=\"1\" class=\"dataframe\">\n  <thead>\n    <tr style=\"text-align: right;\">\n      <th></th>\n      <th>chr</th>\n      <th>start</th>\n      <th>end</th>\n      <th>strand</th>\n      <th>class</th>\n    </tr>\n  </thead>\n  <tbody>\n    <tr>\n      <th>0</th>\n      <td>chr1</td>\n      <td>14829</td>\n      <td>14969</td>\n      <td>-</td>\n      <td>0</td>\n    </tr>\n    <tr>\n      <th>1</th>\n      <td>chr1</td>\n      <td>15038</td>\n      <td>15795</td>\n      <td>-</td>\n      <td>0</td>\n    </tr>\n    <tr>\n      <th>2</th>\n      <td>chr1</td>\n      <td>15947</td>\n      <td>16606</td>\n      <td>-</td>\n      <td>0</td>\n    </tr>\n    <tr>\n      <th>3</th>\n      <td>chr1</td>\n      <td>16765</td>\n      <td>16853</td>\n      <td>-</td>\n      <td>0</td>\n    </tr>\n    <tr>\n      <th>4</th>\n      <td>chr1</td>\n      <td>17055</td>\n      <td>17232</td>\n      <td>-</td>\n      <td>0</td>\n    </tr>\n    <tr>\n      <th>...</th>\n      <td>...</td>\n      <td>...</td>\n      <td>...</td>\n      <td>...</td>\n      <td>...</td>\n    </tr>\n    <tr>\n      <th>3050930</th>\n      <td>chrY</td>\n      <td>57209733</td>\n      <td>57209821</td>\n      <td>+</td>\n      <td>0</td>\n    </tr>\n    <tr>\n      <th>3050931</th>\n      <td>chrY</td>\n      <td>57209980</td>\n      <td>57210639</td>\n      <td>+</td>\n      <td>0</td>\n    </tr>\n    <tr>\n      <th>3050932</th>\n      <td>chrY</td>\n      <td>57210792</td>\n      <td>57211551</td>\n      <td>+</td>\n      <td>0</td>\n    </tr>\n    <tr>\n      <th>3050933</th>\n      <td>chrY</td>\n      <td>57211620</td>\n      <td>57211760</td>\n      <td>+</td>\n      <td>0</td>\n    </tr>\n    <tr>\n      <th>3050985</th>\n      <td>chrY</td>\n      <td>57210792</td>\n      <td>57211555</td>\n      <td>+</td>\n      <td>0</td>\n    </tr>\n  </tbody>\n</table>\n<p>366456 rows × 5 columns</p>\n</div>"
     },
     "execution_count": 8,
     "metadata": {},
     "output_type": "execute_result"
    }
   ],
   "source": [
    "df_simulated_introns2 = pd.read_csv(\"./data/false_introns_simulated/introns2.bed\", sep=\"\\t\", names=[\"chr\", \"start\", \"end\", \"features\", \"score\", \"strand\"])\n",
    "df_simulated_introns2 = df_simulated_introns2.loc[:, [\"chr\", \"start\", \"end\", \"strand\"]]\n",
    "df_simulated_introns2[\"class\"] = 0\n",
    "df_simulated_introns2 = df_simulated_introns2.drop_duplicates(subset=[\"chr\", \"start\", \"end\", \"strand\"])\n",
    "df_simulated_introns2"
   ],
   "metadata": {
    "collapsed": false
   }
  },
  {
   "cell_type": "code",
   "execution_count": 9,
   "outputs": [
    {
     "data": {
      "text/plain": "          chr     start       end strand  class\n0        chr1     14829     14969      -      0\n1        chr1     15038     15795      -      0\n2        chr1     15947     16606      -      0\n3        chr1     16765     16853      -      0\n4        chr1     17055     17232      -      0\n...       ...       ...       ...    ...    ...\n3160469  chrY  57209354  57209531      +      0\n3160470  chrY  57209733  57209821      +      0\n3160471  chrY  57209980  57210639      +      0\n3160472  chrY  57210792  57211551      +      0\n3160473  chrY  57211620  57211760      +      0\n\n[318508 rows x 5 columns]",
      "text/html": "<div>\n<style scoped>\n    .dataframe tbody tr th:only-of-type {\n        vertical-align: middle;\n    }\n\n    .dataframe tbody tr th {\n        vertical-align: top;\n    }\n\n    .dataframe thead th {\n        text-align: right;\n    }\n</style>\n<table border=\"1\" class=\"dataframe\">\n  <thead>\n    <tr style=\"text-align: right;\">\n      <th></th>\n      <th>chr</th>\n      <th>start</th>\n      <th>end</th>\n      <th>strand</th>\n      <th>class</th>\n    </tr>\n  </thead>\n  <tbody>\n    <tr>\n      <th>0</th>\n      <td>chr1</td>\n      <td>14829</td>\n      <td>14969</td>\n      <td>-</td>\n      <td>0</td>\n    </tr>\n    <tr>\n      <th>1</th>\n      <td>chr1</td>\n      <td>15038</td>\n      <td>15795</td>\n      <td>-</td>\n      <td>0</td>\n    </tr>\n    <tr>\n      <th>2</th>\n      <td>chr1</td>\n      <td>15947</td>\n      <td>16606</td>\n      <td>-</td>\n      <td>0</td>\n    </tr>\n    <tr>\n      <th>3</th>\n      <td>chr1</td>\n      <td>16765</td>\n      <td>16853</td>\n      <td>-</td>\n      <td>0</td>\n    </tr>\n    <tr>\n      <th>4</th>\n      <td>chr1</td>\n      <td>17055</td>\n      <td>17232</td>\n      <td>-</td>\n      <td>0</td>\n    </tr>\n    <tr>\n      <th>...</th>\n      <td>...</td>\n      <td>...</td>\n      <td>...</td>\n      <td>...</td>\n      <td>...</td>\n    </tr>\n    <tr>\n      <th>3160469</th>\n      <td>chrY</td>\n      <td>57209354</td>\n      <td>57209531</td>\n      <td>+</td>\n      <td>0</td>\n    </tr>\n    <tr>\n      <th>3160470</th>\n      <td>chrY</td>\n      <td>57209733</td>\n      <td>57209821</td>\n      <td>+</td>\n      <td>0</td>\n    </tr>\n    <tr>\n      <th>3160471</th>\n      <td>chrY</td>\n      <td>57209980</td>\n      <td>57210639</td>\n      <td>+</td>\n      <td>0</td>\n    </tr>\n    <tr>\n      <th>3160472</th>\n      <td>chrY</td>\n      <td>57210792</td>\n      <td>57211551</td>\n      <td>+</td>\n      <td>0</td>\n    </tr>\n    <tr>\n      <th>3160473</th>\n      <td>chrY</td>\n      <td>57211620</td>\n      <td>57211760</td>\n      <td>+</td>\n      <td>0</td>\n    </tr>\n  </tbody>\n</table>\n<p>318508 rows × 5 columns</p>\n</div>"
     },
     "execution_count": 9,
     "metadata": {},
     "output_type": "execute_result"
    }
   ],
   "source": [
    "df_simulated_introns3 = pd.read_csv(\"./data/false_introns_simulated/introns_pacbio_1.bed\", sep=\"\\t\", names=[\"chr\", \"start\", \"end\", \"features\", \"score\", \"strand\"])\n",
    "df_simulated_introns3 = df_simulated_introns3.loc[:, [\"chr\", \"start\", \"end\", \"strand\"]]\n",
    "df_simulated_introns3[\"class\"] = 0\n",
    "df_simulated_introns3 = df_simulated_introns3.drop_duplicates(subset=[\"chr\", \"start\", \"end\", \"strand\"])\n",
    "df_simulated_introns3"
   ],
   "metadata": {
    "collapsed": false
   }
  },
  {
   "cell_type": "code",
   "execution_count": 10,
   "outputs": [
    {
     "data": {
      "text/plain": "          chr     start       end strand  class\n0        chr1     14829     14969      -      0\n1        chr1     15038     15795      -      0\n2        chr1     15947     16606      -      0\n3        chr1     16765     16853      -      0\n4        chr1     17055     17232      -      0\n...       ...       ...       ...    ...    ...\n3138466  chrY  57209354  57209531      +      0\n3138467  chrY  57209733  57209821      +      0\n3138468  chrY  57209980  57210639      +      0\n3138469  chrY  57210792  57211551      +      0\n3138470  chrY  57211620  57211760      +      0\n\n[338898 rows x 5 columns]",
      "text/html": "<div>\n<style scoped>\n    .dataframe tbody tr th:only-of-type {\n        vertical-align: middle;\n    }\n\n    .dataframe tbody tr th {\n        vertical-align: top;\n    }\n\n    .dataframe thead th {\n        text-align: right;\n    }\n</style>\n<table border=\"1\" class=\"dataframe\">\n  <thead>\n    <tr style=\"text-align: right;\">\n      <th></th>\n      <th>chr</th>\n      <th>start</th>\n      <th>end</th>\n      <th>strand</th>\n      <th>class</th>\n    </tr>\n  </thead>\n  <tbody>\n    <tr>\n      <th>0</th>\n      <td>chr1</td>\n      <td>14829</td>\n      <td>14969</td>\n      <td>-</td>\n      <td>0</td>\n    </tr>\n    <tr>\n      <th>1</th>\n      <td>chr1</td>\n      <td>15038</td>\n      <td>15795</td>\n      <td>-</td>\n      <td>0</td>\n    </tr>\n    <tr>\n      <th>2</th>\n      <td>chr1</td>\n      <td>15947</td>\n      <td>16606</td>\n      <td>-</td>\n      <td>0</td>\n    </tr>\n    <tr>\n      <th>3</th>\n      <td>chr1</td>\n      <td>16765</td>\n      <td>16853</td>\n      <td>-</td>\n      <td>0</td>\n    </tr>\n    <tr>\n      <th>4</th>\n      <td>chr1</td>\n      <td>17055</td>\n      <td>17232</td>\n      <td>-</td>\n      <td>0</td>\n    </tr>\n    <tr>\n      <th>...</th>\n      <td>...</td>\n      <td>...</td>\n      <td>...</td>\n      <td>...</td>\n      <td>...</td>\n    </tr>\n    <tr>\n      <th>3138466</th>\n      <td>chrY</td>\n      <td>57209354</td>\n      <td>57209531</td>\n      <td>+</td>\n      <td>0</td>\n    </tr>\n    <tr>\n      <th>3138467</th>\n      <td>chrY</td>\n      <td>57209733</td>\n      <td>57209821</td>\n      <td>+</td>\n      <td>0</td>\n    </tr>\n    <tr>\n      <th>3138468</th>\n      <td>chrY</td>\n      <td>57209980</td>\n      <td>57210639</td>\n      <td>+</td>\n      <td>0</td>\n    </tr>\n    <tr>\n      <th>3138469</th>\n      <td>chrY</td>\n      <td>57210792</td>\n      <td>57211551</td>\n      <td>+</td>\n      <td>0</td>\n    </tr>\n    <tr>\n      <th>3138470</th>\n      <td>chrY</td>\n      <td>57211620</td>\n      <td>57211760</td>\n      <td>+</td>\n      <td>0</td>\n    </tr>\n  </tbody>\n</table>\n<p>338898 rows × 5 columns</p>\n</div>"
     },
     "execution_count": 10,
     "metadata": {},
     "output_type": "execute_result"
    }
   ],
   "source": [
    "df_simulated_introns4 = pd.read_csv(\"./data/false_introns_simulated/introns_pacbio_2.bed\", sep=\"\\t\", names=[\"chr\", \"start\", \"end\", \"features\", \"score\", \"strand\"])\n",
    "df_simulated_introns4 = df_simulated_introns4.loc[:, [\"chr\", \"start\", \"end\", \"strand\"]]\n",
    "df_simulated_introns4[\"class\"] = 0\n",
    "df_simulated_introns4 = df_simulated_introns4.drop_duplicates(subset=[\"chr\", \"start\", \"end\", \"strand\"])\n",
    "df_simulated_introns4"
   ],
   "metadata": {
    "collapsed": false
   }
  },
  {
   "cell_type": "code",
   "execution_count": 11,
   "outputs": [
    {
     "data": {
      "text/plain": "125464"
     },
     "execution_count": 11,
     "metadata": {},
     "output_type": "execute_result"
    }
   ],
   "source": [
    "merged_df = pd.concat([df_merged, df_simulated_introns2, df_simulated_introns3, df_simulated_introns4]).drop_duplicates(subset=[\"chr\", \"start\", \"end\", \"strand\"], keep='first')\n",
    "sum(merged_df[\"class\"] == 0)"
   ],
   "metadata": {
    "collapsed": false
   }
  },
  {
   "cell_type": "code",
   "execution_count": 12,
   "outputs": [],
   "source": [
    "assert(len(merged_df[merged_df.start == 15038]) == 1)\n",
    "assert(merged_df[merged_df.start == 15038].iloc[0][\"class\"] == 1)"
   ],
   "metadata": {
    "collapsed": false
   }
  },
  {
   "cell_type": "markdown",
   "source": [
    " Now we have 125,464 false introns!"
   ],
   "metadata": {
    "collapsed": false
   }
  },
  {
   "cell_type": "code",
   "execution_count": 13,
   "outputs": [
    {
     "data": {
      "text/plain": "          chr     start       end strand  class\n0        chr1     12227     12612      +      1\n1        chr1     12721     13220      +      1\n2        chr1     12057     12178      +      1\n3        chr1     12697     12974      +      1\n4        chr1     13052     13220      +      1\n...       ...       ...       ...    ...    ...\n3137656  chrY  24883840  24886132      +      0\n3137841  chrY  24888605  24889352      +      0\n3137842  chrY  24889386  24901111      +      0\n3137884  chrY  24833970  24840730      +      0\n3138034  chrY  24871607  24895696      +      0\n\n[527918 rows x 5 columns]",
      "text/html": "<div>\n<style scoped>\n    .dataframe tbody tr th:only-of-type {\n        vertical-align: middle;\n    }\n\n    .dataframe tbody tr th {\n        vertical-align: top;\n    }\n\n    .dataframe thead th {\n        text-align: right;\n    }\n</style>\n<table border=\"1\" class=\"dataframe\">\n  <thead>\n    <tr style=\"text-align: right;\">\n      <th></th>\n      <th>chr</th>\n      <th>start</th>\n      <th>end</th>\n      <th>strand</th>\n      <th>class</th>\n    </tr>\n  </thead>\n  <tbody>\n    <tr>\n      <th>0</th>\n      <td>chr1</td>\n      <td>12227</td>\n      <td>12612</td>\n      <td>+</td>\n      <td>1</td>\n    </tr>\n    <tr>\n      <th>1</th>\n      <td>chr1</td>\n      <td>12721</td>\n      <td>13220</td>\n      <td>+</td>\n      <td>1</td>\n    </tr>\n    <tr>\n      <th>2</th>\n      <td>chr1</td>\n      <td>12057</td>\n      <td>12178</td>\n      <td>+</td>\n      <td>1</td>\n    </tr>\n    <tr>\n      <th>3</th>\n      <td>chr1</td>\n      <td>12697</td>\n      <td>12974</td>\n      <td>+</td>\n      <td>1</td>\n    </tr>\n    <tr>\n      <th>4</th>\n      <td>chr1</td>\n      <td>13052</td>\n      <td>13220</td>\n      <td>+</td>\n      <td>1</td>\n    </tr>\n    <tr>\n      <th>...</th>\n      <td>...</td>\n      <td>...</td>\n      <td>...</td>\n      <td>...</td>\n      <td>...</td>\n    </tr>\n    <tr>\n      <th>3137656</th>\n      <td>chrY</td>\n      <td>24883840</td>\n      <td>24886132</td>\n      <td>+</td>\n      <td>0</td>\n    </tr>\n    <tr>\n      <th>3137841</th>\n      <td>chrY</td>\n      <td>24888605</td>\n      <td>24889352</td>\n      <td>+</td>\n      <td>0</td>\n    </tr>\n    <tr>\n      <th>3137842</th>\n      <td>chrY</td>\n      <td>24889386</td>\n      <td>24901111</td>\n      <td>+</td>\n      <td>0</td>\n    </tr>\n    <tr>\n      <th>3137884</th>\n      <td>chrY</td>\n      <td>24833970</td>\n      <td>24840730</td>\n      <td>+</td>\n      <td>0</td>\n    </tr>\n    <tr>\n      <th>3138034</th>\n      <td>chrY</td>\n      <td>24871607</td>\n      <td>24895696</td>\n      <td>+</td>\n      <td>0</td>\n    </tr>\n  </tbody>\n</table>\n<p>527918 rows × 5 columns</p>\n</div>"
     },
     "execution_count": 13,
     "metadata": {},
     "output_type": "execute_result"
    }
   ],
   "source": [
    "merged_df.to_csv(\"data/2.1-merged_train_set.tsv\", sep=\"\\t\", index=False)\n",
    "merged_df"
   ],
   "metadata": {
    "collapsed": false
   }
  },
  {
   "cell_type": "code",
   "execution_count": null,
   "outputs": [],
   "source": [],
   "metadata": {
    "collapsed": false
   }
  }
 ],
 "metadata": {
  "kernelspec": {
   "display_name": "Python 3",
   "language": "python",
   "name": "python3"
  },
  "language_info": {
   "codemirror_mode": {
    "name": "ipython",
    "version": 2
   },
   "file_extension": ".py",
   "mimetype": "text/x-python",
   "name": "python",
   "nbconvert_exporter": "python",
   "pygments_lexer": "ipython2",
   "version": "2.7.6"
  }
 },
 "nbformat": 4,
 "nbformat_minor": 0
}
