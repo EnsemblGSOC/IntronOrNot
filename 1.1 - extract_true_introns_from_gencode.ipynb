{
 "cells": [
  {
   "cell_type": "code",
   "execution_count": 1,
   "metadata": {
    "collapsed": true,
    "ExecuteTime": {
     "end_time": "2023-06-23T07:47:34.429851Z",
     "start_time": "2023-06-23T07:47:32.081124Z"
    }
   },
   "outputs": [],
   "source": [
    "import pandas as pd\n",
    "from BCBio.GFF import GFFExaminer\n",
    "from BCBio import GFF"
   ]
  },
  {
   "cell_type": "code",
   "execution_count": 2,
   "outputs": [],
   "source": [
    "in_file = \"./ftp-data/gencode.v44.annotation.gtf\"\n",
    "examiner = GFFExaminer()"
   ],
   "metadata": {
    "collapsed": false,
    "ExecuteTime": {
     "end_time": "2023-06-23T07:47:54.606312Z",
     "start_time": "2023-06-23T07:47:54.594616Z"
    }
   }
  },
  {
   "cell_type": "code",
   "execution_count": null,
   "outputs": [],
   "source": [
    "limit_info = {\"gff_type\": [\"transcript\", \"exon\"]}\n",
    "current_gene = None\n",
    "last_index = None\n",
    "introns_lst = []\n",
    "with open(in_file) as handle:\n",
    "    for rec in GFF.parse(handle, limit_info=limit_info, target_lines=100):\n",
    "        # print(rec.id)\n",
    "        for feature in rec.features:\n",
    "            # print(feature)\n",
    "            # pprint(vars(feature))\n",
    "            loop = feature.sub_features if feature.strand == 1 else feature.sub_features[::-1]\n",
    "            for sub_features in loop:\n",
    "                # print(\"sub_features:::\\n\", sub_features)\n",
    "                if sub_features.type == \"transcript\":\n",
    "                    intron_id = 0\n",
    "                    ene_id = feature.qualifiers.get(\"transcript_id\", [\"\"])[0]\n",
    "                    transcript_name = feature.qualifiers.get(\"transcript_name\", [\"\"])[0]\n",
    "                    # transcript_type = feature.qualifiers.get(\"transcript_type\", [\"\"])[0]\n",
    "                    transcript_start = feature.location.start.position\n",
    "                    transcript_end = feature.location.end.position\n",
    "                    last_index = transcript_start\n",
    "                    previous_exon_name = \"Start-\" + transcript_name\n",
    "\n",
    "                if sub_features.type == \"exon\":\n",
    "                    # pprint(vars(sub_features))\n",
    "                    if last_index != sub_features.location.start.position:\n",
    "                        intron_dict = {\n",
    "                            \"chr\": rec.id,\n",
    "                            \"gene_id\": sub_features.qualifiers[\"gene_id\"][0],\n",
    "                            \"transcript_id\": sub_features.qualifiers[\"transcript_id\"][0],\n",
    "                            \"intron_id\": intron_id,\n",
    "                            \"start\": last_index,\n",
    "                            \"end\": sub_features.location.start.position,\n",
    "                            \"strand\": \"+\" if feature.strand == 1 else \"-\",\n",
    "                            \"prev_exon_id\": previous_exon_name,\n",
    "                            \"next_exon_id\": sub_features.qualifiers[\"exon_id\"][0]\n",
    "                        }\n",
    "                        introns_lst.append(intron_dict)\n",
    "                        intron_id += 1\n",
    "\n",
    "                    last_index = sub_features.location.end.position\n",
    "                    previous_exon_name = sub_features.qualifiers[\"exon_id\"][0]\n",
    "\n",
    "introns_lst"
   ],
   "metadata": {
    "collapsed": false,
    "ExecuteTime": {
     "end_time": "2023-06-23T07:54:53.893951Z",
     "start_time": "2023-06-23T07:51:36.147560Z"
    },
    "pycharm": {
     "is_executing": true
    }
   }
  },
  {
   "cell_type": "code",
   "execution_count": null,
   "outputs": [],
   "source": [
    "df_introns = pd.DataFrame(introns_lst.copy())\n",
    "df_introns"
   ],
   "metadata": {
    "collapsed": false,
    "pycharm": {
     "is_executing": true
    }
   }
  },
  {
   "cell_type": "code",
   "execution_count": 9,
   "outputs": [],
   "source": [
    "# Export it to tsv for next steps\n",
    "df_introns.to_csv(\"data/All_introns_list.tsv\", sep=\"\\t\")"
   ],
   "metadata": {
    "collapsed": false
   }
  },
  {
   "cell_type": "code",
   "execution_count": 12,
   "outputs": [
    {
     "data": {
      "text/plain": "          chr            gene_id      transcript_id  intron_id     start  \\\n0        chr1  ENSG00000290825.1  ENST00000456328.2          0     12227   \n1        chr1  ENSG00000290825.1  ENST00000456328.2          1     12721   \n2        chr1  ENSG00000223972.6  ENST00000450305.2          0     12057   \n4        chr1  ENSG00000223972.6  ENST00000450305.2          2     12697   \n5        chr1  ENSG00000223972.6  ENST00000450305.2          3     13052   \n...       ...                ...                ...        ...       ...   \n1511319  chrY  ENSG00000292371.1  ENST00000711270.1          0     15955   \n1511320  chrY  ENSG00000292371.1  ENST00000711270.1          1  57213125   \n1511321  chrY  ENSG00000292371.1  ENST00000711270.1          2  57213357   \n1511322  chrY  ENSG00000292371.1  ENST00000711270.1          3  57213602   \n1511323  chrY  ENSG00000292371.1  ENST00000711270.1          4  57213964   \n\n              end strand       prev_exon_id       next_exon_id  \\\n0           12612      +  ENSE00002234944.1  ENSE00003582793.1   \n1           13220      +  ENSE00003582793.1  ENSE00002312635.1   \n2           12178      +  ENSE00001948541.1  ENSE00001671638.2   \n4           12974      +  ENSE00001758273.2  ENSE00001799933.2   \n5           13220      +  ENSE00001799933.2  ENSE00001746346.2   \n...           ...    ...                ...                ...   \n1511319  57212183      -             Start-  ENSE00004015127.1   \n1511320  57213203      -  ENSE00004015127.1  ENSE00004015126.1   \n1511321  57213525      -  ENSE00004015126.1  ENSE00004015125.1   \n1511322  57213879      -  ENSE00004015125.1  ENSE00004015124.1   \n1511323  57214349      -  ENSE00004015124.1  ENSE00004015123.1   \n\n         Duplicate_Count  \n0                      2  \n1                      1  \n2                      1  \n4                      1  \n5                      1  \n...                  ...  \n1511319                1  \n1511320                1  \n1511321                1  \n1511322                1  \n1511323                1  \n\n[517022 rows x 10 columns]",
      "text/html": "<div>\n<style scoped>\n    .dataframe tbody tr th:only-of-type {\n        vertical-align: middle;\n    }\n\n    .dataframe tbody tr th {\n        vertical-align: top;\n    }\n\n    .dataframe thead th {\n        text-align: right;\n    }\n</style>\n<table border=\"1\" class=\"dataframe\">\n  <thead>\n    <tr style=\"text-align: right;\">\n      <th></th>\n      <th>chr</th>\n      <th>gene_id</th>\n      <th>transcript_id</th>\n      <th>intron_id</th>\n      <th>start</th>\n      <th>end</th>\n      <th>strand</th>\n      <th>prev_exon_id</th>\n      <th>next_exon_id</th>\n      <th>Duplicate_Count</th>\n    </tr>\n  </thead>\n  <tbody>\n    <tr>\n      <th>0</th>\n      <td>chr1</td>\n      <td>ENSG00000290825.1</td>\n      <td>ENST00000456328.2</td>\n      <td>0</td>\n      <td>12227</td>\n      <td>12612</td>\n      <td>+</td>\n      <td>ENSE00002234944.1</td>\n      <td>ENSE00003582793.1</td>\n      <td>2</td>\n    </tr>\n    <tr>\n      <th>1</th>\n      <td>chr1</td>\n      <td>ENSG00000290825.1</td>\n      <td>ENST00000456328.2</td>\n      <td>1</td>\n      <td>12721</td>\n      <td>13220</td>\n      <td>+</td>\n      <td>ENSE00003582793.1</td>\n      <td>ENSE00002312635.1</td>\n      <td>1</td>\n    </tr>\n    <tr>\n      <th>2</th>\n      <td>chr1</td>\n      <td>ENSG00000223972.6</td>\n      <td>ENST00000450305.2</td>\n      <td>0</td>\n      <td>12057</td>\n      <td>12178</td>\n      <td>+</td>\n      <td>ENSE00001948541.1</td>\n      <td>ENSE00001671638.2</td>\n      <td>1</td>\n    </tr>\n    <tr>\n      <th>4</th>\n      <td>chr1</td>\n      <td>ENSG00000223972.6</td>\n      <td>ENST00000450305.2</td>\n      <td>2</td>\n      <td>12697</td>\n      <td>12974</td>\n      <td>+</td>\n      <td>ENSE00001758273.2</td>\n      <td>ENSE00001799933.2</td>\n      <td>1</td>\n    </tr>\n    <tr>\n      <th>5</th>\n      <td>chr1</td>\n      <td>ENSG00000223972.6</td>\n      <td>ENST00000450305.2</td>\n      <td>3</td>\n      <td>13052</td>\n      <td>13220</td>\n      <td>+</td>\n      <td>ENSE00001799933.2</td>\n      <td>ENSE00001746346.2</td>\n      <td>1</td>\n    </tr>\n    <tr>\n      <th>...</th>\n      <td>...</td>\n      <td>...</td>\n      <td>...</td>\n      <td>...</td>\n      <td>...</td>\n      <td>...</td>\n      <td>...</td>\n      <td>...</td>\n      <td>...</td>\n      <td>...</td>\n    </tr>\n    <tr>\n      <th>1511319</th>\n      <td>chrY</td>\n      <td>ENSG00000292371.1</td>\n      <td>ENST00000711270.1</td>\n      <td>0</td>\n      <td>15955</td>\n      <td>57212183</td>\n      <td>-</td>\n      <td>Start-</td>\n      <td>ENSE00004015127.1</td>\n      <td>1</td>\n    </tr>\n    <tr>\n      <th>1511320</th>\n      <td>chrY</td>\n      <td>ENSG00000292371.1</td>\n      <td>ENST00000711270.1</td>\n      <td>1</td>\n      <td>57213125</td>\n      <td>57213203</td>\n      <td>-</td>\n      <td>ENSE00004015127.1</td>\n      <td>ENSE00004015126.1</td>\n      <td>1</td>\n    </tr>\n    <tr>\n      <th>1511321</th>\n      <td>chrY</td>\n      <td>ENSG00000292371.1</td>\n      <td>ENST00000711270.1</td>\n      <td>2</td>\n      <td>57213357</td>\n      <td>57213525</td>\n      <td>-</td>\n      <td>ENSE00004015126.1</td>\n      <td>ENSE00004015125.1</td>\n      <td>1</td>\n    </tr>\n    <tr>\n      <th>1511322</th>\n      <td>chrY</td>\n      <td>ENSG00000292371.1</td>\n      <td>ENST00000711270.1</td>\n      <td>3</td>\n      <td>57213602</td>\n      <td>57213879</td>\n      <td>-</td>\n      <td>ENSE00004015125.1</td>\n      <td>ENSE00004015124.1</td>\n      <td>1</td>\n    </tr>\n    <tr>\n      <th>1511323</th>\n      <td>chrY</td>\n      <td>ENSG00000292371.1</td>\n      <td>ENST00000711270.1</td>\n      <td>4</td>\n      <td>57213964</td>\n      <td>57214349</td>\n      <td>-</td>\n      <td>ENSE00004015124.1</td>\n      <td>ENSE00004015123.1</td>\n      <td>1</td>\n    </tr>\n  </tbody>\n</table>\n<p>517022 rows × 10 columns</p>\n</div>"
     },
     "execution_count": 12,
     "metadata": {},
     "output_type": "execute_result"
    }
   ],
   "source": [
    "df_introns['Duplicate_Count'] = df_introns.groupby([\"chr\", \"start\", \"end\", \"strand\"]).transform('size')\n",
    "df_introns.drop_duplicates(subset=[\"chr\", \"start\", \"end\", \"strand\"], inplace=True)\n",
    "df_introns"
   ],
   "metadata": {
    "collapsed": false
   }
  },
  {
   "cell_type": "code",
   "execution_count": 13,
   "outputs": [
    {
     "data": {
      "text/plain": "          chr     start       end strand  Duplicate_Count\n0        chr1     12227     12612      +                2\n1        chr1     12721     13220      +                1\n2        chr1     12057     12178      +                1\n4        chr1     12697     12974      +                1\n5        chr1     13052     13220      +                1\n...       ...       ...       ...    ...              ...\n1511319  chrY     15955  57212183      -                1\n1511320  chrY  57213125  57213203      -                1\n1511321  chrY  57213357  57213525      -                1\n1511322  chrY  57213602  57213879      -                1\n1511323  chrY  57213964  57214349      -                1\n\n[517022 rows x 5 columns]",
      "text/html": "<div>\n<style scoped>\n    .dataframe tbody tr th:only-of-type {\n        vertical-align: middle;\n    }\n\n    .dataframe tbody tr th {\n        vertical-align: top;\n    }\n\n    .dataframe thead th {\n        text-align: right;\n    }\n</style>\n<table border=\"1\" class=\"dataframe\">\n  <thead>\n    <tr style=\"text-align: right;\">\n      <th></th>\n      <th>chr</th>\n      <th>start</th>\n      <th>end</th>\n      <th>strand</th>\n      <th>Duplicate_Count</th>\n    </tr>\n  </thead>\n  <tbody>\n    <tr>\n      <th>0</th>\n      <td>chr1</td>\n      <td>12227</td>\n      <td>12612</td>\n      <td>+</td>\n      <td>2</td>\n    </tr>\n    <tr>\n      <th>1</th>\n      <td>chr1</td>\n      <td>12721</td>\n      <td>13220</td>\n      <td>+</td>\n      <td>1</td>\n    </tr>\n    <tr>\n      <th>2</th>\n      <td>chr1</td>\n      <td>12057</td>\n      <td>12178</td>\n      <td>+</td>\n      <td>1</td>\n    </tr>\n    <tr>\n      <th>4</th>\n      <td>chr1</td>\n      <td>12697</td>\n      <td>12974</td>\n      <td>+</td>\n      <td>1</td>\n    </tr>\n    <tr>\n      <th>5</th>\n      <td>chr1</td>\n      <td>13052</td>\n      <td>13220</td>\n      <td>+</td>\n      <td>1</td>\n    </tr>\n    <tr>\n      <th>...</th>\n      <td>...</td>\n      <td>...</td>\n      <td>...</td>\n      <td>...</td>\n      <td>...</td>\n    </tr>\n    <tr>\n      <th>1511319</th>\n      <td>chrY</td>\n      <td>15955</td>\n      <td>57212183</td>\n      <td>-</td>\n      <td>1</td>\n    </tr>\n    <tr>\n      <th>1511320</th>\n      <td>chrY</td>\n      <td>57213125</td>\n      <td>57213203</td>\n      <td>-</td>\n      <td>1</td>\n    </tr>\n    <tr>\n      <th>1511321</th>\n      <td>chrY</td>\n      <td>57213357</td>\n      <td>57213525</td>\n      <td>-</td>\n      <td>1</td>\n    </tr>\n    <tr>\n      <th>1511322</th>\n      <td>chrY</td>\n      <td>57213602</td>\n      <td>57213879</td>\n      <td>-</td>\n      <td>1</td>\n    </tr>\n    <tr>\n      <th>1511323</th>\n      <td>chrY</td>\n      <td>57213964</td>\n      <td>57214349</td>\n      <td>-</td>\n      <td>1</td>\n    </tr>\n  </tbody>\n</table>\n<p>517022 rows × 5 columns</p>\n</div>"
     },
     "execution_count": 13,
     "metadata": {},
     "output_type": "execute_result"
    }
   ],
   "source": [
    "df_introns = df_introns.drop(columns=[\"gene_id\", \"transcript_id\", \"intron_id\", \"prev_exon_id\", \"next_exon_id\"])\n",
    "df_introns"
   ],
   "metadata": {
    "collapsed": false
   }
  },
  {
   "cell_type": "code",
   "execution_count": 14,
   "outputs": [],
   "source": [
    "df_introns.to_csv(\"data/1-rmv_dup_introns_gencode_v44.tsv\", sep=\"\\t\")"
   ],
   "metadata": {
    "collapsed": false
   }
  },
  {
   "cell_type": "markdown",
   "source": [
    "# Experimental code:"
   ],
   "metadata": {
    "collapsed": false
   }
  },
  {
   "cell_type": "code",
   "execution_count": null,
   "outputs": [],
   "source": [
    "df_introns = pd.DataFrame(introns_lst.copy())\n",
    "df_introns"
   ],
   "metadata": {
    "collapsed": false,
    "ExecuteTime": {
     "end_time": "2023-06-23T07:58:25.478513Z",
     "start_time": "2023-06-23T07:58:20.605564Z"
    }
   }
  },
  {
   "cell_type": "code",
   "execution_count": null,
   "outputs": [],
   "source": [
    "# df_introns = pd.DataFrame(introns_lst.copy())\n",
    "df_introns.to_csv(\"data/gencode_v44_introns.csv\", index=False)\n",
    "df_introns"
   ],
   "metadata": {
    "collapsed": false,
    "ExecuteTime": {
     "end_time": "2023-06-23T08:00:44.775976Z",
     "start_time": "2023-06-23T08:00:35.642960Z"
    }
   }
  },
  {
   "cell_type": "code",
   "execution_count": null,
   "outputs": [],
   "source": [
    "df_introns_1_based = df_introns.copy()\n",
    "df_introns_1_based.intron_start = df_introns_1_based.intron_start + 1\n",
    "df_introns_1_based"
   ],
   "metadata": {
    "collapsed": false
   }
  },
  {
   "cell_type": "code",
   "execution_count": null,
   "outputs": [],
   "source": [
    "df_introns_1_based[df_introns_1_based.intron_start == 962048]"
   ],
   "metadata": {
    "collapsed": false
   }
  },
  {
   "cell_type": "code",
   "execution_count": null,
   "outputs": [],
   "source": [
    "df_introns_1_based[df_introns_1_based.intron_start == 155357520]"
   ],
   "metadata": {
    "collapsed": false
   }
  },
  {
   "cell_type": "code",
   "execution_count": null,
   "outputs": [],
   "source": [
    "df_introns_1_based[df_introns_1_based.intron_start == 155759144]"
   ],
   "metadata": {
    "collapsed": false
   }
  }
 ],
 "metadata": {
  "kernelspec": {
   "display_name": "Python 3",
   "language": "python",
   "name": "python3"
  },
  "language_info": {
   "codemirror_mode": {
    "name": "ipython",
    "version": 2
   },
   "file_extension": ".py",
   "mimetype": "text/x-python",
   "name": "python",
   "nbconvert_exporter": "python",
   "pygments_lexer": "ipython2",
   "version": "2.7.6"
  }
 },
 "nbformat": 4,
 "nbformat_minor": 0
}
